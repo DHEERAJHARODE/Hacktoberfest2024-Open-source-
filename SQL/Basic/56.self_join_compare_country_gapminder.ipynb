{
    "metadata": {
        "kernelspec": {
            "name": "SQL",
            "display_name": "SQL",
            "language": "sql"
        },
        "language_info": {
            "name": "sql",
            "version": ""
        }
    },
    "nbformat_minor": 2,
    "nbformat": 4,
    "cells": [
        {
            "cell_type": "markdown",
            "source": [
                "# SELF JOIN\n",
                "## Server: PostgreSQL\n",
                "## Database: Saturn\n",
                "## Table: gapminder\n",
                "## Author: Prasert Kanawattanachai\n",
                "## YouTube: https://youtu.be/PLpOPD5I45o"
            ],
            "metadata": {
                "azdata_cell_guid": "c7756280-fe09-44d4-ada2-e4936f9b792b"
            }
        },
        {
            "cell_type": "code",
            "source": [
                "select * from gapminder limit 24;"
            ],
            "metadata": {
                "azdata_cell_guid": "edab0e76-786f-40c2-a7f5-44f30293f76b"
            },
            "outputs": [
                {
                    "output_type": "display_data",
                    "data": {
                        "text/html": "(24 row(s) affected)"
                    },
                    "metadata": {}
                },
                {
                    "output_type": "display_data",
                    "data": {
                        "text/html": "Total execution time: 00:00:00.014"
                    },
                    "metadata": {}
                },
                {
                    "output_type": "execute_result",
                    "metadata": {},
                    "execution_count": 1,
                    "data": {
                        "application/vnd.dataresource+json": {
                            "schema": {
                                "fields": [
                                    {
                                        "name": "country"
                                    },
                                    {
                                        "name": "year"
                                    },
                                    {
                                        "name": "continent"
                                    },
                                    {
                                        "name": "lifeexp"
                                    },
                                    {
                                        "name": "pop"
                                    },
                                    {
                                        "name": "gdppercap"
                                    }
                                ]
                            },
                            "data": [
                                {
                                    "0": "Afghanistan",
                                    "1": "1952",
                                    "2": "Asia",
                                    "3": "28.801",
                                    "4": "8425333",
                                    "5": "779.4453145"
                                },
                                {
                                    "0": "Afghanistan",
                                    "1": "1957",
                                    "2": "Asia",
                                    "3": "30.332",
                                    "4": "9240934",
                                    "5": "820.8530296"
                                },
                                {
                                    "0": "Afghanistan",
                                    "1": "1962",
                                    "2": "Asia",
                                    "3": "31.997",
                                    "4": "10267083",
                                    "5": "853.1007099999998"
                                },
                                {
                                    "0": "Afghanistan",
                                    "1": "1967",
                                    "2": "Asia",
                                    "3": "34.02",
                                    "4": "11537966",
                                    "5": "836.1971382"
                                },
                                {
                                    "0": "Afghanistan",
                                    "1": "1972",
                                    "2": "Asia",
                                    "3": "36.088",
                                    "4": "13079460",
                                    "5": "739.9811057999998"
                                },
                                {
                                    "0": "Afghanistan",
                                    "1": "1977",
                                    "2": "Asia",
                                    "3": "38.438",
                                    "4": "14880372",
                                    "5": "786.11336"
                                },
                                {
                                    "0": "Afghanistan",
                                    "1": "1982",
                                    "2": "Asia",
                                    "3": "39.854",
                                    "4": "12881816",
                                    "5": "978.0114388"
                                },
                                {
                                    "0": "Afghanistan",
                                    "1": "1987",
                                    "2": "Asia",
                                    "3": "40.822",
                                    "4": "13867957",
                                    "5": "852.3959447999998"
                                },
                                {
                                    "0": "Afghanistan",
                                    "1": "1992",
                                    "2": "Asia",
                                    "3": "41.674",
                                    "4": "16317921",
                                    "5": "649.3413952000002"
                                },
                                {
                                    "0": "Afghanistan",
                                    "1": "1997",
                                    "2": "Asia",
                                    "3": "41.76300000000001",
                                    "4": "22227415",
                                    "5": "635.341351"
                                },
                                {
                                    "0": "Afghanistan",
                                    "1": "2002",
                                    "2": "Asia",
                                    "3": "42.129",
                                    "4": "25268405",
                                    "5": "726.7340548"
                                },
                                {
                                    "0": "Afghanistan",
                                    "1": "2007",
                                    "2": "Asia",
                                    "3": "43.828",
                                    "4": "31889923",
                                    "5": "974.5803384"
                                },
                                {
                                    "0": "Albania",
                                    "1": "1952",
                                    "2": "Europe",
                                    "3": "55.23",
                                    "4": "1282697",
                                    "5": "1601.056136"
                                },
                                {
                                    "0": "Albania",
                                    "1": "1957",
                                    "2": "Europe",
                                    "3": "59.28",
                                    "4": "1476505",
                                    "5": "1942.284244"
                                },
                                {
                                    "0": "Albania",
                                    "1": "1962",
                                    "2": "Europe",
                                    "3": "64.82",
                                    "4": "1728137",
                                    "5": "2312.888958"
                                },
                                {
                                    "0": "Albania",
                                    "1": "1967",
                                    "2": "Europe",
                                    "3": "66.22",
                                    "4": "1984060",
                                    "5": "2760.196931"
                                },
                                {
                                    "0": "Albania",
                                    "1": "1972",
                                    "2": "Europe",
                                    "3": "67.69",
                                    "4": "2263554",
                                    "5": "3313.422188"
                                },
                                {
                                    "0": "Albania",
                                    "1": "1977",
                                    "2": "Europe",
                                    "3": "68.93",
                                    "4": "2509048",
                                    "5": "3533.003910000001"
                                },
                                {
                                    "0": "Albania",
                                    "1": "1982",
                                    "2": "Europe",
                                    "3": "70.42",
                                    "4": "2780097",
                                    "5": "3630.880722"
                                },
                                {
                                    "0": "Albania",
                                    "1": "1987",
                                    "2": "Europe",
                                    "3": "72.0",
                                    "4": "3075321",
                                    "5": "3738.932735"
                                },
                                {
                                    "0": "Albania",
                                    "1": "1992",
                                    "2": "Europe",
                                    "3": "71.581",
                                    "4": "3326498",
                                    "5": "2497.437901"
                                },
                                {
                                    "0": "Albania",
                                    "1": "1997",
                                    "2": "Europe",
                                    "3": "72.95",
                                    "4": "3428038",
                                    "5": "3193.054604"
                                },
                                {
                                    "0": "Albania",
                                    "1": "2002",
                                    "2": "Europe",
                                    "3": "75.65100000000002",
                                    "4": "3508512",
                                    "5": "4604.211737"
                                },
                                {
                                    "0": "Albania",
                                    "1": "2007",
                                    "2": "Europe",
                                    "3": "76.423",
                                    "4": "3600523",
                                    "5": "5937.029525999998"
                                }
                            ]
                        },
                        "text/html": [
                            "<table>",
                            "<tr><th>country</th><th>year</th><th>continent</th><th>lifeexp</th><th>pop</th><th>gdppercap</th></tr>",
                            "<tr><td>Afghanistan</td><td>1952</td><td>Asia</td><td>28.801</td><td>8425333</td><td>779.4453145</td></tr>",
                            "<tr><td>Afghanistan</td><td>1957</td><td>Asia</td><td>30.332</td><td>9240934</td><td>820.8530296</td></tr>",
                            "<tr><td>Afghanistan</td><td>1962</td><td>Asia</td><td>31.997</td><td>10267083</td><td>853.1007099999998</td></tr>",
                            "<tr><td>Afghanistan</td><td>1967</td><td>Asia</td><td>34.02</td><td>11537966</td><td>836.1971382</td></tr>",
                            "<tr><td>Afghanistan</td><td>1972</td><td>Asia</td><td>36.088</td><td>13079460</td><td>739.9811057999998</td></tr>",
                            "<tr><td>Afghanistan</td><td>1977</td><td>Asia</td><td>38.438</td><td>14880372</td><td>786.11336</td></tr>",
                            "<tr><td>Afghanistan</td><td>1982</td><td>Asia</td><td>39.854</td><td>12881816</td><td>978.0114388</td></tr>",
                            "<tr><td>Afghanistan</td><td>1987</td><td>Asia</td><td>40.822</td><td>13867957</td><td>852.3959447999998</td></tr>",
                            "<tr><td>Afghanistan</td><td>1992</td><td>Asia</td><td>41.674</td><td>16317921</td><td>649.3413952000002</td></tr>",
                            "<tr><td>Afghanistan</td><td>1997</td><td>Asia</td><td>41.76300000000001</td><td>22227415</td><td>635.341351</td></tr>",
                            "<tr><td>Afghanistan</td><td>2002</td><td>Asia</td><td>42.129</td><td>25268405</td><td>726.7340548</td></tr>",
                            "<tr><td>Afghanistan</td><td>2007</td><td>Asia</td><td>43.828</td><td>31889923</td><td>974.5803384</td></tr>",
                            "<tr><td>Albania</td><td>1952</td><td>Europe</td><td>55.23</td><td>1282697</td><td>1601.056136</td></tr>",
                            "<tr><td>Albania</td><td>1957</td><td>Europe</td><td>59.28</td><td>1476505</td><td>1942.284244</td></tr>",
                            "<tr><td>Albania</td><td>1962</td><td>Europe</td><td>64.82</td><td>1728137</td><td>2312.888958</td></tr>",
                            "<tr><td>Albania</td><td>1967</td><td>Europe</td><td>66.22</td><td>1984060</td><td>2760.196931</td></tr>",
                            "<tr><td>Albania</td><td>1972</td><td>Europe</td><td>67.69</td><td>2263554</td><td>3313.422188</td></tr>",
                            "<tr><td>Albania</td><td>1977</td><td>Europe</td><td>68.93</td><td>2509048</td><td>3533.003910000001</td></tr>",
                            "<tr><td>Albania</td><td>1982</td><td>Europe</td><td>70.42</td><td>2780097</td><td>3630.880722</td></tr>",
                            "<tr><td>Albania</td><td>1987</td><td>Europe</td><td>72.0</td><td>3075321</td><td>3738.932735</td></tr>",
                            "<tr><td>Albania</td><td>1992</td><td>Europe</td><td>71.581</td><td>3326498</td><td>2497.437901</td></tr>",
                            "<tr><td>Albania</td><td>1997</td><td>Europe</td><td>72.95</td><td>3428038</td><td>3193.054604</td></tr>",
                            "<tr><td>Albania</td><td>2002</td><td>Europe</td><td>75.65100000000002</td><td>3508512</td><td>4604.211737</td></tr>",
                            "<tr><td>Albania</td><td>2007</td><td>Europe</td><td>76.423</td><td>3600523</td><td>5937.029525999998</td></tr>",
                            "</table>"
                        ]
                    }
                }
            ],
            "execution_count": 1
        },
        {
            "cell_type": "code",
            "source": [
                "select * from gapminder where country in ('Thailand', 'Malaysia')"
            ],
            "metadata": {
                "azdata_cell_guid": "91298a59-830c-446c-9cd8-2ed5547a536c"
            },
            "outputs": [
                {
                    "output_type": "display_data",
                    "data": {
                        "text/html": "(24 row(s) affected)"
                    },
                    "metadata": {}
                },
                {
                    "output_type": "display_data",
                    "data": {
                        "text/html": "Total execution time: 00:00:00.010"
                    },
                    "metadata": {}
                },
                {
                    "output_type": "execute_result",
                    "metadata": {},
                    "execution_count": 2,
                    "data": {
                        "application/vnd.dataresource+json": {
                            "schema": {
                                "fields": [
                                    {
                                        "name": "country"
                                    },
                                    {
                                        "name": "year"
                                    },
                                    {
                                        "name": "continent"
                                    },
                                    {
                                        "name": "lifeexp"
                                    },
                                    {
                                        "name": "pop"
                                    },
                                    {
                                        "name": "gdppercap"
                                    }
                                ]
                            },
                            "data": [
                                {
                                    "0": "Malaysia",
                                    "1": "1952",
                                    "2": "Asia",
                                    "3": "48.463",
                                    "4": "6748378",
                                    "5": "1831.132894"
                                },
                                {
                                    "0": "Malaysia",
                                    "1": "1957",
                                    "2": "Asia",
                                    "3": "52.102",
                                    "4": "7739235",
                                    "5": "1810.0669920000007"
                                },
                                {
                                    "0": "Malaysia",
                                    "1": "1962",
                                    "2": "Asia",
                                    "3": "55.737",
                                    "4": "8906385",
                                    "5": "2036.884944"
                                },
                                {
                                    "0": "Malaysia",
                                    "1": "1967",
                                    "2": "Asia",
                                    "3": "59.371",
                                    "4": "10154878",
                                    "5": "2277.742396"
                                },
                                {
                                    "0": "Malaysia",
                                    "1": "1972",
                                    "2": "Asia",
                                    "3": "63.01",
                                    "4": "11441462",
                                    "5": "2849.09478"
                                },
                                {
                                    "0": "Malaysia",
                                    "1": "1977",
                                    "2": "Asia",
                                    "3": "65.256",
                                    "4": "12845381",
                                    "5": "3827.921571"
                                },
                                {
                                    "0": "Malaysia",
                                    "1": "1982",
                                    "2": "Asia",
                                    "3": "68.0",
                                    "4": "14441916",
                                    "5": "4920.355951"
                                },
                                {
                                    "0": "Malaysia",
                                    "1": "1987",
                                    "2": "Asia",
                                    "3": "69.5",
                                    "4": "16331785",
                                    "5": "5249.802653"
                                },
                                {
                                    "0": "Malaysia",
                                    "1": "1992",
                                    "2": "Asia",
                                    "3": "70.693",
                                    "4": "18319502",
                                    "5": "7277.912802"
                                },
                                {
                                    "0": "Malaysia",
                                    "1": "1997",
                                    "2": "Asia",
                                    "3": "71.938",
                                    "4": "20476091",
                                    "5": "10132.90964"
                                },
                                {
                                    "0": "Malaysia",
                                    "1": "2002",
                                    "2": "Asia",
                                    "3": "73.044",
                                    "4": "22662365",
                                    "5": "10206.97794"
                                },
                                {
                                    "0": "Malaysia",
                                    "1": "2007",
                                    "2": "Asia",
                                    "3": "74.241",
                                    "4": "24821286",
                                    "5": "12451.6558"
                                },
                                {
                                    "0": "Thailand",
                                    "1": "1952",
                                    "2": "Asia",
                                    "3": "50.848",
                                    "4": "21289402",
                                    "5": "757.7974177"
                                },
                                {
                                    "0": "Thailand",
                                    "1": "1957",
                                    "2": "Asia",
                                    "3": "53.63",
                                    "4": "25041917",
                                    "5": "793.5774147999998"
                                },
                                {
                                    "0": "Thailand",
                                    "1": "1962",
                                    "2": "Asia",
                                    "3": "56.06100000000001",
                                    "4": "29263397",
                                    "5": "1002.199172"
                                },
                                {
                                    "0": "Thailand",
                                    "1": "1967",
                                    "2": "Asia",
                                    "3": "58.285",
                                    "4": "34024249",
                                    "5": "1295.46066"
                                },
                                {
                                    "0": "Thailand",
                                    "1": "1972",
                                    "2": "Asia",
                                    "3": "60.405",
                                    "4": "39276153",
                                    "5": "1524.358936"
                                },
                                {
                                    "0": "Thailand",
                                    "1": "1977",
                                    "2": "Asia",
                                    "3": "62.494",
                                    "4": "44148285",
                                    "5": "1961.2246350000007"
                                },
                                {
                                    "0": "Thailand",
                                    "1": "1982",
                                    "2": "Asia",
                                    "3": "64.597",
                                    "4": "48827160",
                                    "5": "2393.219781"
                                },
                                {
                                    "0": "Thailand",
                                    "1": "1987",
                                    "2": "Asia",
                                    "3": "66.084",
                                    "4": "52910342",
                                    "5": "2982.653773"
                                },
                                {
                                    "0": "Thailand",
                                    "1": "1992",
                                    "2": "Asia",
                                    "3": "67.298",
                                    "4": "56667095",
                                    "5": "4616.896545000001"
                                },
                                {
                                    "0": "Thailand",
                                    "1": "1997",
                                    "2": "Asia",
                                    "3": "67.521",
                                    "4": "60216677",
                                    "5": "5852.625497"
                                },
                                {
                                    "0": "Thailand",
                                    "1": "2002",
                                    "2": "Asia",
                                    "3": "68.564",
                                    "4": "62806748",
                                    "5": "5913.187529"
                                },
                                {
                                    "0": "Thailand",
                                    "1": "2007",
                                    "2": "Asia",
                                    "3": "70.616",
                                    "4": "65068149",
                                    "5": "7458.396326999998"
                                }
                            ]
                        },
                        "text/html": [
                            "<table>",
                            "<tr><th>country</th><th>year</th><th>continent</th><th>lifeexp</th><th>pop</th><th>gdppercap</th></tr>",
                            "<tr><td>Malaysia</td><td>1952</td><td>Asia</td><td>48.463</td><td>6748378</td><td>1831.132894</td></tr>",
                            "<tr><td>Malaysia</td><td>1957</td><td>Asia</td><td>52.102</td><td>7739235</td><td>1810.0669920000007</td></tr>",
                            "<tr><td>Malaysia</td><td>1962</td><td>Asia</td><td>55.737</td><td>8906385</td><td>2036.884944</td></tr>",
                            "<tr><td>Malaysia</td><td>1967</td><td>Asia</td><td>59.371</td><td>10154878</td><td>2277.742396</td></tr>",
                            "<tr><td>Malaysia</td><td>1972</td><td>Asia</td><td>63.01</td><td>11441462</td><td>2849.09478</td></tr>",
                            "<tr><td>Malaysia</td><td>1977</td><td>Asia</td><td>65.256</td><td>12845381</td><td>3827.921571</td></tr>",
                            "<tr><td>Malaysia</td><td>1982</td><td>Asia</td><td>68.0</td><td>14441916</td><td>4920.355951</td></tr>",
                            "<tr><td>Malaysia</td><td>1987</td><td>Asia</td><td>69.5</td><td>16331785</td><td>5249.802653</td></tr>",
                            "<tr><td>Malaysia</td><td>1992</td><td>Asia</td><td>70.693</td><td>18319502</td><td>7277.912802</td></tr>",
                            "<tr><td>Malaysia</td><td>1997</td><td>Asia</td><td>71.938</td><td>20476091</td><td>10132.90964</td></tr>",
                            "<tr><td>Malaysia</td><td>2002</td><td>Asia</td><td>73.044</td><td>22662365</td><td>10206.97794</td></tr>",
                            "<tr><td>Malaysia</td><td>2007</td><td>Asia</td><td>74.241</td><td>24821286</td><td>12451.6558</td></tr>",
                            "<tr><td>Thailand</td><td>1952</td><td>Asia</td><td>50.848</td><td>21289402</td><td>757.7974177</td></tr>",
                            "<tr><td>Thailand</td><td>1957</td><td>Asia</td><td>53.63</td><td>25041917</td><td>793.5774147999998</td></tr>",
                            "<tr><td>Thailand</td><td>1962</td><td>Asia</td><td>56.06100000000001</td><td>29263397</td><td>1002.199172</td></tr>",
                            "<tr><td>Thailand</td><td>1967</td><td>Asia</td><td>58.285</td><td>34024249</td><td>1295.46066</td></tr>",
                            "<tr><td>Thailand</td><td>1972</td><td>Asia</td><td>60.405</td><td>39276153</td><td>1524.358936</td></tr>",
                            "<tr><td>Thailand</td><td>1977</td><td>Asia</td><td>62.494</td><td>44148285</td><td>1961.2246350000007</td></tr>",
                            "<tr><td>Thailand</td><td>1982</td><td>Asia</td><td>64.597</td><td>48827160</td><td>2393.219781</td></tr>",
                            "<tr><td>Thailand</td><td>1987</td><td>Asia</td><td>66.084</td><td>52910342</td><td>2982.653773</td></tr>",
                            "<tr><td>Thailand</td><td>1992</td><td>Asia</td><td>67.298</td><td>56667095</td><td>4616.896545000001</td></tr>",
                            "<tr><td>Thailand</td><td>1997</td><td>Asia</td><td>67.521</td><td>60216677</td><td>5852.625497</td></tr>",
                            "<tr><td>Thailand</td><td>2002</td><td>Asia</td><td>68.564</td><td>62806748</td><td>5913.187529</td></tr>",
                            "<tr><td>Thailand</td><td>2007</td><td>Asia</td><td>70.616</td><td>65068149</td><td>7458.396326999998</td></tr>",
                            "</table>"
                        ]
                    }
                }
            ],
            "execution_count": 2
        },
        {
            "cell_type": "markdown",
            "source": [
                "# แสดงข้อมูลเปรียบเทียบอายุขัยประชากรของไทยและมาเลเซีย"
            ],
            "metadata": {
                "azdata_cell_guid": "d1dacd4e-8f0c-4a8a-8416-9204962b9c70"
            }
        },
        {
            "cell_type": "markdown",
            "source": [
                "## จำลองการทำงานของ self join โดยให้มองเสมือนว่ามีการแบ่งตาราง gapminder ออกเป็น 2 ตาราง คือ t (ข้อมูลประเทศไทย) และ m (ประเทศมาเลเซีย) แล้วทำการเชื่อมข้อมูลจากตาราง t และ m เข้าด้วยกันโดยมี year เป็นตัวเชื่อม"
            ],
            "metadata": {
                "azdata_cell_guid": "d989d459-d635-4c84-9855-f442b567cf96"
            }
        },
        {
            "cell_type": "code",
            "source": [
                "with m as (\n",
                "    select * from gapminder where country = 'Malaysia'\n",
                "),\n",
                "t as (\n",
                "    select * from gapminder where country = 'Thailand'\n",
                ")\n",
                "select t.year, t.lifeexp \"Thailand life exp\", m.lifeexp \"Malaysia life exp\" \n",
                "    from t inner join m on t.year = m.year"
            ],
            "metadata": {
                "azdata_cell_guid": "fe4a4d8b-8fb8-485b-a0fa-23602cfcd9cf"
            },
            "outputs": [
                {
                    "output_type": "display_data",
                    "data": {
                        "text/html": "(12 row(s) affected)"
                    },
                    "metadata": {}
                },
                {
                    "output_type": "display_data",
                    "data": {
                        "text/html": "Total execution time: 00:00:00.012"
                    },
                    "metadata": {}
                },
                {
                    "output_type": "execute_result",
                    "metadata": {},
                    "execution_count": 3,
                    "data": {
                        "application/vnd.dataresource+json": {
                            "schema": {
                                "fields": [
                                    {
                                        "name": "year"
                                    },
                                    {
                                        "name": "Thailand life exp"
                                    },
                                    {
                                        "name": "Malaysia life exp"
                                    }
                                ]
                            },
                            "data": [
                                {
                                    "0": "1952",
                                    "1": "50.848",
                                    "2": "48.463"
                                },
                                {
                                    "0": "1957",
                                    "1": "53.63",
                                    "2": "52.102"
                                },
                                {
                                    "0": "1962",
                                    "1": "56.06100000000001",
                                    "2": "55.737"
                                },
                                {
                                    "0": "1967",
                                    "1": "58.285",
                                    "2": "59.371"
                                },
                                {
                                    "0": "1972",
                                    "1": "60.405",
                                    "2": "63.01"
                                },
                                {
                                    "0": "1977",
                                    "1": "62.494",
                                    "2": "65.256"
                                },
                                {
                                    "0": "1982",
                                    "1": "64.597",
                                    "2": "68.0"
                                },
                                {
                                    "0": "1987",
                                    "1": "66.084",
                                    "2": "69.5"
                                },
                                {
                                    "0": "1992",
                                    "1": "67.298",
                                    "2": "70.693"
                                },
                                {
                                    "0": "1997",
                                    "1": "67.521",
                                    "2": "71.938"
                                },
                                {
                                    "0": "2002",
                                    "1": "68.564",
                                    "2": "73.044"
                                },
                                {
                                    "0": "2007",
                                    "1": "70.616",
                                    "2": "74.241"
                                }
                            ]
                        },
                        "text/html": [
                            "<table>",
                            "<tr><th>year</th><th>Thailand life exp</th><th>Malaysia life exp</th></tr>",
                            "<tr><td>1952</td><td>50.848</td><td>48.463</td></tr>",
                            "<tr><td>1957</td><td>53.63</td><td>52.102</td></tr>",
                            "<tr><td>1962</td><td>56.06100000000001</td><td>55.737</td></tr>",
                            "<tr><td>1967</td><td>58.285</td><td>59.371</td></tr>",
                            "<tr><td>1972</td><td>60.405</td><td>63.01</td></tr>",
                            "<tr><td>1977</td><td>62.494</td><td>65.256</td></tr>",
                            "<tr><td>1982</td><td>64.597</td><td>68.0</td></tr>",
                            "<tr><td>1987</td><td>66.084</td><td>69.5</td></tr>",
                            "<tr><td>1992</td><td>67.298</td><td>70.693</td></tr>",
                            "<tr><td>1997</td><td>67.521</td><td>71.938</td></tr>",
                            "<tr><td>2002</td><td>68.564</td><td>73.044</td></tr>",
                            "<tr><td>2007</td><td>70.616</td><td>74.241</td></tr>",
                            "</table>"
                        ]
                    }
                }
            ],
            "execution_count": 3
        },
        {
            "cell_type": "markdown",
            "source": [
                "## ใช้เทคนิคการสร้าง alias ให้กับตาราง gapminder โดยให้มีชื่อว่า t และ m ซึ่งทำให้ดูเหมือนว่าเป็น 2 ตาราง ทั้งที่จริง ๆ แล้ว ทั้ง t และ m ล้วนมาจากตาราง gampminder"
            ],
            "metadata": {
                "azdata_cell_guid": "eb1704a5-c874-4b39-83dc-1483ec00bec9"
            }
        },
        {
            "cell_type": "code",
            "source": [
                "select t.year, t.lifeexp \"Thailand life exp\", m.lifeexp \"Malaysia life exp\" \n",
                "    from gapminder t inner join gapminder m on t.year = m.year\n",
                "    where t.country = 'Thailand' and m.country = 'Malaysia'"
            ],
            "metadata": {
                "azdata_cell_guid": "eb92ace6-62b8-4cf9-bf69-236d6e768163",
                "tags": []
            },
            "outputs": [
                {
                    "output_type": "display_data",
                    "data": {
                        "text/html": "(12 row(s) affected)"
                    },
                    "metadata": {}
                },
                {
                    "output_type": "display_data",
                    "data": {
                        "text/html": "Total execution time: 00:00:00.003"
                    },
                    "metadata": {}
                },
                {
                    "output_type": "execute_result",
                    "metadata": {},
                    "execution_count": 4,
                    "data": {
                        "application/vnd.dataresource+json": {
                            "schema": {
                                "fields": [
                                    {
                                        "name": "year"
                                    },
                                    {
                                        "name": "Thailand life exp"
                                    },
                                    {
                                        "name": "Malaysia life exp"
                                    }
                                ]
                            },
                            "data": [
                                {
                                    "0": "1952",
                                    "1": "50.848",
                                    "2": "48.463"
                                },
                                {
                                    "0": "1957",
                                    "1": "53.63",
                                    "2": "52.102"
                                },
                                {
                                    "0": "1962",
                                    "1": "56.06100000000001",
                                    "2": "55.737"
                                },
                                {
                                    "0": "1967",
                                    "1": "58.285",
                                    "2": "59.371"
                                },
                                {
                                    "0": "1972",
                                    "1": "60.405",
                                    "2": "63.01"
                                },
                                {
                                    "0": "1977",
                                    "1": "62.494",
                                    "2": "65.256"
                                },
                                {
                                    "0": "1982",
                                    "1": "64.597",
                                    "2": "68.0"
                                },
                                {
                                    "0": "1987",
                                    "1": "66.084",
                                    "2": "69.5"
                                },
                                {
                                    "0": "1992",
                                    "1": "67.298",
                                    "2": "70.693"
                                },
                                {
                                    "0": "1997",
                                    "1": "67.521",
                                    "2": "71.938"
                                },
                                {
                                    "0": "2002",
                                    "1": "68.564",
                                    "2": "73.044"
                                },
                                {
                                    "0": "2007",
                                    "1": "70.616",
                                    "2": "74.241"
                                }
                            ]
                        },
                        "text/html": [
                            "<table>",
                            "<tr><th>year</th><th>Thailand life exp</th><th>Malaysia life exp</th></tr>",
                            "<tr><td>1952</td><td>50.848</td><td>48.463</td></tr>",
                            "<tr><td>1957</td><td>53.63</td><td>52.102</td></tr>",
                            "<tr><td>1962</td><td>56.06100000000001</td><td>55.737</td></tr>",
                            "<tr><td>1967</td><td>58.285</td><td>59.371</td></tr>",
                            "<tr><td>1972</td><td>60.405</td><td>63.01</td></tr>",
                            "<tr><td>1977</td><td>62.494</td><td>65.256</td></tr>",
                            "<tr><td>1982</td><td>64.597</td><td>68.0</td></tr>",
                            "<tr><td>1987</td><td>66.084</td><td>69.5</td></tr>",
                            "<tr><td>1992</td><td>67.298</td><td>70.693</td></tr>",
                            "<tr><td>1997</td><td>67.521</td><td>71.938</td></tr>",
                            "<tr><td>2002</td><td>68.564</td><td>73.044</td></tr>",
                            "<tr><td>2007</td><td>70.616</td><td>74.241</td></tr>",
                            "</table>"
                        ]
                    }
                }
            ],
            "execution_count": 4
        },
        {
            "cell_type": "markdown",
            "source": [
                "## การทำ self join มากกว่า 2"
            ],
            "metadata": {
                "azdata_cell_guid": "87590d65-be32-411d-b236-bee4569ce60e"
            }
        },
        {
            "cell_type": "code",
            "source": [
                "select t.year, t.lifeexp \"Thailand life exp\", m.lifeexp \"Malaysia life exp\", v.lifeexp \"Vietnam life exp\"\n",
                "    from gapminder t inner join gapminder m on t.year = m.year inner join gapminder v on m.year = v.year\n",
                "    where t.country = 'Thailand' and m.country = 'Malaysia' and v.country = 'Vietnam'"
            ],
            "metadata": {
                "azdata_cell_guid": "107435ba-8ae4-4456-bd0e-82b290380121"
            },
            "outputs": [
                {
                    "output_type": "display_data",
                    "data": {
                        "text/html": "(12 row(s) affected)"
                    },
                    "metadata": {}
                },
                {
                    "output_type": "display_data",
                    "data": {
                        "text/html": "Total execution time: 00:00:00.040"
                    },
                    "metadata": {}
                },
                {
                    "output_type": "execute_result",
                    "metadata": {},
                    "execution_count": 5,
                    "data": {
                        "application/vnd.dataresource+json": {
                            "schema": {
                                "fields": [
                                    {
                                        "name": "year"
                                    },
                                    {
                                        "name": "Thailand life exp"
                                    },
                                    {
                                        "name": "Malaysia life exp"
                                    },
                                    {
                                        "name": "Vietnam life exp"
                                    }
                                ]
                            },
                            "data": [
                                {
                                    "0": "1952",
                                    "1": "50.848",
                                    "2": "48.463",
                                    "3": "40.412"
                                },
                                {
                                    "0": "1957",
                                    "1": "53.63",
                                    "2": "52.102",
                                    "3": "42.887"
                                },
                                {
                                    "0": "1962",
                                    "1": "56.06100000000001",
                                    "2": "55.737",
                                    "3": "45.363"
                                },
                                {
                                    "0": "1967",
                                    "1": "58.285",
                                    "2": "59.371",
                                    "3": "47.838"
                                },
                                {
                                    "0": "1972",
                                    "1": "60.405",
                                    "2": "63.01",
                                    "3": "50.254"
                                },
                                {
                                    "0": "1977",
                                    "1": "62.494",
                                    "2": "65.256",
                                    "3": "55.764"
                                },
                                {
                                    "0": "1982",
                                    "1": "64.597",
                                    "2": "68.0",
                                    "3": "58.816"
                                },
                                {
                                    "0": "1987",
                                    "1": "66.084",
                                    "2": "69.5",
                                    "3": "62.82"
                                },
                                {
                                    "0": "1992",
                                    "1": "67.298",
                                    "2": "70.693",
                                    "3": "67.66199999999999"
                                },
                                {
                                    "0": "1997",
                                    "1": "67.521",
                                    "2": "71.938",
                                    "3": "70.672"
                                },
                                {
                                    "0": "2002",
                                    "1": "68.564",
                                    "2": "73.044",
                                    "3": "73.017"
                                },
                                {
                                    "0": "2007",
                                    "1": "70.616",
                                    "2": "74.241",
                                    "3": "74.249"
                                }
                            ]
                        },
                        "text/html": [
                            "<table>",
                            "<tr><th>year</th><th>Thailand life exp</th><th>Malaysia life exp</th><th>Vietnam life exp</th></tr>",
                            "<tr><td>1952</td><td>50.848</td><td>48.463</td><td>40.412</td></tr>",
                            "<tr><td>1957</td><td>53.63</td><td>52.102</td><td>42.887</td></tr>",
                            "<tr><td>1962</td><td>56.06100000000001</td><td>55.737</td><td>45.363</td></tr>",
                            "<tr><td>1967</td><td>58.285</td><td>59.371</td><td>47.838</td></tr>",
                            "<tr><td>1972</td><td>60.405</td><td>63.01</td><td>50.254</td></tr>",
                            "<tr><td>1977</td><td>62.494</td><td>65.256</td><td>55.764</td></tr>",
                            "<tr><td>1982</td><td>64.597</td><td>68.0</td><td>58.816</td></tr>",
                            "<tr><td>1987</td><td>66.084</td><td>69.5</td><td>62.82</td></tr>",
                            "<tr><td>1992</td><td>67.298</td><td>70.693</td><td>67.66199999999999</td></tr>",
                            "<tr><td>1997</td><td>67.521</td><td>71.938</td><td>70.672</td></tr>",
                            "<tr><td>2002</td><td>68.564</td><td>73.044</td><td>73.017</td></tr>",
                            "<tr><td>2007</td><td>70.616</td><td>74.241</td><td>74.249</td></tr>",
                            "</table>"
                        ]
                    }
                }
            ],
            "execution_count": 5
        },
        {
            "cell_type": "markdown",
            "source": [
                "## การใช้ inner join using แทนการใช้ inner join on"
            ],
            "metadata": {
                "azdata_cell_guid": "192497b1-e280-4391-8519-d9fcab563368"
            }
        },
        {
            "cell_type": "code",
            "source": [
                "select t.year, t.lifeexp \"Thailand life exp\", m.lifeexp \"Malaysia life exp\", v.lifeexp \"Vietnam life exp\"\n",
                "    from gapminder t inner join gapminder m using(year) inner join gapminder v using(year)\n",
                "    where t.country = 'Thailand' and m.country = 'Malaysia' and v.country = 'Vietnam'"
            ],
            "metadata": {
                "azdata_cell_guid": "45eaaeb4-5af5-4c05-9bed-6eda3286f0d5",
                "tags": []
            },
            "outputs": [
                {
                    "output_type": "display_data",
                    "data": {
                        "text/html": "(12 row(s) affected)"
                    },
                    "metadata": {}
                },
                {
                    "output_type": "display_data",
                    "data": {
                        "text/html": "Total execution time: 00:00:00.003"
                    },
                    "metadata": {}
                },
                {
                    "output_type": "execute_result",
                    "metadata": {},
                    "execution_count": 6,
                    "data": {
                        "application/vnd.dataresource+json": {
                            "schema": {
                                "fields": [
                                    {
                                        "name": "year"
                                    },
                                    {
                                        "name": "Thailand life exp"
                                    },
                                    {
                                        "name": "Malaysia life exp"
                                    },
                                    {
                                        "name": "Vietnam life exp"
                                    }
                                ]
                            },
                            "data": [
                                {
                                    "0": "1952",
                                    "1": "50.848",
                                    "2": "48.463",
                                    "3": "40.412"
                                },
                                {
                                    "0": "1957",
                                    "1": "53.63",
                                    "2": "52.102",
                                    "3": "42.887"
                                },
                                {
                                    "0": "1962",
                                    "1": "56.06100000000001",
                                    "2": "55.737",
                                    "3": "45.363"
                                },
                                {
                                    "0": "1967",
                                    "1": "58.285",
                                    "2": "59.371",
                                    "3": "47.838"
                                },
                                {
                                    "0": "1972",
                                    "1": "60.405",
                                    "2": "63.01",
                                    "3": "50.254"
                                },
                                {
                                    "0": "1977",
                                    "1": "62.494",
                                    "2": "65.256",
                                    "3": "55.764"
                                },
                                {
                                    "0": "1982",
                                    "1": "64.597",
                                    "2": "68.0",
                                    "3": "58.816"
                                },
                                {
                                    "0": "1987",
                                    "1": "66.084",
                                    "2": "69.5",
                                    "3": "62.82"
                                },
                                {
                                    "0": "1992",
                                    "1": "67.298",
                                    "2": "70.693",
                                    "3": "67.66199999999999"
                                },
                                {
                                    "0": "1997",
                                    "1": "67.521",
                                    "2": "71.938",
                                    "3": "70.672"
                                },
                                {
                                    "0": "2002",
                                    "1": "68.564",
                                    "2": "73.044",
                                    "3": "73.017"
                                },
                                {
                                    "0": "2007",
                                    "1": "70.616",
                                    "2": "74.241",
                                    "3": "74.249"
                                }
                            ]
                        },
                        "text/html": [
                            "<table>",
                            "<tr><th>year</th><th>Thailand life exp</th><th>Malaysia life exp</th><th>Vietnam life exp</th></tr>",
                            "<tr><td>1952</td><td>50.848</td><td>48.463</td><td>40.412</td></tr>",
                            "<tr><td>1957</td><td>53.63</td><td>52.102</td><td>42.887</td></tr>",
                            "<tr><td>1962</td><td>56.06100000000001</td><td>55.737</td><td>45.363</td></tr>",
                            "<tr><td>1967</td><td>58.285</td><td>59.371</td><td>47.838</td></tr>",
                            "<tr><td>1972</td><td>60.405</td><td>63.01</td><td>50.254</td></tr>",
                            "<tr><td>1977</td><td>62.494</td><td>65.256</td><td>55.764</td></tr>",
                            "<tr><td>1982</td><td>64.597</td><td>68.0</td><td>58.816</td></tr>",
                            "<tr><td>1987</td><td>66.084</td><td>69.5</td><td>62.82</td></tr>",
                            "<tr><td>1992</td><td>67.298</td><td>70.693</td><td>67.66199999999999</td></tr>",
                            "<tr><td>1997</td><td>67.521</td><td>71.938</td><td>70.672</td></tr>",
                            "<tr><td>2002</td><td>68.564</td><td>73.044</td><td>73.017</td></tr>",
                            "<tr><td>2007</td><td>70.616</td><td>74.241</td><td>74.249</td></tr>",
                            "</table>"
                        ]
                    }
                }
            ],
            "execution_count": 6
        },
        {
            "cell_type": "markdown",
            "source": [
                "## การคำนวณค่าเฉลี่ยอายุขัย"
            ],
            "metadata": {
                "azdata_cell_guid": "7039aba3-cde1-4191-be2d-e3e7a6fce387"
            }
        },
        {
            "cell_type": "code",
            "source": [
                "select t.year, \n",
                "    t.lifeexp::numeric(5, 2) \"Thailand life exp\", \n",
                "    m.lifeexp::numeric(5, 2) \"Malaysia life exp\", \n",
                "    v.lifeexp::numeric(5, 2) \"Vietnam life exp\",\n",
                "    ((t.lifeexp + m.lifeexp + v.lifeexp) / 3.0)::numeric(5, 2) \"avg\"\n",
                "    from gapminder t inner join gapminder m using(year) inner join gapminder v using(year)\n",
                "    where t.country = 'Thailand' and m.country = 'Malaysia' and v.country = 'Vietnam'"
            ],
            "metadata": {
                "azdata_cell_guid": "71f33bdf-e3fb-4c86-b3c0-e5b933292f1f"
            },
            "outputs": [
                {
                    "output_type": "display_data",
                    "data": {
                        "text/html": "(12 row(s) affected)"
                    },
                    "metadata": {}
                },
                {
                    "output_type": "display_data",
                    "data": {
                        "text/html": "Total execution time: 00:00:00.010"
                    },
                    "metadata": {}
                },
                {
                    "output_type": "execute_result",
                    "metadata": {},
                    "execution_count": 7,
                    "data": {
                        "application/vnd.dataresource+json": {
                            "schema": {
                                "fields": [
                                    {
                                        "name": "year"
                                    },
                                    {
                                        "name": "Thailand life exp"
                                    },
                                    {
                                        "name": "Malaysia life exp"
                                    },
                                    {
                                        "name": "Vietnam life exp"
                                    },
                                    {
                                        "name": "avg"
                                    }
                                ]
                            },
                            "data": [
                                {
                                    "0": "1952",
                                    "1": "50.85",
                                    "2": "48.46",
                                    "3": "40.41",
                                    "4": "46.57"
                                },
                                {
                                    "0": "1957",
                                    "1": "53.63",
                                    "2": "52.10",
                                    "3": "42.89",
                                    "4": "49.54"
                                },
                                {
                                    "0": "1962",
                                    "1": "56.06",
                                    "2": "55.74",
                                    "3": "45.36",
                                    "4": "52.39"
                                },
                                {
                                    "0": "1967",
                                    "1": "58.29",
                                    "2": "59.37",
                                    "3": "47.84",
                                    "4": "55.16"
                                },
                                {
                                    "0": "1972",
                                    "1": "60.41",
                                    "2": "63.01",
                                    "3": "50.25",
                                    "4": "57.89"
                                },
                                {
                                    "0": "1977",
                                    "1": "62.49",
                                    "2": "65.26",
                                    "3": "55.76",
                                    "4": "61.17"
                                },
                                {
                                    "0": "1982",
                                    "1": "64.60",
                                    "2": "68.00",
                                    "3": "58.82",
                                    "4": "63.80"
                                },
                                {
                                    "0": "1987",
                                    "1": "66.08",
                                    "2": "69.50",
                                    "3": "62.82",
                                    "4": "66.13"
                                },
                                {
                                    "0": "1992",
                                    "1": "67.30",
                                    "2": "70.69",
                                    "3": "67.66",
                                    "4": "68.55"
                                },
                                {
                                    "0": "1997",
                                    "1": "67.52",
                                    "2": "71.94",
                                    "3": "70.67",
                                    "4": "70.04"
                                },
                                {
                                    "0": "2002",
                                    "1": "68.56",
                                    "2": "73.04",
                                    "3": "73.02",
                                    "4": "71.54"
                                },
                                {
                                    "0": "2007",
                                    "1": "70.62",
                                    "2": "74.24",
                                    "3": "74.25",
                                    "4": "73.04"
                                }
                            ]
                        },
                        "text/html": [
                            "<table>",
                            "<tr><th>year</th><th>Thailand life exp</th><th>Malaysia life exp</th><th>Vietnam life exp</th><th>avg</th></tr>",
                            "<tr><td>1952</td><td>50.85</td><td>48.46</td><td>40.41</td><td>46.57</td></tr>",
                            "<tr><td>1957</td><td>53.63</td><td>52.10</td><td>42.89</td><td>49.54</td></tr>",
                            "<tr><td>1962</td><td>56.06</td><td>55.74</td><td>45.36</td><td>52.39</td></tr>",
                            "<tr><td>1967</td><td>58.29</td><td>59.37</td><td>47.84</td><td>55.16</td></tr>",
                            "<tr><td>1972</td><td>60.41</td><td>63.01</td><td>50.25</td><td>57.89</td></tr>",
                            "<tr><td>1977</td><td>62.49</td><td>65.26</td><td>55.76</td><td>61.17</td></tr>",
                            "<tr><td>1982</td><td>64.60</td><td>68.00</td><td>58.82</td><td>63.80</td></tr>",
                            "<tr><td>1987</td><td>66.08</td><td>69.50</td><td>62.82</td><td>66.13</td></tr>",
                            "<tr><td>1992</td><td>67.30</td><td>70.69</td><td>67.66</td><td>68.55</td></tr>",
                            "<tr><td>1997</td><td>67.52</td><td>71.94</td><td>70.67</td><td>70.04</td></tr>",
                            "<tr><td>2002</td><td>68.56</td><td>73.04</td><td>73.02</td><td>71.54</td></tr>",
                            "<tr><td>2007</td><td>70.62</td><td>74.24</td><td>74.25</td><td>73.04</td></tr>",
                            "</table>"
                        ]
                    }
                }
            ],
            "execution_count": 7
        }
    ]
}