{
    "metadata": {
        "kernelspec": {
            "name": "SQL",
            "display_name": "SQL",
            "language": "sql"
        },
        "language_info": {
            "name": "sql",
            "version": ""
        }
    },
    "nbformat_minor": 2,
    "nbformat": 4,
    "cells": [
        {
            "cell_type": "markdown",
            "source": [
                "# การลบแถวในตาราง (delete)"
            ],
            "metadata": {
                "azdata_cell_guid": "03a0e326-93fc-4452-adc3-88843c243286"
            }
        },
        {
            "cell_type": "code",
            "source": [
                "select * from drinks"
            ],
            "metadata": {
                "azdata_cell_guid": "442b7014-d994-4dd9-ab10-808816b49876"
            },
            "outputs": [
                {
                    "output_type": "display_data",
                    "data": {
                        "text/html": "(3 row(s) affected)"
                    },
                    "metadata": {}
                },
                {
                    "output_type": "display_data",
                    "data": {
                        "text/html": "Total execution time: 00:00:00.012"
                    },
                    "metadata": {}
                },
                {
                    "output_type": "execute_result",
                    "metadata": {},
                    "execution_count": 14,
                    "data": {
                        "application/vnd.dataresource+json": {
                            "schema": {
                                "fields": [
                                    {
                                        "name": "product_id"
                                    },
                                    {
                                        "name": "name"
                                    },
                                    {
                                        "name": "price"
                                    },
                                    {
                                        "name": "is_recommend"
                                    }
                                ]
                            },
                            "data": [
                                {
                                    "0": "4",
                                    "1": "SMOOTHIE",
                                    "2": "104.00",
                                    "3": "False"
                                },
                                {
                                    "0": "32",
                                    "1": "water",
                                    "2": "168.00",
                                    "3": "False"
                                },
                                {
                                    "0": "2",
                                    "1": "Pepsi Max",
                                    "2": "54.00",
                                    "3": "False"
                                }
                            ]
                        },
                        "text/html": [
                            "<table>",
                            "<tr><th>product_id</th><th>name</th><th>price</th><th>is_recommend</th></tr>",
                            "<tr><td>4</td><td>SMOOTHIE</td><td>104.00</td><td>False</td></tr>",
                            "<tr><td>32</td><td>water</td><td>168.00</td><td>False</td></tr>",
                            "<tr><td>2</td><td>Pepsi Max</td><td>54.00</td><td>False</td></tr>",
                            "</table>"
                        ]
                    }
                }
            ],
            "execution_count": 14
        },
        {
            "cell_type": "code",
            "source": [
                "delete from drinks \r\n",
                "    where name = 'GREEN TEA'"
            ],
            "metadata": {
                "azdata_cell_guid": "70127cc3-2662-4ed6-8f51-d3b2a058ced8"
            },
            "outputs": [
                {
                    "output_type": "display_data",
                    "data": {
                        "text/html": "Commands completed successfully"
                    },
                    "metadata": {}
                },
                {
                    "output_type": "display_data",
                    "data": {
                        "text/html": "Total execution time: 00:00:00.062"
                    },
                    "metadata": {}
                }
            ],
            "execution_count": 2
        },
        {
            "cell_type": "code",
            "source": [
                "delete from drinks \r\n",
                "    where lower(name) = 'espresso'"
            ],
            "metadata": {
                "azdata_cell_guid": "0f071fbd-f42d-4dce-a7d6-0efc1e74ce0e"
            },
            "outputs": [
                {
                    "output_type": "display_data",
                    "data": {
                        "text/html": "Commands completed successfully"
                    },
                    "metadata": {}
                },
                {
                    "output_type": "display_data",
                    "data": {
                        "text/html": "Total execution time: 00:00:00.001"
                    },
                    "metadata": {}
                }
            ],
            "execution_count": 11
        },
        {
            "cell_type": "code",
            "source": [
                "delete from drinks \r\n",
                "    where name ilike '%Tea%'"
            ],
            "metadata": {
                "azdata_cell_guid": "866c2d3b-8c19-4e46-b0f6-43fcac211908"
            },
            "outputs": [
                {
                    "output_type": "display_data",
                    "data": {
                        "text/html": "Commands completed successfully"
                    },
                    "metadata": {}
                },
                {
                    "output_type": "display_data",
                    "data": {
                        "text/html": "Total execution time: 00:00:00.038"
                    },
                    "metadata": {}
                }
            ],
            "execution_count": 13
        },
        {
            "cell_type": "code",
            "source": [
                "delete from drinks \r\n",
                "    where price > 100"
            ],
            "metadata": {
                "azdata_cell_guid": "eaa12372-9af1-4c53-a9cb-29a318467723"
            },
            "outputs": [],
            "execution_count": null
        },
        {
            "cell_type": "code",
            "source": [
                "delete from drinks \r\n",
                "    where price >= 20 and price <= 50"
            ],
            "metadata": {
                "azdata_cell_guid": "56a778f1-34b1-4431-b6dc-f88885f7a6f1",
                "tags": []
            },
            "outputs": [
                {
                    "output_type": "display_data",
                    "data": {
                        "text/html": "Commands completed successfully"
                    },
                    "metadata": {}
                },
                {
                    "output_type": "display_data",
                    "data": {
                        "text/html": "Total execution time: 00:00:00.062"
                    },
                    "metadata": {}
                }
            ],
            "execution_count": 15
        }
    ]
}