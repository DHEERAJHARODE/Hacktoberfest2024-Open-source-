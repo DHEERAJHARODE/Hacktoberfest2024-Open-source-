{
    "metadata": {
        "kernelspec": {
            "name": "SQL",
            "display_name": "SQL",
            "language": "sql"
        },
        "language_info": {
            "name": "sql",
            "version": ""
        }
    },
    "nbformat_minor": 2,
    "nbformat": 4,
    "cells": [
        {
            "cell_type": "markdown",
            "source": [
                "# GROUPING SETS\n",
                "\n",
                "สรุปรวมข้อมูลแบบเป็นชั้นๆหลายๆกลุ่ม\n",
                "\n",
                "# การหาผลรวมย่อยหลาย ๆ กลุ่มย่อยพร้อม ๆ กันด้วย GROUPING SETS"
            ],
            "metadata": {
                "azdata_cell_guid": "50397b49-93ed-46c8-a8db-6704cca344b4"
            }
        },
        {
            "cell_type": "code",
            "source": [
                "select * from gapminder limit 36;"
            ],
            "metadata": {
                "azdata_cell_guid": "3c05fe24-275d-43ec-8800-cd84256d9c47"
            },
            "outputs": [
                {
                    "output_type": "display_data",
                    "data": {
                        "text/html": "(36 row(s) affected)"
                    },
                    "metadata": {}
                },
                {
                    "output_type": "display_data",
                    "data": {
                        "text/html": "Total execution time: 00:00:00.005"
                    },
                    "metadata": {}
                },
                {
                    "output_type": "execute_result",
                    "execution_count": 13,
                    "data": {
                        "application/vnd.dataresource+json": {
                            "schema": {
                                "fields": [
                                    {
                                        "name": "country"
                                    },
                                    {
                                        "name": "year"
                                    },
                                    {
                                        "name": "continent"
                                    },
                                    {
                                        "name": "lifeexp"
                                    },
                                    {
                                        "name": "pop"
                                    },
                                    {
                                        "name": "gdppercap"
                                    }
                                ]
                            },
                            "data": [
                                {
                                    "0": "Afghanistan",
                                    "1": "1952",
                                    "2": "Asia",
                                    "3": "28.801",
                                    "4": "8425333",
                                    "5": "779.4453145"
                                },
                                {
                                    "0": "Afghanistan",
                                    "1": "1957",
                                    "2": "Asia",
                                    "3": "30.332",
                                    "4": "9240934",
                                    "5": "820.8530296"
                                },
                                {
                                    "0": "Afghanistan",
                                    "1": "1962",
                                    "2": "Asia",
                                    "3": "31.997",
                                    "4": "10267083",
                                    "5": "853.10071"
                                },
                                {
                                    "0": "Afghanistan",
                                    "1": "1967",
                                    "2": "Asia",
                                    "3": "34.02",
                                    "4": "11537966",
                                    "5": "836.1971382"
                                },
                                {
                                    "0": "Afghanistan",
                                    "1": "1972",
                                    "2": "Asia",
                                    "3": "36.088",
                                    "4": "13079460",
                                    "5": "739.9811058"
                                },
                                {
                                    "0": "Afghanistan",
                                    "1": "1977",
                                    "2": "Asia",
                                    "3": "38.438",
                                    "4": "14880372",
                                    "5": "786.11336"
                                },
                                {
                                    "0": "Afghanistan",
                                    "1": "1982",
                                    "2": "Asia",
                                    "3": "39.854",
                                    "4": "12881816",
                                    "5": "978.0114388"
                                },
                                {
                                    "0": "Afghanistan",
                                    "1": "1987",
                                    "2": "Asia",
                                    "3": "40.822",
                                    "4": "13867957",
                                    "5": "852.3959448"
                                },
                                {
                                    "0": "Afghanistan",
                                    "1": "1992",
                                    "2": "Asia",
                                    "3": "41.674",
                                    "4": "16317921",
                                    "5": "649.3413952"
                                },
                                {
                                    "0": "Afghanistan",
                                    "1": "1997",
                                    "2": "Asia",
                                    "3": "41.763",
                                    "4": "22227415",
                                    "5": "635.341351"
                                },
                                {
                                    "0": "Afghanistan",
                                    "1": "2002",
                                    "2": "Asia",
                                    "3": "42.129",
                                    "4": "25268405",
                                    "5": "726.7340548"
                                },
                                {
                                    "0": "Afghanistan",
                                    "1": "2007",
                                    "2": "Asia",
                                    "3": "43.828",
                                    "4": "31889923",
                                    "5": "974.5803384"
                                },
                                {
                                    "0": "Albania",
                                    "1": "1952",
                                    "2": "Europe",
                                    "3": "55.23",
                                    "4": "1282697",
                                    "5": "1601.056136"
                                },
                                {
                                    "0": "Albania",
                                    "1": "1957",
                                    "2": "Europe",
                                    "3": "59.28",
                                    "4": "1476505",
                                    "5": "1942.284244"
                                },
                                {
                                    "0": "Albania",
                                    "1": "1962",
                                    "2": "Europe",
                                    "3": "64.82",
                                    "4": "1728137",
                                    "5": "2312.888958"
                                },
                                {
                                    "0": "Albania",
                                    "1": "1967",
                                    "2": "Europe",
                                    "3": "66.22",
                                    "4": "1984060",
                                    "5": "2760.196931"
                                },
                                {
                                    "0": "Albania",
                                    "1": "1972",
                                    "2": "Europe",
                                    "3": "67.69",
                                    "4": "2263554",
                                    "5": "3313.422188"
                                },
                                {
                                    "0": "Albania",
                                    "1": "1977",
                                    "2": "Europe",
                                    "3": "68.93",
                                    "4": "2509048",
                                    "5": "3533.00391"
                                },
                                {
                                    "0": "Albania",
                                    "1": "1982",
                                    "2": "Europe",
                                    "3": "70.42",
                                    "4": "2780097",
                                    "5": "3630.880722"
                                },
                                {
                                    "0": "Albania",
                                    "1": "1987",
                                    "2": "Europe",
                                    "3": "72.0",
                                    "4": "3075321",
                                    "5": "3738.932735"
                                },
                                {
                                    "0": "Albania",
                                    "1": "1992",
                                    "2": "Europe",
                                    "3": "71.581",
                                    "4": "3326498",
                                    "5": "2497.437901"
                                },
                                {
                                    "0": "Albania",
                                    "1": "1997",
                                    "2": "Europe",
                                    "3": "72.95",
                                    "4": "3428038",
                                    "5": "3193.054604"
                                },
                                {
                                    "0": "Albania",
                                    "1": "2002",
                                    "2": "Europe",
                                    "3": "75.651",
                                    "4": "3508512",
                                    "5": "4604.211737"
                                },
                                {
                                    "0": "Albania",
                                    "1": "2007",
                                    "2": "Europe",
                                    "3": "76.423",
                                    "4": "3600523",
                                    "5": "5937.029526"
                                },
                                {
                                    "0": "Algeria",
                                    "1": "1952",
                                    "2": "Africa",
                                    "3": "43.077",
                                    "4": "9279525",
                                    "5": "2449.008185"
                                },
                                {
                                    "0": "Algeria",
                                    "1": "1957",
                                    "2": "Africa",
                                    "3": "45.685",
                                    "4": "10270856",
                                    "5": "3013.976023"
                                },
                                {
                                    "0": "Algeria",
                                    "1": "1962",
                                    "2": "Africa",
                                    "3": "48.303",
                                    "4": "11000948",
                                    "5": "2550.81688"
                                },
                                {
                                    "0": "Algeria",
                                    "1": "1967",
                                    "2": "Africa",
                                    "3": "51.407",
                                    "4": "12760499",
                                    "5": "3246.991771"
                                },
                                {
                                    "0": "Algeria",
                                    "1": "1972",
                                    "2": "Africa",
                                    "3": "54.518",
                                    "4": "14760787",
                                    "5": "4182.663766"
                                },
                                {
                                    "0": "Algeria",
                                    "1": "1977",
                                    "2": "Africa",
                                    "3": "58.014",
                                    "4": "17152804",
                                    "5": "4910.416756"
                                },
                                {
                                    "0": "Algeria",
                                    "1": "1982",
                                    "2": "Africa",
                                    "3": "61.368",
                                    "4": "20033753",
                                    "5": "5745.160213"
                                },
                                {
                                    "0": "Algeria",
                                    "1": "1987",
                                    "2": "Africa",
                                    "3": "65.799",
                                    "4": "23254956",
                                    "5": "5681.358539"
                                },
                                {
                                    "0": "Algeria",
                                    "1": "1992",
                                    "2": "Africa",
                                    "3": "67.744",
                                    "4": "26298373",
                                    "5": "5023.216647"
                                },
                                {
                                    "0": "Algeria",
                                    "1": "1997",
                                    "2": "Africa",
                                    "3": "69.152",
                                    "4": "29072015",
                                    "5": "4797.295051"
                                },
                                {
                                    "0": "Algeria",
                                    "1": "2002",
                                    "2": "Africa",
                                    "3": "70.994",
                                    "4": "31287142",
                                    "5": "5288.040382"
                                },
                                {
                                    "0": "Algeria",
                                    "1": "2007",
                                    "2": "Africa",
                                    "3": "72.301",
                                    "4": "33333216",
                                    "5": "6223.367465"
                                }
                            ]
                        },
                        "text/html": "<table><tr><th>country</th><th>year</th><th>continent</th><th>lifeexp</th><th>pop</th><th>gdppercap</th></tr><tr><td>Afghanistan</td><td>1952</td><td>Asia</td><td>28.801</td><td>8425333</td><td>779.4453145</td></tr><tr><td>Afghanistan</td><td>1957</td><td>Asia</td><td>30.332</td><td>9240934</td><td>820.8530296</td></tr><tr><td>Afghanistan</td><td>1962</td><td>Asia</td><td>31.997</td><td>10267083</td><td>853.10071</td></tr><tr><td>Afghanistan</td><td>1967</td><td>Asia</td><td>34.02</td><td>11537966</td><td>836.1971382</td></tr><tr><td>Afghanistan</td><td>1972</td><td>Asia</td><td>36.088</td><td>13079460</td><td>739.9811058</td></tr><tr><td>Afghanistan</td><td>1977</td><td>Asia</td><td>38.438</td><td>14880372</td><td>786.11336</td></tr><tr><td>Afghanistan</td><td>1982</td><td>Asia</td><td>39.854</td><td>12881816</td><td>978.0114388</td></tr><tr><td>Afghanistan</td><td>1987</td><td>Asia</td><td>40.822</td><td>13867957</td><td>852.3959448</td></tr><tr><td>Afghanistan</td><td>1992</td><td>Asia</td><td>41.674</td><td>16317921</td><td>649.3413952</td></tr><tr><td>Afghanistan</td><td>1997</td><td>Asia</td><td>41.763</td><td>22227415</td><td>635.341351</td></tr><tr><td>Afghanistan</td><td>2002</td><td>Asia</td><td>42.129</td><td>25268405</td><td>726.7340548</td></tr><tr><td>Afghanistan</td><td>2007</td><td>Asia</td><td>43.828</td><td>31889923</td><td>974.5803384</td></tr><tr><td>Albania</td><td>1952</td><td>Europe</td><td>55.23</td><td>1282697</td><td>1601.056136</td></tr><tr><td>Albania</td><td>1957</td><td>Europe</td><td>59.28</td><td>1476505</td><td>1942.284244</td></tr><tr><td>Albania</td><td>1962</td><td>Europe</td><td>64.82</td><td>1728137</td><td>2312.888958</td></tr><tr><td>Albania</td><td>1967</td><td>Europe</td><td>66.22</td><td>1984060</td><td>2760.196931</td></tr><tr><td>Albania</td><td>1972</td><td>Europe</td><td>67.69</td><td>2263554</td><td>3313.422188</td></tr><tr><td>Albania</td><td>1977</td><td>Europe</td><td>68.93</td><td>2509048</td><td>3533.00391</td></tr><tr><td>Albania</td><td>1982</td><td>Europe</td><td>70.42</td><td>2780097</td><td>3630.880722</td></tr><tr><td>Albania</td><td>1987</td><td>Europe</td><td>72.0</td><td>3075321</td><td>3738.932735</td></tr><tr><td>Albania</td><td>1992</td><td>Europe</td><td>71.581</td><td>3326498</td><td>2497.437901</td></tr><tr><td>Albania</td><td>1997</td><td>Europe</td><td>72.95</td><td>3428038</td><td>3193.054604</td></tr><tr><td>Albania</td><td>2002</td><td>Europe</td><td>75.651</td><td>3508512</td><td>4604.211737</td></tr><tr><td>Albania</td><td>2007</td><td>Europe</td><td>76.423</td><td>3600523</td><td>5937.029526</td></tr><tr><td>Algeria</td><td>1952</td><td>Africa</td><td>43.077</td><td>9279525</td><td>2449.008185</td></tr><tr><td>Algeria</td><td>1957</td><td>Africa</td><td>45.685</td><td>10270856</td><td>3013.976023</td></tr><tr><td>Algeria</td><td>1962</td><td>Africa</td><td>48.303</td><td>11000948</td><td>2550.81688</td></tr><tr><td>Algeria</td><td>1967</td><td>Africa</td><td>51.407</td><td>12760499</td><td>3246.991771</td></tr><tr><td>Algeria</td><td>1972</td><td>Africa</td><td>54.518</td><td>14760787</td><td>4182.663766</td></tr><tr><td>Algeria</td><td>1977</td><td>Africa</td><td>58.014</td><td>17152804</td><td>4910.416756</td></tr><tr><td>Algeria</td><td>1982</td><td>Africa</td><td>61.368</td><td>20033753</td><td>5745.160213</td></tr><tr><td>Algeria</td><td>1987</td><td>Africa</td><td>65.799</td><td>23254956</td><td>5681.358539</td></tr><tr><td>Algeria</td><td>1992</td><td>Africa</td><td>67.744</td><td>26298373</td><td>5023.216647</td></tr><tr><td>Algeria</td><td>1997</td><td>Africa</td><td>69.152</td><td>29072015</td><td>4797.295051</td></tr><tr><td>Algeria</td><td>2002</td><td>Africa</td><td>70.994</td><td>31287142</td><td>5288.040382</td></tr><tr><td>Algeria</td><td>2007</td><td>Africa</td><td>72.301</td><td>33333216</td><td>6223.367465</td></tr></table>"
                    },
                    "metadata": {}
                }
            ],
            "execution_count": 13
        },
        {
            "cell_type": "code",
            "source": [
                "select country, avg(lifeexp) from gapminder group by country"
            ],
            "metadata": {
                "azdata_cell_guid": "96f7afd5-4a22-462f-8857-45543128a7c2"
            },
            "outputs": [
                {
                    "output_type": "display_data",
                    "data": {
                        "text/html": "(142 row(s) affected)"
                    },
                    "metadata": {}
                },
                {
                    "output_type": "display_data",
                    "data": {
                        "text/html": "Total execution time: 00:00:00.009"
                    },
                    "metadata": {}
                },
                {
                    "output_type": "execute_result",
                    "execution_count": 14,
                    "data": {
                        "application/vnd.dataresource+json": {
                            "schema": {
                                "fields": [
                                    {
                                        "name": "country"
                                    },
                                    {
                                        "name": "avg"
                                    }
                                ]
                            },
                            "data": [
                                {
                                    "0": "Indonesia",
                                    "1": "54.33575"
                                },
                                {
                                    "0": "Bangladesh",
                                    "1": "49.8340833333333"
                                },
                                {
                                    "0": "Venezuela",
                                    "1": "66.5806666666667"
                                },
                                {
                                    "0": "Cameroon",
                                    "1": "48.1285"
                                },
                                {
                                    "0": "Czech Republic",
                                    "1": "71.5105"
                                },
                                {
                                    "0": "Sweden",
                                    "1": "76.177"
                                },
                                {
                                    "0": "Uganda",
                                    "1": "47.6188333333333"
                                },
                                {
                                    "0": "Montenegro",
                                    "1": "70.2991666666667"
                                },
                                {
                                    "0": "Jordan",
                                    "1": "59.7864166666667"
                                },
                                {
                                    "0": "Dominican Republic",
                                    "1": "61.5545"
                                },
                                {
                                    "0": "Ireland",
                                    "1": "73.01725"
                                },
                                {
                                    "0": "Cambodia",
                                    "1": "47.90275"
                                },
                                {
                                    "0": "Singapore",
                                    "1": "71.22025"
                                },
                                {
                                    "0": "Sri Lanka",
                                    "1": "66.5260833333333"
                                },
                                {
                                    "0": "Portugal",
                                    "1": "70.4198333333333"
                                },
                                {
                                    "0": "Finland",
                                    "1": "72.9919166666667"
                                },
                                {
                                    "0": "Colombia",
                                    "1": "63.89775"
                                },
                                {
                                    "0": "Albania",
                                    "1": "68.4329166666667"
                                },
                                {
                                    "0": "Saudi Arabia",
                                    "1": "58.67875"
                                },
                                {
                                    "0": "Sao Tome and Principe",
                                    "1": "57.8963333333333"
                                },
                                {
                                    "0": "Cote d'Ivoire",
                                    "1": "48.4361666666667"
                                },
                                {
                                    "0": "Cuba",
                                    "1": "71.0450833333334"
                                },
                                {
                                    "0": "Algeria",
                                    "1": "59.0301666666667"
                                },
                                {
                                    "0": "France",
                                    "1": "74.3489166666667"
                                },
                                {
                                    "0": "Israel",
                                    "1": "73.6458333333333"
                                },
                                {
                                    "0": "Djibouti",
                                    "1": "46.38075"
                                },
                                {
                                    "0": "Syria",
                                    "1": "61.3461666666667"
                                },
                                {
                                    "0": "Senegal",
                                    "1": "50.6259166666667"
                                },
                                {
                                    "0": "Malaysia",
                                    "1": "64.2795833333333"
                                },
                                {
                                    "0": "Kenya",
                                    "1": "52.681"
                                },
                                {
                                    "0": "Ghana",
                                    "1": "52.3406666666667"
                                },
                                {
                                    "0": "Zambia",
                                    "1": "45.9963333333333"
                                },
                                {
                                    "0": "Iceland",
                                    "1": "76.5114166666667"
                                },
                                {
                                    "0": "Madagascar",
                                    "1": "47.7705833333333"
                                },
                                {
                                    "0": "Kuwait",
                                    "1": "68.9223333333333"
                                },
                                {
                                    "0": "Sierra Leone",
                                    "1": "36.7691666666667"
                                },
                                {
                                    "0": "Liberia",
                                    "1": "42.47625"
                                },
                                {
                                    "0": "Bosnia and Herzegovina",
                                    "1": "67.7078333333333"
                                },
                                {
                                    "0": "Philippines",
                                    "1": "60.96725"
                                },
                                {
                                    "0": "Benin",
                                    "1": "48.7799166666667"
                                },
                                {
                                    "0": "United States",
                                    "1": "73.4785"
                                },
                                {
                                    "0": "Guinea",
                                    "1": "43.2398333333333"
                                },
                                {
                                    "0": "Turkey",
                                    "1": "59.6964166666667"
                                },
                                {
                                    "0": "Nigeria",
                                    "1": "43.5813333333333"
                                },
                                {
                                    "0": "Rwanda",
                                    "1": "41.4815833333333"
                                },
                                {
                                    "0": "Zimbabwe",
                                    "1": "52.6631666666667"
                                },
                                {
                                    "0": "Congo, Rep.",
                                    "1": "52.5019166666667"
                                },
                                {
                                    "0": "Comoros",
                                    "1": "52.38175"
                                },
                                {
                                    "0": "China",
                                    "1": "61.78514"
                                },
                                {
                                    "0": "Netherlands",
                                    "1": "75.6485"
                                },
                                {
                                    "0": "Lesotho",
                                    "1": "50.0070833333333"
                                },
                                {
                                    "0": "Paraguay",
                                    "1": "66.8090833333333"
                                },
                                {
                                    "0": "Gabon",
                                    "1": "51.2205"
                                },
                                {
                                    "0": "Australia",
                                    "1": "74.6629166666667"
                                },
                                {
                                    "0": "Serbia",
                                    "1": "68.551"
                                },
                                {
                                    "0": "Mauritius",
                                    "1": "64.95325"
                                },
                                {
                                    "0": "Angola",
                                    "1": "37.8835"
                                },
                                {
                                    "0": "Libya",
                                    "1": "59.3041666666667"
                                },
                                {
                                    "0": "Reunion",
                                    "1": "66.64425"
                                },
                                {
                                    "0": "Bahrain",
                                    "1": "65.6056666666667"
                                },
                                {
                                    "0": "Spain",
                                    "1": "74.2034166666667"
                                },
                                {
                                    "0": "Malawi",
                                    "1": "43.3515833333333"
                                },
                                {
                                    "0": "Belgium",
                                    "1": "73.64175"
                                },
                                {
                                    "0": "West Bank and Gaza",
                                    "1": "60.3286666666667"
                                },
                                {
                                    "0": "Burundi",
                                    "1": "44.8173333333333"
                                },
                                {
                                    "0": "Taiwan",
                                    "1": "70.3366666666667"
                                },
                                {
                                    "0": "Thailand",
                                    "1": "62.20025"
                                },
                                {
                                    "0": "Togo",
                                    "1": "51.49875"
                                },
                                {
                                    "0": "Hong Kong, China",
                                    "1": "73.4928333333333"
                                },
                                {
                                    "0": "Burkina Faso",
                                    "1": "44.694"
                                },
                                {
                                    "0": "El Salvador",
                                    "1": "59.6333333333333"
                                },
                                {
                                    "0": "Italy",
                                    "1": "74.0138333333333"
                                },
                                {
                                    "0": "Uruguay",
                                    "1": "70.7815833333333"
                                },
                                {
                                    "0": "Oman",
                                    "1": "58.4426666666667"
                                },
                                {
                                    "0": "United Kingdom",
                                    "1": "73.9225833333333"
                                },
                                {
                                    "0": "Germany",
                                    "1": "73.4444166666667"
                                },
                                {
                                    "0": "Congo, Dem. Rep.",
                                    "1": "44.54375"
                                },
                                {
                                    "0": "Eritrea",
                                    "1": "45.99925"
                                },
                                {
                                    "0": "Canada",
                                    "1": "74.90275"
                                },
                                {
                                    "0": "Slovak Republic",
                                    "1": "70.6960833333333"
                                },
                                {
                                    "0": "Namibia",
                                    "1": "53.4913333333334"
                                },
                                {
                                    "0": "Argentina",
                                    "1": "69.0604166666667"
                                },
                                {
                                    "0": "Slovenia",
                                    "1": "71.60075"
                                },
                                {
                                    "0": "Greece",
                                    "1": "73.7331666666667"
                                },
                                {
                                    "0": "Egypt",
                                    "1": "56.243"
                                },
                                {
                                    "0": "Afghanistan",
                                    "1": "37.4788333333333"
                                },
                                {
                                    "0": "Puerto Rico",
                                    "1": "72.7393333333333"
                                },
                                {
                                    "0": "India",
                                    "1": "53.1660833333333"
                                },
                                {
                                    "0": "Chad",
                                    "1": "46.7735833333333"
                                },
                                {
                                    "0": "Iran",
                                    "1": "58.6365833333333"
                                },
                                {
                                    "0": "Chile",
                                    "1": "67.4309166666667"
                                },
                                {
                                    "0": "Gambia",
                                    "1": "44.4005833333333"
                                },
                                {
                                    "0": "Vietnam",
                                    "1": "57.4795"
                                },
                                {
                                    "0": "South Africa",
                                    "1": "53.9931666666667"
                                },
                                {
                                    "0": "Peru",
                                    "1": "58.8593333333333"
                                },
                                {
                                    "0": "Central African Republic",
                                    "1": "43.8669166666667"
                                },
                                {
                                    "0": "Japan",
                                    "1": "74.8269166666667"
                                },
                                {
                                    "0": "Denmark",
                                    "1": "74.3701666666667"
                                },
                                {
                                    "0": "Jamaica",
                                    "1": "68.7493333333333"
                                },
                                {
                                    "0": "Yemen, Rep.",
                                    "1": "46.7804166666667"
                                },
                                {
                                    "0": "Trinidad and Tobago",
                                    "1": "66.828"
                                },
                                {
                                    "0": "Mongolia",
                                    "1": "55.8903333333333"
                                },
                                {
                                    "0": "Iraq",
                                    "1": "56.58175"
                                },
                                {
                                    "0": "Mauritania",
                                    "1": "52.3020833333333"
                                },
                                {
                                    "0": "Korea, Rep.",
                                    "1": "65.001"
                                },
                                {
                                    "0": "Mozambique",
                                    "1": "40.3795"
                                },
                                {
                                    "0": "Switzerland",
                                    "1": "75.5650833333333"
                                },
                                {
                                    "0": "New Zealand",
                                    "1": "73.9895"
                                },
                                {
                                    "0": "Ecuador",
                                    "1": "62.8168333333333"
                                },
                                {
                                    "0": "Hungary",
                                    "1": "69.3931666666667"
                                },
                                {
                                    "0": "Korea, Dem. Rep.",
                                    "1": "63.6073333333333"
                                },
                                {
                                    "0": "Norway",
                                    "1": "75.843"
                                },
                                {
                                    "0": "Honduras",
                                    "1": "57.9208333333333"
                                },
                                {
                                    "0": "Botswana",
                                    "1": "54.5975"
                                },
                                {
                                    "0": "Pakistan",
                                    "1": "54.88225"
                                },
                                {
                                    "0": "Romania",
                                    "1": "68.2906666666667"
                                },
                                {
                                    "0": "Brazil",
                                    "1": "62.2395"
                                },
                                {
                                    "0": "Austria",
                                    "1": "73.10325"
                                },
                                {
                                    "0": "Guatemala",
                                    "1": "56.7294166666667"
                                },
                                {
                                    "0": "Guinea-Bissau",
                                    "1": "39.21025"
                                },
                                {
                                    "0": "Bolivia",
                                    "1": "52.5045833333333"
                                },
                                {
                                    "0": "Ethiopia",
                                    "1": "44.47575"
                                },
                                {
                                    "0": "Niger",
                                    "1": "44.5586666666667"
                                },
                                {
                                    "0": "Panama",
                                    "1": "67.80175"
                                },
                                {
                                    "0": "Bulgaria",
                                    "1": "69.74375"
                                },
                                {
                                    "0": "Croatia",
                                    "1": "70.0559166666667"
                                },
                                {
                                    "0": "Tunisia",
                                    "1": "60.721"
                                },
                                {
                                    "0": "Sudan",
                                    "1": "48.4005"
                                },
                                {
                                    "0": "Mali",
                                    "1": "43.4135"
                                },
                                {
                                    "0": "Swaziland",
                                    "1": "49.0024166666667"
                                },
                                {
                                    "0": "Morocco",
                                    "1": "57.6088333333333"
                                },
                                {
                                    "0": "Myanmar",
                                    "1": "53.3216666666667"
                                },
                                {
                                    "0": "Nicaragua",
                                    "1": "58.3494166666667"
                                },
                                {
                                    "0": "Mexico",
                                    "1": "65.4088333333333"
                                },
                                {
                                    "0": "Nepal",
                                    "1": "48.9863333333333"
                                },
                                {
                                    "0": "Tanzania",
                                    "1": "47.9123333333333"
                                },
                                {
                                    "0": "Poland",
                                    "1": "70.1769166666667"
                                },
                                {
                                    "0": "Lebanon",
                                    "1": "65.8656666666667"
                                },
                                {
                                    "0": "Costa Rica",
                                    "1": "70.1814166666667"
                                },
                                {
                                    "0": "Haiti",
                                    "1": "50.16525"
                                },
                                {
                                    "0": "Equatorial Guinea",
                                    "1": "42.96"
                                },
                                {
                                    "0": "Somalia",
                                    "1": "40.9886666666667"
                                }
                            ]
                        },
                        "text/html": "<table><tr><th>country</th><th>avg</th></tr><tr><td>Indonesia</td><td>54.33575</td></tr><tr><td>Bangladesh</td><td>49.8340833333333</td></tr><tr><td>Venezuela</td><td>66.5806666666667</td></tr><tr><td>Cameroon</td><td>48.1285</td></tr><tr><td>Czech Republic</td><td>71.5105</td></tr><tr><td>Sweden</td><td>76.177</td></tr><tr><td>Uganda</td><td>47.6188333333333</td></tr><tr><td>Montenegro</td><td>70.2991666666667</td></tr><tr><td>Jordan</td><td>59.7864166666667</td></tr><tr><td>Dominican Republic</td><td>61.5545</td></tr><tr><td>Ireland</td><td>73.01725</td></tr><tr><td>Cambodia</td><td>47.90275</td></tr><tr><td>Singapore</td><td>71.22025</td></tr><tr><td>Sri Lanka</td><td>66.5260833333333</td></tr><tr><td>Portugal</td><td>70.4198333333333</td></tr><tr><td>Finland</td><td>72.9919166666667</td></tr><tr><td>Colombia</td><td>63.89775</td></tr><tr><td>Albania</td><td>68.4329166666667</td></tr><tr><td>Saudi Arabia</td><td>58.67875</td></tr><tr><td>Sao Tome and Principe</td><td>57.8963333333333</td></tr><tr><td>Cote d'Ivoire</td><td>48.4361666666667</td></tr><tr><td>Cuba</td><td>71.0450833333334</td></tr><tr><td>Algeria</td><td>59.0301666666667</td></tr><tr><td>France</td><td>74.3489166666667</td></tr><tr><td>Israel</td><td>73.6458333333333</td></tr><tr><td>Djibouti</td><td>46.38075</td></tr><tr><td>Syria</td><td>61.3461666666667</td></tr><tr><td>Senegal</td><td>50.6259166666667</td></tr><tr><td>Malaysia</td><td>64.2795833333333</td></tr><tr><td>Kenya</td><td>52.681</td></tr><tr><td>Ghana</td><td>52.3406666666667</td></tr><tr><td>Zambia</td><td>45.9963333333333</td></tr><tr><td>Iceland</td><td>76.5114166666667</td></tr><tr><td>Madagascar</td><td>47.7705833333333</td></tr><tr><td>Kuwait</td><td>68.9223333333333</td></tr><tr><td>Sierra Leone</td><td>36.7691666666667</td></tr><tr><td>Liberia</td><td>42.47625</td></tr><tr><td>Bosnia and Herzegovina</td><td>67.7078333333333</td></tr><tr><td>Philippines</td><td>60.96725</td></tr><tr><td>Benin</td><td>48.7799166666667</td></tr><tr><td>United States</td><td>73.4785</td></tr><tr><td>Guinea</td><td>43.2398333333333</td></tr><tr><td>Turkey</td><td>59.6964166666667</td></tr><tr><td>Nigeria</td><td>43.5813333333333</td></tr><tr><td>Rwanda</td><td>41.4815833333333</td></tr><tr><td>Zimbabwe</td><td>52.6631666666667</td></tr><tr><td>Congo, Rep.</td><td>52.5019166666667</td></tr><tr><td>Comoros</td><td>52.38175</td></tr><tr><td>China</td><td>61.78514</td></tr><tr><td>Netherlands</td><td>75.6485</td></tr><tr><td>Lesotho</td><td>50.0070833333333</td></tr><tr><td>Paraguay</td><td>66.8090833333333</td></tr><tr><td>Gabon</td><td>51.2205</td></tr><tr><td>Australia</td><td>74.6629166666667</td></tr><tr><td>Serbia</td><td>68.551</td></tr><tr><td>Mauritius</td><td>64.95325</td></tr><tr><td>Angola</td><td>37.8835</td></tr><tr><td>Libya</td><td>59.3041666666667</td></tr><tr><td>Reunion</td><td>66.64425</td></tr><tr><td>Bahrain</td><td>65.6056666666667</td></tr><tr><td>Spain</td><td>74.2034166666667</td></tr><tr><td>Malawi</td><td>43.3515833333333</td></tr><tr><td>Belgium</td><td>73.64175</td></tr><tr><td>West Bank and Gaza</td><td>60.3286666666667</td></tr><tr><td>Burundi</td><td>44.8173333333333</td></tr><tr><td>Taiwan</td><td>70.3366666666667</td></tr><tr><td>Thailand</td><td>62.20025</td></tr><tr><td>Togo</td><td>51.49875</td></tr><tr><td>Hong Kong, China</td><td>73.4928333333333</td></tr><tr><td>Burkina Faso</td><td>44.694</td></tr><tr><td>El Salvador</td><td>59.6333333333333</td></tr><tr><td>Italy</td><td>74.0138333333333</td></tr><tr><td>Uruguay</td><td>70.7815833333333</td></tr><tr><td>Oman</td><td>58.4426666666667</td></tr><tr><td>United Kingdom</td><td>73.9225833333333</td></tr><tr><td>Germany</td><td>73.4444166666667</td></tr><tr><td>Congo, Dem. Rep.</td><td>44.54375</td></tr><tr><td>Eritrea</td><td>45.99925</td></tr><tr><td>Canada</td><td>74.90275</td></tr><tr><td>Slovak Republic</td><td>70.6960833333333</td></tr><tr><td>Namibia</td><td>53.4913333333334</td></tr><tr><td>Argentina</td><td>69.0604166666667</td></tr><tr><td>Slovenia</td><td>71.60075</td></tr><tr><td>Greece</td><td>73.7331666666667</td></tr><tr><td>Egypt</td><td>56.243</td></tr><tr><td>Afghanistan</td><td>37.4788333333333</td></tr><tr><td>Puerto Rico</td><td>72.7393333333333</td></tr><tr><td>India</td><td>53.1660833333333</td></tr><tr><td>Chad</td><td>46.7735833333333</td></tr><tr><td>Iran</td><td>58.6365833333333</td></tr><tr><td>Chile</td><td>67.4309166666667</td></tr><tr><td>Gambia</td><td>44.4005833333333</td></tr><tr><td>Vietnam</td><td>57.4795</td></tr><tr><td>South Africa</td><td>53.9931666666667</td></tr><tr><td>Peru</td><td>58.8593333333333</td></tr><tr><td>Central African Republic</td><td>43.8669166666667</td></tr><tr><td>Japan</td><td>74.8269166666667</td></tr><tr><td>Denmark</td><td>74.3701666666667</td></tr><tr><td>Jamaica</td><td>68.7493333333333</td></tr><tr><td>Yemen, Rep.</td><td>46.7804166666667</td></tr><tr><td>Trinidad and Tobago</td><td>66.828</td></tr><tr><td>Mongolia</td><td>55.8903333333333</td></tr><tr><td>Iraq</td><td>56.58175</td></tr><tr><td>Mauritania</td><td>52.3020833333333</td></tr><tr><td>Korea, Rep.</td><td>65.001</td></tr><tr><td>Mozambique</td><td>40.3795</td></tr><tr><td>Switzerland</td><td>75.5650833333333</td></tr><tr><td>New Zealand</td><td>73.9895</td></tr><tr><td>Ecuador</td><td>62.8168333333333</td></tr><tr><td>Hungary</td><td>69.3931666666667</td></tr><tr><td>Korea, Dem. Rep.</td><td>63.6073333333333</td></tr><tr><td>Norway</td><td>75.843</td></tr><tr><td>Honduras</td><td>57.9208333333333</td></tr><tr><td>Botswana</td><td>54.5975</td></tr><tr><td>Pakistan</td><td>54.88225</td></tr><tr><td>Romania</td><td>68.2906666666667</td></tr><tr><td>Brazil</td><td>62.2395</td></tr><tr><td>Austria</td><td>73.10325</td></tr><tr><td>Guatemala</td><td>56.7294166666667</td></tr><tr><td>Guinea-Bissau</td><td>39.21025</td></tr><tr><td>Bolivia</td><td>52.5045833333333</td></tr><tr><td>Ethiopia</td><td>44.47575</td></tr><tr><td>Niger</td><td>44.5586666666667</td></tr><tr><td>Panama</td><td>67.80175</td></tr><tr><td>Bulgaria</td><td>69.74375</td></tr><tr><td>Croatia</td><td>70.0559166666667</td></tr><tr><td>Tunisia</td><td>60.721</td></tr><tr><td>Sudan</td><td>48.4005</td></tr><tr><td>Mali</td><td>43.4135</td></tr><tr><td>Swaziland</td><td>49.0024166666667</td></tr><tr><td>Morocco</td><td>57.6088333333333</td></tr><tr><td>Myanmar</td><td>53.3216666666667</td></tr><tr><td>Nicaragua</td><td>58.3494166666667</td></tr><tr><td>Mexico</td><td>65.4088333333333</td></tr><tr><td>Nepal</td><td>48.9863333333333</td></tr><tr><td>Tanzania</td><td>47.9123333333333</td></tr><tr><td>Poland</td><td>70.1769166666667</td></tr><tr><td>Lebanon</td><td>65.8656666666667</td></tr><tr><td>Costa Rica</td><td>70.1814166666667</td></tr><tr><td>Haiti</td><td>50.16525</td></tr><tr><td>Equatorial Guinea</td><td>42.96</td></tr><tr><td>Somalia</td><td>40.9886666666667</td></tr></table>"
                    },
                    "metadata": {}
                }
            ],
            "execution_count": 14
        },
        {
            "cell_type": "code",
            "source": [
                "-- จะได้ null ค่าเฉลี่ยของทุกประเทศ เป็นผลมาจากการทำ grouping set\n",
                "select country, avg(lifeexp) from gapminder \n",
                "    group by grouping sets (country, ()) --จะทำการ grouping country ลำดับที่ 1 จะได้ค่าเฉลี่ยของแต่ละประเทศออกมา และละดับที่ 2 () overall เอาทั้งหมดเป็น avg(lifeexp) "
            ],
            "metadata": {
                "azdata_cell_guid": "62787060-b3b8-4474-bdb4-f99c5881df72"
            },
            "outputs": [
                {
                    "output_type": "display_data",
                    "data": {
                        "text/html": "(143 row(s) affected)"
                    },
                    "metadata": {}
                },
                {
                    "output_type": "display_data",
                    "data": {
                        "text/html": "Total execution time: 00:00:00.009"
                    },
                    "metadata": {}
                },
                {
                    "output_type": "execute_result",
                    "execution_count": 15,
                    "data": {
                        "application/vnd.dataresource+json": {
                            "schema": {
                                "fields": [
                                    {
                                        "name": "country"
                                    },
                                    {
                                        "name": "avg"
                                    }
                                ]
                            },
                            "data": [
                                {
                                    "0": "NULL",
                                    "1": "59.4744393661971"
                                },
                                {
                                    "0": "Indonesia",
                                    "1": "54.33575"
                                },
                                {
                                    "0": "Bangladesh",
                                    "1": "49.8340833333333"
                                },
                                {
                                    "0": "Venezuela",
                                    "1": "66.5806666666667"
                                },
                                {
                                    "0": "Cameroon",
                                    "1": "48.1285"
                                },
                                {
                                    "0": "Czech Republic",
                                    "1": "71.5105"
                                },
                                {
                                    "0": "Sweden",
                                    "1": "76.177"
                                },
                                {
                                    "0": "Uganda",
                                    "1": "47.6188333333333"
                                },
                                {
                                    "0": "Montenegro",
                                    "1": "70.2991666666667"
                                },
                                {
                                    "0": "Jordan",
                                    "1": "59.7864166666667"
                                },
                                {
                                    "0": "Dominican Republic",
                                    "1": "61.5545"
                                },
                                {
                                    "0": "Ireland",
                                    "1": "73.01725"
                                },
                                {
                                    "0": "Cambodia",
                                    "1": "47.90275"
                                },
                                {
                                    "0": "Singapore",
                                    "1": "71.22025"
                                },
                                {
                                    "0": "Sri Lanka",
                                    "1": "66.5260833333333"
                                },
                                {
                                    "0": "Portugal",
                                    "1": "70.4198333333333"
                                },
                                {
                                    "0": "Finland",
                                    "1": "72.9919166666667"
                                },
                                {
                                    "0": "Colombia",
                                    "1": "63.89775"
                                },
                                {
                                    "0": "Albania",
                                    "1": "68.4329166666667"
                                },
                                {
                                    "0": "Saudi Arabia",
                                    "1": "58.67875"
                                },
                                {
                                    "0": "Sao Tome and Principe",
                                    "1": "57.8963333333333"
                                },
                                {
                                    "0": "Cote d'Ivoire",
                                    "1": "48.4361666666667"
                                },
                                {
                                    "0": "Cuba",
                                    "1": "71.0450833333334"
                                },
                                {
                                    "0": "Algeria",
                                    "1": "59.0301666666667"
                                },
                                {
                                    "0": "France",
                                    "1": "74.3489166666667"
                                },
                                {
                                    "0": "Israel",
                                    "1": "73.6458333333333"
                                },
                                {
                                    "0": "Djibouti",
                                    "1": "46.38075"
                                },
                                {
                                    "0": "Syria",
                                    "1": "61.3461666666667"
                                },
                                {
                                    "0": "Senegal",
                                    "1": "50.6259166666667"
                                },
                                {
                                    "0": "Malaysia",
                                    "1": "64.2795833333333"
                                },
                                {
                                    "0": "Kenya",
                                    "1": "52.681"
                                },
                                {
                                    "0": "Ghana",
                                    "1": "52.3406666666667"
                                },
                                {
                                    "0": "Zambia",
                                    "1": "45.9963333333333"
                                },
                                {
                                    "0": "Iceland",
                                    "1": "76.5114166666667"
                                },
                                {
                                    "0": "Madagascar",
                                    "1": "47.7705833333333"
                                },
                                {
                                    "0": "Kuwait",
                                    "1": "68.9223333333333"
                                },
                                {
                                    "0": "Sierra Leone",
                                    "1": "36.7691666666667"
                                },
                                {
                                    "0": "Liberia",
                                    "1": "42.47625"
                                },
                                {
                                    "0": "Bosnia and Herzegovina",
                                    "1": "67.7078333333333"
                                },
                                {
                                    "0": "Philippines",
                                    "1": "60.96725"
                                },
                                {
                                    "0": "Benin",
                                    "1": "48.7799166666667"
                                },
                                {
                                    "0": "United States",
                                    "1": "73.4785"
                                },
                                {
                                    "0": "Guinea",
                                    "1": "43.2398333333333"
                                },
                                {
                                    "0": "Turkey",
                                    "1": "59.6964166666667"
                                },
                                {
                                    "0": "Nigeria",
                                    "1": "43.5813333333333"
                                },
                                {
                                    "0": "Rwanda",
                                    "1": "41.4815833333333"
                                },
                                {
                                    "0": "Zimbabwe",
                                    "1": "52.6631666666667"
                                },
                                {
                                    "0": "Congo, Rep.",
                                    "1": "52.5019166666667"
                                },
                                {
                                    "0": "Comoros",
                                    "1": "52.38175"
                                },
                                {
                                    "0": "China",
                                    "1": "61.78514"
                                },
                                {
                                    "0": "Netherlands",
                                    "1": "75.6485"
                                },
                                {
                                    "0": "Lesotho",
                                    "1": "50.0070833333333"
                                },
                                {
                                    "0": "Paraguay",
                                    "1": "66.8090833333333"
                                },
                                {
                                    "0": "Gabon",
                                    "1": "51.2205"
                                },
                                {
                                    "0": "Australia",
                                    "1": "74.6629166666667"
                                },
                                {
                                    "0": "Serbia",
                                    "1": "68.551"
                                },
                                {
                                    "0": "Mauritius",
                                    "1": "64.95325"
                                },
                                {
                                    "0": "Angola",
                                    "1": "37.8835"
                                },
                                {
                                    "0": "Libya",
                                    "1": "59.3041666666667"
                                },
                                {
                                    "0": "Reunion",
                                    "1": "66.64425"
                                },
                                {
                                    "0": "Bahrain",
                                    "1": "65.6056666666667"
                                },
                                {
                                    "0": "Spain",
                                    "1": "74.2034166666667"
                                },
                                {
                                    "0": "Malawi",
                                    "1": "43.3515833333333"
                                },
                                {
                                    "0": "Belgium",
                                    "1": "73.64175"
                                },
                                {
                                    "0": "West Bank and Gaza",
                                    "1": "60.3286666666667"
                                },
                                {
                                    "0": "Burundi",
                                    "1": "44.8173333333333"
                                },
                                {
                                    "0": "Taiwan",
                                    "1": "70.3366666666667"
                                },
                                {
                                    "0": "Thailand",
                                    "1": "62.20025"
                                },
                                {
                                    "0": "Togo",
                                    "1": "51.49875"
                                },
                                {
                                    "0": "Hong Kong, China",
                                    "1": "73.4928333333333"
                                },
                                {
                                    "0": "Burkina Faso",
                                    "1": "44.694"
                                },
                                {
                                    "0": "El Salvador",
                                    "1": "59.6333333333333"
                                },
                                {
                                    "0": "Italy",
                                    "1": "74.0138333333333"
                                },
                                {
                                    "0": "Uruguay",
                                    "1": "70.7815833333333"
                                },
                                {
                                    "0": "Oman",
                                    "1": "58.4426666666667"
                                },
                                {
                                    "0": "United Kingdom",
                                    "1": "73.9225833333333"
                                },
                                {
                                    "0": "Germany",
                                    "1": "73.4444166666667"
                                },
                                {
                                    "0": "Congo, Dem. Rep.",
                                    "1": "44.54375"
                                },
                                {
                                    "0": "Eritrea",
                                    "1": "45.99925"
                                },
                                {
                                    "0": "Canada",
                                    "1": "74.90275"
                                },
                                {
                                    "0": "Slovak Republic",
                                    "1": "70.6960833333333"
                                },
                                {
                                    "0": "Namibia",
                                    "1": "53.4913333333334"
                                },
                                {
                                    "0": "Argentina",
                                    "1": "69.0604166666667"
                                },
                                {
                                    "0": "Slovenia",
                                    "1": "71.60075"
                                },
                                {
                                    "0": "Greece",
                                    "1": "73.7331666666667"
                                },
                                {
                                    "0": "Egypt",
                                    "1": "56.243"
                                },
                                {
                                    "0": "Afghanistan",
                                    "1": "37.4788333333333"
                                },
                                {
                                    "0": "Puerto Rico",
                                    "1": "72.7393333333333"
                                },
                                {
                                    "0": "India",
                                    "1": "53.1660833333333"
                                },
                                {
                                    "0": "Chad",
                                    "1": "46.7735833333333"
                                },
                                {
                                    "0": "Iran",
                                    "1": "58.6365833333333"
                                },
                                {
                                    "0": "Chile",
                                    "1": "67.4309166666667"
                                },
                                {
                                    "0": "Gambia",
                                    "1": "44.4005833333333"
                                },
                                {
                                    "0": "Vietnam",
                                    "1": "57.4795"
                                },
                                {
                                    "0": "South Africa",
                                    "1": "53.9931666666667"
                                },
                                {
                                    "0": "Peru",
                                    "1": "58.8593333333333"
                                },
                                {
                                    "0": "Central African Republic",
                                    "1": "43.8669166666667"
                                },
                                {
                                    "0": "Japan",
                                    "1": "74.8269166666667"
                                },
                                {
                                    "0": "Denmark",
                                    "1": "74.3701666666667"
                                },
                                {
                                    "0": "Jamaica",
                                    "1": "68.7493333333333"
                                },
                                {
                                    "0": "Yemen, Rep.",
                                    "1": "46.7804166666667"
                                },
                                {
                                    "0": "Trinidad and Tobago",
                                    "1": "66.828"
                                },
                                {
                                    "0": "Mongolia",
                                    "1": "55.8903333333333"
                                },
                                {
                                    "0": "Iraq",
                                    "1": "56.58175"
                                },
                                {
                                    "0": "Mauritania",
                                    "1": "52.3020833333333"
                                },
                                {
                                    "0": "Korea, Rep.",
                                    "1": "65.001"
                                },
                                {
                                    "0": "Mozambique",
                                    "1": "40.3795"
                                },
                                {
                                    "0": "Switzerland",
                                    "1": "75.5650833333333"
                                },
                                {
                                    "0": "New Zealand",
                                    "1": "73.9895"
                                },
                                {
                                    "0": "Ecuador",
                                    "1": "62.8168333333333"
                                },
                                {
                                    "0": "Hungary",
                                    "1": "69.3931666666667"
                                },
                                {
                                    "0": "Korea, Dem. Rep.",
                                    "1": "63.6073333333333"
                                },
                                {
                                    "0": "Norway",
                                    "1": "75.843"
                                },
                                {
                                    "0": "Honduras",
                                    "1": "57.9208333333333"
                                },
                                {
                                    "0": "Botswana",
                                    "1": "54.5975"
                                },
                                {
                                    "0": "Pakistan",
                                    "1": "54.88225"
                                },
                                {
                                    "0": "Romania",
                                    "1": "68.2906666666667"
                                },
                                {
                                    "0": "Brazil",
                                    "1": "62.2395"
                                },
                                {
                                    "0": "Austria",
                                    "1": "73.10325"
                                },
                                {
                                    "0": "Guatemala",
                                    "1": "56.7294166666667"
                                },
                                {
                                    "0": "Guinea-Bissau",
                                    "1": "39.21025"
                                },
                                {
                                    "0": "Bolivia",
                                    "1": "52.5045833333333"
                                },
                                {
                                    "0": "Ethiopia",
                                    "1": "44.47575"
                                },
                                {
                                    "0": "Niger",
                                    "1": "44.5586666666667"
                                },
                                {
                                    "0": "Panama",
                                    "1": "67.80175"
                                },
                                {
                                    "0": "Bulgaria",
                                    "1": "69.74375"
                                },
                                {
                                    "0": "Croatia",
                                    "1": "70.0559166666667"
                                },
                                {
                                    "0": "Tunisia",
                                    "1": "60.721"
                                },
                                {
                                    "0": "Sudan",
                                    "1": "48.4005"
                                },
                                {
                                    "0": "Mali",
                                    "1": "43.4135"
                                },
                                {
                                    "0": "Swaziland",
                                    "1": "49.0024166666667"
                                },
                                {
                                    "0": "Morocco",
                                    "1": "57.6088333333333"
                                },
                                {
                                    "0": "Myanmar",
                                    "1": "53.3216666666667"
                                },
                                {
                                    "0": "Nicaragua",
                                    "1": "58.3494166666667"
                                },
                                {
                                    "0": "Mexico",
                                    "1": "65.4088333333333"
                                },
                                {
                                    "0": "Nepal",
                                    "1": "48.9863333333333"
                                },
                                {
                                    "0": "Tanzania",
                                    "1": "47.9123333333333"
                                },
                                {
                                    "0": "Poland",
                                    "1": "70.1769166666667"
                                },
                                {
                                    "0": "Lebanon",
                                    "1": "65.8656666666667"
                                },
                                {
                                    "0": "Costa Rica",
                                    "1": "70.1814166666667"
                                },
                                {
                                    "0": "Haiti",
                                    "1": "50.16525"
                                },
                                {
                                    "0": "Equatorial Guinea",
                                    "1": "42.96"
                                },
                                {
                                    "0": "Somalia",
                                    "1": "40.9886666666667"
                                }
                            ]
                        },
                        "text/html": "<table><tr><th>country</th><th>avg</th></tr><tr><td>NULL</td><td>59.4744393661971</td></tr><tr><td>Indonesia</td><td>54.33575</td></tr><tr><td>Bangladesh</td><td>49.8340833333333</td></tr><tr><td>Venezuela</td><td>66.5806666666667</td></tr><tr><td>Cameroon</td><td>48.1285</td></tr><tr><td>Czech Republic</td><td>71.5105</td></tr><tr><td>Sweden</td><td>76.177</td></tr><tr><td>Uganda</td><td>47.6188333333333</td></tr><tr><td>Montenegro</td><td>70.2991666666667</td></tr><tr><td>Jordan</td><td>59.7864166666667</td></tr><tr><td>Dominican Republic</td><td>61.5545</td></tr><tr><td>Ireland</td><td>73.01725</td></tr><tr><td>Cambodia</td><td>47.90275</td></tr><tr><td>Singapore</td><td>71.22025</td></tr><tr><td>Sri Lanka</td><td>66.5260833333333</td></tr><tr><td>Portugal</td><td>70.4198333333333</td></tr><tr><td>Finland</td><td>72.9919166666667</td></tr><tr><td>Colombia</td><td>63.89775</td></tr><tr><td>Albania</td><td>68.4329166666667</td></tr><tr><td>Saudi Arabia</td><td>58.67875</td></tr><tr><td>Sao Tome and Principe</td><td>57.8963333333333</td></tr><tr><td>Cote d'Ivoire</td><td>48.4361666666667</td></tr><tr><td>Cuba</td><td>71.0450833333334</td></tr><tr><td>Algeria</td><td>59.0301666666667</td></tr><tr><td>France</td><td>74.3489166666667</td></tr><tr><td>Israel</td><td>73.6458333333333</td></tr><tr><td>Djibouti</td><td>46.38075</td></tr><tr><td>Syria</td><td>61.3461666666667</td></tr><tr><td>Senegal</td><td>50.6259166666667</td></tr><tr><td>Malaysia</td><td>64.2795833333333</td></tr><tr><td>Kenya</td><td>52.681</td></tr><tr><td>Ghana</td><td>52.3406666666667</td></tr><tr><td>Zambia</td><td>45.9963333333333</td></tr><tr><td>Iceland</td><td>76.5114166666667</td></tr><tr><td>Madagascar</td><td>47.7705833333333</td></tr><tr><td>Kuwait</td><td>68.9223333333333</td></tr><tr><td>Sierra Leone</td><td>36.7691666666667</td></tr><tr><td>Liberia</td><td>42.47625</td></tr><tr><td>Bosnia and Herzegovina</td><td>67.7078333333333</td></tr><tr><td>Philippines</td><td>60.96725</td></tr><tr><td>Benin</td><td>48.7799166666667</td></tr><tr><td>United States</td><td>73.4785</td></tr><tr><td>Guinea</td><td>43.2398333333333</td></tr><tr><td>Turkey</td><td>59.6964166666667</td></tr><tr><td>Nigeria</td><td>43.5813333333333</td></tr><tr><td>Rwanda</td><td>41.4815833333333</td></tr><tr><td>Zimbabwe</td><td>52.6631666666667</td></tr><tr><td>Congo, Rep.</td><td>52.5019166666667</td></tr><tr><td>Comoros</td><td>52.38175</td></tr><tr><td>China</td><td>61.78514</td></tr><tr><td>Netherlands</td><td>75.6485</td></tr><tr><td>Lesotho</td><td>50.0070833333333</td></tr><tr><td>Paraguay</td><td>66.8090833333333</td></tr><tr><td>Gabon</td><td>51.2205</td></tr><tr><td>Australia</td><td>74.6629166666667</td></tr><tr><td>Serbia</td><td>68.551</td></tr><tr><td>Mauritius</td><td>64.95325</td></tr><tr><td>Angola</td><td>37.8835</td></tr><tr><td>Libya</td><td>59.3041666666667</td></tr><tr><td>Reunion</td><td>66.64425</td></tr><tr><td>Bahrain</td><td>65.6056666666667</td></tr><tr><td>Spain</td><td>74.2034166666667</td></tr><tr><td>Malawi</td><td>43.3515833333333</td></tr><tr><td>Belgium</td><td>73.64175</td></tr><tr><td>West Bank and Gaza</td><td>60.3286666666667</td></tr><tr><td>Burundi</td><td>44.8173333333333</td></tr><tr><td>Taiwan</td><td>70.3366666666667</td></tr><tr><td>Thailand</td><td>62.20025</td></tr><tr><td>Togo</td><td>51.49875</td></tr><tr><td>Hong Kong, China</td><td>73.4928333333333</td></tr><tr><td>Burkina Faso</td><td>44.694</td></tr><tr><td>El Salvador</td><td>59.6333333333333</td></tr><tr><td>Italy</td><td>74.0138333333333</td></tr><tr><td>Uruguay</td><td>70.7815833333333</td></tr><tr><td>Oman</td><td>58.4426666666667</td></tr><tr><td>United Kingdom</td><td>73.9225833333333</td></tr><tr><td>Germany</td><td>73.4444166666667</td></tr><tr><td>Congo, Dem. Rep.</td><td>44.54375</td></tr><tr><td>Eritrea</td><td>45.99925</td></tr><tr><td>Canada</td><td>74.90275</td></tr><tr><td>Slovak Republic</td><td>70.6960833333333</td></tr><tr><td>Namibia</td><td>53.4913333333334</td></tr><tr><td>Argentina</td><td>69.0604166666667</td></tr><tr><td>Slovenia</td><td>71.60075</td></tr><tr><td>Greece</td><td>73.7331666666667</td></tr><tr><td>Egypt</td><td>56.243</td></tr><tr><td>Afghanistan</td><td>37.4788333333333</td></tr><tr><td>Puerto Rico</td><td>72.7393333333333</td></tr><tr><td>India</td><td>53.1660833333333</td></tr><tr><td>Chad</td><td>46.7735833333333</td></tr><tr><td>Iran</td><td>58.6365833333333</td></tr><tr><td>Chile</td><td>67.4309166666667</td></tr><tr><td>Gambia</td><td>44.4005833333333</td></tr><tr><td>Vietnam</td><td>57.4795</td></tr><tr><td>South Africa</td><td>53.9931666666667</td></tr><tr><td>Peru</td><td>58.8593333333333</td></tr><tr><td>Central African Republic</td><td>43.8669166666667</td></tr><tr><td>Japan</td><td>74.8269166666667</td></tr><tr><td>Denmark</td><td>74.3701666666667</td></tr><tr><td>Jamaica</td><td>68.7493333333333</td></tr><tr><td>Yemen, Rep.</td><td>46.7804166666667</td></tr><tr><td>Trinidad and Tobago</td><td>66.828</td></tr><tr><td>Mongolia</td><td>55.8903333333333</td></tr><tr><td>Iraq</td><td>56.58175</td></tr><tr><td>Mauritania</td><td>52.3020833333333</td></tr><tr><td>Korea, Rep.</td><td>65.001</td></tr><tr><td>Mozambique</td><td>40.3795</td></tr><tr><td>Switzerland</td><td>75.5650833333333</td></tr><tr><td>New Zealand</td><td>73.9895</td></tr><tr><td>Ecuador</td><td>62.8168333333333</td></tr><tr><td>Hungary</td><td>69.3931666666667</td></tr><tr><td>Korea, Dem. Rep.</td><td>63.6073333333333</td></tr><tr><td>Norway</td><td>75.843</td></tr><tr><td>Honduras</td><td>57.9208333333333</td></tr><tr><td>Botswana</td><td>54.5975</td></tr><tr><td>Pakistan</td><td>54.88225</td></tr><tr><td>Romania</td><td>68.2906666666667</td></tr><tr><td>Brazil</td><td>62.2395</td></tr><tr><td>Austria</td><td>73.10325</td></tr><tr><td>Guatemala</td><td>56.7294166666667</td></tr><tr><td>Guinea-Bissau</td><td>39.21025</td></tr><tr><td>Bolivia</td><td>52.5045833333333</td></tr><tr><td>Ethiopia</td><td>44.47575</td></tr><tr><td>Niger</td><td>44.5586666666667</td></tr><tr><td>Panama</td><td>67.80175</td></tr><tr><td>Bulgaria</td><td>69.74375</td></tr><tr><td>Croatia</td><td>70.0559166666667</td></tr><tr><td>Tunisia</td><td>60.721</td></tr><tr><td>Sudan</td><td>48.4005</td></tr><tr><td>Mali</td><td>43.4135</td></tr><tr><td>Swaziland</td><td>49.0024166666667</td></tr><tr><td>Morocco</td><td>57.6088333333333</td></tr><tr><td>Myanmar</td><td>53.3216666666667</td></tr><tr><td>Nicaragua</td><td>58.3494166666667</td></tr><tr><td>Mexico</td><td>65.4088333333333</td></tr><tr><td>Nepal</td><td>48.9863333333333</td></tr><tr><td>Tanzania</td><td>47.9123333333333</td></tr><tr><td>Poland</td><td>70.1769166666667</td></tr><tr><td>Lebanon</td><td>65.8656666666667</td></tr><tr><td>Costa Rica</td><td>70.1814166666667</td></tr><tr><td>Haiti</td><td>50.16525</td></tr><tr><td>Equatorial Guinea</td><td>42.96</td></tr><tr><td>Somalia</td><td>40.9886666666667</td></tr></table>"
                    },
                    "metadata": {}
                }
            ],
            "execution_count": 15
        },
        {
            "cell_type": "code",
            "source": [
                "select country, avg(lifeexp) from gapminder \n",
                "    group by country"
            ],
            "metadata": {
                "azdata_cell_guid": "7c098918-3546-4138-971a-c40bfdbce600"
            },
            "outputs": [
                {
                    "output_type": "display_data",
                    "data": {
                        "text/html": "(142 row(s) affected)"
                    },
                    "metadata": {}
                },
                {
                    "output_type": "display_data",
                    "data": {
                        "text/html": "Total execution time: 00:00:00.009"
                    },
                    "metadata": {}
                },
                {
                    "output_type": "execute_result",
                    "execution_count": 16,
                    "data": {
                        "application/vnd.dataresource+json": {
                            "schema": {
                                "fields": [
                                    {
                                        "name": "country"
                                    },
                                    {
                                        "name": "avg"
                                    }
                                ]
                            },
                            "data": [
                                {
                                    "0": "Indonesia",
                                    "1": "54.33575"
                                },
                                {
                                    "0": "Bangladesh",
                                    "1": "49.8340833333333"
                                },
                                {
                                    "0": "Venezuela",
                                    "1": "66.5806666666667"
                                },
                                {
                                    "0": "Cameroon",
                                    "1": "48.1285"
                                },
                                {
                                    "0": "Czech Republic",
                                    "1": "71.5105"
                                },
                                {
                                    "0": "Sweden",
                                    "1": "76.177"
                                },
                                {
                                    "0": "Uganda",
                                    "1": "47.6188333333333"
                                },
                                {
                                    "0": "Montenegro",
                                    "1": "70.2991666666667"
                                },
                                {
                                    "0": "Jordan",
                                    "1": "59.7864166666667"
                                },
                                {
                                    "0": "Dominican Republic",
                                    "1": "61.5545"
                                },
                                {
                                    "0": "Ireland",
                                    "1": "73.01725"
                                },
                                {
                                    "0": "Cambodia",
                                    "1": "47.90275"
                                },
                                {
                                    "0": "Singapore",
                                    "1": "71.22025"
                                },
                                {
                                    "0": "Sri Lanka",
                                    "1": "66.5260833333333"
                                },
                                {
                                    "0": "Portugal",
                                    "1": "70.4198333333333"
                                },
                                {
                                    "0": "Finland",
                                    "1": "72.9919166666667"
                                },
                                {
                                    "0": "Colombia",
                                    "1": "63.89775"
                                },
                                {
                                    "0": "Albania",
                                    "1": "68.4329166666667"
                                },
                                {
                                    "0": "Saudi Arabia",
                                    "1": "58.67875"
                                },
                                {
                                    "0": "Sao Tome and Principe",
                                    "1": "57.8963333333333"
                                },
                                {
                                    "0": "Cote d'Ivoire",
                                    "1": "48.4361666666667"
                                },
                                {
                                    "0": "Cuba",
                                    "1": "71.0450833333334"
                                },
                                {
                                    "0": "Algeria",
                                    "1": "59.0301666666667"
                                },
                                {
                                    "0": "France",
                                    "1": "74.3489166666667"
                                },
                                {
                                    "0": "Israel",
                                    "1": "73.6458333333333"
                                },
                                {
                                    "0": "Djibouti",
                                    "1": "46.38075"
                                },
                                {
                                    "0": "Syria",
                                    "1": "61.3461666666667"
                                },
                                {
                                    "0": "Senegal",
                                    "1": "50.6259166666667"
                                },
                                {
                                    "0": "Malaysia",
                                    "1": "64.2795833333333"
                                },
                                {
                                    "0": "Kenya",
                                    "1": "52.681"
                                },
                                {
                                    "0": "Ghana",
                                    "1": "52.3406666666667"
                                },
                                {
                                    "0": "Zambia",
                                    "1": "45.9963333333333"
                                },
                                {
                                    "0": "Iceland",
                                    "1": "76.5114166666667"
                                },
                                {
                                    "0": "Madagascar",
                                    "1": "47.7705833333333"
                                },
                                {
                                    "0": "Kuwait",
                                    "1": "68.9223333333333"
                                },
                                {
                                    "0": "Sierra Leone",
                                    "1": "36.7691666666667"
                                },
                                {
                                    "0": "Liberia",
                                    "1": "42.47625"
                                },
                                {
                                    "0": "Bosnia and Herzegovina",
                                    "1": "67.7078333333333"
                                },
                                {
                                    "0": "Philippines",
                                    "1": "60.96725"
                                },
                                {
                                    "0": "Benin",
                                    "1": "48.7799166666667"
                                },
                                {
                                    "0": "United States",
                                    "1": "73.4785"
                                },
                                {
                                    "0": "Guinea",
                                    "1": "43.2398333333333"
                                },
                                {
                                    "0": "Turkey",
                                    "1": "59.6964166666667"
                                },
                                {
                                    "0": "Nigeria",
                                    "1": "43.5813333333333"
                                },
                                {
                                    "0": "Rwanda",
                                    "1": "41.4815833333333"
                                },
                                {
                                    "0": "Zimbabwe",
                                    "1": "52.6631666666667"
                                },
                                {
                                    "0": "Congo, Rep.",
                                    "1": "52.5019166666667"
                                },
                                {
                                    "0": "Comoros",
                                    "1": "52.38175"
                                },
                                {
                                    "0": "China",
                                    "1": "61.78514"
                                },
                                {
                                    "0": "Netherlands",
                                    "1": "75.6485"
                                },
                                {
                                    "0": "Lesotho",
                                    "1": "50.0070833333333"
                                },
                                {
                                    "0": "Paraguay",
                                    "1": "66.8090833333333"
                                },
                                {
                                    "0": "Gabon",
                                    "1": "51.2205"
                                },
                                {
                                    "0": "Australia",
                                    "1": "74.6629166666667"
                                },
                                {
                                    "0": "Serbia",
                                    "1": "68.551"
                                },
                                {
                                    "0": "Mauritius",
                                    "1": "64.95325"
                                },
                                {
                                    "0": "Angola",
                                    "1": "37.8835"
                                },
                                {
                                    "0": "Libya",
                                    "1": "59.3041666666667"
                                },
                                {
                                    "0": "Reunion",
                                    "1": "66.64425"
                                },
                                {
                                    "0": "Bahrain",
                                    "1": "65.6056666666667"
                                },
                                {
                                    "0": "Spain",
                                    "1": "74.2034166666667"
                                },
                                {
                                    "0": "Malawi",
                                    "1": "43.3515833333333"
                                },
                                {
                                    "0": "Belgium",
                                    "1": "73.64175"
                                },
                                {
                                    "0": "West Bank and Gaza",
                                    "1": "60.3286666666667"
                                },
                                {
                                    "0": "Burundi",
                                    "1": "44.8173333333333"
                                },
                                {
                                    "0": "Taiwan",
                                    "1": "70.3366666666667"
                                },
                                {
                                    "0": "Thailand",
                                    "1": "62.20025"
                                },
                                {
                                    "0": "Togo",
                                    "1": "51.49875"
                                },
                                {
                                    "0": "Hong Kong, China",
                                    "1": "73.4928333333333"
                                },
                                {
                                    "0": "Burkina Faso",
                                    "1": "44.694"
                                },
                                {
                                    "0": "El Salvador",
                                    "1": "59.6333333333333"
                                },
                                {
                                    "0": "Italy",
                                    "1": "74.0138333333333"
                                },
                                {
                                    "0": "Uruguay",
                                    "1": "70.7815833333333"
                                },
                                {
                                    "0": "Oman",
                                    "1": "58.4426666666667"
                                },
                                {
                                    "0": "United Kingdom",
                                    "1": "73.9225833333333"
                                },
                                {
                                    "0": "Germany",
                                    "1": "73.4444166666667"
                                },
                                {
                                    "0": "Congo, Dem. Rep.",
                                    "1": "44.54375"
                                },
                                {
                                    "0": "Eritrea",
                                    "1": "45.99925"
                                },
                                {
                                    "0": "Canada",
                                    "1": "74.90275"
                                },
                                {
                                    "0": "Slovak Republic",
                                    "1": "70.6960833333333"
                                },
                                {
                                    "0": "Namibia",
                                    "1": "53.4913333333334"
                                },
                                {
                                    "0": "Argentina",
                                    "1": "69.0604166666667"
                                },
                                {
                                    "0": "Slovenia",
                                    "1": "71.60075"
                                },
                                {
                                    "0": "Greece",
                                    "1": "73.7331666666667"
                                },
                                {
                                    "0": "Egypt",
                                    "1": "56.243"
                                },
                                {
                                    "0": "Afghanistan",
                                    "1": "37.4788333333333"
                                },
                                {
                                    "0": "Puerto Rico",
                                    "1": "72.7393333333333"
                                },
                                {
                                    "0": "India",
                                    "1": "53.1660833333333"
                                },
                                {
                                    "0": "Chad",
                                    "1": "46.7735833333333"
                                },
                                {
                                    "0": "Iran",
                                    "1": "58.6365833333333"
                                },
                                {
                                    "0": "Chile",
                                    "1": "67.4309166666667"
                                },
                                {
                                    "0": "Gambia",
                                    "1": "44.4005833333333"
                                },
                                {
                                    "0": "Vietnam",
                                    "1": "57.4795"
                                },
                                {
                                    "0": "South Africa",
                                    "1": "53.9931666666667"
                                },
                                {
                                    "0": "Peru",
                                    "1": "58.8593333333333"
                                },
                                {
                                    "0": "Central African Republic",
                                    "1": "43.8669166666667"
                                },
                                {
                                    "0": "Japan",
                                    "1": "74.8269166666667"
                                },
                                {
                                    "0": "Denmark",
                                    "1": "74.3701666666667"
                                },
                                {
                                    "0": "Jamaica",
                                    "1": "68.7493333333333"
                                },
                                {
                                    "0": "Yemen, Rep.",
                                    "1": "46.7804166666667"
                                },
                                {
                                    "0": "Trinidad and Tobago",
                                    "1": "66.828"
                                },
                                {
                                    "0": "Mongolia",
                                    "1": "55.8903333333333"
                                },
                                {
                                    "0": "Iraq",
                                    "1": "56.58175"
                                },
                                {
                                    "0": "Mauritania",
                                    "1": "52.3020833333333"
                                },
                                {
                                    "0": "Korea, Rep.",
                                    "1": "65.001"
                                },
                                {
                                    "0": "Mozambique",
                                    "1": "40.3795"
                                },
                                {
                                    "0": "Switzerland",
                                    "1": "75.5650833333333"
                                },
                                {
                                    "0": "New Zealand",
                                    "1": "73.9895"
                                },
                                {
                                    "0": "Ecuador",
                                    "1": "62.8168333333333"
                                },
                                {
                                    "0": "Hungary",
                                    "1": "69.3931666666667"
                                },
                                {
                                    "0": "Korea, Dem. Rep.",
                                    "1": "63.6073333333333"
                                },
                                {
                                    "0": "Norway",
                                    "1": "75.843"
                                },
                                {
                                    "0": "Honduras",
                                    "1": "57.9208333333333"
                                },
                                {
                                    "0": "Botswana",
                                    "1": "54.5975"
                                },
                                {
                                    "0": "Pakistan",
                                    "1": "54.88225"
                                },
                                {
                                    "0": "Romania",
                                    "1": "68.2906666666667"
                                },
                                {
                                    "0": "Brazil",
                                    "1": "62.2395"
                                },
                                {
                                    "0": "Austria",
                                    "1": "73.10325"
                                },
                                {
                                    "0": "Guatemala",
                                    "1": "56.7294166666667"
                                },
                                {
                                    "0": "Guinea-Bissau",
                                    "1": "39.21025"
                                },
                                {
                                    "0": "Bolivia",
                                    "1": "52.5045833333333"
                                },
                                {
                                    "0": "Ethiopia",
                                    "1": "44.47575"
                                },
                                {
                                    "0": "Niger",
                                    "1": "44.5586666666667"
                                },
                                {
                                    "0": "Panama",
                                    "1": "67.80175"
                                },
                                {
                                    "0": "Bulgaria",
                                    "1": "69.74375"
                                },
                                {
                                    "0": "Croatia",
                                    "1": "70.0559166666667"
                                },
                                {
                                    "0": "Tunisia",
                                    "1": "60.721"
                                },
                                {
                                    "0": "Sudan",
                                    "1": "48.4005"
                                },
                                {
                                    "0": "Mali",
                                    "1": "43.4135"
                                },
                                {
                                    "0": "Swaziland",
                                    "1": "49.0024166666667"
                                },
                                {
                                    "0": "Morocco",
                                    "1": "57.6088333333333"
                                },
                                {
                                    "0": "Myanmar",
                                    "1": "53.3216666666667"
                                },
                                {
                                    "0": "Nicaragua",
                                    "1": "58.3494166666667"
                                },
                                {
                                    "0": "Mexico",
                                    "1": "65.4088333333333"
                                },
                                {
                                    "0": "Nepal",
                                    "1": "48.9863333333333"
                                },
                                {
                                    "0": "Tanzania",
                                    "1": "47.9123333333333"
                                },
                                {
                                    "0": "Poland",
                                    "1": "70.1769166666667"
                                },
                                {
                                    "0": "Lebanon",
                                    "1": "65.8656666666667"
                                },
                                {
                                    "0": "Costa Rica",
                                    "1": "70.1814166666667"
                                },
                                {
                                    "0": "Haiti",
                                    "1": "50.16525"
                                },
                                {
                                    "0": "Equatorial Guinea",
                                    "1": "42.96"
                                },
                                {
                                    "0": "Somalia",
                                    "1": "40.9886666666667"
                                }
                            ]
                        },
                        "text/html": "<table><tr><th>country</th><th>avg</th></tr><tr><td>Indonesia</td><td>54.33575</td></tr><tr><td>Bangladesh</td><td>49.8340833333333</td></tr><tr><td>Venezuela</td><td>66.5806666666667</td></tr><tr><td>Cameroon</td><td>48.1285</td></tr><tr><td>Czech Republic</td><td>71.5105</td></tr><tr><td>Sweden</td><td>76.177</td></tr><tr><td>Uganda</td><td>47.6188333333333</td></tr><tr><td>Montenegro</td><td>70.2991666666667</td></tr><tr><td>Jordan</td><td>59.7864166666667</td></tr><tr><td>Dominican Republic</td><td>61.5545</td></tr><tr><td>Ireland</td><td>73.01725</td></tr><tr><td>Cambodia</td><td>47.90275</td></tr><tr><td>Singapore</td><td>71.22025</td></tr><tr><td>Sri Lanka</td><td>66.5260833333333</td></tr><tr><td>Portugal</td><td>70.4198333333333</td></tr><tr><td>Finland</td><td>72.9919166666667</td></tr><tr><td>Colombia</td><td>63.89775</td></tr><tr><td>Albania</td><td>68.4329166666667</td></tr><tr><td>Saudi Arabia</td><td>58.67875</td></tr><tr><td>Sao Tome and Principe</td><td>57.8963333333333</td></tr><tr><td>Cote d'Ivoire</td><td>48.4361666666667</td></tr><tr><td>Cuba</td><td>71.0450833333334</td></tr><tr><td>Algeria</td><td>59.0301666666667</td></tr><tr><td>France</td><td>74.3489166666667</td></tr><tr><td>Israel</td><td>73.6458333333333</td></tr><tr><td>Djibouti</td><td>46.38075</td></tr><tr><td>Syria</td><td>61.3461666666667</td></tr><tr><td>Senegal</td><td>50.6259166666667</td></tr><tr><td>Malaysia</td><td>64.2795833333333</td></tr><tr><td>Kenya</td><td>52.681</td></tr><tr><td>Ghana</td><td>52.3406666666667</td></tr><tr><td>Zambia</td><td>45.9963333333333</td></tr><tr><td>Iceland</td><td>76.5114166666667</td></tr><tr><td>Madagascar</td><td>47.7705833333333</td></tr><tr><td>Kuwait</td><td>68.9223333333333</td></tr><tr><td>Sierra Leone</td><td>36.7691666666667</td></tr><tr><td>Liberia</td><td>42.47625</td></tr><tr><td>Bosnia and Herzegovina</td><td>67.7078333333333</td></tr><tr><td>Philippines</td><td>60.96725</td></tr><tr><td>Benin</td><td>48.7799166666667</td></tr><tr><td>United States</td><td>73.4785</td></tr><tr><td>Guinea</td><td>43.2398333333333</td></tr><tr><td>Turkey</td><td>59.6964166666667</td></tr><tr><td>Nigeria</td><td>43.5813333333333</td></tr><tr><td>Rwanda</td><td>41.4815833333333</td></tr><tr><td>Zimbabwe</td><td>52.6631666666667</td></tr><tr><td>Congo, Rep.</td><td>52.5019166666667</td></tr><tr><td>Comoros</td><td>52.38175</td></tr><tr><td>China</td><td>61.78514</td></tr><tr><td>Netherlands</td><td>75.6485</td></tr><tr><td>Lesotho</td><td>50.0070833333333</td></tr><tr><td>Paraguay</td><td>66.8090833333333</td></tr><tr><td>Gabon</td><td>51.2205</td></tr><tr><td>Australia</td><td>74.6629166666667</td></tr><tr><td>Serbia</td><td>68.551</td></tr><tr><td>Mauritius</td><td>64.95325</td></tr><tr><td>Angola</td><td>37.8835</td></tr><tr><td>Libya</td><td>59.3041666666667</td></tr><tr><td>Reunion</td><td>66.64425</td></tr><tr><td>Bahrain</td><td>65.6056666666667</td></tr><tr><td>Spain</td><td>74.2034166666667</td></tr><tr><td>Malawi</td><td>43.3515833333333</td></tr><tr><td>Belgium</td><td>73.64175</td></tr><tr><td>West Bank and Gaza</td><td>60.3286666666667</td></tr><tr><td>Burundi</td><td>44.8173333333333</td></tr><tr><td>Taiwan</td><td>70.3366666666667</td></tr><tr><td>Thailand</td><td>62.20025</td></tr><tr><td>Togo</td><td>51.49875</td></tr><tr><td>Hong Kong, China</td><td>73.4928333333333</td></tr><tr><td>Burkina Faso</td><td>44.694</td></tr><tr><td>El Salvador</td><td>59.6333333333333</td></tr><tr><td>Italy</td><td>74.0138333333333</td></tr><tr><td>Uruguay</td><td>70.7815833333333</td></tr><tr><td>Oman</td><td>58.4426666666667</td></tr><tr><td>United Kingdom</td><td>73.9225833333333</td></tr><tr><td>Germany</td><td>73.4444166666667</td></tr><tr><td>Congo, Dem. Rep.</td><td>44.54375</td></tr><tr><td>Eritrea</td><td>45.99925</td></tr><tr><td>Canada</td><td>74.90275</td></tr><tr><td>Slovak Republic</td><td>70.6960833333333</td></tr><tr><td>Namibia</td><td>53.4913333333334</td></tr><tr><td>Argentina</td><td>69.0604166666667</td></tr><tr><td>Slovenia</td><td>71.60075</td></tr><tr><td>Greece</td><td>73.7331666666667</td></tr><tr><td>Egypt</td><td>56.243</td></tr><tr><td>Afghanistan</td><td>37.4788333333333</td></tr><tr><td>Puerto Rico</td><td>72.7393333333333</td></tr><tr><td>India</td><td>53.1660833333333</td></tr><tr><td>Chad</td><td>46.7735833333333</td></tr><tr><td>Iran</td><td>58.6365833333333</td></tr><tr><td>Chile</td><td>67.4309166666667</td></tr><tr><td>Gambia</td><td>44.4005833333333</td></tr><tr><td>Vietnam</td><td>57.4795</td></tr><tr><td>South Africa</td><td>53.9931666666667</td></tr><tr><td>Peru</td><td>58.8593333333333</td></tr><tr><td>Central African Republic</td><td>43.8669166666667</td></tr><tr><td>Japan</td><td>74.8269166666667</td></tr><tr><td>Denmark</td><td>74.3701666666667</td></tr><tr><td>Jamaica</td><td>68.7493333333333</td></tr><tr><td>Yemen, Rep.</td><td>46.7804166666667</td></tr><tr><td>Trinidad and Tobago</td><td>66.828</td></tr><tr><td>Mongolia</td><td>55.8903333333333</td></tr><tr><td>Iraq</td><td>56.58175</td></tr><tr><td>Mauritania</td><td>52.3020833333333</td></tr><tr><td>Korea, Rep.</td><td>65.001</td></tr><tr><td>Mozambique</td><td>40.3795</td></tr><tr><td>Switzerland</td><td>75.5650833333333</td></tr><tr><td>New Zealand</td><td>73.9895</td></tr><tr><td>Ecuador</td><td>62.8168333333333</td></tr><tr><td>Hungary</td><td>69.3931666666667</td></tr><tr><td>Korea, Dem. Rep.</td><td>63.6073333333333</td></tr><tr><td>Norway</td><td>75.843</td></tr><tr><td>Honduras</td><td>57.9208333333333</td></tr><tr><td>Botswana</td><td>54.5975</td></tr><tr><td>Pakistan</td><td>54.88225</td></tr><tr><td>Romania</td><td>68.2906666666667</td></tr><tr><td>Brazil</td><td>62.2395</td></tr><tr><td>Austria</td><td>73.10325</td></tr><tr><td>Guatemala</td><td>56.7294166666667</td></tr><tr><td>Guinea-Bissau</td><td>39.21025</td></tr><tr><td>Bolivia</td><td>52.5045833333333</td></tr><tr><td>Ethiopia</td><td>44.47575</td></tr><tr><td>Niger</td><td>44.5586666666667</td></tr><tr><td>Panama</td><td>67.80175</td></tr><tr><td>Bulgaria</td><td>69.74375</td></tr><tr><td>Croatia</td><td>70.0559166666667</td></tr><tr><td>Tunisia</td><td>60.721</td></tr><tr><td>Sudan</td><td>48.4005</td></tr><tr><td>Mali</td><td>43.4135</td></tr><tr><td>Swaziland</td><td>49.0024166666667</td></tr><tr><td>Morocco</td><td>57.6088333333333</td></tr><tr><td>Myanmar</td><td>53.3216666666667</td></tr><tr><td>Nicaragua</td><td>58.3494166666667</td></tr><tr><td>Mexico</td><td>65.4088333333333</td></tr><tr><td>Nepal</td><td>48.9863333333333</td></tr><tr><td>Tanzania</td><td>47.9123333333333</td></tr><tr><td>Poland</td><td>70.1769166666667</td></tr><tr><td>Lebanon</td><td>65.8656666666667</td></tr><tr><td>Costa Rica</td><td>70.1814166666667</td></tr><tr><td>Haiti</td><td>50.16525</td></tr><tr><td>Equatorial Guinea</td><td>42.96</td></tr><tr><td>Somalia</td><td>40.9886666666667</td></tr></table>"
                    },
                    "metadata": {}
                }
            ],
            "execution_count": 16
        },
        {
            "cell_type": "code",
            "source": [
                "select null, avg(lifeexp) from gapminder"
            ],
            "metadata": {
                "azdata_cell_guid": "91412b06-eb03-4fb7-a199-0c5322ddbe11"
            },
            "outputs": [
                {
                    "output_type": "display_data",
                    "data": {
                        "text/html": "(1 row(s) affected)"
                    },
                    "metadata": {}
                },
                {
                    "output_type": "display_data",
                    "data": {
                        "text/html": "Total execution time: 00:00:00.005"
                    },
                    "metadata": {}
                },
                {
                    "output_type": "execute_result",
                    "execution_count": 17,
                    "data": {
                        "application/vnd.dataresource+json": {
                            "schema": {
                                "fields": [
                                    {
                                        "name": "Column1"
                                    },
                                    {
                                        "name": "avg"
                                    }
                                ]
                            },
                            "data": [
                                {
                                    "0": "NULL",
                                    "1": "59.4744393661971"
                                }
                            ]
                        },
                        "text/html": "<table><tr><th>Column1</th><th>avg</th></tr><tr><td>NULL</td><td>59.4744393661971</td></tr></table>"
                    },
                    "metadata": {}
                }
            ],
            "execution_count": 17
        },
        {
            "cell_type": "code",
            "source": [
                "select country, avg(lifeexp) from gapminder \n",
                "    group by country\n",
                "union\n",
                "select null, avg(lifeexp) from gapminder\n",
                "order by country"
            ],
            "metadata": {
                "azdata_cell_guid": "75cbae37-ec34-43b0-ae2f-38fbba76dbfe"
            },
            "outputs": [
                {
                    "output_type": "display_data",
                    "data": {
                        "text/html": "(143 row(s) affected)"
                    },
                    "metadata": {}
                },
                {
                    "output_type": "display_data",
                    "data": {
                        "text/html": "Total execution time: 00:00:00.010"
                    },
                    "metadata": {}
                },
                {
                    "output_type": "execute_result",
                    "execution_count": 18,
                    "data": {
                        "application/vnd.dataresource+json": {
                            "schema": {
                                "fields": [
                                    {
                                        "name": "country"
                                    },
                                    {
                                        "name": "avg"
                                    }
                                ]
                            },
                            "data": [
                                {
                                    "0": "Afghanistan",
                                    "1": "37.4788333333333"
                                },
                                {
                                    "0": "Albania",
                                    "1": "68.4329166666667"
                                },
                                {
                                    "0": "Algeria",
                                    "1": "59.0301666666667"
                                },
                                {
                                    "0": "Angola",
                                    "1": "37.8835"
                                },
                                {
                                    "0": "Argentina",
                                    "1": "69.0604166666667"
                                },
                                {
                                    "0": "Australia",
                                    "1": "74.6629166666667"
                                },
                                {
                                    "0": "Austria",
                                    "1": "73.10325"
                                },
                                {
                                    "0": "Bahrain",
                                    "1": "65.6056666666667"
                                },
                                {
                                    "0": "Bangladesh",
                                    "1": "49.8340833333333"
                                },
                                {
                                    "0": "Belgium",
                                    "1": "73.64175"
                                },
                                {
                                    "0": "Benin",
                                    "1": "48.7799166666667"
                                },
                                {
                                    "0": "Bolivia",
                                    "1": "52.5045833333333"
                                },
                                {
                                    "0": "Bosnia and Herzegovina",
                                    "1": "67.7078333333333"
                                },
                                {
                                    "0": "Botswana",
                                    "1": "54.5975"
                                },
                                {
                                    "0": "Brazil",
                                    "1": "62.2395"
                                },
                                {
                                    "0": "Bulgaria",
                                    "1": "69.74375"
                                },
                                {
                                    "0": "Burkina Faso",
                                    "1": "44.694"
                                },
                                {
                                    "0": "Burundi",
                                    "1": "44.8173333333333"
                                },
                                {
                                    "0": "Cambodia",
                                    "1": "47.90275"
                                },
                                {
                                    "0": "Cameroon",
                                    "1": "48.1285"
                                },
                                {
                                    "0": "Canada",
                                    "1": "74.90275"
                                },
                                {
                                    "0": "Central African Republic",
                                    "1": "43.8669166666667"
                                },
                                {
                                    "0": "Chad",
                                    "1": "46.7735833333333"
                                },
                                {
                                    "0": "Chile",
                                    "1": "67.4309166666667"
                                },
                                {
                                    "0": "China",
                                    "1": "61.78514"
                                },
                                {
                                    "0": "Colombia",
                                    "1": "63.89775"
                                },
                                {
                                    "0": "Comoros",
                                    "1": "52.38175"
                                },
                                {
                                    "0": "Congo, Dem. Rep.",
                                    "1": "44.54375"
                                },
                                {
                                    "0": "Congo, Rep.",
                                    "1": "52.5019166666667"
                                },
                                {
                                    "0": "Costa Rica",
                                    "1": "70.1814166666667"
                                },
                                {
                                    "0": "Cote d'Ivoire",
                                    "1": "48.4361666666667"
                                },
                                {
                                    "0": "Croatia",
                                    "1": "70.0559166666667"
                                },
                                {
                                    "0": "Cuba",
                                    "1": "71.0450833333334"
                                },
                                {
                                    "0": "Czech Republic",
                                    "1": "71.5105"
                                },
                                {
                                    "0": "Denmark",
                                    "1": "74.3701666666667"
                                },
                                {
                                    "0": "Djibouti",
                                    "1": "46.38075"
                                },
                                {
                                    "0": "Dominican Republic",
                                    "1": "61.5545"
                                },
                                {
                                    "0": "Ecuador",
                                    "1": "62.8168333333333"
                                },
                                {
                                    "0": "Egypt",
                                    "1": "56.243"
                                },
                                {
                                    "0": "El Salvador",
                                    "1": "59.6333333333333"
                                },
                                {
                                    "0": "Equatorial Guinea",
                                    "1": "42.96"
                                },
                                {
                                    "0": "Eritrea",
                                    "1": "45.99925"
                                },
                                {
                                    "0": "Ethiopia",
                                    "1": "44.47575"
                                },
                                {
                                    "0": "Finland",
                                    "1": "72.9919166666667"
                                },
                                {
                                    "0": "France",
                                    "1": "74.3489166666667"
                                },
                                {
                                    "0": "Gabon",
                                    "1": "51.2205"
                                },
                                {
                                    "0": "Gambia",
                                    "1": "44.4005833333333"
                                },
                                {
                                    "0": "Germany",
                                    "1": "73.4444166666667"
                                },
                                {
                                    "0": "Ghana",
                                    "1": "52.3406666666667"
                                },
                                {
                                    "0": "Greece",
                                    "1": "73.7331666666667"
                                },
                                {
                                    "0": "Guatemala",
                                    "1": "56.7294166666667"
                                },
                                {
                                    "0": "Guinea",
                                    "1": "43.2398333333333"
                                },
                                {
                                    "0": "Guinea-Bissau",
                                    "1": "39.21025"
                                },
                                {
                                    "0": "Haiti",
                                    "1": "50.16525"
                                },
                                {
                                    "0": "Honduras",
                                    "1": "57.9208333333333"
                                },
                                {
                                    "0": "Hong Kong, China",
                                    "1": "73.4928333333333"
                                },
                                {
                                    "0": "Hungary",
                                    "1": "69.3931666666667"
                                },
                                {
                                    "0": "Iceland",
                                    "1": "76.5114166666667"
                                },
                                {
                                    "0": "India",
                                    "1": "53.1660833333333"
                                },
                                {
                                    "0": "Indonesia",
                                    "1": "54.33575"
                                },
                                {
                                    "0": "Iran",
                                    "1": "58.6365833333333"
                                },
                                {
                                    "0": "Iraq",
                                    "1": "56.58175"
                                },
                                {
                                    "0": "Ireland",
                                    "1": "73.01725"
                                },
                                {
                                    "0": "Israel",
                                    "1": "73.6458333333333"
                                },
                                {
                                    "0": "Italy",
                                    "1": "74.0138333333333"
                                },
                                {
                                    "0": "Jamaica",
                                    "1": "68.7493333333333"
                                },
                                {
                                    "0": "Japan",
                                    "1": "74.8269166666667"
                                },
                                {
                                    "0": "Jordan",
                                    "1": "59.7864166666667"
                                },
                                {
                                    "0": "Kenya",
                                    "1": "52.681"
                                },
                                {
                                    "0": "Korea, Dem. Rep.",
                                    "1": "63.6073333333333"
                                },
                                {
                                    "0": "Korea, Rep.",
                                    "1": "65.001"
                                },
                                {
                                    "0": "Kuwait",
                                    "1": "68.9223333333333"
                                },
                                {
                                    "0": "Lebanon",
                                    "1": "65.8656666666667"
                                },
                                {
                                    "0": "Lesotho",
                                    "1": "50.0070833333333"
                                },
                                {
                                    "0": "Liberia",
                                    "1": "42.47625"
                                },
                                {
                                    "0": "Libya",
                                    "1": "59.3041666666667"
                                },
                                {
                                    "0": "Madagascar",
                                    "1": "47.7705833333333"
                                },
                                {
                                    "0": "Malawi",
                                    "1": "43.3515833333333"
                                },
                                {
                                    "0": "Malaysia",
                                    "1": "64.2795833333333"
                                },
                                {
                                    "0": "Mali",
                                    "1": "43.4135"
                                },
                                {
                                    "0": "Mauritania",
                                    "1": "52.3020833333333"
                                },
                                {
                                    "0": "Mauritius",
                                    "1": "64.95325"
                                },
                                {
                                    "0": "Mexico",
                                    "1": "65.4088333333333"
                                },
                                {
                                    "0": "Mongolia",
                                    "1": "55.8903333333333"
                                },
                                {
                                    "0": "Montenegro",
                                    "1": "70.2991666666667"
                                },
                                {
                                    "0": "Morocco",
                                    "1": "57.6088333333333"
                                },
                                {
                                    "0": "Mozambique",
                                    "1": "40.3795"
                                },
                                {
                                    "0": "Myanmar",
                                    "1": "53.3216666666667"
                                },
                                {
                                    "0": "Namibia",
                                    "1": "53.4913333333334"
                                },
                                {
                                    "0": "Nepal",
                                    "1": "48.9863333333333"
                                },
                                {
                                    "0": "Netherlands",
                                    "1": "75.6485"
                                },
                                {
                                    "0": "New Zealand",
                                    "1": "73.9895"
                                },
                                {
                                    "0": "Nicaragua",
                                    "1": "58.3494166666667"
                                },
                                {
                                    "0": "Niger",
                                    "1": "44.5586666666667"
                                },
                                {
                                    "0": "Nigeria",
                                    "1": "43.5813333333333"
                                },
                                {
                                    "0": "Norway",
                                    "1": "75.843"
                                },
                                {
                                    "0": "Oman",
                                    "1": "58.4426666666667"
                                },
                                {
                                    "0": "Pakistan",
                                    "1": "54.88225"
                                },
                                {
                                    "0": "Panama",
                                    "1": "67.80175"
                                },
                                {
                                    "0": "Paraguay",
                                    "1": "66.8090833333333"
                                },
                                {
                                    "0": "Peru",
                                    "1": "58.8593333333333"
                                },
                                {
                                    "0": "Philippines",
                                    "1": "60.96725"
                                },
                                {
                                    "0": "Poland",
                                    "1": "70.1769166666667"
                                },
                                {
                                    "0": "Portugal",
                                    "1": "70.4198333333333"
                                },
                                {
                                    "0": "Puerto Rico",
                                    "1": "72.7393333333333"
                                },
                                {
                                    "0": "Reunion",
                                    "1": "66.64425"
                                },
                                {
                                    "0": "Romania",
                                    "1": "68.2906666666667"
                                },
                                {
                                    "0": "Rwanda",
                                    "1": "41.4815833333333"
                                },
                                {
                                    "0": "Sao Tome and Principe",
                                    "1": "57.8963333333333"
                                },
                                {
                                    "0": "Saudi Arabia",
                                    "1": "58.67875"
                                },
                                {
                                    "0": "Senegal",
                                    "1": "50.6259166666667"
                                },
                                {
                                    "0": "Serbia",
                                    "1": "68.551"
                                },
                                {
                                    "0": "Sierra Leone",
                                    "1": "36.7691666666667"
                                },
                                {
                                    "0": "Singapore",
                                    "1": "71.22025"
                                },
                                {
                                    "0": "Slovak Republic",
                                    "1": "70.6960833333333"
                                },
                                {
                                    "0": "Slovenia",
                                    "1": "71.60075"
                                },
                                {
                                    "0": "Somalia",
                                    "1": "40.9886666666667"
                                },
                                {
                                    "0": "South Africa",
                                    "1": "53.9931666666667"
                                },
                                {
                                    "0": "Spain",
                                    "1": "74.2034166666667"
                                },
                                {
                                    "0": "Sri Lanka",
                                    "1": "66.5260833333333"
                                },
                                {
                                    "0": "Sudan",
                                    "1": "48.4005"
                                },
                                {
                                    "0": "Swaziland",
                                    "1": "49.0024166666667"
                                },
                                {
                                    "0": "Sweden",
                                    "1": "76.177"
                                },
                                {
                                    "0": "Switzerland",
                                    "1": "75.5650833333333"
                                },
                                {
                                    "0": "Syria",
                                    "1": "61.3461666666667"
                                },
                                {
                                    "0": "Taiwan",
                                    "1": "70.3366666666667"
                                },
                                {
                                    "0": "Tanzania",
                                    "1": "47.9123333333333"
                                },
                                {
                                    "0": "Thailand",
                                    "1": "62.20025"
                                },
                                {
                                    "0": "Togo",
                                    "1": "51.49875"
                                },
                                {
                                    "0": "Trinidad and Tobago",
                                    "1": "66.828"
                                },
                                {
                                    "0": "Tunisia",
                                    "1": "60.721"
                                },
                                {
                                    "0": "Turkey",
                                    "1": "59.6964166666667"
                                },
                                {
                                    "0": "Uganda",
                                    "1": "47.6188333333333"
                                },
                                {
                                    "0": "United Kingdom",
                                    "1": "73.9225833333333"
                                },
                                {
                                    "0": "United States",
                                    "1": "73.4785"
                                },
                                {
                                    "0": "Uruguay",
                                    "1": "70.7815833333333"
                                },
                                {
                                    "0": "Venezuela",
                                    "1": "66.5806666666667"
                                },
                                {
                                    "0": "Vietnam",
                                    "1": "57.4795"
                                },
                                {
                                    "0": "West Bank and Gaza",
                                    "1": "60.3286666666667"
                                },
                                {
                                    "0": "Yemen, Rep.",
                                    "1": "46.7804166666667"
                                },
                                {
                                    "0": "Zambia",
                                    "1": "45.9963333333333"
                                },
                                {
                                    "0": "Zimbabwe",
                                    "1": "52.6631666666667"
                                },
                                {
                                    "0": "NULL",
                                    "1": "59.4744393661971"
                                }
                            ]
                        },
                        "text/html": "<table><tr><th>country</th><th>avg</th></tr><tr><td>Afghanistan</td><td>37.4788333333333</td></tr><tr><td>Albania</td><td>68.4329166666667</td></tr><tr><td>Algeria</td><td>59.0301666666667</td></tr><tr><td>Angola</td><td>37.8835</td></tr><tr><td>Argentina</td><td>69.0604166666667</td></tr><tr><td>Australia</td><td>74.6629166666667</td></tr><tr><td>Austria</td><td>73.10325</td></tr><tr><td>Bahrain</td><td>65.6056666666667</td></tr><tr><td>Bangladesh</td><td>49.8340833333333</td></tr><tr><td>Belgium</td><td>73.64175</td></tr><tr><td>Benin</td><td>48.7799166666667</td></tr><tr><td>Bolivia</td><td>52.5045833333333</td></tr><tr><td>Bosnia and Herzegovina</td><td>67.7078333333333</td></tr><tr><td>Botswana</td><td>54.5975</td></tr><tr><td>Brazil</td><td>62.2395</td></tr><tr><td>Bulgaria</td><td>69.74375</td></tr><tr><td>Burkina Faso</td><td>44.694</td></tr><tr><td>Burundi</td><td>44.8173333333333</td></tr><tr><td>Cambodia</td><td>47.90275</td></tr><tr><td>Cameroon</td><td>48.1285</td></tr><tr><td>Canada</td><td>74.90275</td></tr><tr><td>Central African Republic</td><td>43.8669166666667</td></tr><tr><td>Chad</td><td>46.7735833333333</td></tr><tr><td>Chile</td><td>67.4309166666667</td></tr><tr><td>China</td><td>61.78514</td></tr><tr><td>Colombia</td><td>63.89775</td></tr><tr><td>Comoros</td><td>52.38175</td></tr><tr><td>Congo, Dem. Rep.</td><td>44.54375</td></tr><tr><td>Congo, Rep.</td><td>52.5019166666667</td></tr><tr><td>Costa Rica</td><td>70.1814166666667</td></tr><tr><td>Cote d'Ivoire</td><td>48.4361666666667</td></tr><tr><td>Croatia</td><td>70.0559166666667</td></tr><tr><td>Cuba</td><td>71.0450833333334</td></tr><tr><td>Czech Republic</td><td>71.5105</td></tr><tr><td>Denmark</td><td>74.3701666666667</td></tr><tr><td>Djibouti</td><td>46.38075</td></tr><tr><td>Dominican Republic</td><td>61.5545</td></tr><tr><td>Ecuador</td><td>62.8168333333333</td></tr><tr><td>Egypt</td><td>56.243</td></tr><tr><td>El Salvador</td><td>59.6333333333333</td></tr><tr><td>Equatorial Guinea</td><td>42.96</td></tr><tr><td>Eritrea</td><td>45.99925</td></tr><tr><td>Ethiopia</td><td>44.47575</td></tr><tr><td>Finland</td><td>72.9919166666667</td></tr><tr><td>France</td><td>74.3489166666667</td></tr><tr><td>Gabon</td><td>51.2205</td></tr><tr><td>Gambia</td><td>44.4005833333333</td></tr><tr><td>Germany</td><td>73.4444166666667</td></tr><tr><td>Ghana</td><td>52.3406666666667</td></tr><tr><td>Greece</td><td>73.7331666666667</td></tr><tr><td>Guatemala</td><td>56.7294166666667</td></tr><tr><td>Guinea</td><td>43.2398333333333</td></tr><tr><td>Guinea-Bissau</td><td>39.21025</td></tr><tr><td>Haiti</td><td>50.16525</td></tr><tr><td>Honduras</td><td>57.9208333333333</td></tr><tr><td>Hong Kong, China</td><td>73.4928333333333</td></tr><tr><td>Hungary</td><td>69.3931666666667</td></tr><tr><td>Iceland</td><td>76.5114166666667</td></tr><tr><td>India</td><td>53.1660833333333</td></tr><tr><td>Indonesia</td><td>54.33575</td></tr><tr><td>Iran</td><td>58.6365833333333</td></tr><tr><td>Iraq</td><td>56.58175</td></tr><tr><td>Ireland</td><td>73.01725</td></tr><tr><td>Israel</td><td>73.6458333333333</td></tr><tr><td>Italy</td><td>74.0138333333333</td></tr><tr><td>Jamaica</td><td>68.7493333333333</td></tr><tr><td>Japan</td><td>74.8269166666667</td></tr><tr><td>Jordan</td><td>59.7864166666667</td></tr><tr><td>Kenya</td><td>52.681</td></tr><tr><td>Korea, Dem. Rep.</td><td>63.6073333333333</td></tr><tr><td>Korea, Rep.</td><td>65.001</td></tr><tr><td>Kuwait</td><td>68.9223333333333</td></tr><tr><td>Lebanon</td><td>65.8656666666667</td></tr><tr><td>Lesotho</td><td>50.0070833333333</td></tr><tr><td>Liberia</td><td>42.47625</td></tr><tr><td>Libya</td><td>59.3041666666667</td></tr><tr><td>Madagascar</td><td>47.7705833333333</td></tr><tr><td>Malawi</td><td>43.3515833333333</td></tr><tr><td>Malaysia</td><td>64.2795833333333</td></tr><tr><td>Mali</td><td>43.4135</td></tr><tr><td>Mauritania</td><td>52.3020833333333</td></tr><tr><td>Mauritius</td><td>64.95325</td></tr><tr><td>Mexico</td><td>65.4088333333333</td></tr><tr><td>Mongolia</td><td>55.8903333333333</td></tr><tr><td>Montenegro</td><td>70.2991666666667</td></tr><tr><td>Morocco</td><td>57.6088333333333</td></tr><tr><td>Mozambique</td><td>40.3795</td></tr><tr><td>Myanmar</td><td>53.3216666666667</td></tr><tr><td>Namibia</td><td>53.4913333333334</td></tr><tr><td>Nepal</td><td>48.9863333333333</td></tr><tr><td>Netherlands</td><td>75.6485</td></tr><tr><td>New Zealand</td><td>73.9895</td></tr><tr><td>Nicaragua</td><td>58.3494166666667</td></tr><tr><td>Niger</td><td>44.5586666666667</td></tr><tr><td>Nigeria</td><td>43.5813333333333</td></tr><tr><td>Norway</td><td>75.843</td></tr><tr><td>Oman</td><td>58.4426666666667</td></tr><tr><td>Pakistan</td><td>54.88225</td></tr><tr><td>Panama</td><td>67.80175</td></tr><tr><td>Paraguay</td><td>66.8090833333333</td></tr><tr><td>Peru</td><td>58.8593333333333</td></tr><tr><td>Philippines</td><td>60.96725</td></tr><tr><td>Poland</td><td>70.1769166666667</td></tr><tr><td>Portugal</td><td>70.4198333333333</td></tr><tr><td>Puerto Rico</td><td>72.7393333333333</td></tr><tr><td>Reunion</td><td>66.64425</td></tr><tr><td>Romania</td><td>68.2906666666667</td></tr><tr><td>Rwanda</td><td>41.4815833333333</td></tr><tr><td>Sao Tome and Principe</td><td>57.8963333333333</td></tr><tr><td>Saudi Arabia</td><td>58.67875</td></tr><tr><td>Senegal</td><td>50.6259166666667</td></tr><tr><td>Serbia</td><td>68.551</td></tr><tr><td>Sierra Leone</td><td>36.7691666666667</td></tr><tr><td>Singapore</td><td>71.22025</td></tr><tr><td>Slovak Republic</td><td>70.6960833333333</td></tr><tr><td>Slovenia</td><td>71.60075</td></tr><tr><td>Somalia</td><td>40.9886666666667</td></tr><tr><td>South Africa</td><td>53.9931666666667</td></tr><tr><td>Spain</td><td>74.2034166666667</td></tr><tr><td>Sri Lanka</td><td>66.5260833333333</td></tr><tr><td>Sudan</td><td>48.4005</td></tr><tr><td>Swaziland</td><td>49.0024166666667</td></tr><tr><td>Sweden</td><td>76.177</td></tr><tr><td>Switzerland</td><td>75.5650833333333</td></tr><tr><td>Syria</td><td>61.3461666666667</td></tr><tr><td>Taiwan</td><td>70.3366666666667</td></tr><tr><td>Tanzania</td><td>47.9123333333333</td></tr><tr><td>Thailand</td><td>62.20025</td></tr><tr><td>Togo</td><td>51.49875</td></tr><tr><td>Trinidad and Tobago</td><td>66.828</td></tr><tr><td>Tunisia</td><td>60.721</td></tr><tr><td>Turkey</td><td>59.6964166666667</td></tr><tr><td>Uganda</td><td>47.6188333333333</td></tr><tr><td>United Kingdom</td><td>73.9225833333333</td></tr><tr><td>United States</td><td>73.4785</td></tr><tr><td>Uruguay</td><td>70.7815833333333</td></tr><tr><td>Venezuela</td><td>66.5806666666667</td></tr><tr><td>Vietnam</td><td>57.4795</td></tr><tr><td>West Bank and Gaza</td><td>60.3286666666667</td></tr><tr><td>Yemen, Rep.</td><td>46.7804166666667</td></tr><tr><td>Zambia</td><td>45.9963333333333</td></tr><tr><td>Zimbabwe</td><td>52.6631666666667</td></tr><tr><td>NULL</td><td>59.4744393661971</td></tr></table>"
                    },
                    "metadata": {}
                }
            ],
            "execution_count": 18
        },
        {
            "cell_type": "code",
            "source": [
                "select continent, country, avg(lifeexp) from gapminder \n",
                "    group by \n",
                "        grouping sets (\n",
                "            continent, \n",
                "            country,\n",
                "            ()\n",
                "        )\n",
                "    order by continent, country"
            ],
            "metadata": {
                "azdata_cell_guid": "2c14565d-1380-4f11-9a71-fa436cb1e7c0"
            },
            "outputs": [
                {
                    "output_type": "display_data",
                    "data": {
                        "text/html": "(148 row(s) affected)"
                    },
                    "metadata": {}
                },
                {
                    "output_type": "display_data",
                    "data": {
                        "text/html": "Total execution time: 00:00:00.012"
                    },
                    "metadata": {}
                },
                {
                    "output_type": "execute_result",
                    "execution_count": 19,
                    "data": {
                        "application/vnd.dataresource+json": {
                            "schema": {
                                "fields": [
                                    {
                                        "name": "continent"
                                    },
                                    {
                                        "name": "country"
                                    },
                                    {
                                        "name": "avg"
                                    }
                                ]
                            },
                            "data": [
                                {
                                    "0": "Africa",
                                    "1": "NULL",
                                    "2": "48.8653301282051"
                                },
                                {
                                    "0": "Americas",
                                    "1": "NULL",
                                    "2": "64.6587366666667"
                                },
                                {
                                    "0": "Asia",
                                    "1": "NULL",
                                    "2": "60.0649032323232"
                                },
                                {
                                    "0": "Europe",
                                    "1": "NULL",
                                    "2": "71.9036861111111"
                                },
                                {
                                    "0": "Oceania",
                                    "1": "NULL",
                                    "2": "74.3262083333333"
                                },
                                {
                                    "0": "NULL",
                                    "1": "Afghanistan",
                                    "2": "37.4788333333333"
                                },
                                {
                                    "0": "NULL",
                                    "1": "Albania",
                                    "2": "68.4329166666667"
                                },
                                {
                                    "0": "NULL",
                                    "1": "Algeria",
                                    "2": "59.0301666666667"
                                },
                                {
                                    "0": "NULL",
                                    "1": "Angola",
                                    "2": "37.8835"
                                },
                                {
                                    "0": "NULL",
                                    "1": "Argentina",
                                    "2": "69.0604166666667"
                                },
                                {
                                    "0": "NULL",
                                    "1": "Australia",
                                    "2": "74.6629166666667"
                                },
                                {
                                    "0": "NULL",
                                    "1": "Austria",
                                    "2": "73.10325"
                                },
                                {
                                    "0": "NULL",
                                    "1": "Bahrain",
                                    "2": "65.6056666666667"
                                },
                                {
                                    "0": "NULL",
                                    "1": "Bangladesh",
                                    "2": "49.8340833333333"
                                },
                                {
                                    "0": "NULL",
                                    "1": "Belgium",
                                    "2": "73.64175"
                                },
                                {
                                    "0": "NULL",
                                    "1": "Benin",
                                    "2": "48.7799166666667"
                                },
                                {
                                    "0": "NULL",
                                    "1": "Bolivia",
                                    "2": "52.5045833333333"
                                },
                                {
                                    "0": "NULL",
                                    "1": "Bosnia and Herzegovina",
                                    "2": "67.7078333333333"
                                },
                                {
                                    "0": "NULL",
                                    "1": "Botswana",
                                    "2": "54.5975"
                                },
                                {
                                    "0": "NULL",
                                    "1": "Brazil",
                                    "2": "62.2395"
                                },
                                {
                                    "0": "NULL",
                                    "1": "Bulgaria",
                                    "2": "69.74375"
                                },
                                {
                                    "0": "NULL",
                                    "1": "Burkina Faso",
                                    "2": "44.694"
                                },
                                {
                                    "0": "NULL",
                                    "1": "Burundi",
                                    "2": "44.8173333333333"
                                },
                                {
                                    "0": "NULL",
                                    "1": "Cambodia",
                                    "2": "47.90275"
                                },
                                {
                                    "0": "NULL",
                                    "1": "Cameroon",
                                    "2": "48.1285"
                                },
                                {
                                    "0": "NULL",
                                    "1": "Canada",
                                    "2": "74.90275"
                                },
                                {
                                    "0": "NULL",
                                    "1": "Central African Republic",
                                    "2": "43.8669166666667"
                                },
                                {
                                    "0": "NULL",
                                    "1": "Chad",
                                    "2": "46.7735833333333"
                                },
                                {
                                    "0": "NULL",
                                    "1": "Chile",
                                    "2": "67.4309166666667"
                                },
                                {
                                    "0": "NULL",
                                    "1": "China",
                                    "2": "61.78514"
                                },
                                {
                                    "0": "NULL",
                                    "1": "Colombia",
                                    "2": "63.89775"
                                },
                                {
                                    "0": "NULL",
                                    "1": "Comoros",
                                    "2": "52.38175"
                                },
                                {
                                    "0": "NULL",
                                    "1": "Congo, Dem. Rep.",
                                    "2": "44.54375"
                                },
                                {
                                    "0": "NULL",
                                    "1": "Congo, Rep.",
                                    "2": "52.5019166666667"
                                },
                                {
                                    "0": "NULL",
                                    "1": "Costa Rica",
                                    "2": "70.1814166666667"
                                },
                                {
                                    "0": "NULL",
                                    "1": "Cote d'Ivoire",
                                    "2": "48.4361666666667"
                                },
                                {
                                    "0": "NULL",
                                    "1": "Croatia",
                                    "2": "70.0559166666667"
                                },
                                {
                                    "0": "NULL",
                                    "1": "Cuba",
                                    "2": "71.0450833333334"
                                },
                                {
                                    "0": "NULL",
                                    "1": "Czech Republic",
                                    "2": "71.5105"
                                },
                                {
                                    "0": "NULL",
                                    "1": "Denmark",
                                    "2": "74.3701666666667"
                                },
                                {
                                    "0": "NULL",
                                    "1": "Djibouti",
                                    "2": "46.38075"
                                },
                                {
                                    "0": "NULL",
                                    "1": "Dominican Republic",
                                    "2": "61.5545"
                                },
                                {
                                    "0": "NULL",
                                    "1": "Ecuador",
                                    "2": "62.8168333333333"
                                },
                                {
                                    "0": "NULL",
                                    "1": "Egypt",
                                    "2": "56.243"
                                },
                                {
                                    "0": "NULL",
                                    "1": "El Salvador",
                                    "2": "59.6333333333333"
                                },
                                {
                                    "0": "NULL",
                                    "1": "Equatorial Guinea",
                                    "2": "42.96"
                                },
                                {
                                    "0": "NULL",
                                    "1": "Eritrea",
                                    "2": "45.99925"
                                },
                                {
                                    "0": "NULL",
                                    "1": "Ethiopia",
                                    "2": "44.47575"
                                },
                                {
                                    "0": "NULL",
                                    "1": "Finland",
                                    "2": "72.9919166666667"
                                },
                                {
                                    "0": "NULL",
                                    "1": "France",
                                    "2": "74.3489166666667"
                                },
                                {
                                    "0": "NULL",
                                    "1": "Gabon",
                                    "2": "51.2205"
                                },
                                {
                                    "0": "NULL",
                                    "1": "Gambia",
                                    "2": "44.4005833333333"
                                },
                                {
                                    "0": "NULL",
                                    "1": "Germany",
                                    "2": "73.4444166666667"
                                },
                                {
                                    "0": "NULL",
                                    "1": "Ghana",
                                    "2": "52.3406666666667"
                                },
                                {
                                    "0": "NULL",
                                    "1": "Greece",
                                    "2": "73.7331666666667"
                                },
                                {
                                    "0": "NULL",
                                    "1": "Guatemala",
                                    "2": "56.7294166666667"
                                },
                                {
                                    "0": "NULL",
                                    "1": "Guinea",
                                    "2": "43.2398333333333"
                                },
                                {
                                    "0": "NULL",
                                    "1": "Guinea-Bissau",
                                    "2": "39.21025"
                                },
                                {
                                    "0": "NULL",
                                    "1": "Haiti",
                                    "2": "50.16525"
                                },
                                {
                                    "0": "NULL",
                                    "1": "Honduras",
                                    "2": "57.9208333333333"
                                },
                                {
                                    "0": "NULL",
                                    "1": "Hong Kong, China",
                                    "2": "73.4928333333333"
                                },
                                {
                                    "0": "NULL",
                                    "1": "Hungary",
                                    "2": "69.3931666666667"
                                },
                                {
                                    "0": "NULL",
                                    "1": "Iceland",
                                    "2": "76.5114166666667"
                                },
                                {
                                    "0": "NULL",
                                    "1": "India",
                                    "2": "53.1660833333333"
                                },
                                {
                                    "0": "NULL",
                                    "1": "Indonesia",
                                    "2": "54.33575"
                                },
                                {
                                    "0": "NULL",
                                    "1": "Iran",
                                    "2": "58.6365833333333"
                                },
                                {
                                    "0": "NULL",
                                    "1": "Iraq",
                                    "2": "56.58175"
                                },
                                {
                                    "0": "NULL",
                                    "1": "Ireland",
                                    "2": "73.01725"
                                },
                                {
                                    "0": "NULL",
                                    "1": "Israel",
                                    "2": "73.6458333333333"
                                },
                                {
                                    "0": "NULL",
                                    "1": "Italy",
                                    "2": "74.0138333333333"
                                },
                                {
                                    "0": "NULL",
                                    "1": "Jamaica",
                                    "2": "68.7493333333333"
                                },
                                {
                                    "0": "NULL",
                                    "1": "Japan",
                                    "2": "74.8269166666667"
                                },
                                {
                                    "0": "NULL",
                                    "1": "Jordan",
                                    "2": "59.7864166666667"
                                },
                                {
                                    "0": "NULL",
                                    "1": "Kenya",
                                    "2": "52.681"
                                },
                                {
                                    "0": "NULL",
                                    "1": "Korea, Dem. Rep.",
                                    "2": "63.6073333333333"
                                },
                                {
                                    "0": "NULL",
                                    "1": "Korea, Rep.",
                                    "2": "65.001"
                                },
                                {
                                    "0": "NULL",
                                    "1": "Kuwait",
                                    "2": "68.9223333333333"
                                },
                                {
                                    "0": "NULL",
                                    "1": "Lebanon",
                                    "2": "65.8656666666667"
                                },
                                {
                                    "0": "NULL",
                                    "1": "Lesotho",
                                    "2": "50.0070833333333"
                                },
                                {
                                    "0": "NULL",
                                    "1": "Liberia",
                                    "2": "42.47625"
                                },
                                {
                                    "0": "NULL",
                                    "1": "Libya",
                                    "2": "59.3041666666667"
                                },
                                {
                                    "0": "NULL",
                                    "1": "Madagascar",
                                    "2": "47.7705833333333"
                                },
                                {
                                    "0": "NULL",
                                    "1": "Malawi",
                                    "2": "43.3515833333333"
                                },
                                {
                                    "0": "NULL",
                                    "1": "Malaysia",
                                    "2": "64.2795833333333"
                                },
                                {
                                    "0": "NULL",
                                    "1": "Mali",
                                    "2": "43.4135"
                                },
                                {
                                    "0": "NULL",
                                    "1": "Mauritania",
                                    "2": "52.3020833333333"
                                },
                                {
                                    "0": "NULL",
                                    "1": "Mauritius",
                                    "2": "64.95325"
                                },
                                {
                                    "0": "NULL",
                                    "1": "Mexico",
                                    "2": "65.4088333333333"
                                },
                                {
                                    "0": "NULL",
                                    "1": "Mongolia",
                                    "2": "55.8903333333333"
                                },
                                {
                                    "0": "NULL",
                                    "1": "Montenegro",
                                    "2": "70.2991666666667"
                                },
                                {
                                    "0": "NULL",
                                    "1": "Morocco",
                                    "2": "57.6088333333333"
                                },
                                {
                                    "0": "NULL",
                                    "1": "Mozambique",
                                    "2": "40.3795"
                                },
                                {
                                    "0": "NULL",
                                    "1": "Myanmar",
                                    "2": "53.3216666666667"
                                },
                                {
                                    "0": "NULL",
                                    "1": "Namibia",
                                    "2": "53.4913333333334"
                                },
                                {
                                    "0": "NULL",
                                    "1": "Nepal",
                                    "2": "48.9863333333333"
                                },
                                {
                                    "0": "NULL",
                                    "1": "Netherlands",
                                    "2": "75.6485"
                                },
                                {
                                    "0": "NULL",
                                    "1": "New Zealand",
                                    "2": "73.9895"
                                },
                                {
                                    "0": "NULL",
                                    "1": "Nicaragua",
                                    "2": "58.3494166666667"
                                },
                                {
                                    "0": "NULL",
                                    "1": "Niger",
                                    "2": "44.5586666666667"
                                },
                                {
                                    "0": "NULL",
                                    "1": "Nigeria",
                                    "2": "43.5813333333333"
                                },
                                {
                                    "0": "NULL",
                                    "1": "Norway",
                                    "2": "75.843"
                                },
                                {
                                    "0": "NULL",
                                    "1": "Oman",
                                    "2": "58.4426666666667"
                                },
                                {
                                    "0": "NULL",
                                    "1": "Pakistan",
                                    "2": "54.88225"
                                },
                                {
                                    "0": "NULL",
                                    "1": "Panama",
                                    "2": "67.80175"
                                },
                                {
                                    "0": "NULL",
                                    "1": "Paraguay",
                                    "2": "66.8090833333333"
                                },
                                {
                                    "0": "NULL",
                                    "1": "Peru",
                                    "2": "58.8593333333333"
                                },
                                {
                                    "0": "NULL",
                                    "1": "Philippines",
                                    "2": "60.96725"
                                },
                                {
                                    "0": "NULL",
                                    "1": "Poland",
                                    "2": "70.1769166666667"
                                },
                                {
                                    "0": "NULL",
                                    "1": "Portugal",
                                    "2": "70.4198333333333"
                                },
                                {
                                    "0": "NULL",
                                    "1": "Puerto Rico",
                                    "2": "72.7393333333333"
                                },
                                {
                                    "0": "NULL",
                                    "1": "Reunion",
                                    "2": "66.64425"
                                },
                                {
                                    "0": "NULL",
                                    "1": "Romania",
                                    "2": "68.2906666666667"
                                },
                                {
                                    "0": "NULL",
                                    "1": "Rwanda",
                                    "2": "41.4815833333333"
                                },
                                {
                                    "0": "NULL",
                                    "1": "Sao Tome and Principe",
                                    "2": "57.8963333333333"
                                },
                                {
                                    "0": "NULL",
                                    "1": "Saudi Arabia",
                                    "2": "58.67875"
                                },
                                {
                                    "0": "NULL",
                                    "1": "Senegal",
                                    "2": "50.6259166666667"
                                },
                                {
                                    "0": "NULL",
                                    "1": "Serbia",
                                    "2": "68.551"
                                },
                                {
                                    "0": "NULL",
                                    "1": "Sierra Leone",
                                    "2": "36.7691666666667"
                                },
                                {
                                    "0": "NULL",
                                    "1": "Singapore",
                                    "2": "71.22025"
                                },
                                {
                                    "0": "NULL",
                                    "1": "Slovak Republic",
                                    "2": "70.6960833333333"
                                },
                                {
                                    "0": "NULL",
                                    "1": "Slovenia",
                                    "2": "71.60075"
                                },
                                {
                                    "0": "NULL",
                                    "1": "Somalia",
                                    "2": "40.9886666666667"
                                },
                                {
                                    "0": "NULL",
                                    "1": "South Africa",
                                    "2": "53.9931666666667"
                                },
                                {
                                    "0": "NULL",
                                    "1": "Spain",
                                    "2": "74.2034166666667"
                                },
                                {
                                    "0": "NULL",
                                    "1": "Sri Lanka",
                                    "2": "66.5260833333333"
                                },
                                {
                                    "0": "NULL",
                                    "1": "Sudan",
                                    "2": "48.4005"
                                },
                                {
                                    "0": "NULL",
                                    "1": "Swaziland",
                                    "2": "49.0024166666667"
                                },
                                {
                                    "0": "NULL",
                                    "1": "Sweden",
                                    "2": "76.177"
                                },
                                {
                                    "0": "NULL",
                                    "1": "Switzerland",
                                    "2": "75.5650833333333"
                                },
                                {
                                    "0": "NULL",
                                    "1": "Syria",
                                    "2": "61.3461666666667"
                                },
                                {
                                    "0": "NULL",
                                    "1": "Taiwan",
                                    "2": "70.3366666666667"
                                },
                                {
                                    "0": "NULL",
                                    "1": "Tanzania",
                                    "2": "47.9123333333333"
                                },
                                {
                                    "0": "NULL",
                                    "1": "Thailand",
                                    "2": "62.20025"
                                },
                                {
                                    "0": "NULL",
                                    "1": "Togo",
                                    "2": "51.49875"
                                },
                                {
                                    "0": "NULL",
                                    "1": "Trinidad and Tobago",
                                    "2": "66.828"
                                },
                                {
                                    "0": "NULL",
                                    "1": "Tunisia",
                                    "2": "60.721"
                                },
                                {
                                    "0": "NULL",
                                    "1": "Turkey",
                                    "2": "59.6964166666667"
                                },
                                {
                                    "0": "NULL",
                                    "1": "Uganda",
                                    "2": "47.6188333333333"
                                },
                                {
                                    "0": "NULL",
                                    "1": "United Kingdom",
                                    "2": "73.9225833333333"
                                },
                                {
                                    "0": "NULL",
                                    "1": "United States",
                                    "2": "73.4785"
                                },
                                {
                                    "0": "NULL",
                                    "1": "Uruguay",
                                    "2": "70.7815833333333"
                                },
                                {
                                    "0": "NULL",
                                    "1": "Venezuela",
                                    "2": "66.5806666666667"
                                },
                                {
                                    "0": "NULL",
                                    "1": "Vietnam",
                                    "2": "57.4795"
                                },
                                {
                                    "0": "NULL",
                                    "1": "West Bank and Gaza",
                                    "2": "60.3286666666667"
                                },
                                {
                                    "0": "NULL",
                                    "1": "Yemen, Rep.",
                                    "2": "46.7804166666667"
                                },
                                {
                                    "0": "NULL",
                                    "1": "Zambia",
                                    "2": "45.9963333333333"
                                },
                                {
                                    "0": "NULL",
                                    "1": "Zimbabwe",
                                    "2": "52.6631666666667"
                                },
                                {
                                    "0": "NULL",
                                    "1": "NULL",
                                    "2": "59.4744393661971"
                                }
                            ]
                        },
                        "text/html": "<table><tr><th>continent</th><th>country</th><th>avg</th></tr><tr><td>Africa</td><td>NULL</td><td>48.8653301282051</td></tr><tr><td>Americas</td><td>NULL</td><td>64.6587366666667</td></tr><tr><td>Asia</td><td>NULL</td><td>60.0649032323232</td></tr><tr><td>Europe</td><td>NULL</td><td>71.9036861111111</td></tr><tr><td>Oceania</td><td>NULL</td><td>74.3262083333333</td></tr><tr><td>NULL</td><td>Afghanistan</td><td>37.4788333333333</td></tr><tr><td>NULL</td><td>Albania</td><td>68.4329166666667</td></tr><tr><td>NULL</td><td>Algeria</td><td>59.0301666666667</td></tr><tr><td>NULL</td><td>Angola</td><td>37.8835</td></tr><tr><td>NULL</td><td>Argentina</td><td>69.0604166666667</td></tr><tr><td>NULL</td><td>Australia</td><td>74.6629166666667</td></tr><tr><td>NULL</td><td>Austria</td><td>73.10325</td></tr><tr><td>NULL</td><td>Bahrain</td><td>65.6056666666667</td></tr><tr><td>NULL</td><td>Bangladesh</td><td>49.8340833333333</td></tr><tr><td>NULL</td><td>Belgium</td><td>73.64175</td></tr><tr><td>NULL</td><td>Benin</td><td>48.7799166666667</td></tr><tr><td>NULL</td><td>Bolivia</td><td>52.5045833333333</td></tr><tr><td>NULL</td><td>Bosnia and Herzegovina</td><td>67.7078333333333</td></tr><tr><td>NULL</td><td>Botswana</td><td>54.5975</td></tr><tr><td>NULL</td><td>Brazil</td><td>62.2395</td></tr><tr><td>NULL</td><td>Bulgaria</td><td>69.74375</td></tr><tr><td>NULL</td><td>Burkina Faso</td><td>44.694</td></tr><tr><td>NULL</td><td>Burundi</td><td>44.8173333333333</td></tr><tr><td>NULL</td><td>Cambodia</td><td>47.90275</td></tr><tr><td>NULL</td><td>Cameroon</td><td>48.1285</td></tr><tr><td>NULL</td><td>Canada</td><td>74.90275</td></tr><tr><td>NULL</td><td>Central African Republic</td><td>43.8669166666667</td></tr><tr><td>NULL</td><td>Chad</td><td>46.7735833333333</td></tr><tr><td>NULL</td><td>Chile</td><td>67.4309166666667</td></tr><tr><td>NULL</td><td>China</td><td>61.78514</td></tr><tr><td>NULL</td><td>Colombia</td><td>63.89775</td></tr><tr><td>NULL</td><td>Comoros</td><td>52.38175</td></tr><tr><td>NULL</td><td>Congo, Dem. Rep.</td><td>44.54375</td></tr><tr><td>NULL</td><td>Congo, Rep.</td><td>52.5019166666667</td></tr><tr><td>NULL</td><td>Costa Rica</td><td>70.1814166666667</td></tr><tr><td>NULL</td><td>Cote d'Ivoire</td><td>48.4361666666667</td></tr><tr><td>NULL</td><td>Croatia</td><td>70.0559166666667</td></tr><tr><td>NULL</td><td>Cuba</td><td>71.0450833333334</td></tr><tr><td>NULL</td><td>Czech Republic</td><td>71.5105</td></tr><tr><td>NULL</td><td>Denmark</td><td>74.3701666666667</td></tr><tr><td>NULL</td><td>Djibouti</td><td>46.38075</td></tr><tr><td>NULL</td><td>Dominican Republic</td><td>61.5545</td></tr><tr><td>NULL</td><td>Ecuador</td><td>62.8168333333333</td></tr><tr><td>NULL</td><td>Egypt</td><td>56.243</td></tr><tr><td>NULL</td><td>El Salvador</td><td>59.6333333333333</td></tr><tr><td>NULL</td><td>Equatorial Guinea</td><td>42.96</td></tr><tr><td>NULL</td><td>Eritrea</td><td>45.99925</td></tr><tr><td>NULL</td><td>Ethiopia</td><td>44.47575</td></tr><tr><td>NULL</td><td>Finland</td><td>72.9919166666667</td></tr><tr><td>NULL</td><td>France</td><td>74.3489166666667</td></tr><tr><td>NULL</td><td>Gabon</td><td>51.2205</td></tr><tr><td>NULL</td><td>Gambia</td><td>44.4005833333333</td></tr><tr><td>NULL</td><td>Germany</td><td>73.4444166666667</td></tr><tr><td>NULL</td><td>Ghana</td><td>52.3406666666667</td></tr><tr><td>NULL</td><td>Greece</td><td>73.7331666666667</td></tr><tr><td>NULL</td><td>Guatemala</td><td>56.7294166666667</td></tr><tr><td>NULL</td><td>Guinea</td><td>43.2398333333333</td></tr><tr><td>NULL</td><td>Guinea-Bissau</td><td>39.21025</td></tr><tr><td>NULL</td><td>Haiti</td><td>50.16525</td></tr><tr><td>NULL</td><td>Honduras</td><td>57.9208333333333</td></tr><tr><td>NULL</td><td>Hong Kong, China</td><td>73.4928333333333</td></tr><tr><td>NULL</td><td>Hungary</td><td>69.3931666666667</td></tr><tr><td>NULL</td><td>Iceland</td><td>76.5114166666667</td></tr><tr><td>NULL</td><td>India</td><td>53.1660833333333</td></tr><tr><td>NULL</td><td>Indonesia</td><td>54.33575</td></tr><tr><td>NULL</td><td>Iran</td><td>58.6365833333333</td></tr><tr><td>NULL</td><td>Iraq</td><td>56.58175</td></tr><tr><td>NULL</td><td>Ireland</td><td>73.01725</td></tr><tr><td>NULL</td><td>Israel</td><td>73.6458333333333</td></tr><tr><td>NULL</td><td>Italy</td><td>74.0138333333333</td></tr><tr><td>NULL</td><td>Jamaica</td><td>68.7493333333333</td></tr><tr><td>NULL</td><td>Japan</td><td>74.8269166666667</td></tr><tr><td>NULL</td><td>Jordan</td><td>59.7864166666667</td></tr><tr><td>NULL</td><td>Kenya</td><td>52.681</td></tr><tr><td>NULL</td><td>Korea, Dem. Rep.</td><td>63.6073333333333</td></tr><tr><td>NULL</td><td>Korea, Rep.</td><td>65.001</td></tr><tr><td>NULL</td><td>Kuwait</td><td>68.9223333333333</td></tr><tr><td>NULL</td><td>Lebanon</td><td>65.8656666666667</td></tr><tr><td>NULL</td><td>Lesotho</td><td>50.0070833333333</td></tr><tr><td>NULL</td><td>Liberia</td><td>42.47625</td></tr><tr><td>NULL</td><td>Libya</td><td>59.3041666666667</td></tr><tr><td>NULL</td><td>Madagascar</td><td>47.7705833333333</td></tr><tr><td>NULL</td><td>Malawi</td><td>43.3515833333333</td></tr><tr><td>NULL</td><td>Malaysia</td><td>64.2795833333333</td></tr><tr><td>NULL</td><td>Mali</td><td>43.4135</td></tr><tr><td>NULL</td><td>Mauritania</td><td>52.3020833333333</td></tr><tr><td>NULL</td><td>Mauritius</td><td>64.95325</td></tr><tr><td>NULL</td><td>Mexico</td><td>65.4088333333333</td></tr><tr><td>NULL</td><td>Mongolia</td><td>55.8903333333333</td></tr><tr><td>NULL</td><td>Montenegro</td><td>70.2991666666667</td></tr><tr><td>NULL</td><td>Morocco</td><td>57.6088333333333</td></tr><tr><td>NULL</td><td>Mozambique</td><td>40.3795</td></tr><tr><td>NULL</td><td>Myanmar</td><td>53.3216666666667</td></tr><tr><td>NULL</td><td>Namibia</td><td>53.4913333333334</td></tr><tr><td>NULL</td><td>Nepal</td><td>48.9863333333333</td></tr><tr><td>NULL</td><td>Netherlands</td><td>75.6485</td></tr><tr><td>NULL</td><td>New Zealand</td><td>73.9895</td></tr><tr><td>NULL</td><td>Nicaragua</td><td>58.3494166666667</td></tr><tr><td>NULL</td><td>Niger</td><td>44.5586666666667</td></tr><tr><td>NULL</td><td>Nigeria</td><td>43.5813333333333</td></tr><tr><td>NULL</td><td>Norway</td><td>75.843</td></tr><tr><td>NULL</td><td>Oman</td><td>58.4426666666667</td></tr><tr><td>NULL</td><td>Pakistan</td><td>54.88225</td></tr><tr><td>NULL</td><td>Panama</td><td>67.80175</td></tr><tr><td>NULL</td><td>Paraguay</td><td>66.8090833333333</td></tr><tr><td>NULL</td><td>Peru</td><td>58.8593333333333</td></tr><tr><td>NULL</td><td>Philippines</td><td>60.96725</td></tr><tr><td>NULL</td><td>Poland</td><td>70.1769166666667</td></tr><tr><td>NULL</td><td>Portugal</td><td>70.4198333333333</td></tr><tr><td>NULL</td><td>Puerto Rico</td><td>72.7393333333333</td></tr><tr><td>NULL</td><td>Reunion</td><td>66.64425</td></tr><tr><td>NULL</td><td>Romania</td><td>68.2906666666667</td></tr><tr><td>NULL</td><td>Rwanda</td><td>41.4815833333333</td></tr><tr><td>NULL</td><td>Sao Tome and Principe</td><td>57.8963333333333</td></tr><tr><td>NULL</td><td>Saudi Arabia</td><td>58.67875</td></tr><tr><td>NULL</td><td>Senegal</td><td>50.6259166666667</td></tr><tr><td>NULL</td><td>Serbia</td><td>68.551</td></tr><tr><td>NULL</td><td>Sierra Leone</td><td>36.7691666666667</td></tr><tr><td>NULL</td><td>Singapore</td><td>71.22025</td></tr><tr><td>NULL</td><td>Slovak Republic</td><td>70.6960833333333</td></tr><tr><td>NULL</td><td>Slovenia</td><td>71.60075</td></tr><tr><td>NULL</td><td>Somalia</td><td>40.9886666666667</td></tr><tr><td>NULL</td><td>South Africa</td><td>53.9931666666667</td></tr><tr><td>NULL</td><td>Spain</td><td>74.2034166666667</td></tr><tr><td>NULL</td><td>Sri Lanka</td><td>66.5260833333333</td></tr><tr><td>NULL</td><td>Sudan</td><td>48.4005</td></tr><tr><td>NULL</td><td>Swaziland</td><td>49.0024166666667</td></tr><tr><td>NULL</td><td>Sweden</td><td>76.177</td></tr><tr><td>NULL</td><td>Switzerland</td><td>75.5650833333333</td></tr><tr><td>NULL</td><td>Syria</td><td>61.3461666666667</td></tr><tr><td>NULL</td><td>Taiwan</td><td>70.3366666666667</td></tr><tr><td>NULL</td><td>Tanzania</td><td>47.9123333333333</td></tr><tr><td>NULL</td><td>Thailand</td><td>62.20025</td></tr><tr><td>NULL</td><td>Togo</td><td>51.49875</td></tr><tr><td>NULL</td><td>Trinidad and Tobago</td><td>66.828</td></tr><tr><td>NULL</td><td>Tunisia</td><td>60.721</td></tr><tr><td>NULL</td><td>Turkey</td><td>59.6964166666667</td></tr><tr><td>NULL</td><td>Uganda</td><td>47.6188333333333</td></tr><tr><td>NULL</td><td>United Kingdom</td><td>73.9225833333333</td></tr><tr><td>NULL</td><td>United States</td><td>73.4785</td></tr><tr><td>NULL</td><td>Uruguay</td><td>70.7815833333333</td></tr><tr><td>NULL</td><td>Venezuela</td><td>66.5806666666667</td></tr><tr><td>NULL</td><td>Vietnam</td><td>57.4795</td></tr><tr><td>NULL</td><td>West Bank and Gaza</td><td>60.3286666666667</td></tr><tr><td>NULL</td><td>Yemen, Rep.</td><td>46.7804166666667</td></tr><tr><td>NULL</td><td>Zambia</td><td>45.9963333333333</td></tr><tr><td>NULL</td><td>Zimbabwe</td><td>52.6631666666667</td></tr><tr><td>NULL</td><td>NULL</td><td>59.4744393661971</td></tr></table>"
                    },
                    "metadata": {}
                }
            ],
            "execution_count": 19
        },
        {
            "cell_type": "code",
            "source": [
                "select year, avg(lifeexp) from gapminder \n",
                "    group by year\n",
                "    order by year"
            ],
            "metadata": {
                "azdata_cell_guid": "a2143658-3592-42a1-a577-527d204d325f"
            },
            "outputs": [
                {
                    "output_type": "display_data",
                    "data": {
                        "text/html": "(12 row(s) affected)"
                    },
                    "metadata": {}
                },
                {
                    "output_type": "display_data",
                    "data": {
                        "text/html": "Total execution time: 00:00:00.004"
                    },
                    "metadata": {}
                },
                {
                    "output_type": "execute_result",
                    "execution_count": 20,
                    "data": {
                        "application/vnd.dataresource+json": {
                            "schema": {
                                "fields": [
                                    {
                                        "name": "year"
                                    },
                                    {
                                        "name": "avg"
                                    }
                                ]
                            },
                            "data": [
                                {
                                    "0": "1952",
                                    "1": "49.0576197183099"
                                },
                                {
                                    "0": "1957",
                                    "1": "51.5074011267605"
                                },
                                {
                                    "0": "1962",
                                    "1": "53.6092490140845"
                                },
                                {
                                    "0": "1967",
                                    "1": "55.6782895774648"
                                },
                                {
                                    "0": "1972",
                                    "1": "57.6473864788732"
                                },
                                {
                                    "0": "1977",
                                    "1": "59.5701574647887"
                                },
                                {
                                    "0": "1982",
                                    "1": "61.5331971830986"
                                },
                                {
                                    "0": "1987",
                                    "1": "63.2126126760564"
                                },
                                {
                                    "0": "1992",
                                    "1": "64.160338028169"
                                },
                                {
                                    "0": "1997",
                                    "1": "65.014676056338"
                                },
                                {
                                    "0": "2002",
                                    "1": "65.6949225352113"
                                },
                                {
                                    "0": "2007",
                                    "1": "67.0074225352113"
                                }
                            ]
                        },
                        "text/html": "<table><tr><th>year</th><th>avg</th></tr><tr><td>1952</td><td>49.0576197183099</td></tr><tr><td>1957</td><td>51.5074011267605</td></tr><tr><td>1962</td><td>53.6092490140845</td></tr><tr><td>1967</td><td>55.6782895774648</td></tr><tr><td>1972</td><td>57.6473864788732</td></tr><tr><td>1977</td><td>59.5701574647887</td></tr><tr><td>1982</td><td>61.5331971830986</td></tr><tr><td>1987</td><td>63.2126126760564</td></tr><tr><td>1992</td><td>64.160338028169</td></tr><tr><td>1997</td><td>65.014676056338</td></tr><tr><td>2002</td><td>65.6949225352113</td></tr><tr><td>2007</td><td>67.0074225352113</td></tr></table>"
                    },
                    "metadata": {}
                }
            ],
            "execution_count": 20
        },
        {
            "cell_type": "code",
            "source": [
                "select year, avg(lifeexp) from gapminder \n",
                "    group by grouping sets (year, ())\n",
                "    order by year"
            ],
            "metadata": {
                "azdata_cell_guid": "41e1fb2a-b318-439e-8f7e-907afa71e094"
            },
            "outputs": [
                {
                    "output_type": "display_data",
                    "data": {
                        "text/html": "(13 row(s) affected)"
                    },
                    "metadata": {}
                },
                {
                    "output_type": "display_data",
                    "data": {
                        "text/html": "Total execution time: 00:00:00.005"
                    },
                    "metadata": {}
                },
                {
                    "output_type": "execute_result",
                    "execution_count": 21,
                    "data": {
                        "application/vnd.dataresource+json": {
                            "schema": {
                                "fields": [
                                    {
                                        "name": "year"
                                    },
                                    {
                                        "name": "avg"
                                    }
                                ]
                            },
                            "data": [
                                {
                                    "0": "1952",
                                    "1": "49.0576197183099"
                                },
                                {
                                    "0": "1957",
                                    "1": "51.5074011267605"
                                },
                                {
                                    "0": "1962",
                                    "1": "53.6092490140845"
                                },
                                {
                                    "0": "1967",
                                    "1": "55.6782895774648"
                                },
                                {
                                    "0": "1972",
                                    "1": "57.6473864788732"
                                },
                                {
                                    "0": "1977",
                                    "1": "59.5701574647887"
                                },
                                {
                                    "0": "1982",
                                    "1": "61.5331971830986"
                                },
                                {
                                    "0": "1987",
                                    "1": "63.2126126760564"
                                },
                                {
                                    "0": "1992",
                                    "1": "64.160338028169"
                                },
                                {
                                    "0": "1997",
                                    "1": "65.014676056338"
                                },
                                {
                                    "0": "2002",
                                    "1": "65.6949225352113"
                                },
                                {
                                    "0": "2007",
                                    "1": "67.0074225352113"
                                },
                                {
                                    "0": "NULL",
                                    "1": "59.4744393661971"
                                }
                            ]
                        },
                        "text/html": "<table><tr><th>year</th><th>avg</th></tr><tr><td>1952</td><td>49.0576197183099</td></tr><tr><td>1957</td><td>51.5074011267605</td></tr><tr><td>1962</td><td>53.6092490140845</td></tr><tr><td>1967</td><td>55.6782895774648</td></tr><tr><td>1972</td><td>57.6473864788732</td></tr><tr><td>1977</td><td>59.5701574647887</td></tr><tr><td>1982</td><td>61.5331971830986</td></tr><tr><td>1987</td><td>63.2126126760564</td></tr><tr><td>1992</td><td>64.160338028169</td></tr><tr><td>1997</td><td>65.014676056338</td></tr><tr><td>2002</td><td>65.6949225352113</td></tr><tr><td>2007</td><td>67.0074225352113</td></tr><tr><td>NULL</td><td>59.4744393661971</td></tr></table>"
                    },
                    "metadata": {}
                }
            ],
            "execution_count": 21
        },
        {
            "cell_type": "code",
            "source": [
                "select year, continent, avg(lifeexp) from gapminder \n",
                "    group by grouping sets (year, continent, ())\n",
                "    order by year"
            ],
            "metadata": {
                "azdata_cell_guid": "3b17f74d-93b0-4d3e-8c42-77953c414a53"
            },
            "outputs": [
                {
                    "output_type": "display_data",
                    "data": {
                        "text/html": "(18 row(s) affected)"
                    },
                    "metadata": {}
                },
                {
                    "output_type": "display_data",
                    "data": {
                        "text/html": "Total execution time: 00:00:00.004"
                    },
                    "metadata": {}
                },
                {
                    "output_type": "execute_result",
                    "execution_count": 22,
                    "data": {
                        "application/vnd.dataresource+json": {
                            "schema": {
                                "fields": [
                                    {
                                        "name": "year"
                                    },
                                    {
                                        "name": "continent"
                                    },
                                    {
                                        "name": "avg"
                                    }
                                ]
                            },
                            "data": [
                                {
                                    "0": "1952",
                                    "1": "NULL",
                                    "2": "49.0576197183099"
                                },
                                {
                                    "0": "1957",
                                    "1": "NULL",
                                    "2": "51.5074011267605"
                                },
                                {
                                    "0": "1962",
                                    "1": "NULL",
                                    "2": "53.6092490140845"
                                },
                                {
                                    "0": "1967",
                                    "1": "NULL",
                                    "2": "55.6782895774648"
                                },
                                {
                                    "0": "1972",
                                    "1": "NULL",
                                    "2": "57.6473864788732"
                                },
                                {
                                    "0": "1977",
                                    "1": "NULL",
                                    "2": "59.5701574647887"
                                },
                                {
                                    "0": "1982",
                                    "1": "NULL",
                                    "2": "61.5331971830986"
                                },
                                {
                                    "0": "1987",
                                    "1": "NULL",
                                    "2": "63.2126126760564"
                                },
                                {
                                    "0": "1992",
                                    "1": "NULL",
                                    "2": "64.160338028169"
                                },
                                {
                                    "0": "1997",
                                    "1": "NULL",
                                    "2": "65.014676056338"
                                },
                                {
                                    "0": "2002",
                                    "1": "NULL",
                                    "2": "65.6949225352113"
                                },
                                {
                                    "0": "2007",
                                    "1": "NULL",
                                    "2": "67.0074225352113"
                                },
                                {
                                    "0": "NULL",
                                    "1": "Asia",
                                    "2": "60.0649032323232"
                                },
                                {
                                    "0": "NULL",
                                    "1": "Europe",
                                    "2": "71.9036861111111"
                                },
                                {
                                    "0": "NULL",
                                    "1": "Oceania",
                                    "2": "74.3262083333333"
                                },
                                {
                                    "0": "NULL",
                                    "1": "Americas",
                                    "2": "64.6587366666667"
                                },
                                {
                                    "0": "NULL",
                                    "1": "Africa",
                                    "2": "48.8653301282051"
                                },
                                {
                                    "0": "NULL",
                                    "1": "NULL",
                                    "2": "59.4744393661971"
                                }
                            ]
                        },
                        "text/html": "<table><tr><th>year</th><th>continent</th><th>avg</th></tr><tr><td>1952</td><td>NULL</td><td>49.0576197183099</td></tr><tr><td>1957</td><td>NULL</td><td>51.5074011267605</td></tr><tr><td>1962</td><td>NULL</td><td>53.6092490140845</td></tr><tr><td>1967</td><td>NULL</td><td>55.6782895774648</td></tr><tr><td>1972</td><td>NULL</td><td>57.6473864788732</td></tr><tr><td>1977</td><td>NULL</td><td>59.5701574647887</td></tr><tr><td>1982</td><td>NULL</td><td>61.5331971830986</td></tr><tr><td>1987</td><td>NULL</td><td>63.2126126760564</td></tr><tr><td>1992</td><td>NULL</td><td>64.160338028169</td></tr><tr><td>1997</td><td>NULL</td><td>65.014676056338</td></tr><tr><td>2002</td><td>NULL</td><td>65.6949225352113</td></tr><tr><td>2007</td><td>NULL</td><td>67.0074225352113</td></tr><tr><td>NULL</td><td>Asia</td><td>60.0649032323232</td></tr><tr><td>NULL</td><td>Europe</td><td>71.9036861111111</td></tr><tr><td>NULL</td><td>Oceania</td><td>74.3262083333333</td></tr><tr><td>NULL</td><td>Americas</td><td>64.6587366666667</td></tr><tr><td>NULL</td><td>Africa</td><td>48.8653301282051</td></tr><tr><td>NULL</td><td>NULL</td><td>59.4744393661971</td></tr></table>"
                    },
                    "metadata": {}
                }
            ],
            "execution_count": 22
        },
        {
            "cell_type": "code",
            "source": [
                "select year, continent, avg(lifeexp) from gapminder \n",
                "    group by \n",
                "        grouping sets (\n",
                "            (year, continent), -- เอาทั้งปีและทวีป\n",
                "            year, \n",
                "            continent, \n",
                "            ()\n",
                "        )\n",
                "    order by year"
            ],
            "metadata": {
                "azdata_cell_guid": "896c6b2b-e9e8-41be-8f14-de18ac6fe310"
            },
            "outputs": [
                {
                    "output_type": "display_data",
                    "data": {
                        "text/html": "(78 row(s) affected)"
                    },
                    "metadata": {}
                },
                {
                    "output_type": "display_data",
                    "data": {
                        "text/html": "Total execution time: 00:00:00.006"
                    },
                    "metadata": {}
                },
                {
                    "output_type": "execute_result",
                    "execution_count": 23,
                    "data": {
                        "application/vnd.dataresource+json": {
                            "schema": {
                                "fields": [
                                    {
                                        "name": "year"
                                    },
                                    {
                                        "name": "continent"
                                    },
                                    {
                                        "name": "avg"
                                    }
                                ]
                            },
                            "data": [
                                {
                                    "0": "1952",
                                    "1": "Oceania",
                                    "2": "69.255"
                                },
                                {
                                    "0": "1952",
                                    "1": "Asia",
                                    "2": "46.3143939393939"
                                },
                                {
                                    "0": "1952",
                                    "1": "Africa",
                                    "2": "39.1355"
                                },
                                {
                                    "0": "1952",
                                    "1": "Europe",
                                    "2": "64.4085"
                                },
                                {
                                    "0": "1952",
                                    "1": "NULL",
                                    "2": "49.0576197183099"
                                },
                                {
                                    "0": "1952",
                                    "1": "Americas",
                                    "2": "53.27984"
                                },
                                {
                                    "0": "1957",
                                    "1": "NULL",
                                    "2": "51.5074011267605"
                                },
                                {
                                    "0": "1957",
                                    "1": "Americas",
                                    "2": "55.96028"
                                },
                                {
                                    "0": "1957",
                                    "1": "Asia",
                                    "2": "49.3185442424243"
                                },
                                {
                                    "0": "1957",
                                    "1": "Africa",
                                    "2": "41.2663461538461"
                                },
                                {
                                    "0": "1957",
                                    "1": "Oceania",
                                    "2": "70.295"
                                },
                                {
                                    "0": "1957",
                                    "1": "Europe",
                                    "2": "66.7030666666667"
                                },
                                {
                                    "0": "1962",
                                    "1": "Oceania",
                                    "2": "71.085"
                                },
                                {
                                    "0": "1962",
                                    "1": "Europe",
                                    "2": "68.5392333333333"
                                },
                                {
                                    "0": "1962",
                                    "1": "Americas",
                                    "2": "58.39876"
                                },
                                {
                                    "0": "1962",
                                    "1": "Africa",
                                    "2": "43.3194423076923"
                                },
                                {
                                    "0": "1962",
                                    "1": "Asia",
                                    "2": "51.563223030303"
                                },
                                {
                                    "0": "1962",
                                    "1": "NULL",
                                    "2": "53.6092490140845"
                                },
                                {
                                    "0": "1967",
                                    "1": "NULL",
                                    "2": "55.6782895774648"
                                },
                                {
                                    "0": "1967",
                                    "1": "Africa",
                                    "2": "45.3345384615385"
                                },
                                {
                                    "0": "1967",
                                    "1": "Americas",
                                    "2": "60.41092"
                                },
                                {
                                    "0": "1967",
                                    "1": "Oceania",
                                    "2": "71.31"
                                },
                                {
                                    "0": "1967",
                                    "1": "Europe",
                                    "2": "69.7376"
                                },
                                {
                                    "0": "1967",
                                    "1": "Asia",
                                    "2": "54.66364"
                                },
                                {
                                    "0": "1972",
                                    "1": "Africa",
                                    "2": "47.4509423076923"
                                },
                                {
                                    "0": "1972",
                                    "1": "Oceania",
                                    "2": "71.91"
                                },
                                {
                                    "0": "1972",
                                    "1": "Asia",
                                    "2": "57.3192690909091"
                                },
                                {
                                    "0": "1972",
                                    "1": "Europe",
                                    "2": "70.7750333333333"
                                },
                                {
                                    "0": "1972",
                                    "1": "NULL",
                                    "2": "57.6473864788732"
                                },
                                {
                                    "0": "1972",
                                    "1": "Americas",
                                    "2": "62.39492"
                                },
                                {
                                    "0": "1977",
                                    "1": "Africa",
                                    "2": "49.5804230769231"
                                },
                                {
                                    "0": "1977",
                                    "1": "Americas",
                                    "2": "64.39156"
                                },
                                {
                                    "0": "1977",
                                    "1": "NULL",
                                    "2": "59.5701574647887"
                                },
                                {
                                    "0": "1977",
                                    "1": "Europe",
                                    "2": "71.9377666666667"
                                },
                                {
                                    "0": "1977",
                                    "1": "Oceania",
                                    "2": "72.855"
                                },
                                {
                                    "0": "1977",
                                    "1": "Asia",
                                    "2": "59.6105563636364"
                                },
                                {
                                    "0": "1982",
                                    "1": "Americas",
                                    "2": "66.22884"
                                },
                                {
                                    "0": "1982",
                                    "1": "Africa",
                                    "2": "51.5928653846154"
                                },
                                {
                                    "0": "1982",
                                    "1": "Asia",
                                    "2": "62.6179393939394"
                                },
                                {
                                    "0": "1982",
                                    "1": "NULL",
                                    "2": "61.5331971830986"
                                },
                                {
                                    "0": "1982",
                                    "1": "Europe",
                                    "2": "72.8064"
                                },
                                {
                                    "0": "1982",
                                    "1": "Oceania",
                                    "2": "74.29"
                                },
                                {
                                    "0": "1987",
                                    "1": "Oceania",
                                    "2": "75.32"
                                },
                                {
                                    "0": "1987",
                                    "1": "Africa",
                                    "2": "53.3447884615384"
                                },
                                {
                                    "0": "1987",
                                    "1": "Asia",
                                    "2": "64.8511818181818"
                                },
                                {
                                    "0": "1987",
                                    "1": "Americas",
                                    "2": "68.09072"
                                },
                                {
                                    "0": "1987",
                                    "1": "Europe",
                                    "2": "73.6421666666667"
                                },
                                {
                                    "0": "1987",
                                    "1": "NULL",
                                    "2": "63.2126126760564"
                                },
                                {
                                    "0": "1992",
                                    "1": "Oceania",
                                    "2": "76.945"
                                },
                                {
                                    "0": "1992",
                                    "1": "Americas",
                                    "2": "69.56836"
                                },
                                {
                                    "0": "1992",
                                    "1": "Asia",
                                    "2": "66.5372121212121"
                                },
                                {
                                    "0": "1992",
                                    "1": "NULL",
                                    "2": "64.160338028169"
                                },
                                {
                                    "0": "1992",
                                    "1": "Europe",
                                    "2": "74.4401"
                                },
                                {
                                    "0": "1992",
                                    "1": "Africa",
                                    "2": "53.6295769230769"
                                },
                                {
                                    "0": "1997",
                                    "1": "NULL",
                                    "2": "65.014676056338"
                                },
                                {
                                    "0": "1997",
                                    "1": "Africa",
                                    "2": "53.5982692307692"
                                },
                                {
                                    "0": "1997",
                                    "1": "Americas",
                                    "2": "71.15048"
                                },
                                {
                                    "0": "1997",
                                    "1": "Oceania",
                                    "2": "78.19"
                                },
                                {
                                    "0": "1997",
                                    "1": "Asia",
                                    "2": "68.0205151515151"
                                },
                                {
                                    "0": "1997",
                                    "1": "Europe",
                                    "2": "75.5051666666667"
                                },
                                {
                                    "0": "2002",
                                    "1": "NULL",
                                    "2": "65.6949225352113"
                                },
                                {
                                    "0": "2002",
                                    "1": "Europe",
                                    "2": "76.7006"
                                },
                                {
                                    "0": "2002",
                                    "1": "Africa",
                                    "2": "53.3252307692308"
                                },
                                {
                                    "0": "2002",
                                    "1": "Americas",
                                    "2": "72.42204"
                                },
                                {
                                    "0": "2002",
                                    "1": "Asia",
                                    "2": "69.2338787878788"
                                },
                                {
                                    "0": "2002",
                                    "1": "Oceania",
                                    "2": "79.74"
                                },
                                {
                                    "0": "2007",
                                    "1": "Europe",
                                    "2": "77.6486"
                                },
                                {
                                    "0": "2007",
                                    "1": "Oceania",
                                    "2": "80.7195"
                                },
                                {
                                    "0": "2007",
                                    "1": "Americas",
                                    "2": "73.60812"
                                },
                                {
                                    "0": "2007",
                                    "1": "Asia",
                                    "2": "70.7284848484848"
                                },
                                {
                                    "0": "2007",
                                    "1": "NULL",
                                    "2": "67.0074225352113"
                                },
                                {
                                    "0": "2007",
                                    "1": "Africa",
                                    "2": "54.8060384615384"
                                },
                                {
                                    "0": "NULL",
                                    "1": "Asia",
                                    "2": "60.0649032323232"
                                },
                                {
                                    "0": "NULL",
                                    "1": "Europe",
                                    "2": "71.9036861111111"
                                },
                                {
                                    "0": "NULL",
                                    "1": "Oceania",
                                    "2": "74.3262083333333"
                                },
                                {
                                    "0": "NULL",
                                    "1": "Americas",
                                    "2": "64.6587366666667"
                                },
                                {
                                    "0": "NULL",
                                    "1": "Africa",
                                    "2": "48.8653301282051"
                                },
                                {
                                    "0": "NULL",
                                    "1": "NULL",
                                    "2": "59.4744393661971"
                                }
                            ]
                        },
                        "text/html": "<table><tr><th>year</th><th>continent</th><th>avg</th></tr><tr><td>1952</td><td>Oceania</td><td>69.255</td></tr><tr><td>1952</td><td>Asia</td><td>46.3143939393939</td></tr><tr><td>1952</td><td>Africa</td><td>39.1355</td></tr><tr><td>1952</td><td>Europe</td><td>64.4085</td></tr><tr><td>1952</td><td>NULL</td><td>49.0576197183099</td></tr><tr><td>1952</td><td>Americas</td><td>53.27984</td></tr><tr><td>1957</td><td>NULL</td><td>51.5074011267605</td></tr><tr><td>1957</td><td>Americas</td><td>55.96028</td></tr><tr><td>1957</td><td>Asia</td><td>49.3185442424243</td></tr><tr><td>1957</td><td>Africa</td><td>41.2663461538461</td></tr><tr><td>1957</td><td>Oceania</td><td>70.295</td></tr><tr><td>1957</td><td>Europe</td><td>66.7030666666667</td></tr><tr><td>1962</td><td>Oceania</td><td>71.085</td></tr><tr><td>1962</td><td>Europe</td><td>68.5392333333333</td></tr><tr><td>1962</td><td>Americas</td><td>58.39876</td></tr><tr><td>1962</td><td>Africa</td><td>43.3194423076923</td></tr><tr><td>1962</td><td>Asia</td><td>51.563223030303</td></tr><tr><td>1962</td><td>NULL</td><td>53.6092490140845</td></tr><tr><td>1967</td><td>NULL</td><td>55.6782895774648</td></tr><tr><td>1967</td><td>Africa</td><td>45.3345384615385</td></tr><tr><td>1967</td><td>Americas</td><td>60.41092</td></tr><tr><td>1967</td><td>Oceania</td><td>71.31</td></tr><tr><td>1967</td><td>Europe</td><td>69.7376</td></tr><tr><td>1967</td><td>Asia</td><td>54.66364</td></tr><tr><td>1972</td><td>Africa</td><td>47.4509423076923</td></tr><tr><td>1972</td><td>Oceania</td><td>71.91</td></tr><tr><td>1972</td><td>Asia</td><td>57.3192690909091</td></tr><tr><td>1972</td><td>Europe</td><td>70.7750333333333</td></tr><tr><td>1972</td><td>NULL</td><td>57.6473864788732</td></tr><tr><td>1972</td><td>Americas</td><td>62.39492</td></tr><tr><td>1977</td><td>Africa</td><td>49.5804230769231</td></tr><tr><td>1977</td><td>Americas</td><td>64.39156</td></tr><tr><td>1977</td><td>NULL</td><td>59.5701574647887</td></tr><tr><td>1977</td><td>Europe</td><td>71.9377666666667</td></tr><tr><td>1977</td><td>Oceania</td><td>72.855</td></tr><tr><td>1977</td><td>Asia</td><td>59.6105563636364</td></tr><tr><td>1982</td><td>Americas</td><td>66.22884</td></tr><tr><td>1982</td><td>Africa</td><td>51.5928653846154</td></tr><tr><td>1982</td><td>Asia</td><td>62.6179393939394</td></tr><tr><td>1982</td><td>NULL</td><td>61.5331971830986</td></tr><tr><td>1982</td><td>Europe</td><td>72.8064</td></tr><tr><td>1982</td><td>Oceania</td><td>74.29</td></tr><tr><td>1987</td><td>Oceania</td><td>75.32</td></tr><tr><td>1987</td><td>Africa</td><td>53.3447884615384</td></tr><tr><td>1987</td><td>Asia</td><td>64.8511818181818</td></tr><tr><td>1987</td><td>Americas</td><td>68.09072</td></tr><tr><td>1987</td><td>Europe</td><td>73.6421666666667</td></tr><tr><td>1987</td><td>NULL</td><td>63.2126126760564</td></tr><tr><td>1992</td><td>Oceania</td><td>76.945</td></tr><tr><td>1992</td><td>Americas</td><td>69.56836</td></tr><tr><td>1992</td><td>Asia</td><td>66.5372121212121</td></tr><tr><td>1992</td><td>NULL</td><td>64.160338028169</td></tr><tr><td>1992</td><td>Europe</td><td>74.4401</td></tr><tr><td>1992</td><td>Africa</td><td>53.6295769230769</td></tr><tr><td>1997</td><td>NULL</td><td>65.014676056338</td></tr><tr><td>1997</td><td>Africa</td><td>53.5982692307692</td></tr><tr><td>1997</td><td>Americas</td><td>71.15048</td></tr><tr><td>1997</td><td>Oceania</td><td>78.19</td></tr><tr><td>1997</td><td>Asia</td><td>68.0205151515151</td></tr><tr><td>1997</td><td>Europe</td><td>75.5051666666667</td></tr><tr><td>2002</td><td>NULL</td><td>65.6949225352113</td></tr><tr><td>2002</td><td>Europe</td><td>76.7006</td></tr><tr><td>2002</td><td>Africa</td><td>53.3252307692308</td></tr><tr><td>2002</td><td>Americas</td><td>72.42204</td></tr><tr><td>2002</td><td>Asia</td><td>69.2338787878788</td></tr><tr><td>2002</td><td>Oceania</td><td>79.74</td></tr><tr><td>2007</td><td>Europe</td><td>77.6486</td></tr><tr><td>2007</td><td>Oceania</td><td>80.7195</td></tr><tr><td>2007</td><td>Americas</td><td>73.60812</td></tr><tr><td>2007</td><td>Asia</td><td>70.7284848484848</td></tr><tr><td>2007</td><td>NULL</td><td>67.0074225352113</td></tr><tr><td>2007</td><td>Africa</td><td>54.8060384615384</td></tr><tr><td>NULL</td><td>Asia</td><td>60.0649032323232</td></tr><tr><td>NULL</td><td>Europe</td><td>71.9036861111111</td></tr><tr><td>NULL</td><td>Oceania</td><td>74.3262083333333</td></tr><tr><td>NULL</td><td>Americas</td><td>64.6587366666667</td></tr><tr><td>NULL</td><td>Africa</td><td>48.8653301282051</td></tr><tr><td>NULL</td><td>NULL</td><td>59.4744393661971</td></tr></table>"
                    },
                    "metadata": {}
                }
            ],
            "execution_count": 23
        },
        {
            "cell_type": "code",
            "source": [
                "select year, continent, avg(lifeexp) from gapminder \n",
                "    group by \n",
                "        grouping sets (\n",
                "            (year, continent),\n",
                "            year, \n",
                "            continent, \n",
                "            ()\n",
                "        )\n",
                "    having year > 2000\n",
                "    order by year"
            ],
            "metadata": {
                "azdata_cell_guid": "16376730-5873-4cc0-84af-987af30dc6a3"
            },
            "outputs": [
                {
                    "output_type": "display_data",
                    "data": {
                        "text/html": "(12 row(s) affected)"
                    },
                    "metadata": {}
                },
                {
                    "output_type": "display_data",
                    "data": {
                        "text/html": "Total execution time: 00:00:00.006"
                    },
                    "metadata": {}
                },
                {
                    "output_type": "execute_result",
                    "execution_count": 24,
                    "data": {
                        "application/vnd.dataresource+json": {
                            "schema": {
                                "fields": [
                                    {
                                        "name": "year"
                                    },
                                    {
                                        "name": "continent"
                                    },
                                    {
                                        "name": "avg"
                                    }
                                ]
                            },
                            "data": [
                                {
                                    "0": "2002",
                                    "1": "Asia",
                                    "2": "69.2338787878788"
                                },
                                {
                                    "0": "2002",
                                    "1": "Africa",
                                    "2": "53.3252307692308"
                                },
                                {
                                    "0": "2002",
                                    "1": "Europe",
                                    "2": "76.7006"
                                },
                                {
                                    "0": "2002",
                                    "1": "Americas",
                                    "2": "72.42204"
                                },
                                {
                                    "0": "2002",
                                    "1": "Oceania",
                                    "2": "79.74"
                                },
                                {
                                    "0": "2002",
                                    "1": "NULL",
                                    "2": "65.6949225352113"
                                },
                                {
                                    "0": "2007",
                                    "1": "Asia",
                                    "2": "70.7284848484848"
                                },
                                {
                                    "0": "2007",
                                    "1": "Europe",
                                    "2": "77.6486"
                                },
                                {
                                    "0": "2007",
                                    "1": "Africa",
                                    "2": "54.8060384615384"
                                },
                                {
                                    "0": "2007",
                                    "1": "Americas",
                                    "2": "73.60812"
                                },
                                {
                                    "0": "2007",
                                    "1": "Oceania",
                                    "2": "80.7195"
                                },
                                {
                                    "0": "2007",
                                    "1": "NULL",
                                    "2": "67.0074225352113"
                                }
                            ]
                        },
                        "text/html": "<table><tr><th>year</th><th>continent</th><th>avg</th></tr><tr><td>2002</td><td>Asia</td><td>69.2338787878788</td></tr><tr><td>2002</td><td>Africa</td><td>53.3252307692308</td></tr><tr><td>2002</td><td>Europe</td><td>76.7006</td></tr><tr><td>2002</td><td>Americas</td><td>72.42204</td></tr><tr><td>2002</td><td>Oceania</td><td>79.74</td></tr><tr><td>2002</td><td>NULL</td><td>65.6949225352113</td></tr><tr><td>2007</td><td>Asia</td><td>70.7284848484848</td></tr><tr><td>2007</td><td>Europe</td><td>77.6486</td></tr><tr><td>2007</td><td>Africa</td><td>54.8060384615384</td></tr><tr><td>2007</td><td>Americas</td><td>73.60812</td></tr><tr><td>2007</td><td>Oceania</td><td>80.7195</td></tr><tr><td>2007</td><td>NULL</td><td>67.0074225352113</td></tr></table>"
                    },
                    "metadata": {}
                }
            ],
            "execution_count": 24
        }
    ]
}