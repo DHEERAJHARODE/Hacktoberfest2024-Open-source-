{
    "metadata": {
        "kernelspec": {
            "name": "SQL",
            "display_name": "SQL",
            "language": "sql"
        },
        "language_info": {
            "name": "sql",
            "version": ""
        }
    },
    "nbformat_minor": 2,
    "nbformat": 4,
    "cells": [
        {
            "cell_type": "code",
            "source": [
                "select * from province limit 5;\r\n",
                " "
            ],
            "metadata": {
                "azdata_cell_guid": "5b0082e1-0ae7-45e9-b986-0a51ca309807"
            },
            "outputs": [
                {
                    "output_type": "display_data",
                    "data": {
                        "text/html": "(5 row(s) affected)"
                    },
                    "metadata": {}
                },
                {
                    "output_type": "display_data",
                    "data": {
                        "text/html": "Total execution time: 00:00:00.004"
                    },
                    "metadata": {}
                },
                {
                    "output_type": "execute_result",
                    "metadata": {},
                    "execution_count": 4,
                    "data": {
                        "application/vnd.dataresource+json": {
                            "schema": {
                                "fields": [
                                    {
                                        "name": "p_id"
                                    },
                                    {
                                        "name": "name"
                                    },
                                    {
                                        "name": "name_en"
                                    },
                                    {
                                        "name": "region"
                                    },
                                    {
                                        "name": "area_km2"
                                    },
                                    {
                                        "name": "name_th"
                                    }
                                ]
                            },
                            "data": [
                                {
                                    "0": "กจ",
                                    "1": "กาญจนบุรี",
                                    "2": "Kanchanaburi",
                                    "3": "C",
                                    "4": "19483.148",
                                    "5": "กาญจนบุรี"
                                },
                                {
                                    "0": "กทม",
                                    "1": "กรุงเทพมหานคร",
                                    "2": "Bangkok",
                                    "3": "C",
                                    "4": "1568.737",
                                    "5": "กรุงเทพมหานคร"
                                },
                                {
                                    "0": "จบ",
                                    "1": "จันทบุรี",
                                    "2": "Chanthaburi",
                                    "3": "C",
                                    "4": "6338.0",
                                    "5": "จันทบุรี"
                                },
                                {
                                    "0": "ฉช",
                                    "1": "ฉะเชิงเทรา",
                                    "2": "Chachoengsao",
                                    "3": "C",
                                    "4": "5351.0",
                                    "5": "ฉะเชิงเทรา"
                                },
                                {
                                    "0": "ชน",
                                    "1": "ชัยนาท",
                                    "2": "Chainat",
                                    "3": "C",
                                    "4": "2469.746",
                                    "5": "ชัยนาท"
                                }
                            ]
                        },
                        "text/html": [
                            "<table>",
                            "<tr><th>p_id</th><th>name</th><th>name_en</th><th>region</th><th>area_km2</th><th>name_th</th></tr>",
                            "<tr><td>กจ</td><td>กาญจนบุรี</td><td>Kanchanaburi</td><td>C</td><td>19483.148</td><td>กาญจนบุรี</td></tr>",
                            "<tr><td>กทม</td><td>กรุงเทพมหานคร</td><td>Bangkok</td><td>C</td><td>1568.737</td><td>กรุงเทพมหานคร</td></tr>",
                            "<tr><td>จบ</td><td>จันทบุรี</td><td>Chanthaburi</td><td>C</td><td>6338.0</td><td>จันทบุรี</td></tr>",
                            "<tr><td>ฉช</td><td>ฉะเชิงเทรา</td><td>Chachoengsao</td><td>C</td><td>5351.0</td><td>ฉะเชิงเทรา</td></tr>",
                            "<tr><td>ชน</td><td>ชัยนาท</td><td>Chainat</td><td>C</td><td>2469.746</td><td>ชัยนาท</td></tr>",
                            "</table>"
                        ]
                    }
                }
            ],
            "execution_count": 4
        },
        {
            "cell_type": "code",
            "source": [
                "select avg(area_km2) from province;"
            ],
            "metadata": {
                "azdata_cell_guid": "3cfb536f-5f76-4b55-9653-1170d4e4c8fc"
            },
            "outputs": [
                {
                    "output_type": "display_data",
                    "data": {
                        "text/html": "(1 row(s) affected)"
                    },
                    "metadata": {}
                },
                {
                    "output_type": "display_data",
                    "data": {
                        "text/html": "Total execution time: 00:00:00.003"
                    },
                    "metadata": {}
                },
                {
                    "output_type": "execute_result",
                    "metadata": {},
                    "execution_count": 5,
                    "data": {
                        "application/vnd.dataresource+json": {
                            "schema": {
                                "fields": [
                                    {
                                        "name": "avg"
                                    }
                                ]
                            },
                            "data": [
                                {
                                    "0": "6671.926025974027"
                                }
                            ]
                        },
                        "text/html": [
                            "<table>",
                            "<tr><th>avg</th></tr>",
                            "<tr><td>6671.926025974027</td></tr>",
                            "</table>"
                        ]
                    }
                }
            ],
            "execution_count": 5
        },
        {
            "cell_type": "code",
            "source": [
                "select * from province where area_km2 > 6671.926025974027;\r\n",
                " "
            ],
            "metadata": {
                "azdata_cell_guid": "e27b0a14-9927-43f0-a55a-a2403b7cf3e5"
            },
            "outputs": [
                {
                    "output_type": "display_data",
                    "data": {
                        "text/html": "(29 row(s) affected)"
                    },
                    "metadata": {}
                },
                {
                    "output_type": "display_data",
                    "data": {
                        "text/html": "Total execution time: 00:00:00.066"
                    },
                    "metadata": {}
                },
                {
                    "output_type": "execute_result",
                    "metadata": {},
                    "execution_count": 6,
                    "data": {
                        "application/vnd.dataresource+json": {
                            "schema": {
                                "fields": [
                                    {
                                        "name": "p_id"
                                    },
                                    {
                                        "name": "name"
                                    },
                                    {
                                        "name": "name_en"
                                    },
                                    {
                                        "name": "region"
                                    },
                                    {
                                        "name": "area_km2"
                                    },
                                    {
                                        "name": "name_th"
                                    }
                                ]
                            },
                            "data": [
                                {
                                    "0": "กจ",
                                    "1": "กาญจนบุรี",
                                    "2": "Kanchanaburi",
                                    "3": "C",
                                    "4": "19483.148",
                                    "5": "กาญจนบุรี"
                                },
                                {
                                    "0": "สก",
                                    "1": "สระแก้ว",
                                    "2": "Sa Kaeo",
                                    "3": "C",
                                    "4": "7195.436",
                                    "5": "สระแก้ว"
                                },
                                {
                                    "0": "ตก",
                                    "1": "ตาก",
                                    "2": "Tak",
                                    "3": "N",
                                    "4": "16406.65",
                                    "5": "ตาก"
                                },
                                {
                                    "0": "กพ",
                                    "1": "กำแพงเพชร",
                                    "2": "Kamphaeng Phet",
                                    "3": "N",
                                    "4": "8607.49",
                                    "5": "กำแพงเพชร"
                                },
                                {
                                    "0": "ชม",
                                    "1": "เชียงใหม่",
                                    "2": "Chiang Mai",
                                    "3": "N",
                                    "4": "20107.057",
                                    "5": "เชียงใหม่"
                                },
                                {
                                    "0": "ชร",
                                    "1": "เชียงราย",
                                    "2": "Chiang Rai",
                                    "3": "N",
                                    "4": "11678.368999999999",
                                    "5": "เชียงราย"
                                },
                                {
                                    "0": "นน",
                                    "1": "น่าน",
                                    "2": "Nan",
                                    "3": "N",
                                    "4": "11472.072",
                                    "5": "น่าน"
                                },
                                {
                                    "0": "นว",
                                    "1": "นครสวรรค์",
                                    "2": "Nakhon Sawan",
                                    "3": "N",
                                    "4": "9597.677",
                                    "5": "นครสวรรค์"
                                },
                                {
                                    "0": "พช",
                                    "1": "เพชรบูรณ์",
                                    "2": "Phetchabun",
                                    "3": "N",
                                    "4": "12668.416000000001",
                                    "5": "เพชรบูรณ์"
                                },
                                {
                                    "0": "พล",
                                    "1": "พิษณุโลก",
                                    "2": "Phitsanulok",
                                    "3": "N",
                                    "4": "10815.854",
                                    "5": "พิษณุโลก"
                                },
                                {
                                    "0": "มส",
                                    "1": "แม่ฮ่องสอน",
                                    "2": "Mae Hong Son",
                                    "3": "N",
                                    "4": "12681.258999999998",
                                    "5": "แม่ฮ่องสอน"
                                },
                                {
                                    "0": "ลป",
                                    "1": "ลำปาง",
                                    "2": "Lampang",
                                    "3": "N",
                                    "4": "12533.961000000001",
                                    "5": "ลำปาง"
                                },
                                {
                                    "0": "อต",
                                    "1": "อุตรดิตถ์",
                                    "2": "Uttaradit",
                                    "3": "N",
                                    "4": "7838.592",
                                    "5": "อุตรดิตถ์"
                                },
                                {
                                    "0": "อน",
                                    "1": "อุทัยธานี",
                                    "2": "Uthai Thani",
                                    "3": "N",
                                    "4": "6730.246",
                                    "5": "อุทัยธานี"
                                },
                                {
                                    "0": "กส",
                                    "1": "กาฬสินธุ์",
                                    "2": "Kalasin",
                                    "3": "NE",
                                    "4": "6946.746",
                                    "5": "กาฬสินธุ์"
                                },
                                {
                                    "0": "ขก",
                                    "1": "ขอนแก่น",
                                    "2": "Khon Kaen",
                                    "3": "NE",
                                    "4": "10885.991000000002",
                                    "5": "ขอนแก่น"
                                },
                                {
                                    "0": "ชย",
                                    "1": "ชัยภูมิ",
                                    "2": "Chaiyaphum",
                                    "3": "NE",
                                    "4": "12778.287",
                                    "5": "ชัยภูมิ"
                                },
                                {
                                    "0": "นม",
                                    "1": "นครราชสีมา",
                                    "2": "Nakhon Ratchasima",
                                    "3": "NE",
                                    "4": "20493.964",
                                    "5": "นครราชสีมา"
                                },
                                {
                                    "0": "บร",
                                    "1": "บุรีรัมย์",
                                    "2": "Buriram",
                                    "3": "NE",
                                    "4": "10322.885",
                                    "5": "บุรีรัมย์"
                                },
                                {
                                    "0": "รอ",
                                    "1": "ร้อยเอ็ด",
                                    "2": "Roi Et",
                                    "3": "NE",
                                    "4": "8299.449",
                                    "5": "ร้อยเอ็ด"
                                },
                                {
                                    "0": "ลย",
                                    "1": "เลย",
                                    "2": "Loei",
                                    "3": "NE",
                                    "4": "11424.612",
                                    "5": "เลย"
                                },
                                {
                                    "0": "ศก",
                                    "1": "ศรีสะเกษ",
                                    "2": "Sisaket",
                                    "3": "NE",
                                    "4": "8839.976",
                                    "5": "ศรีสะเกษ"
                                },
                                {
                                    "0": "สน",
                                    "1": "สกลนคร",
                                    "2": "Sakon Nakhon",
                                    "3": "NE",
                                    "4": "9605.764000000001",
                                    "5": "สกลนคร"
                                },
                                {
                                    "0": "สร",
                                    "1": "สุรินทร์",
                                    "2": "Surin",
                                    "3": "NE",
                                    "4": "8124.056",
                                    "5": "สุรินทร์"
                                },
                                {
                                    "0": "อด",
                                    "1": "อุดรธานี",
                                    "2": "Udon Thani",
                                    "3": "NE",
                                    "4": "11730.302",
                                    "5": "อุดรธานี"
                                },
                                {
                                    "0": "อบ",
                                    "1": "อุบลราชธานี",
                                    "2": "Ubon Ratchathani",
                                    "3": "NE",
                                    "4": "16112.65",
                                    "5": "อุบลราชธานี"
                                },
                                {
                                    "0": "นศ",
                                    "1": "นครศรีธรรมราช",
                                    "2": "Nakhon Si Thammarat",
                                    "3": "S",
                                    "4": "9942.502",
                                    "5": "นครศรีธรรมราช"
                                },
                                {
                                    "0": "สข",
                                    "1": "สงขลา",
                                    "2": "Songkhla",
                                    "3": "S",
                                    "4": "7393.889",
                                    "5": "สงขลา"
                                },
                                {
                                    "0": "สฎ",
                                    "1": "สุราษฎร์ธานี",
                                    "2": "Surat Thani",
                                    "3": "S",
                                    "4": "12891.469",
                                    "5": "สุราษฎร์ธานี"
                                }
                            ]
                        },
                        "text/html": [
                            "<table>",
                            "<tr><th>p_id</th><th>name</th><th>name_en</th><th>region</th><th>area_km2</th><th>name_th</th></tr>",
                            "<tr><td>กจ</td><td>กาญจนบุรี</td><td>Kanchanaburi</td><td>C</td><td>19483.148</td><td>กาญจนบุรี</td></tr>",
                            "<tr><td>สก</td><td>สระแก้ว</td><td>Sa Kaeo</td><td>C</td><td>7195.436</td><td>สระแก้ว</td></tr>",
                            "<tr><td>ตก</td><td>ตาก</td><td>Tak</td><td>N</td><td>16406.65</td><td>ตาก</td></tr>",
                            "<tr><td>กพ</td><td>กำแพงเพชร</td><td>Kamphaeng Phet</td><td>N</td><td>8607.49</td><td>กำแพงเพชร</td></tr>",
                            "<tr><td>ชม</td><td>เชียงใหม่</td><td>Chiang Mai</td><td>N</td><td>20107.057</td><td>เชียงใหม่</td></tr>",
                            "<tr><td>ชร</td><td>เชียงราย</td><td>Chiang Rai</td><td>N</td><td>11678.368999999999</td><td>เชียงราย</td></tr>",
                            "<tr><td>นน</td><td>น่าน</td><td>Nan</td><td>N</td><td>11472.072</td><td>น่าน</td></tr>",
                            "<tr><td>นว</td><td>นครสวรรค์</td><td>Nakhon Sawan</td><td>N</td><td>9597.677</td><td>นครสวรรค์</td></tr>",
                            "<tr><td>พช</td><td>เพชรบูรณ์</td><td>Phetchabun</td><td>N</td><td>12668.416000000001</td><td>เพชรบูรณ์</td></tr>",
                            "<tr><td>พล</td><td>พิษณุโลก</td><td>Phitsanulok</td><td>N</td><td>10815.854</td><td>พิษณุโลก</td></tr>",
                            "<tr><td>มส</td><td>แม่ฮ่องสอน</td><td>Mae Hong Son</td><td>N</td><td>12681.258999999998</td><td>แม่ฮ่องสอน</td></tr>",
                            "<tr><td>ลป</td><td>ลำปาง</td><td>Lampang</td><td>N</td><td>12533.961000000001</td><td>ลำปาง</td></tr>",
                            "<tr><td>อต</td><td>อุตรดิตถ์</td><td>Uttaradit</td><td>N</td><td>7838.592</td><td>อุตรดิตถ์</td></tr>",
                            "<tr><td>อน</td><td>อุทัยธานี</td><td>Uthai Thani</td><td>N</td><td>6730.246</td><td>อุทัยธานี</td></tr>",
                            "<tr><td>กส</td><td>กาฬสินธุ์</td><td>Kalasin</td><td>NE</td><td>6946.746</td><td>กาฬสินธุ์</td></tr>",
                            "<tr><td>ขก</td><td>ขอนแก่น</td><td>Khon Kaen</td><td>NE</td><td>10885.991000000002</td><td>ขอนแก่น</td></tr>",
                            "<tr><td>ชย</td><td>ชัยภูมิ</td><td>Chaiyaphum</td><td>NE</td><td>12778.287</td><td>ชัยภูมิ</td></tr>",
                            "<tr><td>นม</td><td>นครราชสีมา</td><td>Nakhon Ratchasima</td><td>NE</td><td>20493.964</td><td>นครราชสีมา</td></tr>",
                            "<tr><td>บร</td><td>บุรีรัมย์</td><td>Buriram</td><td>NE</td><td>10322.885</td><td>บุรีรัมย์</td></tr>",
                            "<tr><td>รอ</td><td>ร้อยเอ็ด</td><td>Roi Et</td><td>NE</td><td>8299.449</td><td>ร้อยเอ็ด</td></tr>",
                            "<tr><td>ลย</td><td>เลย</td><td>Loei</td><td>NE</td><td>11424.612</td><td>เลย</td></tr>",
                            "<tr><td>ศก</td><td>ศรีสะเกษ</td><td>Sisaket</td><td>NE</td><td>8839.976</td><td>ศรีสะเกษ</td></tr>",
                            "<tr><td>สน</td><td>สกลนคร</td><td>Sakon Nakhon</td><td>NE</td><td>9605.764000000001</td><td>สกลนคร</td></tr>",
                            "<tr><td>สร</td><td>สุรินทร์</td><td>Surin</td><td>NE</td><td>8124.056</td><td>สุรินทร์</td></tr>",
                            "<tr><td>อด</td><td>อุดรธานี</td><td>Udon Thani</td><td>NE</td><td>11730.302</td><td>อุดรธานี</td></tr>",
                            "<tr><td>อบ</td><td>อุบลราชธานี</td><td>Ubon Ratchathani</td><td>NE</td><td>16112.65</td><td>อุบลราชธานี</td></tr>",
                            "<tr><td>นศ</td><td>นครศรีธรรมราช</td><td>Nakhon Si Thammarat</td><td>S</td><td>9942.502</td><td>นครศรีธรรมราช</td></tr>",
                            "<tr><td>สข</td><td>สงขลา</td><td>Songkhla</td><td>S</td><td>7393.889</td><td>สงขลา</td></tr>",
                            "<tr><td>สฎ</td><td>สุราษฎร์ธานี</td><td>Surat Thani</td><td>S</td><td>12891.469</td><td>สุราษฎร์ธานี</td></tr>",
                            "</table>"
                        ]
                    }
                }
            ],
            "execution_count": 6
        },
        {
            "cell_type": "code",
            "source": [
                "select * from province where area_km2 > (select avg(area_km2) from province);\r\n",
                ""
            ],
            "metadata": {
                "azdata_cell_guid": "a83cbb22-d5db-4fbd-b109-265477242ef8"
            },
            "outputs": [
                {
                    "output_type": "display_data",
                    "data": {
                        "text/html": "(29 row(s) affected)"
                    },
                    "metadata": {}
                },
                {
                    "output_type": "display_data",
                    "data": {
                        "text/html": "Total execution time: 00:00:00.004"
                    },
                    "metadata": {}
                },
                {
                    "output_type": "execute_result",
                    "metadata": {},
                    "execution_count": 8,
                    "data": {
                        "application/vnd.dataresource+json": {
                            "schema": {
                                "fields": [
                                    {
                                        "name": "p_id"
                                    },
                                    {
                                        "name": "name"
                                    },
                                    {
                                        "name": "name_en"
                                    },
                                    {
                                        "name": "region"
                                    },
                                    {
                                        "name": "area_km2"
                                    },
                                    {
                                        "name": "name_th"
                                    }
                                ]
                            },
                            "data": [
                                {
                                    "0": "กจ",
                                    "1": "กาญจนบุรี",
                                    "2": "Kanchanaburi",
                                    "3": "C",
                                    "4": "19483.148",
                                    "5": "กาญจนบุรี"
                                },
                                {
                                    "0": "สก",
                                    "1": "สระแก้ว",
                                    "2": "Sa Kaeo",
                                    "3": "C",
                                    "4": "7195.436",
                                    "5": "สระแก้ว"
                                },
                                {
                                    "0": "ตก",
                                    "1": "ตาก",
                                    "2": "Tak",
                                    "3": "N",
                                    "4": "16406.65",
                                    "5": "ตาก"
                                },
                                {
                                    "0": "กพ",
                                    "1": "กำแพงเพชร",
                                    "2": "Kamphaeng Phet",
                                    "3": "N",
                                    "4": "8607.49",
                                    "5": "กำแพงเพชร"
                                },
                                {
                                    "0": "ชม",
                                    "1": "เชียงใหม่",
                                    "2": "Chiang Mai",
                                    "3": "N",
                                    "4": "20107.057",
                                    "5": "เชียงใหม่"
                                },
                                {
                                    "0": "ชร",
                                    "1": "เชียงราย",
                                    "2": "Chiang Rai",
                                    "3": "N",
                                    "4": "11678.368999999999",
                                    "5": "เชียงราย"
                                },
                                {
                                    "0": "นน",
                                    "1": "น่าน",
                                    "2": "Nan",
                                    "3": "N",
                                    "4": "11472.072",
                                    "5": "น่าน"
                                },
                                {
                                    "0": "นว",
                                    "1": "นครสวรรค์",
                                    "2": "Nakhon Sawan",
                                    "3": "N",
                                    "4": "9597.677",
                                    "5": "นครสวรรค์"
                                },
                                {
                                    "0": "พช",
                                    "1": "เพชรบูรณ์",
                                    "2": "Phetchabun",
                                    "3": "N",
                                    "4": "12668.416000000001",
                                    "5": "เพชรบูรณ์"
                                },
                                {
                                    "0": "พล",
                                    "1": "พิษณุโลก",
                                    "2": "Phitsanulok",
                                    "3": "N",
                                    "4": "10815.854",
                                    "5": "พิษณุโลก"
                                },
                                {
                                    "0": "มส",
                                    "1": "แม่ฮ่องสอน",
                                    "2": "Mae Hong Son",
                                    "3": "N",
                                    "4": "12681.258999999998",
                                    "5": "แม่ฮ่องสอน"
                                },
                                {
                                    "0": "ลป",
                                    "1": "ลำปาง",
                                    "2": "Lampang",
                                    "3": "N",
                                    "4": "12533.961000000001",
                                    "5": "ลำปาง"
                                },
                                {
                                    "0": "อต",
                                    "1": "อุตรดิตถ์",
                                    "2": "Uttaradit",
                                    "3": "N",
                                    "4": "7838.592",
                                    "5": "อุตรดิตถ์"
                                },
                                {
                                    "0": "อน",
                                    "1": "อุทัยธานี",
                                    "2": "Uthai Thani",
                                    "3": "N",
                                    "4": "6730.246",
                                    "5": "อุทัยธานี"
                                },
                                {
                                    "0": "กส",
                                    "1": "กาฬสินธุ์",
                                    "2": "Kalasin",
                                    "3": "NE",
                                    "4": "6946.746",
                                    "5": "กาฬสินธุ์"
                                },
                                {
                                    "0": "ขก",
                                    "1": "ขอนแก่น",
                                    "2": "Khon Kaen",
                                    "3": "NE",
                                    "4": "10885.991000000002",
                                    "5": "ขอนแก่น"
                                },
                                {
                                    "0": "ชย",
                                    "1": "ชัยภูมิ",
                                    "2": "Chaiyaphum",
                                    "3": "NE",
                                    "4": "12778.287",
                                    "5": "ชัยภูมิ"
                                },
                                {
                                    "0": "นม",
                                    "1": "นครราชสีมา",
                                    "2": "Nakhon Ratchasima",
                                    "3": "NE",
                                    "4": "20493.964",
                                    "5": "นครราชสีมา"
                                },
                                {
                                    "0": "บร",
                                    "1": "บุรีรัมย์",
                                    "2": "Buriram",
                                    "3": "NE",
                                    "4": "10322.885",
                                    "5": "บุรีรัมย์"
                                },
                                {
                                    "0": "รอ",
                                    "1": "ร้อยเอ็ด",
                                    "2": "Roi Et",
                                    "3": "NE",
                                    "4": "8299.449",
                                    "5": "ร้อยเอ็ด"
                                },
                                {
                                    "0": "ลย",
                                    "1": "เลย",
                                    "2": "Loei",
                                    "3": "NE",
                                    "4": "11424.612",
                                    "5": "เลย"
                                },
                                {
                                    "0": "ศก",
                                    "1": "ศรีสะเกษ",
                                    "2": "Sisaket",
                                    "3": "NE",
                                    "4": "8839.976",
                                    "5": "ศรีสะเกษ"
                                },
                                {
                                    "0": "สน",
                                    "1": "สกลนคร",
                                    "2": "Sakon Nakhon",
                                    "3": "NE",
                                    "4": "9605.764000000001",
                                    "5": "สกลนคร"
                                },
                                {
                                    "0": "สร",
                                    "1": "สุรินทร์",
                                    "2": "Surin",
                                    "3": "NE",
                                    "4": "8124.056",
                                    "5": "สุรินทร์"
                                },
                                {
                                    "0": "อด",
                                    "1": "อุดรธานี",
                                    "2": "Udon Thani",
                                    "3": "NE",
                                    "4": "11730.302",
                                    "5": "อุดรธานี"
                                },
                                {
                                    "0": "อบ",
                                    "1": "อุบลราชธานี",
                                    "2": "Ubon Ratchathani",
                                    "3": "NE",
                                    "4": "16112.65",
                                    "5": "อุบลราชธานี"
                                },
                                {
                                    "0": "นศ",
                                    "1": "นครศรีธรรมราช",
                                    "2": "Nakhon Si Thammarat",
                                    "3": "S",
                                    "4": "9942.502",
                                    "5": "นครศรีธรรมราช"
                                },
                                {
                                    "0": "สข",
                                    "1": "สงขลา",
                                    "2": "Songkhla",
                                    "3": "S",
                                    "4": "7393.889",
                                    "5": "สงขลา"
                                },
                                {
                                    "0": "สฎ",
                                    "1": "สุราษฎร์ธานี",
                                    "2": "Surat Thani",
                                    "3": "S",
                                    "4": "12891.469",
                                    "5": "สุราษฎร์ธานี"
                                }
                            ]
                        },
                        "text/html": [
                            "<table>",
                            "<tr><th>p_id</th><th>name</th><th>name_en</th><th>region</th><th>area_km2</th><th>name_th</th></tr>",
                            "<tr><td>กจ</td><td>กาญจนบุรี</td><td>Kanchanaburi</td><td>C</td><td>19483.148</td><td>กาญจนบุรี</td></tr>",
                            "<tr><td>สก</td><td>สระแก้ว</td><td>Sa Kaeo</td><td>C</td><td>7195.436</td><td>สระแก้ว</td></tr>",
                            "<tr><td>ตก</td><td>ตาก</td><td>Tak</td><td>N</td><td>16406.65</td><td>ตาก</td></tr>",
                            "<tr><td>กพ</td><td>กำแพงเพชร</td><td>Kamphaeng Phet</td><td>N</td><td>8607.49</td><td>กำแพงเพชร</td></tr>",
                            "<tr><td>ชม</td><td>เชียงใหม่</td><td>Chiang Mai</td><td>N</td><td>20107.057</td><td>เชียงใหม่</td></tr>",
                            "<tr><td>ชร</td><td>เชียงราย</td><td>Chiang Rai</td><td>N</td><td>11678.368999999999</td><td>เชียงราย</td></tr>",
                            "<tr><td>นน</td><td>น่าน</td><td>Nan</td><td>N</td><td>11472.072</td><td>น่าน</td></tr>",
                            "<tr><td>นว</td><td>นครสวรรค์</td><td>Nakhon Sawan</td><td>N</td><td>9597.677</td><td>นครสวรรค์</td></tr>",
                            "<tr><td>พช</td><td>เพชรบูรณ์</td><td>Phetchabun</td><td>N</td><td>12668.416000000001</td><td>เพชรบูรณ์</td></tr>",
                            "<tr><td>พล</td><td>พิษณุโลก</td><td>Phitsanulok</td><td>N</td><td>10815.854</td><td>พิษณุโลก</td></tr>",
                            "<tr><td>มส</td><td>แม่ฮ่องสอน</td><td>Mae Hong Son</td><td>N</td><td>12681.258999999998</td><td>แม่ฮ่องสอน</td></tr>",
                            "<tr><td>ลป</td><td>ลำปาง</td><td>Lampang</td><td>N</td><td>12533.961000000001</td><td>ลำปาง</td></tr>",
                            "<tr><td>อต</td><td>อุตรดิตถ์</td><td>Uttaradit</td><td>N</td><td>7838.592</td><td>อุตรดิตถ์</td></tr>",
                            "<tr><td>อน</td><td>อุทัยธานี</td><td>Uthai Thani</td><td>N</td><td>6730.246</td><td>อุทัยธานี</td></tr>",
                            "<tr><td>กส</td><td>กาฬสินธุ์</td><td>Kalasin</td><td>NE</td><td>6946.746</td><td>กาฬสินธุ์</td></tr>",
                            "<tr><td>ขก</td><td>ขอนแก่น</td><td>Khon Kaen</td><td>NE</td><td>10885.991000000002</td><td>ขอนแก่น</td></tr>",
                            "<tr><td>ชย</td><td>ชัยภูมิ</td><td>Chaiyaphum</td><td>NE</td><td>12778.287</td><td>ชัยภูมิ</td></tr>",
                            "<tr><td>นม</td><td>นครราชสีมา</td><td>Nakhon Ratchasima</td><td>NE</td><td>20493.964</td><td>นครราชสีมา</td></tr>",
                            "<tr><td>บร</td><td>บุรีรัมย์</td><td>Buriram</td><td>NE</td><td>10322.885</td><td>บุรีรัมย์</td></tr>",
                            "<tr><td>รอ</td><td>ร้อยเอ็ด</td><td>Roi Et</td><td>NE</td><td>8299.449</td><td>ร้อยเอ็ด</td></tr>",
                            "<tr><td>ลย</td><td>เลย</td><td>Loei</td><td>NE</td><td>11424.612</td><td>เลย</td></tr>",
                            "<tr><td>ศก</td><td>ศรีสะเกษ</td><td>Sisaket</td><td>NE</td><td>8839.976</td><td>ศรีสะเกษ</td></tr>",
                            "<tr><td>สน</td><td>สกลนคร</td><td>Sakon Nakhon</td><td>NE</td><td>9605.764000000001</td><td>สกลนคร</td></tr>",
                            "<tr><td>สร</td><td>สุรินทร์</td><td>Surin</td><td>NE</td><td>8124.056</td><td>สุรินทร์</td></tr>",
                            "<tr><td>อด</td><td>อุดรธานี</td><td>Udon Thani</td><td>NE</td><td>11730.302</td><td>อุดรธานี</td></tr>",
                            "<tr><td>อบ</td><td>อุบลราชธานี</td><td>Ubon Ratchathani</td><td>NE</td><td>16112.65</td><td>อุบลราชธานี</td></tr>",
                            "<tr><td>นศ</td><td>นครศรีธรรมราช</td><td>Nakhon Si Thammarat</td><td>S</td><td>9942.502</td><td>นครศรีธรรมราช</td></tr>",
                            "<tr><td>สข</td><td>สงขลา</td><td>Songkhla</td><td>S</td><td>7393.889</td><td>สงขลา</td></tr>",
                            "<tr><td>สฎ</td><td>สุราษฎร์ธานี</td><td>Surat Thani</td><td>S</td><td>12891.469</td><td>สุราษฎร์ธานี</td></tr>",
                            "</table>"
                        ]
                    }
                }
            ],
            "execution_count": 8
        },
        {
            "cell_type": "code",
            "source": [
                "select name, area_km2, (select avg(area_km2) from province) as \"avg_area\" \r\n",
                "    from province \r\n",
                "    where area_km2 > (select avg(area_km2) from province) ;"
            ],
            "metadata": {
                "azdata_cell_guid": "714b5423-9c43-425d-8486-a63e440d93f8"
            },
            "outputs": [
                {
                    "output_type": "display_data",
                    "data": {
                        "text/html": "(29 row(s) affected)"
                    },
                    "metadata": {}
                },
                {
                    "output_type": "display_data",
                    "data": {
                        "text/html": "Total execution time: 00:00:00.008"
                    },
                    "metadata": {}
                },
                {
                    "output_type": "execute_result",
                    "metadata": {},
                    "execution_count": 10,
                    "data": {
                        "application/vnd.dataresource+json": {
                            "schema": {
                                "fields": [
                                    {
                                        "name": "name"
                                    },
                                    {
                                        "name": "area_km2"
                                    },
                                    {
                                        "name": "avg_area"
                                    }
                                ]
                            },
                            "data": [
                                {
                                    "0": "กาญจนบุรี",
                                    "1": "19483.148",
                                    "2": "6671.926025974027"
                                },
                                {
                                    "0": "สระแก้ว",
                                    "1": "7195.436",
                                    "2": "6671.926025974027"
                                },
                                {
                                    "0": "ตาก",
                                    "1": "16406.65",
                                    "2": "6671.926025974027"
                                },
                                {
                                    "0": "กำแพงเพชร",
                                    "1": "8607.49",
                                    "2": "6671.926025974027"
                                },
                                {
                                    "0": "เชียงใหม่",
                                    "1": "20107.057",
                                    "2": "6671.926025974027"
                                },
                                {
                                    "0": "เชียงราย",
                                    "1": "11678.368999999999",
                                    "2": "6671.926025974027"
                                },
                                {
                                    "0": "น่าน",
                                    "1": "11472.072",
                                    "2": "6671.926025974027"
                                },
                                {
                                    "0": "นครสวรรค์",
                                    "1": "9597.677",
                                    "2": "6671.926025974027"
                                },
                                {
                                    "0": "เพชรบูรณ์",
                                    "1": "12668.416000000001",
                                    "2": "6671.926025974027"
                                },
                                {
                                    "0": "พิษณุโลก",
                                    "1": "10815.854",
                                    "2": "6671.926025974027"
                                },
                                {
                                    "0": "แม่ฮ่องสอน",
                                    "1": "12681.258999999998",
                                    "2": "6671.926025974027"
                                },
                                {
                                    "0": "ลำปาง",
                                    "1": "12533.961000000001",
                                    "2": "6671.926025974027"
                                },
                                {
                                    "0": "อุตรดิตถ์",
                                    "1": "7838.592",
                                    "2": "6671.926025974027"
                                },
                                {
                                    "0": "อุทัยธานี",
                                    "1": "6730.246",
                                    "2": "6671.926025974027"
                                },
                                {
                                    "0": "กาฬสินธุ์",
                                    "1": "6946.746",
                                    "2": "6671.926025974027"
                                },
                                {
                                    "0": "ขอนแก่น",
                                    "1": "10885.991000000002",
                                    "2": "6671.926025974027"
                                },
                                {
                                    "0": "ชัยภูมิ",
                                    "1": "12778.287",
                                    "2": "6671.926025974027"
                                },
                                {
                                    "0": "นครราชสีมา",
                                    "1": "20493.964",
                                    "2": "6671.926025974027"
                                },
                                {
                                    "0": "บุรีรัมย์",
                                    "1": "10322.885",
                                    "2": "6671.926025974027"
                                },
                                {
                                    "0": "ร้อยเอ็ด",
                                    "1": "8299.449",
                                    "2": "6671.926025974027"
                                },
                                {
                                    "0": "เลย",
                                    "1": "11424.612",
                                    "2": "6671.926025974027"
                                },
                                {
                                    "0": "ศรีสะเกษ",
                                    "1": "8839.976",
                                    "2": "6671.926025974027"
                                },
                                {
                                    "0": "สกลนคร",
                                    "1": "9605.764000000001",
                                    "2": "6671.926025974027"
                                },
                                {
                                    "0": "สุรินทร์",
                                    "1": "8124.056",
                                    "2": "6671.926025974027"
                                },
                                {
                                    "0": "อุดรธานี",
                                    "1": "11730.302",
                                    "2": "6671.926025974027"
                                },
                                {
                                    "0": "อุบลราชธานี",
                                    "1": "16112.65",
                                    "2": "6671.926025974027"
                                },
                                {
                                    "0": "นครศรีธรรมราช",
                                    "1": "9942.502",
                                    "2": "6671.926025974027"
                                },
                                {
                                    "0": "สงขลา",
                                    "1": "7393.889",
                                    "2": "6671.926025974027"
                                },
                                {
                                    "0": "สุราษฎร์ธานี",
                                    "1": "12891.469",
                                    "2": "6671.926025974027"
                                }
                            ]
                        },
                        "text/html": [
                            "<table>",
                            "<tr><th>name</th><th>area_km2</th><th>avg_area</th></tr>",
                            "<tr><td>กาญจนบุรี</td><td>19483.148</td><td>6671.926025974027</td></tr>",
                            "<tr><td>สระแก้ว</td><td>7195.436</td><td>6671.926025974027</td></tr>",
                            "<tr><td>ตาก</td><td>16406.65</td><td>6671.926025974027</td></tr>",
                            "<tr><td>กำแพงเพชร</td><td>8607.49</td><td>6671.926025974027</td></tr>",
                            "<tr><td>เชียงใหม่</td><td>20107.057</td><td>6671.926025974027</td></tr>",
                            "<tr><td>เชียงราย</td><td>11678.368999999999</td><td>6671.926025974027</td></tr>",
                            "<tr><td>น่าน</td><td>11472.072</td><td>6671.926025974027</td></tr>",
                            "<tr><td>นครสวรรค์</td><td>9597.677</td><td>6671.926025974027</td></tr>",
                            "<tr><td>เพชรบูรณ์</td><td>12668.416000000001</td><td>6671.926025974027</td></tr>",
                            "<tr><td>พิษณุโลก</td><td>10815.854</td><td>6671.926025974027</td></tr>",
                            "<tr><td>แม่ฮ่องสอน</td><td>12681.258999999998</td><td>6671.926025974027</td></tr>",
                            "<tr><td>ลำปาง</td><td>12533.961000000001</td><td>6671.926025974027</td></tr>",
                            "<tr><td>อุตรดิตถ์</td><td>7838.592</td><td>6671.926025974027</td></tr>",
                            "<tr><td>อุทัยธานี</td><td>6730.246</td><td>6671.926025974027</td></tr>",
                            "<tr><td>กาฬสินธุ์</td><td>6946.746</td><td>6671.926025974027</td></tr>",
                            "<tr><td>ขอนแก่น</td><td>10885.991000000002</td><td>6671.926025974027</td></tr>",
                            "<tr><td>ชัยภูมิ</td><td>12778.287</td><td>6671.926025974027</td></tr>",
                            "<tr><td>นครราชสีมา</td><td>20493.964</td><td>6671.926025974027</td></tr>",
                            "<tr><td>บุรีรัมย์</td><td>10322.885</td><td>6671.926025974027</td></tr>",
                            "<tr><td>ร้อยเอ็ด</td><td>8299.449</td><td>6671.926025974027</td></tr>",
                            "<tr><td>เลย</td><td>11424.612</td><td>6671.926025974027</td></tr>",
                            "<tr><td>ศรีสะเกษ</td><td>8839.976</td><td>6671.926025974027</td></tr>",
                            "<tr><td>สกลนคร</td><td>9605.764000000001</td><td>6671.926025974027</td></tr>",
                            "<tr><td>สุรินทร์</td><td>8124.056</td><td>6671.926025974027</td></tr>",
                            "<tr><td>อุดรธานี</td><td>11730.302</td><td>6671.926025974027</td></tr>",
                            "<tr><td>อุบลราชธานี</td><td>16112.65</td><td>6671.926025974027</td></tr>",
                            "<tr><td>นครศรีธรรมราช</td><td>9942.502</td><td>6671.926025974027</td></tr>",
                            "<tr><td>สงขลา</td><td>7393.889</td><td>6671.926025974027</td></tr>",
                            "<tr><td>สุราษฎร์ธานี</td><td>12891.469</td><td>6671.926025974027</td></tr>",
                            "</table>"
                        ]
                    }
                }
            ],
            "execution_count": 10
        },
        {
            "cell_type": "code",
            "source": [
                "select name, area_km2, area_km2 - (select avg(area_km2) from province) as \"above_area\" \r\n",
                "    from province \r\n",
                "    where area_km2 > (select avg(area_km2) from province) ;"
            ],
            "metadata": {
                "azdata_cell_guid": "0a235afe-9af4-49d4-b649-c7d4bb9837bb"
            },
            "outputs": [
                {
                    "output_type": "display_data",
                    "data": {
                        "text/html": "(29 row(s) affected)"
                    },
                    "metadata": {}
                },
                {
                    "output_type": "display_data",
                    "data": {
                        "text/html": "Total execution time: 00:00:00.002"
                    },
                    "metadata": {}
                },
                {
                    "output_type": "execute_result",
                    "metadata": {},
                    "execution_count": 12,
                    "data": {
                        "application/vnd.dataresource+json": {
                            "schema": {
                                "fields": [
                                    {
                                        "name": "name"
                                    },
                                    {
                                        "name": "area_km2"
                                    },
                                    {
                                        "name": "above_area"
                                    }
                                ]
                            },
                            "data": [
                                {
                                    "0": "กาญจนบุรี",
                                    "1": "19483.148",
                                    "2": "12811.221974025975"
                                },
                                {
                                    "0": "สระแก้ว",
                                    "1": "7195.436",
                                    "2": "523.509974025973"
                                },
                                {
                                    "0": "ตาก",
                                    "1": "16406.65",
                                    "2": "9734.723974025976"
                                },
                                {
                                    "0": "กำแพงเพชร",
                                    "1": "8607.49",
                                    "2": "1935.563974025973"
                                },
                                {
                                    "0": "เชียงใหม่",
                                    "1": "20107.057",
                                    "2": "13435.130974025975"
                                },
                                {
                                    "0": "เชียงราย",
                                    "1": "11678.368999999999",
                                    "2": "5006.442974025972"
                                },
                                {
                                    "0": "น่าน",
                                    "1": "11472.072",
                                    "2": "4800.145974025973"
                                },
                                {
                                    "0": "นครสวรรค์",
                                    "1": "9597.677",
                                    "2": "2925.750974025973"
                                },
                                {
                                    "0": "เพชรบูรณ์",
                                    "1": "12668.416000000001",
                                    "2": "5996.489974025974"
                                },
                                {
                                    "0": "พิษณุโลก",
                                    "1": "10815.854",
                                    "2": "4143.927974025973"
                                },
                                {
                                    "0": "แม่ฮ่องสอน",
                                    "1": "12681.258999999998",
                                    "2": "6009.332974025971"
                                },
                                {
                                    "0": "ลำปาง",
                                    "1": "12533.961000000001",
                                    "2": "5862.034974025974"
                                },
                                {
                                    "0": "อุตรดิตถ์",
                                    "1": "7838.592",
                                    "2": "1166.665974025973"
                                },
                                {
                                    "0": "อุทัยธานี",
                                    "1": "6730.246",
                                    "2": "58.31997402597335"
                                },
                                {
                                    "0": "กาฬสินธุ์",
                                    "1": "6946.746",
                                    "2": "274.81997402597335"
                                },
                                {
                                    "0": "ขอนแก่น",
                                    "1": "10885.991000000002",
                                    "2": "4214.064974025975"
                                },
                                {
                                    "0": "ชัยภูมิ",
                                    "1": "12778.287",
                                    "2": "6106.3609740259735"
                                },
                                {
                                    "0": "นครราชสีมา",
                                    "1": "20493.964",
                                    "2": "13822.037974025974"
                                },
                                {
                                    "0": "บุรีรัมย์",
                                    "1": "10322.885",
                                    "2": "3650.9589740259735"
                                },
                                {
                                    "0": "ร้อยเอ็ด",
                                    "1": "8299.449",
                                    "2": "1627.5229740259738"
                                },
                                {
                                    "0": "เลย",
                                    "1": "11424.612",
                                    "2": "4752.685974025972"
                                },
                                {
                                    "0": "ศรีสะเกษ",
                                    "1": "8839.976",
                                    "2": "2168.049974025974"
                                },
                                {
                                    "0": "สกลนคร",
                                    "1": "9605.764000000001",
                                    "2": "2933.8379740259743"
                                },
                                {
                                    "0": "สุรินทร์",
                                    "1": "8124.056",
                                    "2": "1452.1299740259728"
                                },
                                {
                                    "0": "อุดรธานี",
                                    "1": "11730.302",
                                    "2": "5058.375974025973"
                                },
                                {
                                    "0": "อุบลราชธานี",
                                    "1": "16112.65",
                                    "2": "9440.723974025972"
                                },
                                {
                                    "0": "นครศรีธรรมราช",
                                    "1": "9942.502",
                                    "2": "3270.5759740259737"
                                },
                                {
                                    "0": "สงขลา",
                                    "1": "7393.889",
                                    "2": "721.9629740259734"
                                },
                                {
                                    "0": "สุราษฎร์ธานี",
                                    "1": "12891.469",
                                    "2": "6219.542974025972"
                                }
                            ]
                        },
                        "text/html": [
                            "<table>",
                            "<tr><th>name</th><th>area_km2</th><th>above_area</th></tr>",
                            "<tr><td>กาญจนบุรี</td><td>19483.148</td><td>12811.221974025975</td></tr>",
                            "<tr><td>สระแก้ว</td><td>7195.436</td><td>523.509974025973</td></tr>",
                            "<tr><td>ตาก</td><td>16406.65</td><td>9734.723974025976</td></tr>",
                            "<tr><td>กำแพงเพชร</td><td>8607.49</td><td>1935.563974025973</td></tr>",
                            "<tr><td>เชียงใหม่</td><td>20107.057</td><td>13435.130974025975</td></tr>",
                            "<tr><td>เชียงราย</td><td>11678.368999999999</td><td>5006.442974025972</td></tr>",
                            "<tr><td>น่าน</td><td>11472.072</td><td>4800.145974025973</td></tr>",
                            "<tr><td>นครสวรรค์</td><td>9597.677</td><td>2925.750974025973</td></tr>",
                            "<tr><td>เพชรบูรณ์</td><td>12668.416000000001</td><td>5996.489974025974</td></tr>",
                            "<tr><td>พิษณุโลก</td><td>10815.854</td><td>4143.927974025973</td></tr>",
                            "<tr><td>แม่ฮ่องสอน</td><td>12681.258999999998</td><td>6009.332974025971</td></tr>",
                            "<tr><td>ลำปาง</td><td>12533.961000000001</td><td>5862.034974025974</td></tr>",
                            "<tr><td>อุตรดิตถ์</td><td>7838.592</td><td>1166.665974025973</td></tr>",
                            "<tr><td>อุทัยธานี</td><td>6730.246</td><td>58.31997402597335</td></tr>",
                            "<tr><td>กาฬสินธุ์</td><td>6946.746</td><td>274.81997402597335</td></tr>",
                            "<tr><td>ขอนแก่น</td><td>10885.991000000002</td><td>4214.064974025975</td></tr>",
                            "<tr><td>ชัยภูมิ</td><td>12778.287</td><td>6106.3609740259735</td></tr>",
                            "<tr><td>นครราชสีมา</td><td>20493.964</td><td>13822.037974025974</td></tr>",
                            "<tr><td>บุรีรัมย์</td><td>10322.885</td><td>3650.9589740259735</td></tr>",
                            "<tr><td>ร้อยเอ็ด</td><td>8299.449</td><td>1627.5229740259738</td></tr>",
                            "<tr><td>เลย</td><td>11424.612</td><td>4752.685974025972</td></tr>",
                            "<tr><td>ศรีสะเกษ</td><td>8839.976</td><td>2168.049974025974</td></tr>",
                            "<tr><td>สกลนคร</td><td>9605.764000000001</td><td>2933.8379740259743</td></tr>",
                            "<tr><td>สุรินทร์</td><td>8124.056</td><td>1452.1299740259728</td></tr>",
                            "<tr><td>อุดรธานี</td><td>11730.302</td><td>5058.375974025973</td></tr>",
                            "<tr><td>อุบลราชธานี</td><td>16112.65</td><td>9440.723974025972</td></tr>",
                            "<tr><td>นครศรีธรรมราช</td><td>9942.502</td><td>3270.5759740259737</td></tr>",
                            "<tr><td>สงขลา</td><td>7393.889</td><td>721.9629740259734</td></tr>",
                            "<tr><td>สุราษฎร์ธานี</td><td>12891.469</td><td>6219.542974025972</td></tr>",
                            "</table>"
                        ]
                    }
                }
            ],
            "execution_count": 12
        },
        {
            "cell_type": "code",
            "source": [
                "select sum(area_km2) from province;"
            ],
            "metadata": {
                "azdata_cell_guid": "81d8aa55-b46c-4bb1-8eb1-8fa31da251a7"
            },
            "outputs": [
                {
                    "output_type": "display_data",
                    "data": {
                        "text/html": "(1 row(s) affected)"
                    },
                    "metadata": {}
                },
                {
                    "output_type": "display_data",
                    "data": {
                        "text/html": "Total execution time: 00:00:00.018"
                    },
                    "metadata": {}
                },
                {
                    "output_type": "execute_result",
                    "metadata": {},
                    "execution_count": 13,
                    "data": {
                        "application/vnd.dataresource+json": {
                            "schema": {
                                "fields": [
                                    {
                                        "name": "sum"
                                    }
                                ]
                            },
                            "data": [
                                {
                                    "0": "513738.30400000006"
                                }
                            ]
                        },
                        "text/html": [
                            "<table>",
                            "<tr><th>sum</th></tr>",
                            "<tr><td>513738.30400000006</td></tr>",
                            "</table>"
                        ]
                    }
                }
            ],
            "execution_count": 13
        },
        {
            "cell_type": "code",
            "source": [
                "select name, 100 * area_km2 / (select sum(area_km2) from province)\r\n",
                "    from province"
            ],
            "metadata": {
                "azdata_cell_guid": "421d54ae-55df-4bc9-8357-6abc97a5f1d6"
            },
            "outputs": [
                {
                    "output_type": "display_data",
                    "data": {
                        "text/html": "(77 row(s) affected)"
                    },
                    "metadata": {}
                },
                {
                    "output_type": "display_data",
                    "data": {
                        "text/html": "Total execution time: 00:00:00.046"
                    },
                    "metadata": {}
                },
                {
                    "output_type": "execute_result",
                    "metadata": {},
                    "execution_count": 15,
                    "data": {
                        "application/vnd.dataresource+json": {
                            "schema": {
                                "fields": [
                                    {
                                        "name": "name"
                                    },
                                    {
                                        "name": "Column2"
                                    }
                                ]
                            },
                            "data": [
                                {
                                    "0": "กาญจนบุรี",
                                    "1": "3.7924265814526454"
                                },
                                {
                                    "0": "กรุงเทพมหานคร",
                                    "1": "0.3053572193830421"
                                },
                                {
                                    "0": "จันทบุรี",
                                    "1": "1.2337020523196183"
                                },
                                {
                                    "0": "ฉะเชิงเทรา",
                                    "1": "1.0415808901802268"
                                },
                                {
                                    "0": "ชัยนาท",
                                    "1": "0.480740092917035"
                                },
                                {
                                    "0": "ชลบุรี",
                                    "1": "0.897700047688093"
                                },
                                {
                                    "0": "ตราด",
                                    "1": "0.5487229544791739"
                                },
                                {
                                    "0": "นครปฐม",
                                    "1": "0.4220683922373053"
                                },
                                {
                                    "0": "นนทบุรี",
                                    "1": "0.12113229540306965"
                                },
                                {
                                    "0": "นครนายก",
                                    "1": "0.413050766018023"
                                },
                                {
                                    "0": "ประจวบคีรีขันธ์",
                                    "1": "1.2394676337001336"
                                },
                                {
                                    "0": "ปราจีนบุรี",
                                    "1": "0.9270015420146673"
                                },
                                {
                                    "0": "ปทุมธานี",
                                    "1": "0.2970103626923641"
                                },
                                {
                                    "0": "เพชรบุรี",
                                    "1": "1.2117332796738474"
                                },
                                {
                                    "0": "ราชบุรี",
                                    "1": "1.0114998160619926"
                                },
                                {
                                    "0": "ระยอง",
                                    "1": "0.6914026017417614"
                                },
                                {
                                    "0": "ลพบุรี",
                                    "1": "1.2067920479606675"
                                },
                                {
                                    "0": "สระแก้ว",
                                    "1": "1.4006033702326386"
                                },
                                {
                                    "0": "สมุทรสาคร",
                                    "1": "0.16980376841824896"
                                },
                                {
                                    "0": "สระบุรี",
                                    "1": "0.6961688416365386"
                                },
                                {
                                    "0": "สมุทรปราการ",
                                    "1": "0.19544814785700695"
                                },
                                {
                                    "0": "สุพรรณบุรี",
                                    "1": "1.0429450088269065"
                                },
                                {
                                    "0": "สมุทรสงคราม",
                                    "1": "0.08111269818806423"
                                },
                                {
                                    "0": "สิงห์บุรี",
                                    "1": "0.16009668611355868"
                                },
                                {
                                    "0": "อ่างทอง",
                                    "1": "0.1884951915129147"
                                },
                                {
                                    "0": "พระนครศรีอยุธยา",
                                    "1": "0.4976541519473696"
                                },
                                {
                                    "0": "ตาก",
                                    "1": "3.193581220683128"
                                },
                                {
                                    "0": "กำแพงเพชร",
                                    "1": "1.675461987743861"
                                },
                                {
                                    "0": "เชียงใหม่",
                                    "1": "3.9138714873789127"
                                },
                                {
                                    "0": "เชียงราย",
                                    "1": "2.273213600985454"
                                },
                                {
                                    "0": "น่าน",
                                    "1": "2.233057552975454"
                                },
                                {
                                    "0": "นครสวรรค์",
                                    "1": "1.8682035046388128"
                                },
                                {
                                    "0": "พิจิตร",
                                    "1": "0.8819690812854007"
                                },
                                {
                                    "0": "เพชรบูรณ์",
                                    "1": "2.465927866651734"
                                },
                                {
                                    "0": "พะเยา",
                                    "1": "1.2331297765175009"
                                },
                                {
                                    "0": "แพร่",
                                    "1": "1.2727487806710243"
                                },
                                {
                                    "0": "พิษณุโลก",
                                    "1": "2.1053236474265304"
                                },
                                {
                                    "0": "แม่ฮ่องสอน",
                                    "1": "2.468427777579146"
                                },
                                {
                                    "0": "ลำปาง",
                                    "1": "2.4397559812865346"
                                },
                                {
                                    "0": "ลำพูน",
                                    "1": "0.877077291087098"
                                },
                                {
                                    "0": "สุโขทัย",
                                    "1": "1.2839400816801854"
                                },
                                {
                                    "0": "อุตรดิตถ์",
                                    "1": "1.5257947361464406"
                                },
                                {
                                    "0": "อุทัยธานี",
                                    "1": "1.3100533769037395"
                                },
                                {
                                    "0": "กาฬสินธุ์",
                                    "1": "1.3521954555290467"
                                },
                                {
                                    "0": "ขอนแก่น",
                                    "1": "2.1189759290364303"
                                },
                                {
                                    "0": "ชัยภูมิ",
                                    "1": "2.487314436262085"
                                },
                                {
                                    "0": "หนองคาย",
                                    "1": "0.589264996678153"
                                },
                                {
                                    "0": "นครพนม",
                                    "1": "1.0730498304444123"
                                },
                                {
                                    "0": "หนองบัวลำภู",
                                    "1": "0.7511773932278173"
                                },
                                {
                                    "0": "นครราชสีมา",
                                    "1": "3.9891835668924536"
                                },
                                {
                                    "0": "บึงกาฬ",
                                    "1": "0.8379752816718139"
                                },
                                {
                                    "0": "บุรีรัมย์",
                                    "1": "2.0093664263741564"
                                },
                                {
                                    "0": "มหาสารคาม",
                                    "1": "1.0300347392434261"
                                },
                                {
                                    "0": "มุกดาหาร",
                                    "1": "0.844754998062204"
                                },
                                {
                                    "0": "ยโสธร",
                                    "1": "0.8100746951506268"
                                },
                                {
                                    "0": "ร้อยเอ็ด",
                                    "1": "1.6155013039479336"
                                },
                                {
                                    "0": "เลย",
                                    "1": "2.2238193864555598"
                                },
                                {
                                    "0": "ศรีสะเกษ",
                                    "1": "1.720715767380273"
                                },
                                {
                                    "0": "สกลนคร",
                                    "1": "1.8697776523979026"
                                },
                                {
                                    "0": "สุรินทร์",
                                    "1": "1.5813607700157002"
                                },
                                {
                                    "0": "อำนาจเจริญ",
                                    "1": "0.6153420866978997"
                                },
                                {
                                    "0": "อุดรธานี",
                                    "1": "2.2833224442614264"
                                },
                                {
                                    "0": "อุบลราชธานี",
                                    "1": "3.1363536404713943"
                                },
                                {
                                    "0": "กระบี่",
                                    "1": "0.9165195515575181"
                                },
                                {
                                    "0": "ชุมพร",
                                    "1": "1.1700215758099282"
                                },
                                {
                                    "0": "ตรัง",
                                    "1": "0.9572031054939597"
                                },
                                {
                                    "0": "นราธิวาส",
                                    "1": "0.8711497595476158"
                                },
                                {
                                    "0": "นครศรีธรรมราช",
                                    "1": "1.9353242541167417"
                                },
                                {
                                    "0": "ปัตตานี",
                                    "1": "0.3776934647255736"
                                },
                                {
                                    "0": "พังงา",
                                    "1": "0.8118715243782951"
                                },
                                {
                                    "0": "พัทลุง",
                                    "1": "0.6665792628925717"
                                },
                                {
                                    "0": "ภูเก็ต",
                                    "1": "0.10570245507720599"
                                },
                                {
                                    "0": "ยะลา",
                                    "1": "0.8800352173078375"
                                },
                                {
                                    "0": "ระนอง",
                                    "1": "0.6419698461884593"
                                },
                                {
                                    "0": "สงขลา",
                                    "1": "1.4392325708304592"
                                },
                                {
                                    "0": "สุราษฎร์ธานี",
                                    "1": "2.5093454974305356"
                                },
                                {
                                    "0": "สตูล",
                                    "1": "0.4825369221447035"
                                }
                            ]
                        },
                        "text/html": [
                            "<table>",
                            "<tr><th>name</th><th>Column2</th></tr>",
                            "<tr><td>กาญจนบุรี</td><td>3.7924265814526454</td></tr>",
                            "<tr><td>กรุงเทพมหานคร</td><td>0.3053572193830421</td></tr>",
                            "<tr><td>จันทบุรี</td><td>1.2337020523196183</td></tr>",
                            "<tr><td>ฉะเชิงเทรา</td><td>1.0415808901802268</td></tr>",
                            "<tr><td>ชัยนาท</td><td>0.480740092917035</td></tr>",
                            "<tr><td>ชลบุรี</td><td>0.897700047688093</td></tr>",
                            "<tr><td>ตราด</td><td>0.5487229544791739</td></tr>",
                            "<tr><td>นครปฐม</td><td>0.4220683922373053</td></tr>",
                            "<tr><td>นนทบุรี</td><td>0.12113229540306965</td></tr>",
                            "<tr><td>นครนายก</td><td>0.413050766018023</td></tr>",
                            "<tr><td>ประจวบคีรีขันธ์</td><td>1.2394676337001336</td></tr>",
                            "<tr><td>ปราจีนบุรี</td><td>0.9270015420146673</td></tr>",
                            "<tr><td>ปทุมธานี</td><td>0.2970103626923641</td></tr>",
                            "<tr><td>เพชรบุรี</td><td>1.2117332796738474</td></tr>",
                            "<tr><td>ราชบุรี</td><td>1.0114998160619926</td></tr>",
                            "<tr><td>ระยอง</td><td>0.6914026017417614</td></tr>",
                            "<tr><td>ลพบุรี</td><td>1.2067920479606675</td></tr>",
                            "<tr><td>สระแก้ว</td><td>1.4006033702326386</td></tr>",
                            "<tr><td>สมุทรสาคร</td><td>0.16980376841824896</td></tr>",
                            "<tr><td>สระบุรี</td><td>0.6961688416365386</td></tr>",
                            "<tr><td>สมุทรปราการ</td><td>0.19544814785700695</td></tr>",
                            "<tr><td>สุพรรณบุรี</td><td>1.0429450088269065</td></tr>",
                            "<tr><td>สมุทรสงคราม</td><td>0.08111269818806423</td></tr>",
                            "<tr><td>สิงห์บุรี</td><td>0.16009668611355868</td></tr>",
                            "<tr><td>อ่างทอง</td><td>0.1884951915129147</td></tr>",
                            "<tr><td>พระนครศรีอยุธยา</td><td>0.4976541519473696</td></tr>",
                            "<tr><td>ตาก</td><td>3.193581220683128</td></tr>",
                            "<tr><td>กำแพงเพชร</td><td>1.675461987743861</td></tr>",
                            "<tr><td>เชียงใหม่</td><td>3.9138714873789127</td></tr>",
                            "<tr><td>เชียงราย</td><td>2.273213600985454</td></tr>",
                            "<tr><td>น่าน</td><td>2.233057552975454</td></tr>",
                            "<tr><td>นครสวรรค์</td><td>1.8682035046388128</td></tr>",
                            "<tr><td>พิจิตร</td><td>0.8819690812854007</td></tr>",
                            "<tr><td>เพชรบูรณ์</td><td>2.465927866651734</td></tr>",
                            "<tr><td>พะเยา</td><td>1.2331297765175009</td></tr>",
                            "<tr><td>แพร่</td><td>1.2727487806710243</td></tr>",
                            "<tr><td>พิษณุโลก</td><td>2.1053236474265304</td></tr>",
                            "<tr><td>แม่ฮ่องสอน</td><td>2.468427777579146</td></tr>",
                            "<tr><td>ลำปาง</td><td>2.4397559812865346</td></tr>",
                            "<tr><td>ลำพูน</td><td>0.877077291087098</td></tr>",
                            "<tr><td>สุโขทัย</td><td>1.2839400816801854</td></tr>",
                            "<tr><td>อุตรดิตถ์</td><td>1.5257947361464406</td></tr>",
                            "<tr><td>อุทัยธานี</td><td>1.3100533769037395</td></tr>",
                            "<tr><td>กาฬสินธุ์</td><td>1.3521954555290467</td></tr>",
                            "<tr><td>ขอนแก่น</td><td>2.1189759290364303</td></tr>",
                            "<tr><td>ชัยภูมิ</td><td>2.487314436262085</td></tr>",
                            "<tr><td>หนองคาย</td><td>0.589264996678153</td></tr>",
                            "<tr><td>นครพนม</td><td>1.0730498304444123</td></tr>",
                            "<tr><td>หนองบัวลำภู</td><td>0.7511773932278173</td></tr>",
                            "<tr><td>นครราชสีมา</td><td>3.9891835668924536</td></tr>",
                            "<tr><td>บึงกาฬ</td><td>0.8379752816718139</td></tr>",
                            "<tr><td>บุรีรัมย์</td><td>2.0093664263741564</td></tr>",
                            "<tr><td>มหาสารคาม</td><td>1.0300347392434261</td></tr>",
                            "<tr><td>มุกดาหาร</td><td>0.844754998062204</td></tr>",
                            "<tr><td>ยโสธร</td><td>0.8100746951506268</td></tr>",
                            "<tr><td>ร้อยเอ็ด</td><td>1.6155013039479336</td></tr>",
                            "<tr><td>เลย</td><td>2.2238193864555598</td></tr>",
                            "<tr><td>ศรีสะเกษ</td><td>1.720715767380273</td></tr>",
                            "<tr><td>สกลนคร</td><td>1.8697776523979026</td></tr>",
                            "<tr><td>สุรินทร์</td><td>1.5813607700157002</td></tr>",
                            "<tr><td>อำนาจเจริญ</td><td>0.6153420866978997</td></tr>",
                            "<tr><td>อุดรธานี</td><td>2.2833224442614264</td></tr>",
                            "<tr><td>อุบลราชธานี</td><td>3.1363536404713943</td></tr>",
                            "<tr><td>กระบี่</td><td>0.9165195515575181</td></tr>",
                            "<tr><td>ชุมพร</td><td>1.1700215758099282</td></tr>",
                            "<tr><td>ตรัง</td><td>0.9572031054939597</td></tr>",
                            "<tr><td>นราธิวาส</td><td>0.8711497595476158</td></tr>",
                            "<tr><td>นครศรีธรรมราช</td><td>1.9353242541167417</td></tr>",
                            "<tr><td>ปัตตานี</td><td>0.3776934647255736</td></tr>",
                            "<tr><td>พังงา</td><td>0.8118715243782951</td></tr>",
                            "<tr><td>พัทลุง</td><td>0.6665792628925717</td></tr>",
                            "<tr><td>ภูเก็ต</td><td>0.10570245507720599</td></tr>",
                            "<tr><td>ยะลา</td><td>0.8800352173078375</td></tr>",
                            "<tr><td>ระนอง</td><td>0.6419698461884593</td></tr>",
                            "<tr><td>สงขลา</td><td>1.4392325708304592</td></tr>",
                            "<tr><td>สุราษฎร์ธานี</td><td>2.5093454974305356</td></tr>",
                            "<tr><td>สตูล</td><td>0.4825369221447035</td></tr>",
                            "</table>"
                        ]
                    }
                }
            ],
            "execution_count": 15
        },
        {
            "cell_type": "code",
            "source": [
                "select name, (100 * area_km2 / (select sum(area_km2) from province))::numeric(5,2)\r\n",
                "    from province order by area_km2 desc;"
            ],
            "metadata": {
                "azdata_cell_guid": "a2cd1532-81c2-4f4f-9955-6032033c8e5f"
            },
            "outputs": [
                {
                    "output_type": "display_data",
                    "data": {
                        "text/html": "(77 row(s) affected)"
                    },
                    "metadata": {}
                },
                {
                    "output_type": "display_data",
                    "data": {
                        "text/html": "Total execution time: 00:00:00.009"
                    },
                    "metadata": {}
                },
                {
                    "output_type": "execute_result",
                    "metadata": {},
                    "execution_count": 21,
                    "data": {
                        "application/vnd.dataresource+json": {
                            "schema": {
                                "fields": [
                                    {
                                        "name": "name"
                                    },
                                    {
                                        "name": "numeric"
                                    }
                                ]
                            },
                            "data": [
                                {
                                    "0": "นครราชสีมา",
                                    "1": "3.99"
                                },
                                {
                                    "0": "เชียงใหม่",
                                    "1": "3.91"
                                },
                                {
                                    "0": "กาญจนบุรี",
                                    "1": "3.79"
                                },
                                {
                                    "0": "ตาก",
                                    "1": "3.19"
                                },
                                {
                                    "0": "อุบลราชธานี",
                                    "1": "3.14"
                                },
                                {
                                    "0": "สุราษฎร์ธานี",
                                    "1": "2.51"
                                },
                                {
                                    "0": "ชัยภูมิ",
                                    "1": "2.49"
                                },
                                {
                                    "0": "แม่ฮ่องสอน",
                                    "1": "2.47"
                                },
                                {
                                    "0": "เพชรบูรณ์",
                                    "1": "2.47"
                                },
                                {
                                    "0": "ลำปาง",
                                    "1": "2.44"
                                },
                                {
                                    "0": "อุดรธานี",
                                    "1": "2.28"
                                },
                                {
                                    "0": "เชียงราย",
                                    "1": "2.27"
                                },
                                {
                                    "0": "น่าน",
                                    "1": "2.23"
                                },
                                {
                                    "0": "เลย",
                                    "1": "2.22"
                                },
                                {
                                    "0": "ขอนแก่น",
                                    "1": "2.12"
                                },
                                {
                                    "0": "พิษณุโลก",
                                    "1": "2.11"
                                },
                                {
                                    "0": "บุรีรัมย์",
                                    "1": "2.01"
                                },
                                {
                                    "0": "นครศรีธรรมราช",
                                    "1": "1.94"
                                },
                                {
                                    "0": "สกลนคร",
                                    "1": "1.87"
                                },
                                {
                                    "0": "นครสวรรค์",
                                    "1": "1.87"
                                },
                                {
                                    "0": "ศรีสะเกษ",
                                    "1": "1.72"
                                },
                                {
                                    "0": "กำแพงเพชร",
                                    "1": "1.68"
                                },
                                {
                                    "0": "ร้อยเอ็ด",
                                    "1": "1.62"
                                },
                                {
                                    "0": "สุรินทร์",
                                    "1": "1.58"
                                },
                                {
                                    "0": "อุตรดิตถ์",
                                    "1": "1.53"
                                },
                                {
                                    "0": "สงขลา",
                                    "1": "1.44"
                                },
                                {
                                    "0": "สระแก้ว",
                                    "1": "1.40"
                                },
                                {
                                    "0": "กาฬสินธุ์",
                                    "1": "1.35"
                                },
                                {
                                    "0": "อุทัยธานี",
                                    "1": "1.31"
                                },
                                {
                                    "0": "สุโขทัย",
                                    "1": "1.28"
                                },
                                {
                                    "0": "แพร่",
                                    "1": "1.27"
                                },
                                {
                                    "0": "ประจวบคีรีขันธ์",
                                    "1": "1.24"
                                },
                                {
                                    "0": "จันทบุรี",
                                    "1": "1.23"
                                },
                                {
                                    "0": "พะเยา",
                                    "1": "1.23"
                                },
                                {
                                    "0": "เพชรบุรี",
                                    "1": "1.21"
                                },
                                {
                                    "0": "ลพบุรี",
                                    "1": "1.21"
                                },
                                {
                                    "0": "ชุมพร",
                                    "1": "1.17"
                                },
                                {
                                    "0": "นครพนม",
                                    "1": "1.07"
                                },
                                {
                                    "0": "สุพรรณบุรี",
                                    "1": "1.04"
                                },
                                {
                                    "0": "ฉะเชิงเทรา",
                                    "1": "1.04"
                                },
                                {
                                    "0": "มหาสารคาม",
                                    "1": "1.03"
                                },
                                {
                                    "0": "ราชบุรี",
                                    "1": "1.01"
                                },
                                {
                                    "0": "ตรัง",
                                    "1": "0.96"
                                },
                                {
                                    "0": "ปราจีนบุรี",
                                    "1": "0.93"
                                },
                                {
                                    "0": "กระบี่",
                                    "1": "0.92"
                                },
                                {
                                    "0": "ชลบุรี",
                                    "1": "0.90"
                                },
                                {
                                    "0": "พิจิตร",
                                    "1": "0.88"
                                },
                                {
                                    "0": "ยะลา",
                                    "1": "0.88"
                                },
                                {
                                    "0": "ลำพูน",
                                    "1": "0.88"
                                },
                                {
                                    "0": "นราธิวาส",
                                    "1": "0.87"
                                },
                                {
                                    "0": "มุกดาหาร",
                                    "1": "0.84"
                                },
                                {
                                    "0": "บึงกาฬ",
                                    "1": "0.84"
                                },
                                {
                                    "0": "พังงา",
                                    "1": "0.81"
                                },
                                {
                                    "0": "ยโสธร",
                                    "1": "0.81"
                                },
                                {
                                    "0": "หนองบัวลำภู",
                                    "1": "0.75"
                                },
                                {
                                    "0": "สระบุรี",
                                    "1": "0.70"
                                },
                                {
                                    "0": "ระยอง",
                                    "1": "0.69"
                                },
                                {
                                    "0": "พัทลุง",
                                    "1": "0.67"
                                },
                                {
                                    "0": "ระนอง",
                                    "1": "0.64"
                                },
                                {
                                    "0": "อำนาจเจริญ",
                                    "1": "0.62"
                                },
                                {
                                    "0": "หนองคาย",
                                    "1": "0.59"
                                },
                                {
                                    "0": "ตราด",
                                    "1": "0.55"
                                },
                                {
                                    "0": "พระนครศรีอยุธยา",
                                    "1": "0.50"
                                },
                                {
                                    "0": "สตูล",
                                    "1": "0.48"
                                },
                                {
                                    "0": "ชัยนาท",
                                    "1": "0.48"
                                },
                                {
                                    "0": "นครปฐม",
                                    "1": "0.42"
                                },
                                {
                                    "0": "นครนายก",
                                    "1": "0.41"
                                },
                                {
                                    "0": "ปัตตานี",
                                    "1": "0.38"
                                },
                                {
                                    "0": "กรุงเทพมหานคร",
                                    "1": "0.31"
                                },
                                {
                                    "0": "ปทุมธานี",
                                    "1": "0.30"
                                },
                                {
                                    "0": "สมุทรปราการ",
                                    "1": "0.20"
                                },
                                {
                                    "0": "อ่างทอง",
                                    "1": "0.19"
                                },
                                {
                                    "0": "สมุทรสาคร",
                                    "1": "0.17"
                                },
                                {
                                    "0": "สิงห์บุรี",
                                    "1": "0.16"
                                },
                                {
                                    "0": "นนทบุรี",
                                    "1": "0.12"
                                },
                                {
                                    "0": "ภูเก็ต",
                                    "1": "0.11"
                                },
                                {
                                    "0": "สมุทรสงคราม",
                                    "1": "0.08"
                                }
                            ]
                        },
                        "text/html": [
                            "<table>",
                            "<tr><th>name</th><th>numeric</th></tr>",
                            "<tr><td>นครราชสีมา</td><td>3.99</td></tr>",
                            "<tr><td>เชียงใหม่</td><td>3.91</td></tr>",
                            "<tr><td>กาญจนบุรี</td><td>3.79</td></tr>",
                            "<tr><td>ตาก</td><td>3.19</td></tr>",
                            "<tr><td>อุบลราชธานี</td><td>3.14</td></tr>",
                            "<tr><td>สุราษฎร์ธานี</td><td>2.51</td></tr>",
                            "<tr><td>ชัยภูมิ</td><td>2.49</td></tr>",
                            "<tr><td>แม่ฮ่องสอน</td><td>2.47</td></tr>",
                            "<tr><td>เพชรบูรณ์</td><td>2.47</td></tr>",
                            "<tr><td>ลำปาง</td><td>2.44</td></tr>",
                            "<tr><td>อุดรธานี</td><td>2.28</td></tr>",
                            "<tr><td>เชียงราย</td><td>2.27</td></tr>",
                            "<tr><td>น่าน</td><td>2.23</td></tr>",
                            "<tr><td>เลย</td><td>2.22</td></tr>",
                            "<tr><td>ขอนแก่น</td><td>2.12</td></tr>",
                            "<tr><td>พิษณุโลก</td><td>2.11</td></tr>",
                            "<tr><td>บุรีรัมย์</td><td>2.01</td></tr>",
                            "<tr><td>นครศรีธรรมราช</td><td>1.94</td></tr>",
                            "<tr><td>สกลนคร</td><td>1.87</td></tr>",
                            "<tr><td>นครสวรรค์</td><td>1.87</td></tr>",
                            "<tr><td>ศรีสะเกษ</td><td>1.72</td></tr>",
                            "<tr><td>กำแพงเพชร</td><td>1.68</td></tr>",
                            "<tr><td>ร้อยเอ็ด</td><td>1.62</td></tr>",
                            "<tr><td>สุรินทร์</td><td>1.58</td></tr>",
                            "<tr><td>อุตรดิตถ์</td><td>1.53</td></tr>",
                            "<tr><td>สงขลา</td><td>1.44</td></tr>",
                            "<tr><td>สระแก้ว</td><td>1.40</td></tr>",
                            "<tr><td>กาฬสินธุ์</td><td>1.35</td></tr>",
                            "<tr><td>อุทัยธานี</td><td>1.31</td></tr>",
                            "<tr><td>สุโขทัย</td><td>1.28</td></tr>",
                            "<tr><td>แพร่</td><td>1.27</td></tr>",
                            "<tr><td>ประจวบคีรีขันธ์</td><td>1.24</td></tr>",
                            "<tr><td>จันทบุรี</td><td>1.23</td></tr>",
                            "<tr><td>พะเยา</td><td>1.23</td></tr>",
                            "<tr><td>เพชรบุรี</td><td>1.21</td></tr>",
                            "<tr><td>ลพบุรี</td><td>1.21</td></tr>",
                            "<tr><td>ชุมพร</td><td>1.17</td></tr>",
                            "<tr><td>นครพนม</td><td>1.07</td></tr>",
                            "<tr><td>สุพรรณบุรี</td><td>1.04</td></tr>",
                            "<tr><td>ฉะเชิงเทรา</td><td>1.04</td></tr>",
                            "<tr><td>มหาสารคาม</td><td>1.03</td></tr>",
                            "<tr><td>ราชบุรี</td><td>1.01</td></tr>",
                            "<tr><td>ตรัง</td><td>0.96</td></tr>",
                            "<tr><td>ปราจีนบุรี</td><td>0.93</td></tr>",
                            "<tr><td>กระบี่</td><td>0.92</td></tr>",
                            "<tr><td>ชลบุรี</td><td>0.90</td></tr>",
                            "<tr><td>พิจิตร</td><td>0.88</td></tr>",
                            "<tr><td>ยะลา</td><td>0.88</td></tr>",
                            "<tr><td>ลำพูน</td><td>0.88</td></tr>",
                            "<tr><td>นราธิวาส</td><td>0.87</td></tr>",
                            "<tr><td>มุกดาหาร</td><td>0.84</td></tr>",
                            "<tr><td>บึงกาฬ</td><td>0.84</td></tr>",
                            "<tr><td>พังงา</td><td>0.81</td></tr>",
                            "<tr><td>ยโสธร</td><td>0.81</td></tr>",
                            "<tr><td>หนองบัวลำภู</td><td>0.75</td></tr>",
                            "<tr><td>สระบุรี</td><td>0.70</td></tr>",
                            "<tr><td>ระยอง</td><td>0.69</td></tr>",
                            "<tr><td>พัทลุง</td><td>0.67</td></tr>",
                            "<tr><td>ระนอง</td><td>0.64</td></tr>",
                            "<tr><td>อำนาจเจริญ</td><td>0.62</td></tr>",
                            "<tr><td>หนองคาย</td><td>0.59</td></tr>",
                            "<tr><td>ตราด</td><td>0.55</td></tr>",
                            "<tr><td>พระนครศรีอยุธยา</td><td>0.50</td></tr>",
                            "<tr><td>สตูล</td><td>0.48</td></tr>",
                            "<tr><td>ชัยนาท</td><td>0.48</td></tr>",
                            "<tr><td>นครปฐม</td><td>0.42</td></tr>",
                            "<tr><td>นครนายก</td><td>0.41</td></tr>",
                            "<tr><td>ปัตตานี</td><td>0.38</td></tr>",
                            "<tr><td>กรุงเทพมหานคร</td><td>0.31</td></tr>",
                            "<tr><td>ปทุมธานี</td><td>0.30</td></tr>",
                            "<tr><td>สมุทรปราการ</td><td>0.20</td></tr>",
                            "<tr><td>อ่างทอง</td><td>0.19</td></tr>",
                            "<tr><td>สมุทรสาคร</td><td>0.17</td></tr>",
                            "<tr><td>สิงห์บุรี</td><td>0.16</td></tr>",
                            "<tr><td>นนทบุรี</td><td>0.12</td></tr>",
                            "<tr><td>ภูเก็ต</td><td>0.11</td></tr>",
                            "<tr><td>สมุทรสงคราม</td><td>0.08</td></tr>",
                            "</table>"
                        ]
                    }
                }
            ],
            "execution_count": 21
        }
    ]
}