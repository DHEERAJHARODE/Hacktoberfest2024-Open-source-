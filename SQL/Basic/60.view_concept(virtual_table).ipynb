{
    "metadata": {
        "kernelspec": {
            "name": "SQL",
            "display_name": "SQL",
            "language": "sql"
        },
        "language_info": {
            "name": "sql",
            "version": ""
        }
    },
    "nbformat_minor": 2,
    "nbformat": 4,
    "cells": [
        {
            "cell_type": "code",
            "source": [
                "select * from benjerry"
            ],
            "metadata": {
                "azdata_cell_guid": "cd633285-94df-4dd5-b676-f44e02f95518"
            },
            "outputs": [
                {
                    "output_type": "display_data",
                    "data": {
                        "text/html": "(54 row(s) affected)"
                    },
                    "metadata": {}
                },
                {
                    "output_type": "display_data",
                    "data": {
                        "text/html": "Total execution time: 00:00:00.074"
                    },
                    "metadata": {}
                },
                {
                    "output_type": "execute_result",
                    "metadata": {},
                    "execution_count": 1,
                    "data": {
                        "application/vnd.dataresource+json": {
                            "schema": {
                                "fields": [
                                    {
                                        "name": "flavor"
                                    },
                                    {
                                        "name": "calories"
                                    },
                                    {
                                        "name": "fat_g"
                                    },
                                    {
                                        "name": "cholesterol_mg"
                                    },
                                    {
                                        "name": "carbs_g"
                                    },
                                    {
                                        "name": "sugars_g"
                                    },
                                    {
                                        "name": "protein_g"
                                    },
                                    {
                                        "name": "category"
                                    },
                                    {
                                        "name": "size_cup"
                                    }
                                ]
                            },
                            "data": [
                                {
                                    "0": "Americone Dream",
                                    "1": "270",
                                    "2": "15",
                                    "3": "65",
                                    "4": "30",
                                    "5": "24",
                                    "6": "3",
                                    "7": "Ice Cream",
                                    "8": "0.5"
                                },
                                {
                                    "0": "Banana Split",
                                    "1": "250",
                                    "2": "15",
                                    "3": "65",
                                    "4": "27",
                                    "5": "25",
                                    "6": "3",
                                    "7": "Ice Cream",
                                    "8": "0.5"
                                },
                                {
                                    "0": "Boston Cream Pie",
                                    "1": "250",
                                    "2": "13",
                                    "3": "90",
                                    "4": "29",
                                    "5": "26",
                                    "6": "3",
                                    "7": "Ice Cream",
                                    "8": "0.5"
                                },
                                {
                                    "0": "Cake Batter",
                                    "1": "260",
                                    "2": "16",
                                    "3": "65",
                                    "4": "27",
                                    "5": "23",
                                    "6": "4",
                                    "7": "Ice Cream",
                                    "8": "0.5"
                                },
                                {
                                    "0": "Cannoli",
                                    "1": "280",
                                    "2": "16",
                                    "3": "65",
                                    "4": "28",
                                    "5": "23",
                                    "6": "4",
                                    "7": "Ice Cream",
                                    "8": "0.5"
                                },
                                {
                                    "0": "Cheesecake Brownie",
                                    "1": "250",
                                    "2": "14",
                                    "3": "70",
                                    "4": "27",
                                    "5": "24",
                                    "6": "3",
                                    "7": "Ice Cream",
                                    "8": "0.5"
                                },
                                {
                                    "0": "Cherry Garcia",
                                    "1": "240",
                                    "2": "13",
                                    "3": "60",
                                    "4": "28",
                                    "5": "23",
                                    "6": "4",
                                    "7": "Ice Cream",
                                    "8": "0.5"
                                },
                                {
                                    "0": "Chocolate",
                                    "1": "250",
                                    "2": "14",
                                    "3": "40",
                                    "4": "25",
                                    "5": "21",
                                    "6": "4",
                                    "7": "Ice Cream",
                                    "8": "0.5"
                                },
                                {
                                    "0": "Chocolate Chip Cookie Dough",
                                    "1": "270",
                                    "2": "14",
                                    "3": "65",
                                    "4": "33",
                                    "5": "25",
                                    "6": "4",
                                    "7": "Ice Cream",
                                    "8": "0.5"
                                },
                                {
                                    "0": "Chocolate Fudge Brownie",
                                    "1": "260",
                                    "2": "12",
                                    "3": "40",
                                    "4": "34",
                                    "5": "27",
                                    "6": "4",
                                    "7": "Ice Cream",
                                    "8": "0.5"
                                },
                                {
                                    "0": "Chocolate Nougat Crunch",
                                    "1": "260",
                                    "2": "14",
                                    "3": "60",
                                    "4": "30",
                                    "5": "30",
                                    "6": "4",
                                    "7": "Ice Cream",
                                    "8": "0.5"
                                },
                                {
                                    "0": "Chocolate Peppermint Crunch",
                                    "1": "290",
                                    "2": "16",
                                    "3": "45",
                                    "4": "33",
                                    "5": "28",
                                    "6": "4",
                                    "7": "Ice Cream",
                                    "8": "0.5"
                                },
                                {
                                    "0": "Chocolate Therapy",
                                    "1": "240",
                                    "2": "13",
                                    "3": "45",
                                    "4": "27",
                                    "5": "21",
                                    "6": "4",
                                    "7": "Ice Cream",
                                    "8": "0.5"
                                },
                                {
                                    "0": "Chubby Hubby",
                                    "1": "340",
                                    "2": "20",
                                    "3": "55",
                                    "4": "33",
                                    "5": "25",
                                    "6": "7",
                                    "7": "Ice Cream",
                                    "8": "0.5"
                                },
                                {
                                    "0": "Chunky Monkey",
                                    "1": "290",
                                    "2": "18",
                                    "3": "65",
                                    "4": "29",
                                    "5": "27",
                                    "6": "4",
                                    "7": "Ice Cream",
                                    "8": "0.5"
                                },
                                {
                                    "0": "Cinnamon Buns",
                                    "1": "290",
                                    "2": "15",
                                    "3": "60",
                                    "4": "36",
                                    "5": "28",
                                    "6": "4",
                                    "7": "Ice Cream",
                                    "8": "0.5"
                                },
                                {
                                    "0": "Coffee Caramel Buzz",
                                    "1": "280",
                                    "2": "14",
                                    "3": "60",
                                    "4": "33",
                                    "5": "25",
                                    "6": "4",
                                    "7": "Ice Cream",
                                    "8": "0.5"
                                },
                                {
                                    "0": "Coffee Coffee Buzz Buzz Buzz",
                                    "1": "260",
                                    "2": "16",
                                    "3": "65",
                                    "4": "27",
                                    "5": "24",
                                    "6": "4",
                                    "7": "Ice Cream",
                                    "8": "0.5"
                                },
                                {
                                    "0": "Coffee Heath Bar Crunch",
                                    "1": "280",
                                    "2": "16",
                                    "3": "60",
                                    "4": "30",
                                    "5": "27",
                                    "6": "4",
                                    "7": "Ice Cream",
                                    "8": "0.5"
                                },
                                {
                                    "0": "Crème Brulée",
                                    "1": "280",
                                    "2": "16",
                                    "3": "90",
                                    "4": "31",
                                    "5": "28",
                                    "6": "3",
                                    "7": "Ice Cream",
                                    "8": "0.5"
                                },
                                {
                                    "0": "Everything But the . . .",
                                    "1": "290",
                                    "2": "17",
                                    "3": "45",
                                    "4": "31",
                                    "5": "28",
                                    "6": "5",
                                    "7": "Ice Cream",
                                    "8": "0.5"
                                },
                                {
                                    "0": "Half Baked",
                                    "1": "270",
                                    "2": "13",
                                    "3": "55",
                                    "4": "35",
                                    "5": "27",
                                    "6": "4",
                                    "7": "Ice Cream",
                                    "8": "0.5"
                                },
                                {
                                    "0": "Imagine Whirled Peace",
                                    "1": "270",
                                    "2": "16",
                                    "3": "75",
                                    "4": "27",
                                    "5": "23",
                                    "6": "3",
                                    "7": "Ice Cream",
                                    "8": "0.5"
                                },
                                {
                                    "0": "Karamel Sutra",
                                    "1": "260",
                                    "2": "14",
                                    "3": "55",
                                    "4": "31",
                                    "5": "26",
                                    "6": "3",
                                    "7": "Ice Cream",
                                    "8": "0.5"
                                },
                                {
                                    "0": "Late Night Snack",
                                    "1": "270",
                                    "2": "15",
                                    "3": "60",
                                    "4": "31",
                                    "5": "21",
                                    "6": "4",
                                    "7": "Ice Cream",
                                    "8": "0.5"
                                },
                                {
                                    "0": "Milk & Cookies",
                                    "1": "270",
                                    "2": "15",
                                    "3": "60",
                                    "4": "30",
                                    "5": "23",
                                    "6": "4",
                                    "7": "Ice Cream",
                                    "8": "0.5"
                                },
                                {
                                    "0": "Mint Chocolate Cookie",
                                    "1": "260",
                                    "2": "14",
                                    "3": "65",
                                    "4": "28",
                                    "5": "22",
                                    "6": "4",
                                    "7": "Ice Cream",
                                    "8": "0.5"
                                },
                                {
                                    "0": "Mud Pie",
                                    "1": "270",
                                    "2": "16",
                                    "3": "55",
                                    "4": "28",
                                    "5": "23",
                                    "6": "4",
                                    "7": "Ice Cream",
                                    "8": "0.5"
                                },
                                {
                                    "0": "New York Super Fudge Chunk",
                                    "1": "300",
                                    "2": "20",
                                    "3": "50",
                                    "4": "29",
                                    "5": "25",
                                    "6": "4",
                                    "7": "Ice Cream",
                                    "8": "0.5"
                                },
                                {
                                    "0": "Oatmeal Cookie Chunk",
                                    "1": "260",
                                    "2": "14",
                                    "3": "55",
                                    "4": "30",
                                    "5": "23",
                                    "6": "4",
                                    "7": "Ice Cream",
                                    "8": "0.5"
                                },
                                {
                                    "0": "Peach Cobbler",
                                    "1": "220",
                                    "2": "11",
                                    "3": "50",
                                    "4": "28",
                                    "5": "26",
                                    "6": "3",
                                    "7": "Ice Cream",
                                    "8": "0.5"
                                },
                                {
                                    "0": "Peanut Brittle",
                                    "1": "260",
                                    "2": "15",
                                    "3": "60",
                                    "4": "29",
                                    "5": "23",
                                    "6": "4",
                                    "7": "Ice Cream",
                                    "8": "0.5"
                                },
                                {
                                    "0": "Peanut Butter Cup",
                                    "1": "360",
                                    "2": "26",
                                    "3": "70",
                                    "4": "27",
                                    "5": "24",
                                    "6": "6",
                                    "7": "Ice Cream",
                                    "8": "0.5"
                                },
                                {
                                    "0": "Phish Food",
                                    "1": "280",
                                    "2": "13",
                                    "3": "35",
                                    "4": "39",
                                    "5": "28",
                                    "6": "4",
                                    "7": "Ice Cream",
                                    "8": "0.5"
                                },
                                {
                                    "0": "Pistachio Pistachio",
                                    "1": "280",
                                    "2": "17",
                                    "3": "70",
                                    "4": "24",
                                    "5": "19",
                                    "6": "6",
                                    "7": "Ice Cream",
                                    "8": "0.5"
                                },
                                {
                                    "0": "Red Velvet Cake",
                                    "1": "250",
                                    "2": "13",
                                    "3": "60",
                                    "4": "23",
                                    "5": "23",
                                    "6": "4",
                                    "7": "Ice Cream",
                                    "8": "0.5"
                                },
                                {
                                    "0": "S'mores",
                                    "1": "280",
                                    "2": "16",
                                    "3": "35",
                                    "4": "35",
                                    "5": "26",
                                    "6": "3",
                                    "7": "Ice Cream",
                                    "8": "0.5"
                                },
                                {
                                    "0": "Strawberry Cheesecake",
                                    "1": "250",
                                    "2": "15",
                                    "3": "60",
                                    "4": "26",
                                    "5": "22",
                                    "6": "3",
                                    "7": "Ice Cream",
                                    "8": "0.5"
                                },
                                {
                                    "0": "Triple Caramel Chunk",
                                    "1": "280",
                                    "2": "16",
                                    "3": "65",
                                    "4": "32",
                                    "5": "25",
                                    "6": "3",
                                    "7": "Ice Cream",
                                    "8": "0.5"
                                },
                                {
                                    "0": "Vanilla",
                                    "1": "230",
                                    "2": "14",
                                    "3": "75",
                                    "4": "23",
                                    "5": "20",
                                    "6": "4",
                                    "7": "Ice Cream",
                                    "8": "0.5"
                                },
                                {
                                    "0": "Vanilla Caramel Fudge",
                                    "1": "280",
                                    "2": "14",
                                    "3": "70",
                                    "4": "34",
                                    "5": "27",
                                    "6": "4",
                                    "7": "Ice Cream",
                                    "8": "0.5"
                                },
                                {
                                    "0": "Vanilla Heath Bar Crunch",
                                    "1": "280",
                                    "2": "17",
                                    "3": "65",
                                    "4": "30",
                                    "5": "27",
                                    "6": "4",
                                    "7": "Ice Cream",
                                    "8": "0.5"
                                },
                                {
                                    "0": "What a Cluster",
                                    "1": "320",
                                    "2": "19",
                                    "3": "45",
                                    "4": "31",
                                    "5": "23",
                                    "6": "7",
                                    "7": "Ice Cream",
                                    "8": "0.5"
                                },
                                {
                                    "0": "Cherry Garcia Fro Yo",
                                    "1": "200",
                                    "2": "3",
                                    "3": "20",
                                    "4": "37",
                                    "5": "27",
                                    "6": "8",
                                    "7": "Ice Cream",
                                    "8": "0.5"
                                },
                                {
                                    "0": "Chocolate Fudge Brownie Fro Yo",
                                    "1": "180",
                                    "2": "2",
                                    "3": "15",
                                    "4": "35",
                                    "5": "25",
                                    "6": "5",
                                    "7": "Ice Cream",
                                    "8": "0.5"
                                },
                                {
                                    "0": "Half Baked Fro Yo",
                                    "1": "180",
                                    "2": "3",
                                    "3": "20",
                                    "4": "35",
                                    "5": "23",
                                    "6": "4",
                                    "7": "Ice Cream",
                                    "8": "0.5"
                                },
                                {
                                    "0": "Phish Food Fro Yo",
                                    "1": "240",
                                    "2": "6",
                                    "3": "20",
                                    "4": "41",
                                    "5": "27",
                                    "6": "4",
                                    "7": "Ice Cream",
                                    "8": "0.5"
                                },
                                {
                                    "0": "Banana Peanut Butter Greek Frozen Yogurt",
                                    "1": "210",
                                    "2": "8",
                                    "3": "25",
                                    "4": "30",
                                    "5": "26",
                                    "6": "6",
                                    "7": "Ice Cream",
                                    "8": "0.5"
                                },
                                {
                                    "0": "Blueberry Vanilla Graham Greek Frozen Yogurt",
                                    "1": "200",
                                    "2": "7",
                                    "3": "25",
                                    "4": "29",
                                    "5": "23",
                                    "6": "6",
                                    "7": "Ice Cream",
                                    "8": "0.5"
                                },
                                {
                                    "0": "Liz Lemon Greek Frozen Yogurt",
                                    "1": "180",
                                    "2": "4",
                                    "3": "30",
                                    "4": "29",
                                    "5": "21",
                                    "6": "6",
                                    "7": "Ice Cream",
                                    "8": "0.5"
                                },
                                {
                                    "0": "Pineapple Passionfruit Greek Frozen Yogurt",
                                    "1": "180",
                                    "2": "4",
                                    "3": "65",
                                    "4": "30",
                                    "5": "26",
                                    "6": "5",
                                    "7": "Ice Cream",
                                    "8": "0.5"
                                },
                                {
                                    "0": "Raspberry Fudge Chunk Greek Frozen Yogurt",
                                    "1": "200",
                                    "2": "7",
                                    "3": "25",
                                    "4": "29",
                                    "5": "25",
                                    "6": "6",
                                    "7": "Ice Cream",
                                    "8": "0.5"
                                },
                                {
                                    "0": "Strawberry Shortcake Greek Frozen Yogurt",
                                    "1": "180",
                                    "2": "6",
                                    "3": "35",
                                    "4": "28",
                                    "5": "21",
                                    "6": "6",
                                    "7": "Ice Cream",
                                    "8": "0.5"
                                },
                                {
                                    "0": "Vanilla Honey Caramel Greek Frozen Yogurt",
                                    "1": "190",
                                    "2": "5",
                                    "3": "35",
                                    "4": "30",
                                    "5": "22",
                                    "6": "6",
                                    "7": "Ice Cream",
                                    "8": "0.5"
                                }
                            ]
                        },
                        "text/html": [
                            "<table>",
                            "<tr><th>flavor</th><th>calories</th><th>fat_g</th><th>cholesterol_mg</th><th>carbs_g</th><th>sugars_g</th><th>protein_g</th><th>category</th><th>size_cup</th></tr>",
                            "<tr><td>Americone Dream</td><td>270</td><td>15</td><td>65</td><td>30</td><td>24</td><td>3</td><td>Ice Cream</td><td>0.5</td></tr>",
                            "<tr><td>Banana Split</td><td>250</td><td>15</td><td>65</td><td>27</td><td>25</td><td>3</td><td>Ice Cream</td><td>0.5</td></tr>",
                            "<tr><td>Boston Cream Pie</td><td>250</td><td>13</td><td>90</td><td>29</td><td>26</td><td>3</td><td>Ice Cream</td><td>0.5</td></tr>",
                            "<tr><td>Cake Batter</td><td>260</td><td>16</td><td>65</td><td>27</td><td>23</td><td>4</td><td>Ice Cream</td><td>0.5</td></tr>",
                            "<tr><td>Cannoli</td><td>280</td><td>16</td><td>65</td><td>28</td><td>23</td><td>4</td><td>Ice Cream</td><td>0.5</td></tr>",
                            "<tr><td>Cheesecake Brownie</td><td>250</td><td>14</td><td>70</td><td>27</td><td>24</td><td>3</td><td>Ice Cream</td><td>0.5</td></tr>",
                            "<tr><td>Cherry Garcia</td><td>240</td><td>13</td><td>60</td><td>28</td><td>23</td><td>4</td><td>Ice Cream</td><td>0.5</td></tr>",
                            "<tr><td>Chocolate</td><td>250</td><td>14</td><td>40</td><td>25</td><td>21</td><td>4</td><td>Ice Cream</td><td>0.5</td></tr>",
                            "<tr><td>Chocolate Chip Cookie Dough</td><td>270</td><td>14</td><td>65</td><td>33</td><td>25</td><td>4</td><td>Ice Cream</td><td>0.5</td></tr>",
                            "<tr><td>Chocolate Fudge Brownie</td><td>260</td><td>12</td><td>40</td><td>34</td><td>27</td><td>4</td><td>Ice Cream</td><td>0.5</td></tr>",
                            "<tr><td>Chocolate Nougat Crunch</td><td>260</td><td>14</td><td>60</td><td>30</td><td>30</td><td>4</td><td>Ice Cream</td><td>0.5</td></tr>",
                            "<tr><td>Chocolate Peppermint Crunch</td><td>290</td><td>16</td><td>45</td><td>33</td><td>28</td><td>4</td><td>Ice Cream</td><td>0.5</td></tr>",
                            "<tr><td>Chocolate Therapy</td><td>240</td><td>13</td><td>45</td><td>27</td><td>21</td><td>4</td><td>Ice Cream</td><td>0.5</td></tr>",
                            "<tr><td>Chubby Hubby</td><td>340</td><td>20</td><td>55</td><td>33</td><td>25</td><td>7</td><td>Ice Cream</td><td>0.5</td></tr>",
                            "<tr><td>Chunky Monkey</td><td>290</td><td>18</td><td>65</td><td>29</td><td>27</td><td>4</td><td>Ice Cream</td><td>0.5</td></tr>",
                            "<tr><td>Cinnamon Buns</td><td>290</td><td>15</td><td>60</td><td>36</td><td>28</td><td>4</td><td>Ice Cream</td><td>0.5</td></tr>",
                            "<tr><td>Coffee Caramel Buzz</td><td>280</td><td>14</td><td>60</td><td>33</td><td>25</td><td>4</td><td>Ice Cream</td><td>0.5</td></tr>",
                            "<tr><td>Coffee Coffee Buzz Buzz Buzz</td><td>260</td><td>16</td><td>65</td><td>27</td><td>24</td><td>4</td><td>Ice Cream</td><td>0.5</td></tr>",
                            "<tr><td>Coffee Heath Bar Crunch</td><td>280</td><td>16</td><td>60</td><td>30</td><td>27</td><td>4</td><td>Ice Cream</td><td>0.5</td></tr>",
                            "<tr><td>Crème Brulée</td><td>280</td><td>16</td><td>90</td><td>31</td><td>28</td><td>3</td><td>Ice Cream</td><td>0.5</td></tr>",
                            "<tr><td>Everything But the . . .</td><td>290</td><td>17</td><td>45</td><td>31</td><td>28</td><td>5</td><td>Ice Cream</td><td>0.5</td></tr>",
                            "<tr><td>Half Baked</td><td>270</td><td>13</td><td>55</td><td>35</td><td>27</td><td>4</td><td>Ice Cream</td><td>0.5</td></tr>",
                            "<tr><td>Imagine Whirled Peace</td><td>270</td><td>16</td><td>75</td><td>27</td><td>23</td><td>3</td><td>Ice Cream</td><td>0.5</td></tr>",
                            "<tr><td>Karamel Sutra</td><td>260</td><td>14</td><td>55</td><td>31</td><td>26</td><td>3</td><td>Ice Cream</td><td>0.5</td></tr>",
                            "<tr><td>Late Night Snack</td><td>270</td><td>15</td><td>60</td><td>31</td><td>21</td><td>4</td><td>Ice Cream</td><td>0.5</td></tr>",
                            "<tr><td>Milk &amp; Cookies</td><td>270</td><td>15</td><td>60</td><td>30</td><td>23</td><td>4</td><td>Ice Cream</td><td>0.5</td></tr>",
                            "<tr><td>Mint Chocolate Cookie</td><td>260</td><td>14</td><td>65</td><td>28</td><td>22</td><td>4</td><td>Ice Cream</td><td>0.5</td></tr>",
                            "<tr><td>Mud Pie</td><td>270</td><td>16</td><td>55</td><td>28</td><td>23</td><td>4</td><td>Ice Cream</td><td>0.5</td></tr>",
                            "<tr><td>New York Super Fudge Chunk</td><td>300</td><td>20</td><td>50</td><td>29</td><td>25</td><td>4</td><td>Ice Cream</td><td>0.5</td></tr>",
                            "<tr><td>Oatmeal Cookie Chunk</td><td>260</td><td>14</td><td>55</td><td>30</td><td>23</td><td>4</td><td>Ice Cream</td><td>0.5</td></tr>",
                            "<tr><td>Peach Cobbler</td><td>220</td><td>11</td><td>50</td><td>28</td><td>26</td><td>3</td><td>Ice Cream</td><td>0.5</td></tr>",
                            "<tr><td>Peanut Brittle</td><td>260</td><td>15</td><td>60</td><td>29</td><td>23</td><td>4</td><td>Ice Cream</td><td>0.5</td></tr>",
                            "<tr><td>Peanut Butter Cup</td><td>360</td><td>26</td><td>70</td><td>27</td><td>24</td><td>6</td><td>Ice Cream</td><td>0.5</td></tr>",
                            "<tr><td>Phish Food</td><td>280</td><td>13</td><td>35</td><td>39</td><td>28</td><td>4</td><td>Ice Cream</td><td>0.5</td></tr>",
                            "<tr><td>Pistachio Pistachio</td><td>280</td><td>17</td><td>70</td><td>24</td><td>19</td><td>6</td><td>Ice Cream</td><td>0.5</td></tr>",
                            "<tr><td>Red Velvet Cake</td><td>250</td><td>13</td><td>60</td><td>23</td><td>23</td><td>4</td><td>Ice Cream</td><td>0.5</td></tr>",
                            "<tr><td>S'mores</td><td>280</td><td>16</td><td>35</td><td>35</td><td>26</td><td>3</td><td>Ice Cream</td><td>0.5</td></tr>",
                            "<tr><td>Strawberry Cheesecake</td><td>250</td><td>15</td><td>60</td><td>26</td><td>22</td><td>3</td><td>Ice Cream</td><td>0.5</td></tr>",
                            "<tr><td>Triple Caramel Chunk</td><td>280</td><td>16</td><td>65</td><td>32</td><td>25</td><td>3</td><td>Ice Cream</td><td>0.5</td></tr>",
                            "<tr><td>Vanilla</td><td>230</td><td>14</td><td>75</td><td>23</td><td>20</td><td>4</td><td>Ice Cream</td><td>0.5</td></tr>",
                            "<tr><td>Vanilla Caramel Fudge</td><td>280</td><td>14</td><td>70</td><td>34</td><td>27</td><td>4</td><td>Ice Cream</td><td>0.5</td></tr>",
                            "<tr><td>Vanilla Heath Bar Crunch</td><td>280</td><td>17</td><td>65</td><td>30</td><td>27</td><td>4</td><td>Ice Cream</td><td>0.5</td></tr>",
                            "<tr><td>What a Cluster</td><td>320</td><td>19</td><td>45</td><td>31</td><td>23</td><td>7</td><td>Ice Cream</td><td>0.5</td></tr>",
                            "<tr><td>Cherry Garcia Fro Yo</td><td>200</td><td>3</td><td>20</td><td>37</td><td>27</td><td>8</td><td>Ice Cream</td><td>0.5</td></tr>",
                            "<tr><td>Chocolate Fudge Brownie Fro Yo</td><td>180</td><td>2</td><td>15</td><td>35</td><td>25</td><td>5</td><td>Ice Cream</td><td>0.5</td></tr>",
                            "<tr><td>Half Baked Fro Yo</td><td>180</td><td>3</td><td>20</td><td>35</td><td>23</td><td>4</td><td>Ice Cream</td><td>0.5</td></tr>",
                            "<tr><td>Phish Food Fro Yo</td><td>240</td><td>6</td><td>20</td><td>41</td><td>27</td><td>4</td><td>Ice Cream</td><td>0.5</td></tr>",
                            "<tr><td>Banana Peanut Butter Greek Frozen Yogurt</td><td>210</td><td>8</td><td>25</td><td>30</td><td>26</td><td>6</td><td>Ice Cream</td><td>0.5</td></tr>",
                            "<tr><td>Blueberry Vanilla Graham Greek Frozen Yogurt</td><td>200</td><td>7</td><td>25</td><td>29</td><td>23</td><td>6</td><td>Ice Cream</td><td>0.5</td></tr>",
                            "<tr><td>Liz Lemon Greek Frozen Yogurt</td><td>180</td><td>4</td><td>30</td><td>29</td><td>21</td><td>6</td><td>Ice Cream</td><td>0.5</td></tr>",
                            "<tr><td>Pineapple Passionfruit Greek Frozen Yogurt</td><td>180</td><td>4</td><td>65</td><td>30</td><td>26</td><td>5</td><td>Ice Cream</td><td>0.5</td></tr>",
                            "<tr><td>Raspberry Fudge Chunk Greek Frozen Yogurt</td><td>200</td><td>7</td><td>25</td><td>29</td><td>25</td><td>6</td><td>Ice Cream</td><td>0.5</td></tr>",
                            "<tr><td>Strawberry Shortcake Greek Frozen Yogurt</td><td>180</td><td>6</td><td>35</td><td>28</td><td>21</td><td>6</td><td>Ice Cream</td><td>0.5</td></tr>",
                            "<tr><td>Vanilla Honey Caramel Greek Frozen Yogurt</td><td>190</td><td>5</td><td>35</td><td>30</td><td>22</td><td>6</td><td>Ice Cream</td><td>0.5</td></tr>",
                            "</table>"
                        ]
                    }
                }
            ],
            "execution_count": 1
        },
        {
            "cell_type": "code",
            "source": [
                "select * from benjerry where calories < 200;"
            ],
            "metadata": {
                "azdata_cell_guid": "10058ccf-83aa-4317-a487-796d7671d738"
            },
            "outputs": [
                {
                    "output_type": "display_data",
                    "data": {
                        "text/html": "(6 row(s) affected)"
                    },
                    "metadata": {}
                },
                {
                    "output_type": "display_data",
                    "data": {
                        "text/html": "Total execution time: 00:00:00.007"
                    },
                    "metadata": {}
                },
                {
                    "output_type": "execute_result",
                    "metadata": {},
                    "execution_count": 2,
                    "data": {
                        "application/vnd.dataresource+json": {
                            "schema": {
                                "fields": [
                                    {
                                        "name": "flavor"
                                    },
                                    {
                                        "name": "calories"
                                    },
                                    {
                                        "name": "fat_g"
                                    },
                                    {
                                        "name": "cholesterol_mg"
                                    },
                                    {
                                        "name": "carbs_g"
                                    },
                                    {
                                        "name": "sugars_g"
                                    },
                                    {
                                        "name": "protein_g"
                                    },
                                    {
                                        "name": "category"
                                    },
                                    {
                                        "name": "size_cup"
                                    }
                                ]
                            },
                            "data": [
                                {
                                    "0": "Chocolate Fudge Brownie Fro Yo",
                                    "1": "180",
                                    "2": "2",
                                    "3": "15",
                                    "4": "35",
                                    "5": "25",
                                    "6": "5",
                                    "7": "Ice Cream",
                                    "8": "0.5"
                                },
                                {
                                    "0": "Half Baked Fro Yo",
                                    "1": "180",
                                    "2": "3",
                                    "3": "20",
                                    "4": "35",
                                    "5": "23",
                                    "6": "4",
                                    "7": "Ice Cream",
                                    "8": "0.5"
                                },
                                {
                                    "0": "Liz Lemon Greek Frozen Yogurt",
                                    "1": "180",
                                    "2": "4",
                                    "3": "30",
                                    "4": "29",
                                    "5": "21",
                                    "6": "6",
                                    "7": "Ice Cream",
                                    "8": "0.5"
                                },
                                {
                                    "0": "Pineapple Passionfruit Greek Frozen Yogurt",
                                    "1": "180",
                                    "2": "4",
                                    "3": "65",
                                    "4": "30",
                                    "5": "26",
                                    "6": "5",
                                    "7": "Ice Cream",
                                    "8": "0.5"
                                },
                                {
                                    "0": "Strawberry Shortcake Greek Frozen Yogurt",
                                    "1": "180",
                                    "2": "6",
                                    "3": "35",
                                    "4": "28",
                                    "5": "21",
                                    "6": "6",
                                    "7": "Ice Cream",
                                    "8": "0.5"
                                },
                                {
                                    "0": "Vanilla Honey Caramel Greek Frozen Yogurt",
                                    "1": "190",
                                    "2": "5",
                                    "3": "35",
                                    "4": "30",
                                    "5": "22",
                                    "6": "6",
                                    "7": "Ice Cream",
                                    "8": "0.5"
                                }
                            ]
                        },
                        "text/html": [
                            "<table>",
                            "<tr><th>flavor</th><th>calories</th><th>fat_g</th><th>cholesterol_mg</th><th>carbs_g</th><th>sugars_g</th><th>protein_g</th><th>category</th><th>size_cup</th></tr>",
                            "<tr><td>Chocolate Fudge Brownie Fro Yo</td><td>180</td><td>2</td><td>15</td><td>35</td><td>25</td><td>5</td><td>Ice Cream</td><td>0.5</td></tr>",
                            "<tr><td>Half Baked Fro Yo</td><td>180</td><td>3</td><td>20</td><td>35</td><td>23</td><td>4</td><td>Ice Cream</td><td>0.5</td></tr>",
                            "<tr><td>Liz Lemon Greek Frozen Yogurt</td><td>180</td><td>4</td><td>30</td><td>29</td><td>21</td><td>6</td><td>Ice Cream</td><td>0.5</td></tr>",
                            "<tr><td>Pineapple Passionfruit Greek Frozen Yogurt</td><td>180</td><td>4</td><td>65</td><td>30</td><td>26</td><td>5</td><td>Ice Cream</td><td>0.5</td></tr>",
                            "<tr><td>Strawberry Shortcake Greek Frozen Yogurt</td><td>180</td><td>6</td><td>35</td><td>28</td><td>21</td><td>6</td><td>Ice Cream</td><td>0.5</td></tr>",
                            "<tr><td>Vanilla Honey Caramel Greek Frozen Yogurt</td><td>190</td><td>5</td><td>35</td><td>30</td><td>22</td><td>6</td><td>Ice Cream</td><td>0.5</td></tr>",
                            "</table>"
                        ]
                    }
                }
            ],
            "execution_count": 2
        },
        {
            "cell_type": "code",
            "source": [
                "create view vw_low_calories as \r\n",
                "    select * from benjerry where calories < 200;\r\n",
                ""
            ],
            "metadata": {
                "azdata_cell_guid": "4072bad9-b25a-4929-ac7f-5baf5915aa64"
            },
            "outputs": [
                {
                    "output_type": "error",
                    "evalue": "relation \"vw_low_calories\" already exists",
                    "ename": "",
                    "traceback": []
                },
                {
                    "output_type": "display_data",
                    "data": {
                        "text/html": "Total execution time: 00:00:00.001"
                    },
                    "metadata": {}
                }
            ],
            "execution_count": 5
        },
        {
            "cell_type": "code",
            "source": [
                "select * from vw_low_calories;"
            ],
            "metadata": {
                "azdata_cell_guid": "351d4f55-3abb-49d7-a205-6ad0f5c7aac3"
            },
            "outputs": [
                {
                    "output_type": "display_data",
                    "data": {
                        "text/html": "(6 row(s) affected)"
                    },
                    "metadata": {}
                },
                {
                    "output_type": "display_data",
                    "data": {
                        "text/html": "Total execution time: 00:00:00.004"
                    },
                    "metadata": {}
                },
                {
                    "output_type": "execute_result",
                    "metadata": {},
                    "execution_count": 6,
                    "data": {
                        "application/vnd.dataresource+json": {
                            "schema": {
                                "fields": [
                                    {
                                        "name": "flavor"
                                    },
                                    {
                                        "name": "calories"
                                    },
                                    {
                                        "name": "fat_g"
                                    },
                                    {
                                        "name": "cholesterol_mg"
                                    },
                                    {
                                        "name": "carbs_g"
                                    },
                                    {
                                        "name": "sugars_g"
                                    },
                                    {
                                        "name": "protein_g"
                                    },
                                    {
                                        "name": "category"
                                    },
                                    {
                                        "name": "size_cup"
                                    }
                                ]
                            },
                            "data": [
                                {
                                    "0": "Chocolate Fudge Brownie Fro Yo",
                                    "1": "180",
                                    "2": "2",
                                    "3": "15",
                                    "4": "35",
                                    "5": "25",
                                    "6": "5",
                                    "7": "Ice Cream",
                                    "8": "0.5"
                                },
                                {
                                    "0": "Half Baked Fro Yo",
                                    "1": "180",
                                    "2": "3",
                                    "3": "20",
                                    "4": "35",
                                    "5": "23",
                                    "6": "4",
                                    "7": "Ice Cream",
                                    "8": "0.5"
                                },
                                {
                                    "0": "Liz Lemon Greek Frozen Yogurt",
                                    "1": "180",
                                    "2": "4",
                                    "3": "30",
                                    "4": "29",
                                    "5": "21",
                                    "6": "6",
                                    "7": "Ice Cream",
                                    "8": "0.5"
                                },
                                {
                                    "0": "Pineapple Passionfruit Greek Frozen Yogurt",
                                    "1": "180",
                                    "2": "4",
                                    "3": "65",
                                    "4": "30",
                                    "5": "26",
                                    "6": "5",
                                    "7": "Ice Cream",
                                    "8": "0.5"
                                },
                                {
                                    "0": "Strawberry Shortcake Greek Frozen Yogurt",
                                    "1": "180",
                                    "2": "6",
                                    "3": "35",
                                    "4": "28",
                                    "5": "21",
                                    "6": "6",
                                    "7": "Ice Cream",
                                    "8": "0.5"
                                },
                                {
                                    "0": "Vanilla Honey Caramel Greek Frozen Yogurt",
                                    "1": "190",
                                    "2": "5",
                                    "3": "35",
                                    "4": "30",
                                    "5": "22",
                                    "6": "6",
                                    "7": "Ice Cream",
                                    "8": "0.5"
                                }
                            ]
                        },
                        "text/html": [
                            "<table>",
                            "<tr><th>flavor</th><th>calories</th><th>fat_g</th><th>cholesterol_mg</th><th>carbs_g</th><th>sugars_g</th><th>protein_g</th><th>category</th><th>size_cup</th></tr>",
                            "<tr><td>Chocolate Fudge Brownie Fro Yo</td><td>180</td><td>2</td><td>15</td><td>35</td><td>25</td><td>5</td><td>Ice Cream</td><td>0.5</td></tr>",
                            "<tr><td>Half Baked Fro Yo</td><td>180</td><td>3</td><td>20</td><td>35</td><td>23</td><td>4</td><td>Ice Cream</td><td>0.5</td></tr>",
                            "<tr><td>Liz Lemon Greek Frozen Yogurt</td><td>180</td><td>4</td><td>30</td><td>29</td><td>21</td><td>6</td><td>Ice Cream</td><td>0.5</td></tr>",
                            "<tr><td>Pineapple Passionfruit Greek Frozen Yogurt</td><td>180</td><td>4</td><td>65</td><td>30</td><td>26</td><td>5</td><td>Ice Cream</td><td>0.5</td></tr>",
                            "<tr><td>Strawberry Shortcake Greek Frozen Yogurt</td><td>180</td><td>6</td><td>35</td><td>28</td><td>21</td><td>6</td><td>Ice Cream</td><td>0.5</td></tr>",
                            "<tr><td>Vanilla Honey Caramel Greek Frozen Yogurt</td><td>190</td><td>5</td><td>35</td><td>30</td><td>22</td><td>6</td><td>Ice Cream</td><td>0.5</td></tr>",
                            "</table>"
                        ]
                    }
                }
            ],
            "execution_count": 6
        },
        {
            "cell_type": "code",
            "source": [
                "drop view vw_low_calories;"
            ],
            "metadata": {
                "azdata_cell_guid": "fae7ca4e-d221-44e2-b645-2403a207db70"
            },
            "outputs": [
                {
                    "output_type": "error",
                    "evalue": "view \"vw_low_calories\" does not exist",
                    "ename": "",
                    "traceback": []
                },
                {
                    "output_type": "display_data",
                    "data": {
                        "text/html": "Total execution time: 00:00:00.002"
                    },
                    "metadata": {}
                }
            ],
            "execution_count": 8
        },
        {
            "cell_type": "code",
            "source": [
                "create view vw_low_calories as \r\n",
                "    select flavor, calories from benjerry where calories < 200;"
            ],
            "metadata": {
                "azdata_cell_guid": "230a1d04-95e1-4b9b-a0f8-1d929e39c7ef"
            },
            "outputs": [
                {
                    "output_type": "display_data",
                    "data": {
                        "text/html": "Commands completed successfully"
                    },
                    "metadata": {}
                },
                {
                    "output_type": "display_data",
                    "data": {
                        "text/html": "Total execution time: 00:00:00.001"
                    },
                    "metadata": {}
                }
            ],
            "execution_count": 9
        },
        {
            "cell_type": "code",
            "source": [
                "select * from vw_low_calories;\r\n",
                ""
            ],
            "metadata": {
                "azdata_cell_guid": "40bc3765-2b6d-40e4-81d3-cd75fa575b26",
                "tags": [
                    "hide_input"
                ]
            },
            "outputs": [
                {
                    "output_type": "display_data",
                    "data": {
                        "text/html": "(6 row(s) affected)"
                    },
                    "metadata": {}
                },
                {
                    "output_type": "display_data",
                    "data": {
                        "text/html": "Total execution time: 00:00:00.007"
                    },
                    "metadata": {}
                },
                {
                    "output_type": "execute_result",
                    "metadata": {},
                    "execution_count": 10,
                    "data": {
                        "application/vnd.dataresource+json": {
                            "schema": {
                                "fields": [
                                    {
                                        "name": "flavor"
                                    },
                                    {
                                        "name": "calories"
                                    }
                                ]
                            },
                            "data": [
                                {
                                    "0": "Chocolate Fudge Brownie Fro Yo",
                                    "1": "180"
                                },
                                {
                                    "0": "Half Baked Fro Yo",
                                    "1": "180"
                                },
                                {
                                    "0": "Liz Lemon Greek Frozen Yogurt",
                                    "1": "180"
                                },
                                {
                                    "0": "Pineapple Passionfruit Greek Frozen Yogurt",
                                    "1": "180"
                                },
                                {
                                    "0": "Strawberry Shortcake Greek Frozen Yogurt",
                                    "1": "180"
                                },
                                {
                                    "0": "Vanilla Honey Caramel Greek Frozen Yogurt",
                                    "1": "190"
                                }
                            ]
                        },
                        "text/html": [
                            "<table>",
                            "<tr><th>flavor</th><th>calories</th></tr>",
                            "<tr><td>Chocolate Fudge Brownie Fro Yo</td><td>180</td></tr>",
                            "<tr><td>Half Baked Fro Yo</td><td>180</td></tr>",
                            "<tr><td>Liz Lemon Greek Frozen Yogurt</td><td>180</td></tr>",
                            "<tr><td>Pineapple Passionfruit Greek Frozen Yogurt</td><td>180</td></tr>",
                            "<tr><td>Strawberry Shortcake Greek Frozen Yogurt</td><td>180</td></tr>",
                            "<tr><td>Vanilla Honey Caramel Greek Frozen Yogurt</td><td>190</td></tr>",
                            "</table>"
                        ]
                    }
                }
            ],
            "execution_count": 10
        },
        {
            "cell_type": "code",
            "source": [
                "select * from benjerry \r\n",
                "    where flavor ilike '%chocolate%' or flavor ilike '%strawberry%';"
            ],
            "metadata": {
                "azdata_cell_guid": "170157dd-f5a5-408e-ab53-59aa5734e362"
            },
            "outputs": [
                {
                    "output_type": "display_data",
                    "data": {
                        "text/html": "(10 row(s) affected)"
                    },
                    "metadata": {}
                },
                {
                    "output_type": "display_data",
                    "data": {
                        "text/html": "Total execution time: 00:00:00.048"
                    },
                    "metadata": {}
                },
                {
                    "output_type": "execute_result",
                    "metadata": {},
                    "execution_count": 11,
                    "data": {
                        "application/vnd.dataresource+json": {
                            "schema": {
                                "fields": [
                                    {
                                        "name": "flavor"
                                    },
                                    {
                                        "name": "calories"
                                    },
                                    {
                                        "name": "fat_g"
                                    },
                                    {
                                        "name": "cholesterol_mg"
                                    },
                                    {
                                        "name": "carbs_g"
                                    },
                                    {
                                        "name": "sugars_g"
                                    },
                                    {
                                        "name": "protein_g"
                                    },
                                    {
                                        "name": "category"
                                    },
                                    {
                                        "name": "size_cup"
                                    }
                                ]
                            },
                            "data": [
                                {
                                    "0": "Chocolate",
                                    "1": "250",
                                    "2": "14",
                                    "3": "40",
                                    "4": "25",
                                    "5": "21",
                                    "6": "4",
                                    "7": "Ice Cream",
                                    "8": "0.5"
                                },
                                {
                                    "0": "Chocolate Chip Cookie Dough",
                                    "1": "270",
                                    "2": "14",
                                    "3": "65",
                                    "4": "33",
                                    "5": "25",
                                    "6": "4",
                                    "7": "Ice Cream",
                                    "8": "0.5"
                                },
                                {
                                    "0": "Chocolate Fudge Brownie",
                                    "1": "260",
                                    "2": "12",
                                    "3": "40",
                                    "4": "34",
                                    "5": "27",
                                    "6": "4",
                                    "7": "Ice Cream",
                                    "8": "0.5"
                                },
                                {
                                    "0": "Chocolate Nougat Crunch",
                                    "1": "260",
                                    "2": "14",
                                    "3": "60",
                                    "4": "30",
                                    "5": "30",
                                    "6": "4",
                                    "7": "Ice Cream",
                                    "8": "0.5"
                                },
                                {
                                    "0": "Chocolate Peppermint Crunch",
                                    "1": "290",
                                    "2": "16",
                                    "3": "45",
                                    "4": "33",
                                    "5": "28",
                                    "6": "4",
                                    "7": "Ice Cream",
                                    "8": "0.5"
                                },
                                {
                                    "0": "Chocolate Therapy",
                                    "1": "240",
                                    "2": "13",
                                    "3": "45",
                                    "4": "27",
                                    "5": "21",
                                    "6": "4",
                                    "7": "Ice Cream",
                                    "8": "0.5"
                                },
                                {
                                    "0": "Mint Chocolate Cookie",
                                    "1": "260",
                                    "2": "14",
                                    "3": "65",
                                    "4": "28",
                                    "5": "22",
                                    "6": "4",
                                    "7": "Ice Cream",
                                    "8": "0.5"
                                },
                                {
                                    "0": "Strawberry Cheesecake",
                                    "1": "250",
                                    "2": "15",
                                    "3": "60",
                                    "4": "26",
                                    "5": "22",
                                    "6": "3",
                                    "7": "Ice Cream",
                                    "8": "0.5"
                                },
                                {
                                    "0": "Chocolate Fudge Brownie Fro Yo",
                                    "1": "180",
                                    "2": "2",
                                    "3": "15",
                                    "4": "35",
                                    "5": "25",
                                    "6": "5",
                                    "7": "Ice Cream",
                                    "8": "0.5"
                                },
                                {
                                    "0": "Strawberry Shortcake Greek Frozen Yogurt",
                                    "1": "180",
                                    "2": "6",
                                    "3": "35",
                                    "4": "28",
                                    "5": "21",
                                    "6": "6",
                                    "7": "Ice Cream",
                                    "8": "0.5"
                                }
                            ]
                        },
                        "text/html": [
                            "<table>",
                            "<tr><th>flavor</th><th>calories</th><th>fat_g</th><th>cholesterol_mg</th><th>carbs_g</th><th>sugars_g</th><th>protein_g</th><th>category</th><th>size_cup</th></tr>",
                            "<tr><td>Chocolate</td><td>250</td><td>14</td><td>40</td><td>25</td><td>21</td><td>4</td><td>Ice Cream</td><td>0.5</td></tr>",
                            "<tr><td>Chocolate Chip Cookie Dough</td><td>270</td><td>14</td><td>65</td><td>33</td><td>25</td><td>4</td><td>Ice Cream</td><td>0.5</td></tr>",
                            "<tr><td>Chocolate Fudge Brownie</td><td>260</td><td>12</td><td>40</td><td>34</td><td>27</td><td>4</td><td>Ice Cream</td><td>0.5</td></tr>",
                            "<tr><td>Chocolate Nougat Crunch</td><td>260</td><td>14</td><td>60</td><td>30</td><td>30</td><td>4</td><td>Ice Cream</td><td>0.5</td></tr>",
                            "<tr><td>Chocolate Peppermint Crunch</td><td>290</td><td>16</td><td>45</td><td>33</td><td>28</td><td>4</td><td>Ice Cream</td><td>0.5</td></tr>",
                            "<tr><td>Chocolate Therapy</td><td>240</td><td>13</td><td>45</td><td>27</td><td>21</td><td>4</td><td>Ice Cream</td><td>0.5</td></tr>",
                            "<tr><td>Mint Chocolate Cookie</td><td>260</td><td>14</td><td>65</td><td>28</td><td>22</td><td>4</td><td>Ice Cream</td><td>0.5</td></tr>",
                            "<tr><td>Strawberry Cheesecake</td><td>250</td><td>15</td><td>60</td><td>26</td><td>22</td><td>3</td><td>Ice Cream</td><td>0.5</td></tr>",
                            "<tr><td>Chocolate Fudge Brownie Fro Yo</td><td>180</td><td>2</td><td>15</td><td>35</td><td>25</td><td>5</td><td>Ice Cream</td><td>0.5</td></tr>",
                            "<tr><td>Strawberry Shortcake Greek Frozen Yogurt</td><td>180</td><td>6</td><td>35</td><td>28</td><td>21</td><td>6</td><td>Ice Cream</td><td>0.5</td></tr>",
                            "</table>"
                        ]
                    }
                }
            ],
            "execution_count": 11
        },
        {
            "cell_type": "code",
            "source": [
                "create view vw_basic_flavor as\r\n",
                "    select * from benjerry \r\n",
                "    where flavor ilike '%chocolate%' or flavor ilike '%strawberry%';"
            ],
            "metadata": {
                "azdata_cell_guid": "4aa86c82-87e5-4e41-8523-b2bdd78805a4"
            },
            "outputs": [
                {
                    "output_type": "display_data",
                    "data": {
                        "text/html": "Commands completed successfully"
                    },
                    "metadata": {}
                },
                {
                    "output_type": "display_data",
                    "data": {
                        "text/html": "Total execution time: 00:00:00.057"
                    },
                    "metadata": {}
                }
            ],
            "execution_count": 12
        },
        {
            "cell_type": "code",
            "source": [
                "select * from vw_basic_flavor;"
            ],
            "metadata": {
                "azdata_cell_guid": "72dfb5f9-69c4-417b-b6c4-75917f9600eb"
            },
            "outputs": [
                {
                    "output_type": "display_data",
                    "data": {
                        "text/html": "(10 row(s) affected)"
                    },
                    "metadata": {}
                },
                {
                    "output_type": "display_data",
                    "data": {
                        "text/html": "Total execution time: 00:00:00.007"
                    },
                    "metadata": {}
                },
                {
                    "output_type": "execute_result",
                    "metadata": {},
                    "execution_count": 13,
                    "data": {
                        "application/vnd.dataresource+json": {
                            "schema": {
                                "fields": [
                                    {
                                        "name": "flavor"
                                    },
                                    {
                                        "name": "calories"
                                    },
                                    {
                                        "name": "fat_g"
                                    },
                                    {
                                        "name": "cholesterol_mg"
                                    },
                                    {
                                        "name": "carbs_g"
                                    },
                                    {
                                        "name": "sugars_g"
                                    },
                                    {
                                        "name": "protein_g"
                                    },
                                    {
                                        "name": "category"
                                    },
                                    {
                                        "name": "size_cup"
                                    }
                                ]
                            },
                            "data": [
                                {
                                    "0": "Chocolate",
                                    "1": "250",
                                    "2": "14",
                                    "3": "40",
                                    "4": "25",
                                    "5": "21",
                                    "6": "4",
                                    "7": "Ice Cream",
                                    "8": "0.5"
                                },
                                {
                                    "0": "Chocolate Chip Cookie Dough",
                                    "1": "270",
                                    "2": "14",
                                    "3": "65",
                                    "4": "33",
                                    "5": "25",
                                    "6": "4",
                                    "7": "Ice Cream",
                                    "8": "0.5"
                                },
                                {
                                    "0": "Chocolate Fudge Brownie",
                                    "1": "260",
                                    "2": "12",
                                    "3": "40",
                                    "4": "34",
                                    "5": "27",
                                    "6": "4",
                                    "7": "Ice Cream",
                                    "8": "0.5"
                                },
                                {
                                    "0": "Chocolate Nougat Crunch",
                                    "1": "260",
                                    "2": "14",
                                    "3": "60",
                                    "4": "30",
                                    "5": "30",
                                    "6": "4",
                                    "7": "Ice Cream",
                                    "8": "0.5"
                                },
                                {
                                    "0": "Chocolate Peppermint Crunch",
                                    "1": "290",
                                    "2": "16",
                                    "3": "45",
                                    "4": "33",
                                    "5": "28",
                                    "6": "4",
                                    "7": "Ice Cream",
                                    "8": "0.5"
                                },
                                {
                                    "0": "Chocolate Therapy",
                                    "1": "240",
                                    "2": "13",
                                    "3": "45",
                                    "4": "27",
                                    "5": "21",
                                    "6": "4",
                                    "7": "Ice Cream",
                                    "8": "0.5"
                                },
                                {
                                    "0": "Mint Chocolate Cookie",
                                    "1": "260",
                                    "2": "14",
                                    "3": "65",
                                    "4": "28",
                                    "5": "22",
                                    "6": "4",
                                    "7": "Ice Cream",
                                    "8": "0.5"
                                },
                                {
                                    "0": "Strawberry Cheesecake",
                                    "1": "250",
                                    "2": "15",
                                    "3": "60",
                                    "4": "26",
                                    "5": "22",
                                    "6": "3",
                                    "7": "Ice Cream",
                                    "8": "0.5"
                                },
                                {
                                    "0": "Chocolate Fudge Brownie Fro Yo",
                                    "1": "180",
                                    "2": "2",
                                    "3": "15",
                                    "4": "35",
                                    "5": "25",
                                    "6": "5",
                                    "7": "Ice Cream",
                                    "8": "0.5"
                                },
                                {
                                    "0": "Strawberry Shortcake Greek Frozen Yogurt",
                                    "1": "180",
                                    "2": "6",
                                    "3": "35",
                                    "4": "28",
                                    "5": "21",
                                    "6": "6",
                                    "7": "Ice Cream",
                                    "8": "0.5"
                                }
                            ]
                        },
                        "text/html": [
                            "<table>",
                            "<tr><th>flavor</th><th>calories</th><th>fat_g</th><th>cholesterol_mg</th><th>carbs_g</th><th>sugars_g</th><th>protein_g</th><th>category</th><th>size_cup</th></tr>",
                            "<tr><td>Chocolate</td><td>250</td><td>14</td><td>40</td><td>25</td><td>21</td><td>4</td><td>Ice Cream</td><td>0.5</td></tr>",
                            "<tr><td>Chocolate Chip Cookie Dough</td><td>270</td><td>14</td><td>65</td><td>33</td><td>25</td><td>4</td><td>Ice Cream</td><td>0.5</td></tr>",
                            "<tr><td>Chocolate Fudge Brownie</td><td>260</td><td>12</td><td>40</td><td>34</td><td>27</td><td>4</td><td>Ice Cream</td><td>0.5</td></tr>",
                            "<tr><td>Chocolate Nougat Crunch</td><td>260</td><td>14</td><td>60</td><td>30</td><td>30</td><td>4</td><td>Ice Cream</td><td>0.5</td></tr>",
                            "<tr><td>Chocolate Peppermint Crunch</td><td>290</td><td>16</td><td>45</td><td>33</td><td>28</td><td>4</td><td>Ice Cream</td><td>0.5</td></tr>",
                            "<tr><td>Chocolate Therapy</td><td>240</td><td>13</td><td>45</td><td>27</td><td>21</td><td>4</td><td>Ice Cream</td><td>0.5</td></tr>",
                            "<tr><td>Mint Chocolate Cookie</td><td>260</td><td>14</td><td>65</td><td>28</td><td>22</td><td>4</td><td>Ice Cream</td><td>0.5</td></tr>",
                            "<tr><td>Strawberry Cheesecake</td><td>250</td><td>15</td><td>60</td><td>26</td><td>22</td><td>3</td><td>Ice Cream</td><td>0.5</td></tr>",
                            "<tr><td>Chocolate Fudge Brownie Fro Yo</td><td>180</td><td>2</td><td>15</td><td>35</td><td>25</td><td>5</td><td>Ice Cream</td><td>0.5</td></tr>",
                            "<tr><td>Strawberry Shortcake Greek Frozen Yogurt</td><td>180</td><td>6</td><td>35</td><td>28</td><td>21</td><td>6</td><td>Ice Cream</td><td>0.5</td></tr>",
                            "</table>"
                        ]
                    }
                }
            ],
            "execution_count": 13
        },
        {
            "cell_type": "code",
            "source": [
                "select flavor, calories \r\n",
                "    from vw_basic_flavor\r\n",
                "    where calories > 200; "
            ],
            "metadata": {
                "azdata_cell_guid": "e4118030-276b-4b65-b20a-5497f5671c73"
            },
            "outputs": [
                {
                    "output_type": "display_data",
                    "data": {
                        "text/html": "(8 row(s) affected)"
                    },
                    "metadata": {}
                },
                {
                    "output_type": "display_data",
                    "data": {
                        "text/html": "Total execution time: 00:00:00.006"
                    },
                    "metadata": {}
                },
                {
                    "output_type": "execute_result",
                    "metadata": {},
                    "execution_count": 15,
                    "data": {
                        "application/vnd.dataresource+json": {
                            "schema": {
                                "fields": [
                                    {
                                        "name": "flavor"
                                    },
                                    {
                                        "name": "calories"
                                    }
                                ]
                            },
                            "data": [
                                {
                                    "0": "Chocolate",
                                    "1": "250"
                                },
                                {
                                    "0": "Chocolate Chip Cookie Dough",
                                    "1": "270"
                                },
                                {
                                    "0": "Chocolate Fudge Brownie",
                                    "1": "260"
                                },
                                {
                                    "0": "Chocolate Nougat Crunch",
                                    "1": "260"
                                },
                                {
                                    "0": "Chocolate Peppermint Crunch",
                                    "1": "290"
                                },
                                {
                                    "0": "Chocolate Therapy",
                                    "1": "240"
                                },
                                {
                                    "0": "Mint Chocolate Cookie",
                                    "1": "260"
                                },
                                {
                                    "0": "Strawberry Cheesecake",
                                    "1": "250"
                                }
                            ]
                        },
                        "text/html": [
                            "<table>",
                            "<tr><th>flavor</th><th>calories</th></tr>",
                            "<tr><td>Chocolate</td><td>250</td></tr>",
                            "<tr><td>Chocolate Chip Cookie Dough</td><td>270</td></tr>",
                            "<tr><td>Chocolate Fudge Brownie</td><td>260</td></tr>",
                            "<tr><td>Chocolate Nougat Crunch</td><td>260</td></tr>",
                            "<tr><td>Chocolate Peppermint Crunch</td><td>290</td></tr>",
                            "<tr><td>Chocolate Therapy</td><td>240</td></tr>",
                            "<tr><td>Mint Chocolate Cookie</td><td>260</td></tr>",
                            "<tr><td>Strawberry Cheesecake</td><td>250</td></tr>",
                            "</table>"
                        ]
                    }
                }
            ],
            "execution_count": 15
        },
        {
            "cell_type": "code",
            "source": [
                "-- เพิ่มเงื่อนไขใช้ or replace\r\n",
                "create or replace view vw_basic_flavor as\r\n",
                "    select * from benjerry \r\n",
                "    where flavor ilike '%chocolate%' or flavor ilike '%strawberry%' or flavor ilike '%Vanilla%';"
            ],
            "metadata": {
                "azdata_cell_guid": "ae66d2f4-3a4d-4a26-80ff-5e1f7728e0d4"
            },
            "outputs": [
                {
                    "output_type": "display_data",
                    "data": {
                        "text/html": "Commands completed successfully"
                    },
                    "metadata": {}
                },
                {
                    "output_type": "display_data",
                    "data": {
                        "text/html": "Total execution time: 00:00:00.076"
                    },
                    "metadata": {}
                }
            ],
            "execution_count": 16
        },
        {
            "cell_type": "code",
            "source": [
                "SELECT * from vw_basic_flavor;"
            ],
            "metadata": {
                "azdata_cell_guid": "2695308a-33ce-4a6b-80a5-b47930640c70"
            },
            "outputs": [
                {
                    "output_type": "display_data",
                    "data": {
                        "text/html": "(15 row(s) affected)"
                    },
                    "metadata": {}
                },
                {
                    "output_type": "display_data",
                    "data": {
                        "text/html": "Total execution time: 00:00:00.008"
                    },
                    "metadata": {}
                },
                {
                    "output_type": "execute_result",
                    "metadata": {},
                    "execution_count": 18,
                    "data": {
                        "application/vnd.dataresource+json": {
                            "schema": {
                                "fields": [
                                    {
                                        "name": "flavor"
                                    },
                                    {
                                        "name": "calories"
                                    },
                                    {
                                        "name": "fat_g"
                                    },
                                    {
                                        "name": "cholesterol_mg"
                                    },
                                    {
                                        "name": "carbs_g"
                                    },
                                    {
                                        "name": "sugars_g"
                                    },
                                    {
                                        "name": "protein_g"
                                    },
                                    {
                                        "name": "category"
                                    },
                                    {
                                        "name": "size_cup"
                                    }
                                ]
                            },
                            "data": [
                                {
                                    "0": "Chocolate",
                                    "1": "250",
                                    "2": "14",
                                    "3": "40",
                                    "4": "25",
                                    "5": "21",
                                    "6": "4",
                                    "7": "Ice Cream",
                                    "8": "0.5"
                                },
                                {
                                    "0": "Chocolate Chip Cookie Dough",
                                    "1": "270",
                                    "2": "14",
                                    "3": "65",
                                    "4": "33",
                                    "5": "25",
                                    "6": "4",
                                    "7": "Ice Cream",
                                    "8": "0.5"
                                },
                                {
                                    "0": "Chocolate Fudge Brownie",
                                    "1": "260",
                                    "2": "12",
                                    "3": "40",
                                    "4": "34",
                                    "5": "27",
                                    "6": "4",
                                    "7": "Ice Cream",
                                    "8": "0.5"
                                },
                                {
                                    "0": "Chocolate Nougat Crunch",
                                    "1": "260",
                                    "2": "14",
                                    "3": "60",
                                    "4": "30",
                                    "5": "30",
                                    "6": "4",
                                    "7": "Ice Cream",
                                    "8": "0.5"
                                },
                                {
                                    "0": "Chocolate Peppermint Crunch",
                                    "1": "290",
                                    "2": "16",
                                    "3": "45",
                                    "4": "33",
                                    "5": "28",
                                    "6": "4",
                                    "7": "Ice Cream",
                                    "8": "0.5"
                                },
                                {
                                    "0": "Chocolate Therapy",
                                    "1": "240",
                                    "2": "13",
                                    "3": "45",
                                    "4": "27",
                                    "5": "21",
                                    "6": "4",
                                    "7": "Ice Cream",
                                    "8": "0.5"
                                },
                                {
                                    "0": "Mint Chocolate Cookie",
                                    "1": "260",
                                    "2": "14",
                                    "3": "65",
                                    "4": "28",
                                    "5": "22",
                                    "6": "4",
                                    "7": "Ice Cream",
                                    "8": "0.5"
                                },
                                {
                                    "0": "Strawberry Cheesecake",
                                    "1": "250",
                                    "2": "15",
                                    "3": "60",
                                    "4": "26",
                                    "5": "22",
                                    "6": "3",
                                    "7": "Ice Cream",
                                    "8": "0.5"
                                },
                                {
                                    "0": "Vanilla",
                                    "1": "230",
                                    "2": "14",
                                    "3": "75",
                                    "4": "23",
                                    "5": "20",
                                    "6": "4",
                                    "7": "Ice Cream",
                                    "8": "0.5"
                                },
                                {
                                    "0": "Vanilla Caramel Fudge",
                                    "1": "280",
                                    "2": "14",
                                    "3": "70",
                                    "4": "34",
                                    "5": "27",
                                    "6": "4",
                                    "7": "Ice Cream",
                                    "8": "0.5"
                                },
                                {
                                    "0": "Vanilla Heath Bar Crunch",
                                    "1": "280",
                                    "2": "17",
                                    "3": "65",
                                    "4": "30",
                                    "5": "27",
                                    "6": "4",
                                    "7": "Ice Cream",
                                    "8": "0.5"
                                },
                                {
                                    "0": "Chocolate Fudge Brownie Fro Yo",
                                    "1": "180",
                                    "2": "2",
                                    "3": "15",
                                    "4": "35",
                                    "5": "25",
                                    "6": "5",
                                    "7": "Ice Cream",
                                    "8": "0.5"
                                },
                                {
                                    "0": "Blueberry Vanilla Graham Greek Frozen Yogurt",
                                    "1": "200",
                                    "2": "7",
                                    "3": "25",
                                    "4": "29",
                                    "5": "23",
                                    "6": "6",
                                    "7": "Ice Cream",
                                    "8": "0.5"
                                },
                                {
                                    "0": "Strawberry Shortcake Greek Frozen Yogurt",
                                    "1": "180",
                                    "2": "6",
                                    "3": "35",
                                    "4": "28",
                                    "5": "21",
                                    "6": "6",
                                    "7": "Ice Cream",
                                    "8": "0.5"
                                },
                                {
                                    "0": "Vanilla Honey Caramel Greek Frozen Yogurt",
                                    "1": "190",
                                    "2": "5",
                                    "3": "35",
                                    "4": "30",
                                    "5": "22",
                                    "6": "6",
                                    "7": "Ice Cream",
                                    "8": "0.5"
                                }
                            ]
                        },
                        "text/html": [
                            "<table>",
                            "<tr><th>flavor</th><th>calories</th><th>fat_g</th><th>cholesterol_mg</th><th>carbs_g</th><th>sugars_g</th><th>protein_g</th><th>category</th><th>size_cup</th></tr>",
                            "<tr><td>Chocolate</td><td>250</td><td>14</td><td>40</td><td>25</td><td>21</td><td>4</td><td>Ice Cream</td><td>0.5</td></tr>",
                            "<tr><td>Chocolate Chip Cookie Dough</td><td>270</td><td>14</td><td>65</td><td>33</td><td>25</td><td>4</td><td>Ice Cream</td><td>0.5</td></tr>",
                            "<tr><td>Chocolate Fudge Brownie</td><td>260</td><td>12</td><td>40</td><td>34</td><td>27</td><td>4</td><td>Ice Cream</td><td>0.5</td></tr>",
                            "<tr><td>Chocolate Nougat Crunch</td><td>260</td><td>14</td><td>60</td><td>30</td><td>30</td><td>4</td><td>Ice Cream</td><td>0.5</td></tr>",
                            "<tr><td>Chocolate Peppermint Crunch</td><td>290</td><td>16</td><td>45</td><td>33</td><td>28</td><td>4</td><td>Ice Cream</td><td>0.5</td></tr>",
                            "<tr><td>Chocolate Therapy</td><td>240</td><td>13</td><td>45</td><td>27</td><td>21</td><td>4</td><td>Ice Cream</td><td>0.5</td></tr>",
                            "<tr><td>Mint Chocolate Cookie</td><td>260</td><td>14</td><td>65</td><td>28</td><td>22</td><td>4</td><td>Ice Cream</td><td>0.5</td></tr>",
                            "<tr><td>Strawberry Cheesecake</td><td>250</td><td>15</td><td>60</td><td>26</td><td>22</td><td>3</td><td>Ice Cream</td><td>0.5</td></tr>",
                            "<tr><td>Vanilla</td><td>230</td><td>14</td><td>75</td><td>23</td><td>20</td><td>4</td><td>Ice Cream</td><td>0.5</td></tr>",
                            "<tr><td>Vanilla Caramel Fudge</td><td>280</td><td>14</td><td>70</td><td>34</td><td>27</td><td>4</td><td>Ice Cream</td><td>0.5</td></tr>",
                            "<tr><td>Vanilla Heath Bar Crunch</td><td>280</td><td>17</td><td>65</td><td>30</td><td>27</td><td>4</td><td>Ice Cream</td><td>0.5</td></tr>",
                            "<tr><td>Chocolate Fudge Brownie Fro Yo</td><td>180</td><td>2</td><td>15</td><td>35</td><td>25</td><td>5</td><td>Ice Cream</td><td>0.5</td></tr>",
                            "<tr><td>Blueberry Vanilla Graham Greek Frozen Yogurt</td><td>200</td><td>7</td><td>25</td><td>29</td><td>23</td><td>6</td><td>Ice Cream</td><td>0.5</td></tr>",
                            "<tr><td>Strawberry Shortcake Greek Frozen Yogurt</td><td>180</td><td>6</td><td>35</td><td>28</td><td>21</td><td>6</td><td>Ice Cream</td><td>0.5</td></tr>",
                            "<tr><td>Vanilla Honey Caramel Greek Frozen Yogurt</td><td>190</td><td>5</td><td>35</td><td>30</td><td>22</td><td>6</td><td>Ice Cream</td><td>0.5</td></tr>",
                            "</table>"
                        ]
                    }
                }
            ],
            "execution_count": 18
        },
        {
            "cell_type": "code",
            "source": [
                "SELECT *, \r\n",
                "    case \r\n",
                "        when calories >= 280 then 'rich'\r\n",
                "        when calories >= 200 then 'medium'\r\n",
                "        else 'light'\r\n",
                "    end as calories_group\r\n",
                "    from benjerry;"
            ],
            "metadata": {
                "azdata_cell_guid": "e8a07ce7-4149-482a-a5fa-19368ad25493"
            },
            "outputs": [
                {
                    "output_type": "display_data",
                    "data": {
                        "text/html": "(54 row(s) affected)"
                    },
                    "metadata": {}
                },
                {
                    "output_type": "display_data",
                    "data": {
                        "text/html": "Total execution time: 00:00:00.008"
                    },
                    "metadata": {}
                },
                {
                    "output_type": "execute_result",
                    "metadata": {},
                    "execution_count": 19,
                    "data": {
                        "application/vnd.dataresource+json": {
                            "schema": {
                                "fields": [
                                    {
                                        "name": "flavor"
                                    },
                                    {
                                        "name": "calories"
                                    },
                                    {
                                        "name": "fat_g"
                                    },
                                    {
                                        "name": "cholesterol_mg"
                                    },
                                    {
                                        "name": "carbs_g"
                                    },
                                    {
                                        "name": "sugars_g"
                                    },
                                    {
                                        "name": "protein_g"
                                    },
                                    {
                                        "name": "category"
                                    },
                                    {
                                        "name": "size_cup"
                                    },
                                    {
                                        "name": "calories_group"
                                    }
                                ]
                            },
                            "data": [
                                {
                                    "0": "Americone Dream",
                                    "1": "270",
                                    "2": "15",
                                    "3": "65",
                                    "4": "30",
                                    "5": "24",
                                    "6": "3",
                                    "7": "Ice Cream",
                                    "8": "0.5",
                                    "9": "medium"
                                },
                                {
                                    "0": "Banana Split",
                                    "1": "250",
                                    "2": "15",
                                    "3": "65",
                                    "4": "27",
                                    "5": "25",
                                    "6": "3",
                                    "7": "Ice Cream",
                                    "8": "0.5",
                                    "9": "medium"
                                },
                                {
                                    "0": "Boston Cream Pie",
                                    "1": "250",
                                    "2": "13",
                                    "3": "90",
                                    "4": "29",
                                    "5": "26",
                                    "6": "3",
                                    "7": "Ice Cream",
                                    "8": "0.5",
                                    "9": "medium"
                                },
                                {
                                    "0": "Cake Batter",
                                    "1": "260",
                                    "2": "16",
                                    "3": "65",
                                    "4": "27",
                                    "5": "23",
                                    "6": "4",
                                    "7": "Ice Cream",
                                    "8": "0.5",
                                    "9": "medium"
                                },
                                {
                                    "0": "Cannoli",
                                    "1": "280",
                                    "2": "16",
                                    "3": "65",
                                    "4": "28",
                                    "5": "23",
                                    "6": "4",
                                    "7": "Ice Cream",
                                    "8": "0.5",
                                    "9": "rich"
                                },
                                {
                                    "0": "Cheesecake Brownie",
                                    "1": "250",
                                    "2": "14",
                                    "3": "70",
                                    "4": "27",
                                    "5": "24",
                                    "6": "3",
                                    "7": "Ice Cream",
                                    "8": "0.5",
                                    "9": "medium"
                                },
                                {
                                    "0": "Cherry Garcia",
                                    "1": "240",
                                    "2": "13",
                                    "3": "60",
                                    "4": "28",
                                    "5": "23",
                                    "6": "4",
                                    "7": "Ice Cream",
                                    "8": "0.5",
                                    "9": "medium"
                                },
                                {
                                    "0": "Chocolate",
                                    "1": "250",
                                    "2": "14",
                                    "3": "40",
                                    "4": "25",
                                    "5": "21",
                                    "6": "4",
                                    "7": "Ice Cream",
                                    "8": "0.5",
                                    "9": "medium"
                                },
                                {
                                    "0": "Chocolate Chip Cookie Dough",
                                    "1": "270",
                                    "2": "14",
                                    "3": "65",
                                    "4": "33",
                                    "5": "25",
                                    "6": "4",
                                    "7": "Ice Cream",
                                    "8": "0.5",
                                    "9": "medium"
                                },
                                {
                                    "0": "Chocolate Fudge Brownie",
                                    "1": "260",
                                    "2": "12",
                                    "3": "40",
                                    "4": "34",
                                    "5": "27",
                                    "6": "4",
                                    "7": "Ice Cream",
                                    "8": "0.5",
                                    "9": "medium"
                                },
                                {
                                    "0": "Chocolate Nougat Crunch",
                                    "1": "260",
                                    "2": "14",
                                    "3": "60",
                                    "4": "30",
                                    "5": "30",
                                    "6": "4",
                                    "7": "Ice Cream",
                                    "8": "0.5",
                                    "9": "medium"
                                },
                                {
                                    "0": "Chocolate Peppermint Crunch",
                                    "1": "290",
                                    "2": "16",
                                    "3": "45",
                                    "4": "33",
                                    "5": "28",
                                    "6": "4",
                                    "7": "Ice Cream",
                                    "8": "0.5",
                                    "9": "rich"
                                },
                                {
                                    "0": "Chocolate Therapy",
                                    "1": "240",
                                    "2": "13",
                                    "3": "45",
                                    "4": "27",
                                    "5": "21",
                                    "6": "4",
                                    "7": "Ice Cream",
                                    "8": "0.5",
                                    "9": "medium"
                                },
                                {
                                    "0": "Chubby Hubby",
                                    "1": "340",
                                    "2": "20",
                                    "3": "55",
                                    "4": "33",
                                    "5": "25",
                                    "6": "7",
                                    "7": "Ice Cream",
                                    "8": "0.5",
                                    "9": "rich"
                                },
                                {
                                    "0": "Chunky Monkey",
                                    "1": "290",
                                    "2": "18",
                                    "3": "65",
                                    "4": "29",
                                    "5": "27",
                                    "6": "4",
                                    "7": "Ice Cream",
                                    "8": "0.5",
                                    "9": "rich"
                                },
                                {
                                    "0": "Cinnamon Buns",
                                    "1": "290",
                                    "2": "15",
                                    "3": "60",
                                    "4": "36",
                                    "5": "28",
                                    "6": "4",
                                    "7": "Ice Cream",
                                    "8": "0.5",
                                    "9": "rich"
                                },
                                {
                                    "0": "Coffee Caramel Buzz",
                                    "1": "280",
                                    "2": "14",
                                    "3": "60",
                                    "4": "33",
                                    "5": "25",
                                    "6": "4",
                                    "7": "Ice Cream",
                                    "8": "0.5",
                                    "9": "rich"
                                },
                                {
                                    "0": "Coffee Coffee Buzz Buzz Buzz",
                                    "1": "260",
                                    "2": "16",
                                    "3": "65",
                                    "4": "27",
                                    "5": "24",
                                    "6": "4",
                                    "7": "Ice Cream",
                                    "8": "0.5",
                                    "9": "medium"
                                },
                                {
                                    "0": "Coffee Heath Bar Crunch",
                                    "1": "280",
                                    "2": "16",
                                    "3": "60",
                                    "4": "30",
                                    "5": "27",
                                    "6": "4",
                                    "7": "Ice Cream",
                                    "8": "0.5",
                                    "9": "rich"
                                },
                                {
                                    "0": "Crème Brulée",
                                    "1": "280",
                                    "2": "16",
                                    "3": "90",
                                    "4": "31",
                                    "5": "28",
                                    "6": "3",
                                    "7": "Ice Cream",
                                    "8": "0.5",
                                    "9": "rich"
                                },
                                {
                                    "0": "Everything But the . . .",
                                    "1": "290",
                                    "2": "17",
                                    "3": "45",
                                    "4": "31",
                                    "5": "28",
                                    "6": "5",
                                    "7": "Ice Cream",
                                    "8": "0.5",
                                    "9": "rich"
                                },
                                {
                                    "0": "Half Baked",
                                    "1": "270",
                                    "2": "13",
                                    "3": "55",
                                    "4": "35",
                                    "5": "27",
                                    "6": "4",
                                    "7": "Ice Cream",
                                    "8": "0.5",
                                    "9": "medium"
                                },
                                {
                                    "0": "Imagine Whirled Peace",
                                    "1": "270",
                                    "2": "16",
                                    "3": "75",
                                    "4": "27",
                                    "5": "23",
                                    "6": "3",
                                    "7": "Ice Cream",
                                    "8": "0.5",
                                    "9": "medium"
                                },
                                {
                                    "0": "Karamel Sutra",
                                    "1": "260",
                                    "2": "14",
                                    "3": "55",
                                    "4": "31",
                                    "5": "26",
                                    "6": "3",
                                    "7": "Ice Cream",
                                    "8": "0.5",
                                    "9": "medium"
                                },
                                {
                                    "0": "Late Night Snack",
                                    "1": "270",
                                    "2": "15",
                                    "3": "60",
                                    "4": "31",
                                    "5": "21",
                                    "6": "4",
                                    "7": "Ice Cream",
                                    "8": "0.5",
                                    "9": "medium"
                                },
                                {
                                    "0": "Milk & Cookies",
                                    "1": "270",
                                    "2": "15",
                                    "3": "60",
                                    "4": "30",
                                    "5": "23",
                                    "6": "4",
                                    "7": "Ice Cream",
                                    "8": "0.5",
                                    "9": "medium"
                                },
                                {
                                    "0": "Mint Chocolate Cookie",
                                    "1": "260",
                                    "2": "14",
                                    "3": "65",
                                    "4": "28",
                                    "5": "22",
                                    "6": "4",
                                    "7": "Ice Cream",
                                    "8": "0.5",
                                    "9": "medium"
                                },
                                {
                                    "0": "Mud Pie",
                                    "1": "270",
                                    "2": "16",
                                    "3": "55",
                                    "4": "28",
                                    "5": "23",
                                    "6": "4",
                                    "7": "Ice Cream",
                                    "8": "0.5",
                                    "9": "medium"
                                },
                                {
                                    "0": "New York Super Fudge Chunk",
                                    "1": "300",
                                    "2": "20",
                                    "3": "50",
                                    "4": "29",
                                    "5": "25",
                                    "6": "4",
                                    "7": "Ice Cream",
                                    "8": "0.5",
                                    "9": "rich"
                                },
                                {
                                    "0": "Oatmeal Cookie Chunk",
                                    "1": "260",
                                    "2": "14",
                                    "3": "55",
                                    "4": "30",
                                    "5": "23",
                                    "6": "4",
                                    "7": "Ice Cream",
                                    "8": "0.5",
                                    "9": "medium"
                                },
                                {
                                    "0": "Peach Cobbler",
                                    "1": "220",
                                    "2": "11",
                                    "3": "50",
                                    "4": "28",
                                    "5": "26",
                                    "6": "3",
                                    "7": "Ice Cream",
                                    "8": "0.5",
                                    "9": "medium"
                                },
                                {
                                    "0": "Peanut Brittle",
                                    "1": "260",
                                    "2": "15",
                                    "3": "60",
                                    "4": "29",
                                    "5": "23",
                                    "6": "4",
                                    "7": "Ice Cream",
                                    "8": "0.5",
                                    "9": "medium"
                                },
                                {
                                    "0": "Peanut Butter Cup",
                                    "1": "360",
                                    "2": "26",
                                    "3": "70",
                                    "4": "27",
                                    "5": "24",
                                    "6": "6",
                                    "7": "Ice Cream",
                                    "8": "0.5",
                                    "9": "rich"
                                },
                                {
                                    "0": "Phish Food",
                                    "1": "280",
                                    "2": "13",
                                    "3": "35",
                                    "4": "39",
                                    "5": "28",
                                    "6": "4",
                                    "7": "Ice Cream",
                                    "8": "0.5",
                                    "9": "rich"
                                },
                                {
                                    "0": "Pistachio Pistachio",
                                    "1": "280",
                                    "2": "17",
                                    "3": "70",
                                    "4": "24",
                                    "5": "19",
                                    "6": "6",
                                    "7": "Ice Cream",
                                    "8": "0.5",
                                    "9": "rich"
                                },
                                {
                                    "0": "Red Velvet Cake",
                                    "1": "250",
                                    "2": "13",
                                    "3": "60",
                                    "4": "23",
                                    "5": "23",
                                    "6": "4",
                                    "7": "Ice Cream",
                                    "8": "0.5",
                                    "9": "medium"
                                },
                                {
                                    "0": "S'mores",
                                    "1": "280",
                                    "2": "16",
                                    "3": "35",
                                    "4": "35",
                                    "5": "26",
                                    "6": "3",
                                    "7": "Ice Cream",
                                    "8": "0.5",
                                    "9": "rich"
                                },
                                {
                                    "0": "Strawberry Cheesecake",
                                    "1": "250",
                                    "2": "15",
                                    "3": "60",
                                    "4": "26",
                                    "5": "22",
                                    "6": "3",
                                    "7": "Ice Cream",
                                    "8": "0.5",
                                    "9": "medium"
                                },
                                {
                                    "0": "Triple Caramel Chunk",
                                    "1": "280",
                                    "2": "16",
                                    "3": "65",
                                    "4": "32",
                                    "5": "25",
                                    "6": "3",
                                    "7": "Ice Cream",
                                    "8": "0.5",
                                    "9": "rich"
                                },
                                {
                                    "0": "Vanilla",
                                    "1": "230",
                                    "2": "14",
                                    "3": "75",
                                    "4": "23",
                                    "5": "20",
                                    "6": "4",
                                    "7": "Ice Cream",
                                    "8": "0.5",
                                    "9": "medium"
                                },
                                {
                                    "0": "Vanilla Caramel Fudge",
                                    "1": "280",
                                    "2": "14",
                                    "3": "70",
                                    "4": "34",
                                    "5": "27",
                                    "6": "4",
                                    "7": "Ice Cream",
                                    "8": "0.5",
                                    "9": "rich"
                                },
                                {
                                    "0": "Vanilla Heath Bar Crunch",
                                    "1": "280",
                                    "2": "17",
                                    "3": "65",
                                    "4": "30",
                                    "5": "27",
                                    "6": "4",
                                    "7": "Ice Cream",
                                    "8": "0.5",
                                    "9": "rich"
                                },
                                {
                                    "0": "What a Cluster",
                                    "1": "320",
                                    "2": "19",
                                    "3": "45",
                                    "4": "31",
                                    "5": "23",
                                    "6": "7",
                                    "7": "Ice Cream",
                                    "8": "0.5",
                                    "9": "rich"
                                },
                                {
                                    "0": "Cherry Garcia Fro Yo",
                                    "1": "200",
                                    "2": "3",
                                    "3": "20",
                                    "4": "37",
                                    "5": "27",
                                    "6": "8",
                                    "7": "Ice Cream",
                                    "8": "0.5",
                                    "9": "medium"
                                },
                                {
                                    "0": "Chocolate Fudge Brownie Fro Yo",
                                    "1": "180",
                                    "2": "2",
                                    "3": "15",
                                    "4": "35",
                                    "5": "25",
                                    "6": "5",
                                    "7": "Ice Cream",
                                    "8": "0.5",
                                    "9": "light"
                                },
                                {
                                    "0": "Half Baked Fro Yo",
                                    "1": "180",
                                    "2": "3",
                                    "3": "20",
                                    "4": "35",
                                    "5": "23",
                                    "6": "4",
                                    "7": "Ice Cream",
                                    "8": "0.5",
                                    "9": "light"
                                },
                                {
                                    "0": "Phish Food Fro Yo",
                                    "1": "240",
                                    "2": "6",
                                    "3": "20",
                                    "4": "41",
                                    "5": "27",
                                    "6": "4",
                                    "7": "Ice Cream",
                                    "8": "0.5",
                                    "9": "medium"
                                },
                                {
                                    "0": "Banana Peanut Butter Greek Frozen Yogurt",
                                    "1": "210",
                                    "2": "8",
                                    "3": "25",
                                    "4": "30",
                                    "5": "26",
                                    "6": "6",
                                    "7": "Ice Cream",
                                    "8": "0.5",
                                    "9": "medium"
                                },
                                {
                                    "0": "Blueberry Vanilla Graham Greek Frozen Yogurt",
                                    "1": "200",
                                    "2": "7",
                                    "3": "25",
                                    "4": "29",
                                    "5": "23",
                                    "6": "6",
                                    "7": "Ice Cream",
                                    "8": "0.5",
                                    "9": "medium"
                                },
                                {
                                    "0": "Liz Lemon Greek Frozen Yogurt",
                                    "1": "180",
                                    "2": "4",
                                    "3": "30",
                                    "4": "29",
                                    "5": "21",
                                    "6": "6",
                                    "7": "Ice Cream",
                                    "8": "0.5",
                                    "9": "light"
                                },
                                {
                                    "0": "Pineapple Passionfruit Greek Frozen Yogurt",
                                    "1": "180",
                                    "2": "4",
                                    "3": "65",
                                    "4": "30",
                                    "5": "26",
                                    "6": "5",
                                    "7": "Ice Cream",
                                    "8": "0.5",
                                    "9": "light"
                                },
                                {
                                    "0": "Raspberry Fudge Chunk Greek Frozen Yogurt",
                                    "1": "200",
                                    "2": "7",
                                    "3": "25",
                                    "4": "29",
                                    "5": "25",
                                    "6": "6",
                                    "7": "Ice Cream",
                                    "8": "0.5",
                                    "9": "medium"
                                },
                                {
                                    "0": "Strawberry Shortcake Greek Frozen Yogurt",
                                    "1": "180",
                                    "2": "6",
                                    "3": "35",
                                    "4": "28",
                                    "5": "21",
                                    "6": "6",
                                    "7": "Ice Cream",
                                    "8": "0.5",
                                    "9": "light"
                                },
                                {
                                    "0": "Vanilla Honey Caramel Greek Frozen Yogurt",
                                    "1": "190",
                                    "2": "5",
                                    "3": "35",
                                    "4": "30",
                                    "5": "22",
                                    "6": "6",
                                    "7": "Ice Cream",
                                    "8": "0.5",
                                    "9": "light"
                                }
                            ]
                        },
                        "text/html": [
                            "<table>",
                            "<tr><th>flavor</th><th>calories</th><th>fat_g</th><th>cholesterol_mg</th><th>carbs_g</th><th>sugars_g</th><th>protein_g</th><th>category</th><th>size_cup</th><th>calories_group</th></tr>",
                            "<tr><td>Americone Dream</td><td>270</td><td>15</td><td>65</td><td>30</td><td>24</td><td>3</td><td>Ice Cream</td><td>0.5</td><td>medium</td></tr>",
                            "<tr><td>Banana Split</td><td>250</td><td>15</td><td>65</td><td>27</td><td>25</td><td>3</td><td>Ice Cream</td><td>0.5</td><td>medium</td></tr>",
                            "<tr><td>Boston Cream Pie</td><td>250</td><td>13</td><td>90</td><td>29</td><td>26</td><td>3</td><td>Ice Cream</td><td>0.5</td><td>medium</td></tr>",
                            "<tr><td>Cake Batter</td><td>260</td><td>16</td><td>65</td><td>27</td><td>23</td><td>4</td><td>Ice Cream</td><td>0.5</td><td>medium</td></tr>",
                            "<tr><td>Cannoli</td><td>280</td><td>16</td><td>65</td><td>28</td><td>23</td><td>4</td><td>Ice Cream</td><td>0.5</td><td>rich</td></tr>",
                            "<tr><td>Cheesecake Brownie</td><td>250</td><td>14</td><td>70</td><td>27</td><td>24</td><td>3</td><td>Ice Cream</td><td>0.5</td><td>medium</td></tr>",
                            "<tr><td>Cherry Garcia</td><td>240</td><td>13</td><td>60</td><td>28</td><td>23</td><td>4</td><td>Ice Cream</td><td>0.5</td><td>medium</td></tr>",
                            "<tr><td>Chocolate</td><td>250</td><td>14</td><td>40</td><td>25</td><td>21</td><td>4</td><td>Ice Cream</td><td>0.5</td><td>medium</td></tr>",
                            "<tr><td>Chocolate Chip Cookie Dough</td><td>270</td><td>14</td><td>65</td><td>33</td><td>25</td><td>4</td><td>Ice Cream</td><td>0.5</td><td>medium</td></tr>",
                            "<tr><td>Chocolate Fudge Brownie</td><td>260</td><td>12</td><td>40</td><td>34</td><td>27</td><td>4</td><td>Ice Cream</td><td>0.5</td><td>medium</td></tr>",
                            "<tr><td>Chocolate Nougat Crunch</td><td>260</td><td>14</td><td>60</td><td>30</td><td>30</td><td>4</td><td>Ice Cream</td><td>0.5</td><td>medium</td></tr>",
                            "<tr><td>Chocolate Peppermint Crunch</td><td>290</td><td>16</td><td>45</td><td>33</td><td>28</td><td>4</td><td>Ice Cream</td><td>0.5</td><td>rich</td></tr>",
                            "<tr><td>Chocolate Therapy</td><td>240</td><td>13</td><td>45</td><td>27</td><td>21</td><td>4</td><td>Ice Cream</td><td>0.5</td><td>medium</td></tr>",
                            "<tr><td>Chubby Hubby</td><td>340</td><td>20</td><td>55</td><td>33</td><td>25</td><td>7</td><td>Ice Cream</td><td>0.5</td><td>rich</td></tr>",
                            "<tr><td>Chunky Monkey</td><td>290</td><td>18</td><td>65</td><td>29</td><td>27</td><td>4</td><td>Ice Cream</td><td>0.5</td><td>rich</td></tr>",
                            "<tr><td>Cinnamon Buns</td><td>290</td><td>15</td><td>60</td><td>36</td><td>28</td><td>4</td><td>Ice Cream</td><td>0.5</td><td>rich</td></tr>",
                            "<tr><td>Coffee Caramel Buzz</td><td>280</td><td>14</td><td>60</td><td>33</td><td>25</td><td>4</td><td>Ice Cream</td><td>0.5</td><td>rich</td></tr>",
                            "<tr><td>Coffee Coffee Buzz Buzz Buzz</td><td>260</td><td>16</td><td>65</td><td>27</td><td>24</td><td>4</td><td>Ice Cream</td><td>0.5</td><td>medium</td></tr>",
                            "<tr><td>Coffee Heath Bar Crunch</td><td>280</td><td>16</td><td>60</td><td>30</td><td>27</td><td>4</td><td>Ice Cream</td><td>0.5</td><td>rich</td></tr>",
                            "<tr><td>Crème Brulée</td><td>280</td><td>16</td><td>90</td><td>31</td><td>28</td><td>3</td><td>Ice Cream</td><td>0.5</td><td>rich</td></tr>",
                            "<tr><td>Everything But the . . .</td><td>290</td><td>17</td><td>45</td><td>31</td><td>28</td><td>5</td><td>Ice Cream</td><td>0.5</td><td>rich</td></tr>",
                            "<tr><td>Half Baked</td><td>270</td><td>13</td><td>55</td><td>35</td><td>27</td><td>4</td><td>Ice Cream</td><td>0.5</td><td>medium</td></tr>",
                            "<tr><td>Imagine Whirled Peace</td><td>270</td><td>16</td><td>75</td><td>27</td><td>23</td><td>3</td><td>Ice Cream</td><td>0.5</td><td>medium</td></tr>",
                            "<tr><td>Karamel Sutra</td><td>260</td><td>14</td><td>55</td><td>31</td><td>26</td><td>3</td><td>Ice Cream</td><td>0.5</td><td>medium</td></tr>",
                            "<tr><td>Late Night Snack</td><td>270</td><td>15</td><td>60</td><td>31</td><td>21</td><td>4</td><td>Ice Cream</td><td>0.5</td><td>medium</td></tr>",
                            "<tr><td>Milk &amp; Cookies</td><td>270</td><td>15</td><td>60</td><td>30</td><td>23</td><td>4</td><td>Ice Cream</td><td>0.5</td><td>medium</td></tr>",
                            "<tr><td>Mint Chocolate Cookie</td><td>260</td><td>14</td><td>65</td><td>28</td><td>22</td><td>4</td><td>Ice Cream</td><td>0.5</td><td>medium</td></tr>",
                            "<tr><td>Mud Pie</td><td>270</td><td>16</td><td>55</td><td>28</td><td>23</td><td>4</td><td>Ice Cream</td><td>0.5</td><td>medium</td></tr>",
                            "<tr><td>New York Super Fudge Chunk</td><td>300</td><td>20</td><td>50</td><td>29</td><td>25</td><td>4</td><td>Ice Cream</td><td>0.5</td><td>rich</td></tr>",
                            "<tr><td>Oatmeal Cookie Chunk</td><td>260</td><td>14</td><td>55</td><td>30</td><td>23</td><td>4</td><td>Ice Cream</td><td>0.5</td><td>medium</td></tr>",
                            "<tr><td>Peach Cobbler</td><td>220</td><td>11</td><td>50</td><td>28</td><td>26</td><td>3</td><td>Ice Cream</td><td>0.5</td><td>medium</td></tr>",
                            "<tr><td>Peanut Brittle</td><td>260</td><td>15</td><td>60</td><td>29</td><td>23</td><td>4</td><td>Ice Cream</td><td>0.5</td><td>medium</td></tr>",
                            "<tr><td>Peanut Butter Cup</td><td>360</td><td>26</td><td>70</td><td>27</td><td>24</td><td>6</td><td>Ice Cream</td><td>0.5</td><td>rich</td></tr>",
                            "<tr><td>Phish Food</td><td>280</td><td>13</td><td>35</td><td>39</td><td>28</td><td>4</td><td>Ice Cream</td><td>0.5</td><td>rich</td></tr>",
                            "<tr><td>Pistachio Pistachio</td><td>280</td><td>17</td><td>70</td><td>24</td><td>19</td><td>6</td><td>Ice Cream</td><td>0.5</td><td>rich</td></tr>",
                            "<tr><td>Red Velvet Cake</td><td>250</td><td>13</td><td>60</td><td>23</td><td>23</td><td>4</td><td>Ice Cream</td><td>0.5</td><td>medium</td></tr>",
                            "<tr><td>S'mores</td><td>280</td><td>16</td><td>35</td><td>35</td><td>26</td><td>3</td><td>Ice Cream</td><td>0.5</td><td>rich</td></tr>",
                            "<tr><td>Strawberry Cheesecake</td><td>250</td><td>15</td><td>60</td><td>26</td><td>22</td><td>3</td><td>Ice Cream</td><td>0.5</td><td>medium</td></tr>",
                            "<tr><td>Triple Caramel Chunk</td><td>280</td><td>16</td><td>65</td><td>32</td><td>25</td><td>3</td><td>Ice Cream</td><td>0.5</td><td>rich</td></tr>",
                            "<tr><td>Vanilla</td><td>230</td><td>14</td><td>75</td><td>23</td><td>20</td><td>4</td><td>Ice Cream</td><td>0.5</td><td>medium</td></tr>",
                            "<tr><td>Vanilla Caramel Fudge</td><td>280</td><td>14</td><td>70</td><td>34</td><td>27</td><td>4</td><td>Ice Cream</td><td>0.5</td><td>rich</td></tr>",
                            "<tr><td>Vanilla Heath Bar Crunch</td><td>280</td><td>17</td><td>65</td><td>30</td><td>27</td><td>4</td><td>Ice Cream</td><td>0.5</td><td>rich</td></tr>",
                            "<tr><td>What a Cluster</td><td>320</td><td>19</td><td>45</td><td>31</td><td>23</td><td>7</td><td>Ice Cream</td><td>0.5</td><td>rich</td></tr>",
                            "<tr><td>Cherry Garcia Fro Yo</td><td>200</td><td>3</td><td>20</td><td>37</td><td>27</td><td>8</td><td>Ice Cream</td><td>0.5</td><td>medium</td></tr>",
                            "<tr><td>Chocolate Fudge Brownie Fro Yo</td><td>180</td><td>2</td><td>15</td><td>35</td><td>25</td><td>5</td><td>Ice Cream</td><td>0.5</td><td>light</td></tr>",
                            "<tr><td>Half Baked Fro Yo</td><td>180</td><td>3</td><td>20</td><td>35</td><td>23</td><td>4</td><td>Ice Cream</td><td>0.5</td><td>light</td></tr>",
                            "<tr><td>Phish Food Fro Yo</td><td>240</td><td>6</td><td>20</td><td>41</td><td>27</td><td>4</td><td>Ice Cream</td><td>0.5</td><td>medium</td></tr>",
                            "<tr><td>Banana Peanut Butter Greek Frozen Yogurt</td><td>210</td><td>8</td><td>25</td><td>30</td><td>26</td><td>6</td><td>Ice Cream</td><td>0.5</td><td>medium</td></tr>",
                            "<tr><td>Blueberry Vanilla Graham Greek Frozen Yogurt</td><td>200</td><td>7</td><td>25</td><td>29</td><td>23</td><td>6</td><td>Ice Cream</td><td>0.5</td><td>medium</td></tr>",
                            "<tr><td>Liz Lemon Greek Frozen Yogurt</td><td>180</td><td>4</td><td>30</td><td>29</td><td>21</td><td>6</td><td>Ice Cream</td><td>0.5</td><td>light</td></tr>",
                            "<tr><td>Pineapple Passionfruit Greek Frozen Yogurt</td><td>180</td><td>4</td><td>65</td><td>30</td><td>26</td><td>5</td><td>Ice Cream</td><td>0.5</td><td>light</td></tr>",
                            "<tr><td>Raspberry Fudge Chunk Greek Frozen Yogurt</td><td>200</td><td>7</td><td>25</td><td>29</td><td>25</td><td>6</td><td>Ice Cream</td><td>0.5</td><td>medium</td></tr>",
                            "<tr><td>Strawberry Shortcake Greek Frozen Yogurt</td><td>180</td><td>6</td><td>35</td><td>28</td><td>21</td><td>6</td><td>Ice Cream</td><td>0.5</td><td>light</td></tr>",
                            "<tr><td>Vanilla Honey Caramel Greek Frozen Yogurt</td><td>190</td><td>5</td><td>35</td><td>30</td><td>22</td><td>6</td><td>Ice Cream</td><td>0.5</td><td>light</td></tr>",
                            "</table>"
                        ]
                    }
                }
            ],
            "execution_count": 19
        },
        {
            "cell_type": "code",
            "source": [
                "create view vm_calories as \r\n",
                "    SELECT *, \r\n",
                "    case \r\n",
                "        when calories >= 280 then 'rich'\r\n",
                "        when calories >= 200 then 'medium'\r\n",
                "        else 'light'\r\n",
                "    end as calories_group\r\n",
                "    from benjerry;"
            ],
            "metadata": {
                "azdata_cell_guid": "4f834402-2e0f-493e-92ee-d9fe7d147dd4"
            },
            "outputs": [
                {
                    "output_type": "display_data",
                    "data": {
                        "text/html": "Commands completed successfully"
                    },
                    "metadata": {}
                },
                {
                    "output_type": "display_data",
                    "data": {
                        "text/html": "Total execution time: 00:00:00.002"
                    },
                    "metadata": {}
                }
            ],
            "execution_count": 23
        },
        {
            "cell_type": "code",
            "source": [
                "select * from vm_calories where calories_group = 'light';"
            ],
            "metadata": {
                "azdata_cell_guid": "c1c2f0c9-f5bb-480e-ac66-963395cf9494"
            },
            "outputs": [
                {
                    "output_type": "display_data",
                    "data": {
                        "text/html": "(6 row(s) affected)"
                    },
                    "metadata": {}
                },
                {
                    "output_type": "display_data",
                    "data": {
                        "text/html": "Total execution time: 00:00:00.009"
                    },
                    "metadata": {}
                },
                {
                    "output_type": "execute_result",
                    "metadata": {},
                    "execution_count": 24,
                    "data": {
                        "application/vnd.dataresource+json": {
                            "schema": {
                                "fields": [
                                    {
                                        "name": "flavor"
                                    },
                                    {
                                        "name": "calories"
                                    },
                                    {
                                        "name": "fat_g"
                                    },
                                    {
                                        "name": "cholesterol_mg"
                                    },
                                    {
                                        "name": "carbs_g"
                                    },
                                    {
                                        "name": "sugars_g"
                                    },
                                    {
                                        "name": "protein_g"
                                    },
                                    {
                                        "name": "category"
                                    },
                                    {
                                        "name": "size_cup"
                                    },
                                    {
                                        "name": "calories_group"
                                    }
                                ]
                            },
                            "data": [
                                {
                                    "0": "Chocolate Fudge Brownie Fro Yo",
                                    "1": "180",
                                    "2": "2",
                                    "3": "15",
                                    "4": "35",
                                    "5": "25",
                                    "6": "5",
                                    "7": "Ice Cream",
                                    "8": "0.5",
                                    "9": "light"
                                },
                                {
                                    "0": "Half Baked Fro Yo",
                                    "1": "180",
                                    "2": "3",
                                    "3": "20",
                                    "4": "35",
                                    "5": "23",
                                    "6": "4",
                                    "7": "Ice Cream",
                                    "8": "0.5",
                                    "9": "light"
                                },
                                {
                                    "0": "Liz Lemon Greek Frozen Yogurt",
                                    "1": "180",
                                    "2": "4",
                                    "3": "30",
                                    "4": "29",
                                    "5": "21",
                                    "6": "6",
                                    "7": "Ice Cream",
                                    "8": "0.5",
                                    "9": "light"
                                },
                                {
                                    "0": "Pineapple Passionfruit Greek Frozen Yogurt",
                                    "1": "180",
                                    "2": "4",
                                    "3": "65",
                                    "4": "30",
                                    "5": "26",
                                    "6": "5",
                                    "7": "Ice Cream",
                                    "8": "0.5",
                                    "9": "light"
                                },
                                {
                                    "0": "Strawberry Shortcake Greek Frozen Yogurt",
                                    "1": "180",
                                    "2": "6",
                                    "3": "35",
                                    "4": "28",
                                    "5": "21",
                                    "6": "6",
                                    "7": "Ice Cream",
                                    "8": "0.5",
                                    "9": "light"
                                },
                                {
                                    "0": "Vanilla Honey Caramel Greek Frozen Yogurt",
                                    "1": "190",
                                    "2": "5",
                                    "3": "35",
                                    "4": "30",
                                    "5": "22",
                                    "6": "6",
                                    "7": "Ice Cream",
                                    "8": "0.5",
                                    "9": "light"
                                }
                            ]
                        },
                        "text/html": [
                            "<table>",
                            "<tr><th>flavor</th><th>calories</th><th>fat_g</th><th>cholesterol_mg</th><th>carbs_g</th><th>sugars_g</th><th>protein_g</th><th>category</th><th>size_cup</th><th>calories_group</th></tr>",
                            "<tr><td>Chocolate Fudge Brownie Fro Yo</td><td>180</td><td>2</td><td>15</td><td>35</td><td>25</td><td>5</td><td>Ice Cream</td><td>0.5</td><td>light</td></tr>",
                            "<tr><td>Half Baked Fro Yo</td><td>180</td><td>3</td><td>20</td><td>35</td><td>23</td><td>4</td><td>Ice Cream</td><td>0.5</td><td>light</td></tr>",
                            "<tr><td>Liz Lemon Greek Frozen Yogurt</td><td>180</td><td>4</td><td>30</td><td>29</td><td>21</td><td>6</td><td>Ice Cream</td><td>0.5</td><td>light</td></tr>",
                            "<tr><td>Pineapple Passionfruit Greek Frozen Yogurt</td><td>180</td><td>4</td><td>65</td><td>30</td><td>26</td><td>5</td><td>Ice Cream</td><td>0.5</td><td>light</td></tr>",
                            "<tr><td>Strawberry Shortcake Greek Frozen Yogurt</td><td>180</td><td>6</td><td>35</td><td>28</td><td>21</td><td>6</td><td>Ice Cream</td><td>0.5</td><td>light</td></tr>",
                            "<tr><td>Vanilla Honey Caramel Greek Frozen Yogurt</td><td>190</td><td>5</td><td>35</td><td>30</td><td>22</td><td>6</td><td>Ice Cream</td><td>0.5</td><td>light</td></tr>",
                            "</table>"
                        ]
                    }
                }
            ],
            "execution_count": 24
        },
        {
            "cell_type": "code",
            "source": [
                "select * from benjerry where flavor ilike '%yogurt%'"
            ],
            "metadata": {
                "azdata_cell_guid": "9ce26765-109b-4180-975c-6e2600e9d1a3"
            },
            "outputs": [
                {
                    "output_type": "display_data",
                    "data": {
                        "text/html": "(7 row(s) affected)"
                    },
                    "metadata": {}
                },
                {
                    "output_type": "display_data",
                    "data": {
                        "text/html": "Total execution time: 00:00:00.008"
                    },
                    "metadata": {}
                },
                {
                    "output_type": "execute_result",
                    "metadata": {},
                    "execution_count": 25,
                    "data": {
                        "application/vnd.dataresource+json": {
                            "schema": {
                                "fields": [
                                    {
                                        "name": "flavor"
                                    },
                                    {
                                        "name": "calories"
                                    },
                                    {
                                        "name": "fat_g"
                                    },
                                    {
                                        "name": "cholesterol_mg"
                                    },
                                    {
                                        "name": "carbs_g"
                                    },
                                    {
                                        "name": "sugars_g"
                                    },
                                    {
                                        "name": "protein_g"
                                    },
                                    {
                                        "name": "category"
                                    },
                                    {
                                        "name": "size_cup"
                                    }
                                ]
                            },
                            "data": [
                                {
                                    "0": "Banana Peanut Butter Greek Frozen Yogurt",
                                    "1": "210",
                                    "2": "8",
                                    "3": "25",
                                    "4": "30",
                                    "5": "26",
                                    "6": "6",
                                    "7": "Ice Cream",
                                    "8": "0.5"
                                },
                                {
                                    "0": "Blueberry Vanilla Graham Greek Frozen Yogurt",
                                    "1": "200",
                                    "2": "7",
                                    "3": "25",
                                    "4": "29",
                                    "5": "23",
                                    "6": "6",
                                    "7": "Ice Cream",
                                    "8": "0.5"
                                },
                                {
                                    "0": "Liz Lemon Greek Frozen Yogurt",
                                    "1": "180",
                                    "2": "4",
                                    "3": "30",
                                    "4": "29",
                                    "5": "21",
                                    "6": "6",
                                    "7": "Ice Cream",
                                    "8": "0.5"
                                },
                                {
                                    "0": "Pineapple Passionfruit Greek Frozen Yogurt",
                                    "1": "180",
                                    "2": "4",
                                    "3": "65",
                                    "4": "30",
                                    "5": "26",
                                    "6": "5",
                                    "7": "Ice Cream",
                                    "8": "0.5"
                                },
                                {
                                    "0": "Raspberry Fudge Chunk Greek Frozen Yogurt",
                                    "1": "200",
                                    "2": "7",
                                    "3": "25",
                                    "4": "29",
                                    "5": "25",
                                    "6": "6",
                                    "7": "Ice Cream",
                                    "8": "0.5"
                                },
                                {
                                    "0": "Strawberry Shortcake Greek Frozen Yogurt",
                                    "1": "180",
                                    "2": "6",
                                    "3": "35",
                                    "4": "28",
                                    "5": "21",
                                    "6": "6",
                                    "7": "Ice Cream",
                                    "8": "0.5"
                                },
                                {
                                    "0": "Vanilla Honey Caramel Greek Frozen Yogurt",
                                    "1": "190",
                                    "2": "5",
                                    "3": "35",
                                    "4": "30",
                                    "5": "22",
                                    "6": "6",
                                    "7": "Ice Cream",
                                    "8": "0.5"
                                }
                            ]
                        },
                        "text/html": [
                            "<table>",
                            "<tr><th>flavor</th><th>calories</th><th>fat_g</th><th>cholesterol_mg</th><th>carbs_g</th><th>sugars_g</th><th>protein_g</th><th>category</th><th>size_cup</th></tr>",
                            "<tr><td>Banana Peanut Butter Greek Frozen Yogurt</td><td>210</td><td>8</td><td>25</td><td>30</td><td>26</td><td>6</td><td>Ice Cream</td><td>0.5</td></tr>",
                            "<tr><td>Blueberry Vanilla Graham Greek Frozen Yogurt</td><td>200</td><td>7</td><td>25</td><td>29</td><td>23</td><td>6</td><td>Ice Cream</td><td>0.5</td></tr>",
                            "<tr><td>Liz Lemon Greek Frozen Yogurt</td><td>180</td><td>4</td><td>30</td><td>29</td><td>21</td><td>6</td><td>Ice Cream</td><td>0.5</td></tr>",
                            "<tr><td>Pineapple Passionfruit Greek Frozen Yogurt</td><td>180</td><td>4</td><td>65</td><td>30</td><td>26</td><td>5</td><td>Ice Cream</td><td>0.5</td></tr>",
                            "<tr><td>Raspberry Fudge Chunk Greek Frozen Yogurt</td><td>200</td><td>7</td><td>25</td><td>29</td><td>25</td><td>6</td><td>Ice Cream</td><td>0.5</td></tr>",
                            "<tr><td>Strawberry Shortcake Greek Frozen Yogurt</td><td>180</td><td>6</td><td>35</td><td>28</td><td>21</td><td>6</td><td>Ice Cream</td><td>0.5</td></tr>",
                            "<tr><td>Vanilla Honey Caramel Greek Frozen Yogurt</td><td>190</td><td>5</td><td>35</td><td>30</td><td>22</td><td>6</td><td>Ice Cream</td><td>0.5</td></tr>",
                            "</table>"
                        ]
                    }
                }
            ],
            "execution_count": 25
        },
        {
            "cell_type": "code",
            "source": [
                "create view vm_yogurt as \r\n",
                "    select * from benjerry where flavor ilike '%yogurt%';"
            ],
            "metadata": {
                "azdata_cell_guid": "04de4159-4043-491f-89f4-8533bf57a1e4"
            },
            "outputs": [
                {
                    "output_type": "display_data",
                    "data": {
                        "text/html": "Commands completed successfully"
                    },
                    "metadata": {}
                },
                {
                    "output_type": "display_data",
                    "data": {
                        "text/html": "Total execution time: 00:00:00.002"
                    },
                    "metadata": {}
                }
            ],
            "execution_count": 26
        },
        {
            "cell_type": "code",
            "source": [
                "select * from vm_yogurt;"
            ],
            "metadata": {
                "azdata_cell_guid": "473cd547-c7cb-4b7c-b19a-41423fe7a439"
            },
            "outputs": [
                {
                    "output_type": "display_data",
                    "data": {
                        "text/html": "(7 row(s) affected)"
                    },
                    "metadata": {}
                },
                {
                    "output_type": "display_data",
                    "data": {
                        "text/html": "Total execution time: 00:00:00.003"
                    },
                    "metadata": {}
                },
                {
                    "output_type": "execute_result",
                    "metadata": {},
                    "execution_count": 28,
                    "data": {
                        "application/vnd.dataresource+json": {
                            "schema": {
                                "fields": [
                                    {
                                        "name": "flavor"
                                    },
                                    {
                                        "name": "calories"
                                    },
                                    {
                                        "name": "fat_g"
                                    },
                                    {
                                        "name": "cholesterol_mg"
                                    },
                                    {
                                        "name": "carbs_g"
                                    },
                                    {
                                        "name": "sugars_g"
                                    },
                                    {
                                        "name": "protein_g"
                                    },
                                    {
                                        "name": "category"
                                    },
                                    {
                                        "name": "size_cup"
                                    }
                                ]
                            },
                            "data": [
                                {
                                    "0": "Banana Peanut Butter Greek Frozen Yogurt",
                                    "1": "210",
                                    "2": "8",
                                    "3": "25",
                                    "4": "30",
                                    "5": "26",
                                    "6": "6",
                                    "7": "Ice Cream",
                                    "8": "0.5"
                                },
                                {
                                    "0": "Blueberry Vanilla Graham Greek Frozen Yogurt",
                                    "1": "200",
                                    "2": "7",
                                    "3": "25",
                                    "4": "29",
                                    "5": "23",
                                    "6": "6",
                                    "7": "Ice Cream",
                                    "8": "0.5"
                                },
                                {
                                    "0": "Liz Lemon Greek Frozen Yogurt",
                                    "1": "180",
                                    "2": "4",
                                    "3": "30",
                                    "4": "29",
                                    "5": "21",
                                    "6": "6",
                                    "7": "Ice Cream",
                                    "8": "0.5"
                                },
                                {
                                    "0": "Pineapple Passionfruit Greek Frozen Yogurt",
                                    "1": "180",
                                    "2": "4",
                                    "3": "65",
                                    "4": "30",
                                    "5": "26",
                                    "6": "5",
                                    "7": "Ice Cream",
                                    "8": "0.5"
                                },
                                {
                                    "0": "Raspberry Fudge Chunk Greek Frozen Yogurt",
                                    "1": "200",
                                    "2": "7",
                                    "3": "25",
                                    "4": "29",
                                    "5": "25",
                                    "6": "6",
                                    "7": "Ice Cream",
                                    "8": "0.5"
                                },
                                {
                                    "0": "Strawberry Shortcake Greek Frozen Yogurt",
                                    "1": "180",
                                    "2": "6",
                                    "3": "35",
                                    "4": "28",
                                    "5": "21",
                                    "6": "6",
                                    "7": "Ice Cream",
                                    "8": "0.5"
                                },
                                {
                                    "0": "Vanilla Honey Caramel Greek Frozen Yogurt",
                                    "1": "190",
                                    "2": "5",
                                    "3": "35",
                                    "4": "30",
                                    "5": "22",
                                    "6": "6",
                                    "7": "Ice Cream",
                                    "8": "0.5"
                                }
                            ]
                        },
                        "text/html": [
                            "<table>",
                            "<tr><th>flavor</th><th>calories</th><th>fat_g</th><th>cholesterol_mg</th><th>carbs_g</th><th>sugars_g</th><th>protein_g</th><th>category</th><th>size_cup</th></tr>",
                            "<tr><td>Banana Peanut Butter Greek Frozen Yogurt</td><td>210</td><td>8</td><td>25</td><td>30</td><td>26</td><td>6</td><td>Ice Cream</td><td>0.5</td></tr>",
                            "<tr><td>Blueberry Vanilla Graham Greek Frozen Yogurt</td><td>200</td><td>7</td><td>25</td><td>29</td><td>23</td><td>6</td><td>Ice Cream</td><td>0.5</td></tr>",
                            "<tr><td>Liz Lemon Greek Frozen Yogurt</td><td>180</td><td>4</td><td>30</td><td>29</td><td>21</td><td>6</td><td>Ice Cream</td><td>0.5</td></tr>",
                            "<tr><td>Pineapple Passionfruit Greek Frozen Yogurt</td><td>180</td><td>4</td><td>65</td><td>30</td><td>26</td><td>5</td><td>Ice Cream</td><td>0.5</td></tr>",
                            "<tr><td>Raspberry Fudge Chunk Greek Frozen Yogurt</td><td>200</td><td>7</td><td>25</td><td>29</td><td>25</td><td>6</td><td>Ice Cream</td><td>0.5</td></tr>",
                            "<tr><td>Strawberry Shortcake Greek Frozen Yogurt</td><td>180</td><td>6</td><td>35</td><td>28</td><td>21</td><td>6</td><td>Ice Cream</td><td>0.5</td></tr>",
                            "<tr><td>Vanilla Honey Caramel Greek Frozen Yogurt</td><td>190</td><td>5</td><td>35</td><td>30</td><td>22</td><td>6</td><td>Ice Cream</td><td>0.5</td></tr>",
                            "</table>"
                        ]
                    }
                }
            ],
            "execution_count": 28
        }
    ]
}