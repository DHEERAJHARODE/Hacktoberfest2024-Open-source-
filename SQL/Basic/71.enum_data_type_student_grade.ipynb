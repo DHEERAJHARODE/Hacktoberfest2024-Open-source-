{
    "metadata": {
        "kernelspec": {
            "name": "SQL",
            "display_name": "SQL",
            "language": "sql"
        },
        "language_info": {
            "name": "sql",
            "version": ""
        }
    },
    "nbformat_minor": 2,
    "nbformat": 4,
    "cells": [
        {
            "cell_type": "markdown",
            "source": [
                "# ประยุกต์ใช้ enum (Enumerated type) เพื่อเก็บ letter grade ('A', 'B+', 'B', 'C+', 'C', 'D+', 'D', 'F') เพื่อให้เรียงลำดับอย่างถูกต้อง"
            ],
            "metadata": {
                "azdata_cell_guid": "8d9597b8-0952-42ee-9713-2fabce205ea1"
            }
        },
        {
            "cell_type": "code",
            "source": [
                "drop table if exists student_grade;\r\n",
                "\r\n",
                "create table student_grade (\r\n",
                "    student_id int,\r\n",
                "    score numeric(5, 2),\r\n",
                "    grade varchar(2)\r\n",
                ");"
            ],
            "metadata": {
                "azdata_cell_guid": "a6ec9ec6-e918-477f-bdba-bc6c5d5ab9ad"
            },
            "outputs": [
                {
                    "output_type": "display_data",
                    "data": {
                        "text/html": "Commands completed successfully"
                    },
                    "metadata": {}
                },
                {
                    "output_type": "display_data",
                    "data": {
                        "text/html": "Commands completed successfully"
                    },
                    "metadata": {}
                },
                {
                    "output_type": "display_data",
                    "data": {
                        "text/html": "Total execution time: 00:00:00.491"
                    },
                    "metadata": {}
                }
            ],
            "execution_count": 1
        },
        {
            "cell_type": "code",
            "source": [
                "select student_id,\r\n",
                "    (random() * 60 + 40)::numeric(5, 2) score\r\n",
                "    from generate_series(1, 50) student_id"
            ],
            "metadata": {
                "azdata_cell_guid": "58f679a4-e64c-4e2e-ad02-70857e819453"
            },
            "outputs": [
                {
                    "output_type": "display_data",
                    "data": {
                        "text/html": "(50 row(s) affected)"
                    },
                    "metadata": {}
                },
                {
                    "output_type": "display_data",
                    "data": {
                        "text/html": "Total execution time: 00:00:00.115"
                    },
                    "metadata": {}
                },
                {
                    "output_type": "execute_result",
                    "metadata": {},
                    "execution_count": 2,
                    "data": {
                        "application/vnd.dataresource+json": {
                            "schema": {
                                "fields": [
                                    {
                                        "name": "student_id"
                                    },
                                    {
                                        "name": "score"
                                    }
                                ]
                            },
                            "data": [
                                {
                                    "0": "1",
                                    "1": "50.54"
                                },
                                {
                                    "0": "2",
                                    "1": "56.12"
                                },
                                {
                                    "0": "3",
                                    "1": "92.85"
                                },
                                {
                                    "0": "4",
                                    "1": "52.71"
                                },
                                {
                                    "0": "5",
                                    "1": "55.86"
                                },
                                {
                                    "0": "6",
                                    "1": "50.07"
                                },
                                {
                                    "0": "7",
                                    "1": "93.35"
                                },
                                {
                                    "0": "8",
                                    "1": "77.32"
                                },
                                {
                                    "0": "9",
                                    "1": "64.87"
                                },
                                {
                                    "0": "10",
                                    "1": "55.85"
                                },
                                {
                                    "0": "11",
                                    "1": "95.72"
                                },
                                {
                                    "0": "12",
                                    "1": "75.98"
                                },
                                {
                                    "0": "13",
                                    "1": "57.26"
                                },
                                {
                                    "0": "14",
                                    "1": "84.43"
                                },
                                {
                                    "0": "15",
                                    "1": "76.90"
                                },
                                {
                                    "0": "16",
                                    "1": "70.74"
                                },
                                {
                                    "0": "17",
                                    "1": "76.94"
                                },
                                {
                                    "0": "18",
                                    "1": "64.24"
                                },
                                {
                                    "0": "19",
                                    "1": "99.18"
                                },
                                {
                                    "0": "20",
                                    "1": "98.24"
                                },
                                {
                                    "0": "21",
                                    "1": "44.31"
                                },
                                {
                                    "0": "22",
                                    "1": "50.00"
                                },
                                {
                                    "0": "23",
                                    "1": "85.31"
                                },
                                {
                                    "0": "24",
                                    "1": "60.72"
                                },
                                {
                                    "0": "25",
                                    "1": "46.93"
                                },
                                {
                                    "0": "26",
                                    "1": "77.65"
                                },
                                {
                                    "0": "27",
                                    "1": "73.81"
                                },
                                {
                                    "0": "28",
                                    "1": "57.23"
                                },
                                {
                                    "0": "29",
                                    "1": "53.36"
                                },
                                {
                                    "0": "30",
                                    "1": "95.61"
                                },
                                {
                                    "0": "31",
                                    "1": "77.44"
                                },
                                {
                                    "0": "32",
                                    "1": "61.49"
                                },
                                {
                                    "0": "33",
                                    "1": "60.11"
                                },
                                {
                                    "0": "34",
                                    "1": "50.37"
                                },
                                {
                                    "0": "35",
                                    "1": "89.81"
                                },
                                {
                                    "0": "36",
                                    "1": "65.82"
                                },
                                {
                                    "0": "37",
                                    "1": "64.63"
                                },
                                {
                                    "0": "38",
                                    "1": "62.93"
                                },
                                {
                                    "0": "39",
                                    "1": "66.87"
                                },
                                {
                                    "0": "40",
                                    "1": "65.83"
                                },
                                {
                                    "0": "41",
                                    "1": "92.26"
                                },
                                {
                                    "0": "42",
                                    "1": "66.64"
                                },
                                {
                                    "0": "43",
                                    "1": "58.26"
                                },
                                {
                                    "0": "44",
                                    "1": "41.60"
                                },
                                {
                                    "0": "45",
                                    "1": "69.00"
                                },
                                {
                                    "0": "46",
                                    "1": "51.95"
                                },
                                {
                                    "0": "47",
                                    "1": "53.96"
                                },
                                {
                                    "0": "48",
                                    "1": "96.87"
                                },
                                {
                                    "0": "49",
                                    "1": "79.79"
                                },
                                {
                                    "0": "50",
                                    "1": "56.15"
                                }
                            ]
                        },
                        "text/html": [
                            "<table>",
                            "<tr><th>student_id</th><th>score</th></tr>",
                            "<tr><td>1</td><td>50.54</td></tr>",
                            "<tr><td>2</td><td>56.12</td></tr>",
                            "<tr><td>3</td><td>92.85</td></tr>",
                            "<tr><td>4</td><td>52.71</td></tr>",
                            "<tr><td>5</td><td>55.86</td></tr>",
                            "<tr><td>6</td><td>50.07</td></tr>",
                            "<tr><td>7</td><td>93.35</td></tr>",
                            "<tr><td>8</td><td>77.32</td></tr>",
                            "<tr><td>9</td><td>64.87</td></tr>",
                            "<tr><td>10</td><td>55.85</td></tr>",
                            "<tr><td>11</td><td>95.72</td></tr>",
                            "<tr><td>12</td><td>75.98</td></tr>",
                            "<tr><td>13</td><td>57.26</td></tr>",
                            "<tr><td>14</td><td>84.43</td></tr>",
                            "<tr><td>15</td><td>76.90</td></tr>",
                            "<tr><td>16</td><td>70.74</td></tr>",
                            "<tr><td>17</td><td>76.94</td></tr>",
                            "<tr><td>18</td><td>64.24</td></tr>",
                            "<tr><td>19</td><td>99.18</td></tr>",
                            "<tr><td>20</td><td>98.24</td></tr>",
                            "<tr><td>21</td><td>44.31</td></tr>",
                            "<tr><td>22</td><td>50.00</td></tr>",
                            "<tr><td>23</td><td>85.31</td></tr>",
                            "<tr><td>24</td><td>60.72</td></tr>",
                            "<tr><td>25</td><td>46.93</td></tr>",
                            "<tr><td>26</td><td>77.65</td></tr>",
                            "<tr><td>27</td><td>73.81</td></tr>",
                            "<tr><td>28</td><td>57.23</td></tr>",
                            "<tr><td>29</td><td>53.36</td></tr>",
                            "<tr><td>30</td><td>95.61</td></tr>",
                            "<tr><td>31</td><td>77.44</td></tr>",
                            "<tr><td>32</td><td>61.49</td></tr>",
                            "<tr><td>33</td><td>60.11</td></tr>",
                            "<tr><td>34</td><td>50.37</td></tr>",
                            "<tr><td>35</td><td>89.81</td></tr>",
                            "<tr><td>36</td><td>65.82</td></tr>",
                            "<tr><td>37</td><td>64.63</td></tr>",
                            "<tr><td>38</td><td>62.93</td></tr>",
                            "<tr><td>39</td><td>66.87</td></tr>",
                            "<tr><td>40</td><td>65.83</td></tr>",
                            "<tr><td>41</td><td>92.26</td></tr>",
                            "<tr><td>42</td><td>66.64</td></tr>",
                            "<tr><td>43</td><td>58.26</td></tr>",
                            "<tr><td>44</td><td>41.60</td></tr>",
                            "<tr><td>45</td><td>69.00</td></tr>",
                            "<tr><td>46</td><td>51.95</td></tr>",
                            "<tr><td>47</td><td>53.96</td></tr>",
                            "<tr><td>48</td><td>96.87</td></tr>",
                            "<tr><td>49</td><td>79.79</td></tr>",
                            "<tr><td>50</td><td>56.15</td></tr>",
                            "</table>"
                        ]
                    }
                }
            ],
            "execution_count": 2
        },
        {
            "cell_type": "code",
            "source": [
                "insert into student_grade(student_id, score)\r\n",
                "    select student_id,\r\n",
                "        (random() * 60 + 40)::numeric(5, 2) score\r\n",
                "        from generate_series(1, 50) student_id"
            ],
            "metadata": {
                "azdata_cell_guid": "1b308603-1eb3-4d9f-9bad-ca57eab4a06e"
            },
            "outputs": [
                {
                    "output_type": "display_data",
                    "data": {
                        "text/html": "Commands completed successfully"
                    },
                    "metadata": {}
                },
                {
                    "output_type": "display_data",
                    "data": {
                        "text/html": "Total execution time: 00:00:00.002"
                    },
                    "metadata": {}
                }
            ],
            "execution_count": 3
        },
        {
            "cell_type": "code",
            "source": [
                "select * from student_grade;"
            ],
            "metadata": {
                "azdata_cell_guid": "1b678aa2-c2b4-43a0-8a00-b40195a14e54"
            },
            "outputs": [
                {
                    "output_type": "display_data",
                    "data": {
                        "text/html": "(50 row(s) affected)"
                    },
                    "metadata": {}
                },
                {
                    "output_type": "display_data",
                    "data": {
                        "text/html": "Total execution time: 00:00:00.085"
                    },
                    "metadata": {}
                },
                {
                    "output_type": "execute_result",
                    "metadata": {},
                    "execution_count": 4,
                    "data": {
                        "application/vnd.dataresource+json": {
                            "schema": {
                                "fields": [
                                    {
                                        "name": "student_id"
                                    },
                                    {
                                        "name": "score"
                                    },
                                    {
                                        "name": "grade"
                                    }
                                ]
                            },
                            "data": [
                                {
                                    "0": "1",
                                    "1": "85.94",
                                    "2": "NULL"
                                },
                                {
                                    "0": "2",
                                    "1": "58.30",
                                    "2": "NULL"
                                },
                                {
                                    "0": "3",
                                    "1": "68.74",
                                    "2": "NULL"
                                },
                                {
                                    "0": "4",
                                    "1": "93.65",
                                    "2": "NULL"
                                },
                                {
                                    "0": "5",
                                    "1": "62.57",
                                    "2": "NULL"
                                },
                                {
                                    "0": "6",
                                    "1": "88.24",
                                    "2": "NULL"
                                },
                                {
                                    "0": "7",
                                    "1": "58.67",
                                    "2": "NULL"
                                },
                                {
                                    "0": "8",
                                    "1": "52.69",
                                    "2": "NULL"
                                },
                                {
                                    "0": "9",
                                    "1": "51.12",
                                    "2": "NULL"
                                },
                                {
                                    "0": "10",
                                    "1": "63.48",
                                    "2": "NULL"
                                },
                                {
                                    "0": "11",
                                    "1": "66.74",
                                    "2": "NULL"
                                },
                                {
                                    "0": "12",
                                    "1": "57.75",
                                    "2": "NULL"
                                },
                                {
                                    "0": "13",
                                    "1": "45.55",
                                    "2": "NULL"
                                },
                                {
                                    "0": "14",
                                    "1": "52.31",
                                    "2": "NULL"
                                },
                                {
                                    "0": "15",
                                    "1": "44.38",
                                    "2": "NULL"
                                },
                                {
                                    "0": "16",
                                    "1": "92.55",
                                    "2": "NULL"
                                },
                                {
                                    "0": "17",
                                    "1": "92.46",
                                    "2": "NULL"
                                },
                                {
                                    "0": "18",
                                    "1": "86.17",
                                    "2": "NULL"
                                },
                                {
                                    "0": "19",
                                    "1": "78.98",
                                    "2": "NULL"
                                },
                                {
                                    "0": "20",
                                    "1": "48.26",
                                    "2": "NULL"
                                },
                                {
                                    "0": "21",
                                    "1": "67.64",
                                    "2": "NULL"
                                },
                                {
                                    "0": "22",
                                    "1": "40.60",
                                    "2": "NULL"
                                },
                                {
                                    "0": "23",
                                    "1": "52.40",
                                    "2": "NULL"
                                },
                                {
                                    "0": "24",
                                    "1": "97.18",
                                    "2": "NULL"
                                },
                                {
                                    "0": "25",
                                    "1": "61.89",
                                    "2": "NULL"
                                },
                                {
                                    "0": "26",
                                    "1": "83.35",
                                    "2": "NULL"
                                },
                                {
                                    "0": "27",
                                    "1": "74.28",
                                    "2": "NULL"
                                },
                                {
                                    "0": "28",
                                    "1": "66.58",
                                    "2": "NULL"
                                },
                                {
                                    "0": "29",
                                    "1": "42.78",
                                    "2": "NULL"
                                },
                                {
                                    "0": "30",
                                    "1": "81.99",
                                    "2": "NULL"
                                },
                                {
                                    "0": "31",
                                    "1": "45.42",
                                    "2": "NULL"
                                },
                                {
                                    "0": "32",
                                    "1": "45.23",
                                    "2": "NULL"
                                },
                                {
                                    "0": "33",
                                    "1": "86.20",
                                    "2": "NULL"
                                },
                                {
                                    "0": "34",
                                    "1": "67.09",
                                    "2": "NULL"
                                },
                                {
                                    "0": "35",
                                    "1": "44.54",
                                    "2": "NULL"
                                },
                                {
                                    "0": "36",
                                    "1": "90.20",
                                    "2": "NULL"
                                },
                                {
                                    "0": "37",
                                    "1": "76.48",
                                    "2": "NULL"
                                },
                                {
                                    "0": "38",
                                    "1": "83.29",
                                    "2": "NULL"
                                },
                                {
                                    "0": "39",
                                    "1": "99.55",
                                    "2": "NULL"
                                },
                                {
                                    "0": "40",
                                    "1": "70.79",
                                    "2": "NULL"
                                },
                                {
                                    "0": "41",
                                    "1": "69.45",
                                    "2": "NULL"
                                },
                                {
                                    "0": "42",
                                    "1": "53.41",
                                    "2": "NULL"
                                },
                                {
                                    "0": "43",
                                    "1": "56.70",
                                    "2": "NULL"
                                },
                                {
                                    "0": "44",
                                    "1": "65.91",
                                    "2": "NULL"
                                },
                                {
                                    "0": "45",
                                    "1": "60.77",
                                    "2": "NULL"
                                },
                                {
                                    "0": "46",
                                    "1": "91.61",
                                    "2": "NULL"
                                },
                                {
                                    "0": "47",
                                    "1": "67.30",
                                    "2": "NULL"
                                },
                                {
                                    "0": "48",
                                    "1": "88.93",
                                    "2": "NULL"
                                },
                                {
                                    "0": "49",
                                    "1": "50.73",
                                    "2": "NULL"
                                },
                                {
                                    "0": "50",
                                    "1": "60.25",
                                    "2": "NULL"
                                }
                            ]
                        },
                        "text/html": [
                            "<table>",
                            "<tr><th>student_id</th><th>score</th><th>grade</th></tr>",
                            "<tr><td>1</td><td>85.94</td><td>NULL</td></tr>",
                            "<tr><td>2</td><td>58.30</td><td>NULL</td></tr>",
                            "<tr><td>3</td><td>68.74</td><td>NULL</td></tr>",
                            "<tr><td>4</td><td>93.65</td><td>NULL</td></tr>",
                            "<tr><td>5</td><td>62.57</td><td>NULL</td></tr>",
                            "<tr><td>6</td><td>88.24</td><td>NULL</td></tr>",
                            "<tr><td>7</td><td>58.67</td><td>NULL</td></tr>",
                            "<tr><td>8</td><td>52.69</td><td>NULL</td></tr>",
                            "<tr><td>9</td><td>51.12</td><td>NULL</td></tr>",
                            "<tr><td>10</td><td>63.48</td><td>NULL</td></tr>",
                            "<tr><td>11</td><td>66.74</td><td>NULL</td></tr>",
                            "<tr><td>12</td><td>57.75</td><td>NULL</td></tr>",
                            "<tr><td>13</td><td>45.55</td><td>NULL</td></tr>",
                            "<tr><td>14</td><td>52.31</td><td>NULL</td></tr>",
                            "<tr><td>15</td><td>44.38</td><td>NULL</td></tr>",
                            "<tr><td>16</td><td>92.55</td><td>NULL</td></tr>",
                            "<tr><td>17</td><td>92.46</td><td>NULL</td></tr>",
                            "<tr><td>18</td><td>86.17</td><td>NULL</td></tr>",
                            "<tr><td>19</td><td>78.98</td><td>NULL</td></tr>",
                            "<tr><td>20</td><td>48.26</td><td>NULL</td></tr>",
                            "<tr><td>21</td><td>67.64</td><td>NULL</td></tr>",
                            "<tr><td>22</td><td>40.60</td><td>NULL</td></tr>",
                            "<tr><td>23</td><td>52.40</td><td>NULL</td></tr>",
                            "<tr><td>24</td><td>97.18</td><td>NULL</td></tr>",
                            "<tr><td>25</td><td>61.89</td><td>NULL</td></tr>",
                            "<tr><td>26</td><td>83.35</td><td>NULL</td></tr>",
                            "<tr><td>27</td><td>74.28</td><td>NULL</td></tr>",
                            "<tr><td>28</td><td>66.58</td><td>NULL</td></tr>",
                            "<tr><td>29</td><td>42.78</td><td>NULL</td></tr>",
                            "<tr><td>30</td><td>81.99</td><td>NULL</td></tr>",
                            "<tr><td>31</td><td>45.42</td><td>NULL</td></tr>",
                            "<tr><td>32</td><td>45.23</td><td>NULL</td></tr>",
                            "<tr><td>33</td><td>86.20</td><td>NULL</td></tr>",
                            "<tr><td>34</td><td>67.09</td><td>NULL</td></tr>",
                            "<tr><td>35</td><td>44.54</td><td>NULL</td></tr>",
                            "<tr><td>36</td><td>90.20</td><td>NULL</td></tr>",
                            "<tr><td>37</td><td>76.48</td><td>NULL</td></tr>",
                            "<tr><td>38</td><td>83.29</td><td>NULL</td></tr>",
                            "<tr><td>39</td><td>99.55</td><td>NULL</td></tr>",
                            "<tr><td>40</td><td>70.79</td><td>NULL</td></tr>",
                            "<tr><td>41</td><td>69.45</td><td>NULL</td></tr>",
                            "<tr><td>42</td><td>53.41</td><td>NULL</td></tr>",
                            "<tr><td>43</td><td>56.70</td><td>NULL</td></tr>",
                            "<tr><td>44</td><td>65.91</td><td>NULL</td></tr>",
                            "<tr><td>45</td><td>60.77</td><td>NULL</td></tr>",
                            "<tr><td>46</td><td>91.61</td><td>NULL</td></tr>",
                            "<tr><td>47</td><td>67.30</td><td>NULL</td></tr>",
                            "<tr><td>48</td><td>88.93</td><td>NULL</td></tr>",
                            "<tr><td>49</td><td>50.73</td><td>NULL</td></tr>",
                            "<tr><td>50</td><td>60.25</td><td>NULL</td></tr>",
                            "</table>"
                        ]
                    }
                }
            ],
            "execution_count": 4
        },
        {
            "cell_type": "code",
            "source": [
                "select student_id, score,\r\n",
                "    case\r\n",
                "        when '[85, 100]'::numrange @> score then 'A' \r\n",
                "        when '[80,  85)'::numrange @> score then 'B+' \r\n",
                "        when '[75,  80)'::numrange @> score then 'B' \r\n",
                "        when '[70,  75)'::numrange @> score then 'C+' \r\n",
                "        when '[60,  70)'::numrange @> score then 'C' \r\n",
                "        when '[55,  60)'::numrange @> score then 'D+' \r\n",
                "        when '[50,  55)'::numrange @> score then 'D' \r\n",
                "        else 'F'\r\n",
                "    end grade\r\n",
                "    from student_grade"
            ],
            "metadata": {
                "azdata_cell_guid": "3da77ed1-bcc7-4b27-83e5-5e70e14991f5"
            },
            "outputs": [
                {
                    "output_type": "display_data",
                    "data": {
                        "text/html": "(50 row(s) affected)"
                    },
                    "metadata": {}
                },
                {
                    "output_type": "display_data",
                    "data": {
                        "text/html": "Total execution time: 00:00:00.128"
                    },
                    "metadata": {}
                },
                {
                    "output_type": "execute_result",
                    "metadata": {},
                    "execution_count": 5,
                    "data": {
                        "application/vnd.dataresource+json": {
                            "schema": {
                                "fields": [
                                    {
                                        "name": "student_id"
                                    },
                                    {
                                        "name": "score"
                                    },
                                    {
                                        "name": "grade"
                                    }
                                ]
                            },
                            "data": [
                                {
                                    "0": "1",
                                    "1": "85.94",
                                    "2": "A"
                                },
                                {
                                    "0": "2",
                                    "1": "58.30",
                                    "2": "D+"
                                },
                                {
                                    "0": "3",
                                    "1": "68.74",
                                    "2": "C"
                                },
                                {
                                    "0": "4",
                                    "1": "93.65",
                                    "2": "A"
                                },
                                {
                                    "0": "5",
                                    "1": "62.57",
                                    "2": "C"
                                },
                                {
                                    "0": "6",
                                    "1": "88.24",
                                    "2": "A"
                                },
                                {
                                    "0": "7",
                                    "1": "58.67",
                                    "2": "D+"
                                },
                                {
                                    "0": "8",
                                    "1": "52.69",
                                    "2": "D"
                                },
                                {
                                    "0": "9",
                                    "1": "51.12",
                                    "2": "D"
                                },
                                {
                                    "0": "10",
                                    "1": "63.48",
                                    "2": "C"
                                },
                                {
                                    "0": "11",
                                    "1": "66.74",
                                    "2": "C"
                                },
                                {
                                    "0": "12",
                                    "1": "57.75",
                                    "2": "D+"
                                },
                                {
                                    "0": "13",
                                    "1": "45.55",
                                    "2": "F"
                                },
                                {
                                    "0": "14",
                                    "1": "52.31",
                                    "2": "D"
                                },
                                {
                                    "0": "15",
                                    "1": "44.38",
                                    "2": "F"
                                },
                                {
                                    "0": "16",
                                    "1": "92.55",
                                    "2": "A"
                                },
                                {
                                    "0": "17",
                                    "1": "92.46",
                                    "2": "A"
                                },
                                {
                                    "0": "18",
                                    "1": "86.17",
                                    "2": "A"
                                },
                                {
                                    "0": "19",
                                    "1": "78.98",
                                    "2": "B"
                                },
                                {
                                    "0": "20",
                                    "1": "48.26",
                                    "2": "F"
                                },
                                {
                                    "0": "21",
                                    "1": "67.64",
                                    "2": "C"
                                },
                                {
                                    "0": "22",
                                    "1": "40.60",
                                    "2": "F"
                                },
                                {
                                    "0": "23",
                                    "1": "52.40",
                                    "2": "D"
                                },
                                {
                                    "0": "24",
                                    "1": "97.18",
                                    "2": "A"
                                },
                                {
                                    "0": "25",
                                    "1": "61.89",
                                    "2": "C"
                                },
                                {
                                    "0": "26",
                                    "1": "83.35",
                                    "2": "B+"
                                },
                                {
                                    "0": "27",
                                    "1": "74.28",
                                    "2": "C+"
                                },
                                {
                                    "0": "28",
                                    "1": "66.58",
                                    "2": "C"
                                },
                                {
                                    "0": "29",
                                    "1": "42.78",
                                    "2": "F"
                                },
                                {
                                    "0": "30",
                                    "1": "81.99",
                                    "2": "B+"
                                },
                                {
                                    "0": "31",
                                    "1": "45.42",
                                    "2": "F"
                                },
                                {
                                    "0": "32",
                                    "1": "45.23",
                                    "2": "F"
                                },
                                {
                                    "0": "33",
                                    "1": "86.20",
                                    "2": "A"
                                },
                                {
                                    "0": "34",
                                    "1": "67.09",
                                    "2": "C"
                                },
                                {
                                    "0": "35",
                                    "1": "44.54",
                                    "2": "F"
                                },
                                {
                                    "0": "36",
                                    "1": "90.20",
                                    "2": "A"
                                },
                                {
                                    "0": "37",
                                    "1": "76.48",
                                    "2": "B"
                                },
                                {
                                    "0": "38",
                                    "1": "83.29",
                                    "2": "B+"
                                },
                                {
                                    "0": "39",
                                    "1": "99.55",
                                    "2": "A"
                                },
                                {
                                    "0": "40",
                                    "1": "70.79",
                                    "2": "C+"
                                },
                                {
                                    "0": "41",
                                    "1": "69.45",
                                    "2": "C"
                                },
                                {
                                    "0": "42",
                                    "1": "53.41",
                                    "2": "D"
                                },
                                {
                                    "0": "43",
                                    "1": "56.70",
                                    "2": "D+"
                                },
                                {
                                    "0": "44",
                                    "1": "65.91",
                                    "2": "C"
                                },
                                {
                                    "0": "45",
                                    "1": "60.77",
                                    "2": "C"
                                },
                                {
                                    "0": "46",
                                    "1": "91.61",
                                    "2": "A"
                                },
                                {
                                    "0": "47",
                                    "1": "67.30",
                                    "2": "C"
                                },
                                {
                                    "0": "48",
                                    "1": "88.93",
                                    "2": "A"
                                },
                                {
                                    "0": "49",
                                    "1": "50.73",
                                    "2": "D"
                                },
                                {
                                    "0": "50",
                                    "1": "60.25",
                                    "2": "C"
                                }
                            ]
                        },
                        "text/html": [
                            "<table>",
                            "<tr><th>student_id</th><th>score</th><th>grade</th></tr>",
                            "<tr><td>1</td><td>85.94</td><td>A</td></tr>",
                            "<tr><td>2</td><td>58.30</td><td>D+</td></tr>",
                            "<tr><td>3</td><td>68.74</td><td>C</td></tr>",
                            "<tr><td>4</td><td>93.65</td><td>A</td></tr>",
                            "<tr><td>5</td><td>62.57</td><td>C</td></tr>",
                            "<tr><td>6</td><td>88.24</td><td>A</td></tr>",
                            "<tr><td>7</td><td>58.67</td><td>D+</td></tr>",
                            "<tr><td>8</td><td>52.69</td><td>D</td></tr>",
                            "<tr><td>9</td><td>51.12</td><td>D</td></tr>",
                            "<tr><td>10</td><td>63.48</td><td>C</td></tr>",
                            "<tr><td>11</td><td>66.74</td><td>C</td></tr>",
                            "<tr><td>12</td><td>57.75</td><td>D+</td></tr>",
                            "<tr><td>13</td><td>45.55</td><td>F</td></tr>",
                            "<tr><td>14</td><td>52.31</td><td>D</td></tr>",
                            "<tr><td>15</td><td>44.38</td><td>F</td></tr>",
                            "<tr><td>16</td><td>92.55</td><td>A</td></tr>",
                            "<tr><td>17</td><td>92.46</td><td>A</td></tr>",
                            "<tr><td>18</td><td>86.17</td><td>A</td></tr>",
                            "<tr><td>19</td><td>78.98</td><td>B</td></tr>",
                            "<tr><td>20</td><td>48.26</td><td>F</td></tr>",
                            "<tr><td>21</td><td>67.64</td><td>C</td></tr>",
                            "<tr><td>22</td><td>40.60</td><td>F</td></tr>",
                            "<tr><td>23</td><td>52.40</td><td>D</td></tr>",
                            "<tr><td>24</td><td>97.18</td><td>A</td></tr>",
                            "<tr><td>25</td><td>61.89</td><td>C</td></tr>",
                            "<tr><td>26</td><td>83.35</td><td>B+</td></tr>",
                            "<tr><td>27</td><td>74.28</td><td>C+</td></tr>",
                            "<tr><td>28</td><td>66.58</td><td>C</td></tr>",
                            "<tr><td>29</td><td>42.78</td><td>F</td></tr>",
                            "<tr><td>30</td><td>81.99</td><td>B+</td></tr>",
                            "<tr><td>31</td><td>45.42</td><td>F</td></tr>",
                            "<tr><td>32</td><td>45.23</td><td>F</td></tr>",
                            "<tr><td>33</td><td>86.20</td><td>A</td></tr>",
                            "<tr><td>34</td><td>67.09</td><td>C</td></tr>",
                            "<tr><td>35</td><td>44.54</td><td>F</td></tr>",
                            "<tr><td>36</td><td>90.20</td><td>A</td></tr>",
                            "<tr><td>37</td><td>76.48</td><td>B</td></tr>",
                            "<tr><td>38</td><td>83.29</td><td>B+</td></tr>",
                            "<tr><td>39</td><td>99.55</td><td>A</td></tr>",
                            "<tr><td>40</td><td>70.79</td><td>C+</td></tr>",
                            "<tr><td>41</td><td>69.45</td><td>C</td></tr>",
                            "<tr><td>42</td><td>53.41</td><td>D</td></tr>",
                            "<tr><td>43</td><td>56.70</td><td>D+</td></tr>",
                            "<tr><td>44</td><td>65.91</td><td>C</td></tr>",
                            "<tr><td>45</td><td>60.77</td><td>C</td></tr>",
                            "<tr><td>46</td><td>91.61</td><td>A</td></tr>",
                            "<tr><td>47</td><td>67.30</td><td>C</td></tr>",
                            "<tr><td>48</td><td>88.93</td><td>A</td></tr>",
                            "<tr><td>49</td><td>50.73</td><td>D</td></tr>",
                            "<tr><td>50</td><td>60.25</td><td>C</td></tr>",
                            "</table>"
                        ]
                    }
                }
            ],
            "execution_count": 5
        },
        {
            "cell_type": "code",
            "source": [
                "update student_grade\r\n",
                "    set grade =\r\n",
                "        case\r\n",
                "            when '[85, 100]'::numrange @> score then 'A' \r\n",
                "            when '[80,  85)'::numrange @> score then 'B+' \r\n",
                "            when '[75,  80)'::numrange @> score then 'B' \r\n",
                "            when '[70,  75)'::numrange @> score then 'C+' \r\n",
                "            when '[60,  70)'::numrange @> score then 'C' \r\n",
                "            when '[55,  60)'::numrange @> score then 'D+' \r\n",
                "            when '[50,  55)'::numrange @> score then 'D' \r\n",
                "            else 'F'\r\n",
                "        end"
            ],
            "metadata": {
                "azdata_cell_guid": "9c1b17b9-d626-4794-99bd-7233e85d6aa5"
            },
            "outputs": [
                {
                    "output_type": "display_data",
                    "data": {
                        "text/html": "Commands completed successfully"
                    },
                    "metadata": {}
                },
                {
                    "output_type": "display_data",
                    "data": {
                        "text/html": "Total execution time: 00:00:00.072"
                    },
                    "metadata": {}
                }
            ],
            "execution_count": 6
        },
        {
            "cell_type": "code",
            "source": [
                "select * from student_grade"
            ],
            "metadata": {
                "azdata_cell_guid": "c84e7090-9ff2-41fd-aadf-3d54c2d8ca91"
            },
            "outputs": [
                {
                    "output_type": "display_data",
                    "data": {
                        "text/html": "(50 row(s) affected)"
                    },
                    "metadata": {}
                },
                {
                    "output_type": "display_data",
                    "data": {
                        "text/html": "Total execution time: 00:00:00.003"
                    },
                    "metadata": {}
                },
                {
                    "output_type": "execute_result",
                    "metadata": {},
                    "execution_count": 7,
                    "data": {
                        "application/vnd.dataresource+json": {
                            "schema": {
                                "fields": [
                                    {
                                        "name": "student_id"
                                    },
                                    {
                                        "name": "score"
                                    },
                                    {
                                        "name": "grade"
                                    }
                                ]
                            },
                            "data": [
                                {
                                    "0": "1",
                                    "1": "85.94",
                                    "2": "A"
                                },
                                {
                                    "0": "2",
                                    "1": "58.30",
                                    "2": "D+"
                                },
                                {
                                    "0": "3",
                                    "1": "68.74",
                                    "2": "C"
                                },
                                {
                                    "0": "4",
                                    "1": "93.65",
                                    "2": "A"
                                },
                                {
                                    "0": "5",
                                    "1": "62.57",
                                    "2": "C"
                                },
                                {
                                    "0": "6",
                                    "1": "88.24",
                                    "2": "A"
                                },
                                {
                                    "0": "7",
                                    "1": "58.67",
                                    "2": "D+"
                                },
                                {
                                    "0": "8",
                                    "1": "52.69",
                                    "2": "D"
                                },
                                {
                                    "0": "9",
                                    "1": "51.12",
                                    "2": "D"
                                },
                                {
                                    "0": "10",
                                    "1": "63.48",
                                    "2": "C"
                                },
                                {
                                    "0": "11",
                                    "1": "66.74",
                                    "2": "C"
                                },
                                {
                                    "0": "12",
                                    "1": "57.75",
                                    "2": "D+"
                                },
                                {
                                    "0": "13",
                                    "1": "45.55",
                                    "2": "F"
                                },
                                {
                                    "0": "14",
                                    "1": "52.31",
                                    "2": "D"
                                },
                                {
                                    "0": "15",
                                    "1": "44.38",
                                    "2": "F"
                                },
                                {
                                    "0": "16",
                                    "1": "92.55",
                                    "2": "A"
                                },
                                {
                                    "0": "17",
                                    "1": "92.46",
                                    "2": "A"
                                },
                                {
                                    "0": "18",
                                    "1": "86.17",
                                    "2": "A"
                                },
                                {
                                    "0": "19",
                                    "1": "78.98",
                                    "2": "B"
                                },
                                {
                                    "0": "20",
                                    "1": "48.26",
                                    "2": "F"
                                },
                                {
                                    "0": "21",
                                    "1": "67.64",
                                    "2": "C"
                                },
                                {
                                    "0": "22",
                                    "1": "40.60",
                                    "2": "F"
                                },
                                {
                                    "0": "23",
                                    "1": "52.40",
                                    "2": "D"
                                },
                                {
                                    "0": "24",
                                    "1": "97.18",
                                    "2": "A"
                                },
                                {
                                    "0": "25",
                                    "1": "61.89",
                                    "2": "C"
                                },
                                {
                                    "0": "26",
                                    "1": "83.35",
                                    "2": "B+"
                                },
                                {
                                    "0": "27",
                                    "1": "74.28",
                                    "2": "C+"
                                },
                                {
                                    "0": "28",
                                    "1": "66.58",
                                    "2": "C"
                                },
                                {
                                    "0": "29",
                                    "1": "42.78",
                                    "2": "F"
                                },
                                {
                                    "0": "30",
                                    "1": "81.99",
                                    "2": "B+"
                                },
                                {
                                    "0": "31",
                                    "1": "45.42",
                                    "2": "F"
                                },
                                {
                                    "0": "32",
                                    "1": "45.23",
                                    "2": "F"
                                },
                                {
                                    "0": "33",
                                    "1": "86.20",
                                    "2": "A"
                                },
                                {
                                    "0": "34",
                                    "1": "67.09",
                                    "2": "C"
                                },
                                {
                                    "0": "35",
                                    "1": "44.54",
                                    "2": "F"
                                },
                                {
                                    "0": "36",
                                    "1": "90.20",
                                    "2": "A"
                                },
                                {
                                    "0": "37",
                                    "1": "76.48",
                                    "2": "B"
                                },
                                {
                                    "0": "38",
                                    "1": "83.29",
                                    "2": "B+"
                                },
                                {
                                    "0": "39",
                                    "1": "99.55",
                                    "2": "A"
                                },
                                {
                                    "0": "40",
                                    "1": "70.79",
                                    "2": "C+"
                                },
                                {
                                    "0": "41",
                                    "1": "69.45",
                                    "2": "C"
                                },
                                {
                                    "0": "42",
                                    "1": "53.41",
                                    "2": "D"
                                },
                                {
                                    "0": "43",
                                    "1": "56.70",
                                    "2": "D+"
                                },
                                {
                                    "0": "44",
                                    "1": "65.91",
                                    "2": "C"
                                },
                                {
                                    "0": "45",
                                    "1": "60.77",
                                    "2": "C"
                                },
                                {
                                    "0": "46",
                                    "1": "91.61",
                                    "2": "A"
                                },
                                {
                                    "0": "47",
                                    "1": "67.30",
                                    "2": "C"
                                },
                                {
                                    "0": "48",
                                    "1": "88.93",
                                    "2": "A"
                                },
                                {
                                    "0": "49",
                                    "1": "50.73",
                                    "2": "D"
                                },
                                {
                                    "0": "50",
                                    "1": "60.25",
                                    "2": "C"
                                }
                            ]
                        },
                        "text/html": [
                            "<table>",
                            "<tr><th>student_id</th><th>score</th><th>grade</th></tr>",
                            "<tr><td>1</td><td>85.94</td><td>A</td></tr>",
                            "<tr><td>2</td><td>58.30</td><td>D+</td></tr>",
                            "<tr><td>3</td><td>68.74</td><td>C</td></tr>",
                            "<tr><td>4</td><td>93.65</td><td>A</td></tr>",
                            "<tr><td>5</td><td>62.57</td><td>C</td></tr>",
                            "<tr><td>6</td><td>88.24</td><td>A</td></tr>",
                            "<tr><td>7</td><td>58.67</td><td>D+</td></tr>",
                            "<tr><td>8</td><td>52.69</td><td>D</td></tr>",
                            "<tr><td>9</td><td>51.12</td><td>D</td></tr>",
                            "<tr><td>10</td><td>63.48</td><td>C</td></tr>",
                            "<tr><td>11</td><td>66.74</td><td>C</td></tr>",
                            "<tr><td>12</td><td>57.75</td><td>D+</td></tr>",
                            "<tr><td>13</td><td>45.55</td><td>F</td></tr>",
                            "<tr><td>14</td><td>52.31</td><td>D</td></tr>",
                            "<tr><td>15</td><td>44.38</td><td>F</td></tr>",
                            "<tr><td>16</td><td>92.55</td><td>A</td></tr>",
                            "<tr><td>17</td><td>92.46</td><td>A</td></tr>",
                            "<tr><td>18</td><td>86.17</td><td>A</td></tr>",
                            "<tr><td>19</td><td>78.98</td><td>B</td></tr>",
                            "<tr><td>20</td><td>48.26</td><td>F</td></tr>",
                            "<tr><td>21</td><td>67.64</td><td>C</td></tr>",
                            "<tr><td>22</td><td>40.60</td><td>F</td></tr>",
                            "<tr><td>23</td><td>52.40</td><td>D</td></tr>",
                            "<tr><td>24</td><td>97.18</td><td>A</td></tr>",
                            "<tr><td>25</td><td>61.89</td><td>C</td></tr>",
                            "<tr><td>26</td><td>83.35</td><td>B+</td></tr>",
                            "<tr><td>27</td><td>74.28</td><td>C+</td></tr>",
                            "<tr><td>28</td><td>66.58</td><td>C</td></tr>",
                            "<tr><td>29</td><td>42.78</td><td>F</td></tr>",
                            "<tr><td>30</td><td>81.99</td><td>B+</td></tr>",
                            "<tr><td>31</td><td>45.42</td><td>F</td></tr>",
                            "<tr><td>32</td><td>45.23</td><td>F</td></tr>",
                            "<tr><td>33</td><td>86.20</td><td>A</td></tr>",
                            "<tr><td>34</td><td>67.09</td><td>C</td></tr>",
                            "<tr><td>35</td><td>44.54</td><td>F</td></tr>",
                            "<tr><td>36</td><td>90.20</td><td>A</td></tr>",
                            "<tr><td>37</td><td>76.48</td><td>B</td></tr>",
                            "<tr><td>38</td><td>83.29</td><td>B+</td></tr>",
                            "<tr><td>39</td><td>99.55</td><td>A</td></tr>",
                            "<tr><td>40</td><td>70.79</td><td>C+</td></tr>",
                            "<tr><td>41</td><td>69.45</td><td>C</td></tr>",
                            "<tr><td>42</td><td>53.41</td><td>D</td></tr>",
                            "<tr><td>43</td><td>56.70</td><td>D+</td></tr>",
                            "<tr><td>44</td><td>65.91</td><td>C</td></tr>",
                            "<tr><td>45</td><td>60.77</td><td>C</td></tr>",
                            "<tr><td>46</td><td>91.61</td><td>A</td></tr>",
                            "<tr><td>47</td><td>67.30</td><td>C</td></tr>",
                            "<tr><td>48</td><td>88.93</td><td>A</td></tr>",
                            "<tr><td>49</td><td>50.73</td><td>D</td></tr>",
                            "<tr><td>50</td><td>60.25</td><td>C</td></tr>",
                            "</table>"
                        ]
                    }
                }
            ],
            "execution_count": 7
        },
        {
            "cell_type": "code",
            "source": [
                "select * from student_grade order by grade"
            ],
            "metadata": {
                "azdata_cell_guid": "e4d77837-568c-48c3-b1f0-1aa66074c7a5"
            },
            "outputs": [
                {
                    "output_type": "display_data",
                    "data": {
                        "text/html": "(50 row(s) affected)"
                    },
                    "metadata": {}
                },
                {
                    "output_type": "display_data",
                    "data": {
                        "text/html": "Total execution time: 00:00:00.045"
                    },
                    "metadata": {}
                },
                {
                    "output_type": "execute_result",
                    "metadata": {},
                    "execution_count": 8,
                    "data": {
                        "application/vnd.dataresource+json": {
                            "schema": {
                                "fields": [
                                    {
                                        "name": "student_id"
                                    },
                                    {
                                        "name": "score"
                                    },
                                    {
                                        "name": "grade"
                                    }
                                ]
                            },
                            "data": [
                                {
                                    "0": "39",
                                    "1": "99.55",
                                    "2": "A"
                                },
                                {
                                    "0": "4",
                                    "1": "93.65",
                                    "2": "A"
                                },
                                {
                                    "0": "6",
                                    "1": "88.24",
                                    "2": "A"
                                },
                                {
                                    "0": "1",
                                    "1": "85.94",
                                    "2": "A"
                                },
                                {
                                    "0": "16",
                                    "1": "92.55",
                                    "2": "A"
                                },
                                {
                                    "0": "17",
                                    "1": "92.46",
                                    "2": "A"
                                },
                                {
                                    "0": "18",
                                    "1": "86.17",
                                    "2": "A"
                                },
                                {
                                    "0": "48",
                                    "1": "88.93",
                                    "2": "A"
                                },
                                {
                                    "0": "24",
                                    "1": "97.18",
                                    "2": "A"
                                },
                                {
                                    "0": "46",
                                    "1": "91.61",
                                    "2": "A"
                                },
                                {
                                    "0": "33",
                                    "1": "86.20",
                                    "2": "A"
                                },
                                {
                                    "0": "36",
                                    "1": "90.20",
                                    "2": "A"
                                },
                                {
                                    "0": "19",
                                    "1": "78.98",
                                    "2": "B"
                                },
                                {
                                    "0": "37",
                                    "1": "76.48",
                                    "2": "B"
                                },
                                {
                                    "0": "30",
                                    "1": "81.99",
                                    "2": "B+"
                                },
                                {
                                    "0": "38",
                                    "1": "83.29",
                                    "2": "B+"
                                },
                                {
                                    "0": "26",
                                    "1": "83.35",
                                    "2": "B+"
                                },
                                {
                                    "0": "47",
                                    "1": "67.30",
                                    "2": "C"
                                },
                                {
                                    "0": "3",
                                    "1": "68.74",
                                    "2": "C"
                                },
                                {
                                    "0": "45",
                                    "1": "60.77",
                                    "2": "C"
                                },
                                {
                                    "0": "44",
                                    "1": "65.91",
                                    "2": "C"
                                },
                                {
                                    "0": "34",
                                    "1": "67.09",
                                    "2": "C"
                                },
                                {
                                    "0": "21",
                                    "1": "67.64",
                                    "2": "C"
                                },
                                {
                                    "0": "25",
                                    "1": "61.89",
                                    "2": "C"
                                },
                                {
                                    "0": "41",
                                    "1": "69.45",
                                    "2": "C"
                                },
                                {
                                    "0": "28",
                                    "1": "66.58",
                                    "2": "C"
                                },
                                {
                                    "0": "5",
                                    "1": "62.57",
                                    "2": "C"
                                },
                                {
                                    "0": "10",
                                    "1": "63.48",
                                    "2": "C"
                                },
                                {
                                    "0": "11",
                                    "1": "66.74",
                                    "2": "C"
                                },
                                {
                                    "0": "50",
                                    "1": "60.25",
                                    "2": "C"
                                },
                                {
                                    "0": "27",
                                    "1": "74.28",
                                    "2": "C+"
                                },
                                {
                                    "0": "40",
                                    "1": "70.79",
                                    "2": "C+"
                                },
                                {
                                    "0": "49",
                                    "1": "50.73",
                                    "2": "D"
                                },
                                {
                                    "0": "23",
                                    "1": "52.40",
                                    "2": "D"
                                },
                                {
                                    "0": "14",
                                    "1": "52.31",
                                    "2": "D"
                                },
                                {
                                    "0": "9",
                                    "1": "51.12",
                                    "2": "D"
                                },
                                {
                                    "0": "8",
                                    "1": "52.69",
                                    "2": "D"
                                },
                                {
                                    "0": "42",
                                    "1": "53.41",
                                    "2": "D"
                                },
                                {
                                    "0": "7",
                                    "1": "58.67",
                                    "2": "D+"
                                },
                                {
                                    "0": "2",
                                    "1": "58.30",
                                    "2": "D+"
                                },
                                {
                                    "0": "12",
                                    "1": "57.75",
                                    "2": "D+"
                                },
                                {
                                    "0": "43",
                                    "1": "56.70",
                                    "2": "D+"
                                },
                                {
                                    "0": "13",
                                    "1": "45.55",
                                    "2": "F"
                                },
                                {
                                    "0": "32",
                                    "1": "45.23",
                                    "2": "F"
                                },
                                {
                                    "0": "31",
                                    "1": "45.42",
                                    "2": "F"
                                },
                                {
                                    "0": "29",
                                    "1": "42.78",
                                    "2": "F"
                                },
                                {
                                    "0": "22",
                                    "1": "40.60",
                                    "2": "F"
                                },
                                {
                                    "0": "20",
                                    "1": "48.26",
                                    "2": "F"
                                },
                                {
                                    "0": "15",
                                    "1": "44.38",
                                    "2": "F"
                                },
                                {
                                    "0": "35",
                                    "1": "44.54",
                                    "2": "F"
                                }
                            ]
                        },
                        "text/html": [
                            "<table>",
                            "<tr><th>student_id</th><th>score</th><th>grade</th></tr>",
                            "<tr><td>39</td><td>99.55</td><td>A</td></tr>",
                            "<tr><td>4</td><td>93.65</td><td>A</td></tr>",
                            "<tr><td>6</td><td>88.24</td><td>A</td></tr>",
                            "<tr><td>1</td><td>85.94</td><td>A</td></tr>",
                            "<tr><td>16</td><td>92.55</td><td>A</td></tr>",
                            "<tr><td>17</td><td>92.46</td><td>A</td></tr>",
                            "<tr><td>18</td><td>86.17</td><td>A</td></tr>",
                            "<tr><td>48</td><td>88.93</td><td>A</td></tr>",
                            "<tr><td>24</td><td>97.18</td><td>A</td></tr>",
                            "<tr><td>46</td><td>91.61</td><td>A</td></tr>",
                            "<tr><td>33</td><td>86.20</td><td>A</td></tr>",
                            "<tr><td>36</td><td>90.20</td><td>A</td></tr>",
                            "<tr><td>19</td><td>78.98</td><td>B</td></tr>",
                            "<tr><td>37</td><td>76.48</td><td>B</td></tr>",
                            "<tr><td>30</td><td>81.99</td><td>B+</td></tr>",
                            "<tr><td>38</td><td>83.29</td><td>B+</td></tr>",
                            "<tr><td>26</td><td>83.35</td><td>B+</td></tr>",
                            "<tr><td>47</td><td>67.30</td><td>C</td></tr>",
                            "<tr><td>3</td><td>68.74</td><td>C</td></tr>",
                            "<tr><td>45</td><td>60.77</td><td>C</td></tr>",
                            "<tr><td>44</td><td>65.91</td><td>C</td></tr>",
                            "<tr><td>34</td><td>67.09</td><td>C</td></tr>",
                            "<tr><td>21</td><td>67.64</td><td>C</td></tr>",
                            "<tr><td>25</td><td>61.89</td><td>C</td></tr>",
                            "<tr><td>41</td><td>69.45</td><td>C</td></tr>",
                            "<tr><td>28</td><td>66.58</td><td>C</td></tr>",
                            "<tr><td>5</td><td>62.57</td><td>C</td></tr>",
                            "<tr><td>10</td><td>63.48</td><td>C</td></tr>",
                            "<tr><td>11</td><td>66.74</td><td>C</td></tr>",
                            "<tr><td>50</td><td>60.25</td><td>C</td></tr>",
                            "<tr><td>27</td><td>74.28</td><td>C+</td></tr>",
                            "<tr><td>40</td><td>70.79</td><td>C+</td></tr>",
                            "<tr><td>49</td><td>50.73</td><td>D</td></tr>",
                            "<tr><td>23</td><td>52.40</td><td>D</td></tr>",
                            "<tr><td>14</td><td>52.31</td><td>D</td></tr>",
                            "<tr><td>9</td><td>51.12</td><td>D</td></tr>",
                            "<tr><td>8</td><td>52.69</td><td>D</td></tr>",
                            "<tr><td>42</td><td>53.41</td><td>D</td></tr>",
                            "<tr><td>7</td><td>58.67</td><td>D+</td></tr>",
                            "<tr><td>2</td><td>58.30</td><td>D+</td></tr>",
                            "<tr><td>12</td><td>57.75</td><td>D+</td></tr>",
                            "<tr><td>43</td><td>56.70</td><td>D+</td></tr>",
                            "<tr><td>13</td><td>45.55</td><td>F</td></tr>",
                            "<tr><td>32</td><td>45.23</td><td>F</td></tr>",
                            "<tr><td>31</td><td>45.42</td><td>F</td></tr>",
                            "<tr><td>29</td><td>42.78</td><td>F</td></tr>",
                            "<tr><td>22</td><td>40.60</td><td>F</td></tr>",
                            "<tr><td>20</td><td>48.26</td><td>F</td></tr>",
                            "<tr><td>15</td><td>44.38</td><td>F</td></tr>",
                            "<tr><td>35</td><td>44.54</td><td>F</td></tr>",
                            "</table>"
                        ]
                    }
                }
            ],
            "execution_count": 8
        },
        {
            "cell_type": "code",
            "source": [
                "-- สร้าง data type โดย letter_grade จะมีการเรียงแบบนี้ ค่าที่เป็นไปได้จะมีแบบนี้เท่านั้น ('A', 'B+', 'B', 'C+', 'C', 'D+', 'D', 'F')\r\n",
                "drop type if exists letter_grade;\r\n",
                "\r\n",
                "create type letter_grade as enum ('A', 'B+', 'B', 'C+', 'C', 'D+', 'D', 'F');"
            ],
            "metadata": {
                "azdata_cell_guid": "b0d732b3-90b2-4eac-a41a-442019266fc2"
            },
            "outputs": [
                {
                    "output_type": "display_data",
                    "data": {
                        "text/html": "Commands completed successfully"
                    },
                    "metadata": {}
                },
                {
                    "output_type": "display_data",
                    "data": {
                        "text/html": "Commands completed successfully"
                    },
                    "metadata": {}
                },
                {
                    "output_type": "display_data",
                    "data": {
                        "text/html": "Total execution time: 00:00:00.001"
                    },
                    "metadata": {}
                }
            ],
            "execution_count": 10
        },
        {
            "cell_type": "code",
            "source": [
                "alter table student_grade add column grade2 letter_grade; -- add coloum เป็น grade2 โดยมี data type = letter_grade(เป็น enum type)"
            ],
            "metadata": {
                "azdata_cell_guid": "d026da0f-f0f5-4f85-a2bd-3d8621d6601c"
            },
            "outputs": [
                {
                    "output_type": "display_data",
                    "data": {
                        "text/html": "Commands completed successfully"
                    },
                    "metadata": {}
                },
                {
                    "output_type": "display_data",
                    "data": {
                        "text/html": "Total execution time: 00:00:00.051"
                    },
                    "metadata": {}
                }
            ],
            "execution_count": 11
        },
        {
            "cell_type": "code",
            "source": [
                "select * from student_grade;"
            ],
            "metadata": {
                "azdata_cell_guid": "408e0749-5ddd-44e8-8242-38f54807c3cf"
            },
            "outputs": [
                {
                    "output_type": "display_data",
                    "data": {
                        "text/html": "(50 row(s) affected)"
                    },
                    "metadata": {}
                },
                {
                    "output_type": "display_data",
                    "data": {
                        "text/html": "Total execution time: 00:00:00.008"
                    },
                    "metadata": {}
                },
                {
                    "output_type": "execute_result",
                    "metadata": {},
                    "execution_count": 12,
                    "data": {
                        "application/vnd.dataresource+json": {
                            "schema": {
                                "fields": [
                                    {
                                        "name": "student_id"
                                    },
                                    {
                                        "name": "score"
                                    },
                                    {
                                        "name": "grade"
                                    },
                                    {
                                        "name": "grade2"
                                    }
                                ]
                            },
                            "data": [
                                {
                                    "0": "1",
                                    "1": "85.94",
                                    "2": "A",
                                    "3": "NULL"
                                },
                                {
                                    "0": "2",
                                    "1": "58.30",
                                    "2": "D+",
                                    "3": "NULL"
                                },
                                {
                                    "0": "3",
                                    "1": "68.74",
                                    "2": "C",
                                    "3": "NULL"
                                },
                                {
                                    "0": "4",
                                    "1": "93.65",
                                    "2": "A",
                                    "3": "NULL"
                                },
                                {
                                    "0": "5",
                                    "1": "62.57",
                                    "2": "C",
                                    "3": "NULL"
                                },
                                {
                                    "0": "6",
                                    "1": "88.24",
                                    "2": "A",
                                    "3": "NULL"
                                },
                                {
                                    "0": "7",
                                    "1": "58.67",
                                    "2": "D+",
                                    "3": "NULL"
                                },
                                {
                                    "0": "8",
                                    "1": "52.69",
                                    "2": "D",
                                    "3": "NULL"
                                },
                                {
                                    "0": "9",
                                    "1": "51.12",
                                    "2": "D",
                                    "3": "NULL"
                                },
                                {
                                    "0": "10",
                                    "1": "63.48",
                                    "2": "C",
                                    "3": "NULL"
                                },
                                {
                                    "0": "11",
                                    "1": "66.74",
                                    "2": "C",
                                    "3": "NULL"
                                },
                                {
                                    "0": "12",
                                    "1": "57.75",
                                    "2": "D+",
                                    "3": "NULL"
                                },
                                {
                                    "0": "13",
                                    "1": "45.55",
                                    "2": "F",
                                    "3": "NULL"
                                },
                                {
                                    "0": "14",
                                    "1": "52.31",
                                    "2": "D",
                                    "3": "NULL"
                                },
                                {
                                    "0": "15",
                                    "1": "44.38",
                                    "2": "F",
                                    "3": "NULL"
                                },
                                {
                                    "0": "16",
                                    "1": "92.55",
                                    "2": "A",
                                    "3": "NULL"
                                },
                                {
                                    "0": "17",
                                    "1": "92.46",
                                    "2": "A",
                                    "3": "NULL"
                                },
                                {
                                    "0": "18",
                                    "1": "86.17",
                                    "2": "A",
                                    "3": "NULL"
                                },
                                {
                                    "0": "19",
                                    "1": "78.98",
                                    "2": "B",
                                    "3": "NULL"
                                },
                                {
                                    "0": "20",
                                    "1": "48.26",
                                    "2": "F",
                                    "3": "NULL"
                                },
                                {
                                    "0": "21",
                                    "1": "67.64",
                                    "2": "C",
                                    "3": "NULL"
                                },
                                {
                                    "0": "22",
                                    "1": "40.60",
                                    "2": "F",
                                    "3": "NULL"
                                },
                                {
                                    "0": "23",
                                    "1": "52.40",
                                    "2": "D",
                                    "3": "NULL"
                                },
                                {
                                    "0": "24",
                                    "1": "97.18",
                                    "2": "A",
                                    "3": "NULL"
                                },
                                {
                                    "0": "25",
                                    "1": "61.89",
                                    "2": "C",
                                    "3": "NULL"
                                },
                                {
                                    "0": "26",
                                    "1": "83.35",
                                    "2": "B+",
                                    "3": "NULL"
                                },
                                {
                                    "0": "27",
                                    "1": "74.28",
                                    "2": "C+",
                                    "3": "NULL"
                                },
                                {
                                    "0": "28",
                                    "1": "66.58",
                                    "2": "C",
                                    "3": "NULL"
                                },
                                {
                                    "0": "29",
                                    "1": "42.78",
                                    "2": "F",
                                    "3": "NULL"
                                },
                                {
                                    "0": "30",
                                    "1": "81.99",
                                    "2": "B+",
                                    "3": "NULL"
                                },
                                {
                                    "0": "31",
                                    "1": "45.42",
                                    "2": "F",
                                    "3": "NULL"
                                },
                                {
                                    "0": "32",
                                    "1": "45.23",
                                    "2": "F",
                                    "3": "NULL"
                                },
                                {
                                    "0": "33",
                                    "1": "86.20",
                                    "2": "A",
                                    "3": "NULL"
                                },
                                {
                                    "0": "34",
                                    "1": "67.09",
                                    "2": "C",
                                    "3": "NULL"
                                },
                                {
                                    "0": "35",
                                    "1": "44.54",
                                    "2": "F",
                                    "3": "NULL"
                                },
                                {
                                    "0": "36",
                                    "1": "90.20",
                                    "2": "A",
                                    "3": "NULL"
                                },
                                {
                                    "0": "37",
                                    "1": "76.48",
                                    "2": "B",
                                    "3": "NULL"
                                },
                                {
                                    "0": "38",
                                    "1": "83.29",
                                    "2": "B+",
                                    "3": "NULL"
                                },
                                {
                                    "0": "39",
                                    "1": "99.55",
                                    "2": "A",
                                    "3": "NULL"
                                },
                                {
                                    "0": "40",
                                    "1": "70.79",
                                    "2": "C+",
                                    "3": "NULL"
                                },
                                {
                                    "0": "41",
                                    "1": "69.45",
                                    "2": "C",
                                    "3": "NULL"
                                },
                                {
                                    "0": "42",
                                    "1": "53.41",
                                    "2": "D",
                                    "3": "NULL"
                                },
                                {
                                    "0": "43",
                                    "1": "56.70",
                                    "2": "D+",
                                    "3": "NULL"
                                },
                                {
                                    "0": "44",
                                    "1": "65.91",
                                    "2": "C",
                                    "3": "NULL"
                                },
                                {
                                    "0": "45",
                                    "1": "60.77",
                                    "2": "C",
                                    "3": "NULL"
                                },
                                {
                                    "0": "46",
                                    "1": "91.61",
                                    "2": "A",
                                    "3": "NULL"
                                },
                                {
                                    "0": "47",
                                    "1": "67.30",
                                    "2": "C",
                                    "3": "NULL"
                                },
                                {
                                    "0": "48",
                                    "1": "88.93",
                                    "2": "A",
                                    "3": "NULL"
                                },
                                {
                                    "0": "49",
                                    "1": "50.73",
                                    "2": "D",
                                    "3": "NULL"
                                },
                                {
                                    "0": "50",
                                    "1": "60.25",
                                    "2": "C",
                                    "3": "NULL"
                                }
                            ]
                        },
                        "text/html": [
                            "<table>",
                            "<tr><th>student_id</th><th>score</th><th>grade</th><th>grade2</th></tr>",
                            "<tr><td>1</td><td>85.94</td><td>A</td><td>NULL</td></tr>",
                            "<tr><td>2</td><td>58.30</td><td>D+</td><td>NULL</td></tr>",
                            "<tr><td>3</td><td>68.74</td><td>C</td><td>NULL</td></tr>",
                            "<tr><td>4</td><td>93.65</td><td>A</td><td>NULL</td></tr>",
                            "<tr><td>5</td><td>62.57</td><td>C</td><td>NULL</td></tr>",
                            "<tr><td>6</td><td>88.24</td><td>A</td><td>NULL</td></tr>",
                            "<tr><td>7</td><td>58.67</td><td>D+</td><td>NULL</td></tr>",
                            "<tr><td>8</td><td>52.69</td><td>D</td><td>NULL</td></tr>",
                            "<tr><td>9</td><td>51.12</td><td>D</td><td>NULL</td></tr>",
                            "<tr><td>10</td><td>63.48</td><td>C</td><td>NULL</td></tr>",
                            "<tr><td>11</td><td>66.74</td><td>C</td><td>NULL</td></tr>",
                            "<tr><td>12</td><td>57.75</td><td>D+</td><td>NULL</td></tr>",
                            "<tr><td>13</td><td>45.55</td><td>F</td><td>NULL</td></tr>",
                            "<tr><td>14</td><td>52.31</td><td>D</td><td>NULL</td></tr>",
                            "<tr><td>15</td><td>44.38</td><td>F</td><td>NULL</td></tr>",
                            "<tr><td>16</td><td>92.55</td><td>A</td><td>NULL</td></tr>",
                            "<tr><td>17</td><td>92.46</td><td>A</td><td>NULL</td></tr>",
                            "<tr><td>18</td><td>86.17</td><td>A</td><td>NULL</td></tr>",
                            "<tr><td>19</td><td>78.98</td><td>B</td><td>NULL</td></tr>",
                            "<tr><td>20</td><td>48.26</td><td>F</td><td>NULL</td></tr>",
                            "<tr><td>21</td><td>67.64</td><td>C</td><td>NULL</td></tr>",
                            "<tr><td>22</td><td>40.60</td><td>F</td><td>NULL</td></tr>",
                            "<tr><td>23</td><td>52.40</td><td>D</td><td>NULL</td></tr>",
                            "<tr><td>24</td><td>97.18</td><td>A</td><td>NULL</td></tr>",
                            "<tr><td>25</td><td>61.89</td><td>C</td><td>NULL</td></tr>",
                            "<tr><td>26</td><td>83.35</td><td>B+</td><td>NULL</td></tr>",
                            "<tr><td>27</td><td>74.28</td><td>C+</td><td>NULL</td></tr>",
                            "<tr><td>28</td><td>66.58</td><td>C</td><td>NULL</td></tr>",
                            "<tr><td>29</td><td>42.78</td><td>F</td><td>NULL</td></tr>",
                            "<tr><td>30</td><td>81.99</td><td>B+</td><td>NULL</td></tr>",
                            "<tr><td>31</td><td>45.42</td><td>F</td><td>NULL</td></tr>",
                            "<tr><td>32</td><td>45.23</td><td>F</td><td>NULL</td></tr>",
                            "<tr><td>33</td><td>86.20</td><td>A</td><td>NULL</td></tr>",
                            "<tr><td>34</td><td>67.09</td><td>C</td><td>NULL</td></tr>",
                            "<tr><td>35</td><td>44.54</td><td>F</td><td>NULL</td></tr>",
                            "<tr><td>36</td><td>90.20</td><td>A</td><td>NULL</td></tr>",
                            "<tr><td>37</td><td>76.48</td><td>B</td><td>NULL</td></tr>",
                            "<tr><td>38</td><td>83.29</td><td>B+</td><td>NULL</td></tr>",
                            "<tr><td>39</td><td>99.55</td><td>A</td><td>NULL</td></tr>",
                            "<tr><td>40</td><td>70.79</td><td>C+</td><td>NULL</td></tr>",
                            "<tr><td>41</td><td>69.45</td><td>C</td><td>NULL</td></tr>",
                            "<tr><td>42</td><td>53.41</td><td>D</td><td>NULL</td></tr>",
                            "<tr><td>43</td><td>56.70</td><td>D+</td><td>NULL</td></tr>",
                            "<tr><td>44</td><td>65.91</td><td>C</td><td>NULL</td></tr>",
                            "<tr><td>45</td><td>60.77</td><td>C</td><td>NULL</td></tr>",
                            "<tr><td>46</td><td>91.61</td><td>A</td><td>NULL</td></tr>",
                            "<tr><td>47</td><td>67.30</td><td>C</td><td>NULL</td></tr>",
                            "<tr><td>48</td><td>88.93</td><td>A</td><td>NULL</td></tr>",
                            "<tr><td>49</td><td>50.73</td><td>D</td><td>NULL</td></tr>",
                            "<tr><td>50</td><td>60.25</td><td>C</td><td>NULL</td></tr>",
                            "</table>"
                        ]
                    }
                }
            ],
            "execution_count": 12
        },
        {
            "cell_type": "code",
            "source": [
                "update student_grade\r\n",
                "    set grade2 = grade::letter_grade"
            ],
            "metadata": {
                "azdata_cell_guid": "17978cdf-2c0d-4cb6-a4d1-a81faed61558"
            },
            "outputs": [
                {
                    "output_type": "display_data",
                    "data": {
                        "text/html": "Commands completed successfully"
                    },
                    "metadata": {}
                },
                {
                    "output_type": "display_data",
                    "data": {
                        "text/html": "Total execution time: 00:00:00.043"
                    },
                    "metadata": {}
                }
            ],
            "execution_count": 13
        },
        {
            "cell_type": "code",
            "source": [
                "select * from student_grade"
            ],
            "metadata": {
                "azdata_cell_guid": "f15a3b24-9e21-40cc-b257-87839fa6bd73"
            },
            "outputs": [
                {
                    "output_type": "display_data",
                    "data": {
                        "text/html": "(50 row(s) affected)"
                    },
                    "metadata": {}
                },
                {
                    "output_type": "display_data",
                    "data": {
                        "text/html": "Total execution time: 00:00:00.010"
                    },
                    "metadata": {}
                },
                {
                    "output_type": "execute_result",
                    "metadata": {},
                    "execution_count": 15,
                    "data": {
                        "application/vnd.dataresource+json": {
                            "schema": {
                                "fields": [
                                    {
                                        "name": "student_id"
                                    },
                                    {
                                        "name": "score"
                                    },
                                    {
                                        "name": "grade"
                                    },
                                    {
                                        "name": "grade2"
                                    }
                                ]
                            },
                            "data": [
                                {
                                    "0": "1",
                                    "1": "85.94",
                                    "2": "A",
                                    "3": "A"
                                },
                                {
                                    "0": "2",
                                    "1": "58.30",
                                    "2": "D+",
                                    "3": "D+"
                                },
                                {
                                    "0": "3",
                                    "1": "68.74",
                                    "2": "C",
                                    "3": "C"
                                },
                                {
                                    "0": "4",
                                    "1": "93.65",
                                    "2": "A",
                                    "3": "A"
                                },
                                {
                                    "0": "5",
                                    "1": "62.57",
                                    "2": "C",
                                    "3": "C"
                                },
                                {
                                    "0": "6",
                                    "1": "88.24",
                                    "2": "A",
                                    "3": "A"
                                },
                                {
                                    "0": "7",
                                    "1": "58.67",
                                    "2": "D+",
                                    "3": "D+"
                                },
                                {
                                    "0": "8",
                                    "1": "52.69",
                                    "2": "D",
                                    "3": "D"
                                },
                                {
                                    "0": "9",
                                    "1": "51.12",
                                    "2": "D",
                                    "3": "D"
                                },
                                {
                                    "0": "10",
                                    "1": "63.48",
                                    "2": "C",
                                    "3": "C"
                                },
                                {
                                    "0": "11",
                                    "1": "66.74",
                                    "2": "C",
                                    "3": "C"
                                },
                                {
                                    "0": "12",
                                    "1": "57.75",
                                    "2": "D+",
                                    "3": "D+"
                                },
                                {
                                    "0": "13",
                                    "1": "45.55",
                                    "2": "F",
                                    "3": "F"
                                },
                                {
                                    "0": "14",
                                    "1": "52.31",
                                    "2": "D",
                                    "3": "D"
                                },
                                {
                                    "0": "15",
                                    "1": "44.38",
                                    "2": "F",
                                    "3": "F"
                                },
                                {
                                    "0": "16",
                                    "1": "92.55",
                                    "2": "A",
                                    "3": "A"
                                },
                                {
                                    "0": "17",
                                    "1": "92.46",
                                    "2": "A",
                                    "3": "A"
                                },
                                {
                                    "0": "18",
                                    "1": "86.17",
                                    "2": "A",
                                    "3": "A"
                                },
                                {
                                    "0": "19",
                                    "1": "78.98",
                                    "2": "B",
                                    "3": "B"
                                },
                                {
                                    "0": "20",
                                    "1": "48.26",
                                    "2": "F",
                                    "3": "F"
                                },
                                {
                                    "0": "21",
                                    "1": "67.64",
                                    "2": "C",
                                    "3": "C"
                                },
                                {
                                    "0": "22",
                                    "1": "40.60",
                                    "2": "F",
                                    "3": "F"
                                },
                                {
                                    "0": "23",
                                    "1": "52.40",
                                    "2": "D",
                                    "3": "D"
                                },
                                {
                                    "0": "24",
                                    "1": "97.18",
                                    "2": "A",
                                    "3": "A"
                                },
                                {
                                    "0": "25",
                                    "1": "61.89",
                                    "2": "C",
                                    "3": "C"
                                },
                                {
                                    "0": "26",
                                    "1": "83.35",
                                    "2": "B+",
                                    "3": "B+"
                                },
                                {
                                    "0": "27",
                                    "1": "74.28",
                                    "2": "C+",
                                    "3": "C+"
                                },
                                {
                                    "0": "28",
                                    "1": "66.58",
                                    "2": "C",
                                    "3": "C"
                                },
                                {
                                    "0": "29",
                                    "1": "42.78",
                                    "2": "F",
                                    "3": "F"
                                },
                                {
                                    "0": "30",
                                    "1": "81.99",
                                    "2": "B+",
                                    "3": "B+"
                                },
                                {
                                    "0": "31",
                                    "1": "45.42",
                                    "2": "F",
                                    "3": "F"
                                },
                                {
                                    "0": "32",
                                    "1": "45.23",
                                    "2": "F",
                                    "3": "F"
                                },
                                {
                                    "0": "33",
                                    "1": "86.20",
                                    "2": "A",
                                    "3": "A"
                                },
                                {
                                    "0": "34",
                                    "1": "67.09",
                                    "2": "C",
                                    "3": "C"
                                },
                                {
                                    "0": "35",
                                    "1": "44.54",
                                    "2": "F",
                                    "3": "F"
                                },
                                {
                                    "0": "36",
                                    "1": "90.20",
                                    "2": "A",
                                    "3": "A"
                                },
                                {
                                    "0": "37",
                                    "1": "76.48",
                                    "2": "B",
                                    "3": "B"
                                },
                                {
                                    "0": "38",
                                    "1": "83.29",
                                    "2": "B+",
                                    "3": "B+"
                                },
                                {
                                    "0": "39",
                                    "1": "99.55",
                                    "2": "A",
                                    "3": "A"
                                },
                                {
                                    "0": "40",
                                    "1": "70.79",
                                    "2": "C+",
                                    "3": "C+"
                                },
                                {
                                    "0": "41",
                                    "1": "69.45",
                                    "2": "C",
                                    "3": "C"
                                },
                                {
                                    "0": "42",
                                    "1": "53.41",
                                    "2": "D",
                                    "3": "D"
                                },
                                {
                                    "0": "43",
                                    "1": "56.70",
                                    "2": "D+",
                                    "3": "D+"
                                },
                                {
                                    "0": "44",
                                    "1": "65.91",
                                    "2": "C",
                                    "3": "C"
                                },
                                {
                                    "0": "45",
                                    "1": "60.77",
                                    "2": "C",
                                    "3": "C"
                                },
                                {
                                    "0": "46",
                                    "1": "91.61",
                                    "2": "A",
                                    "3": "A"
                                },
                                {
                                    "0": "47",
                                    "1": "67.30",
                                    "2": "C",
                                    "3": "C"
                                },
                                {
                                    "0": "48",
                                    "1": "88.93",
                                    "2": "A",
                                    "3": "A"
                                },
                                {
                                    "0": "49",
                                    "1": "50.73",
                                    "2": "D",
                                    "3": "D"
                                },
                                {
                                    "0": "50",
                                    "1": "60.25",
                                    "2": "C",
                                    "3": "C"
                                }
                            ]
                        },
                        "text/html": [
                            "<table>",
                            "<tr><th>student_id</th><th>score</th><th>grade</th><th>grade2</th></tr>",
                            "<tr><td>1</td><td>85.94</td><td>A</td><td>A</td></tr>",
                            "<tr><td>2</td><td>58.30</td><td>D+</td><td>D+</td></tr>",
                            "<tr><td>3</td><td>68.74</td><td>C</td><td>C</td></tr>",
                            "<tr><td>4</td><td>93.65</td><td>A</td><td>A</td></tr>",
                            "<tr><td>5</td><td>62.57</td><td>C</td><td>C</td></tr>",
                            "<tr><td>6</td><td>88.24</td><td>A</td><td>A</td></tr>",
                            "<tr><td>7</td><td>58.67</td><td>D+</td><td>D+</td></tr>",
                            "<tr><td>8</td><td>52.69</td><td>D</td><td>D</td></tr>",
                            "<tr><td>9</td><td>51.12</td><td>D</td><td>D</td></tr>",
                            "<tr><td>10</td><td>63.48</td><td>C</td><td>C</td></tr>",
                            "<tr><td>11</td><td>66.74</td><td>C</td><td>C</td></tr>",
                            "<tr><td>12</td><td>57.75</td><td>D+</td><td>D+</td></tr>",
                            "<tr><td>13</td><td>45.55</td><td>F</td><td>F</td></tr>",
                            "<tr><td>14</td><td>52.31</td><td>D</td><td>D</td></tr>",
                            "<tr><td>15</td><td>44.38</td><td>F</td><td>F</td></tr>",
                            "<tr><td>16</td><td>92.55</td><td>A</td><td>A</td></tr>",
                            "<tr><td>17</td><td>92.46</td><td>A</td><td>A</td></tr>",
                            "<tr><td>18</td><td>86.17</td><td>A</td><td>A</td></tr>",
                            "<tr><td>19</td><td>78.98</td><td>B</td><td>B</td></tr>",
                            "<tr><td>20</td><td>48.26</td><td>F</td><td>F</td></tr>",
                            "<tr><td>21</td><td>67.64</td><td>C</td><td>C</td></tr>",
                            "<tr><td>22</td><td>40.60</td><td>F</td><td>F</td></tr>",
                            "<tr><td>23</td><td>52.40</td><td>D</td><td>D</td></tr>",
                            "<tr><td>24</td><td>97.18</td><td>A</td><td>A</td></tr>",
                            "<tr><td>25</td><td>61.89</td><td>C</td><td>C</td></tr>",
                            "<tr><td>26</td><td>83.35</td><td>B+</td><td>B+</td></tr>",
                            "<tr><td>27</td><td>74.28</td><td>C+</td><td>C+</td></tr>",
                            "<tr><td>28</td><td>66.58</td><td>C</td><td>C</td></tr>",
                            "<tr><td>29</td><td>42.78</td><td>F</td><td>F</td></tr>",
                            "<tr><td>30</td><td>81.99</td><td>B+</td><td>B+</td></tr>",
                            "<tr><td>31</td><td>45.42</td><td>F</td><td>F</td></tr>",
                            "<tr><td>32</td><td>45.23</td><td>F</td><td>F</td></tr>",
                            "<tr><td>33</td><td>86.20</td><td>A</td><td>A</td></tr>",
                            "<tr><td>34</td><td>67.09</td><td>C</td><td>C</td></tr>",
                            "<tr><td>35</td><td>44.54</td><td>F</td><td>F</td></tr>",
                            "<tr><td>36</td><td>90.20</td><td>A</td><td>A</td></tr>",
                            "<tr><td>37</td><td>76.48</td><td>B</td><td>B</td></tr>",
                            "<tr><td>38</td><td>83.29</td><td>B+</td><td>B+</td></tr>",
                            "<tr><td>39</td><td>99.55</td><td>A</td><td>A</td></tr>",
                            "<tr><td>40</td><td>70.79</td><td>C+</td><td>C+</td></tr>",
                            "<tr><td>41</td><td>69.45</td><td>C</td><td>C</td></tr>",
                            "<tr><td>42</td><td>53.41</td><td>D</td><td>D</td></tr>",
                            "<tr><td>43</td><td>56.70</td><td>D+</td><td>D+</td></tr>",
                            "<tr><td>44</td><td>65.91</td><td>C</td><td>C</td></tr>",
                            "<tr><td>45</td><td>60.77</td><td>C</td><td>C</td></tr>",
                            "<tr><td>46</td><td>91.61</td><td>A</td><td>A</td></tr>",
                            "<tr><td>47</td><td>67.30</td><td>C</td><td>C</td></tr>",
                            "<tr><td>48</td><td>88.93</td><td>A</td><td>A</td></tr>",
                            "<tr><td>49</td><td>50.73</td><td>D</td><td>D</td></tr>",
                            "<tr><td>50</td><td>60.25</td><td>C</td><td>C</td></tr>",
                            "</table>"
                        ]
                    }
                }
            ],
            "execution_count": 15
        },
        {
            "cell_type": "code",
            "source": [
                "select * from student_grade order by grade2"
            ],
            "metadata": {
                "azdata_cell_guid": "5a765677-dd47-4e9a-aa6a-dfeef216822e"
            },
            "outputs": [
                {
                    "output_type": "display_data",
                    "data": {
                        "text/html": "(50 row(s) affected)"
                    },
                    "metadata": {}
                },
                {
                    "output_type": "display_data",
                    "data": {
                        "text/html": "Total execution time: 00:00:00.010"
                    },
                    "metadata": {}
                },
                {
                    "output_type": "execute_result",
                    "metadata": {},
                    "execution_count": 14,
                    "data": {
                        "application/vnd.dataresource+json": {
                            "schema": {
                                "fields": [
                                    {
                                        "name": "student_id"
                                    },
                                    {
                                        "name": "score"
                                    },
                                    {
                                        "name": "grade"
                                    },
                                    {
                                        "name": "grade2"
                                    }
                                ]
                            },
                            "data": [
                                {
                                    "0": "33",
                                    "1": "86.20",
                                    "2": "A",
                                    "3": "A"
                                },
                                {
                                    "0": "36",
                                    "1": "90.20",
                                    "2": "A",
                                    "3": "A"
                                },
                                {
                                    "0": "4",
                                    "1": "93.65",
                                    "2": "A",
                                    "3": "A"
                                },
                                {
                                    "0": "6",
                                    "1": "88.24",
                                    "2": "A",
                                    "3": "A"
                                },
                                {
                                    "0": "1",
                                    "1": "85.94",
                                    "2": "A",
                                    "3": "A"
                                },
                                {
                                    "0": "48",
                                    "1": "88.93",
                                    "2": "A",
                                    "3": "A"
                                },
                                {
                                    "0": "46",
                                    "1": "91.61",
                                    "2": "A",
                                    "3": "A"
                                },
                                {
                                    "0": "16",
                                    "1": "92.55",
                                    "2": "A",
                                    "3": "A"
                                },
                                {
                                    "0": "17",
                                    "1": "92.46",
                                    "2": "A",
                                    "3": "A"
                                },
                                {
                                    "0": "18",
                                    "1": "86.17",
                                    "2": "A",
                                    "3": "A"
                                },
                                {
                                    "0": "24",
                                    "1": "97.18",
                                    "2": "A",
                                    "3": "A"
                                },
                                {
                                    "0": "39",
                                    "1": "99.55",
                                    "2": "A",
                                    "3": "A"
                                },
                                {
                                    "0": "26",
                                    "1": "83.35",
                                    "2": "B+",
                                    "3": "B+"
                                },
                                {
                                    "0": "30",
                                    "1": "81.99",
                                    "2": "B+",
                                    "3": "B+"
                                },
                                {
                                    "0": "38",
                                    "1": "83.29",
                                    "2": "B+",
                                    "3": "B+"
                                },
                                {
                                    "0": "19",
                                    "1": "78.98",
                                    "2": "B",
                                    "3": "B"
                                },
                                {
                                    "0": "37",
                                    "1": "76.48",
                                    "2": "B",
                                    "3": "B"
                                },
                                {
                                    "0": "27",
                                    "1": "74.28",
                                    "2": "C+",
                                    "3": "C+"
                                },
                                {
                                    "0": "40",
                                    "1": "70.79",
                                    "2": "C+",
                                    "3": "C+"
                                },
                                {
                                    "0": "5",
                                    "1": "62.57",
                                    "2": "C",
                                    "3": "C"
                                },
                                {
                                    "0": "25",
                                    "1": "61.89",
                                    "2": "C",
                                    "3": "C"
                                },
                                {
                                    "0": "50",
                                    "1": "60.25",
                                    "2": "C",
                                    "3": "C"
                                },
                                {
                                    "0": "10",
                                    "1": "63.48",
                                    "2": "C",
                                    "3": "C"
                                },
                                {
                                    "0": "11",
                                    "1": "66.74",
                                    "2": "C",
                                    "3": "C"
                                },
                                {
                                    "0": "47",
                                    "1": "67.30",
                                    "2": "C",
                                    "3": "C"
                                },
                                {
                                    "0": "3",
                                    "1": "68.74",
                                    "2": "C",
                                    "3": "C"
                                },
                                {
                                    "0": "45",
                                    "1": "60.77",
                                    "2": "C",
                                    "3": "C"
                                },
                                {
                                    "0": "28",
                                    "1": "66.58",
                                    "2": "C",
                                    "3": "C"
                                },
                                {
                                    "0": "44",
                                    "1": "65.91",
                                    "2": "C",
                                    "3": "C"
                                },
                                {
                                    "0": "21",
                                    "1": "67.64",
                                    "2": "C",
                                    "3": "C"
                                },
                                {
                                    "0": "34",
                                    "1": "67.09",
                                    "2": "C",
                                    "3": "C"
                                },
                                {
                                    "0": "41",
                                    "1": "69.45",
                                    "2": "C",
                                    "3": "C"
                                },
                                {
                                    "0": "7",
                                    "1": "58.67",
                                    "2": "D+",
                                    "3": "D+"
                                },
                                {
                                    "0": "2",
                                    "1": "58.30",
                                    "2": "D+",
                                    "3": "D+"
                                },
                                {
                                    "0": "12",
                                    "1": "57.75",
                                    "2": "D+",
                                    "3": "D+"
                                },
                                {
                                    "0": "43",
                                    "1": "56.70",
                                    "2": "D+",
                                    "3": "D+"
                                },
                                {
                                    "0": "42",
                                    "1": "53.41",
                                    "2": "D",
                                    "3": "D"
                                },
                                {
                                    "0": "14",
                                    "1": "52.31",
                                    "2": "D",
                                    "3": "D"
                                },
                                {
                                    "0": "8",
                                    "1": "52.69",
                                    "2": "D",
                                    "3": "D"
                                },
                                {
                                    "0": "9",
                                    "1": "51.12",
                                    "2": "D",
                                    "3": "D"
                                },
                                {
                                    "0": "49",
                                    "1": "50.73",
                                    "2": "D",
                                    "3": "D"
                                },
                                {
                                    "0": "23",
                                    "1": "52.40",
                                    "2": "D",
                                    "3": "D"
                                },
                                {
                                    "0": "13",
                                    "1": "45.55",
                                    "2": "F",
                                    "3": "F"
                                },
                                {
                                    "0": "32",
                                    "1": "45.23",
                                    "2": "F",
                                    "3": "F"
                                },
                                {
                                    "0": "35",
                                    "1": "44.54",
                                    "2": "F",
                                    "3": "F"
                                },
                                {
                                    "0": "31",
                                    "1": "45.42",
                                    "2": "F",
                                    "3": "F"
                                },
                                {
                                    "0": "29",
                                    "1": "42.78",
                                    "2": "F",
                                    "3": "F"
                                },
                                {
                                    "0": "22",
                                    "1": "40.60",
                                    "2": "F",
                                    "3": "F"
                                },
                                {
                                    "0": "20",
                                    "1": "48.26",
                                    "2": "F",
                                    "3": "F"
                                },
                                {
                                    "0": "15",
                                    "1": "44.38",
                                    "2": "F",
                                    "3": "F"
                                }
                            ]
                        },
                        "text/html": [
                            "<table>",
                            "<tr><th>student_id</th><th>score</th><th>grade</th><th>grade2</th></tr>",
                            "<tr><td>33</td><td>86.20</td><td>A</td><td>A</td></tr>",
                            "<tr><td>36</td><td>90.20</td><td>A</td><td>A</td></tr>",
                            "<tr><td>4</td><td>93.65</td><td>A</td><td>A</td></tr>",
                            "<tr><td>6</td><td>88.24</td><td>A</td><td>A</td></tr>",
                            "<tr><td>1</td><td>85.94</td><td>A</td><td>A</td></tr>",
                            "<tr><td>48</td><td>88.93</td><td>A</td><td>A</td></tr>",
                            "<tr><td>46</td><td>91.61</td><td>A</td><td>A</td></tr>",
                            "<tr><td>16</td><td>92.55</td><td>A</td><td>A</td></tr>",
                            "<tr><td>17</td><td>92.46</td><td>A</td><td>A</td></tr>",
                            "<tr><td>18</td><td>86.17</td><td>A</td><td>A</td></tr>",
                            "<tr><td>24</td><td>97.18</td><td>A</td><td>A</td></tr>",
                            "<tr><td>39</td><td>99.55</td><td>A</td><td>A</td></tr>",
                            "<tr><td>26</td><td>83.35</td><td>B+</td><td>B+</td></tr>",
                            "<tr><td>30</td><td>81.99</td><td>B+</td><td>B+</td></tr>",
                            "<tr><td>38</td><td>83.29</td><td>B+</td><td>B+</td></tr>",
                            "<tr><td>19</td><td>78.98</td><td>B</td><td>B</td></tr>",
                            "<tr><td>37</td><td>76.48</td><td>B</td><td>B</td></tr>",
                            "<tr><td>27</td><td>74.28</td><td>C+</td><td>C+</td></tr>",
                            "<tr><td>40</td><td>70.79</td><td>C+</td><td>C+</td></tr>",
                            "<tr><td>5</td><td>62.57</td><td>C</td><td>C</td></tr>",
                            "<tr><td>25</td><td>61.89</td><td>C</td><td>C</td></tr>",
                            "<tr><td>50</td><td>60.25</td><td>C</td><td>C</td></tr>",
                            "<tr><td>10</td><td>63.48</td><td>C</td><td>C</td></tr>",
                            "<tr><td>11</td><td>66.74</td><td>C</td><td>C</td></tr>",
                            "<tr><td>47</td><td>67.30</td><td>C</td><td>C</td></tr>",
                            "<tr><td>3</td><td>68.74</td><td>C</td><td>C</td></tr>",
                            "<tr><td>45</td><td>60.77</td><td>C</td><td>C</td></tr>",
                            "<tr><td>28</td><td>66.58</td><td>C</td><td>C</td></tr>",
                            "<tr><td>44</td><td>65.91</td><td>C</td><td>C</td></tr>",
                            "<tr><td>21</td><td>67.64</td><td>C</td><td>C</td></tr>",
                            "<tr><td>34</td><td>67.09</td><td>C</td><td>C</td></tr>",
                            "<tr><td>41</td><td>69.45</td><td>C</td><td>C</td></tr>",
                            "<tr><td>7</td><td>58.67</td><td>D+</td><td>D+</td></tr>",
                            "<tr><td>2</td><td>58.30</td><td>D+</td><td>D+</td></tr>",
                            "<tr><td>12</td><td>57.75</td><td>D+</td><td>D+</td></tr>",
                            "<tr><td>43</td><td>56.70</td><td>D+</td><td>D+</td></tr>",
                            "<tr><td>42</td><td>53.41</td><td>D</td><td>D</td></tr>",
                            "<tr><td>14</td><td>52.31</td><td>D</td><td>D</td></tr>",
                            "<tr><td>8</td><td>52.69</td><td>D</td><td>D</td></tr>",
                            "<tr><td>9</td><td>51.12</td><td>D</td><td>D</td></tr>",
                            "<tr><td>49</td><td>50.73</td><td>D</td><td>D</td></tr>",
                            "<tr><td>23</td><td>52.40</td><td>D</td><td>D</td></tr>",
                            "<tr><td>13</td><td>45.55</td><td>F</td><td>F</td></tr>",
                            "<tr><td>32</td><td>45.23</td><td>F</td><td>F</td></tr>",
                            "<tr><td>35</td><td>44.54</td><td>F</td><td>F</td></tr>",
                            "<tr><td>31</td><td>45.42</td><td>F</td><td>F</td></tr>",
                            "<tr><td>29</td><td>42.78</td><td>F</td><td>F</td></tr>",
                            "<tr><td>22</td><td>40.60</td><td>F</td><td>F</td></tr>",
                            "<tr><td>20</td><td>48.26</td><td>F</td><td>F</td></tr>",
                            "<tr><td>15</td><td>44.38</td><td>F</td><td>F</td></tr>",
                            "</table>"
                        ]
                    }
                }
            ],
            "execution_count": 14
        },
        {
            "cell_type": "code",
            "source": [
                "select * from student_grade where grade2 > 'B'"
            ],
            "metadata": {
                "azdata_cell_guid": "104c8f37-856a-4fd1-9652-2531c5ff91d5"
            },
            "outputs": [
                {
                    "output_type": "display_data",
                    "data": {
                        "text/html": "(33 row(s) affected)"
                    },
                    "metadata": {}
                },
                {
                    "output_type": "display_data",
                    "data": {
                        "text/html": "Total execution time: 00:00:00.009"
                    },
                    "metadata": {}
                },
                {
                    "output_type": "execute_result",
                    "metadata": {},
                    "execution_count": 16,
                    "data": {
                        "application/vnd.dataresource+json": {
                            "schema": {
                                "fields": [
                                    {
                                        "name": "student_id"
                                    },
                                    {
                                        "name": "score"
                                    },
                                    {
                                        "name": "grade"
                                    },
                                    {
                                        "name": "grade2"
                                    }
                                ]
                            },
                            "data": [
                                {
                                    "0": "2",
                                    "1": "58.30",
                                    "2": "D+",
                                    "3": "D+"
                                },
                                {
                                    "0": "3",
                                    "1": "68.74",
                                    "2": "C",
                                    "3": "C"
                                },
                                {
                                    "0": "5",
                                    "1": "62.57",
                                    "2": "C",
                                    "3": "C"
                                },
                                {
                                    "0": "7",
                                    "1": "58.67",
                                    "2": "D+",
                                    "3": "D+"
                                },
                                {
                                    "0": "8",
                                    "1": "52.69",
                                    "2": "D",
                                    "3": "D"
                                },
                                {
                                    "0": "9",
                                    "1": "51.12",
                                    "2": "D",
                                    "3": "D"
                                },
                                {
                                    "0": "10",
                                    "1": "63.48",
                                    "2": "C",
                                    "3": "C"
                                },
                                {
                                    "0": "11",
                                    "1": "66.74",
                                    "2": "C",
                                    "3": "C"
                                },
                                {
                                    "0": "12",
                                    "1": "57.75",
                                    "2": "D+",
                                    "3": "D+"
                                },
                                {
                                    "0": "13",
                                    "1": "45.55",
                                    "2": "F",
                                    "3": "F"
                                },
                                {
                                    "0": "14",
                                    "1": "52.31",
                                    "2": "D",
                                    "3": "D"
                                },
                                {
                                    "0": "15",
                                    "1": "44.38",
                                    "2": "F",
                                    "3": "F"
                                },
                                {
                                    "0": "20",
                                    "1": "48.26",
                                    "2": "F",
                                    "3": "F"
                                },
                                {
                                    "0": "21",
                                    "1": "67.64",
                                    "2": "C",
                                    "3": "C"
                                },
                                {
                                    "0": "22",
                                    "1": "40.60",
                                    "2": "F",
                                    "3": "F"
                                },
                                {
                                    "0": "23",
                                    "1": "52.40",
                                    "2": "D",
                                    "3": "D"
                                },
                                {
                                    "0": "25",
                                    "1": "61.89",
                                    "2": "C",
                                    "3": "C"
                                },
                                {
                                    "0": "27",
                                    "1": "74.28",
                                    "2": "C+",
                                    "3": "C+"
                                },
                                {
                                    "0": "28",
                                    "1": "66.58",
                                    "2": "C",
                                    "3": "C"
                                },
                                {
                                    "0": "29",
                                    "1": "42.78",
                                    "2": "F",
                                    "3": "F"
                                },
                                {
                                    "0": "31",
                                    "1": "45.42",
                                    "2": "F",
                                    "3": "F"
                                },
                                {
                                    "0": "32",
                                    "1": "45.23",
                                    "2": "F",
                                    "3": "F"
                                },
                                {
                                    "0": "34",
                                    "1": "67.09",
                                    "2": "C",
                                    "3": "C"
                                },
                                {
                                    "0": "35",
                                    "1": "44.54",
                                    "2": "F",
                                    "3": "F"
                                },
                                {
                                    "0": "40",
                                    "1": "70.79",
                                    "2": "C+",
                                    "3": "C+"
                                },
                                {
                                    "0": "41",
                                    "1": "69.45",
                                    "2": "C",
                                    "3": "C"
                                },
                                {
                                    "0": "42",
                                    "1": "53.41",
                                    "2": "D",
                                    "3": "D"
                                },
                                {
                                    "0": "43",
                                    "1": "56.70",
                                    "2": "D+",
                                    "3": "D+"
                                },
                                {
                                    "0": "44",
                                    "1": "65.91",
                                    "2": "C",
                                    "3": "C"
                                },
                                {
                                    "0": "45",
                                    "1": "60.77",
                                    "2": "C",
                                    "3": "C"
                                },
                                {
                                    "0": "47",
                                    "1": "67.30",
                                    "2": "C",
                                    "3": "C"
                                },
                                {
                                    "0": "49",
                                    "1": "50.73",
                                    "2": "D",
                                    "3": "D"
                                },
                                {
                                    "0": "50",
                                    "1": "60.25",
                                    "2": "C",
                                    "3": "C"
                                }
                            ]
                        },
                        "text/html": [
                            "<table>",
                            "<tr><th>student_id</th><th>score</th><th>grade</th><th>grade2</th></tr>",
                            "<tr><td>2</td><td>58.30</td><td>D+</td><td>D+</td></tr>",
                            "<tr><td>3</td><td>68.74</td><td>C</td><td>C</td></tr>",
                            "<tr><td>5</td><td>62.57</td><td>C</td><td>C</td></tr>",
                            "<tr><td>7</td><td>58.67</td><td>D+</td><td>D+</td></tr>",
                            "<tr><td>8</td><td>52.69</td><td>D</td><td>D</td></tr>",
                            "<tr><td>9</td><td>51.12</td><td>D</td><td>D</td></tr>",
                            "<tr><td>10</td><td>63.48</td><td>C</td><td>C</td></tr>",
                            "<tr><td>11</td><td>66.74</td><td>C</td><td>C</td></tr>",
                            "<tr><td>12</td><td>57.75</td><td>D+</td><td>D+</td></tr>",
                            "<tr><td>13</td><td>45.55</td><td>F</td><td>F</td></tr>",
                            "<tr><td>14</td><td>52.31</td><td>D</td><td>D</td></tr>",
                            "<tr><td>15</td><td>44.38</td><td>F</td><td>F</td></tr>",
                            "<tr><td>20</td><td>48.26</td><td>F</td><td>F</td></tr>",
                            "<tr><td>21</td><td>67.64</td><td>C</td><td>C</td></tr>",
                            "<tr><td>22</td><td>40.60</td><td>F</td><td>F</td></tr>",
                            "<tr><td>23</td><td>52.40</td><td>D</td><td>D</td></tr>",
                            "<tr><td>25</td><td>61.89</td><td>C</td><td>C</td></tr>",
                            "<tr><td>27</td><td>74.28</td><td>C+</td><td>C+</td></tr>",
                            "<tr><td>28</td><td>66.58</td><td>C</td><td>C</td></tr>",
                            "<tr><td>29</td><td>42.78</td><td>F</td><td>F</td></tr>",
                            "<tr><td>31</td><td>45.42</td><td>F</td><td>F</td></tr>",
                            "<tr><td>32</td><td>45.23</td><td>F</td><td>F</td></tr>",
                            "<tr><td>34</td><td>67.09</td><td>C</td><td>C</td></tr>",
                            "<tr><td>35</td><td>44.54</td><td>F</td><td>F</td></tr>",
                            "<tr><td>40</td><td>70.79</td><td>C+</td><td>C+</td></tr>",
                            "<tr><td>41</td><td>69.45</td><td>C</td><td>C</td></tr>",
                            "<tr><td>42</td><td>53.41</td><td>D</td><td>D</td></tr>",
                            "<tr><td>43</td><td>56.70</td><td>D+</td><td>D+</td></tr>",
                            "<tr><td>44</td><td>65.91</td><td>C</td><td>C</td></tr>",
                            "<tr><td>45</td><td>60.77</td><td>C</td><td>C</td></tr>",
                            "<tr><td>47</td><td>67.30</td><td>C</td><td>C</td></tr>",
                            "<tr><td>49</td><td>50.73</td><td>D</td><td>D</td></tr>",
                            "<tr><td>50</td><td>60.25</td><td>C</td><td>C</td></tr>",
                            "</table>"
                        ]
                    }
                }
            ],
            "execution_count": 16
        },
        {
            "cell_type": "code",
            "source": [
                "select * from student_grade where grade2 between 'C+' and 'D' order by grade2"
            ],
            "metadata": {
                "azdata_cell_guid": "3ad88568-c4d7-467f-ba97-d4f07caeae00"
            },
            "outputs": [
                {
                    "output_type": "display_data",
                    "data": {
                        "text/html": "(25 row(s) affected)"
                    },
                    "metadata": {}
                },
                {
                    "output_type": "display_data",
                    "data": {
                        "text/html": "Total execution time: 00:00:00.009"
                    },
                    "metadata": {}
                },
                {
                    "output_type": "execute_result",
                    "metadata": {},
                    "execution_count": 19,
                    "data": {
                        "application/vnd.dataresource+json": {
                            "schema": {
                                "fields": [
                                    {
                                        "name": "student_id"
                                    },
                                    {
                                        "name": "score"
                                    },
                                    {
                                        "name": "grade"
                                    },
                                    {
                                        "name": "grade2"
                                    }
                                ]
                            },
                            "data": [
                                {
                                    "0": "40",
                                    "1": "70.79",
                                    "2": "C+",
                                    "3": "C+"
                                },
                                {
                                    "0": "27",
                                    "1": "74.28",
                                    "2": "C+",
                                    "3": "C+"
                                },
                                {
                                    "0": "5",
                                    "1": "62.57",
                                    "2": "C",
                                    "3": "C"
                                },
                                {
                                    "0": "50",
                                    "1": "60.25",
                                    "2": "C",
                                    "3": "C"
                                },
                                {
                                    "0": "3",
                                    "1": "68.74",
                                    "2": "C",
                                    "3": "C"
                                },
                                {
                                    "0": "10",
                                    "1": "63.48",
                                    "2": "C",
                                    "3": "C"
                                },
                                {
                                    "0": "11",
                                    "1": "66.74",
                                    "2": "C",
                                    "3": "C"
                                },
                                {
                                    "0": "21",
                                    "1": "67.64",
                                    "2": "C",
                                    "3": "C"
                                },
                                {
                                    "0": "25",
                                    "1": "61.89",
                                    "2": "C",
                                    "3": "C"
                                },
                                {
                                    "0": "28",
                                    "1": "66.58",
                                    "2": "C",
                                    "3": "C"
                                },
                                {
                                    "0": "34",
                                    "1": "67.09",
                                    "2": "C",
                                    "3": "C"
                                },
                                {
                                    "0": "41",
                                    "1": "69.45",
                                    "2": "C",
                                    "3": "C"
                                },
                                {
                                    "0": "44",
                                    "1": "65.91",
                                    "2": "C",
                                    "3": "C"
                                },
                                {
                                    "0": "45",
                                    "1": "60.77",
                                    "2": "C",
                                    "3": "C"
                                },
                                {
                                    "0": "47",
                                    "1": "67.30",
                                    "2": "C",
                                    "3": "C"
                                },
                                {
                                    "0": "12",
                                    "1": "57.75",
                                    "2": "D+",
                                    "3": "D+"
                                },
                                {
                                    "0": "2",
                                    "1": "58.30",
                                    "2": "D+",
                                    "3": "D+"
                                },
                                {
                                    "0": "7",
                                    "1": "58.67",
                                    "2": "D+",
                                    "3": "D+"
                                },
                                {
                                    "0": "43",
                                    "1": "56.70",
                                    "2": "D+",
                                    "3": "D+"
                                },
                                {
                                    "0": "42",
                                    "1": "53.41",
                                    "2": "D",
                                    "3": "D"
                                },
                                {
                                    "0": "8",
                                    "1": "52.69",
                                    "2": "D",
                                    "3": "D"
                                },
                                {
                                    "0": "49",
                                    "1": "50.73",
                                    "2": "D",
                                    "3": "D"
                                },
                                {
                                    "0": "14",
                                    "1": "52.31",
                                    "2": "D",
                                    "3": "D"
                                },
                                {
                                    "0": "9",
                                    "1": "51.12",
                                    "2": "D",
                                    "3": "D"
                                },
                                {
                                    "0": "23",
                                    "1": "52.40",
                                    "2": "D",
                                    "3": "D"
                                }
                            ]
                        },
                        "text/html": [
                            "<table>",
                            "<tr><th>student_id</th><th>score</th><th>grade</th><th>grade2</th></tr>",
                            "<tr><td>40</td><td>70.79</td><td>C+</td><td>C+</td></tr>",
                            "<tr><td>27</td><td>74.28</td><td>C+</td><td>C+</td></tr>",
                            "<tr><td>5</td><td>62.57</td><td>C</td><td>C</td></tr>",
                            "<tr><td>50</td><td>60.25</td><td>C</td><td>C</td></tr>",
                            "<tr><td>3</td><td>68.74</td><td>C</td><td>C</td></tr>",
                            "<tr><td>10</td><td>63.48</td><td>C</td><td>C</td></tr>",
                            "<tr><td>11</td><td>66.74</td><td>C</td><td>C</td></tr>",
                            "<tr><td>21</td><td>67.64</td><td>C</td><td>C</td></tr>",
                            "<tr><td>25</td><td>61.89</td><td>C</td><td>C</td></tr>",
                            "<tr><td>28</td><td>66.58</td><td>C</td><td>C</td></tr>",
                            "<tr><td>34</td><td>67.09</td><td>C</td><td>C</td></tr>",
                            "<tr><td>41</td><td>69.45</td><td>C</td><td>C</td></tr>",
                            "<tr><td>44</td><td>65.91</td><td>C</td><td>C</td></tr>",
                            "<tr><td>45</td><td>60.77</td><td>C</td><td>C</td></tr>",
                            "<tr><td>47</td><td>67.30</td><td>C</td><td>C</td></tr>",
                            "<tr><td>12</td><td>57.75</td><td>D+</td><td>D+</td></tr>",
                            "<tr><td>2</td><td>58.30</td><td>D+</td><td>D+</td></tr>",
                            "<tr><td>7</td><td>58.67</td><td>D+</td><td>D+</td></tr>",
                            "<tr><td>43</td><td>56.70</td><td>D+</td><td>D+</td></tr>",
                            "<tr><td>42</td><td>53.41</td><td>D</td><td>D</td></tr>",
                            "<tr><td>8</td><td>52.69</td><td>D</td><td>D</td></tr>",
                            "<tr><td>49</td><td>50.73</td><td>D</td><td>D</td></tr>",
                            "<tr><td>14</td><td>52.31</td><td>D</td><td>D</td></tr>",
                            "<tr><td>9</td><td>51.12</td><td>D</td><td>D</td></tr>",
                            "<tr><td>23</td><td>52.40</td><td>D</td><td>D</td></tr>",
                            "</table>"
                        ]
                    }
                }
            ],
            "execution_count": 19
        },
        {
            "cell_type": "code",
            "source": [
                "insert into student_grade values (101, 97, 'A', 'A')"
            ],
            "metadata": {
                "azdata_cell_guid": "32be64c0-2449-4ea1-a26a-6d7f37824472"
            },
            "outputs": [
                {
                    "output_type": "display_data",
                    "data": {
                        "text/html": "Commands completed successfully"
                    },
                    "metadata": {}
                },
                {
                    "output_type": "display_data",
                    "data": {
                        "text/html": "Total execution time: 00:00:00.002"
                    },
                    "metadata": {}
                }
            ],
            "execution_count": 27
        },
        {
            "cell_type": "code",
            "source": [
                "select * from student_grade"
            ],
            "metadata": {
                "azdata_cell_guid": "de01f03c-87f0-497f-9d10-bb79927becbf"
            },
            "outputs": [
                {
                    "output_type": "display_data",
                    "data": {
                        "text/html": "(51 row(s) affected)"
                    },
                    "metadata": {}
                },
                {
                    "output_type": "display_data",
                    "data": {
                        "text/html": "Total execution time: 00:00:00.010"
                    },
                    "metadata": {}
                },
                {
                    "output_type": "execute_result",
                    "metadata": {},
                    "execution_count": 28,
                    "data": {
                        "application/vnd.dataresource+json": {
                            "schema": {
                                "fields": [
                                    {
                                        "name": "student_id"
                                    },
                                    {
                                        "name": "score"
                                    },
                                    {
                                        "name": "grade"
                                    },
                                    {
                                        "name": "grade2"
                                    }
                                ]
                            },
                            "data": [
                                {
                                    "0": "101",
                                    "1": "97.00",
                                    "2": "A",
                                    "3": "A"
                                },
                                {
                                    "0": "1",
                                    "1": "85.94",
                                    "2": "A",
                                    "3": "A"
                                },
                                {
                                    "0": "2",
                                    "1": "58.30",
                                    "2": "D+",
                                    "3": "D+"
                                },
                                {
                                    "0": "3",
                                    "1": "68.74",
                                    "2": "C",
                                    "3": "C"
                                },
                                {
                                    "0": "4",
                                    "1": "93.65",
                                    "2": "A",
                                    "3": "A"
                                },
                                {
                                    "0": "5",
                                    "1": "62.57",
                                    "2": "C",
                                    "3": "C"
                                },
                                {
                                    "0": "6",
                                    "1": "88.24",
                                    "2": "A",
                                    "3": "A"
                                },
                                {
                                    "0": "7",
                                    "1": "58.67",
                                    "2": "D+",
                                    "3": "D+"
                                },
                                {
                                    "0": "8",
                                    "1": "52.69",
                                    "2": "D",
                                    "3": "D"
                                },
                                {
                                    "0": "9",
                                    "1": "51.12",
                                    "2": "D",
                                    "3": "D"
                                },
                                {
                                    "0": "10",
                                    "1": "63.48",
                                    "2": "C",
                                    "3": "C"
                                },
                                {
                                    "0": "11",
                                    "1": "66.74",
                                    "2": "C",
                                    "3": "C"
                                },
                                {
                                    "0": "12",
                                    "1": "57.75",
                                    "2": "D+",
                                    "3": "D+"
                                },
                                {
                                    "0": "13",
                                    "1": "45.55",
                                    "2": "F",
                                    "3": "F"
                                },
                                {
                                    "0": "14",
                                    "1": "52.31",
                                    "2": "D",
                                    "3": "D"
                                },
                                {
                                    "0": "15",
                                    "1": "44.38",
                                    "2": "F",
                                    "3": "F"
                                },
                                {
                                    "0": "16",
                                    "1": "92.55",
                                    "2": "A",
                                    "3": "A"
                                },
                                {
                                    "0": "17",
                                    "1": "92.46",
                                    "2": "A",
                                    "3": "A"
                                },
                                {
                                    "0": "18",
                                    "1": "86.17",
                                    "2": "A",
                                    "3": "A"
                                },
                                {
                                    "0": "19",
                                    "1": "78.98",
                                    "2": "B",
                                    "3": "B"
                                },
                                {
                                    "0": "20",
                                    "1": "48.26",
                                    "2": "F",
                                    "3": "F"
                                },
                                {
                                    "0": "21",
                                    "1": "67.64",
                                    "2": "C",
                                    "3": "C"
                                },
                                {
                                    "0": "22",
                                    "1": "40.60",
                                    "2": "F",
                                    "3": "F"
                                },
                                {
                                    "0": "23",
                                    "1": "52.40",
                                    "2": "D",
                                    "3": "D"
                                },
                                {
                                    "0": "24",
                                    "1": "97.18",
                                    "2": "A",
                                    "3": "A"
                                },
                                {
                                    "0": "25",
                                    "1": "61.89",
                                    "2": "C",
                                    "3": "C"
                                },
                                {
                                    "0": "26",
                                    "1": "83.35",
                                    "2": "B+",
                                    "3": "B+"
                                },
                                {
                                    "0": "27",
                                    "1": "74.28",
                                    "2": "C+",
                                    "3": "C+"
                                },
                                {
                                    "0": "28",
                                    "1": "66.58",
                                    "2": "C",
                                    "3": "C"
                                },
                                {
                                    "0": "29",
                                    "1": "42.78",
                                    "2": "F",
                                    "3": "F"
                                },
                                {
                                    "0": "30",
                                    "1": "81.99",
                                    "2": "B+",
                                    "3": "B+"
                                },
                                {
                                    "0": "31",
                                    "1": "45.42",
                                    "2": "F",
                                    "3": "F"
                                },
                                {
                                    "0": "32",
                                    "1": "45.23",
                                    "2": "F",
                                    "3": "F"
                                },
                                {
                                    "0": "33",
                                    "1": "86.20",
                                    "2": "A",
                                    "3": "A"
                                },
                                {
                                    "0": "34",
                                    "1": "67.09",
                                    "2": "C",
                                    "3": "C"
                                },
                                {
                                    "0": "35",
                                    "1": "44.54",
                                    "2": "F",
                                    "3": "F"
                                },
                                {
                                    "0": "36",
                                    "1": "90.20",
                                    "2": "A",
                                    "3": "A"
                                },
                                {
                                    "0": "37",
                                    "1": "76.48",
                                    "2": "B",
                                    "3": "B"
                                },
                                {
                                    "0": "38",
                                    "1": "83.29",
                                    "2": "B+",
                                    "3": "B+"
                                },
                                {
                                    "0": "39",
                                    "1": "99.55",
                                    "2": "A",
                                    "3": "A"
                                },
                                {
                                    "0": "40",
                                    "1": "70.79",
                                    "2": "C+",
                                    "3": "C+"
                                },
                                {
                                    "0": "41",
                                    "1": "69.45",
                                    "2": "C",
                                    "3": "C"
                                },
                                {
                                    "0": "42",
                                    "1": "53.41",
                                    "2": "D",
                                    "3": "D"
                                },
                                {
                                    "0": "43",
                                    "1": "56.70",
                                    "2": "D+",
                                    "3": "D+"
                                },
                                {
                                    "0": "44",
                                    "1": "65.91",
                                    "2": "C",
                                    "3": "C"
                                },
                                {
                                    "0": "45",
                                    "1": "60.77",
                                    "2": "C",
                                    "3": "C"
                                },
                                {
                                    "0": "46",
                                    "1": "91.61",
                                    "2": "A",
                                    "3": "A"
                                },
                                {
                                    "0": "47",
                                    "1": "67.30",
                                    "2": "C",
                                    "3": "C"
                                },
                                {
                                    "0": "48",
                                    "1": "88.93",
                                    "2": "A",
                                    "3": "A"
                                },
                                {
                                    "0": "49",
                                    "1": "50.73",
                                    "2": "D",
                                    "3": "D"
                                },
                                {
                                    "0": "50",
                                    "1": "60.25",
                                    "2": "C",
                                    "3": "C"
                                }
                            ]
                        },
                        "text/html": [
                            "<table>",
                            "<tr><th>student_id</th><th>score</th><th>grade</th><th>grade2</th></tr>",
                            "<tr><td>101</td><td>97.00</td><td>A</td><td>A</td></tr>",
                            "<tr><td>1</td><td>85.94</td><td>A</td><td>A</td></tr>",
                            "<tr><td>2</td><td>58.30</td><td>D+</td><td>D+</td></tr>",
                            "<tr><td>3</td><td>68.74</td><td>C</td><td>C</td></tr>",
                            "<tr><td>4</td><td>93.65</td><td>A</td><td>A</td></tr>",
                            "<tr><td>5</td><td>62.57</td><td>C</td><td>C</td></tr>",
                            "<tr><td>6</td><td>88.24</td><td>A</td><td>A</td></tr>",
                            "<tr><td>7</td><td>58.67</td><td>D+</td><td>D+</td></tr>",
                            "<tr><td>8</td><td>52.69</td><td>D</td><td>D</td></tr>",
                            "<tr><td>9</td><td>51.12</td><td>D</td><td>D</td></tr>",
                            "<tr><td>10</td><td>63.48</td><td>C</td><td>C</td></tr>",
                            "<tr><td>11</td><td>66.74</td><td>C</td><td>C</td></tr>",
                            "<tr><td>12</td><td>57.75</td><td>D+</td><td>D+</td></tr>",
                            "<tr><td>13</td><td>45.55</td><td>F</td><td>F</td></tr>",
                            "<tr><td>14</td><td>52.31</td><td>D</td><td>D</td></tr>",
                            "<tr><td>15</td><td>44.38</td><td>F</td><td>F</td></tr>",
                            "<tr><td>16</td><td>92.55</td><td>A</td><td>A</td></tr>",
                            "<tr><td>17</td><td>92.46</td><td>A</td><td>A</td></tr>",
                            "<tr><td>18</td><td>86.17</td><td>A</td><td>A</td></tr>",
                            "<tr><td>19</td><td>78.98</td><td>B</td><td>B</td></tr>",
                            "<tr><td>20</td><td>48.26</td><td>F</td><td>F</td></tr>",
                            "<tr><td>21</td><td>67.64</td><td>C</td><td>C</td></tr>",
                            "<tr><td>22</td><td>40.60</td><td>F</td><td>F</td></tr>",
                            "<tr><td>23</td><td>52.40</td><td>D</td><td>D</td></tr>",
                            "<tr><td>24</td><td>97.18</td><td>A</td><td>A</td></tr>",
                            "<tr><td>25</td><td>61.89</td><td>C</td><td>C</td></tr>",
                            "<tr><td>26</td><td>83.35</td><td>B+</td><td>B+</td></tr>",
                            "<tr><td>27</td><td>74.28</td><td>C+</td><td>C+</td></tr>",
                            "<tr><td>28</td><td>66.58</td><td>C</td><td>C</td></tr>",
                            "<tr><td>29</td><td>42.78</td><td>F</td><td>F</td></tr>",
                            "<tr><td>30</td><td>81.99</td><td>B+</td><td>B+</td></tr>",
                            "<tr><td>31</td><td>45.42</td><td>F</td><td>F</td></tr>",
                            "<tr><td>32</td><td>45.23</td><td>F</td><td>F</td></tr>",
                            "<tr><td>33</td><td>86.20</td><td>A</td><td>A</td></tr>",
                            "<tr><td>34</td><td>67.09</td><td>C</td><td>C</td></tr>",
                            "<tr><td>35</td><td>44.54</td><td>F</td><td>F</td></tr>",
                            "<tr><td>36</td><td>90.20</td><td>A</td><td>A</td></tr>",
                            "<tr><td>37</td><td>76.48</td><td>B</td><td>B</td></tr>",
                            "<tr><td>38</td><td>83.29</td><td>B+</td><td>B+</td></tr>",
                            "<tr><td>39</td><td>99.55</td><td>A</td><td>A</td></tr>",
                            "<tr><td>40</td><td>70.79</td><td>C+</td><td>C+</td></tr>",
                            "<tr><td>41</td><td>69.45</td><td>C</td><td>C</td></tr>",
                            "<tr><td>42</td><td>53.41</td><td>D</td><td>D</td></tr>",
                            "<tr><td>43</td><td>56.70</td><td>D+</td><td>D+</td></tr>",
                            "<tr><td>44</td><td>65.91</td><td>C</td><td>C</td></tr>",
                            "<tr><td>45</td><td>60.77</td><td>C</td><td>C</td></tr>",
                            "<tr><td>46</td><td>91.61</td><td>A</td><td>A</td></tr>",
                            "<tr><td>47</td><td>67.30</td><td>C</td><td>C</td></tr>",
                            "<tr><td>48</td><td>88.93</td><td>A</td><td>A</td></tr>",
                            "<tr><td>49</td><td>50.73</td><td>D</td><td>D</td></tr>",
                            "<tr><td>50</td><td>60.25</td><td>C</td><td>C</td></tr>",
                            "</table>"
                        ]
                    }
                }
            ],
            "execution_count": 28
        },
        {
            "cell_type": "code",
            "source": [
                "insert into student_grade values (102, 97, 'B+', 'B+')\r\n",
                "    where student_id = 101"
            ],
            "metadata": {
                "azdata_cell_guid": "52f541ef-36f0-422b-abd4-7817b70420e7",
                "tags": [
                    "hide_input"
                ]
            },
            "outputs": [
                {
                    "output_type": "error",
                    "evalue": "syntax error at or near \"where\"",
                    "ename": "",
                    "traceback": []
                },
                {
                    "output_type": "display_data",
                    "data": {
                        "text/html": "Total execution time: 00:00:00.002"
                    },
                    "metadata": {}
                }
            ],
            "execution_count": 29
        },
        {
            "cell_type": "code",
            "source": [
                "select * from student_grade"
            ],
            "metadata": {
                "azdata_cell_guid": "b08340f3-2306-4d73-b781-4f11575c13b6"
            },
            "outputs": [
                {
                    "output_type": "display_data",
                    "data": {
                        "text/html": "(51 row(s) affected)"
                    },
                    "metadata": {}
                },
                {
                    "output_type": "display_data",
                    "data": {
                        "text/html": "Total execution time: 00:00:00.004"
                    },
                    "metadata": {}
                },
                {
                    "output_type": "execute_result",
                    "metadata": {},
                    "execution_count": 31,
                    "data": {
                        "application/vnd.dataresource+json": {
                            "schema": {
                                "fields": [
                                    {
                                        "name": "student_id"
                                    },
                                    {
                                        "name": "score"
                                    },
                                    {
                                        "name": "grade"
                                    },
                                    {
                                        "name": "grade2"
                                    }
                                ]
                            },
                            "data": [
                                {
                                    "0": "101",
                                    "1": "97.00",
                                    "2": "A",
                                    "3": "A"
                                },
                                {
                                    "0": "1",
                                    "1": "85.94",
                                    "2": "A",
                                    "3": "A"
                                },
                                {
                                    "0": "2",
                                    "1": "58.30",
                                    "2": "D+",
                                    "3": "D+"
                                },
                                {
                                    "0": "3",
                                    "1": "68.74",
                                    "2": "C",
                                    "3": "C"
                                },
                                {
                                    "0": "4",
                                    "1": "93.65",
                                    "2": "A",
                                    "3": "A"
                                },
                                {
                                    "0": "5",
                                    "1": "62.57",
                                    "2": "C",
                                    "3": "C"
                                },
                                {
                                    "0": "6",
                                    "1": "88.24",
                                    "2": "A",
                                    "3": "A"
                                },
                                {
                                    "0": "7",
                                    "1": "58.67",
                                    "2": "D+",
                                    "3": "D+"
                                },
                                {
                                    "0": "8",
                                    "1": "52.69",
                                    "2": "D",
                                    "3": "D"
                                },
                                {
                                    "0": "9",
                                    "1": "51.12",
                                    "2": "D",
                                    "3": "D"
                                },
                                {
                                    "0": "10",
                                    "1": "63.48",
                                    "2": "C",
                                    "3": "C"
                                },
                                {
                                    "0": "11",
                                    "1": "66.74",
                                    "2": "C",
                                    "3": "C"
                                },
                                {
                                    "0": "12",
                                    "1": "57.75",
                                    "2": "D+",
                                    "3": "D+"
                                },
                                {
                                    "0": "13",
                                    "1": "45.55",
                                    "2": "F",
                                    "3": "F"
                                },
                                {
                                    "0": "14",
                                    "1": "52.31",
                                    "2": "D",
                                    "3": "D"
                                },
                                {
                                    "0": "15",
                                    "1": "44.38",
                                    "2": "F",
                                    "3": "F"
                                },
                                {
                                    "0": "16",
                                    "1": "92.55",
                                    "2": "A",
                                    "3": "A"
                                },
                                {
                                    "0": "17",
                                    "1": "92.46",
                                    "2": "A",
                                    "3": "A"
                                },
                                {
                                    "0": "18",
                                    "1": "86.17",
                                    "2": "A",
                                    "3": "A"
                                },
                                {
                                    "0": "19",
                                    "1": "78.98",
                                    "2": "B",
                                    "3": "B"
                                },
                                {
                                    "0": "20",
                                    "1": "48.26",
                                    "2": "F",
                                    "3": "F"
                                },
                                {
                                    "0": "21",
                                    "1": "67.64",
                                    "2": "C",
                                    "3": "C"
                                },
                                {
                                    "0": "22",
                                    "1": "40.60",
                                    "2": "F",
                                    "3": "F"
                                },
                                {
                                    "0": "23",
                                    "1": "52.40",
                                    "2": "D",
                                    "3": "D"
                                },
                                {
                                    "0": "24",
                                    "1": "97.18",
                                    "2": "A",
                                    "3": "A"
                                },
                                {
                                    "0": "25",
                                    "1": "61.89",
                                    "2": "C",
                                    "3": "C"
                                },
                                {
                                    "0": "26",
                                    "1": "83.35",
                                    "2": "B+",
                                    "3": "B+"
                                },
                                {
                                    "0": "27",
                                    "1": "74.28",
                                    "2": "C+",
                                    "3": "C+"
                                },
                                {
                                    "0": "28",
                                    "1": "66.58",
                                    "2": "C",
                                    "3": "C"
                                },
                                {
                                    "0": "29",
                                    "1": "42.78",
                                    "2": "F",
                                    "3": "F"
                                },
                                {
                                    "0": "30",
                                    "1": "81.99",
                                    "2": "B+",
                                    "3": "B+"
                                },
                                {
                                    "0": "31",
                                    "1": "45.42",
                                    "2": "F",
                                    "3": "F"
                                },
                                {
                                    "0": "32",
                                    "1": "45.23",
                                    "2": "F",
                                    "3": "F"
                                },
                                {
                                    "0": "33",
                                    "1": "86.20",
                                    "2": "A",
                                    "3": "A"
                                },
                                {
                                    "0": "34",
                                    "1": "67.09",
                                    "2": "C",
                                    "3": "C"
                                },
                                {
                                    "0": "35",
                                    "1": "44.54",
                                    "2": "F",
                                    "3": "F"
                                },
                                {
                                    "0": "36",
                                    "1": "90.20",
                                    "2": "A",
                                    "3": "A"
                                },
                                {
                                    "0": "37",
                                    "1": "76.48",
                                    "2": "B",
                                    "3": "B"
                                },
                                {
                                    "0": "38",
                                    "1": "83.29",
                                    "2": "B+",
                                    "3": "B+"
                                },
                                {
                                    "0": "39",
                                    "1": "99.55",
                                    "2": "A",
                                    "3": "A"
                                },
                                {
                                    "0": "40",
                                    "1": "70.79",
                                    "2": "C+",
                                    "3": "C+"
                                },
                                {
                                    "0": "41",
                                    "1": "69.45",
                                    "2": "C",
                                    "3": "C"
                                },
                                {
                                    "0": "42",
                                    "1": "53.41",
                                    "2": "D",
                                    "3": "D"
                                },
                                {
                                    "0": "43",
                                    "1": "56.70",
                                    "2": "D+",
                                    "3": "D+"
                                },
                                {
                                    "0": "44",
                                    "1": "65.91",
                                    "2": "C",
                                    "3": "C"
                                },
                                {
                                    "0": "45",
                                    "1": "60.77",
                                    "2": "C",
                                    "3": "C"
                                },
                                {
                                    "0": "46",
                                    "1": "91.61",
                                    "2": "A",
                                    "3": "A"
                                },
                                {
                                    "0": "47",
                                    "1": "67.30",
                                    "2": "C",
                                    "3": "C"
                                },
                                {
                                    "0": "48",
                                    "1": "88.93",
                                    "2": "A",
                                    "3": "A"
                                },
                                {
                                    "0": "49",
                                    "1": "50.73",
                                    "2": "D",
                                    "3": "D"
                                },
                                {
                                    "0": "50",
                                    "1": "60.25",
                                    "2": "C",
                                    "3": "C"
                                }
                            ]
                        },
                        "text/html": [
                            "<table>",
                            "<tr><th>student_id</th><th>score</th><th>grade</th><th>grade2</th></tr>",
                            "<tr><td>101</td><td>97.00</td><td>A</td><td>A</td></tr>",
                            "<tr><td>1</td><td>85.94</td><td>A</td><td>A</td></tr>",
                            "<tr><td>2</td><td>58.30</td><td>D+</td><td>D+</td></tr>",
                            "<tr><td>3</td><td>68.74</td><td>C</td><td>C</td></tr>",
                            "<tr><td>4</td><td>93.65</td><td>A</td><td>A</td></tr>",
                            "<tr><td>5</td><td>62.57</td><td>C</td><td>C</td></tr>",
                            "<tr><td>6</td><td>88.24</td><td>A</td><td>A</td></tr>",
                            "<tr><td>7</td><td>58.67</td><td>D+</td><td>D+</td></tr>",
                            "<tr><td>8</td><td>52.69</td><td>D</td><td>D</td></tr>",
                            "<tr><td>9</td><td>51.12</td><td>D</td><td>D</td></tr>",
                            "<tr><td>10</td><td>63.48</td><td>C</td><td>C</td></tr>",
                            "<tr><td>11</td><td>66.74</td><td>C</td><td>C</td></tr>",
                            "<tr><td>12</td><td>57.75</td><td>D+</td><td>D+</td></tr>",
                            "<tr><td>13</td><td>45.55</td><td>F</td><td>F</td></tr>",
                            "<tr><td>14</td><td>52.31</td><td>D</td><td>D</td></tr>",
                            "<tr><td>15</td><td>44.38</td><td>F</td><td>F</td></tr>",
                            "<tr><td>16</td><td>92.55</td><td>A</td><td>A</td></tr>",
                            "<tr><td>17</td><td>92.46</td><td>A</td><td>A</td></tr>",
                            "<tr><td>18</td><td>86.17</td><td>A</td><td>A</td></tr>",
                            "<tr><td>19</td><td>78.98</td><td>B</td><td>B</td></tr>",
                            "<tr><td>20</td><td>48.26</td><td>F</td><td>F</td></tr>",
                            "<tr><td>21</td><td>67.64</td><td>C</td><td>C</td></tr>",
                            "<tr><td>22</td><td>40.60</td><td>F</td><td>F</td></tr>",
                            "<tr><td>23</td><td>52.40</td><td>D</td><td>D</td></tr>",
                            "<tr><td>24</td><td>97.18</td><td>A</td><td>A</td></tr>",
                            "<tr><td>25</td><td>61.89</td><td>C</td><td>C</td></tr>",
                            "<tr><td>26</td><td>83.35</td><td>B+</td><td>B+</td></tr>",
                            "<tr><td>27</td><td>74.28</td><td>C+</td><td>C+</td></tr>",
                            "<tr><td>28</td><td>66.58</td><td>C</td><td>C</td></tr>",
                            "<tr><td>29</td><td>42.78</td><td>F</td><td>F</td></tr>",
                            "<tr><td>30</td><td>81.99</td><td>B+</td><td>B+</td></tr>",
                            "<tr><td>31</td><td>45.42</td><td>F</td><td>F</td></tr>",
                            "<tr><td>32</td><td>45.23</td><td>F</td><td>F</td></tr>",
                            "<tr><td>33</td><td>86.20</td><td>A</td><td>A</td></tr>",
                            "<tr><td>34</td><td>67.09</td><td>C</td><td>C</td></tr>",
                            "<tr><td>35</td><td>44.54</td><td>F</td><td>F</td></tr>",
                            "<tr><td>36</td><td>90.20</td><td>A</td><td>A</td></tr>",
                            "<tr><td>37</td><td>76.48</td><td>B</td><td>B</td></tr>",
                            "<tr><td>38</td><td>83.29</td><td>B+</td><td>B+</td></tr>",
                            "<tr><td>39</td><td>99.55</td><td>A</td><td>A</td></tr>",
                            "<tr><td>40</td><td>70.79</td><td>C+</td><td>C+</td></tr>",
                            "<tr><td>41</td><td>69.45</td><td>C</td><td>C</td></tr>",
                            "<tr><td>42</td><td>53.41</td><td>D</td><td>D</td></tr>",
                            "<tr><td>43</td><td>56.70</td><td>D+</td><td>D+</td></tr>",
                            "<tr><td>44</td><td>65.91</td><td>C</td><td>C</td></tr>",
                            "<tr><td>45</td><td>60.77</td><td>C</td><td>C</td></tr>",
                            "<tr><td>46</td><td>91.61</td><td>A</td><td>A</td></tr>",
                            "<tr><td>47</td><td>67.30</td><td>C</td><td>C</td></tr>",
                            "<tr><td>48</td><td>88.93</td><td>A</td><td>A</td></tr>",
                            "<tr><td>49</td><td>50.73</td><td>D</td><td>D</td></tr>",
                            "<tr><td>50</td><td>60.25</td><td>C</td><td>C</td></tr>",
                            "</table>"
                        ]
                    }
                }
            ],
            "execution_count": 31
        },
        {
            "cell_type": "code",
            "source": [
                "-- ค่าที่เป็นไปได้ ('S', 'M', 'L', 'XL')"
            ],
            "metadata": {
                "azdata_cell_guid": "7c47e3a3-4879-4cc0-8741-0ae02514f00c"
            },
            "outputs": [],
            "execution_count": null
        },
        {
            "cell_type": "code",
            "source": [
                "insert into student_grade values (103, null, null, null)"
            ],
            "metadata": {
                "azdata_cell_guid": "1b4400e9-b72a-41a0-b470-381a522c2650"
            },
            "outputs": [
                {
                    "output_type": "display_data",
                    "data": {
                        "text/html": "Commands completed successfully"
                    },
                    "metadata": {}
                },
                {
                    "output_type": "display_data",
                    "data": {
                        "text/html": "Total execution time: 00:00:00"
                    },
                    "metadata": {}
                }
            ],
            "execution_count": 32
        },
        {
            "cell_type": "code",
            "source": [
                "select * from student_grade"
            ],
            "metadata": {
                "azdata_cell_guid": "00de0245-79f8-4b59-9abf-8557fefe35c8"
            },
            "outputs": [
                {
                    "output_type": "display_data",
                    "data": {
                        "text/html": "(52 row(s) affected)"
                    },
                    "metadata": {}
                },
                {
                    "output_type": "display_data",
                    "data": {
                        "text/html": "Total execution time: 00:00:00.008"
                    },
                    "metadata": {}
                },
                {
                    "output_type": "execute_result",
                    "metadata": {},
                    "execution_count": 33,
                    "data": {
                        "application/vnd.dataresource+json": {
                            "schema": {
                                "fields": [
                                    {
                                        "name": "student_id"
                                    },
                                    {
                                        "name": "score"
                                    },
                                    {
                                        "name": "grade"
                                    },
                                    {
                                        "name": "grade2"
                                    }
                                ]
                            },
                            "data": [
                                {
                                    "0": "101",
                                    "1": "97.00",
                                    "2": "A",
                                    "3": "A"
                                },
                                {
                                    "0": "103",
                                    "1": "NULL",
                                    "2": "NULL",
                                    "3": "NULL"
                                },
                                {
                                    "0": "1",
                                    "1": "85.94",
                                    "2": "A",
                                    "3": "A"
                                },
                                {
                                    "0": "2",
                                    "1": "58.30",
                                    "2": "D+",
                                    "3": "D+"
                                },
                                {
                                    "0": "3",
                                    "1": "68.74",
                                    "2": "C",
                                    "3": "C"
                                },
                                {
                                    "0": "4",
                                    "1": "93.65",
                                    "2": "A",
                                    "3": "A"
                                },
                                {
                                    "0": "5",
                                    "1": "62.57",
                                    "2": "C",
                                    "3": "C"
                                },
                                {
                                    "0": "6",
                                    "1": "88.24",
                                    "2": "A",
                                    "3": "A"
                                },
                                {
                                    "0": "7",
                                    "1": "58.67",
                                    "2": "D+",
                                    "3": "D+"
                                },
                                {
                                    "0": "8",
                                    "1": "52.69",
                                    "2": "D",
                                    "3": "D"
                                },
                                {
                                    "0": "9",
                                    "1": "51.12",
                                    "2": "D",
                                    "3": "D"
                                },
                                {
                                    "0": "10",
                                    "1": "63.48",
                                    "2": "C",
                                    "3": "C"
                                },
                                {
                                    "0": "11",
                                    "1": "66.74",
                                    "2": "C",
                                    "3": "C"
                                },
                                {
                                    "0": "12",
                                    "1": "57.75",
                                    "2": "D+",
                                    "3": "D+"
                                },
                                {
                                    "0": "13",
                                    "1": "45.55",
                                    "2": "F",
                                    "3": "F"
                                },
                                {
                                    "0": "14",
                                    "1": "52.31",
                                    "2": "D",
                                    "3": "D"
                                },
                                {
                                    "0": "15",
                                    "1": "44.38",
                                    "2": "F",
                                    "3": "F"
                                },
                                {
                                    "0": "16",
                                    "1": "92.55",
                                    "2": "A",
                                    "3": "A"
                                },
                                {
                                    "0": "17",
                                    "1": "92.46",
                                    "2": "A",
                                    "3": "A"
                                },
                                {
                                    "0": "18",
                                    "1": "86.17",
                                    "2": "A",
                                    "3": "A"
                                },
                                {
                                    "0": "19",
                                    "1": "78.98",
                                    "2": "B",
                                    "3": "B"
                                },
                                {
                                    "0": "20",
                                    "1": "48.26",
                                    "2": "F",
                                    "3": "F"
                                },
                                {
                                    "0": "21",
                                    "1": "67.64",
                                    "2": "C",
                                    "3": "C"
                                },
                                {
                                    "0": "22",
                                    "1": "40.60",
                                    "2": "F",
                                    "3": "F"
                                },
                                {
                                    "0": "23",
                                    "1": "52.40",
                                    "2": "D",
                                    "3": "D"
                                },
                                {
                                    "0": "24",
                                    "1": "97.18",
                                    "2": "A",
                                    "3": "A"
                                },
                                {
                                    "0": "25",
                                    "1": "61.89",
                                    "2": "C",
                                    "3": "C"
                                },
                                {
                                    "0": "26",
                                    "1": "83.35",
                                    "2": "B+",
                                    "3": "B+"
                                },
                                {
                                    "0": "27",
                                    "1": "74.28",
                                    "2": "C+",
                                    "3": "C+"
                                },
                                {
                                    "0": "28",
                                    "1": "66.58",
                                    "2": "C",
                                    "3": "C"
                                },
                                {
                                    "0": "29",
                                    "1": "42.78",
                                    "2": "F",
                                    "3": "F"
                                },
                                {
                                    "0": "30",
                                    "1": "81.99",
                                    "2": "B+",
                                    "3": "B+"
                                },
                                {
                                    "0": "31",
                                    "1": "45.42",
                                    "2": "F",
                                    "3": "F"
                                },
                                {
                                    "0": "32",
                                    "1": "45.23",
                                    "2": "F",
                                    "3": "F"
                                },
                                {
                                    "0": "33",
                                    "1": "86.20",
                                    "2": "A",
                                    "3": "A"
                                },
                                {
                                    "0": "34",
                                    "1": "67.09",
                                    "2": "C",
                                    "3": "C"
                                },
                                {
                                    "0": "35",
                                    "1": "44.54",
                                    "2": "F",
                                    "3": "F"
                                },
                                {
                                    "0": "36",
                                    "1": "90.20",
                                    "2": "A",
                                    "3": "A"
                                },
                                {
                                    "0": "37",
                                    "1": "76.48",
                                    "2": "B",
                                    "3": "B"
                                },
                                {
                                    "0": "38",
                                    "1": "83.29",
                                    "2": "B+",
                                    "3": "B+"
                                },
                                {
                                    "0": "39",
                                    "1": "99.55",
                                    "2": "A",
                                    "3": "A"
                                },
                                {
                                    "0": "40",
                                    "1": "70.79",
                                    "2": "C+",
                                    "3": "C+"
                                },
                                {
                                    "0": "41",
                                    "1": "69.45",
                                    "2": "C",
                                    "3": "C"
                                },
                                {
                                    "0": "42",
                                    "1": "53.41",
                                    "2": "D",
                                    "3": "D"
                                },
                                {
                                    "0": "43",
                                    "1": "56.70",
                                    "2": "D+",
                                    "3": "D+"
                                },
                                {
                                    "0": "44",
                                    "1": "65.91",
                                    "2": "C",
                                    "3": "C"
                                },
                                {
                                    "0": "45",
                                    "1": "60.77",
                                    "2": "C",
                                    "3": "C"
                                },
                                {
                                    "0": "46",
                                    "1": "91.61",
                                    "2": "A",
                                    "3": "A"
                                },
                                {
                                    "0": "47",
                                    "1": "67.30",
                                    "2": "C",
                                    "3": "C"
                                },
                                {
                                    "0": "48",
                                    "1": "88.93",
                                    "2": "A",
                                    "3": "A"
                                },
                                {
                                    "0": "49",
                                    "1": "50.73",
                                    "2": "D",
                                    "3": "D"
                                },
                                {
                                    "0": "50",
                                    "1": "60.25",
                                    "2": "C",
                                    "3": "C"
                                }
                            ]
                        },
                        "text/html": [
                            "<table>",
                            "<tr><th>student_id</th><th>score</th><th>grade</th><th>grade2</th></tr>",
                            "<tr><td>101</td><td>97.00</td><td>A</td><td>A</td></tr>",
                            "<tr><td>103</td><td>NULL</td><td>NULL</td><td>NULL</td></tr>",
                            "<tr><td>1</td><td>85.94</td><td>A</td><td>A</td></tr>",
                            "<tr><td>2</td><td>58.30</td><td>D+</td><td>D+</td></tr>",
                            "<tr><td>3</td><td>68.74</td><td>C</td><td>C</td></tr>",
                            "<tr><td>4</td><td>93.65</td><td>A</td><td>A</td></tr>",
                            "<tr><td>5</td><td>62.57</td><td>C</td><td>C</td></tr>",
                            "<tr><td>6</td><td>88.24</td><td>A</td><td>A</td></tr>",
                            "<tr><td>7</td><td>58.67</td><td>D+</td><td>D+</td></tr>",
                            "<tr><td>8</td><td>52.69</td><td>D</td><td>D</td></tr>",
                            "<tr><td>9</td><td>51.12</td><td>D</td><td>D</td></tr>",
                            "<tr><td>10</td><td>63.48</td><td>C</td><td>C</td></tr>",
                            "<tr><td>11</td><td>66.74</td><td>C</td><td>C</td></tr>",
                            "<tr><td>12</td><td>57.75</td><td>D+</td><td>D+</td></tr>",
                            "<tr><td>13</td><td>45.55</td><td>F</td><td>F</td></tr>",
                            "<tr><td>14</td><td>52.31</td><td>D</td><td>D</td></tr>",
                            "<tr><td>15</td><td>44.38</td><td>F</td><td>F</td></tr>",
                            "<tr><td>16</td><td>92.55</td><td>A</td><td>A</td></tr>",
                            "<tr><td>17</td><td>92.46</td><td>A</td><td>A</td></tr>",
                            "<tr><td>18</td><td>86.17</td><td>A</td><td>A</td></tr>",
                            "<tr><td>19</td><td>78.98</td><td>B</td><td>B</td></tr>",
                            "<tr><td>20</td><td>48.26</td><td>F</td><td>F</td></tr>",
                            "<tr><td>21</td><td>67.64</td><td>C</td><td>C</td></tr>",
                            "<tr><td>22</td><td>40.60</td><td>F</td><td>F</td></tr>",
                            "<tr><td>23</td><td>52.40</td><td>D</td><td>D</td></tr>",
                            "<tr><td>24</td><td>97.18</td><td>A</td><td>A</td></tr>",
                            "<tr><td>25</td><td>61.89</td><td>C</td><td>C</td></tr>",
                            "<tr><td>26</td><td>83.35</td><td>B+</td><td>B+</td></tr>",
                            "<tr><td>27</td><td>74.28</td><td>C+</td><td>C+</td></tr>",
                            "<tr><td>28</td><td>66.58</td><td>C</td><td>C</td></tr>",
                            "<tr><td>29</td><td>42.78</td><td>F</td><td>F</td></tr>",
                            "<tr><td>30</td><td>81.99</td><td>B+</td><td>B+</td></tr>",
                            "<tr><td>31</td><td>45.42</td><td>F</td><td>F</td></tr>",
                            "<tr><td>32</td><td>45.23</td><td>F</td><td>F</td></tr>",
                            "<tr><td>33</td><td>86.20</td><td>A</td><td>A</td></tr>",
                            "<tr><td>34</td><td>67.09</td><td>C</td><td>C</td></tr>",
                            "<tr><td>35</td><td>44.54</td><td>F</td><td>F</td></tr>",
                            "<tr><td>36</td><td>90.20</td><td>A</td><td>A</td></tr>",
                            "<tr><td>37</td><td>76.48</td><td>B</td><td>B</td></tr>",
                            "<tr><td>38</td><td>83.29</td><td>B+</td><td>B+</td></tr>",
                            "<tr><td>39</td><td>99.55</td><td>A</td><td>A</td></tr>",
                            "<tr><td>40</td><td>70.79</td><td>C+</td><td>C+</td></tr>",
                            "<tr><td>41</td><td>69.45</td><td>C</td><td>C</td></tr>",
                            "<tr><td>42</td><td>53.41</td><td>D</td><td>D</td></tr>",
                            "<tr><td>43</td><td>56.70</td><td>D+</td><td>D+</td></tr>",
                            "<tr><td>44</td><td>65.91</td><td>C</td><td>C</td></tr>",
                            "<tr><td>45</td><td>60.77</td><td>C</td><td>C</td></tr>",
                            "<tr><td>46</td><td>91.61</td><td>A</td><td>A</td></tr>",
                            "<tr><td>47</td><td>67.30</td><td>C</td><td>C</td></tr>",
                            "<tr><td>48</td><td>88.93</td><td>A</td><td>A</td></tr>",
                            "<tr><td>49</td><td>50.73</td><td>D</td><td>D</td></tr>",
                            "<tr><td>50</td><td>60.25</td><td>C</td><td>C</td></tr>",
                            "</table>"
                        ]
                    }
                }
            ],
            "execution_count": 33
        }
    ]
}