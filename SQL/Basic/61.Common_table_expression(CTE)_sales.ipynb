{
    "metadata": {
        "kernelspec": {
            "name": "SQL",
            "display_name": "SQL",
            "language": "sql"
        },
        "language_info": {
            "name": "sql",
            "version": ""
        }
    },
    "nbformat_minor": 2,
    "nbformat": 4,
    "cells": [
        {
            "cell_type": "markdown",
            "source": [
                "# Common Table Expression (CTE)\r\n",
                "CTEs ถือเป็นนิพจน์ตาราง (Table Expression) แบบหนึ่ง\r\n",
                "นิพจน์ตาราง คือ นิพจน์ที่ทำหน้าที่เสมือนตารางได้\r\n",
                " \r\n",
                "มันคือการเขียนคำสั่ง SQL query ให้ทำงานแบบต่อเนื่อง (จะเป็น recursive หรือตามลำดับชั้น hierarchy ก็ได้)"
            ],
            "metadata": {
                "azdata_cell_guid": "53237517-6f70-4434-b059-266db07d9955"
            }
        },
        {
            "cell_type": "code",
            "source": [
                "select * from sales order by random() limit 20;"
            ],
            "metadata": {
                "azdata_cell_guid": "001effc5-f79e-4dcf-87dc-190958e4f1f3"
            },
            "outputs": [
                {
                    "output_type": "display_data",
                    "data": {
                        "text/html": "(20 row(s) affected)"
                    },
                    "metadata": {}
                },
                {
                    "output_type": "display_data",
                    "data": {
                        "text/html": "Total execution time: 00:00:00.010"
                    },
                    "metadata": {}
                },
                {
                    "output_type": "execute_result",
                    "execution_count": 23,
                    "data": {
                        "application/vnd.dataresource+json": {
                            "schema": {
                                "fields": [
                                    {
                                        "name": "branch"
                                    },
                                    {
                                        "name": "dt"
                                    },
                                    {
                                        "name": "revenue"
                                    }
                                ]
                            },
                            "data": [
                                {
                                    "0": "phuket",
                                    "1": "2018-02-03",
                                    "2": "776"
                                },
                                {
                                    "0": "phuket",
                                    "1": "2018-12-27",
                                    "2": "487"
                                },
                                {
                                    "0": "phuket",
                                    "1": "2019-12-11",
                                    "2": "511"
                                },
                                {
                                    "0": "phuket",
                                    "1": "2018-04-02",
                                    "2": "686"
                                },
                                {
                                    "0": "phuket",
                                    "1": "2019-06-21",
                                    "2": "514"
                                },
                                {
                                    "0": "bangkok",
                                    "1": "2019-09-15",
                                    "2": "513"
                                },
                                {
                                    "0": "phuket",
                                    "1": "2019-10-27",
                                    "2": "154"
                                },
                                {
                                    "0": "phuket",
                                    "1": "2019-04-06",
                                    "2": "430"
                                },
                                {
                                    "0": "bangkok",
                                    "1": "2018-11-22",
                                    "2": "739"
                                },
                                {
                                    "0": "phuket",
                                    "1": "2018-01-02",
                                    "2": "569"
                                },
                                {
                                    "0": "phuket",
                                    "1": "2019-08-19",
                                    "2": "461"
                                },
                                {
                                    "0": "bangkok",
                                    "1": "2019-06-27",
                                    "2": "669"
                                },
                                {
                                    "0": "bangkok",
                                    "1": "2018-10-08",
                                    "2": "220"
                                },
                                {
                                    "0": "bangkok",
                                    "1": "2018-08-28",
                                    "2": "855"
                                },
                                {
                                    "0": "phuket",
                                    "1": "2018-03-13",
                                    "2": "797"
                                },
                                {
                                    "0": "phuket",
                                    "1": "2018-09-26",
                                    "2": "695"
                                },
                                {
                                    "0": "phuket",
                                    "1": "2018-09-17",
                                    "2": "765"
                                },
                                {
                                    "0": "bangkok",
                                    "1": "2018-12-10",
                                    "2": "638"
                                },
                                {
                                    "0": "bangkok",
                                    "1": "2018-07-14",
                                    "2": "580"
                                },
                                {
                                    "0": "phuket",
                                    "1": "2019-08-18",
                                    "2": "673"
                                }
                            ]
                        },
                        "text/html": "<table><tr><th>branch</th><th>dt</th><th>revenue</th></tr><tr><td>phuket</td><td>2018-02-03</td><td>776</td></tr><tr><td>phuket</td><td>2018-12-27</td><td>487</td></tr><tr><td>phuket</td><td>2019-12-11</td><td>511</td></tr><tr><td>phuket</td><td>2018-04-02</td><td>686</td></tr><tr><td>phuket</td><td>2019-06-21</td><td>514</td></tr><tr><td>bangkok</td><td>2019-09-15</td><td>513</td></tr><tr><td>phuket</td><td>2019-10-27</td><td>154</td></tr><tr><td>phuket</td><td>2019-04-06</td><td>430</td></tr><tr><td>bangkok</td><td>2018-11-22</td><td>739</td></tr><tr><td>phuket</td><td>2018-01-02</td><td>569</td></tr><tr><td>phuket</td><td>2019-08-19</td><td>461</td></tr><tr><td>bangkok</td><td>2019-06-27</td><td>669</td></tr><tr><td>bangkok</td><td>2018-10-08</td><td>220</td></tr><tr><td>bangkok</td><td>2018-08-28</td><td>855</td></tr><tr><td>phuket</td><td>2018-03-13</td><td>797</td></tr><tr><td>phuket</td><td>2018-09-26</td><td>695</td></tr><tr><td>phuket</td><td>2018-09-17</td><td>765</td></tr><tr><td>bangkok</td><td>2018-12-10</td><td>638</td></tr><tr><td>bangkok</td><td>2018-07-14</td><td>580</td></tr><tr><td>phuket</td><td>2019-08-18</td><td>673</td></tr></table>"
                    },
                    "metadata": {}
                }
            ],
            "execution_count": 23
        },
        {
            "cell_type": "code",
            "source": [
                "select branch, date_part('month', dt)::int \"month\", sum(revenue) total\r\n",
                "    from sales\r\n",
                "    where date_part('year', dt) = 2018\r\n",
                "    group by branch, date_part('month', dt) \r\n",
                "    order by branch, \"month\";"
            ],
            "metadata": {
                "azdata_cell_guid": "27ad5050-6444-4889-a5b8-9b9f8f3fe3b3"
            },
            "outputs": [
                {
                    "output_type": "display_data",
                    "data": {
                        "text/html": "(24 row(s) affected)"
                    },
                    "metadata": {}
                },
                {
                    "output_type": "display_data",
                    "data": {
                        "text/html": "Total execution time: 00:00:00.004"
                    },
                    "metadata": {}
                },
                {
                    "output_type": "execute_result",
                    "execution_count": 24,
                    "data": {
                        "application/vnd.dataresource+json": {
                            "schema": {
                                "fields": [
                                    {
                                        "name": "branch"
                                    },
                                    {
                                        "name": "month"
                                    },
                                    {
                                        "name": "total"
                                    }
                                ]
                            },
                            "data": [
                                {
                                    "0": "bangkok",
                                    "1": "1",
                                    "2": "20728"
                                },
                                {
                                    "0": "bangkok",
                                    "1": "2",
                                    "2": "15822"
                                },
                                {
                                    "0": "bangkok",
                                    "1": "3",
                                    "2": "17184"
                                },
                                {
                                    "0": "bangkok",
                                    "1": "4",
                                    "2": "21011"
                                },
                                {
                                    "0": "bangkok",
                                    "1": "5",
                                    "2": "18634"
                                },
                                {
                                    "0": "bangkok",
                                    "1": "6",
                                    "2": "14029"
                                },
                                {
                                    "0": "bangkok",
                                    "1": "7",
                                    "2": "17666"
                                },
                                {
                                    "0": "bangkok",
                                    "1": "8",
                                    "2": "16647"
                                },
                                {
                                    "0": "bangkok",
                                    "1": "9",
                                    "2": "17154"
                                },
                                {
                                    "0": "bangkok",
                                    "1": "10",
                                    "2": "19355"
                                },
                                {
                                    "0": "bangkok",
                                    "1": "11",
                                    "2": "17175"
                                },
                                {
                                    "0": "bangkok",
                                    "1": "12",
                                    "2": "17984"
                                },
                                {
                                    "0": "phuket",
                                    "1": "1",
                                    "2": "14800"
                                },
                                {
                                    "0": "phuket",
                                    "1": "2",
                                    "2": "13807"
                                },
                                {
                                    "0": "phuket",
                                    "1": "3",
                                    "2": "13293"
                                },
                                {
                                    "0": "phuket",
                                    "1": "4",
                                    "2": "12962"
                                },
                                {
                                    "0": "phuket",
                                    "1": "5",
                                    "2": "14311"
                                },
                                {
                                    "0": "phuket",
                                    "1": "6",
                                    "2": "12837"
                                },
                                {
                                    "0": "phuket",
                                    "1": "7",
                                    "2": "12723"
                                },
                                {
                                    "0": "phuket",
                                    "1": "8",
                                    "2": "14400"
                                },
                                {
                                    "0": "phuket",
                                    "1": "9",
                                    "2": "13060"
                                },
                                {
                                    "0": "phuket",
                                    "1": "10",
                                    "2": "14421"
                                },
                                {
                                    "0": "phuket",
                                    "1": "11",
                                    "2": "14596"
                                },
                                {
                                    "0": "phuket",
                                    "1": "12",
                                    "2": "12546"
                                }
                            ]
                        },
                        "text/html": "<table><tr><th>branch</th><th>month</th><th>total</th></tr><tr><td>bangkok</td><td>1</td><td>20728</td></tr><tr><td>bangkok</td><td>2</td><td>15822</td></tr><tr><td>bangkok</td><td>3</td><td>17184</td></tr><tr><td>bangkok</td><td>4</td><td>21011</td></tr><tr><td>bangkok</td><td>5</td><td>18634</td></tr><tr><td>bangkok</td><td>6</td><td>14029</td></tr><tr><td>bangkok</td><td>7</td><td>17666</td></tr><tr><td>bangkok</td><td>8</td><td>16647</td></tr><tr><td>bangkok</td><td>9</td><td>17154</td></tr><tr><td>bangkok</td><td>10</td><td>19355</td></tr><tr><td>bangkok</td><td>11</td><td>17175</td></tr><tr><td>bangkok</td><td>12</td><td>17984</td></tr><tr><td>phuket</td><td>1</td><td>14800</td></tr><tr><td>phuket</td><td>2</td><td>13807</td></tr><tr><td>phuket</td><td>3</td><td>13293</td></tr><tr><td>phuket</td><td>4</td><td>12962</td></tr><tr><td>phuket</td><td>5</td><td>14311</td></tr><tr><td>phuket</td><td>6</td><td>12837</td></tr><tr><td>phuket</td><td>7</td><td>12723</td></tr><tr><td>phuket</td><td>8</td><td>14400</td></tr><tr><td>phuket</td><td>9</td><td>13060</td></tr><tr><td>phuket</td><td>10</td><td>14421</td></tr><tr><td>phuket</td><td>11</td><td>14596</td></tr><tr><td>phuket</td><td>12</td><td>12546</td></tr></table>"
                    },
                    "metadata": {}
                }
            ],
            "execution_count": 24
        },
        {
            "cell_type": "code",
            "source": [
                "with cte as(\r\n",
                "    select branch, date_part('month', dt)::int \"month\", sum(revenue) total\r\n",
                "    from sales\r\n",
                "    where date_part('year', dt) = 2018\r\n",
                "    group by branch, date_part('month', dt) \r\n",
                "    order by branch, \"month\" \r\n",
                ")\r\n",
                "\r\n",
                "select * from cte"
            ],
            "metadata": {
                "azdata_cell_guid": "61832b17-5f2d-4832-ab6a-f021fc62102c"
            },
            "outputs": [
                {
                    "output_type": "display_data",
                    "data": {
                        "text/html": "(24 row(s) affected)"
                    },
                    "metadata": {}
                },
                {
                    "output_type": "display_data",
                    "data": {
                        "text/html": "Total execution time: 00:00:00.003"
                    },
                    "metadata": {}
                },
                {
                    "output_type": "execute_result",
                    "execution_count": 25,
                    "data": {
                        "application/vnd.dataresource+json": {
                            "schema": {
                                "fields": [
                                    {
                                        "name": "branch"
                                    },
                                    {
                                        "name": "month"
                                    },
                                    {
                                        "name": "total"
                                    }
                                ]
                            },
                            "data": [
                                {
                                    "0": "bangkok",
                                    "1": "1",
                                    "2": "20728"
                                },
                                {
                                    "0": "bangkok",
                                    "1": "2",
                                    "2": "15822"
                                },
                                {
                                    "0": "bangkok",
                                    "1": "3",
                                    "2": "17184"
                                },
                                {
                                    "0": "bangkok",
                                    "1": "4",
                                    "2": "21011"
                                },
                                {
                                    "0": "bangkok",
                                    "1": "5",
                                    "2": "18634"
                                },
                                {
                                    "0": "bangkok",
                                    "1": "6",
                                    "2": "14029"
                                },
                                {
                                    "0": "bangkok",
                                    "1": "7",
                                    "2": "17666"
                                },
                                {
                                    "0": "bangkok",
                                    "1": "8",
                                    "2": "16647"
                                },
                                {
                                    "0": "bangkok",
                                    "1": "9",
                                    "2": "17154"
                                },
                                {
                                    "0": "bangkok",
                                    "1": "10",
                                    "2": "19355"
                                },
                                {
                                    "0": "bangkok",
                                    "1": "11",
                                    "2": "17175"
                                },
                                {
                                    "0": "bangkok",
                                    "1": "12",
                                    "2": "17984"
                                },
                                {
                                    "0": "phuket",
                                    "1": "1",
                                    "2": "14800"
                                },
                                {
                                    "0": "phuket",
                                    "1": "2",
                                    "2": "13807"
                                },
                                {
                                    "0": "phuket",
                                    "1": "3",
                                    "2": "13293"
                                },
                                {
                                    "0": "phuket",
                                    "1": "4",
                                    "2": "12962"
                                },
                                {
                                    "0": "phuket",
                                    "1": "5",
                                    "2": "14311"
                                },
                                {
                                    "0": "phuket",
                                    "1": "6",
                                    "2": "12837"
                                },
                                {
                                    "0": "phuket",
                                    "1": "7",
                                    "2": "12723"
                                },
                                {
                                    "0": "phuket",
                                    "1": "8",
                                    "2": "14400"
                                },
                                {
                                    "0": "phuket",
                                    "1": "9",
                                    "2": "13060"
                                },
                                {
                                    "0": "phuket",
                                    "1": "10",
                                    "2": "14421"
                                },
                                {
                                    "0": "phuket",
                                    "1": "11",
                                    "2": "14596"
                                },
                                {
                                    "0": "phuket",
                                    "1": "12",
                                    "2": "12546"
                                }
                            ]
                        },
                        "text/html": "<table><tr><th>branch</th><th>month</th><th>total</th></tr><tr><td>bangkok</td><td>1</td><td>20728</td></tr><tr><td>bangkok</td><td>2</td><td>15822</td></tr><tr><td>bangkok</td><td>3</td><td>17184</td></tr><tr><td>bangkok</td><td>4</td><td>21011</td></tr><tr><td>bangkok</td><td>5</td><td>18634</td></tr><tr><td>bangkok</td><td>6</td><td>14029</td></tr><tr><td>bangkok</td><td>7</td><td>17666</td></tr><tr><td>bangkok</td><td>8</td><td>16647</td></tr><tr><td>bangkok</td><td>9</td><td>17154</td></tr><tr><td>bangkok</td><td>10</td><td>19355</td></tr><tr><td>bangkok</td><td>11</td><td>17175</td></tr><tr><td>bangkok</td><td>12</td><td>17984</td></tr><tr><td>phuket</td><td>1</td><td>14800</td></tr><tr><td>phuket</td><td>2</td><td>13807</td></tr><tr><td>phuket</td><td>3</td><td>13293</td></tr><tr><td>phuket</td><td>4</td><td>12962</td></tr><tr><td>phuket</td><td>5</td><td>14311</td></tr><tr><td>phuket</td><td>6</td><td>12837</td></tr><tr><td>phuket</td><td>7</td><td>12723</td></tr><tr><td>phuket</td><td>8</td><td>14400</td></tr><tr><td>phuket</td><td>9</td><td>13060</td></tr><tr><td>phuket</td><td>10</td><td>14421</td></tr><tr><td>phuket</td><td>11</td><td>14596</td></tr><tr><td>phuket</td><td>12</td><td>12546</td></tr></table>"
                    },
                    "metadata": {}
                }
            ],
            "execution_count": 25
        },
        {
            "cell_type": "code",
            "source": [
                "with cte as(\r\n",
                "    select branch, date_part('month', dt)::int \"month\", sum(revenue) total\r\n",
                "    from sales\r\n",
                "    where date_part('year', dt) = 2018\r\n",
                "    group by branch, date_part('month', dt) \r\n",
                "    order by branch, \"month\" \r\n",
                ")\r\n",
                "\r\n",
                "select b.month, b.total \"bangkok\", p.total \"phuket\", b.total - p.total \"Bkk-Phuket\"\r\n",
                "    from cte b inner join cte p using(month)\r\n",
                "    where b.branch = 'bangkok' and p.branch = 'phuket'"
            ],
            "metadata": {
                "azdata_cell_guid": "859e7825-9bc7-4168-a273-f6f7ddcde80e",
                "tags": []
            },
            "outputs": [
                {
                    "output_type": "display_data",
                    "data": {
                        "text/html": "(12 row(s) affected)"
                    },
                    "metadata": {}
                },
                {
                    "output_type": "display_data",
                    "data": {
                        "text/html": "Total execution time: 00:00:00.013"
                    },
                    "metadata": {}
                },
                {
                    "output_type": "execute_result",
                    "execution_count": 26,
                    "data": {
                        "application/vnd.dataresource+json": {
                            "schema": {
                                "fields": [
                                    {
                                        "name": "month"
                                    },
                                    {
                                        "name": "bangkok"
                                    },
                                    {
                                        "name": "phuket"
                                    },
                                    {
                                        "name": "Bkk-Phuket"
                                    }
                                ]
                            },
                            "data": [
                                {
                                    "0": "1",
                                    "1": "20728",
                                    "2": "14800",
                                    "3": "5928"
                                },
                                {
                                    "0": "2",
                                    "1": "15822",
                                    "2": "13807",
                                    "3": "2015"
                                },
                                {
                                    "0": "3",
                                    "1": "17184",
                                    "2": "13293",
                                    "3": "3891"
                                },
                                {
                                    "0": "4",
                                    "1": "21011",
                                    "2": "12962",
                                    "3": "8049"
                                },
                                {
                                    "0": "5",
                                    "1": "18634",
                                    "2": "14311",
                                    "3": "4323"
                                },
                                {
                                    "0": "6",
                                    "1": "14029",
                                    "2": "12837",
                                    "3": "1192"
                                },
                                {
                                    "0": "7",
                                    "1": "17666",
                                    "2": "12723",
                                    "3": "4943"
                                },
                                {
                                    "0": "8",
                                    "1": "16647",
                                    "2": "14400",
                                    "3": "2247"
                                },
                                {
                                    "0": "9",
                                    "1": "17154",
                                    "2": "13060",
                                    "3": "4094"
                                },
                                {
                                    "0": "10",
                                    "1": "19355",
                                    "2": "14421",
                                    "3": "4934"
                                },
                                {
                                    "0": "11",
                                    "1": "17175",
                                    "2": "14596",
                                    "3": "2579"
                                },
                                {
                                    "0": "12",
                                    "1": "17984",
                                    "2": "12546",
                                    "3": "5438"
                                }
                            ]
                        },
                        "text/html": "<table><tr><th>month</th><th>bangkok</th><th>phuket</th><th>Bkk-Phuket</th></tr><tr><td>1</td><td>20728</td><td>14800</td><td>5928</td></tr><tr><td>2</td><td>15822</td><td>13807</td><td>2015</td></tr><tr><td>3</td><td>17184</td><td>13293</td><td>3891</td></tr><tr><td>4</td><td>21011</td><td>12962</td><td>8049</td></tr><tr><td>5</td><td>18634</td><td>14311</td><td>4323</td></tr><tr><td>6</td><td>14029</td><td>12837</td><td>1192</td></tr><tr><td>7</td><td>17666</td><td>12723</td><td>4943</td></tr><tr><td>8</td><td>16647</td><td>14400</td><td>2247</td></tr><tr><td>9</td><td>17154</td><td>13060</td><td>4094</td></tr><tr><td>10</td><td>19355</td><td>14421</td><td>4934</td></tr><tr><td>11</td><td>17175</td><td>14596</td><td>2579</td></tr><tr><td>12</td><td>17984</td><td>12546</td><td>5438</td></tr></table>"
                    },
                    "metadata": {}
                }
            ],
            "execution_count": 26
        },
        {
            "cell_type": "code",
            "source": [
                "with cte as(\r\n",
                "    select branch, date_part('month', dt)::int \"month\", sum(revenue) total\r\n",
                "    from sales\r\n",
                "    where date_part('year', dt) = 2018\r\n",
                "    group by branch, date_part('month', dt) \r\n",
                "    order by branch, \"month\" \r\n",
                "),\r\n",
                "b as(\r\n",
                "    select * from cte where branch = 'bangkok'\r\n",
                "), \r\n",
                "p as(\r\n",
                "    select * from cte where branch = 'phuket'\r\n",
                ")\r\n",
                "\r\n",
                "\r\n",
                "select b.month, b.total \"bangkok\", p.total \"phuket\", b.total - p.total \"Bkk-Phuket\",\r\n",
                "    to_char(b.total - p.total, '99G999G999')\r\n",
                "    from b inner join p using(month)\r\n",
                "   "
            ],
            "metadata": {
                "azdata_cell_guid": "611ed6cd-4a56-483d-b141-ce75d26c1207"
            },
            "outputs": [
                {
                    "output_type": "display_data",
                    "data": {
                        "text/html": "(12 row(s) affected)"
                    },
                    "metadata": {}
                },
                {
                    "output_type": "display_data",
                    "data": {
                        "text/html": "Total execution time: 00:00:00.004"
                    },
                    "metadata": {}
                },
                {
                    "output_type": "execute_result",
                    "execution_count": 27,
                    "data": {
                        "application/vnd.dataresource+json": {
                            "schema": {
                                "fields": [
                                    {
                                        "name": "month"
                                    },
                                    {
                                        "name": "bangkok"
                                    },
                                    {
                                        "name": "phuket"
                                    },
                                    {
                                        "name": "Bkk-Phuket"
                                    },
                                    {
                                        "name": "to_char"
                                    }
                                ]
                            },
                            "data": [
                                {
                                    "0": "1",
                                    "1": "20728",
                                    "2": "14800",
                                    "3": "5928",
                                    "4": "      5,928"
                                },
                                {
                                    "0": "2",
                                    "1": "15822",
                                    "2": "13807",
                                    "3": "2015",
                                    "4": "      2,015"
                                },
                                {
                                    "0": "3",
                                    "1": "17184",
                                    "2": "13293",
                                    "3": "3891",
                                    "4": "      3,891"
                                },
                                {
                                    "0": "4",
                                    "1": "21011",
                                    "2": "12962",
                                    "3": "8049",
                                    "4": "      8,049"
                                },
                                {
                                    "0": "5",
                                    "1": "18634",
                                    "2": "14311",
                                    "3": "4323",
                                    "4": "      4,323"
                                },
                                {
                                    "0": "6",
                                    "1": "14029",
                                    "2": "12837",
                                    "3": "1192",
                                    "4": "      1,192"
                                },
                                {
                                    "0": "7",
                                    "1": "17666",
                                    "2": "12723",
                                    "3": "4943",
                                    "4": "      4,943"
                                },
                                {
                                    "0": "8",
                                    "1": "16647",
                                    "2": "14400",
                                    "3": "2247",
                                    "4": "      2,247"
                                },
                                {
                                    "0": "9",
                                    "1": "17154",
                                    "2": "13060",
                                    "3": "4094",
                                    "4": "      4,094"
                                },
                                {
                                    "0": "10",
                                    "1": "19355",
                                    "2": "14421",
                                    "3": "4934",
                                    "4": "      4,934"
                                },
                                {
                                    "0": "11",
                                    "1": "17175",
                                    "2": "14596",
                                    "3": "2579",
                                    "4": "      2,579"
                                },
                                {
                                    "0": "12",
                                    "1": "17984",
                                    "2": "12546",
                                    "3": "5438",
                                    "4": "      5,438"
                                }
                            ]
                        },
                        "text/html": "<table><tr><th>month</th><th>bangkok</th><th>phuket</th><th>Bkk-Phuket</th><th>to_char</th></tr><tr><td>1</td><td>20728</td><td>14800</td><td>5928</td><td>      5,928</td></tr><tr><td>2</td><td>15822</td><td>13807</td><td>2015</td><td>      2,015</td></tr><tr><td>3</td><td>17184</td><td>13293</td><td>3891</td><td>      3,891</td></tr><tr><td>4</td><td>21011</td><td>12962</td><td>8049</td><td>      8,049</td></tr><tr><td>5</td><td>18634</td><td>14311</td><td>4323</td><td>      4,323</td></tr><tr><td>6</td><td>14029</td><td>12837</td><td>1192</td><td>      1,192</td></tr><tr><td>7</td><td>17666</td><td>12723</td><td>4943</td><td>      4,943</td></tr><tr><td>8</td><td>16647</td><td>14400</td><td>2247</td><td>      2,247</td></tr><tr><td>9</td><td>17154</td><td>13060</td><td>4094</td><td>      4,094</td></tr><tr><td>10</td><td>19355</td><td>14421</td><td>4934</td><td>      4,934</td></tr><tr><td>11</td><td>17175</td><td>14596</td><td>2579</td><td>      2,579</td></tr><tr><td>12</td><td>17984</td><td>12546</td><td>5438</td><td>      5,438</td></tr></table>"
                    },
                    "metadata": {}
                }
            ],
            "execution_count": 27
        },
        {
            "cell_type": "code",
            "source": [
                " select branch, date_part('year', dt)::int \"year\",\r\n",
                "    date_part('month', dt)::int \"month\", sum(revenue) total\r\n",
                "    from sales\r\n",
                "    -- where date_part('year', dt) = 2018\r\n",
                "    group by branch, date_part('year', dt), date_part('month', dt) \r\n",
                "    order by branch, \"year\", \"month\" "
            ],
            "metadata": {
                "azdata_cell_guid": "ec84ac79-eaf3-40f2-973a-5cd25e9077f3"
            },
            "outputs": [
                {
                    "output_type": "display_data",
                    "data": {
                        "text/html": "(48 row(s) affected)"
                    },
                    "metadata": {}
                },
                {
                    "output_type": "display_data",
                    "data": {
                        "text/html": "Total execution time: 00:00:00.005"
                    },
                    "metadata": {}
                },
                {
                    "output_type": "execute_result",
                    "execution_count": 28,
                    "data": {
                        "application/vnd.dataresource+json": {
                            "schema": {
                                "fields": [
                                    {
                                        "name": "branch"
                                    },
                                    {
                                        "name": "year"
                                    },
                                    {
                                        "name": "month"
                                    },
                                    {
                                        "name": "total"
                                    }
                                ]
                            },
                            "data": [
                                {
                                    "0": "bangkok",
                                    "1": "2018",
                                    "2": "1",
                                    "3": "20728"
                                },
                                {
                                    "0": "bangkok",
                                    "1": "2018",
                                    "2": "2",
                                    "3": "15822"
                                },
                                {
                                    "0": "bangkok",
                                    "1": "2018",
                                    "2": "3",
                                    "3": "17184"
                                },
                                {
                                    "0": "bangkok",
                                    "1": "2018",
                                    "2": "4",
                                    "3": "21011"
                                },
                                {
                                    "0": "bangkok",
                                    "1": "2018",
                                    "2": "5",
                                    "3": "18634"
                                },
                                {
                                    "0": "bangkok",
                                    "1": "2018",
                                    "2": "6",
                                    "3": "14029"
                                },
                                {
                                    "0": "bangkok",
                                    "1": "2018",
                                    "2": "7",
                                    "3": "17666"
                                },
                                {
                                    "0": "bangkok",
                                    "1": "2018",
                                    "2": "8",
                                    "3": "16647"
                                },
                                {
                                    "0": "bangkok",
                                    "1": "2018",
                                    "2": "9",
                                    "3": "17154"
                                },
                                {
                                    "0": "bangkok",
                                    "1": "2018",
                                    "2": "10",
                                    "3": "19355"
                                },
                                {
                                    "0": "bangkok",
                                    "1": "2018",
                                    "2": "11",
                                    "3": "17175"
                                },
                                {
                                    "0": "bangkok",
                                    "1": "2018",
                                    "2": "12",
                                    "3": "17984"
                                },
                                {
                                    "0": "bangkok",
                                    "1": "2019",
                                    "2": "1",
                                    "3": "18841"
                                },
                                {
                                    "0": "bangkok",
                                    "1": "2019",
                                    "2": "2",
                                    "3": "17187"
                                },
                                {
                                    "0": "bangkok",
                                    "1": "2019",
                                    "2": "3",
                                    "3": "17162"
                                },
                                {
                                    "0": "bangkok",
                                    "1": "2019",
                                    "2": "4",
                                    "3": "15779"
                                },
                                {
                                    "0": "bangkok",
                                    "1": "2019",
                                    "2": "5",
                                    "3": "18497"
                                },
                                {
                                    "0": "bangkok",
                                    "1": "2019",
                                    "2": "6",
                                    "3": "19417"
                                },
                                {
                                    "0": "bangkok",
                                    "1": "2019",
                                    "2": "7",
                                    "3": "17651"
                                },
                                {
                                    "0": "bangkok",
                                    "1": "2019",
                                    "2": "8",
                                    "3": "14706"
                                },
                                {
                                    "0": "bangkok",
                                    "1": "2019",
                                    "2": "9",
                                    "3": "18067"
                                },
                                {
                                    "0": "bangkok",
                                    "1": "2019",
                                    "2": "10",
                                    "3": "16874"
                                },
                                {
                                    "0": "bangkok",
                                    "1": "2019",
                                    "2": "11",
                                    "3": "17779"
                                },
                                {
                                    "0": "bangkok",
                                    "1": "2019",
                                    "2": "12",
                                    "3": "20052"
                                },
                                {
                                    "0": "phuket",
                                    "1": "2018",
                                    "2": "1",
                                    "3": "14800"
                                },
                                {
                                    "0": "phuket",
                                    "1": "2018",
                                    "2": "2",
                                    "3": "13807"
                                },
                                {
                                    "0": "phuket",
                                    "1": "2018",
                                    "2": "3",
                                    "3": "13293"
                                },
                                {
                                    "0": "phuket",
                                    "1": "2018",
                                    "2": "4",
                                    "3": "12962"
                                },
                                {
                                    "0": "phuket",
                                    "1": "2018",
                                    "2": "5",
                                    "3": "14311"
                                },
                                {
                                    "0": "phuket",
                                    "1": "2018",
                                    "2": "6",
                                    "3": "12837"
                                },
                                {
                                    "0": "phuket",
                                    "1": "2018",
                                    "2": "7",
                                    "3": "12723"
                                },
                                {
                                    "0": "phuket",
                                    "1": "2018",
                                    "2": "8",
                                    "3": "14400"
                                },
                                {
                                    "0": "phuket",
                                    "1": "2018",
                                    "2": "9",
                                    "3": "13060"
                                },
                                {
                                    "0": "phuket",
                                    "1": "2018",
                                    "2": "10",
                                    "3": "14421"
                                },
                                {
                                    "0": "phuket",
                                    "1": "2018",
                                    "2": "11",
                                    "3": "14596"
                                },
                                {
                                    "0": "phuket",
                                    "1": "2018",
                                    "2": "12",
                                    "3": "12546"
                                },
                                {
                                    "0": "phuket",
                                    "1": "2019",
                                    "2": "1",
                                    "3": "14264"
                                },
                                {
                                    "0": "phuket",
                                    "1": "2019",
                                    "2": "2",
                                    "3": "12450"
                                },
                                {
                                    "0": "phuket",
                                    "1": "2019",
                                    "2": "3",
                                    "3": "12731"
                                },
                                {
                                    "0": "phuket",
                                    "1": "2019",
                                    "2": "4",
                                    "3": "14358"
                                },
                                {
                                    "0": "phuket",
                                    "1": "2019",
                                    "2": "5",
                                    "3": "11660"
                                },
                                {
                                    "0": "phuket",
                                    "1": "2019",
                                    "2": "6",
                                    "3": "14285"
                                },
                                {
                                    "0": "phuket",
                                    "1": "2019",
                                    "2": "7",
                                    "3": "13964"
                                },
                                {
                                    "0": "phuket",
                                    "1": "2019",
                                    "2": "8",
                                    "3": "13746"
                                },
                                {
                                    "0": "phuket",
                                    "1": "2019",
                                    "2": "9",
                                    "3": "14571"
                                },
                                {
                                    "0": "phuket",
                                    "1": "2019",
                                    "2": "10",
                                    "3": "12021"
                                },
                                {
                                    "0": "phuket",
                                    "1": "2019",
                                    "2": "11",
                                    "3": "12822"
                                },
                                {
                                    "0": "phuket",
                                    "1": "2019",
                                    "2": "12",
                                    "3": "16933"
                                }
                            ]
                        },
                        "text/html": "<table><tr><th>branch</th><th>year</th><th>month</th><th>total</th></tr><tr><td>bangkok</td><td>2018</td><td>1</td><td>20728</td></tr><tr><td>bangkok</td><td>2018</td><td>2</td><td>15822</td></tr><tr><td>bangkok</td><td>2018</td><td>3</td><td>17184</td></tr><tr><td>bangkok</td><td>2018</td><td>4</td><td>21011</td></tr><tr><td>bangkok</td><td>2018</td><td>5</td><td>18634</td></tr><tr><td>bangkok</td><td>2018</td><td>6</td><td>14029</td></tr><tr><td>bangkok</td><td>2018</td><td>7</td><td>17666</td></tr><tr><td>bangkok</td><td>2018</td><td>8</td><td>16647</td></tr><tr><td>bangkok</td><td>2018</td><td>9</td><td>17154</td></tr><tr><td>bangkok</td><td>2018</td><td>10</td><td>19355</td></tr><tr><td>bangkok</td><td>2018</td><td>11</td><td>17175</td></tr><tr><td>bangkok</td><td>2018</td><td>12</td><td>17984</td></tr><tr><td>bangkok</td><td>2019</td><td>1</td><td>18841</td></tr><tr><td>bangkok</td><td>2019</td><td>2</td><td>17187</td></tr><tr><td>bangkok</td><td>2019</td><td>3</td><td>17162</td></tr><tr><td>bangkok</td><td>2019</td><td>4</td><td>15779</td></tr><tr><td>bangkok</td><td>2019</td><td>5</td><td>18497</td></tr><tr><td>bangkok</td><td>2019</td><td>6</td><td>19417</td></tr><tr><td>bangkok</td><td>2019</td><td>7</td><td>17651</td></tr><tr><td>bangkok</td><td>2019</td><td>8</td><td>14706</td></tr><tr><td>bangkok</td><td>2019</td><td>9</td><td>18067</td></tr><tr><td>bangkok</td><td>2019</td><td>10</td><td>16874</td></tr><tr><td>bangkok</td><td>2019</td><td>11</td><td>17779</td></tr><tr><td>bangkok</td><td>2019</td><td>12</td><td>20052</td></tr><tr><td>phuket</td><td>2018</td><td>1</td><td>14800</td></tr><tr><td>phuket</td><td>2018</td><td>2</td><td>13807</td></tr><tr><td>phuket</td><td>2018</td><td>3</td><td>13293</td></tr><tr><td>phuket</td><td>2018</td><td>4</td><td>12962</td></tr><tr><td>phuket</td><td>2018</td><td>5</td><td>14311</td></tr><tr><td>phuket</td><td>2018</td><td>6</td><td>12837</td></tr><tr><td>phuket</td><td>2018</td><td>7</td><td>12723</td></tr><tr><td>phuket</td><td>2018</td><td>8</td><td>14400</td></tr><tr><td>phuket</td><td>2018</td><td>9</td><td>13060</td></tr><tr><td>phuket</td><td>2018</td><td>10</td><td>14421</td></tr><tr><td>phuket</td><td>2018</td><td>11</td><td>14596</td></tr><tr><td>phuket</td><td>2018</td><td>12</td><td>12546</td></tr><tr><td>phuket</td><td>2019</td><td>1</td><td>14264</td></tr><tr><td>phuket</td><td>2019</td><td>2</td><td>12450</td></tr><tr><td>phuket</td><td>2019</td><td>3</td><td>12731</td></tr><tr><td>phuket</td><td>2019</td><td>4</td><td>14358</td></tr><tr><td>phuket</td><td>2019</td><td>5</td><td>11660</td></tr><tr><td>phuket</td><td>2019</td><td>6</td><td>14285</td></tr><tr><td>phuket</td><td>2019</td><td>7</td><td>13964</td></tr><tr><td>phuket</td><td>2019</td><td>8</td><td>13746</td></tr><tr><td>phuket</td><td>2019</td><td>9</td><td>14571</td></tr><tr><td>phuket</td><td>2019</td><td>10</td><td>12021</td></tr><tr><td>phuket</td><td>2019</td><td>11</td><td>12822</td></tr><tr><td>phuket</td><td>2019</td><td>12</td><td>16933</td></tr></table>"
                    },
                    "metadata": {}
                }
            ],
            "execution_count": 28
        },
        {
            "cell_type": "code",
            "source": [
                "with cte as(\r\n",
                "    select branch, date_part('year', dt)::int \"year\",\r\n",
                "    date_part('month', dt)::int \"month\", sum(revenue) total\r\n",
                "    from sales\r\n",
                "    -- where date_part('year', dt) = 2018\r\n",
                "    group by branch, date_part('year', dt), date_part('month', dt) \r\n",
                "    order by branch, \"year\", \"month\" \r\n",
                "),\r\n",
                "b as(\r\n",
                "    select * from cte where branch = 'bangkok'\r\n",
                "), \r\n",
                "p as(\r\n",
                "    select * from cte where branch = 'phuket'\r\n",
                ")\r\n",
                "\r\n",
                "select b.year, b.month, b.total \"bangkok\", p.total \"phuket\", b.total - p.total \"Bkk-Phuket\",\r\n",
                "    to_char(b.total - p.total, '99G999G999')\r\n",
                "    from b inner join p on b.month = p.month"
            ],
            "metadata": {
                "azdata_cell_guid": "e1ae5205-34e2-4e98-ab47-1b72fee3a004"
            },
            "outputs": [
                {
                    "output_type": "display_data",
                    "data": {
                        "text/html": "(48 row(s) affected)"
                    },
                    "metadata": {}
                },
                {
                    "output_type": "display_data",
                    "data": {
                        "text/html": "Total execution time: 00:00:00.004"
                    },
                    "metadata": {}
                },
                {
                    "output_type": "execute_result",
                    "execution_count": 33,
                    "data": {
                        "application/vnd.dataresource+json": {
                            "schema": {
                                "fields": [
                                    {
                                        "name": "year"
                                    },
                                    {
                                        "name": "month"
                                    },
                                    {
                                        "name": "bangkok"
                                    },
                                    {
                                        "name": "phuket"
                                    },
                                    {
                                        "name": "Bkk-Phuket"
                                    },
                                    {
                                        "name": "to_char"
                                    }
                                ]
                            },
                            "data": [
                                {
                                    "0": "2018",
                                    "1": "1",
                                    "2": "20728",
                                    "3": "14800",
                                    "4": "5928",
                                    "5": "      5,928"
                                },
                                {
                                    "0": "2018",
                                    "1": "1",
                                    "2": "20728",
                                    "3": "14264",
                                    "4": "6464",
                                    "5": "      6,464"
                                },
                                {
                                    "0": "2018",
                                    "1": "2",
                                    "2": "15822",
                                    "3": "13807",
                                    "4": "2015",
                                    "5": "      2,015"
                                },
                                {
                                    "0": "2018",
                                    "1": "2",
                                    "2": "15822",
                                    "3": "12450",
                                    "4": "3372",
                                    "5": "      3,372"
                                },
                                {
                                    "0": "2018",
                                    "1": "3",
                                    "2": "17184",
                                    "3": "13293",
                                    "4": "3891",
                                    "5": "      3,891"
                                },
                                {
                                    "0": "2018",
                                    "1": "3",
                                    "2": "17184",
                                    "3": "12731",
                                    "4": "4453",
                                    "5": "      4,453"
                                },
                                {
                                    "0": "2018",
                                    "1": "4",
                                    "2": "21011",
                                    "3": "12962",
                                    "4": "8049",
                                    "5": "      8,049"
                                },
                                {
                                    "0": "2018",
                                    "1": "4",
                                    "2": "21011",
                                    "3": "14358",
                                    "4": "6653",
                                    "5": "      6,653"
                                },
                                {
                                    "0": "2018",
                                    "1": "5",
                                    "2": "18634",
                                    "3": "14311",
                                    "4": "4323",
                                    "5": "      4,323"
                                },
                                {
                                    "0": "2018",
                                    "1": "5",
                                    "2": "18634",
                                    "3": "11660",
                                    "4": "6974",
                                    "5": "      6,974"
                                },
                                {
                                    "0": "2018",
                                    "1": "6",
                                    "2": "14029",
                                    "3": "12837",
                                    "4": "1192",
                                    "5": "      1,192"
                                },
                                {
                                    "0": "2018",
                                    "1": "6",
                                    "2": "14029",
                                    "3": "14285",
                                    "4": "-256",
                                    "5": "       -256"
                                },
                                {
                                    "0": "2018",
                                    "1": "7",
                                    "2": "17666",
                                    "3": "12723",
                                    "4": "4943",
                                    "5": "      4,943"
                                },
                                {
                                    "0": "2018",
                                    "1": "7",
                                    "2": "17666",
                                    "3": "13964",
                                    "4": "3702",
                                    "5": "      3,702"
                                },
                                {
                                    "0": "2018",
                                    "1": "8",
                                    "2": "16647",
                                    "3": "14400",
                                    "4": "2247",
                                    "5": "      2,247"
                                },
                                {
                                    "0": "2018",
                                    "1": "8",
                                    "2": "16647",
                                    "3": "13746",
                                    "4": "2901",
                                    "5": "      2,901"
                                },
                                {
                                    "0": "2018",
                                    "1": "9",
                                    "2": "17154",
                                    "3": "13060",
                                    "4": "4094",
                                    "5": "      4,094"
                                },
                                {
                                    "0": "2018",
                                    "1": "9",
                                    "2": "17154",
                                    "3": "14571",
                                    "4": "2583",
                                    "5": "      2,583"
                                },
                                {
                                    "0": "2018",
                                    "1": "10",
                                    "2": "19355",
                                    "3": "14421",
                                    "4": "4934",
                                    "5": "      4,934"
                                },
                                {
                                    "0": "2018",
                                    "1": "10",
                                    "2": "19355",
                                    "3": "12021",
                                    "4": "7334",
                                    "5": "      7,334"
                                },
                                {
                                    "0": "2018",
                                    "1": "11",
                                    "2": "17175",
                                    "3": "14596",
                                    "4": "2579",
                                    "5": "      2,579"
                                },
                                {
                                    "0": "2018",
                                    "1": "11",
                                    "2": "17175",
                                    "3": "12822",
                                    "4": "4353",
                                    "5": "      4,353"
                                },
                                {
                                    "0": "2018",
                                    "1": "12",
                                    "2": "17984",
                                    "3": "12546",
                                    "4": "5438",
                                    "5": "      5,438"
                                },
                                {
                                    "0": "2018",
                                    "1": "12",
                                    "2": "17984",
                                    "3": "16933",
                                    "4": "1051",
                                    "5": "      1,051"
                                },
                                {
                                    "0": "2019",
                                    "1": "1",
                                    "2": "18841",
                                    "3": "14800",
                                    "4": "4041",
                                    "5": "      4,041"
                                },
                                {
                                    "0": "2019",
                                    "1": "1",
                                    "2": "18841",
                                    "3": "14264",
                                    "4": "4577",
                                    "5": "      4,577"
                                },
                                {
                                    "0": "2019",
                                    "1": "2",
                                    "2": "17187",
                                    "3": "13807",
                                    "4": "3380",
                                    "5": "      3,380"
                                },
                                {
                                    "0": "2019",
                                    "1": "2",
                                    "2": "17187",
                                    "3": "12450",
                                    "4": "4737",
                                    "5": "      4,737"
                                },
                                {
                                    "0": "2019",
                                    "1": "3",
                                    "2": "17162",
                                    "3": "13293",
                                    "4": "3869",
                                    "5": "      3,869"
                                },
                                {
                                    "0": "2019",
                                    "1": "3",
                                    "2": "17162",
                                    "3": "12731",
                                    "4": "4431",
                                    "5": "      4,431"
                                },
                                {
                                    "0": "2019",
                                    "1": "4",
                                    "2": "15779",
                                    "3": "12962",
                                    "4": "2817",
                                    "5": "      2,817"
                                },
                                {
                                    "0": "2019",
                                    "1": "4",
                                    "2": "15779",
                                    "3": "14358",
                                    "4": "1421",
                                    "5": "      1,421"
                                },
                                {
                                    "0": "2019",
                                    "1": "5",
                                    "2": "18497",
                                    "3": "14311",
                                    "4": "4186",
                                    "5": "      4,186"
                                },
                                {
                                    "0": "2019",
                                    "1": "5",
                                    "2": "18497",
                                    "3": "11660",
                                    "4": "6837",
                                    "5": "      6,837"
                                },
                                {
                                    "0": "2019",
                                    "1": "6",
                                    "2": "19417",
                                    "3": "12837",
                                    "4": "6580",
                                    "5": "      6,580"
                                },
                                {
                                    "0": "2019",
                                    "1": "6",
                                    "2": "19417",
                                    "3": "14285",
                                    "4": "5132",
                                    "5": "      5,132"
                                },
                                {
                                    "0": "2019",
                                    "1": "7",
                                    "2": "17651",
                                    "3": "12723",
                                    "4": "4928",
                                    "5": "      4,928"
                                },
                                {
                                    "0": "2019",
                                    "1": "7",
                                    "2": "17651",
                                    "3": "13964",
                                    "4": "3687",
                                    "5": "      3,687"
                                },
                                {
                                    "0": "2019",
                                    "1": "8",
                                    "2": "14706",
                                    "3": "14400",
                                    "4": "306",
                                    "5": "        306"
                                },
                                {
                                    "0": "2019",
                                    "1": "8",
                                    "2": "14706",
                                    "3": "13746",
                                    "4": "960",
                                    "5": "        960"
                                },
                                {
                                    "0": "2019",
                                    "1": "9",
                                    "2": "18067",
                                    "3": "13060",
                                    "4": "5007",
                                    "5": "      5,007"
                                },
                                {
                                    "0": "2019",
                                    "1": "9",
                                    "2": "18067",
                                    "3": "14571",
                                    "4": "3496",
                                    "5": "      3,496"
                                },
                                {
                                    "0": "2019",
                                    "1": "10",
                                    "2": "16874",
                                    "3": "14421",
                                    "4": "2453",
                                    "5": "      2,453"
                                },
                                {
                                    "0": "2019",
                                    "1": "10",
                                    "2": "16874",
                                    "3": "12021",
                                    "4": "4853",
                                    "5": "      4,853"
                                },
                                {
                                    "0": "2019",
                                    "1": "11",
                                    "2": "17779",
                                    "3": "14596",
                                    "4": "3183",
                                    "5": "      3,183"
                                },
                                {
                                    "0": "2019",
                                    "1": "11",
                                    "2": "17779",
                                    "3": "12822",
                                    "4": "4957",
                                    "5": "      4,957"
                                },
                                {
                                    "0": "2019",
                                    "1": "12",
                                    "2": "20052",
                                    "3": "12546",
                                    "4": "7506",
                                    "5": "      7,506"
                                },
                                {
                                    "0": "2019",
                                    "1": "12",
                                    "2": "20052",
                                    "3": "16933",
                                    "4": "3119",
                                    "5": "      3,119"
                                }
                            ]
                        },
                        "text/html": "<table><tr><th>year</th><th>month</th><th>bangkok</th><th>phuket</th><th>Bkk-Phuket</th><th>to_char</th></tr><tr><td>2018</td><td>1</td><td>20728</td><td>14800</td><td>5928</td><td>      5,928</td></tr><tr><td>2018</td><td>1</td><td>20728</td><td>14264</td><td>6464</td><td>      6,464</td></tr><tr><td>2018</td><td>2</td><td>15822</td><td>13807</td><td>2015</td><td>      2,015</td></tr><tr><td>2018</td><td>2</td><td>15822</td><td>12450</td><td>3372</td><td>      3,372</td></tr><tr><td>2018</td><td>3</td><td>17184</td><td>13293</td><td>3891</td><td>      3,891</td></tr><tr><td>2018</td><td>3</td><td>17184</td><td>12731</td><td>4453</td><td>      4,453</td></tr><tr><td>2018</td><td>4</td><td>21011</td><td>12962</td><td>8049</td><td>      8,049</td></tr><tr><td>2018</td><td>4</td><td>21011</td><td>14358</td><td>6653</td><td>      6,653</td></tr><tr><td>2018</td><td>5</td><td>18634</td><td>14311</td><td>4323</td><td>      4,323</td></tr><tr><td>2018</td><td>5</td><td>18634</td><td>11660</td><td>6974</td><td>      6,974</td></tr><tr><td>2018</td><td>6</td><td>14029</td><td>12837</td><td>1192</td><td>      1,192</td></tr><tr><td>2018</td><td>6</td><td>14029</td><td>14285</td><td>-256</td><td>       -256</td></tr><tr><td>2018</td><td>7</td><td>17666</td><td>12723</td><td>4943</td><td>      4,943</td></tr><tr><td>2018</td><td>7</td><td>17666</td><td>13964</td><td>3702</td><td>      3,702</td></tr><tr><td>2018</td><td>8</td><td>16647</td><td>14400</td><td>2247</td><td>      2,247</td></tr><tr><td>2018</td><td>8</td><td>16647</td><td>13746</td><td>2901</td><td>      2,901</td></tr><tr><td>2018</td><td>9</td><td>17154</td><td>13060</td><td>4094</td><td>      4,094</td></tr><tr><td>2018</td><td>9</td><td>17154</td><td>14571</td><td>2583</td><td>      2,583</td></tr><tr><td>2018</td><td>10</td><td>19355</td><td>14421</td><td>4934</td><td>      4,934</td></tr><tr><td>2018</td><td>10</td><td>19355</td><td>12021</td><td>7334</td><td>      7,334</td></tr><tr><td>2018</td><td>11</td><td>17175</td><td>14596</td><td>2579</td><td>      2,579</td></tr><tr><td>2018</td><td>11</td><td>17175</td><td>12822</td><td>4353</td><td>      4,353</td></tr><tr><td>2018</td><td>12</td><td>17984</td><td>12546</td><td>5438</td><td>      5,438</td></tr><tr><td>2018</td><td>12</td><td>17984</td><td>16933</td><td>1051</td><td>      1,051</td></tr><tr><td>2019</td><td>1</td><td>18841</td><td>14800</td><td>4041</td><td>      4,041</td></tr><tr><td>2019</td><td>1</td><td>18841</td><td>14264</td><td>4577</td><td>      4,577</td></tr><tr><td>2019</td><td>2</td><td>17187</td><td>13807</td><td>3380</td><td>      3,380</td></tr><tr><td>2019</td><td>2</td><td>17187</td><td>12450</td><td>4737</td><td>      4,737</td></tr><tr><td>2019</td><td>3</td><td>17162</td><td>13293</td><td>3869</td><td>      3,869</td></tr><tr><td>2019</td><td>3</td><td>17162</td><td>12731</td><td>4431</td><td>      4,431</td></tr><tr><td>2019</td><td>4</td><td>15779</td><td>12962</td><td>2817</td><td>      2,817</td></tr><tr><td>2019</td><td>4</td><td>15779</td><td>14358</td><td>1421</td><td>      1,421</td></tr><tr><td>2019</td><td>5</td><td>18497</td><td>14311</td><td>4186</td><td>      4,186</td></tr><tr><td>2019</td><td>5</td><td>18497</td><td>11660</td><td>6837</td><td>      6,837</td></tr><tr><td>2019</td><td>6</td><td>19417</td><td>12837</td><td>6580</td><td>      6,580</td></tr><tr><td>2019</td><td>6</td><td>19417</td><td>14285</td><td>5132</td><td>      5,132</td></tr><tr><td>2019</td><td>7</td><td>17651</td><td>12723</td><td>4928</td><td>      4,928</td></tr><tr><td>2019</td><td>7</td><td>17651</td><td>13964</td><td>3687</td><td>      3,687</td></tr><tr><td>2019</td><td>8</td><td>14706</td><td>14400</td><td>306</td><td>        306</td></tr><tr><td>2019</td><td>8</td><td>14706</td><td>13746</td><td>960</td><td>        960</td></tr><tr><td>2019</td><td>9</td><td>18067</td><td>13060</td><td>5007</td><td>      5,007</td></tr><tr><td>2019</td><td>9</td><td>18067</td><td>14571</td><td>3496</td><td>      3,496</td></tr><tr><td>2019</td><td>10</td><td>16874</td><td>14421</td><td>2453</td><td>      2,453</td></tr><tr><td>2019</td><td>10</td><td>16874</td><td>12021</td><td>4853</td><td>      4,853</td></tr><tr><td>2019</td><td>11</td><td>17779</td><td>14596</td><td>3183</td><td>      3,183</td></tr><tr><td>2019</td><td>11</td><td>17779</td><td>12822</td><td>4957</td><td>      4,957</td></tr><tr><td>2019</td><td>12</td><td>20052</td><td>12546</td><td>7506</td><td>      7,506</td></tr><tr><td>2019</td><td>12</td><td>20052</td><td>16933</td><td>3119</td><td>      3,119</td></tr></table>"
                    },
                    "metadata": {}
                }
            ],
            "execution_count": 33
        },
        {
            "cell_type": "code",
            "source": [
                "with cte as(\r\n",
                "    select branch, date_part('year', dt)::int \"year\",\r\n",
                "    date_part('month', dt)::int \"month\", sum(revenue) total\r\n",
                "    from sales\r\n",
                "    -- where date_part('year', dt) = 2018\r\n",
                "    group by branch, date_part('year', dt), date_part('month', dt) \r\n",
                "    order by branch, \"year\", \"month\" \r\n",
                "),\r\n",
                "b as(\r\n",
                "    select * from cte where branch = 'bangkok'\r\n",
                "), \r\n",
                "p as(\r\n",
                "    select * from cte where branch = 'phuket'\r\n",
                ")\r\n",
                "\r\n",
                "select b.year, b.month, b.total \"bangkok\", p.total \"phuket\", b.total - p.total \"Bkk-Phuket\",\r\n",
                "    to_char(b.total - p.total, '99G999G999')\r\n",
                "    from b inner join p on b.year = p.year and b.month = p.month"
            ],
            "metadata": {
                "azdata_cell_guid": "2ae259af-9fc9-433e-9eb4-175c32c4057a"
            },
            "outputs": [
                {
                    "output_type": "display_data",
                    "data": {
                        "text/html": "(24 row(s) affected)"
                    },
                    "metadata": {}
                },
                {
                    "output_type": "display_data",
                    "data": {
                        "text/html": "Total execution time: 00:00:00.007"
                    },
                    "metadata": {}
                },
                {
                    "output_type": "execute_result",
                    "execution_count": 36,
                    "data": {
                        "application/vnd.dataresource+json": {
                            "schema": {
                                "fields": [
                                    {
                                        "name": "year"
                                    },
                                    {
                                        "name": "month"
                                    },
                                    {
                                        "name": "bangkok"
                                    },
                                    {
                                        "name": "phuket"
                                    },
                                    {
                                        "name": "Bkk-Phuket"
                                    },
                                    {
                                        "name": "to_char"
                                    }
                                ]
                            },
                            "data": [
                                {
                                    "0": "2018",
                                    "1": "1",
                                    "2": "20728",
                                    "3": "14800",
                                    "4": "5928",
                                    "5": "      5,928"
                                },
                                {
                                    "0": "2018",
                                    "1": "2",
                                    "2": "15822",
                                    "3": "13807",
                                    "4": "2015",
                                    "5": "      2,015"
                                },
                                {
                                    "0": "2018",
                                    "1": "3",
                                    "2": "17184",
                                    "3": "13293",
                                    "4": "3891",
                                    "5": "      3,891"
                                },
                                {
                                    "0": "2018",
                                    "1": "4",
                                    "2": "21011",
                                    "3": "12962",
                                    "4": "8049",
                                    "5": "      8,049"
                                },
                                {
                                    "0": "2018",
                                    "1": "5",
                                    "2": "18634",
                                    "3": "14311",
                                    "4": "4323",
                                    "5": "      4,323"
                                },
                                {
                                    "0": "2018",
                                    "1": "6",
                                    "2": "14029",
                                    "3": "12837",
                                    "4": "1192",
                                    "5": "      1,192"
                                },
                                {
                                    "0": "2018",
                                    "1": "7",
                                    "2": "17666",
                                    "3": "12723",
                                    "4": "4943",
                                    "5": "      4,943"
                                },
                                {
                                    "0": "2018",
                                    "1": "8",
                                    "2": "16647",
                                    "3": "14400",
                                    "4": "2247",
                                    "5": "      2,247"
                                },
                                {
                                    "0": "2018",
                                    "1": "9",
                                    "2": "17154",
                                    "3": "13060",
                                    "4": "4094",
                                    "5": "      4,094"
                                },
                                {
                                    "0": "2018",
                                    "1": "10",
                                    "2": "19355",
                                    "3": "14421",
                                    "4": "4934",
                                    "5": "      4,934"
                                },
                                {
                                    "0": "2018",
                                    "1": "11",
                                    "2": "17175",
                                    "3": "14596",
                                    "4": "2579",
                                    "5": "      2,579"
                                },
                                {
                                    "0": "2018",
                                    "1": "12",
                                    "2": "17984",
                                    "3": "12546",
                                    "4": "5438",
                                    "5": "      5,438"
                                },
                                {
                                    "0": "2019",
                                    "1": "1",
                                    "2": "18841",
                                    "3": "14264",
                                    "4": "4577",
                                    "5": "      4,577"
                                },
                                {
                                    "0": "2019",
                                    "1": "2",
                                    "2": "17187",
                                    "3": "12450",
                                    "4": "4737",
                                    "5": "      4,737"
                                },
                                {
                                    "0": "2019",
                                    "1": "3",
                                    "2": "17162",
                                    "3": "12731",
                                    "4": "4431",
                                    "5": "      4,431"
                                },
                                {
                                    "0": "2019",
                                    "1": "4",
                                    "2": "15779",
                                    "3": "14358",
                                    "4": "1421",
                                    "5": "      1,421"
                                },
                                {
                                    "0": "2019",
                                    "1": "5",
                                    "2": "18497",
                                    "3": "11660",
                                    "4": "6837",
                                    "5": "      6,837"
                                },
                                {
                                    "0": "2019",
                                    "1": "6",
                                    "2": "19417",
                                    "3": "14285",
                                    "4": "5132",
                                    "5": "      5,132"
                                },
                                {
                                    "0": "2019",
                                    "1": "7",
                                    "2": "17651",
                                    "3": "13964",
                                    "4": "3687",
                                    "5": "      3,687"
                                },
                                {
                                    "0": "2019",
                                    "1": "8",
                                    "2": "14706",
                                    "3": "13746",
                                    "4": "960",
                                    "5": "        960"
                                },
                                {
                                    "0": "2019",
                                    "1": "9",
                                    "2": "18067",
                                    "3": "14571",
                                    "4": "3496",
                                    "5": "      3,496"
                                },
                                {
                                    "0": "2019",
                                    "1": "10",
                                    "2": "16874",
                                    "3": "12021",
                                    "4": "4853",
                                    "5": "      4,853"
                                },
                                {
                                    "0": "2019",
                                    "1": "11",
                                    "2": "17779",
                                    "3": "12822",
                                    "4": "4957",
                                    "5": "      4,957"
                                },
                                {
                                    "0": "2019",
                                    "1": "12",
                                    "2": "20052",
                                    "3": "16933",
                                    "4": "3119",
                                    "5": "      3,119"
                                }
                            ]
                        },
                        "text/html": "<table><tr><th>year</th><th>month</th><th>bangkok</th><th>phuket</th><th>Bkk-Phuket</th><th>to_char</th></tr><tr><td>2018</td><td>1</td><td>20728</td><td>14800</td><td>5928</td><td>      5,928</td></tr><tr><td>2018</td><td>2</td><td>15822</td><td>13807</td><td>2015</td><td>      2,015</td></tr><tr><td>2018</td><td>3</td><td>17184</td><td>13293</td><td>3891</td><td>      3,891</td></tr><tr><td>2018</td><td>4</td><td>21011</td><td>12962</td><td>8049</td><td>      8,049</td></tr><tr><td>2018</td><td>5</td><td>18634</td><td>14311</td><td>4323</td><td>      4,323</td></tr><tr><td>2018</td><td>6</td><td>14029</td><td>12837</td><td>1192</td><td>      1,192</td></tr><tr><td>2018</td><td>7</td><td>17666</td><td>12723</td><td>4943</td><td>      4,943</td></tr><tr><td>2018</td><td>8</td><td>16647</td><td>14400</td><td>2247</td><td>      2,247</td></tr><tr><td>2018</td><td>9</td><td>17154</td><td>13060</td><td>4094</td><td>      4,094</td></tr><tr><td>2018</td><td>10</td><td>19355</td><td>14421</td><td>4934</td><td>      4,934</td></tr><tr><td>2018</td><td>11</td><td>17175</td><td>14596</td><td>2579</td><td>      2,579</td></tr><tr><td>2018</td><td>12</td><td>17984</td><td>12546</td><td>5438</td><td>      5,438</td></tr><tr><td>2019</td><td>1</td><td>18841</td><td>14264</td><td>4577</td><td>      4,577</td></tr><tr><td>2019</td><td>2</td><td>17187</td><td>12450</td><td>4737</td><td>      4,737</td></tr><tr><td>2019</td><td>3</td><td>17162</td><td>12731</td><td>4431</td><td>      4,431</td></tr><tr><td>2019</td><td>4</td><td>15779</td><td>14358</td><td>1421</td><td>      1,421</td></tr><tr><td>2019</td><td>5</td><td>18497</td><td>11660</td><td>6837</td><td>      6,837</td></tr><tr><td>2019</td><td>6</td><td>19417</td><td>14285</td><td>5132</td><td>      5,132</td></tr><tr><td>2019</td><td>7</td><td>17651</td><td>13964</td><td>3687</td><td>      3,687</td></tr><tr><td>2019</td><td>8</td><td>14706</td><td>13746</td><td>960</td><td>        960</td></tr><tr><td>2019</td><td>9</td><td>18067</td><td>14571</td><td>3496</td><td>      3,496</td></tr><tr><td>2019</td><td>10</td><td>16874</td><td>12021</td><td>4853</td><td>      4,853</td></tr><tr><td>2019</td><td>11</td><td>17779</td><td>12822</td><td>4957</td><td>      4,957</td></tr><tr><td>2019</td><td>12</td><td>20052</td><td>16933</td><td>3119</td><td>      3,119</td></tr></table>"
                    },
                    "metadata": {}
                }
            ],
            "execution_count": 36
        }
    ]
}