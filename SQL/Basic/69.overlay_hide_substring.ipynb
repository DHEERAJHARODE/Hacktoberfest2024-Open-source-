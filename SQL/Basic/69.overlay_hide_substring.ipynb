{
    "metadata": {
        "kernelspec": {
            "name": "SQL",
            "display_name": "SQL",
            "language": "sql"
        },
        "language_info": {
            "name": "sql",
            "version": ""
        }
    },
    "nbformat_minor": 2,
    "nbformat": 4,
    "cells": [
        {
            "cell_type": "markdown",
            "source": [
                "# การแทนที่(ซ่อน)บางส่วนของข้อความ เช่น เบอร์โทรศัพท์ อีเมล์ ด้วยฟังก์ชัน OVERLAY()"
            ],
            "metadata": {
                "azdata_cell_guid": "52da7177-a54a-4101-9256-fa6d50457d8d"
            }
        },
        {
            "cell_type": "code",
            "source": [
                "drop table if exists customer;\r\n",
                "\r\n",
                "create table customer (\r\n",
                "\tid INT,\r\n",
                "\tfirst_name VARCHAR(50),\r\n",
                "\tlast_name VARCHAR(50),\r\n",
                "\ttel VARCHAR(10),\r\n",
                "\temail VARCHAR(50),\r\n",
                "\tcredit_card VARCHAR(16)\r\n",
                ");\r\n",
                "insert into customer values \r\n",
                "\t(1, 'Loria', 'Tinn', '0671234567', 'ltinn0@github.com', '3584706095398384'),\r\n",
                "\t(2, 'Marilee', 'Preshous', '0824511567',  'mpreshous1@virginia.edu', '6706574072498320'),\r\n",
                "\t(3, 'Tiphanie', 'Lodden',  '0922478990', 'tlodden2@diigo.com', '5315907330526398'),\r\n",
                "\t(4, 'Vally', 'Bollini',  '0621112555', 'vbollini3@psu.edu', '5602215575267365'),\r\n",
                "\t(5, 'Norry', 'Sottell',  '0893991133', 'nsottell4@xinhuanet.com', '3587441607904084'),\r\n",
                "\t(6, 'Koenraad', 'Bierling',  '0871122333', 'kbierling5@theatlantic.com', '5038736841040421'),\r\n",
                "\t(7, 'Vassily', 'Byass',  '0624455667', 'vbyass6@timesonline.co.uk', '3581310782654267'),\r\n",
                "\t(8, 'Felicia', 'Kinker',  '0699876543', 'fkinker7@cnet.com', '3540550384985318'),\r\n",
                "\t(9, 'Jecho', 'Quinn',  '0884567890', 'jquinn8@europa.eu', '3537927281544536'),\r\n",
                "\t(10, 'Ulrica', 'Oxe',  '0632019102', 'uoxe9@angelfire.com', '3742885109458261');"
            ],
            "metadata": {
                "azdata_cell_guid": "5995e823-dea8-44f6-833d-7b7bfe278720"
            },
            "outputs": [
                {
                    "output_type": "display_data",
                    "data": {
                        "text/html": "Commands completed successfully"
                    },
                    "metadata": {}
                },
                {
                    "output_type": "display_data",
                    "data": {
                        "text/html": "Commands completed successfully"
                    },
                    "metadata": {}
                },
                {
                    "output_type": "display_data",
                    "data": {
                        "text/html": "Commands completed successfully"
                    },
                    "metadata": {}
                },
                {
                    "output_type": "display_data",
                    "data": {
                        "text/html": "Total execution time: 00:00:00.336"
                    },
                    "metadata": {}
                }
            ],
            "execution_count": 1
        },
        {
            "cell_type": "code",
            "source": [
                "select * from customer"
            ],
            "metadata": {
                "azdata_cell_guid": "c162370b-6652-412f-9fae-42730d342c8a"
            },
            "outputs": [
                {
                    "output_type": "display_data",
                    "data": {
                        "text/html": "(10 row(s) affected)"
                    },
                    "metadata": {}
                },
                {
                    "output_type": "display_data",
                    "data": {
                        "text/html": "Total execution time: 00:00:00.004"
                    },
                    "metadata": {}
                },
                {
                    "output_type": "execute_result",
                    "metadata": {},
                    "execution_count": 2,
                    "data": {
                        "application/vnd.dataresource+json": {
                            "schema": {
                                "fields": [
                                    {
                                        "name": "id"
                                    },
                                    {
                                        "name": "first_name"
                                    },
                                    {
                                        "name": "last_name"
                                    },
                                    {
                                        "name": "tel"
                                    },
                                    {
                                        "name": "email"
                                    },
                                    {
                                        "name": "credit_card"
                                    }
                                ]
                            },
                            "data": [
                                {
                                    "0": "1",
                                    "1": "Loria",
                                    "2": "Tinn",
                                    "3": "0671234567",
                                    "4": "ltinn0@github.com",
                                    "5": "3584706095398384"
                                },
                                {
                                    "0": "2",
                                    "1": "Marilee",
                                    "2": "Preshous",
                                    "3": "0824511567",
                                    "4": "mpreshous1@virginia.edu",
                                    "5": "6706574072498320"
                                },
                                {
                                    "0": "3",
                                    "1": "Tiphanie",
                                    "2": "Lodden",
                                    "3": "0922478990",
                                    "4": "tlodden2@diigo.com",
                                    "5": "5315907330526398"
                                },
                                {
                                    "0": "4",
                                    "1": "Vally",
                                    "2": "Bollini",
                                    "3": "0621112555",
                                    "4": "vbollini3@psu.edu",
                                    "5": "5602215575267365"
                                },
                                {
                                    "0": "5",
                                    "1": "Norry",
                                    "2": "Sottell",
                                    "3": "0893991133",
                                    "4": "nsottell4@xinhuanet.com",
                                    "5": "3587441607904084"
                                },
                                {
                                    "0": "6",
                                    "1": "Koenraad",
                                    "2": "Bierling",
                                    "3": "0871122333",
                                    "4": "kbierling5@theatlantic.com",
                                    "5": "5038736841040421"
                                },
                                {
                                    "0": "7",
                                    "1": "Vassily",
                                    "2": "Byass",
                                    "3": "0624455667",
                                    "4": "vbyass6@timesonline.co.uk",
                                    "5": "3581310782654267"
                                },
                                {
                                    "0": "8",
                                    "1": "Felicia",
                                    "2": "Kinker",
                                    "3": "0699876543",
                                    "4": "fkinker7@cnet.com",
                                    "5": "3540550384985318"
                                },
                                {
                                    "0": "9",
                                    "1": "Jecho",
                                    "2": "Quinn",
                                    "3": "0884567890",
                                    "4": "jquinn8@europa.eu",
                                    "5": "3537927281544536"
                                },
                                {
                                    "0": "10",
                                    "1": "Ulrica",
                                    "2": "Oxe",
                                    "3": "0632019102",
                                    "4": "uoxe9@angelfire.com",
                                    "5": "3742885109458261"
                                }
                            ]
                        },
                        "text/html": [
                            "<table>",
                            "<tr><th>id</th><th>first_name</th><th>last_name</th><th>tel</th><th>email</th><th>credit_card</th></tr>",
                            "<tr><td>1</td><td>Loria</td><td>Tinn</td><td>0671234567</td><td>ltinn0@github.com</td><td>3584706095398384</td></tr>",
                            "<tr><td>2</td><td>Marilee</td><td>Preshous</td><td>0824511567</td><td>mpreshous1@virginia.edu</td><td>6706574072498320</td></tr>",
                            "<tr><td>3</td><td>Tiphanie</td><td>Lodden</td><td>0922478990</td><td>tlodden2@diigo.com</td><td>5315907330526398</td></tr>",
                            "<tr><td>4</td><td>Vally</td><td>Bollini</td><td>0621112555</td><td>vbollini3@psu.edu</td><td>5602215575267365</td></tr>",
                            "<tr><td>5</td><td>Norry</td><td>Sottell</td><td>0893991133</td><td>nsottell4@xinhuanet.com</td><td>3587441607904084</td></tr>",
                            "<tr><td>6</td><td>Koenraad</td><td>Bierling</td><td>0871122333</td><td>kbierling5@theatlantic.com</td><td>5038736841040421</td></tr>",
                            "<tr><td>7</td><td>Vassily</td><td>Byass</td><td>0624455667</td><td>vbyass6@timesonline.co.uk</td><td>3581310782654267</td></tr>",
                            "<tr><td>8</td><td>Felicia</td><td>Kinker</td><td>0699876543</td><td>fkinker7@cnet.com</td><td>3540550384985318</td></tr>",
                            "<tr><td>9</td><td>Jecho</td><td>Quinn</td><td>0884567890</td><td>jquinn8@europa.eu</td><td>3537927281544536</td></tr>",
                            "<tr><td>10</td><td>Ulrica</td><td>Oxe</td><td>0632019102</td><td>uoxe9@angelfire.com</td><td>3742885109458261</td></tr>",
                            "</table>"
                        ]
                    }
                }
            ],
            "execution_count": 2
        },
        {
            "cell_type": "code",
            "source": [
                "select tel, \r\n",
                "    overlay(tel placing 'xxxx' from 3 for 4), -- จากตำแหน่งที่ 3 ไป 4 ตัว\r\n",
                "    overlay(tel placing repeat('x', 4) from 3 for 4),\r\n",
                "    overlay(tel placing repeat('*', 3) from 5 for 3)\r\n",
                "    from customer"
            ],
            "metadata": {
                "azdata_cell_guid": "a05b4d96-08c5-4794-be17-78c7d2098c22"
            },
            "outputs": [
                {
                    "output_type": "display_data",
                    "data": {
                        "text/html": "(10 row(s) affected)"
                    },
                    "metadata": {}
                },
                {
                    "output_type": "display_data",
                    "data": {
                        "text/html": "Total execution time: 00:00:00.007"
                    },
                    "metadata": {}
                },
                {
                    "output_type": "execute_result",
                    "metadata": {},
                    "execution_count": 7,
                    "data": {
                        "application/vnd.dataresource+json": {
                            "schema": {
                                "fields": [
                                    {
                                        "name": "tel"
                                    },
                                    {
                                        "name": "overlay"
                                    },
                                    {
                                        "name": "overlay"
                                    },
                                    {
                                        "name": "overlay"
                                    }
                                ]
                            },
                            "data": [
                                {
                                    "0": "0671234567",
                                    "1": "06xxxx4567",
                                    "2": "06xxxx4567",
                                    "3": "0671***567"
                                },
                                {
                                    "0": "0824511567",
                                    "1": "08xxxx1567",
                                    "2": "08xxxx1567",
                                    "3": "0824***567"
                                },
                                {
                                    "0": "0922478990",
                                    "1": "09xxxx8990",
                                    "2": "09xxxx8990",
                                    "3": "0922***990"
                                },
                                {
                                    "0": "0621112555",
                                    "1": "06xxxx2555",
                                    "2": "06xxxx2555",
                                    "3": "0621***555"
                                },
                                {
                                    "0": "0893991133",
                                    "1": "08xxxx1133",
                                    "2": "08xxxx1133",
                                    "3": "0893***133"
                                },
                                {
                                    "0": "0871122333",
                                    "1": "08xxxx2333",
                                    "2": "08xxxx2333",
                                    "3": "0871***333"
                                },
                                {
                                    "0": "0624455667",
                                    "1": "06xxxx5667",
                                    "2": "06xxxx5667",
                                    "3": "0624***667"
                                },
                                {
                                    "0": "0699876543",
                                    "1": "06xxxx6543",
                                    "2": "06xxxx6543",
                                    "3": "0699***543"
                                },
                                {
                                    "0": "0884567890",
                                    "1": "08xxxx7890",
                                    "2": "08xxxx7890",
                                    "3": "0884***890"
                                },
                                {
                                    "0": "0632019102",
                                    "1": "06xxxx9102",
                                    "2": "06xxxx9102",
                                    "3": "0632***102"
                                }
                            ]
                        },
                        "text/html": [
                            "<table>",
                            "<tr><th>tel</th><th>overlay</th><th>overlay</th><th>overlay</th></tr>",
                            "<tr><td>0671234567</td><td>06xxxx4567</td><td>06xxxx4567</td><td>0671***567</td></tr>",
                            "<tr><td>0824511567</td><td>08xxxx1567</td><td>08xxxx1567</td><td>0824***567</td></tr>",
                            "<tr><td>0922478990</td><td>09xxxx8990</td><td>09xxxx8990</td><td>0922***990</td></tr>",
                            "<tr><td>0621112555</td><td>06xxxx2555</td><td>06xxxx2555</td><td>0621***555</td></tr>",
                            "<tr><td>0893991133</td><td>08xxxx1133</td><td>08xxxx1133</td><td>0893***133</td></tr>",
                            "<tr><td>0871122333</td><td>08xxxx2333</td><td>08xxxx2333</td><td>0871***333</td></tr>",
                            "<tr><td>0624455667</td><td>06xxxx5667</td><td>06xxxx5667</td><td>0624***667</td></tr>",
                            "<tr><td>0699876543</td><td>06xxxx6543</td><td>06xxxx6543</td><td>0699***543</td></tr>",
                            "<tr><td>0884567890</td><td>08xxxx7890</td><td>08xxxx7890</td><td>0884***890</td></tr>",
                            "<tr><td>0632019102</td><td>06xxxx9102</td><td>06xxxx9102</td><td>0632***102</td></tr>",
                            "</table>"
                        ]
                    }
                }
            ],
            "execution_count": 7
        },
        {
            "cell_type": "code",
            "source": [
                "select repeat(chr(x'2589'::int), 5)"
            ],
            "metadata": {
                "azdata_cell_guid": "8e85b7d4-cf4c-49bb-9c1d-319a8fb218da"
            },
            "outputs": [
                {
                    "output_type": "display_data",
                    "data": {
                        "text/html": "(1 row(s) affected)"
                    },
                    "metadata": {}
                },
                {
                    "output_type": "display_data",
                    "data": {
                        "text/html": "Total execution time: 00:00:00.041"
                    },
                    "metadata": {}
                },
                {
                    "output_type": "execute_result",
                    "metadata": {},
                    "execution_count": 12,
                    "data": {
                        "application/vnd.dataresource+json": {
                            "schema": {
                                "fields": [
                                    {
                                        "name": "repeat"
                                    }
                                ]
                            },
                            "data": [
                                {
                                    "0": "▉▉▉▉▉"
                                }
                            ]
                        },
                        "text/html": [
                            "<table>",
                            "<tr><th>repeat</th></tr>",
                            "<tr><td>▉▉▉▉▉</td></tr>",
                            "</table>"
                        ]
                    }
                }
            ],
            "execution_count": 12
        },
        {
            "cell_type": "code",
            "source": [
                "select credit_card,\r\n",
                "    overlay(credit_card placing repeat('*', 5) from 3 for 5),\r\n",
                "    overlay(overlay(credit_card placing repeat('*', 5) from 3 for 5) placing repeat('-', 3) from 12 for 3),\r\n",
                "    overlay(overlay(credit_card placing repeat('*', 5) from 3 for 5) placing repeat(chr(x'2589'::int), 3) from 12 for 3)\r\n",
                "    from customer"
            ],
            "metadata": {
                "azdata_cell_guid": "83508869-204d-4299-b1ee-33fc734d130c"
            },
            "outputs": [
                {
                    "output_type": "display_data",
                    "data": {
                        "text/html": "(10 row(s) affected)"
                    },
                    "metadata": {}
                },
                {
                    "output_type": "display_data",
                    "data": {
                        "text/html": "Total execution time: 00:00:00.009"
                    },
                    "metadata": {}
                },
                {
                    "output_type": "execute_result",
                    "metadata": {},
                    "execution_count": 13,
                    "data": {
                        "application/vnd.dataresource+json": {
                            "schema": {
                                "fields": [
                                    {
                                        "name": "credit_card"
                                    },
                                    {
                                        "name": "overlay"
                                    },
                                    {
                                        "name": "overlay"
                                    },
                                    {
                                        "name": "overlay"
                                    }
                                ]
                            },
                            "data": [
                                {
                                    "0": "3584706095398384",
                                    "1": "35*****095398384",
                                    "2": "35*****0953---84",
                                    "3": "35*****0953▉▉▉84"
                                },
                                {
                                    "0": "6706574072498320",
                                    "1": "67*****072498320",
                                    "2": "67*****0724---20",
                                    "3": "67*****0724▉▉▉20"
                                },
                                {
                                    "0": "5315907330526398",
                                    "1": "53*****330526398",
                                    "2": "53*****3305---98",
                                    "3": "53*****3305▉▉▉98"
                                },
                                {
                                    "0": "5602215575267365",
                                    "1": "56*****575267365",
                                    "2": "56*****5752---65",
                                    "3": "56*****5752▉▉▉65"
                                },
                                {
                                    "0": "3587441607904084",
                                    "1": "35*****607904084",
                                    "2": "35*****6079---84",
                                    "3": "35*****6079▉▉▉84"
                                },
                                {
                                    "0": "5038736841040421",
                                    "1": "50*****841040421",
                                    "2": "50*****8410---21",
                                    "3": "50*****8410▉▉▉21"
                                },
                                {
                                    "0": "3581310782654267",
                                    "1": "35*****782654267",
                                    "2": "35*****7826---67",
                                    "3": "35*****7826▉▉▉67"
                                },
                                {
                                    "0": "3540550384985318",
                                    "1": "35*****384985318",
                                    "2": "35*****3849---18",
                                    "3": "35*****3849▉▉▉18"
                                },
                                {
                                    "0": "3537927281544536",
                                    "1": "35*****281544536",
                                    "2": "35*****2815---36",
                                    "3": "35*****2815▉▉▉36"
                                },
                                {
                                    "0": "3742885109458261",
                                    "1": "37*****109458261",
                                    "2": "37*****1094---61",
                                    "3": "37*****1094▉▉▉61"
                                }
                            ]
                        },
                        "text/html": [
                            "<table>",
                            "<tr><th>credit_card</th><th>overlay</th><th>overlay</th><th>overlay</th></tr>",
                            "<tr><td>3584706095398384</td><td>35*****095398384</td><td>35*****0953---84</td><td>35*****0953▉▉▉84</td></tr>",
                            "<tr><td>6706574072498320</td><td>67*****072498320</td><td>67*****0724---20</td><td>67*****0724▉▉▉20</td></tr>",
                            "<tr><td>5315907330526398</td><td>53*****330526398</td><td>53*****3305---98</td><td>53*****3305▉▉▉98</td></tr>",
                            "<tr><td>5602215575267365</td><td>56*****575267365</td><td>56*****5752---65</td><td>56*****5752▉▉▉65</td></tr>",
                            "<tr><td>3587441607904084</td><td>35*****607904084</td><td>35*****6079---84</td><td>35*****6079▉▉▉84</td></tr>",
                            "<tr><td>5038736841040421</td><td>50*****841040421</td><td>50*****8410---21</td><td>50*****8410▉▉▉21</td></tr>",
                            "<tr><td>3581310782654267</td><td>35*****782654267</td><td>35*****7826---67</td><td>35*****7826▉▉▉67</td></tr>",
                            "<tr><td>3540550384985318</td><td>35*****384985318</td><td>35*****3849---18</td><td>35*****3849▉▉▉18</td></tr>",
                            "<tr><td>3537927281544536</td><td>35*****281544536</td><td>35*****2815---36</td><td>35*****2815▉▉▉36</td></tr>",
                            "<tr><td>3742885109458261</td><td>37*****109458261</td><td>37*****1094---61</td><td>37*****1094▉▉▉61</td></tr>",
                            "</table>"
                        ]
                    }
                }
            ],
            "execution_count": 13
        },
        {
            "cell_type": "code",
            "source": [
                "select email, position('@' in email) from customer"
            ],
            "metadata": {
                "azdata_cell_guid": "9eb3a9d2-e7de-41d3-8c0b-394ab0e1f772"
            },
            "outputs": [
                {
                    "output_type": "display_data",
                    "data": {
                        "text/html": "(10 row(s) affected)"
                    },
                    "metadata": {}
                },
                {
                    "output_type": "display_data",
                    "data": {
                        "text/html": "Total execution time: 00:00:00.055"
                    },
                    "metadata": {}
                },
                {
                    "output_type": "execute_result",
                    "metadata": {},
                    "execution_count": 16,
                    "data": {
                        "application/vnd.dataresource+json": {
                            "schema": {
                                "fields": [
                                    {
                                        "name": "email"
                                    },
                                    {
                                        "name": "position"
                                    }
                                ]
                            },
                            "data": [
                                {
                                    "0": "ltinn0@github.com",
                                    "1": "7"
                                },
                                {
                                    "0": "mpreshous1@virginia.edu",
                                    "1": "11"
                                },
                                {
                                    "0": "tlodden2@diigo.com",
                                    "1": "9"
                                },
                                {
                                    "0": "vbollini3@psu.edu",
                                    "1": "10"
                                },
                                {
                                    "0": "nsottell4@xinhuanet.com",
                                    "1": "10"
                                },
                                {
                                    "0": "kbierling5@theatlantic.com",
                                    "1": "11"
                                },
                                {
                                    "0": "vbyass6@timesonline.co.uk",
                                    "1": "8"
                                },
                                {
                                    "0": "fkinker7@cnet.com",
                                    "1": "9"
                                },
                                {
                                    "0": "jquinn8@europa.eu",
                                    "1": "8"
                                },
                                {
                                    "0": "uoxe9@angelfire.com",
                                    "1": "6"
                                }
                            ]
                        },
                        "text/html": [
                            "<table>",
                            "<tr><th>email</th><th>position</th></tr>",
                            "<tr><td>ltinn0@github.com</td><td>7</td></tr>",
                            "<tr><td>mpreshous1@virginia.edu</td><td>11</td></tr>",
                            "<tr><td>tlodden2@diigo.com</td><td>9</td></tr>",
                            "<tr><td>vbollini3@psu.edu</td><td>10</td></tr>",
                            "<tr><td>nsottell4@xinhuanet.com</td><td>10</td></tr>",
                            "<tr><td>kbierling5@theatlantic.com</td><td>11</td></tr>",
                            "<tr><td>vbyass6@timesonline.co.uk</td><td>8</td></tr>",
                            "<tr><td>fkinker7@cnet.com</td><td>9</td></tr>",
                            "<tr><td>jquinn8@europa.eu</td><td>8</td></tr>",
                            "<tr><td>uoxe9@angelfire.com</td><td>6</td></tr>",
                            "</table>"
                        ]
                    }
                }
            ],
            "execution_count": 16
        },
        {
            "cell_type": "code",
            "source": [
                "select email, position('.' in email) from customer"
            ],
            "metadata": {
                "azdata_cell_guid": "4bd29cf5-7818-4f8b-bb29-41cdf7ce046d"
            },
            "outputs": [
                {
                    "output_type": "display_data",
                    "data": {
                        "text/html": "(10 row(s) affected)"
                    },
                    "metadata": {}
                },
                {
                    "output_type": "display_data",
                    "data": {
                        "text/html": "Total execution time: 00:00:00.006"
                    },
                    "metadata": {}
                },
                {
                    "output_type": "execute_result",
                    "metadata": {},
                    "execution_count": 33,
                    "data": {
                        "application/vnd.dataresource+json": {
                            "schema": {
                                "fields": [
                                    {
                                        "name": "email"
                                    },
                                    {
                                        "name": "position"
                                    }
                                ]
                            },
                            "data": [
                                {
                                    "0": "ltinn0@github.com",
                                    "1": "14"
                                },
                                {
                                    "0": "mpreshous1@virginia.edu",
                                    "1": "20"
                                },
                                {
                                    "0": "tlodden2@diigo.com",
                                    "1": "15"
                                },
                                {
                                    "0": "vbollini3@psu.edu",
                                    "1": "14"
                                },
                                {
                                    "0": "nsottell4@xinhuanet.com",
                                    "1": "20"
                                },
                                {
                                    "0": "kbierling5@theatlantic.com",
                                    "1": "23"
                                },
                                {
                                    "0": "vbyass6@timesonline.co.uk",
                                    "1": "20"
                                },
                                {
                                    "0": "fkinker7@cnet.com",
                                    "1": "14"
                                },
                                {
                                    "0": "jquinn8@europa.eu",
                                    "1": "15"
                                },
                                {
                                    "0": "uoxe9@angelfire.com",
                                    "1": "16"
                                }
                            ]
                        },
                        "text/html": [
                            "<table>",
                            "<tr><th>email</th><th>position</th></tr>",
                            "<tr><td>ltinn0@github.com</td><td>14</td></tr>",
                            "<tr><td>mpreshous1@virginia.edu</td><td>20</td></tr>",
                            "<tr><td>tlodden2@diigo.com</td><td>15</td></tr>",
                            "<tr><td>vbollini3@psu.edu</td><td>14</td></tr>",
                            "<tr><td>nsottell4@xinhuanet.com</td><td>20</td></tr>",
                            "<tr><td>kbierling5@theatlantic.com</td><td>23</td></tr>",
                            "<tr><td>vbyass6@timesonline.co.uk</td><td>20</td></tr>",
                            "<tr><td>fkinker7@cnet.com</td><td>14</td></tr>",
                            "<tr><td>jquinn8@europa.eu</td><td>15</td></tr>",
                            "<tr><td>uoxe9@angelfire.com</td><td>16</td></tr>",
                            "</table>"
                        ]
                    }
                }
            ],
            "execution_count": 33
        },
        {
            "cell_type": "code",
            "source": [
                "select email,\r\n",
                "    overlay(email placing '****' from 2 for 4),\r\n",
                "    overlay(email placing repeat('*',  position('@' in email) - 2) from 2 for position('@' in email) - 2),\r\n",
                "    overlay(email placing repeat('*',  position('.' in email)  ) from position('.' in email) + 1 for )\r\n",
                "    from customer"
            ],
            "metadata": {
                "azdata_cell_guid": "a5ad8812-9fdf-4848-85ec-afe30d808b53",
                "tags": []
            },
            "outputs": [
                {
                    "output_type": "error",
                    "evalue": "column \"last\" does not exist",
                    "ename": "",
                    "traceback": []
                },
                {
                    "output_type": "display_data",
                    "data": {
                        "text/html": "Total execution time: 00:00:00.004"
                    },
                    "metadata": {}
                }
            ],
            "execution_count": 32
        },
        {
            "cell_type": "code",
            "source": [
                "select email,\r\n",
                "    overlay(email placing '****' from 2 for 4),\r\n",
                "    overlay(email placing repeat('*',  position('@' in email) - 2) from 2 for position('@' in email) - 2),\r\n",
                "    overlay(email placing repeat('*',  position('@' in email) - 3) from 2 for position('@' in email) - 3),\r\n",
                "    overlay(overlay(email placing repeat('*',  position('@' in email) - 3) from 2 for position('@' in email) - 3) \r\n",
                "        placing repeat('*', position('.' in email) - position('@' in email)) from position('@' in email) + 1 for position('.' in email) - position('@' in email) - 1)\r\n",
                "    from customer"
            ],
            "metadata": {
                "azdata_cell_guid": "ee39ca2b-dc17-4e80-9bf4-5b23bbf5dd30"
            },
            "outputs": [
                {
                    "output_type": "display_data",
                    "data": {
                        "text/html": "(10 row(s) affected)"
                    },
                    "metadata": {}
                },
                {
                    "output_type": "display_data",
                    "data": {
                        "text/html": "Total execution time: 00:00:00.007"
                    },
                    "metadata": {}
                },
                {
                    "output_type": "execute_result",
                    "metadata": {},
                    "execution_count": 38,
                    "data": {
                        "application/vnd.dataresource+json": {
                            "schema": {
                                "fields": [
                                    {
                                        "name": "email"
                                    },
                                    {
                                        "name": "overlay"
                                    },
                                    {
                                        "name": "overlay"
                                    },
                                    {
                                        "name": "overlay"
                                    },
                                    {
                                        "name": "overlay"
                                    }
                                ]
                            },
                            "data": [
                                {
                                    "0": "ltinn0@github.com",
                                    "1": "l****0@github.com",
                                    "2": "l*****@github.com",
                                    "3": "l****0@github.com",
                                    "4": "l****0@*******.com"
                                },
                                {
                                    "0": "mpreshous1@virginia.edu",
                                    "1": "m****hous1@virginia.edu",
                                    "2": "m*********@virginia.edu",
                                    "3": "m********1@virginia.edu",
                                    "4": "m********1@*********.edu"
                                },
                                {
                                    "0": "tlodden2@diigo.com",
                                    "1": "t****en2@diigo.com",
                                    "2": "t*******@diigo.com",
                                    "3": "t******2@diigo.com",
                                    "4": "t******2@******.com"
                                },
                                {
                                    "0": "vbollini3@psu.edu",
                                    "1": "v****ini3@psu.edu",
                                    "2": "v********@psu.edu",
                                    "3": "v*******3@psu.edu",
                                    "4": "v*******3@****.edu"
                                },
                                {
                                    "0": "nsottell4@xinhuanet.com",
                                    "1": "n****ell4@xinhuanet.com",
                                    "2": "n********@xinhuanet.com",
                                    "3": "n*******4@xinhuanet.com",
                                    "4": "n*******4@**********.com"
                                },
                                {
                                    "0": "kbierling5@theatlantic.com",
                                    "1": "k****ling5@theatlantic.com",
                                    "2": "k*********@theatlantic.com",
                                    "3": "k********5@theatlantic.com",
                                    "4": "k********5@************.com"
                                },
                                {
                                    "0": "vbyass6@timesonline.co.uk",
                                    "1": "v****s6@timesonline.co.uk",
                                    "2": "v******@timesonline.co.uk",
                                    "3": "v*****6@timesonline.co.uk",
                                    "4": "v*****6@************.co.uk"
                                },
                                {
                                    "0": "fkinker7@cnet.com",
                                    "1": "f****er7@cnet.com",
                                    "2": "f*******@cnet.com",
                                    "3": "f******7@cnet.com",
                                    "4": "f******7@*****.com"
                                },
                                {
                                    "0": "jquinn8@europa.eu",
                                    "1": "j****n8@europa.eu",
                                    "2": "j******@europa.eu",
                                    "3": "j*****8@europa.eu",
                                    "4": "j*****8@*******.eu"
                                },
                                {
                                    "0": "uoxe9@angelfire.com",
                                    "1": "u****@angelfire.com",
                                    "2": "u****@angelfire.com",
                                    "3": "u***9@angelfire.com",
                                    "4": "u***9@**********.com"
                                }
                            ]
                        },
                        "text/html": [
                            "<table>",
                            "<tr><th>email</th><th>overlay</th><th>overlay</th><th>overlay</th><th>overlay</th></tr>",
                            "<tr><td>ltinn0@github.com</td><td>l****0@github.com</td><td>l*****@github.com</td><td>l****0@github.com</td><td>l****0@*******.com</td></tr>",
                            "<tr><td>mpreshous1@virginia.edu</td><td>m****hous1@virginia.edu</td><td>m*********@virginia.edu</td><td>m********1@virginia.edu</td><td>m********1@*********.edu</td></tr>",
                            "<tr><td>tlodden2@diigo.com</td><td>t****en2@diigo.com</td><td>t*******@diigo.com</td><td>t******2@diigo.com</td><td>t******2@******.com</td></tr>",
                            "<tr><td>vbollini3@psu.edu</td><td>v****ini3@psu.edu</td><td>v********@psu.edu</td><td>v*******3@psu.edu</td><td>v*******3@****.edu</td></tr>",
                            "<tr><td>nsottell4@xinhuanet.com</td><td>n****ell4@xinhuanet.com</td><td>n********@xinhuanet.com</td><td>n*******4@xinhuanet.com</td><td>n*******4@**********.com</td></tr>",
                            "<tr><td>kbierling5@theatlantic.com</td><td>k****ling5@theatlantic.com</td><td>k*********@theatlantic.com</td><td>k********5@theatlantic.com</td><td>k********5@************.com</td></tr>",
                            "<tr><td>vbyass6@timesonline.co.uk</td><td>v****s6@timesonline.co.uk</td><td>v******@timesonline.co.uk</td><td>v*****6@timesonline.co.uk</td><td>v*****6@************.co.uk</td></tr>",
                            "<tr><td>fkinker7@cnet.com</td><td>f****er7@cnet.com</td><td>f*******@cnet.com</td><td>f******7@cnet.com</td><td>f******7@*****.com</td></tr>",
                            "<tr><td>jquinn8@europa.eu</td><td>j****n8@europa.eu</td><td>j******@europa.eu</td><td>j*****8@europa.eu</td><td>j*****8@*******.eu</td></tr>",
                            "<tr><td>uoxe9@angelfire.com</td><td>u****@angelfire.com</td><td>u****@angelfire.com</td><td>u***9@angelfire.com</td><td>u***9@**********.com</td></tr>",
                            "</table>"
                        ]
                    }
                }
            ],
            "execution_count": 38
        }
    ]
}