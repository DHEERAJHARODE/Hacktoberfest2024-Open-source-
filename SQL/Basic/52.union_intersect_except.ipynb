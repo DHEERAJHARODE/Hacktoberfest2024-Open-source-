{
    "metadata": {
        "kernelspec": {
            "name": "SQL",
            "display_name": "SQL",
            "language": "sql"
        },
        "language_info": {
            "name": "sql",
            "version": ""
        }
    },
    "nbformat_minor": 2,
    "nbformat": 4,
    "cells": [
        {
            "cell_type": "markdown",
            "source": [
                ""
            ],
            "metadata": {
                "azdata_cell_guid": "8cf17346-61c8-4079-8f4a-2ed801732504"
            }
        },
        {
            "cell_type": "markdown",
            "source": [
                "- # union \r\n",
                "- # intersect\r\n",
                "- # except\r\n",
                "\r\n",
                ""
            ],
            "metadata": {
                "azdata_cell_guid": "3eec04db-2f07-4593-9f34-862a4ac056ce"
            }
        },
        {
            "cell_type": "code",
            "source": [
                "-- database: saturn\r\n",
                "SELECT * FROM game\r\n",
                "    limit 10;"
            ],
            "metadata": {
                "azdata_cell_guid": "32a696f6-2343-4ec3-8ca9-95dd5fa36578",
                "tags": []
            },
            "outputs": [
                {
                    "output_type": "error",
                    "evalue": "relation \"game\" does not exist",
                    "ename": "",
                    "traceback": []
                },
                {
                    "output_type": "display_data",
                    "data": {
                        "text/html": "Total execution time: 00:00:00.003"
                    },
                    "metadata": {}
                }
            ],
            "execution_count": 1
        },
        {
            "cell_type": "code",
            "source": [
                "select name from game \r\n",
                "\twhere platform = 'XOne' and \r\n",
                "\t\tgenre = 'Fighting';"
            ],
            "metadata": {
                "azdata_cell_guid": "e61df624-9e9b-417f-8456-19407184dd02"
            },
            "outputs": [
                {
                    "output_type": "display_data",
                    "data": {
                        "text/html": "(7 row(s) affected)"
                    },
                    "metadata": {}
                },
                {
                    "output_type": "display_data",
                    "data": {
                        "text/html": "Total execution time: 00:00:00.010"
                    },
                    "metadata": {}
                },
                {
                    "output_type": "execute_result",
                    "execution_count": 5,
                    "data": {
                        "application/vnd.dataresource+json": {
                            "schema": {
                                "fields": [
                                    {
                                        "name": "name"
                                    }
                                ]
                            },
                            "data": [
                                {
                                    "0": "Mortal Kombat X"
                                },
                                {
                                    "0": "Dragon Ball: XenoVerse"
                                },
                                {
                                    "0": "Naruto Shippuden: Ultimate Ninja Storm 4"
                                },
                                {
                                    "0": "Fighter Within"
                                },
                                {
                                    "0": "Dead or Alive 5"
                                },
                                {
                                    "0": "Killer Instinct (2013)"
                                },
                                {
                                    "0": "One Piece: Burning Blood"
                                }
                            ]
                        },
                        "text/html": "<table><tr><th>name</th></tr><tr><td>Mortal Kombat X</td></tr><tr><td>Dragon Ball: XenoVerse</td></tr><tr><td>Naruto Shippuden: Ultimate Ninja Storm 4</td></tr><tr><td>Fighter Within</td></tr><tr><td>Dead or Alive 5</td></tr><tr><td>Killer Instinct (2013)</td></tr><tr><td>One Piece: Burning Blood</td></tr></table>"
                    },
                    "metadata": {}
                }
            ],
            "execution_count": 5
        },
        {
            "cell_type": "code",
            "source": [
                "select name from game \r\n",
                "\twhere platform = 'PS4' and \r\n",
                "\tgenre = 'Fighting'\r\n",
                "order by name;"
            ],
            "metadata": {
                "azdata_cell_guid": "ece778fa-9ec5-45e7-9ad2-7dbd31056c6d"
            },
            "outputs": [
                {
                    "output_type": "display_data",
                    "data": {
                        "text/html": "(18 row(s) affected)"
                    },
                    "metadata": {}
                },
                {
                    "output_type": "display_data",
                    "data": {
                        "text/html": "Total execution time: 00:00:00.009"
                    },
                    "metadata": {}
                },
                {
                    "output_type": "execute_result",
                    "execution_count": 6,
                    "data": {
                        "application/vnd.dataresource+json": {
                            "schema": {
                                "fields": [
                                    {
                                        "name": "name"
                                    }
                                ]
                            },
                            "data": [
                                {
                                    "0": "Blade Arcus from Shining EX"
                                },
                                {
                                    "0": "BlazBlue Central Fiction"
                                },
                                {
                                    "0": "Dead or Alive 5"
                                },
                                {
                                    "0": "Dragon Ball: XenoVerse"
                                },
                                {
                                    "0": "Guilty Gear Xrd -Revelator-"
                                },
                                {
                                    "0": "Guilty Gear Xrd: Sign"
                                },
                                {
                                    "0": "Injustice: Gods Among Us"
                                },
                                {
                                    "0": "J Stars Victory Vs."
                                },
                                {
                                    "0": "JoJo's Bizarre Adventure: Eyes of Heaven"
                                },
                                {
                                    "0": "Koihime Enbu"
                                },
                                {
                                    "0": "Mortal Kombat X"
                                },
                                {
                                    "0": "Naruto Shippuden: Ultimate Ninja Storm 4"
                                },
                                {
                                    "0": "Nitroplus Blasterz: Heroines Infinite Duel"
                                },
                                {
                                    "0": "One Piece: Burning Blood"
                                },
                                {
                                    "0": "Saint Seiya: Soldiers' Soul"
                                },
                                {
                                    "0": "Street Fighter V"
                                },
                                {
                                    "0": "The King of Fighters XIV"
                                },
                                {
                                    "0": "Ultra Street Fighter IV"
                                }
                            ]
                        },
                        "text/html": "<table><tr><th>name</th></tr><tr><td>Blade Arcus from Shining EX</td></tr><tr><td>BlazBlue Central Fiction</td></tr><tr><td>Dead or Alive 5</td></tr><tr><td>Dragon Ball: XenoVerse</td></tr><tr><td>Guilty Gear Xrd -Revelator-</td></tr><tr><td>Guilty Gear Xrd: Sign</td></tr><tr><td>Injustice: Gods Among Us</td></tr><tr><td>J Stars Victory Vs.</td></tr><tr><td>JoJo's Bizarre Adventure: Eyes of Heaven</td></tr><tr><td>Koihime Enbu</td></tr><tr><td>Mortal Kombat X</td></tr><tr><td>Naruto Shippuden: Ultimate Ninja Storm 4</td></tr><tr><td>Nitroplus Blasterz: Heroines Infinite Duel</td></tr><tr><td>One Piece: Burning Blood</td></tr><tr><td>Saint Seiya: Soldiers' Soul</td></tr><tr><td>Street Fighter V</td></tr><tr><td>The King of Fighters XIV</td></tr><tr><td>Ultra Street Fighter IV</td></tr></table>"
                    },
                    "metadata": {}
                }
            ],
            "execution_count": 6
        },
        {
            "cell_type": "code",
            "source": [
                "-- union\r\n",
                "select name from game \r\n",
                "\twhere platform = 'XOne' and \r\n",
                "\t\tgenre = 'Fighting'\r\n",
                "union\r\n",
                "select name from game \r\n",
                "\twhere platform = 'PS4' and \r\n",
                "\tgenre = 'Fighting'\r\n",
                "order by name;"
            ],
            "metadata": {
                "azdata_cell_guid": "a4b96587-b541-4338-8221-7d30e9173bff"
            },
            "outputs": [
                {
                    "output_type": "display_data",
                    "data": {
                        "text/html": "(20 row(s) affected)"
                    },
                    "metadata": {}
                },
                {
                    "output_type": "display_data",
                    "data": {
                        "text/html": "Total execution time: 00:00:00.012"
                    },
                    "metadata": {}
                },
                {
                    "output_type": "execute_result",
                    "execution_count": 7,
                    "data": {
                        "application/vnd.dataresource+json": {
                            "schema": {
                                "fields": [
                                    {
                                        "name": "name"
                                    }
                                ]
                            },
                            "data": [
                                {
                                    "0": "Blade Arcus from Shining EX"
                                },
                                {
                                    "0": "BlazBlue Central Fiction"
                                },
                                {
                                    "0": "Dead or Alive 5"
                                },
                                {
                                    "0": "Dragon Ball: XenoVerse"
                                },
                                {
                                    "0": "Fighter Within"
                                },
                                {
                                    "0": "Guilty Gear Xrd -Revelator-"
                                },
                                {
                                    "0": "Guilty Gear Xrd: Sign"
                                },
                                {
                                    "0": "Injustice: Gods Among Us"
                                },
                                {
                                    "0": "J Stars Victory Vs."
                                },
                                {
                                    "0": "JoJo's Bizarre Adventure: Eyes of Heaven"
                                },
                                {
                                    "0": "Killer Instinct (2013)"
                                },
                                {
                                    "0": "Koihime Enbu"
                                },
                                {
                                    "0": "Mortal Kombat X"
                                },
                                {
                                    "0": "Naruto Shippuden: Ultimate Ninja Storm 4"
                                },
                                {
                                    "0": "Nitroplus Blasterz: Heroines Infinite Duel"
                                },
                                {
                                    "0": "One Piece: Burning Blood"
                                },
                                {
                                    "0": "Saint Seiya: Soldiers' Soul"
                                },
                                {
                                    "0": "Street Fighter V"
                                },
                                {
                                    "0": "The King of Fighters XIV"
                                },
                                {
                                    "0": "Ultra Street Fighter IV"
                                }
                            ]
                        },
                        "text/html": "<table><tr><th>name</th></tr><tr><td>Blade Arcus from Shining EX</td></tr><tr><td>BlazBlue Central Fiction</td></tr><tr><td>Dead or Alive 5</td></tr><tr><td>Dragon Ball: XenoVerse</td></tr><tr><td>Fighter Within</td></tr><tr><td>Guilty Gear Xrd -Revelator-</td></tr><tr><td>Guilty Gear Xrd: Sign</td></tr><tr><td>Injustice: Gods Among Us</td></tr><tr><td>J Stars Victory Vs.</td></tr><tr><td>JoJo's Bizarre Adventure: Eyes of Heaven</td></tr><tr><td>Killer Instinct (2013)</td></tr><tr><td>Koihime Enbu</td></tr><tr><td>Mortal Kombat X</td></tr><tr><td>Naruto Shippuden: Ultimate Ninja Storm 4</td></tr><tr><td>Nitroplus Blasterz: Heroines Infinite Duel</td></tr><tr><td>One Piece: Burning Blood</td></tr><tr><td>Saint Seiya: Soldiers' Soul</td></tr><tr><td>Street Fighter V</td></tr><tr><td>The King of Fighters XIV</td></tr><tr><td>Ultra Street Fighter IV</td></tr></table>"
                    },
                    "metadata": {}
                }
            ],
            "execution_count": 7
        },
        {
            "cell_type": "code",
            "source": [
                "-- intersect\r\n",
                "select name from game \r\n",
                "\twhere platform = 'XOne' and \r\n",
                "\t\tgenre = 'Fighting'\r\n",
                "intersect\r\n",
                "select name from game \r\n",
                "\twhere platform = 'PS4' and \r\n",
                "\tgenre = 'Fighting'\r\n",
                "order by name;"
            ],
            "metadata": {
                "azdata_cell_guid": "7df8ce64-319c-4f92-94bd-e6a88c22ff2d"
            },
            "outputs": [
                {
                    "output_type": "display_data",
                    "data": {
                        "text/html": "(5 row(s) affected)"
                    },
                    "metadata": {}
                },
                {
                    "output_type": "display_data",
                    "data": {
                        "text/html": "Total execution time: 00:00:00.011"
                    },
                    "metadata": {}
                },
                {
                    "output_type": "execute_result",
                    "execution_count": 8,
                    "data": {
                        "application/vnd.dataresource+json": {
                            "schema": {
                                "fields": [
                                    {
                                        "name": "name"
                                    }
                                ]
                            },
                            "data": [
                                {
                                    "0": "Dead or Alive 5"
                                },
                                {
                                    "0": "Dragon Ball: XenoVerse"
                                },
                                {
                                    "0": "Mortal Kombat X"
                                },
                                {
                                    "0": "Naruto Shippuden: Ultimate Ninja Storm 4"
                                },
                                {
                                    "0": "One Piece: Burning Blood"
                                }
                            ]
                        },
                        "text/html": "<table><tr><th>name</th></tr><tr><td>Dead or Alive 5</td></tr><tr><td>Dragon Ball: XenoVerse</td></tr><tr><td>Mortal Kombat X</td></tr><tr><td>Naruto Shippuden: Ultimate Ninja Storm 4</td></tr><tr><td>One Piece: Burning Blood</td></tr></table>"
                    },
                    "metadata": {}
                }
            ],
            "execution_count": 8
        },
        {
            "cell_type": "code",
            "source": [
                "-- except แสดงเกมที่มีอยู่ใน XOne แต่ไม่อยู่ใน PS4\r\n",
                "select name from game \r\n",
                "\twhere platform = 'XOne' and \r\n",
                "\t\tgenre = 'Fighting'\r\n",
                "except\r\n",
                "select name from game \r\n",
                "\twhere platform = 'PS4' and \r\n",
                "\tgenre = 'Fighting'\r\n",
                "order by name;"
            ],
            "metadata": {
                "azdata_cell_guid": "63286230-7970-4f31-a09b-20594d457549"
            },
            "outputs": [
                {
                    "output_type": "display_data",
                    "data": {
                        "text/html": "(2 row(s) affected)"
                    },
                    "metadata": {}
                },
                {
                    "output_type": "display_data",
                    "data": {
                        "text/html": "Total execution time: 00:00:00.011"
                    },
                    "metadata": {}
                },
                {
                    "output_type": "execute_result",
                    "execution_count": 11,
                    "data": {
                        "application/vnd.dataresource+json": {
                            "schema": {
                                "fields": [
                                    {
                                        "name": "name"
                                    }
                                ]
                            },
                            "data": [
                                {
                                    "0": "Fighter Within"
                                },
                                {
                                    "0": "Killer Instinct (2013)"
                                }
                            ]
                        },
                        "text/html": "<table><tr><th>name</th></tr><tr><td>Fighter Within</td></tr><tr><td>Killer Instinct (2013)</td></tr></table>"
                    },
                    "metadata": {}
                }
            ],
            "execution_count": 11
        }
    ]
}