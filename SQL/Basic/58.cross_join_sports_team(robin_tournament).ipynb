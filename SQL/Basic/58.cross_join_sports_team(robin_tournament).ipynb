{
    "metadata": {
        "kernelspec": {
            "name": "SQL",
            "display_name": "SQL",
            "language": "sql"
        },
        "language_info": {
            "name": "sql",
            "version": ""
        }
    },
    "nbformat_minor": 2,
    "nbformat": 4,
    "cells": [
        {
            "cell_type": "markdown",
            "source": [
                "# CROSS JOIN"
            ],
            "metadata": {
                "azdata_cell_guid": "ef0f1e5e-f2bf-4dd3-9f7f-5ff3e9599735"
            }
        },
        {
            "cell_type": "code",
            "source": [
                "drop table if exists team;\r\n",
                "\r\n",
                "create table team(\r\n",
                "    name text,\r\n",
                "    rank int\r\n",
                ");"
            ],
            "metadata": {
                "azdata_cell_guid": "579e63b0-6635-44ed-b838-250bd36633aa"
            },
            "outputs": [
                {
                    "output_type": "display_data",
                    "data": {
                        "text/html": "NOTICE:  table \"team\" does not exist, skipping\n"
                    },
                    "metadata": {}
                },
                {
                    "output_type": "display_data",
                    "data": {
                        "text/html": "Commands completed successfully"
                    },
                    "metadata": {}
                },
                {
                    "output_type": "display_data",
                    "data": {
                        "text/html": "Commands completed successfully"
                    },
                    "metadata": {}
                },
                {
                    "output_type": "display_data",
                    "data": {
                        "text/html": "Total execution time: 00:00:00.371"
                    },
                    "metadata": {}
                }
            ],
            "execution_count": 1
        },
        {
            "cell_type": "code",
            "source": [
                "insert into team values\r\n",
                "    ('tiger', 4),\r\n",
                "    ('lion', 1),\r\n",
                "    ('eagle', 2),\r\n",
                "    ('rhino', 3);"
            ],
            "metadata": {
                "azdata_cell_guid": "f6d5b657-3097-4bba-9522-5768f7164992"
            },
            "outputs": [
                {
                    "output_type": "display_data",
                    "data": {
                        "text/html": "Commands completed successfully"
                    },
                    "metadata": {}
                },
                {
                    "output_type": "display_data",
                    "data": {
                        "text/html": "Total execution time: 00:00:00"
                    },
                    "metadata": {}
                }
            ],
            "execution_count": 2
        },
        {
            "cell_type": "code",
            "source": [
                "select * from team"
            ],
            "metadata": {
                "azdata_cell_guid": "23d8d7f5-6caa-481b-8639-fe398b05083b"
            },
            "outputs": [
                {
                    "output_type": "display_data",
                    "data": {
                        "text/html": "(4 row(s) affected)"
                    },
                    "metadata": {}
                },
                {
                    "output_type": "display_data",
                    "data": {
                        "text/html": "Total execution time: 00:00:00.067"
                    },
                    "metadata": {}
                },
                {
                    "output_type": "execute_result",
                    "execution_count": 3,
                    "data": {
                        "application/vnd.dataresource+json": {
                            "schema": {
                                "fields": [
                                    {
                                        "name": "name"
                                    },
                                    {
                                        "name": "rank"
                                    }
                                ]
                            },
                            "data": [
                                {
                                    "0": "tiger",
                                    "1": "4"
                                },
                                {
                                    "0": "lion",
                                    "1": "1"
                                },
                                {
                                    "0": "eagle",
                                    "1": "2"
                                },
                                {
                                    "0": "rhino",
                                    "1": "3"
                                }
                            ]
                        },
                        "text/html": "<table><tr><th>name</th><th>rank</th></tr><tr><td>tiger</td><td>4</td></tr><tr><td>lion</td><td>1</td></tr><tr><td>eagle</td><td>2</td></tr><tr><td>rhino</td><td>3</td></tr></table>"
                    },
                    "metadata": {}
                }
            ],
            "execution_count": 3
        },
        {
            "cell_type": "code",
            "source": [
                "-- a.__ ขึ้นอยู่กับ from team __ตั้งชื่อ\r\n",
                "select a.name , b.name from team a cross join team b"
            ],
            "metadata": {
                "azdata_cell_guid": "7a07ddb6-0bc9-445f-999a-d41c2be122c7"
            },
            "outputs": [
                {
                    "output_type": "display_data",
                    "data": {
                        "text/html": "(16 row(s) affected)"
                    },
                    "metadata": {}
                },
                {
                    "output_type": "display_data",
                    "data": {
                        "text/html": "Total execution time: 00:00:00.004"
                    },
                    "metadata": {}
                },
                {
                    "output_type": "execute_result",
                    "execution_count": 12,
                    "data": {
                        "application/vnd.dataresource+json": {
                            "schema": {
                                "fields": [
                                    {
                                        "name": "name"
                                    },
                                    {
                                        "name": "name"
                                    }
                                ]
                            },
                            "data": [
                                {
                                    "0": "tiger",
                                    "1": "tiger"
                                },
                                {
                                    "0": "tiger",
                                    "1": "lion"
                                },
                                {
                                    "0": "tiger",
                                    "1": "eagle"
                                },
                                {
                                    "0": "tiger",
                                    "1": "rhino"
                                },
                                {
                                    "0": "lion",
                                    "1": "tiger"
                                },
                                {
                                    "0": "lion",
                                    "1": "lion"
                                },
                                {
                                    "0": "lion",
                                    "1": "eagle"
                                },
                                {
                                    "0": "lion",
                                    "1": "rhino"
                                },
                                {
                                    "0": "eagle",
                                    "1": "tiger"
                                },
                                {
                                    "0": "eagle",
                                    "1": "lion"
                                },
                                {
                                    "0": "eagle",
                                    "1": "eagle"
                                },
                                {
                                    "0": "eagle",
                                    "1": "rhino"
                                },
                                {
                                    "0": "rhino",
                                    "1": "tiger"
                                },
                                {
                                    "0": "rhino",
                                    "1": "lion"
                                },
                                {
                                    "0": "rhino",
                                    "1": "eagle"
                                },
                                {
                                    "0": "rhino",
                                    "1": "rhino"
                                }
                            ]
                        },
                        "text/html": "<table><tr><th>name</th><th>name</th></tr><tr><td>tiger</td><td>tiger</td></tr><tr><td>tiger</td><td>lion</td></tr><tr><td>tiger</td><td>eagle</td></tr><tr><td>tiger</td><td>rhino</td></tr><tr><td>lion</td><td>tiger</td></tr><tr><td>lion</td><td>lion</td></tr><tr><td>lion</td><td>eagle</td></tr><tr><td>lion</td><td>rhino</td></tr><tr><td>eagle</td><td>tiger</td></tr><tr><td>eagle</td><td>lion</td></tr><tr><td>eagle</td><td>eagle</td></tr><tr><td>eagle</td><td>rhino</td></tr><tr><td>rhino</td><td>tiger</td></tr><tr><td>rhino</td><td>lion</td></tr><tr><td>rhino</td><td>eagle</td></tr><tr><td>rhino</td><td>rhino</td></tr></table>"
                    },
                    "metadata": {}
                }
            ],
            "execution_count": 12
        },
        {
            "cell_type": "code",
            "source": [
                "select a.name , b.name from team a cross join team b\r\n",
                "    where a.name != b.name"
            ],
            "metadata": {
                "azdata_cell_guid": "c518ec48-500f-4fde-ad05-ed89b228b868"
            },
            "outputs": [
                {
                    "output_type": "display_data",
                    "data": {
                        "text/html": "(12 row(s) affected)"
                    },
                    "metadata": {}
                },
                {
                    "output_type": "display_data",
                    "data": {
                        "text/html": "Total execution time: 00:00:00.006"
                    },
                    "metadata": {}
                },
                {
                    "output_type": "execute_result",
                    "execution_count": 14,
                    "data": {
                        "application/vnd.dataresource+json": {
                            "schema": {
                                "fields": [
                                    {
                                        "name": "name"
                                    },
                                    {
                                        "name": "name"
                                    }
                                ]
                            },
                            "data": [
                                {
                                    "0": "tiger",
                                    "1": "lion"
                                },
                                {
                                    "0": "tiger",
                                    "1": "eagle"
                                },
                                {
                                    "0": "tiger",
                                    "1": "rhino"
                                },
                                {
                                    "0": "lion",
                                    "1": "tiger"
                                },
                                {
                                    "0": "lion",
                                    "1": "eagle"
                                },
                                {
                                    "0": "lion",
                                    "1": "rhino"
                                },
                                {
                                    "0": "eagle",
                                    "1": "tiger"
                                },
                                {
                                    "0": "eagle",
                                    "1": "lion"
                                },
                                {
                                    "0": "eagle",
                                    "1": "rhino"
                                },
                                {
                                    "0": "rhino",
                                    "1": "tiger"
                                },
                                {
                                    "0": "rhino",
                                    "1": "lion"
                                },
                                {
                                    "0": "rhino",
                                    "1": "eagle"
                                }
                            ]
                        },
                        "text/html": "<table><tr><th>name</th><th>name</th></tr><tr><td>tiger</td><td>lion</td></tr><tr><td>tiger</td><td>eagle</td></tr><tr><td>tiger</td><td>rhino</td></tr><tr><td>lion</td><td>tiger</td></tr><tr><td>lion</td><td>eagle</td></tr><tr><td>lion</td><td>rhino</td></tr><tr><td>eagle</td><td>tiger</td></tr><tr><td>eagle</td><td>lion</td></tr><tr><td>eagle</td><td>rhino</td></tr><tr><td>rhino</td><td>tiger</td></tr><tr><td>rhino</td><td>lion</td></tr><tr><td>rhino</td><td>eagle</td></tr></table>"
                    },
                    "metadata": {}
                }
            ],
            "execution_count": 14
        },
        {
            "cell_type": "code",
            "source": [
                "select a.name , b.name from team a cross join team b\r\n",
                "    where a.name < b.name"
            ],
            "metadata": {
                "azdata_cell_guid": "d399e92a-3bba-4352-8bf0-5dd80f856426"
            },
            "outputs": [
                {
                    "output_type": "display_data",
                    "data": {
                        "text/html": "(6 row(s) affected)"
                    },
                    "metadata": {}
                },
                {
                    "output_type": "display_data",
                    "data": {
                        "text/html": "Total execution time: 00:00:00.077"
                    },
                    "metadata": {}
                },
                {
                    "output_type": "execute_result",
                    "execution_count": 15,
                    "data": {
                        "application/vnd.dataresource+json": {
                            "schema": {
                                "fields": [
                                    {
                                        "name": "name"
                                    },
                                    {
                                        "name": "name"
                                    }
                                ]
                            },
                            "data": [
                                {
                                    "0": "lion",
                                    "1": "tiger"
                                },
                                {
                                    "0": "lion",
                                    "1": "rhino"
                                },
                                {
                                    "0": "eagle",
                                    "1": "tiger"
                                },
                                {
                                    "0": "eagle",
                                    "1": "lion"
                                },
                                {
                                    "0": "eagle",
                                    "1": "rhino"
                                },
                                {
                                    "0": "rhino",
                                    "1": "tiger"
                                }
                            ]
                        },
                        "text/html": "<table><tr><th>name</th><th>name</th></tr><tr><td>lion</td><td>tiger</td></tr><tr><td>lion</td><td>rhino</td></tr><tr><td>eagle</td><td>tiger</td></tr><tr><td>eagle</td><td>lion</td></tr><tr><td>eagle</td><td>rhino</td></tr><tr><td>rhino</td><td>tiger</td></tr></table>"
                    },
                    "metadata": {}
                }
            ],
            "execution_count": 15
        },
        {
            "cell_type": "code",
            "source": [
                "select a.name , b.name from team a, team b\r\n",
                "    where a.name < b.name"
            ],
            "metadata": {
                "azdata_cell_guid": "1cf34ecb-aea2-4b72-b1cb-452c51d61563"
            },
            "outputs": [
                {
                    "output_type": "display_data",
                    "data": {
                        "text/html": "(6 row(s) affected)"
                    },
                    "metadata": {}
                },
                {
                    "output_type": "display_data",
                    "data": {
                        "text/html": "Total execution time: 00:00:00.003"
                    },
                    "metadata": {}
                },
                {
                    "output_type": "execute_result",
                    "execution_count": 22,
                    "data": {
                        "application/vnd.dataresource+json": {
                            "schema": {
                                "fields": [
                                    {
                                        "name": "name"
                                    },
                                    {
                                        "name": "name"
                                    }
                                ]
                            },
                            "data": [
                                {
                                    "0": "lion",
                                    "1": "tiger"
                                },
                                {
                                    "0": "lion",
                                    "1": "rhino"
                                },
                                {
                                    "0": "eagle",
                                    "1": "tiger"
                                },
                                {
                                    "0": "eagle",
                                    "1": "lion"
                                },
                                {
                                    "0": "eagle",
                                    "1": "rhino"
                                },
                                {
                                    "0": "rhino",
                                    "1": "tiger"
                                }
                            ]
                        },
                        "text/html": "<table><tr><th>name</th><th>name</th></tr><tr><td>lion</td><td>tiger</td></tr><tr><td>lion</td><td>rhino</td></tr><tr><td>eagle</td><td>tiger</td></tr><tr><td>eagle</td><td>lion</td></tr><tr><td>eagle</td><td>rhino</td></tr><tr><td>rhino</td><td>tiger</td></tr></table>"
                    },
                    "metadata": {}
                }
            ],
            "execution_count": 22
        },
        {
            "cell_type": "code",
            "source": [
                "select concat(a.name,' (', a.rank,')'),\r\n",
                "    concat(b.name,' (', b.rank,')') \r\n",
                "    from team a, team b\r\n",
                "    where a.name < b.name"
            ],
            "metadata": {
                "azdata_cell_guid": "7e3f46c2-b25e-4521-8b6b-691ddbc706ec"
            },
            "outputs": [
                {
                    "output_type": "display_data",
                    "data": {
                        "text/html": "(6 row(s) affected)"
                    },
                    "metadata": {}
                },
                {
                    "output_type": "display_data",
                    "data": {
                        "text/html": "Total execution time: 00:00:00.002"
                    },
                    "metadata": {}
                },
                {
                    "output_type": "execute_result",
                    "execution_count": 40,
                    "data": {
                        "application/vnd.dataresource+json": {
                            "schema": {
                                "fields": [
                                    {
                                        "name": "concat"
                                    },
                                    {
                                        "name": "concat"
                                    }
                                ]
                            },
                            "data": [
                                {
                                    "0": "lion (1)",
                                    "1": "tiger (4)"
                                },
                                {
                                    "0": "lion (1)",
                                    "1": "rhino (3)"
                                },
                                {
                                    "0": "eagle (2)",
                                    "1": "tiger (4)"
                                },
                                {
                                    "0": "eagle (2)",
                                    "1": "lion (1)"
                                },
                                {
                                    "0": "eagle (2)",
                                    "1": "rhino (3)"
                                },
                                {
                                    "0": "rhino (3)",
                                    "1": "tiger (4)"
                                }
                            ]
                        },
                        "text/html": "<table><tr><th>concat</th><th>concat</th></tr><tr><td>lion (1)</td><td>tiger (4)</td></tr><tr><td>lion (1)</td><td>rhino (3)</td></tr><tr><td>eagle (2)</td><td>tiger (4)</td></tr><tr><td>eagle (2)</td><td>lion (1)</td></tr><tr><td>eagle (2)</td><td>rhino (3)</td></tr><tr><td>rhino (3)</td><td>tiger (4)</td></tr></table>"
                    },
                    "metadata": {}
                }
            ],
            "execution_count": 40
        },
        {
            "cell_type": "code",
            "source": [
                "select concat(c.name,' (', c.rank,')'),\r\n",
                "    concat(b.name,' (', b.rank,')') \r\n",
                "    from team c, team b\r\n",
                "    where c.name < b.name"
            ],
            "metadata": {
                "azdata_cell_guid": "8d53f237-539f-4959-8e61-bb6d2c497f68"
            },
            "outputs": [
                {
                    "output_type": "display_data",
                    "data": {
                        "text/html": "(6 row(s) affected)"
                    },
                    "metadata": {}
                },
                {
                    "output_type": "display_data",
                    "data": {
                        "text/html": "Total execution time: 00:00:00.003"
                    },
                    "metadata": {}
                },
                {
                    "output_type": "execute_result",
                    "execution_count": 42,
                    "data": {
                        "application/vnd.dataresource+json": {
                            "schema": {
                                "fields": [
                                    {
                                        "name": "concat"
                                    },
                                    {
                                        "name": "concat"
                                    }
                                ]
                            },
                            "data": [
                                {
                                    "0": "lion (1)",
                                    "1": "tiger (4)"
                                },
                                {
                                    "0": "lion (1)",
                                    "1": "rhino (3)"
                                },
                                {
                                    "0": "eagle (2)",
                                    "1": "tiger (4)"
                                },
                                {
                                    "0": "eagle (2)",
                                    "1": "lion (1)"
                                },
                                {
                                    "0": "eagle (2)",
                                    "1": "rhino (3)"
                                },
                                {
                                    "0": "rhino (3)",
                                    "1": "tiger (4)"
                                }
                            ]
                        },
                        "text/html": "<table><tr><th>concat</th><th>concat</th></tr><tr><td>lion (1)</td><td>tiger (4)</td></tr><tr><td>lion (1)</td><td>rhino (3)</td></tr><tr><td>eagle (2)</td><td>tiger (4)</td></tr><tr><td>eagle (2)</td><td>lion (1)</td></tr><tr><td>eagle (2)</td><td>rhino (3)</td></tr><tr><td>rhino (3)</td><td>tiger (4)</td></tr></table>"
                    },
                    "metadata": {}
                }
            ],
            "execution_count": 42
        }
    ]
}