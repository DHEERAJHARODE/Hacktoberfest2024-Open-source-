{
    "metadata": {
        "kernelspec": {
            "name": "SQL",
            "display_name": "SQL",
            "language": "sql"
        },
        "language_info": {
            "name": "sql",
            "version": ""
        }
    },
    "nbformat_minor": 2,
    "nbformat": 4,
    "cells": [
        {
            "cell_type": "markdown",
            "source": [
                "# Outer Join (most-followed: Instagram & Twitter)\n",
                "1. https://en.wikipedia.org/wiki/List_of_most-followed_Twitter_accounts\n",
                "1. https://en.wikipedia.org/wiki/List_of_most-followed_Instagram_accounts"
            ],
            "metadata": {
                "azdata_cell_guid": "10c78ad6-d81f-4b9d-a523-fd3cb58fef7b"
            }
        },
        {
            "cell_type": "markdown",
            "source": [
                "## Server: PostgreSQL\n",
                "## Database: saturn\n",
                "## Table: instagram, twitter\n",
                "## Author: Prasert Kanawattanachai\n",
                "## YouTube: https://youtu.be/MZPull_eaSE\n",
                "\n",
                "# Outer join\n",
                "\n",
                "มีอยู่ 2 รูปแบบคือ LEFT OUTER JOIN (หรือ LEFT JOIN) และ RIGHT OUTER JOIN (หรือ RIGHT JOIN) โดยที่คำสั่งในกลุ่มนี้จะเป็นการ Query โดยการจับคู่ข้อมูลจาก 2 ตาราง โดยรักษาข้อมูลในตารางหลักไว้ และคืนค่า NULL ในฟิลด์ที่ไม่สามารถจับคู่ได้หรือหากไม่พบข้อมูลในตารางรอง หรือจะอธิบายอีกแบบว่า เราจะได้ทุก record ออกมาจากตารางหลักนั่นเอง ดังแผนภาพด้านล่าง"
            ],
            "metadata": {
                "azdata_cell_guid": "937c445b-4226-4767-a2ab-f79c89cd9dbf"
            }
        },
        {
            "cell_type": "code",
            "source": [
                "select * from instagram;"
            ],
            "metadata": {
                "azdata_cell_guid": "7df09e79-3bd5-441a-b711-748d83041b46"
            },
            "outputs": [
                {
                    "output_type": "display_data",
                    "data": {
                        "text/html": "(50 row(s) affected)"
                    },
                    "metadata": {}
                },
                {
                    "output_type": "display_data",
                    "data": {
                        "text/html": "Total execution time: 00:00:00.006"
                    },
                    "metadata": {}
                },
                {
                    "output_type": "execute_result",
                    "metadata": {},
                    "execution_count": 15,
                    "data": {
                        "application/vnd.dataresource+json": {
                            "schema": {
                                "fields": [
                                    {
                                        "name": "rank"
                                    },
                                    {
                                        "name": "username"
                                    },
                                    {
                                        "name": "owner"
                                    },
                                    {
                                        "name": "followers_mil"
                                    },
                                    {
                                        "name": "profession"
                                    },
                                    {
                                        "name": "country"
                                    },
                                    {
                                        "name": "as_of"
                                    }
                                ]
                            },
                            "data": [
                                {
                                    "0": "1",
                                    "1": "@instagram",
                                    "2": "Instagram",
                                    "3": "321",
                                    "4": "Social media platform",
                                    "5": "USA",
                                    "6": "2019-12-18"
                                },
                                {
                                    "0": "2",
                                    "1": "@cristiano",
                                    "2": "Cristiano Ronaldo",
                                    "3": "193",
                                    "4": "Footballer",
                                    "5": "POR",
                                    "6": "2019-12-18"
                                },
                                {
                                    "0": "3",
                                    "1": "@arianagrande",
                                    "2": "Ariana Grande",
                                    "3": "168",
                                    "4": "Musician and actress",
                                    "5": "USA",
                                    "6": "2019-12-18"
                                },
                                {
                                    "0": "4",
                                    "1": "@therock",
                                    "2": "Dwayne Johnson",
                                    "3": "164",
                                    "4": "Actor and professional wrestler",
                                    "5": "USA",
                                    "6": "2019-12-18"
                                },
                                {
                                    "0": "5",
                                    "1": "@selenagomez",
                                    "2": "Selena Gomez",
                                    "3": "163",
                                    "4": "Musician and actress",
                                    "5": "USA",
                                    "6": "2019-12-18"
                                },
                                {
                                    "0": "6",
                                    "1": "@kimkardashian",
                                    "2": "Kim Kardashian",
                                    "3": "154",
                                    "4": "Reality TV personality and businesswoman",
                                    "5": "USA",
                                    "6": "2019-12-18"
                                },
                                {
                                    "0": "7",
                                    "1": "@kyliejenner",
                                    "2": "Kylie Jenner",
                                    "3": "153",
                                    "4": "Reality TV personality and businesswoman",
                                    "5": "USA",
                                    "6": "2019-12-18"
                                },
                                {
                                    "0": "8",
                                    "1": "@leomessi",
                                    "2": "Lionel Messi",
                                    "3": "138",
                                    "4": "Footballer",
                                    "5": "ARG",
                                    "6": "2019-12-18"
                                },
                                {
                                    "0": "9",
                                    "1": "@beyonce",
                                    "2": "Beyoncé",
                                    "3": "136",
                                    "4": "Musician",
                                    "5": "USA",
                                    "6": "2019-12-18"
                                },
                                {
                                    "0": "10",
                                    "1": "@neymarjr",
                                    "2": "Neymar",
                                    "3": "129",
                                    "4": "Footballer",
                                    "5": "BRA",
                                    "6": "2019-12-18"
                                },
                                {
                                    "0": "11",
                                    "1": "@natgeo",
                                    "2": "National Geographic",
                                    "3": "128",
                                    "4": "Magazine",
                                    "5": "USA",
                                    "6": "2019-12-18"
                                },
                                {
                                    "0": "12",
                                    "1": "@taylorswift",
                                    "2": "Taylor Swift",
                                    "3": "124",
                                    "4": "Musician",
                                    "5": "USA",
                                    "6": "2019-12-18"
                                },
                                {
                                    "0": "13",
                                    "1": "@justinbieber",
                                    "2": "Justin Bieber",
                                    "3": "122",
                                    "4": "Musician",
                                    "5": "CAN",
                                    "6": "2019-12-18"
                                },
                                {
                                    "0": "14",
                                    "1": "@kendalljenner",
                                    "2": "Kendall Jenner",
                                    "3": "119",
                                    "4": "Reality TV personality and Model",
                                    "5": "USA",
                                    "6": "2019-12-18"
                                },
                                {
                                    "0": "15",
                                    "1": "@nickiminaj",
                                    "2": "Nicki Minaj",
                                    "3": "108",
                                    "4": "Musician",
                                    "5": "TRI",
                                    "6": "2019-12-18"
                                },
                                {
                                    "0": "16",
                                    "1": "@jlo",
                                    "2": "Jennifer Lopez",
                                    "3": "107",
                                    "4": "Musician and actress",
                                    "5": "USA",
                                    "6": "2019-12-18"
                                },
                                {
                                    "0": "17",
                                    "1": "@mileycyrus",
                                    "2": "Miley Cyrus",
                                    "3": "102",
                                    "4": "Musician and actress",
                                    "5": "USA",
                                    "6": "2019-12-18"
                                },
                                {
                                    "0": "18",
                                    "1": "@khloekardashian",
                                    "2": "Khloé Kardashian",
                                    "3": "101",
                                    "4": "Reality TV personality and businesswoman",
                                    "5": "USA",
                                    "6": "2019-12-18"
                                },
                                {
                                    "0": "19",
                                    "1": "@nike",
                                    "2": "Nike",
                                    "3": "96",
                                    "4": "Sportswear multinational",
                                    "5": "USA",
                                    "6": "2019-12-18"
                                },
                                {
                                    "0": "20",
                                    "1": "@katyperry",
                                    "2": "Katy Perry",
                                    "3": "87",
                                    "4": "Musician",
                                    "5": "USA",
                                    "6": "2019-12-18"
                                },
                                {
                                    "0": "21",
                                    "1": "@kourtneykardash",
                                    "2": "Kourtney Kardashian",
                                    "3": "84",
                                    "4": "Reality TV personality",
                                    "5": "USA",
                                    "6": "2019-12-18"
                                },
                                {
                                    "0": "22",
                                    "1": "@kevinhart4real",
                                    "2": "Kevin Hart",
                                    "3": "82",
                                    "4": "Comedian and actor",
                                    "5": "USA",
                                    "6": "2019-12-18"
                                },
                                {
                                    "0": "23",
                                    "1": "@realmadrid",
                                    "2": "Real Madrid CF",
                                    "3": "81",
                                    "4": "Football club",
                                    "5": "ESP",
                                    "6": "2019-12-18"
                                },
                                {
                                    "0": "24",
                                    "1": "@theellenshow",
                                    "2": "Ellen DeGeneres",
                                    "3": "80",
                                    "4": "Comedian",
                                    "5": "USA",
                                    "6": "2019-12-18"
                                },
                                {
                                    "0": "25",
                                    "1": "@fcbarcelona",
                                    "2": "FC Barcelona",
                                    "3": "80",
                                    "4": "Football club",
                                    "5": "ESP",
                                    "6": "2019-12-18"
                                },
                                {
                                    "0": "26",
                                    "1": "@badgalriri",
                                    "2": "Rihanna",
                                    "3": "77",
                                    "4": "Musician",
                                    "5": "BAR",
                                    "6": "2019-12-18"
                                },
                                {
                                    "0": "27",
                                    "1": "@ddlovato",
                                    "2": "Demi Lovato",
                                    "3": "75",
                                    "4": "Musician and actress",
                                    "5": "USA",
                                    "6": "2019-12-18"
                                },
                                {
                                    "0": "28",
                                    "1": "@victoriassecret",
                                    "2": "Victoria's Secret",
                                    "3": "68",
                                    "4": "Lingerie brand",
                                    "5": "USA",
                                    "6": "2019-12-18"
                                },
                                {
                                    "0": "29",
                                    "1": "@zendaya",
                                    "2": "Zendaya",
                                    "3": "64",
                                    "4": "Actress and musician",
                                    "5": "USA",
                                    "6": "2019-12-18"
                                },
                                {
                                    "0": "30",
                                    "1": "@champagnepapi",
                                    "2": "Drake",
                                    "3": "62",
                                    "4": "Musician",
                                    "5": "CAN",
                                    "6": "2019-12-18"
                                },
                                {
                                    "0": "31",
                                    "1": "@shakira",
                                    "2": "Shakira",
                                    "3": "60",
                                    "4": "Musician",
                                    "5": "COL",
                                    "6": "2019-12-18"
                                },
                                {
                                    "0": "32",
                                    "1": "@davidbeckham",
                                    "2": "David Beckham",
                                    "3": "59",
                                    "4": "Footballer",
                                    "5": "UK",
                                    "6": "2019-12-18"
                                },
                                {
                                    "0": "33",
                                    "1": "@vindiesel",
                                    "2": "Vin Diesel",
                                    "3": "59",
                                    "4": "Actor",
                                    "5": "USA",
                                    "6": "2019-12-18"
                                },
                                {
                                    "0": "34",
                                    "1": "@chrisbrownofficial",
                                    "2": "Chris Brown",
                                    "3": "58",
                                    "4": "Musician",
                                    "5": "USA",
                                    "6": "2019-12-18"
                                },
                                {
                                    "0": "35",
                                    "1": "@justintimberlake",
                                    "2": "Justin Timberlake",
                                    "3": "56",
                                    "4": "Musician and actor",
                                    "5": "USA",
                                    "6": "2019-12-18"
                                },
                                {
                                    "0": "36",
                                    "1": "@iamcardib",
                                    "2": "Cardi B",
                                    "3": "55",
                                    "4": "Musician",
                                    "5": "USA",
                                    "6": "2019-12-18"
                                },
                                {
                                    "0": "37",
                                    "1": "@shawnmendes",
                                    "2": "Shawn Mendes",
                                    "3": "54",
                                    "4": "Musician",
                                    "5": "CAN",
                                    "6": "2019-12-18"
                                },
                                {
                                    "0": "38",
                                    "1": "@kingjames",
                                    "2": "LeBron James",
                                    "3": "53",
                                    "4": "Basketball player",
                                    "5": "USA",
                                    "6": "2019-12-18"
                                },
                                {
                                    "0": "39",
                                    "1": "@emmawatson",
                                    "2": "Emma Watson",
                                    "3": "52",
                                    "4": "Actress",
                                    "5": "UK",
                                    "6": "2019-12-18"
                                },
                                {
                                    "0": "40",
                                    "1": "@championsleague",
                                    "2": "UEFA Champions League",
                                    "3": "52",
                                    "4": "Club football competition",
                                    "5": "EUR",
                                    "6": "2019-12-18"
                                },
                                {
                                    "0": "41",
                                    "1": "@nasa",
                                    "2": "NASA",
                                    "3": "51",
                                    "4": "Space agency",
                                    "5": "USA",
                                    "6": "2019-12-18"
                                },
                                {
                                    "0": "42",
                                    "1": "@9gag",
                                    "2": "9GAG",
                                    "3": "51",
                                    "4": "Social media platform",
                                    "5": "HKG",
                                    "6": "2019-12-18"
                                },
                                {
                                    "0": "43",
                                    "1": "@gigihadid",
                                    "2": "Gigi Hadid",
                                    "3": "50",
                                    "4": "Model",
                                    "5": "USA",
                                    "6": "2019-12-18"
                                },
                                {
                                    "0": "44",
                                    "1": "@ronaldinho",
                                    "2": "Ronaldinho",
                                    "3": "50",
                                    "4": "Footballer",
                                    "5": "BRA",
                                    "6": "2019-12-18"
                                },
                                {
                                    "0": "45",
                                    "1": "@maluma",
                                    "2": "Maluma",
                                    "3": "48",
                                    "4": "Musician",
                                    "5": "COL",
                                    "6": "2019-12-18"
                                },
                                {
                                    "0": "46",
                                    "1": "@priyankachopra",
                                    "2": "Priyanka Chopra Jonas",
                                    "3": "47",
                                    "4": "Actress and musician",
                                    "5": "IND",
                                    "6": "2019-12-18"
                                },
                                {
                                    "0": "47",
                                    "1": "@virat.kohli",
                                    "2": "Virat Kohli",
                                    "3": "45",
                                    "4": "Cricketer",
                                    "5": "IND",
                                    "6": "2019-12-18"
                                },
                                {
                                    "0": "48",
                                    "1": "@billieeilish",
                                    "2": "Billie Eilish",
                                    "3": "44",
                                    "4": "Musician",
                                    "5": "USA",
                                    "6": "2019-12-18"
                                },
                                {
                                    "0": "49",
                                    "1": "@camila_cabello",
                                    "2": "Camila Cabello",
                                    "3": "44",
                                    "4": "Musician",
                                    "5": "CUB",
                                    "6": "2019-12-18"
                                },
                                {
                                    "0": "50",
                                    "1": "@jamesrodriguez10",
                                    "2": "James Rodríguez",
                                    "3": "44",
                                    "4": "Footballer",
                                    "5": "COL",
                                    "6": "2019-12-18"
                                }
                            ]
                        },
                        "text/html": [
                            "<table>",
                            "<tr><th>rank</th><th>username</th><th>owner</th><th>followers_mil</th><th>profession</th><th>country</th><th>as_of</th></tr>",
                            "<tr><td>1</td><td>@instagram</td><td>Instagram</td><td>321</td><td>Social media platform</td><td>USA</td><td>2019-12-18</td></tr>",
                            "<tr><td>2</td><td>@cristiano</td><td>Cristiano Ronaldo</td><td>193</td><td>Footballer</td><td>POR</td><td>2019-12-18</td></tr>",
                            "<tr><td>3</td><td>@arianagrande</td><td>Ariana Grande</td><td>168</td><td>Musician and actress</td><td>USA</td><td>2019-12-18</td></tr>",
                            "<tr><td>4</td><td>@therock</td><td>Dwayne Johnson</td><td>164</td><td>Actor and professional wrestler</td><td>USA</td><td>2019-12-18</td></tr>",
                            "<tr><td>5</td><td>@selenagomez</td><td>Selena Gomez</td><td>163</td><td>Musician and actress</td><td>USA</td><td>2019-12-18</td></tr>",
                            "<tr><td>6</td><td>@kimkardashian</td><td>Kim Kardashian</td><td>154</td><td>Reality TV personality and businesswoman</td><td>USA</td><td>2019-12-18</td></tr>",
                            "<tr><td>7</td><td>@kyliejenner</td><td>Kylie Jenner</td><td>153</td><td>Reality TV personality and businesswoman</td><td>USA</td><td>2019-12-18</td></tr>",
                            "<tr><td>8</td><td>@leomessi</td><td>Lionel Messi</td><td>138</td><td>Footballer</td><td>ARG</td><td>2019-12-18</td></tr>",
                            "<tr><td>9</td><td>@beyonce</td><td>Beyoncé</td><td>136</td><td>Musician</td><td>USA</td><td>2019-12-18</td></tr>",
                            "<tr><td>10</td><td>@neymarjr</td><td>Neymar</td><td>129</td><td>Footballer</td><td>BRA</td><td>2019-12-18</td></tr>",
                            "<tr><td>11</td><td>@natgeo</td><td>National Geographic</td><td>128</td><td>Magazine</td><td>USA</td><td>2019-12-18</td></tr>",
                            "<tr><td>12</td><td>@taylorswift</td><td>Taylor Swift</td><td>124</td><td>Musician</td><td>USA</td><td>2019-12-18</td></tr>",
                            "<tr><td>13</td><td>@justinbieber</td><td>Justin Bieber</td><td>122</td><td>Musician</td><td>CAN</td><td>2019-12-18</td></tr>",
                            "<tr><td>14</td><td>@kendalljenner</td><td>Kendall Jenner</td><td>119</td><td>Reality TV personality and Model</td><td>USA</td><td>2019-12-18</td></tr>",
                            "<tr><td>15</td><td>@nickiminaj</td><td>Nicki Minaj</td><td>108</td><td>Musician</td><td>TRI</td><td>2019-12-18</td></tr>",
                            "<tr><td>16</td><td>@jlo</td><td>Jennifer Lopez</td><td>107</td><td>Musician and actress</td><td>USA</td><td>2019-12-18</td></tr>",
                            "<tr><td>17</td><td>@mileycyrus</td><td>Miley Cyrus</td><td>102</td><td>Musician and actress</td><td>USA</td><td>2019-12-18</td></tr>",
                            "<tr><td>18</td><td>@khloekardashian</td><td>Khloé Kardashian</td><td>101</td><td>Reality TV personality and businesswoman</td><td>USA</td><td>2019-12-18</td></tr>",
                            "<tr><td>19</td><td>@nike</td><td>Nike</td><td>96</td><td>Sportswear multinational</td><td>USA</td><td>2019-12-18</td></tr>",
                            "<tr><td>20</td><td>@katyperry</td><td>Katy Perry</td><td>87</td><td>Musician</td><td>USA</td><td>2019-12-18</td></tr>",
                            "<tr><td>21</td><td>@kourtneykardash</td><td>Kourtney Kardashian</td><td>84</td><td>Reality TV personality</td><td>USA</td><td>2019-12-18</td></tr>",
                            "<tr><td>22</td><td>@kevinhart4real</td><td>Kevin Hart</td><td>82</td><td>Comedian and actor</td><td>USA</td><td>2019-12-18</td></tr>",
                            "<tr><td>23</td><td>@realmadrid</td><td>Real Madrid CF</td><td>81</td><td>Football club</td><td>ESP</td><td>2019-12-18</td></tr>",
                            "<tr><td>24</td><td>@theellenshow</td><td>Ellen DeGeneres</td><td>80</td><td>Comedian</td><td>USA</td><td>2019-12-18</td></tr>",
                            "<tr><td>25</td><td>@fcbarcelona</td><td>FC Barcelona</td><td>80</td><td>Football club</td><td>ESP</td><td>2019-12-18</td></tr>",
                            "<tr><td>26</td><td>@badgalriri</td><td>Rihanna</td><td>77</td><td>Musician</td><td>BAR</td><td>2019-12-18</td></tr>",
                            "<tr><td>27</td><td>@ddlovato</td><td>Demi Lovato</td><td>75</td><td>Musician and actress</td><td>USA</td><td>2019-12-18</td></tr>",
                            "<tr><td>28</td><td>@victoriassecret</td><td>Victoria's Secret</td><td>68</td><td>Lingerie brand</td><td>USA</td><td>2019-12-18</td></tr>",
                            "<tr><td>29</td><td>@zendaya</td><td>Zendaya</td><td>64</td><td>Actress and musician</td><td>USA</td><td>2019-12-18</td></tr>",
                            "<tr><td>30</td><td>@champagnepapi</td><td>Drake</td><td>62</td><td>Musician</td><td>CAN</td><td>2019-12-18</td></tr>",
                            "<tr><td>31</td><td>@shakira</td><td>Shakira</td><td>60</td><td>Musician</td><td>COL</td><td>2019-12-18</td></tr>",
                            "<tr><td>32</td><td>@davidbeckham</td><td>David Beckham</td><td>59</td><td>Footballer</td><td>UK</td><td>2019-12-18</td></tr>",
                            "<tr><td>33</td><td>@vindiesel</td><td>Vin Diesel</td><td>59</td><td>Actor</td><td>USA</td><td>2019-12-18</td></tr>",
                            "<tr><td>34</td><td>@chrisbrownofficial</td><td>Chris Brown</td><td>58</td><td>Musician</td><td>USA</td><td>2019-12-18</td></tr>",
                            "<tr><td>35</td><td>@justintimberlake</td><td>Justin Timberlake</td><td>56</td><td>Musician and actor</td><td>USA</td><td>2019-12-18</td></tr>",
                            "<tr><td>36</td><td>@iamcardib</td><td>Cardi B</td><td>55</td><td>Musician</td><td>USA</td><td>2019-12-18</td></tr>",
                            "<tr><td>37</td><td>@shawnmendes</td><td>Shawn Mendes</td><td>54</td><td>Musician</td><td>CAN</td><td>2019-12-18</td></tr>",
                            "<tr><td>38</td><td>@kingjames</td><td>LeBron James</td><td>53</td><td>Basketball player</td><td>USA</td><td>2019-12-18</td></tr>",
                            "<tr><td>39</td><td>@emmawatson</td><td>Emma Watson</td><td>52</td><td>Actress</td><td>UK</td><td>2019-12-18</td></tr>",
                            "<tr><td>40</td><td>@championsleague</td><td>UEFA Champions League</td><td>52</td><td>Club football competition</td><td>EUR</td><td>2019-12-18</td></tr>",
                            "<tr><td>41</td><td>@nasa</td><td>NASA</td><td>51</td><td>Space agency</td><td>USA</td><td>2019-12-18</td></tr>",
                            "<tr><td>42</td><td>@9gag</td><td>9GAG</td><td>51</td><td>Social media platform</td><td>HKG</td><td>2019-12-18</td></tr>",
                            "<tr><td>43</td><td>@gigihadid</td><td>Gigi Hadid</td><td>50</td><td>Model</td><td>USA</td><td>2019-12-18</td></tr>",
                            "<tr><td>44</td><td>@ronaldinho</td><td>Ronaldinho</td><td>50</td><td>Footballer</td><td>BRA</td><td>2019-12-18</td></tr>",
                            "<tr><td>45</td><td>@maluma</td><td>Maluma</td><td>48</td><td>Musician</td><td>COL</td><td>2019-12-18</td></tr>",
                            "<tr><td>46</td><td>@priyankachopra</td><td>Priyanka Chopra Jonas</td><td>47</td><td>Actress and musician</td><td>IND</td><td>2019-12-18</td></tr>",
                            "<tr><td>47</td><td>@virat.kohli</td><td>Virat Kohli</td><td>45</td><td>Cricketer</td><td>IND</td><td>2019-12-18</td></tr>",
                            "<tr><td>48</td><td>@billieeilish</td><td>Billie Eilish</td><td>44</td><td>Musician</td><td>USA</td><td>2019-12-18</td></tr>",
                            "<tr><td>49</td><td>@camila_cabello</td><td>Camila Cabello</td><td>44</td><td>Musician</td><td>CUB</td><td>2019-12-18</td></tr>",
                            "<tr><td>50</td><td>@jamesrodriguez10</td><td>James Rodríguez</td><td>44</td><td>Footballer</td><td>COL</td><td>2019-12-18</td></tr>",
                            "</table>"
                        ]
                    }
                }
            ],
            "execution_count": 15
        },
        {
            "cell_type": "code",
            "source": [
                "select * from twitter;"
            ],
            "metadata": {
                "azdata_cell_guid": "68c0fb44-4a53-4419-8b8d-bbbaf94cc770"
            },
            "outputs": [
                {
                    "output_type": "display_data",
                    "data": {
                        "text/html": "(50 row(s) affected)"
                    },
                    "metadata": {}
                },
                {
                    "output_type": "display_data",
                    "data": {
                        "text/html": "Total execution time: 00:00:00.026"
                    },
                    "metadata": {}
                },
                {
                    "output_type": "execute_result",
                    "metadata": {},
                    "execution_count": 16,
                    "data": {
                        "application/vnd.dataresource+json": {
                            "schema": {
                                "fields": [
                                    {
                                        "name": "rank"
                                    },
                                    {
                                        "name": "account_name"
                                    },
                                    {
                                        "name": "owner"
                                    },
                                    {
                                        "name": "followers_mil"
                                    },
                                    {
                                        "name": "activity"
                                    },
                                    {
                                        "name": "country"
                                    },
                                    {
                                        "name": "as_of"
                                    }
                                ]
                            },
                            "data": [
                                {
                                    "0": "1",
                                    "1": "@BarackObama",
                                    "2": "Barack Obama",
                                    "3": "111",
                                    "4": "Former U.S. president",
                                    "5": "USA",
                                    "6": "2019-12-18"
                                },
                                {
                                    "0": "2",
                                    "1": "@katyperry",
                                    "2": "Katy Perry",
                                    "3": "108",
                                    "4": "Musician",
                                    "5": "USA",
                                    "6": "2019-12-18"
                                },
                                {
                                    "0": "3",
                                    "1": "@justinbieber",
                                    "2": "Justin Bieber",
                                    "3": "107",
                                    "4": "Musician",
                                    "5": "CAN",
                                    "6": "2019-12-18"
                                },
                                {
                                    "0": "4",
                                    "1": "@rihanna",
                                    "2": "Rihanna",
                                    "3": "95",
                                    "4": "Musician and businesswoman",
                                    "5": "BAR",
                                    "6": "2019-12-18"
                                },
                                {
                                    "0": "5",
                                    "1": "@taylorswift13",
                                    "2": "Taylor Swift",
                                    "3": "85",
                                    "4": "Musician",
                                    "5": "USA",
                                    "6": "2019-12-18"
                                },
                                {
                                    "0": "6",
                                    "1": "@Cristiano",
                                    "2": "Cristiano Ronaldo",
                                    "3": "81",
                                    "4": "Footballer",
                                    "5": "POR",
                                    "6": "2019-12-18"
                                },
                                {
                                    "0": "7",
                                    "1": "@ladygaga",
                                    "2": "Lady Gaga",
                                    "3": "80",
                                    "4": "Musician and actress",
                                    "5": "USA",
                                    "6": "2019-12-18"
                                },
                                {
                                    "0": "8",
                                    "1": "@TheEllenShow",
                                    "2": "Ellen DeGeneres",
                                    "3": "79",
                                    "4": "Comedian",
                                    "5": "USA",
                                    "6": "2019-12-18"
                                },
                                {
                                    "0": "9",
                                    "1": "@YouTube",
                                    "2": "YouTube",
                                    "3": "72",
                                    "4": "Online video platform",
                                    "5": "USA",
                                    "6": "2019-12-18"
                                },
                                {
                                    "0": "10",
                                    "1": "@ArianaGrande",
                                    "2": "Ariana Grande",
                                    "3": "68",
                                    "4": "Musician and actress",
                                    "5": "USA",
                                    "6": "2019-12-18"
                                },
                                {
                                    "0": "11",
                                    "1": "@realDonaldTrump",
                                    "2": "Donald Trump",
                                    "3": "68",
                                    "4": "Current U.S. president",
                                    "5": "USA",
                                    "6": "2019-12-18"
                                },
                                {
                                    "0": "12",
                                    "1": "@jtimberlake",
                                    "2": "Justin Timberlake",
                                    "3": "65",
                                    "4": "Musician and actor",
                                    "5": "USA",
                                    "6": "2019-12-18"
                                },
                                {
                                    "0": "13",
                                    "1": "@KimKardashian",
                                    "2": "Kim Kardashian",
                                    "3": "62",
                                    "4": "Television personality and businesswoman",
                                    "5": "USA",
                                    "6": "2019-12-18"
                                },
                                {
                                    "0": "14",
                                    "1": "@selenagomez",
                                    "2": "Selena Gomez",
                                    "3": "59",
                                    "4": "Musician and actress",
                                    "5": "USA",
                                    "6": "2019-12-18"
                                },
                                {
                                    "0": "15",
                                    "1": "@twitter",
                                    "2": "Twitter",
                                    "3": "57",
                                    "4": "Social media platform",
                                    "5": "USA",
                                    "6": "2019-12-18"
                                },
                                {
                                    "0": "16",
                                    "1": "@britneyspears",
                                    "2": "Britney Spears",
                                    "3": "56",
                                    "4": "Musician",
                                    "5": "USA",
                                    "6": "2019-12-18"
                                },
                                {
                                    "0": "17",
                                    "1": "@cnnbrk",
                                    "2": "CNN Breaking News",
                                    "3": "56",
                                    "4": "News channel",
                                    "5": "USA",
                                    "6": "2019-12-18"
                                },
                                {
                                    "0": "18",
                                    "1": "@narendramodi",
                                    "2": "Narendra Modi",
                                    "3": "52",
                                    "4": "Current Prime Minister of India",
                                    "5": "IND",
                                    "6": "2019-12-18"
                                },
                                {
                                    "0": "19",
                                    "1": "@shakira",
                                    "2": "Shakira",
                                    "3": "52",
                                    "4": "Musician",
                                    "5": "COL",
                                    "6": "2019-12-18"
                                },
                                {
                                    "0": "20",
                                    "1": "@jimmyfallon",
                                    "2": "Jimmy Fallon",
                                    "3": "51",
                                    "4": "Comedian",
                                    "5": "USA",
                                    "6": "2019-12-18"
                                },
                                {
                                    "0": "21",
                                    "1": "@BillGates",
                                    "2": "Bill Gates",
                                    "3": "49",
                                    "4": "Businessman and philanthropist",
                                    "5": "USA",
                                    "6": "2019-12-18"
                                },
                                {
                                    "0": "22",
                                    "1": "@neymarjr",
                                    "2": "Neymar",
                                    "3": "45",
                                    "4": "Footballer",
                                    "5": "BRA",
                                    "6": "2019-12-18"
                                },
                                {
                                    "0": "23",
                                    "1": "@nytimes",
                                    "2": "The New York Times",
                                    "3": "45",
                                    "4": "Newspaper",
                                    "5": "USA",
                                    "6": "2019-12-18"
                                },
                                {
                                    "0": "24",
                                    "1": "@MileyCyrus",
                                    "2": "Miley Cyrus",
                                    "3": "45",
                                    "4": "Musician and actress",
                                    "5": "USA",
                                    "6": "2019-12-18"
                                },
                                {
                                    "0": "25",
                                    "1": "@JLo",
                                    "2": "Jennifer Lopez",
                                    "3": "44",
                                    "4": "Musician and actress",
                                    "5": "USA",
                                    "6": "2019-12-18"
                                },
                                {
                                    "0": "26",
                                    "1": "@KingJames",
                                    "2": "LeBron James",
                                    "3": "44",
                                    "4": "Basketball player",
                                    "5": "USA",
                                    "6": "2019-12-18"
                                },
                                {
                                    "0": "27",
                                    "1": "@CNN",
                                    "2": "CNN",
                                    "3": "44",
                                    "4": "News channel",
                                    "5": "USA",
                                    "6": "2019-12-18"
                                },
                                {
                                    "0": "28",
                                    "1": "@BrunoMars",
                                    "2": "Bruno Mars",
                                    "3": "43",
                                    "4": "Musician",
                                    "5": "USA",
                                    "6": "2019-12-18"
                                },
                                {
                                    "0": "29",
                                    "1": "@Oprah",
                                    "2": "Oprah Winfrey",
                                    "3": "43",
                                    "4": "Television personality and businesswoman",
                                    "5": "USA",
                                    "6": "2019-12-18"
                                },
                                {
                                    "0": "30",
                                    "1": "@BBCBreaking",
                                    "2": "BBC Breaking News",
                                    "3": "41",
                                    "4": "News channel",
                                    "5": "UK",
                                    "6": "2019-12-18"
                                },
                                {
                                    "0": "31",
                                    "1": "@NiallOfficial",
                                    "2": "Niall Horan",
                                    "3": "39",
                                    "4": "Musician",
                                    "5": "IRE",
                                    "6": "2019-12-18"
                                },
                                {
                                    "0": "32",
                                    "1": "@iamsrk",
                                    "2": "Shah Rukh Khan",
                                    "3": "39",
                                    "4": "Actor and film producer",
                                    "5": "IND",
                                    "6": "2019-12-18"
                                },
                                {
                                    "0": "33",
                                    "1": "@SrBachchan",
                                    "2": "Amitabh Bachchan",
                                    "3": "39",
                                    "4": "Actor",
                                    "5": "IND",
                                    "6": "2019-12-18"
                                },
                                {
                                    "0": "34",
                                    "1": "@Drake",
                                    "2": "Drake",
                                    "3": "39",
                                    "4": "Rapper",
                                    "5": "CAN",
                                    "6": "2019-12-18"
                                },
                                {
                                    "0": "35",
                                    "1": "@BeingSalmanKhan",
                                    "2": "Salman Khan",
                                    "3": "39",
                                    "4": "Actor and film producer",
                                    "5": "IND",
                                    "6": "2019-12-18"
                                },
                                {
                                    "0": "36",
                                    "1": "@instagram",
                                    "2": "Instagram",
                                    "3": "36",
                                    "4": "Social media platform",
                                    "5": "USA",
                                    "6": "2019-12-18"
                                },
                                {
                                    "0": "37",
                                    "1": "@SportsCenter",
                                    "2": "SportsCenter",
                                    "3": "36",
                                    "4": "Sports channel",
                                    "5": "USA",
                                    "6": "2019-12-18"
                                },
                                {
                                    "0": "38",
                                    "1": "@KevinHart4real",
                                    "2": "Kevin Hart",
                                    "3": "36",
                                    "4": "Comedian and actor",
                                    "5": "USA",
                                    "6": "2019-12-18"
                                },
                                {
                                    "0": "39",
                                    "1": "@wizkhalifa",
                                    "2": "Wiz Khalifa",
                                    "3": "35",
                                    "4": "Rapper",
                                    "5": "USA",
                                    "6": "2019-12-18"
                                },
                                {
                                    "0": "40",
                                    "1": "@espn",
                                    "2": "ESPN",
                                    "3": "35",
                                    "4": "Sports channel",
                                    "5": "USA",
                                    "6": "2019-12-18"
                                },
                                {
                                    "0": "41",
                                    "1": "@LilTunechi",
                                    "2": "Lil Wayne",
                                    "3": "34",
                                    "4": "Rapper",
                                    "5": "USA",
                                    "6": "2019-12-18"
                                },
                                {
                                    "0": "42",
                                    "1": "@NASA",
                                    "2": "NASA",
                                    "3": "34",
                                    "4": "Space agency",
                                    "5": "USA",
                                    "6": "2019-12-18"
                                },
                                {
                                    "0": "43",
                                    "1": "@Harry_Styles",
                                    "2": "Harry Styles",
                                    "3": "34",
                                    "4": "Musician",
                                    "5": "UK",
                                    "6": "2019-12-18"
                                },
                                {
                                    "0": "44",
                                    "1": "@Louis_Tomlinson",
                                    "2": "Louis Tomlinson",
                                    "3": "33",
                                    "4": "Musician",
                                    "5": "UK",
                                    "6": "2019-12-18"
                                },
                                {
                                    "0": "45",
                                    "1": "@realmadrid",
                                    "2": "Real Madrid CF",
                                    "3": "33",
                                    "4": "Football club",
                                    "5": "ESP",
                                    "6": "2019-12-18"
                                },
                                {
                                    "0": "46",
                                    "1": "@akshaykumar",
                                    "2": "Akshay Kumar",
                                    "3": "33",
                                    "4": "Actor",
                                    "5": "IND",
                                    "6": "2019-12-18"
                                },
                                {
                                    "0": "47",
                                    "1": "@LiamPayne",
                                    "2": "Liam Payne",
                                    "3": "33",
                                    "4": "Musician",
                                    "5": "UK",
                                    "6": "2019-12-18"
                                },
                                {
                                    "0": "48",
                                    "1": "@imVkohli",
                                    "2": "Virat Kohli",
                                    "3": "33",
                                    "4": "Cricketer",
                                    "5": "IND",
                                    "6": "2019-12-18"
                                },
                                {
                                    "0": "49",
                                    "1": "@Pink",
                                    "2": "P!nk",
                                    "3": "32",
                                    "4": "Musician",
                                    "5": "USA",
                                    "6": "2019-12-18"
                                },
                                {
                                    "0": "50",
                                    "1": "@FCBarcelona",
                                    "2": "FC Barcelona",
                                    "3": "31",
                                    "4": "Football club",
                                    "5": "ESP",
                                    "6": "2019-12-18"
                                }
                            ]
                        },
                        "text/html": [
                            "<table>",
                            "<tr><th>rank</th><th>account_name</th><th>owner</th><th>followers_mil</th><th>activity</th><th>country</th><th>as_of</th></tr>",
                            "<tr><td>1</td><td>@BarackObama</td><td>Barack Obama</td><td>111</td><td>Former U.S. president</td><td>USA</td><td>2019-12-18</td></tr>",
                            "<tr><td>2</td><td>@katyperry</td><td>Katy Perry</td><td>108</td><td>Musician</td><td>USA</td><td>2019-12-18</td></tr>",
                            "<tr><td>3</td><td>@justinbieber</td><td>Justin Bieber</td><td>107</td><td>Musician</td><td>CAN</td><td>2019-12-18</td></tr>",
                            "<tr><td>4</td><td>@rihanna</td><td>Rihanna</td><td>95</td><td>Musician and businesswoman</td><td>BAR</td><td>2019-12-18</td></tr>",
                            "<tr><td>5</td><td>@taylorswift13</td><td>Taylor Swift</td><td>85</td><td>Musician</td><td>USA</td><td>2019-12-18</td></tr>",
                            "<tr><td>6</td><td>@Cristiano</td><td>Cristiano Ronaldo</td><td>81</td><td>Footballer</td><td>POR</td><td>2019-12-18</td></tr>",
                            "<tr><td>7</td><td>@ladygaga</td><td>Lady Gaga</td><td>80</td><td>Musician and actress</td><td>USA</td><td>2019-12-18</td></tr>",
                            "<tr><td>8</td><td>@TheEllenShow</td><td>Ellen DeGeneres</td><td>79</td><td>Comedian</td><td>USA</td><td>2019-12-18</td></tr>",
                            "<tr><td>9</td><td>@YouTube</td><td>YouTube</td><td>72</td><td>Online video platform</td><td>USA</td><td>2019-12-18</td></tr>",
                            "<tr><td>10</td><td>@ArianaGrande</td><td>Ariana Grande</td><td>68</td><td>Musician and actress</td><td>USA</td><td>2019-12-18</td></tr>",
                            "<tr><td>11</td><td>@realDonaldTrump</td><td>Donald Trump</td><td>68</td><td>Current U.S. president</td><td>USA</td><td>2019-12-18</td></tr>",
                            "<tr><td>12</td><td>@jtimberlake</td><td>Justin Timberlake</td><td>65</td><td>Musician and actor</td><td>USA</td><td>2019-12-18</td></tr>",
                            "<tr><td>13</td><td>@KimKardashian</td><td>Kim Kardashian</td><td>62</td><td>Television personality and businesswoman</td><td>USA</td><td>2019-12-18</td></tr>",
                            "<tr><td>14</td><td>@selenagomez</td><td>Selena Gomez</td><td>59</td><td>Musician and actress</td><td>USA</td><td>2019-12-18</td></tr>",
                            "<tr><td>15</td><td>@twitter</td><td>Twitter</td><td>57</td><td>Social media platform</td><td>USA</td><td>2019-12-18</td></tr>",
                            "<tr><td>16</td><td>@britneyspears</td><td>Britney Spears</td><td>56</td><td>Musician</td><td>USA</td><td>2019-12-18</td></tr>",
                            "<tr><td>17</td><td>@cnnbrk</td><td>CNN Breaking News</td><td>56</td><td>News channel</td><td>USA</td><td>2019-12-18</td></tr>",
                            "<tr><td>18</td><td>@narendramodi</td><td>Narendra Modi</td><td>52</td><td>Current Prime Minister of India</td><td>IND</td><td>2019-12-18</td></tr>",
                            "<tr><td>19</td><td>@shakira</td><td>Shakira</td><td>52</td><td>Musician</td><td>COL</td><td>2019-12-18</td></tr>",
                            "<tr><td>20</td><td>@jimmyfallon</td><td>Jimmy Fallon</td><td>51</td><td>Comedian</td><td>USA</td><td>2019-12-18</td></tr>",
                            "<tr><td>21</td><td>@BillGates</td><td>Bill Gates</td><td>49</td><td>Businessman and philanthropist</td><td>USA</td><td>2019-12-18</td></tr>",
                            "<tr><td>22</td><td>@neymarjr</td><td>Neymar</td><td>45</td><td>Footballer</td><td>BRA</td><td>2019-12-18</td></tr>",
                            "<tr><td>23</td><td>@nytimes</td><td>The New York Times</td><td>45</td><td>Newspaper</td><td>USA</td><td>2019-12-18</td></tr>",
                            "<tr><td>24</td><td>@MileyCyrus</td><td>Miley Cyrus</td><td>45</td><td>Musician and actress</td><td>USA</td><td>2019-12-18</td></tr>",
                            "<tr><td>25</td><td>@JLo</td><td>Jennifer Lopez</td><td>44</td><td>Musician and actress</td><td>USA</td><td>2019-12-18</td></tr>",
                            "<tr><td>26</td><td>@KingJames</td><td>LeBron James</td><td>44</td><td>Basketball player</td><td>USA</td><td>2019-12-18</td></tr>",
                            "<tr><td>27</td><td>@CNN</td><td>CNN</td><td>44</td><td>News channel</td><td>USA</td><td>2019-12-18</td></tr>",
                            "<tr><td>28</td><td>@BrunoMars</td><td>Bruno Mars</td><td>43</td><td>Musician</td><td>USA</td><td>2019-12-18</td></tr>",
                            "<tr><td>29</td><td>@Oprah</td><td>Oprah Winfrey</td><td>43</td><td>Television personality and businesswoman</td><td>USA</td><td>2019-12-18</td></tr>",
                            "<tr><td>30</td><td>@BBCBreaking</td><td>BBC Breaking News</td><td>41</td><td>News channel</td><td>UK</td><td>2019-12-18</td></tr>",
                            "<tr><td>31</td><td>@NiallOfficial</td><td>Niall Horan</td><td>39</td><td>Musician</td><td>IRE</td><td>2019-12-18</td></tr>",
                            "<tr><td>32</td><td>@iamsrk</td><td>Shah Rukh Khan</td><td>39</td><td>Actor and film producer</td><td>IND</td><td>2019-12-18</td></tr>",
                            "<tr><td>33</td><td>@SrBachchan</td><td>Amitabh Bachchan</td><td>39</td><td>Actor</td><td>IND</td><td>2019-12-18</td></tr>",
                            "<tr><td>34</td><td>@Drake</td><td>Drake</td><td>39</td><td>Rapper</td><td>CAN</td><td>2019-12-18</td></tr>",
                            "<tr><td>35</td><td>@BeingSalmanKhan</td><td>Salman Khan</td><td>39</td><td>Actor and film producer</td><td>IND</td><td>2019-12-18</td></tr>",
                            "<tr><td>36</td><td>@instagram</td><td>Instagram</td><td>36</td><td>Social media platform</td><td>USA</td><td>2019-12-18</td></tr>",
                            "<tr><td>37</td><td>@SportsCenter</td><td>SportsCenter</td><td>36</td><td>Sports channel</td><td>USA</td><td>2019-12-18</td></tr>",
                            "<tr><td>38</td><td>@KevinHart4real</td><td>Kevin Hart</td><td>36</td><td>Comedian and actor</td><td>USA</td><td>2019-12-18</td></tr>",
                            "<tr><td>39</td><td>@wizkhalifa</td><td>Wiz Khalifa</td><td>35</td><td>Rapper</td><td>USA</td><td>2019-12-18</td></tr>",
                            "<tr><td>40</td><td>@espn</td><td>ESPN</td><td>35</td><td>Sports channel</td><td>USA</td><td>2019-12-18</td></tr>",
                            "<tr><td>41</td><td>@LilTunechi</td><td>Lil Wayne</td><td>34</td><td>Rapper</td><td>USA</td><td>2019-12-18</td></tr>",
                            "<tr><td>42</td><td>@NASA</td><td>NASA</td><td>34</td><td>Space agency</td><td>USA</td><td>2019-12-18</td></tr>",
                            "<tr><td>43</td><td>@Harry_Styles</td><td>Harry Styles</td><td>34</td><td>Musician</td><td>UK</td><td>2019-12-18</td></tr>",
                            "<tr><td>44</td><td>@Louis_Tomlinson</td><td>Louis Tomlinson</td><td>33</td><td>Musician</td><td>UK</td><td>2019-12-18</td></tr>",
                            "<tr><td>45</td><td>@realmadrid</td><td>Real Madrid CF</td><td>33</td><td>Football club</td><td>ESP</td><td>2019-12-18</td></tr>",
                            "<tr><td>46</td><td>@akshaykumar</td><td>Akshay Kumar</td><td>33</td><td>Actor</td><td>IND</td><td>2019-12-18</td></tr>",
                            "<tr><td>47</td><td>@LiamPayne</td><td>Liam Payne</td><td>33</td><td>Musician</td><td>UK</td><td>2019-12-18</td></tr>",
                            "<tr><td>48</td><td>@imVkohli</td><td>Virat Kohli</td><td>33</td><td>Cricketer</td><td>IND</td><td>2019-12-18</td></tr>",
                            "<tr><td>49</td><td>@Pink</td><td>P!nk</td><td>32</td><td>Musician</td><td>USA</td><td>2019-12-18</td></tr>",
                            "<tr><td>50</td><td>@FCBarcelona</td><td>FC Barcelona</td><td>31</td><td>Football club</td><td>ESP</td><td>2019-12-18</td></tr>",
                            "</table>"
                        ]
                    }
                }
            ],
            "execution_count": 16
        },
        {
            "cell_type": "markdown",
            "source": [
                "## INNER JOIN"
            ],
            "metadata": {
                "azdata_cell_guid": "1e472ce2-09c4-49f9-b421-393515750206"
            }
        },
        {
            "cell_type": "code",
            "source": [
                "select i.owner ig_owner, i.followers_mil ig_followers, t.owner tw_owner, t.followers_mil tw_followers\n",
                "    from instagram i inner join twitter t on i.owner = t.owner"
            ],
            "metadata": {
                "azdata_cell_guid": "162a1936-4ad2-4f61-a6ec-d598d97ae62a"
            },
            "outputs": [
                {
                    "output_type": "display_data",
                    "data": {
                        "text/html": "(22 row(s) affected)"
                    },
                    "metadata": {}
                },
                {
                    "output_type": "display_data",
                    "data": {
                        "text/html": "Total execution time: 00:00:00.002"
                    },
                    "metadata": {}
                },
                {
                    "output_type": "execute_result",
                    "metadata": {},
                    "execution_count": 17,
                    "data": {
                        "application/vnd.dataresource+json": {
                            "schema": {
                                "fields": [
                                    {
                                        "name": "ig_owner"
                                    },
                                    {
                                        "name": "ig_followers"
                                    },
                                    {
                                        "name": "tw_owner"
                                    },
                                    {
                                        "name": "tw_followers"
                                    }
                                ]
                            },
                            "data": [
                                {
                                    "0": "Instagram",
                                    "1": "321",
                                    "2": "Instagram",
                                    "3": "36"
                                },
                                {
                                    "0": "Cristiano Ronaldo",
                                    "1": "193",
                                    "2": "Cristiano Ronaldo",
                                    "3": "81"
                                },
                                {
                                    "0": "Ariana Grande",
                                    "1": "168",
                                    "2": "Ariana Grande",
                                    "3": "68"
                                },
                                {
                                    "0": "Selena Gomez",
                                    "1": "163",
                                    "2": "Selena Gomez",
                                    "3": "59"
                                },
                                {
                                    "0": "Kim Kardashian",
                                    "1": "154",
                                    "2": "Kim Kardashian",
                                    "3": "62"
                                },
                                {
                                    "0": "Neymar",
                                    "1": "129",
                                    "2": "Neymar",
                                    "3": "45"
                                },
                                {
                                    "0": "Taylor Swift",
                                    "1": "124",
                                    "2": "Taylor Swift",
                                    "3": "85"
                                },
                                {
                                    "0": "Justin Bieber",
                                    "1": "122",
                                    "2": "Justin Bieber",
                                    "3": "107"
                                },
                                {
                                    "0": "Jennifer Lopez",
                                    "1": "107",
                                    "2": "Jennifer Lopez",
                                    "3": "44"
                                },
                                {
                                    "0": "Miley Cyrus",
                                    "1": "102",
                                    "2": "Miley Cyrus",
                                    "3": "45"
                                },
                                {
                                    "0": "Katy Perry",
                                    "1": "87",
                                    "2": "Katy Perry",
                                    "3": "108"
                                },
                                {
                                    "0": "Kevin Hart",
                                    "1": "82",
                                    "2": "Kevin Hart",
                                    "3": "36"
                                },
                                {
                                    "0": "Real Madrid CF",
                                    "1": "81",
                                    "2": "Real Madrid CF",
                                    "3": "33"
                                },
                                {
                                    "0": "Ellen DeGeneres",
                                    "1": "80",
                                    "2": "Ellen DeGeneres",
                                    "3": "79"
                                },
                                {
                                    "0": "FC Barcelona",
                                    "1": "80",
                                    "2": "FC Barcelona",
                                    "3": "31"
                                },
                                {
                                    "0": "Rihanna",
                                    "1": "77",
                                    "2": "Rihanna",
                                    "3": "95"
                                },
                                {
                                    "0": "Drake",
                                    "1": "62",
                                    "2": "Drake",
                                    "3": "39"
                                },
                                {
                                    "0": "Shakira",
                                    "1": "60",
                                    "2": "Shakira",
                                    "3": "52"
                                },
                                {
                                    "0": "Justin Timberlake",
                                    "1": "56",
                                    "2": "Justin Timberlake",
                                    "3": "65"
                                },
                                {
                                    "0": "LeBron James",
                                    "1": "53",
                                    "2": "LeBron James",
                                    "3": "44"
                                },
                                {
                                    "0": "NASA",
                                    "1": "51",
                                    "2": "NASA",
                                    "3": "34"
                                },
                                {
                                    "0": "Virat Kohli",
                                    "1": "45",
                                    "2": "Virat Kohli",
                                    "3": "33"
                                }
                            ]
                        },
                        "text/html": [
                            "<table>",
                            "<tr><th>ig_owner</th><th>ig_followers</th><th>tw_owner</th><th>tw_followers</th></tr>",
                            "<tr><td>Instagram</td><td>321</td><td>Instagram</td><td>36</td></tr>",
                            "<tr><td>Cristiano Ronaldo</td><td>193</td><td>Cristiano Ronaldo</td><td>81</td></tr>",
                            "<tr><td>Ariana Grande</td><td>168</td><td>Ariana Grande</td><td>68</td></tr>",
                            "<tr><td>Selena Gomez</td><td>163</td><td>Selena Gomez</td><td>59</td></tr>",
                            "<tr><td>Kim Kardashian</td><td>154</td><td>Kim Kardashian</td><td>62</td></tr>",
                            "<tr><td>Neymar</td><td>129</td><td>Neymar</td><td>45</td></tr>",
                            "<tr><td>Taylor Swift</td><td>124</td><td>Taylor Swift</td><td>85</td></tr>",
                            "<tr><td>Justin Bieber</td><td>122</td><td>Justin Bieber</td><td>107</td></tr>",
                            "<tr><td>Jennifer Lopez</td><td>107</td><td>Jennifer Lopez</td><td>44</td></tr>",
                            "<tr><td>Miley Cyrus</td><td>102</td><td>Miley Cyrus</td><td>45</td></tr>",
                            "<tr><td>Katy Perry</td><td>87</td><td>Katy Perry</td><td>108</td></tr>",
                            "<tr><td>Kevin Hart</td><td>82</td><td>Kevin Hart</td><td>36</td></tr>",
                            "<tr><td>Real Madrid CF</td><td>81</td><td>Real Madrid CF</td><td>33</td></tr>",
                            "<tr><td>Ellen DeGeneres</td><td>80</td><td>Ellen DeGeneres</td><td>79</td></tr>",
                            "<tr><td>FC Barcelona</td><td>80</td><td>FC Barcelona</td><td>31</td></tr>",
                            "<tr><td>Rihanna</td><td>77</td><td>Rihanna</td><td>95</td></tr>",
                            "<tr><td>Drake</td><td>62</td><td>Drake</td><td>39</td></tr>",
                            "<tr><td>Shakira</td><td>60</td><td>Shakira</td><td>52</td></tr>",
                            "<tr><td>Justin Timberlake</td><td>56</td><td>Justin Timberlake</td><td>65</td></tr>",
                            "<tr><td>LeBron James</td><td>53</td><td>LeBron James</td><td>44</td></tr>",
                            "<tr><td>NASA</td><td>51</td><td>NASA</td><td>34</td></tr>",
                            "<tr><td>Virat Kohli</td><td>45</td><td>Virat Kohli</td><td>33</td></tr>",
                            "</table>"
                        ]
                    }
                }
            ],
            "execution_count": 17
        },
        {
            "cell_type": "markdown",
            "source": [
                "## LEFT [OUTER] JOIN"
            ],
            "metadata": {
                "azdata_cell_guid": "26d32a16-0e95-4580-920f-a8de354a9438"
            }
        },
        {
            "cell_type": "code",
            "source": [
                "select i.owner ig_owner, i.followers_mil ig_followers, t.owner tw_owner, t.followers_mil tw_followers\n",
                "    from instagram i left join twitter t on i.owner = t.owner"
            ],
            "metadata": {
                "azdata_cell_guid": "ab4b4359-1f63-4dac-b64a-a8816501469f"
            },
            "outputs": [
                {
                    "output_type": "display_data",
                    "data": {
                        "text/html": "(50 row(s) affected)"
                    },
                    "metadata": {}
                },
                {
                    "output_type": "display_data",
                    "data": {
                        "text/html": "Total execution time: 00:00:00.009"
                    },
                    "metadata": {}
                },
                {
                    "output_type": "execute_result",
                    "metadata": {},
                    "execution_count": 18,
                    "data": {
                        "application/vnd.dataresource+json": {
                            "schema": {
                                "fields": [
                                    {
                                        "name": "ig_owner"
                                    },
                                    {
                                        "name": "ig_followers"
                                    },
                                    {
                                        "name": "tw_owner"
                                    },
                                    {
                                        "name": "tw_followers"
                                    }
                                ]
                            },
                            "data": [
                                {
                                    "0": "Instagram",
                                    "1": "321",
                                    "2": "Instagram",
                                    "3": "36"
                                },
                                {
                                    "0": "Cristiano Ronaldo",
                                    "1": "193",
                                    "2": "Cristiano Ronaldo",
                                    "3": "81"
                                },
                                {
                                    "0": "Ariana Grande",
                                    "1": "168",
                                    "2": "Ariana Grande",
                                    "3": "68"
                                },
                                {
                                    "0": "Dwayne Johnson",
                                    "1": "164",
                                    "2": "NULL",
                                    "3": "NULL"
                                },
                                {
                                    "0": "Selena Gomez",
                                    "1": "163",
                                    "2": "Selena Gomez",
                                    "3": "59"
                                },
                                {
                                    "0": "Kim Kardashian",
                                    "1": "154",
                                    "2": "Kim Kardashian",
                                    "3": "62"
                                },
                                {
                                    "0": "Kylie Jenner",
                                    "1": "153",
                                    "2": "NULL",
                                    "3": "NULL"
                                },
                                {
                                    "0": "Lionel Messi",
                                    "1": "138",
                                    "2": "NULL",
                                    "3": "NULL"
                                },
                                {
                                    "0": "Beyoncé",
                                    "1": "136",
                                    "2": "NULL",
                                    "3": "NULL"
                                },
                                {
                                    "0": "Neymar",
                                    "1": "129",
                                    "2": "Neymar",
                                    "3": "45"
                                },
                                {
                                    "0": "National Geographic",
                                    "1": "128",
                                    "2": "NULL",
                                    "3": "NULL"
                                },
                                {
                                    "0": "Taylor Swift",
                                    "1": "124",
                                    "2": "Taylor Swift",
                                    "3": "85"
                                },
                                {
                                    "0": "Justin Bieber",
                                    "1": "122",
                                    "2": "Justin Bieber",
                                    "3": "107"
                                },
                                {
                                    "0": "Kendall Jenner",
                                    "1": "119",
                                    "2": "NULL",
                                    "3": "NULL"
                                },
                                {
                                    "0": "Nicki Minaj",
                                    "1": "108",
                                    "2": "NULL",
                                    "3": "NULL"
                                },
                                {
                                    "0": "Jennifer Lopez",
                                    "1": "107",
                                    "2": "Jennifer Lopez",
                                    "3": "44"
                                },
                                {
                                    "0": "Miley Cyrus",
                                    "1": "102",
                                    "2": "Miley Cyrus",
                                    "3": "45"
                                },
                                {
                                    "0": "Khloé Kardashian",
                                    "1": "101",
                                    "2": "NULL",
                                    "3": "NULL"
                                },
                                {
                                    "0": "Nike",
                                    "1": "96",
                                    "2": "NULL",
                                    "3": "NULL"
                                },
                                {
                                    "0": "Katy Perry",
                                    "1": "87",
                                    "2": "Katy Perry",
                                    "3": "108"
                                },
                                {
                                    "0": "Kourtney Kardashian",
                                    "1": "84",
                                    "2": "NULL",
                                    "3": "NULL"
                                },
                                {
                                    "0": "Kevin Hart",
                                    "1": "82",
                                    "2": "Kevin Hart",
                                    "3": "36"
                                },
                                {
                                    "0": "Real Madrid CF",
                                    "1": "81",
                                    "2": "Real Madrid CF",
                                    "3": "33"
                                },
                                {
                                    "0": "Ellen DeGeneres",
                                    "1": "80",
                                    "2": "Ellen DeGeneres",
                                    "3": "79"
                                },
                                {
                                    "0": "FC Barcelona",
                                    "1": "80",
                                    "2": "FC Barcelona",
                                    "3": "31"
                                },
                                {
                                    "0": "Rihanna",
                                    "1": "77",
                                    "2": "Rihanna",
                                    "3": "95"
                                },
                                {
                                    "0": "Demi Lovato",
                                    "1": "75",
                                    "2": "NULL",
                                    "3": "NULL"
                                },
                                {
                                    "0": "Victoria's Secret",
                                    "1": "68",
                                    "2": "NULL",
                                    "3": "NULL"
                                },
                                {
                                    "0": "Zendaya",
                                    "1": "64",
                                    "2": "NULL",
                                    "3": "NULL"
                                },
                                {
                                    "0": "Drake",
                                    "1": "62",
                                    "2": "Drake",
                                    "3": "39"
                                },
                                {
                                    "0": "Shakira",
                                    "1": "60",
                                    "2": "Shakira",
                                    "3": "52"
                                },
                                {
                                    "0": "David Beckham",
                                    "1": "59",
                                    "2": "NULL",
                                    "3": "NULL"
                                },
                                {
                                    "0": "Vin Diesel",
                                    "1": "59",
                                    "2": "NULL",
                                    "3": "NULL"
                                },
                                {
                                    "0": "Chris Brown",
                                    "1": "58",
                                    "2": "NULL",
                                    "3": "NULL"
                                },
                                {
                                    "0": "Justin Timberlake",
                                    "1": "56",
                                    "2": "Justin Timberlake",
                                    "3": "65"
                                },
                                {
                                    "0": "Cardi B",
                                    "1": "55",
                                    "2": "NULL",
                                    "3": "NULL"
                                },
                                {
                                    "0": "Shawn Mendes",
                                    "1": "54",
                                    "2": "NULL",
                                    "3": "NULL"
                                },
                                {
                                    "0": "LeBron James",
                                    "1": "53",
                                    "2": "LeBron James",
                                    "3": "44"
                                },
                                {
                                    "0": "Emma Watson",
                                    "1": "52",
                                    "2": "NULL",
                                    "3": "NULL"
                                },
                                {
                                    "0": "UEFA Champions League",
                                    "1": "52",
                                    "2": "NULL",
                                    "3": "NULL"
                                },
                                {
                                    "0": "NASA",
                                    "1": "51",
                                    "2": "NASA",
                                    "3": "34"
                                },
                                {
                                    "0": "9GAG",
                                    "1": "51",
                                    "2": "NULL",
                                    "3": "NULL"
                                },
                                {
                                    "0": "Gigi Hadid",
                                    "1": "50",
                                    "2": "NULL",
                                    "3": "NULL"
                                },
                                {
                                    "0": "Ronaldinho",
                                    "1": "50",
                                    "2": "NULL",
                                    "3": "NULL"
                                },
                                {
                                    "0": "Maluma",
                                    "1": "48",
                                    "2": "NULL",
                                    "3": "NULL"
                                },
                                {
                                    "0": "Priyanka Chopra Jonas",
                                    "1": "47",
                                    "2": "NULL",
                                    "3": "NULL"
                                },
                                {
                                    "0": "Virat Kohli",
                                    "1": "45",
                                    "2": "Virat Kohli",
                                    "3": "33"
                                },
                                {
                                    "0": "Billie Eilish",
                                    "1": "44",
                                    "2": "NULL",
                                    "3": "NULL"
                                },
                                {
                                    "0": "Camila Cabello",
                                    "1": "44",
                                    "2": "NULL",
                                    "3": "NULL"
                                },
                                {
                                    "0": "James Rodríguez",
                                    "1": "44",
                                    "2": "NULL",
                                    "3": "NULL"
                                }
                            ]
                        },
                        "text/html": [
                            "<table>",
                            "<tr><th>ig_owner</th><th>ig_followers</th><th>tw_owner</th><th>tw_followers</th></tr>",
                            "<tr><td>Instagram</td><td>321</td><td>Instagram</td><td>36</td></tr>",
                            "<tr><td>Cristiano Ronaldo</td><td>193</td><td>Cristiano Ronaldo</td><td>81</td></tr>",
                            "<tr><td>Ariana Grande</td><td>168</td><td>Ariana Grande</td><td>68</td></tr>",
                            "<tr><td>Dwayne Johnson</td><td>164</td><td>NULL</td><td>NULL</td></tr>",
                            "<tr><td>Selena Gomez</td><td>163</td><td>Selena Gomez</td><td>59</td></tr>",
                            "<tr><td>Kim Kardashian</td><td>154</td><td>Kim Kardashian</td><td>62</td></tr>",
                            "<tr><td>Kylie Jenner</td><td>153</td><td>NULL</td><td>NULL</td></tr>",
                            "<tr><td>Lionel Messi</td><td>138</td><td>NULL</td><td>NULL</td></tr>",
                            "<tr><td>Beyoncé</td><td>136</td><td>NULL</td><td>NULL</td></tr>",
                            "<tr><td>Neymar</td><td>129</td><td>Neymar</td><td>45</td></tr>",
                            "<tr><td>National Geographic</td><td>128</td><td>NULL</td><td>NULL</td></tr>",
                            "<tr><td>Taylor Swift</td><td>124</td><td>Taylor Swift</td><td>85</td></tr>",
                            "<tr><td>Justin Bieber</td><td>122</td><td>Justin Bieber</td><td>107</td></tr>",
                            "<tr><td>Kendall Jenner</td><td>119</td><td>NULL</td><td>NULL</td></tr>",
                            "<tr><td>Nicki Minaj</td><td>108</td><td>NULL</td><td>NULL</td></tr>",
                            "<tr><td>Jennifer Lopez</td><td>107</td><td>Jennifer Lopez</td><td>44</td></tr>",
                            "<tr><td>Miley Cyrus</td><td>102</td><td>Miley Cyrus</td><td>45</td></tr>",
                            "<tr><td>Khloé Kardashian</td><td>101</td><td>NULL</td><td>NULL</td></tr>",
                            "<tr><td>Nike</td><td>96</td><td>NULL</td><td>NULL</td></tr>",
                            "<tr><td>Katy Perry</td><td>87</td><td>Katy Perry</td><td>108</td></tr>",
                            "<tr><td>Kourtney Kardashian</td><td>84</td><td>NULL</td><td>NULL</td></tr>",
                            "<tr><td>Kevin Hart</td><td>82</td><td>Kevin Hart</td><td>36</td></tr>",
                            "<tr><td>Real Madrid CF</td><td>81</td><td>Real Madrid CF</td><td>33</td></tr>",
                            "<tr><td>Ellen DeGeneres</td><td>80</td><td>Ellen DeGeneres</td><td>79</td></tr>",
                            "<tr><td>FC Barcelona</td><td>80</td><td>FC Barcelona</td><td>31</td></tr>",
                            "<tr><td>Rihanna</td><td>77</td><td>Rihanna</td><td>95</td></tr>",
                            "<tr><td>Demi Lovato</td><td>75</td><td>NULL</td><td>NULL</td></tr>",
                            "<tr><td>Victoria's Secret</td><td>68</td><td>NULL</td><td>NULL</td></tr>",
                            "<tr><td>Zendaya</td><td>64</td><td>NULL</td><td>NULL</td></tr>",
                            "<tr><td>Drake</td><td>62</td><td>Drake</td><td>39</td></tr>",
                            "<tr><td>Shakira</td><td>60</td><td>Shakira</td><td>52</td></tr>",
                            "<tr><td>David Beckham</td><td>59</td><td>NULL</td><td>NULL</td></tr>",
                            "<tr><td>Vin Diesel</td><td>59</td><td>NULL</td><td>NULL</td></tr>",
                            "<tr><td>Chris Brown</td><td>58</td><td>NULL</td><td>NULL</td></tr>",
                            "<tr><td>Justin Timberlake</td><td>56</td><td>Justin Timberlake</td><td>65</td></tr>",
                            "<tr><td>Cardi B</td><td>55</td><td>NULL</td><td>NULL</td></tr>",
                            "<tr><td>Shawn Mendes</td><td>54</td><td>NULL</td><td>NULL</td></tr>",
                            "<tr><td>LeBron James</td><td>53</td><td>LeBron James</td><td>44</td></tr>",
                            "<tr><td>Emma Watson</td><td>52</td><td>NULL</td><td>NULL</td></tr>",
                            "<tr><td>UEFA Champions League</td><td>52</td><td>NULL</td><td>NULL</td></tr>",
                            "<tr><td>NASA</td><td>51</td><td>NASA</td><td>34</td></tr>",
                            "<tr><td>9GAG</td><td>51</td><td>NULL</td><td>NULL</td></tr>",
                            "<tr><td>Gigi Hadid</td><td>50</td><td>NULL</td><td>NULL</td></tr>",
                            "<tr><td>Ronaldinho</td><td>50</td><td>NULL</td><td>NULL</td></tr>",
                            "<tr><td>Maluma</td><td>48</td><td>NULL</td><td>NULL</td></tr>",
                            "<tr><td>Priyanka Chopra Jonas</td><td>47</td><td>NULL</td><td>NULL</td></tr>",
                            "<tr><td>Virat Kohli</td><td>45</td><td>Virat Kohli</td><td>33</td></tr>",
                            "<tr><td>Billie Eilish</td><td>44</td><td>NULL</td><td>NULL</td></tr>",
                            "<tr><td>Camila Cabello</td><td>44</td><td>NULL</td><td>NULL</td></tr>",
                            "<tr><td>James Rodríguez</td><td>44</td><td>NULL</td><td>NULL</td></tr>",
                            "</table>"
                        ]
                    }
                }
            ],
            "execution_count": 18
        },
        {
            "cell_type": "markdown",
            "source": [
                "## RIGHT [OUTER] JOIN"
            ],
            "metadata": {
                "azdata_cell_guid": "c212fd94-5dd0-44f9-86c7-fa37d629e921"
            }
        },
        {
            "cell_type": "code",
            "source": [
                "select i.owner ig_owner, i.followers_mil ig_followers, t.owner tw_owner, t.followers_mil tw_followers\n",
                "    from instagram i right join twitter t on i.owner = t.owner"
            ],
            "metadata": {
                "azdata_cell_guid": "5a0ec14e-6eeb-496c-b450-cc2b835566ed"
            },
            "outputs": [
                {
                    "output_type": "display_data",
                    "data": {
                        "text/html": "(50 row(s) affected)"
                    },
                    "metadata": {}
                },
                {
                    "output_type": "display_data",
                    "data": {
                        "text/html": "Total execution time: 00:00:00.010"
                    },
                    "metadata": {}
                },
                {
                    "output_type": "execute_result",
                    "metadata": {},
                    "execution_count": 19,
                    "data": {
                        "application/vnd.dataresource+json": {
                            "schema": {
                                "fields": [
                                    {
                                        "name": "ig_owner"
                                    },
                                    {
                                        "name": "ig_followers"
                                    },
                                    {
                                        "name": "tw_owner"
                                    },
                                    {
                                        "name": "tw_followers"
                                    }
                                ]
                            },
                            "data": [
                                {
                                    "0": "NULL",
                                    "1": "NULL",
                                    "2": "Barack Obama",
                                    "3": "111"
                                },
                                {
                                    "0": "Katy Perry",
                                    "1": "87",
                                    "2": "Katy Perry",
                                    "3": "108"
                                },
                                {
                                    "0": "Justin Bieber",
                                    "1": "122",
                                    "2": "Justin Bieber",
                                    "3": "107"
                                },
                                {
                                    "0": "Rihanna",
                                    "1": "77",
                                    "2": "Rihanna",
                                    "3": "95"
                                },
                                {
                                    "0": "Taylor Swift",
                                    "1": "124",
                                    "2": "Taylor Swift",
                                    "3": "85"
                                },
                                {
                                    "0": "Cristiano Ronaldo",
                                    "1": "193",
                                    "2": "Cristiano Ronaldo",
                                    "3": "81"
                                },
                                {
                                    "0": "NULL",
                                    "1": "NULL",
                                    "2": "Lady Gaga",
                                    "3": "80"
                                },
                                {
                                    "0": "Ellen DeGeneres",
                                    "1": "80",
                                    "2": "Ellen DeGeneres",
                                    "3": "79"
                                },
                                {
                                    "0": "NULL",
                                    "1": "NULL",
                                    "2": "YouTube",
                                    "3": "72"
                                },
                                {
                                    "0": "Ariana Grande",
                                    "1": "168",
                                    "2": "Ariana Grande",
                                    "3": "68"
                                },
                                {
                                    "0": "NULL",
                                    "1": "NULL",
                                    "2": "Donald Trump",
                                    "3": "68"
                                },
                                {
                                    "0": "Justin Timberlake",
                                    "1": "56",
                                    "2": "Justin Timberlake",
                                    "3": "65"
                                },
                                {
                                    "0": "Kim Kardashian",
                                    "1": "154",
                                    "2": "Kim Kardashian",
                                    "3": "62"
                                },
                                {
                                    "0": "Selena Gomez",
                                    "1": "163",
                                    "2": "Selena Gomez",
                                    "3": "59"
                                },
                                {
                                    "0": "NULL",
                                    "1": "NULL",
                                    "2": "Twitter",
                                    "3": "57"
                                },
                                {
                                    "0": "NULL",
                                    "1": "NULL",
                                    "2": "Britney Spears",
                                    "3": "56"
                                },
                                {
                                    "0": "NULL",
                                    "1": "NULL",
                                    "2": "CNN Breaking News",
                                    "3": "56"
                                },
                                {
                                    "0": "NULL",
                                    "1": "NULL",
                                    "2": "Narendra Modi",
                                    "3": "52"
                                },
                                {
                                    "0": "Shakira",
                                    "1": "60",
                                    "2": "Shakira",
                                    "3": "52"
                                },
                                {
                                    "0": "NULL",
                                    "1": "NULL",
                                    "2": "Jimmy Fallon",
                                    "3": "51"
                                },
                                {
                                    "0": "NULL",
                                    "1": "NULL",
                                    "2": "Bill Gates",
                                    "3": "49"
                                },
                                {
                                    "0": "Neymar",
                                    "1": "129",
                                    "2": "Neymar",
                                    "3": "45"
                                },
                                {
                                    "0": "NULL",
                                    "1": "NULL",
                                    "2": "The New York Times",
                                    "3": "45"
                                },
                                {
                                    "0": "Miley Cyrus",
                                    "1": "102",
                                    "2": "Miley Cyrus",
                                    "3": "45"
                                },
                                {
                                    "0": "Jennifer Lopez",
                                    "1": "107",
                                    "2": "Jennifer Lopez",
                                    "3": "44"
                                },
                                {
                                    "0": "LeBron James",
                                    "1": "53",
                                    "2": "LeBron James",
                                    "3": "44"
                                },
                                {
                                    "0": "NULL",
                                    "1": "NULL",
                                    "2": "CNN",
                                    "3": "44"
                                },
                                {
                                    "0": "NULL",
                                    "1": "NULL",
                                    "2": "Bruno Mars",
                                    "3": "43"
                                },
                                {
                                    "0": "NULL",
                                    "1": "NULL",
                                    "2": "Oprah Winfrey",
                                    "3": "43"
                                },
                                {
                                    "0": "NULL",
                                    "1": "NULL",
                                    "2": "BBC Breaking News",
                                    "3": "41"
                                },
                                {
                                    "0": "NULL",
                                    "1": "NULL",
                                    "2": "Niall Horan",
                                    "3": "39"
                                },
                                {
                                    "0": "NULL",
                                    "1": "NULL",
                                    "2": "Shah Rukh Khan",
                                    "3": "39"
                                },
                                {
                                    "0": "NULL",
                                    "1": "NULL",
                                    "2": "Amitabh Bachchan",
                                    "3": "39"
                                },
                                {
                                    "0": "Drake",
                                    "1": "62",
                                    "2": "Drake",
                                    "3": "39"
                                },
                                {
                                    "0": "NULL",
                                    "1": "NULL",
                                    "2": "Salman Khan",
                                    "3": "39"
                                },
                                {
                                    "0": "Instagram",
                                    "1": "321",
                                    "2": "Instagram",
                                    "3": "36"
                                },
                                {
                                    "0": "NULL",
                                    "1": "NULL",
                                    "2": "SportsCenter",
                                    "3": "36"
                                },
                                {
                                    "0": "Kevin Hart",
                                    "1": "82",
                                    "2": "Kevin Hart",
                                    "3": "36"
                                },
                                {
                                    "0": "NULL",
                                    "1": "NULL",
                                    "2": "Wiz Khalifa",
                                    "3": "35"
                                },
                                {
                                    "0": "NULL",
                                    "1": "NULL",
                                    "2": "ESPN",
                                    "3": "35"
                                },
                                {
                                    "0": "NULL",
                                    "1": "NULL",
                                    "2": "Lil Wayne",
                                    "3": "34"
                                },
                                {
                                    "0": "NASA",
                                    "1": "51",
                                    "2": "NASA",
                                    "3": "34"
                                },
                                {
                                    "0": "NULL",
                                    "1": "NULL",
                                    "2": "Harry Styles",
                                    "3": "34"
                                },
                                {
                                    "0": "NULL",
                                    "1": "NULL",
                                    "2": "Louis Tomlinson",
                                    "3": "33"
                                },
                                {
                                    "0": "Real Madrid CF",
                                    "1": "81",
                                    "2": "Real Madrid CF",
                                    "3": "33"
                                },
                                {
                                    "0": "NULL",
                                    "1": "NULL",
                                    "2": "Akshay Kumar",
                                    "3": "33"
                                },
                                {
                                    "0": "NULL",
                                    "1": "NULL",
                                    "2": "Liam Payne",
                                    "3": "33"
                                },
                                {
                                    "0": "Virat Kohli",
                                    "1": "45",
                                    "2": "Virat Kohli",
                                    "3": "33"
                                },
                                {
                                    "0": "NULL",
                                    "1": "NULL",
                                    "2": "P!nk",
                                    "3": "32"
                                },
                                {
                                    "0": "FC Barcelona",
                                    "1": "80",
                                    "2": "FC Barcelona",
                                    "3": "31"
                                }
                            ]
                        },
                        "text/html": [
                            "<table>",
                            "<tr><th>ig_owner</th><th>ig_followers</th><th>tw_owner</th><th>tw_followers</th></tr>",
                            "<tr><td>NULL</td><td>NULL</td><td>Barack Obama</td><td>111</td></tr>",
                            "<tr><td>Katy Perry</td><td>87</td><td>Katy Perry</td><td>108</td></tr>",
                            "<tr><td>Justin Bieber</td><td>122</td><td>Justin Bieber</td><td>107</td></tr>",
                            "<tr><td>Rihanna</td><td>77</td><td>Rihanna</td><td>95</td></tr>",
                            "<tr><td>Taylor Swift</td><td>124</td><td>Taylor Swift</td><td>85</td></tr>",
                            "<tr><td>Cristiano Ronaldo</td><td>193</td><td>Cristiano Ronaldo</td><td>81</td></tr>",
                            "<tr><td>NULL</td><td>NULL</td><td>Lady Gaga</td><td>80</td></tr>",
                            "<tr><td>Ellen DeGeneres</td><td>80</td><td>Ellen DeGeneres</td><td>79</td></tr>",
                            "<tr><td>NULL</td><td>NULL</td><td>YouTube</td><td>72</td></tr>",
                            "<tr><td>Ariana Grande</td><td>168</td><td>Ariana Grande</td><td>68</td></tr>",
                            "<tr><td>NULL</td><td>NULL</td><td>Donald Trump</td><td>68</td></tr>",
                            "<tr><td>Justin Timberlake</td><td>56</td><td>Justin Timberlake</td><td>65</td></tr>",
                            "<tr><td>Kim Kardashian</td><td>154</td><td>Kim Kardashian</td><td>62</td></tr>",
                            "<tr><td>Selena Gomez</td><td>163</td><td>Selena Gomez</td><td>59</td></tr>",
                            "<tr><td>NULL</td><td>NULL</td><td>Twitter</td><td>57</td></tr>",
                            "<tr><td>NULL</td><td>NULL</td><td>Britney Spears</td><td>56</td></tr>",
                            "<tr><td>NULL</td><td>NULL</td><td>CNN Breaking News</td><td>56</td></tr>",
                            "<tr><td>NULL</td><td>NULL</td><td>Narendra Modi</td><td>52</td></tr>",
                            "<tr><td>Shakira</td><td>60</td><td>Shakira</td><td>52</td></tr>",
                            "<tr><td>NULL</td><td>NULL</td><td>Jimmy Fallon</td><td>51</td></tr>",
                            "<tr><td>NULL</td><td>NULL</td><td>Bill Gates</td><td>49</td></tr>",
                            "<tr><td>Neymar</td><td>129</td><td>Neymar</td><td>45</td></tr>",
                            "<tr><td>NULL</td><td>NULL</td><td>The New York Times</td><td>45</td></tr>",
                            "<tr><td>Miley Cyrus</td><td>102</td><td>Miley Cyrus</td><td>45</td></tr>",
                            "<tr><td>Jennifer Lopez</td><td>107</td><td>Jennifer Lopez</td><td>44</td></tr>",
                            "<tr><td>LeBron James</td><td>53</td><td>LeBron James</td><td>44</td></tr>",
                            "<tr><td>NULL</td><td>NULL</td><td>CNN</td><td>44</td></tr>",
                            "<tr><td>NULL</td><td>NULL</td><td>Bruno Mars</td><td>43</td></tr>",
                            "<tr><td>NULL</td><td>NULL</td><td>Oprah Winfrey</td><td>43</td></tr>",
                            "<tr><td>NULL</td><td>NULL</td><td>BBC Breaking News</td><td>41</td></tr>",
                            "<tr><td>NULL</td><td>NULL</td><td>Niall Horan</td><td>39</td></tr>",
                            "<tr><td>NULL</td><td>NULL</td><td>Shah Rukh Khan</td><td>39</td></tr>",
                            "<tr><td>NULL</td><td>NULL</td><td>Amitabh Bachchan</td><td>39</td></tr>",
                            "<tr><td>Drake</td><td>62</td><td>Drake</td><td>39</td></tr>",
                            "<tr><td>NULL</td><td>NULL</td><td>Salman Khan</td><td>39</td></tr>",
                            "<tr><td>Instagram</td><td>321</td><td>Instagram</td><td>36</td></tr>",
                            "<tr><td>NULL</td><td>NULL</td><td>SportsCenter</td><td>36</td></tr>",
                            "<tr><td>Kevin Hart</td><td>82</td><td>Kevin Hart</td><td>36</td></tr>",
                            "<tr><td>NULL</td><td>NULL</td><td>Wiz Khalifa</td><td>35</td></tr>",
                            "<tr><td>NULL</td><td>NULL</td><td>ESPN</td><td>35</td></tr>",
                            "<tr><td>NULL</td><td>NULL</td><td>Lil Wayne</td><td>34</td></tr>",
                            "<tr><td>NASA</td><td>51</td><td>NASA</td><td>34</td></tr>",
                            "<tr><td>NULL</td><td>NULL</td><td>Harry Styles</td><td>34</td></tr>",
                            "<tr><td>NULL</td><td>NULL</td><td>Louis Tomlinson</td><td>33</td></tr>",
                            "<tr><td>Real Madrid CF</td><td>81</td><td>Real Madrid CF</td><td>33</td></tr>",
                            "<tr><td>NULL</td><td>NULL</td><td>Akshay Kumar</td><td>33</td></tr>",
                            "<tr><td>NULL</td><td>NULL</td><td>Liam Payne</td><td>33</td></tr>",
                            "<tr><td>Virat Kohli</td><td>45</td><td>Virat Kohli</td><td>33</td></tr>",
                            "<tr><td>NULL</td><td>NULL</td><td>P!nk</td><td>32</td></tr>",
                            "<tr><td>FC Barcelona</td><td>80</td><td>FC Barcelona</td><td>31</td></tr>",
                            "</table>"
                        ]
                    }
                }
            ],
            "execution_count": 19
        },
        {
            "cell_type": "code",
            "source": [
                "select i.owner ig_owner, i.followers_mil ig_followers, t.owner tw_owner, t.followers_mil tw_followers\n",
                "    from twitter t right join instagram i on i.owner = t.owner"
            ],
            "metadata": {
                "azdata_cell_guid": "fe3bf122-e973-4eb6-b991-4b29b33cd281"
            },
            "outputs": [
                {
                    "output_type": "display_data",
                    "data": {
                        "text/html": "(50 row(s) affected)"
                    },
                    "metadata": {}
                },
                {
                    "output_type": "display_data",
                    "data": {
                        "text/html": "Total execution time: 00:00:00.021"
                    },
                    "metadata": {}
                },
                {
                    "output_type": "execute_result",
                    "metadata": {},
                    "execution_count": 20,
                    "data": {
                        "application/vnd.dataresource+json": {
                            "schema": {
                                "fields": [
                                    {
                                        "name": "ig_owner"
                                    },
                                    {
                                        "name": "ig_followers"
                                    },
                                    {
                                        "name": "tw_owner"
                                    },
                                    {
                                        "name": "tw_followers"
                                    }
                                ]
                            },
                            "data": [
                                {
                                    "0": "Instagram",
                                    "1": "321",
                                    "2": "Instagram",
                                    "3": "36"
                                },
                                {
                                    "0": "Cristiano Ronaldo",
                                    "1": "193",
                                    "2": "Cristiano Ronaldo",
                                    "3": "81"
                                },
                                {
                                    "0": "Ariana Grande",
                                    "1": "168",
                                    "2": "Ariana Grande",
                                    "3": "68"
                                },
                                {
                                    "0": "Dwayne Johnson",
                                    "1": "164",
                                    "2": "NULL",
                                    "3": "NULL"
                                },
                                {
                                    "0": "Selena Gomez",
                                    "1": "163",
                                    "2": "Selena Gomez",
                                    "3": "59"
                                },
                                {
                                    "0": "Kim Kardashian",
                                    "1": "154",
                                    "2": "Kim Kardashian",
                                    "3": "62"
                                },
                                {
                                    "0": "Kylie Jenner",
                                    "1": "153",
                                    "2": "NULL",
                                    "3": "NULL"
                                },
                                {
                                    "0": "Lionel Messi",
                                    "1": "138",
                                    "2": "NULL",
                                    "3": "NULL"
                                },
                                {
                                    "0": "Beyoncé",
                                    "1": "136",
                                    "2": "NULL",
                                    "3": "NULL"
                                },
                                {
                                    "0": "Neymar",
                                    "1": "129",
                                    "2": "Neymar",
                                    "3": "45"
                                },
                                {
                                    "0": "National Geographic",
                                    "1": "128",
                                    "2": "NULL",
                                    "3": "NULL"
                                },
                                {
                                    "0": "Taylor Swift",
                                    "1": "124",
                                    "2": "Taylor Swift",
                                    "3": "85"
                                },
                                {
                                    "0": "Justin Bieber",
                                    "1": "122",
                                    "2": "Justin Bieber",
                                    "3": "107"
                                },
                                {
                                    "0": "Kendall Jenner",
                                    "1": "119",
                                    "2": "NULL",
                                    "3": "NULL"
                                },
                                {
                                    "0": "Nicki Minaj",
                                    "1": "108",
                                    "2": "NULL",
                                    "3": "NULL"
                                },
                                {
                                    "0": "Jennifer Lopez",
                                    "1": "107",
                                    "2": "Jennifer Lopez",
                                    "3": "44"
                                },
                                {
                                    "0": "Miley Cyrus",
                                    "1": "102",
                                    "2": "Miley Cyrus",
                                    "3": "45"
                                },
                                {
                                    "0": "Khloé Kardashian",
                                    "1": "101",
                                    "2": "NULL",
                                    "3": "NULL"
                                },
                                {
                                    "0": "Nike",
                                    "1": "96",
                                    "2": "NULL",
                                    "3": "NULL"
                                },
                                {
                                    "0": "Katy Perry",
                                    "1": "87",
                                    "2": "Katy Perry",
                                    "3": "108"
                                },
                                {
                                    "0": "Kourtney Kardashian",
                                    "1": "84",
                                    "2": "NULL",
                                    "3": "NULL"
                                },
                                {
                                    "0": "Kevin Hart",
                                    "1": "82",
                                    "2": "Kevin Hart",
                                    "3": "36"
                                },
                                {
                                    "0": "Real Madrid CF",
                                    "1": "81",
                                    "2": "Real Madrid CF",
                                    "3": "33"
                                },
                                {
                                    "0": "Ellen DeGeneres",
                                    "1": "80",
                                    "2": "Ellen DeGeneres",
                                    "3": "79"
                                },
                                {
                                    "0": "FC Barcelona",
                                    "1": "80",
                                    "2": "FC Barcelona",
                                    "3": "31"
                                },
                                {
                                    "0": "Rihanna",
                                    "1": "77",
                                    "2": "Rihanna",
                                    "3": "95"
                                },
                                {
                                    "0": "Demi Lovato",
                                    "1": "75",
                                    "2": "NULL",
                                    "3": "NULL"
                                },
                                {
                                    "0": "Victoria's Secret",
                                    "1": "68",
                                    "2": "NULL",
                                    "3": "NULL"
                                },
                                {
                                    "0": "Zendaya",
                                    "1": "64",
                                    "2": "NULL",
                                    "3": "NULL"
                                },
                                {
                                    "0": "Drake",
                                    "1": "62",
                                    "2": "Drake",
                                    "3": "39"
                                },
                                {
                                    "0": "Shakira",
                                    "1": "60",
                                    "2": "Shakira",
                                    "3": "52"
                                },
                                {
                                    "0": "David Beckham",
                                    "1": "59",
                                    "2": "NULL",
                                    "3": "NULL"
                                },
                                {
                                    "0": "Vin Diesel",
                                    "1": "59",
                                    "2": "NULL",
                                    "3": "NULL"
                                },
                                {
                                    "0": "Chris Brown",
                                    "1": "58",
                                    "2": "NULL",
                                    "3": "NULL"
                                },
                                {
                                    "0": "Justin Timberlake",
                                    "1": "56",
                                    "2": "Justin Timberlake",
                                    "3": "65"
                                },
                                {
                                    "0": "Cardi B",
                                    "1": "55",
                                    "2": "NULL",
                                    "3": "NULL"
                                },
                                {
                                    "0": "Shawn Mendes",
                                    "1": "54",
                                    "2": "NULL",
                                    "3": "NULL"
                                },
                                {
                                    "0": "LeBron James",
                                    "1": "53",
                                    "2": "LeBron James",
                                    "3": "44"
                                },
                                {
                                    "0": "Emma Watson",
                                    "1": "52",
                                    "2": "NULL",
                                    "3": "NULL"
                                },
                                {
                                    "0": "UEFA Champions League",
                                    "1": "52",
                                    "2": "NULL",
                                    "3": "NULL"
                                },
                                {
                                    "0": "NASA",
                                    "1": "51",
                                    "2": "NASA",
                                    "3": "34"
                                },
                                {
                                    "0": "9GAG",
                                    "1": "51",
                                    "2": "NULL",
                                    "3": "NULL"
                                },
                                {
                                    "0": "Gigi Hadid",
                                    "1": "50",
                                    "2": "NULL",
                                    "3": "NULL"
                                },
                                {
                                    "0": "Ronaldinho",
                                    "1": "50",
                                    "2": "NULL",
                                    "3": "NULL"
                                },
                                {
                                    "0": "Maluma",
                                    "1": "48",
                                    "2": "NULL",
                                    "3": "NULL"
                                },
                                {
                                    "0": "Priyanka Chopra Jonas",
                                    "1": "47",
                                    "2": "NULL",
                                    "3": "NULL"
                                },
                                {
                                    "0": "Virat Kohli",
                                    "1": "45",
                                    "2": "Virat Kohli",
                                    "3": "33"
                                },
                                {
                                    "0": "Billie Eilish",
                                    "1": "44",
                                    "2": "NULL",
                                    "3": "NULL"
                                },
                                {
                                    "0": "Camila Cabello",
                                    "1": "44",
                                    "2": "NULL",
                                    "3": "NULL"
                                },
                                {
                                    "0": "James Rodríguez",
                                    "1": "44",
                                    "2": "NULL",
                                    "3": "NULL"
                                }
                            ]
                        },
                        "text/html": [
                            "<table>",
                            "<tr><th>ig_owner</th><th>ig_followers</th><th>tw_owner</th><th>tw_followers</th></tr>",
                            "<tr><td>Instagram</td><td>321</td><td>Instagram</td><td>36</td></tr>",
                            "<tr><td>Cristiano Ronaldo</td><td>193</td><td>Cristiano Ronaldo</td><td>81</td></tr>",
                            "<tr><td>Ariana Grande</td><td>168</td><td>Ariana Grande</td><td>68</td></tr>",
                            "<tr><td>Dwayne Johnson</td><td>164</td><td>NULL</td><td>NULL</td></tr>",
                            "<tr><td>Selena Gomez</td><td>163</td><td>Selena Gomez</td><td>59</td></tr>",
                            "<tr><td>Kim Kardashian</td><td>154</td><td>Kim Kardashian</td><td>62</td></tr>",
                            "<tr><td>Kylie Jenner</td><td>153</td><td>NULL</td><td>NULL</td></tr>",
                            "<tr><td>Lionel Messi</td><td>138</td><td>NULL</td><td>NULL</td></tr>",
                            "<tr><td>Beyoncé</td><td>136</td><td>NULL</td><td>NULL</td></tr>",
                            "<tr><td>Neymar</td><td>129</td><td>Neymar</td><td>45</td></tr>",
                            "<tr><td>National Geographic</td><td>128</td><td>NULL</td><td>NULL</td></tr>",
                            "<tr><td>Taylor Swift</td><td>124</td><td>Taylor Swift</td><td>85</td></tr>",
                            "<tr><td>Justin Bieber</td><td>122</td><td>Justin Bieber</td><td>107</td></tr>",
                            "<tr><td>Kendall Jenner</td><td>119</td><td>NULL</td><td>NULL</td></tr>",
                            "<tr><td>Nicki Minaj</td><td>108</td><td>NULL</td><td>NULL</td></tr>",
                            "<tr><td>Jennifer Lopez</td><td>107</td><td>Jennifer Lopez</td><td>44</td></tr>",
                            "<tr><td>Miley Cyrus</td><td>102</td><td>Miley Cyrus</td><td>45</td></tr>",
                            "<tr><td>Khloé Kardashian</td><td>101</td><td>NULL</td><td>NULL</td></tr>",
                            "<tr><td>Nike</td><td>96</td><td>NULL</td><td>NULL</td></tr>",
                            "<tr><td>Katy Perry</td><td>87</td><td>Katy Perry</td><td>108</td></tr>",
                            "<tr><td>Kourtney Kardashian</td><td>84</td><td>NULL</td><td>NULL</td></tr>",
                            "<tr><td>Kevin Hart</td><td>82</td><td>Kevin Hart</td><td>36</td></tr>",
                            "<tr><td>Real Madrid CF</td><td>81</td><td>Real Madrid CF</td><td>33</td></tr>",
                            "<tr><td>Ellen DeGeneres</td><td>80</td><td>Ellen DeGeneres</td><td>79</td></tr>",
                            "<tr><td>FC Barcelona</td><td>80</td><td>FC Barcelona</td><td>31</td></tr>",
                            "<tr><td>Rihanna</td><td>77</td><td>Rihanna</td><td>95</td></tr>",
                            "<tr><td>Demi Lovato</td><td>75</td><td>NULL</td><td>NULL</td></tr>",
                            "<tr><td>Victoria's Secret</td><td>68</td><td>NULL</td><td>NULL</td></tr>",
                            "<tr><td>Zendaya</td><td>64</td><td>NULL</td><td>NULL</td></tr>",
                            "<tr><td>Drake</td><td>62</td><td>Drake</td><td>39</td></tr>",
                            "<tr><td>Shakira</td><td>60</td><td>Shakira</td><td>52</td></tr>",
                            "<tr><td>David Beckham</td><td>59</td><td>NULL</td><td>NULL</td></tr>",
                            "<tr><td>Vin Diesel</td><td>59</td><td>NULL</td><td>NULL</td></tr>",
                            "<tr><td>Chris Brown</td><td>58</td><td>NULL</td><td>NULL</td></tr>",
                            "<tr><td>Justin Timberlake</td><td>56</td><td>Justin Timberlake</td><td>65</td></tr>",
                            "<tr><td>Cardi B</td><td>55</td><td>NULL</td><td>NULL</td></tr>",
                            "<tr><td>Shawn Mendes</td><td>54</td><td>NULL</td><td>NULL</td></tr>",
                            "<tr><td>LeBron James</td><td>53</td><td>LeBron James</td><td>44</td></tr>",
                            "<tr><td>Emma Watson</td><td>52</td><td>NULL</td><td>NULL</td></tr>",
                            "<tr><td>UEFA Champions League</td><td>52</td><td>NULL</td><td>NULL</td></tr>",
                            "<tr><td>NASA</td><td>51</td><td>NASA</td><td>34</td></tr>",
                            "<tr><td>9GAG</td><td>51</td><td>NULL</td><td>NULL</td></tr>",
                            "<tr><td>Gigi Hadid</td><td>50</td><td>NULL</td><td>NULL</td></tr>",
                            "<tr><td>Ronaldinho</td><td>50</td><td>NULL</td><td>NULL</td></tr>",
                            "<tr><td>Maluma</td><td>48</td><td>NULL</td><td>NULL</td></tr>",
                            "<tr><td>Priyanka Chopra Jonas</td><td>47</td><td>NULL</td><td>NULL</td></tr>",
                            "<tr><td>Virat Kohli</td><td>45</td><td>Virat Kohli</td><td>33</td></tr>",
                            "<tr><td>Billie Eilish</td><td>44</td><td>NULL</td><td>NULL</td></tr>",
                            "<tr><td>Camila Cabello</td><td>44</td><td>NULL</td><td>NULL</td></tr>",
                            "<tr><td>James Rodríguez</td><td>44</td><td>NULL</td><td>NULL</td></tr>",
                            "</table>"
                        ]
                    }
                }
            ],
            "execution_count": 20
        },
        {
            "cell_type": "code",
            "source": [
                "--INTEGER + NULL = NULL\n",
                "select i.owner ig_owner, i.followers_mil ig_followers, t.owner tw_owner, t.followers_mil tw_followers,\n",
                "    i.followers_mil + t.followers_mil total\n",
                "    from instagram i left join twitter t on i.owner = t.owner"
            ],
            "metadata": {
                "azdata_cell_guid": "ffc72bcd-9a7c-406a-acc3-efca5640e888"
            },
            "outputs": [
                {
                    "output_type": "display_data",
                    "data": {
                        "text/html": "(50 row(s) affected)"
                    },
                    "metadata": {}
                },
                {
                    "output_type": "display_data",
                    "data": {
                        "text/html": "Total execution time: 00:00:00.009"
                    },
                    "metadata": {}
                },
                {
                    "output_type": "execute_result",
                    "metadata": {},
                    "execution_count": 21,
                    "data": {
                        "application/vnd.dataresource+json": {
                            "schema": {
                                "fields": [
                                    {
                                        "name": "ig_owner"
                                    },
                                    {
                                        "name": "ig_followers"
                                    },
                                    {
                                        "name": "tw_owner"
                                    },
                                    {
                                        "name": "tw_followers"
                                    },
                                    {
                                        "name": "total"
                                    }
                                ]
                            },
                            "data": [
                                {
                                    "0": "Instagram",
                                    "1": "321",
                                    "2": "Instagram",
                                    "3": "36",
                                    "4": "357"
                                },
                                {
                                    "0": "Cristiano Ronaldo",
                                    "1": "193",
                                    "2": "Cristiano Ronaldo",
                                    "3": "81",
                                    "4": "274"
                                },
                                {
                                    "0": "Ariana Grande",
                                    "1": "168",
                                    "2": "Ariana Grande",
                                    "3": "68",
                                    "4": "236"
                                },
                                {
                                    "0": "Dwayne Johnson",
                                    "1": "164",
                                    "2": "NULL",
                                    "3": "NULL",
                                    "4": "NULL"
                                },
                                {
                                    "0": "Selena Gomez",
                                    "1": "163",
                                    "2": "Selena Gomez",
                                    "3": "59",
                                    "4": "222"
                                },
                                {
                                    "0": "Kim Kardashian",
                                    "1": "154",
                                    "2": "Kim Kardashian",
                                    "3": "62",
                                    "4": "216"
                                },
                                {
                                    "0": "Kylie Jenner",
                                    "1": "153",
                                    "2": "NULL",
                                    "3": "NULL",
                                    "4": "NULL"
                                },
                                {
                                    "0": "Lionel Messi",
                                    "1": "138",
                                    "2": "NULL",
                                    "3": "NULL",
                                    "4": "NULL"
                                },
                                {
                                    "0": "Beyoncé",
                                    "1": "136",
                                    "2": "NULL",
                                    "3": "NULL",
                                    "4": "NULL"
                                },
                                {
                                    "0": "Neymar",
                                    "1": "129",
                                    "2": "Neymar",
                                    "3": "45",
                                    "4": "174"
                                },
                                {
                                    "0": "National Geographic",
                                    "1": "128",
                                    "2": "NULL",
                                    "3": "NULL",
                                    "4": "NULL"
                                },
                                {
                                    "0": "Taylor Swift",
                                    "1": "124",
                                    "2": "Taylor Swift",
                                    "3": "85",
                                    "4": "209"
                                },
                                {
                                    "0": "Justin Bieber",
                                    "1": "122",
                                    "2": "Justin Bieber",
                                    "3": "107",
                                    "4": "229"
                                },
                                {
                                    "0": "Kendall Jenner",
                                    "1": "119",
                                    "2": "NULL",
                                    "3": "NULL",
                                    "4": "NULL"
                                },
                                {
                                    "0": "Nicki Minaj",
                                    "1": "108",
                                    "2": "NULL",
                                    "3": "NULL",
                                    "4": "NULL"
                                },
                                {
                                    "0": "Jennifer Lopez",
                                    "1": "107",
                                    "2": "Jennifer Lopez",
                                    "3": "44",
                                    "4": "151"
                                },
                                {
                                    "0": "Miley Cyrus",
                                    "1": "102",
                                    "2": "Miley Cyrus",
                                    "3": "45",
                                    "4": "147"
                                },
                                {
                                    "0": "Khloé Kardashian",
                                    "1": "101",
                                    "2": "NULL",
                                    "3": "NULL",
                                    "4": "NULL"
                                },
                                {
                                    "0": "Nike",
                                    "1": "96",
                                    "2": "NULL",
                                    "3": "NULL",
                                    "4": "NULL"
                                },
                                {
                                    "0": "Katy Perry",
                                    "1": "87",
                                    "2": "Katy Perry",
                                    "3": "108",
                                    "4": "195"
                                },
                                {
                                    "0": "Kourtney Kardashian",
                                    "1": "84",
                                    "2": "NULL",
                                    "3": "NULL",
                                    "4": "NULL"
                                },
                                {
                                    "0": "Kevin Hart",
                                    "1": "82",
                                    "2": "Kevin Hart",
                                    "3": "36",
                                    "4": "118"
                                },
                                {
                                    "0": "Real Madrid CF",
                                    "1": "81",
                                    "2": "Real Madrid CF",
                                    "3": "33",
                                    "4": "114"
                                },
                                {
                                    "0": "Ellen DeGeneres",
                                    "1": "80",
                                    "2": "Ellen DeGeneres",
                                    "3": "79",
                                    "4": "159"
                                },
                                {
                                    "0": "FC Barcelona",
                                    "1": "80",
                                    "2": "FC Barcelona",
                                    "3": "31",
                                    "4": "111"
                                },
                                {
                                    "0": "Rihanna",
                                    "1": "77",
                                    "2": "Rihanna",
                                    "3": "95",
                                    "4": "172"
                                },
                                {
                                    "0": "Demi Lovato",
                                    "1": "75",
                                    "2": "NULL",
                                    "3": "NULL",
                                    "4": "NULL"
                                },
                                {
                                    "0": "Victoria's Secret",
                                    "1": "68",
                                    "2": "NULL",
                                    "3": "NULL",
                                    "4": "NULL"
                                },
                                {
                                    "0": "Zendaya",
                                    "1": "64",
                                    "2": "NULL",
                                    "3": "NULL",
                                    "4": "NULL"
                                },
                                {
                                    "0": "Drake",
                                    "1": "62",
                                    "2": "Drake",
                                    "3": "39",
                                    "4": "101"
                                },
                                {
                                    "0": "Shakira",
                                    "1": "60",
                                    "2": "Shakira",
                                    "3": "52",
                                    "4": "112"
                                },
                                {
                                    "0": "David Beckham",
                                    "1": "59",
                                    "2": "NULL",
                                    "3": "NULL",
                                    "4": "NULL"
                                },
                                {
                                    "0": "Vin Diesel",
                                    "1": "59",
                                    "2": "NULL",
                                    "3": "NULL",
                                    "4": "NULL"
                                },
                                {
                                    "0": "Chris Brown",
                                    "1": "58",
                                    "2": "NULL",
                                    "3": "NULL",
                                    "4": "NULL"
                                },
                                {
                                    "0": "Justin Timberlake",
                                    "1": "56",
                                    "2": "Justin Timberlake",
                                    "3": "65",
                                    "4": "121"
                                },
                                {
                                    "0": "Cardi B",
                                    "1": "55",
                                    "2": "NULL",
                                    "3": "NULL",
                                    "4": "NULL"
                                },
                                {
                                    "0": "Shawn Mendes",
                                    "1": "54",
                                    "2": "NULL",
                                    "3": "NULL",
                                    "4": "NULL"
                                },
                                {
                                    "0": "LeBron James",
                                    "1": "53",
                                    "2": "LeBron James",
                                    "3": "44",
                                    "4": "97"
                                },
                                {
                                    "0": "Emma Watson",
                                    "1": "52",
                                    "2": "NULL",
                                    "3": "NULL",
                                    "4": "NULL"
                                },
                                {
                                    "0": "UEFA Champions League",
                                    "1": "52",
                                    "2": "NULL",
                                    "3": "NULL",
                                    "4": "NULL"
                                },
                                {
                                    "0": "NASA",
                                    "1": "51",
                                    "2": "NASA",
                                    "3": "34",
                                    "4": "85"
                                },
                                {
                                    "0": "9GAG",
                                    "1": "51",
                                    "2": "NULL",
                                    "3": "NULL",
                                    "4": "NULL"
                                },
                                {
                                    "0": "Gigi Hadid",
                                    "1": "50",
                                    "2": "NULL",
                                    "3": "NULL",
                                    "4": "NULL"
                                },
                                {
                                    "0": "Ronaldinho",
                                    "1": "50",
                                    "2": "NULL",
                                    "3": "NULL",
                                    "4": "NULL"
                                },
                                {
                                    "0": "Maluma",
                                    "1": "48",
                                    "2": "NULL",
                                    "3": "NULL",
                                    "4": "NULL"
                                },
                                {
                                    "0": "Priyanka Chopra Jonas",
                                    "1": "47",
                                    "2": "NULL",
                                    "3": "NULL",
                                    "4": "NULL"
                                },
                                {
                                    "0": "Virat Kohli",
                                    "1": "45",
                                    "2": "Virat Kohli",
                                    "3": "33",
                                    "4": "78"
                                },
                                {
                                    "0": "Billie Eilish",
                                    "1": "44",
                                    "2": "NULL",
                                    "3": "NULL",
                                    "4": "NULL"
                                },
                                {
                                    "0": "Camila Cabello",
                                    "1": "44",
                                    "2": "NULL",
                                    "3": "NULL",
                                    "4": "NULL"
                                },
                                {
                                    "0": "James Rodríguez",
                                    "1": "44",
                                    "2": "NULL",
                                    "3": "NULL",
                                    "4": "NULL"
                                }
                            ]
                        },
                        "text/html": [
                            "<table>",
                            "<tr><th>ig_owner</th><th>ig_followers</th><th>tw_owner</th><th>tw_followers</th><th>total</th></tr>",
                            "<tr><td>Instagram</td><td>321</td><td>Instagram</td><td>36</td><td>357</td></tr>",
                            "<tr><td>Cristiano Ronaldo</td><td>193</td><td>Cristiano Ronaldo</td><td>81</td><td>274</td></tr>",
                            "<tr><td>Ariana Grande</td><td>168</td><td>Ariana Grande</td><td>68</td><td>236</td></tr>",
                            "<tr><td>Dwayne Johnson</td><td>164</td><td>NULL</td><td>NULL</td><td>NULL</td></tr>",
                            "<tr><td>Selena Gomez</td><td>163</td><td>Selena Gomez</td><td>59</td><td>222</td></tr>",
                            "<tr><td>Kim Kardashian</td><td>154</td><td>Kim Kardashian</td><td>62</td><td>216</td></tr>",
                            "<tr><td>Kylie Jenner</td><td>153</td><td>NULL</td><td>NULL</td><td>NULL</td></tr>",
                            "<tr><td>Lionel Messi</td><td>138</td><td>NULL</td><td>NULL</td><td>NULL</td></tr>",
                            "<tr><td>Beyoncé</td><td>136</td><td>NULL</td><td>NULL</td><td>NULL</td></tr>",
                            "<tr><td>Neymar</td><td>129</td><td>Neymar</td><td>45</td><td>174</td></tr>",
                            "<tr><td>National Geographic</td><td>128</td><td>NULL</td><td>NULL</td><td>NULL</td></tr>",
                            "<tr><td>Taylor Swift</td><td>124</td><td>Taylor Swift</td><td>85</td><td>209</td></tr>",
                            "<tr><td>Justin Bieber</td><td>122</td><td>Justin Bieber</td><td>107</td><td>229</td></tr>",
                            "<tr><td>Kendall Jenner</td><td>119</td><td>NULL</td><td>NULL</td><td>NULL</td></tr>",
                            "<tr><td>Nicki Minaj</td><td>108</td><td>NULL</td><td>NULL</td><td>NULL</td></tr>",
                            "<tr><td>Jennifer Lopez</td><td>107</td><td>Jennifer Lopez</td><td>44</td><td>151</td></tr>",
                            "<tr><td>Miley Cyrus</td><td>102</td><td>Miley Cyrus</td><td>45</td><td>147</td></tr>",
                            "<tr><td>Khloé Kardashian</td><td>101</td><td>NULL</td><td>NULL</td><td>NULL</td></tr>",
                            "<tr><td>Nike</td><td>96</td><td>NULL</td><td>NULL</td><td>NULL</td></tr>",
                            "<tr><td>Katy Perry</td><td>87</td><td>Katy Perry</td><td>108</td><td>195</td></tr>",
                            "<tr><td>Kourtney Kardashian</td><td>84</td><td>NULL</td><td>NULL</td><td>NULL</td></tr>",
                            "<tr><td>Kevin Hart</td><td>82</td><td>Kevin Hart</td><td>36</td><td>118</td></tr>",
                            "<tr><td>Real Madrid CF</td><td>81</td><td>Real Madrid CF</td><td>33</td><td>114</td></tr>",
                            "<tr><td>Ellen DeGeneres</td><td>80</td><td>Ellen DeGeneres</td><td>79</td><td>159</td></tr>",
                            "<tr><td>FC Barcelona</td><td>80</td><td>FC Barcelona</td><td>31</td><td>111</td></tr>",
                            "<tr><td>Rihanna</td><td>77</td><td>Rihanna</td><td>95</td><td>172</td></tr>",
                            "<tr><td>Demi Lovato</td><td>75</td><td>NULL</td><td>NULL</td><td>NULL</td></tr>",
                            "<tr><td>Victoria's Secret</td><td>68</td><td>NULL</td><td>NULL</td><td>NULL</td></tr>",
                            "<tr><td>Zendaya</td><td>64</td><td>NULL</td><td>NULL</td><td>NULL</td></tr>",
                            "<tr><td>Drake</td><td>62</td><td>Drake</td><td>39</td><td>101</td></tr>",
                            "<tr><td>Shakira</td><td>60</td><td>Shakira</td><td>52</td><td>112</td></tr>",
                            "<tr><td>David Beckham</td><td>59</td><td>NULL</td><td>NULL</td><td>NULL</td></tr>",
                            "<tr><td>Vin Diesel</td><td>59</td><td>NULL</td><td>NULL</td><td>NULL</td></tr>",
                            "<tr><td>Chris Brown</td><td>58</td><td>NULL</td><td>NULL</td><td>NULL</td></tr>",
                            "<tr><td>Justin Timberlake</td><td>56</td><td>Justin Timberlake</td><td>65</td><td>121</td></tr>",
                            "<tr><td>Cardi B</td><td>55</td><td>NULL</td><td>NULL</td><td>NULL</td></tr>",
                            "<tr><td>Shawn Mendes</td><td>54</td><td>NULL</td><td>NULL</td><td>NULL</td></tr>",
                            "<tr><td>LeBron James</td><td>53</td><td>LeBron James</td><td>44</td><td>97</td></tr>",
                            "<tr><td>Emma Watson</td><td>52</td><td>NULL</td><td>NULL</td><td>NULL</td></tr>",
                            "<tr><td>UEFA Champions League</td><td>52</td><td>NULL</td><td>NULL</td><td>NULL</td></tr>",
                            "<tr><td>NASA</td><td>51</td><td>NASA</td><td>34</td><td>85</td></tr>",
                            "<tr><td>9GAG</td><td>51</td><td>NULL</td><td>NULL</td><td>NULL</td></tr>",
                            "<tr><td>Gigi Hadid</td><td>50</td><td>NULL</td><td>NULL</td><td>NULL</td></tr>",
                            "<tr><td>Ronaldinho</td><td>50</td><td>NULL</td><td>NULL</td><td>NULL</td></tr>",
                            "<tr><td>Maluma</td><td>48</td><td>NULL</td><td>NULL</td><td>NULL</td></tr>",
                            "<tr><td>Priyanka Chopra Jonas</td><td>47</td><td>NULL</td><td>NULL</td><td>NULL</td></tr>",
                            "<tr><td>Virat Kohli</td><td>45</td><td>Virat Kohli</td><td>33</td><td>78</td></tr>",
                            "<tr><td>Billie Eilish</td><td>44</td><td>NULL</td><td>NULL</td><td>NULL</td></tr>",
                            "<tr><td>Camila Cabello</td><td>44</td><td>NULL</td><td>NULL</td><td>NULL</td></tr>",
                            "<tr><td>James Rodríguez</td><td>44</td><td>NULL</td><td>NULL</td><td>NULL</td></tr>",
                            "</table>"
                        ]
                    }
                }
            ],
            "execution_count": 21
        },
        {
            "cell_type": "code",
            "source": [
                "-- ใช้ coalesce เพื่อส่งค่าตัวอรกที่ไม่ใช่ Null ออกไป\n",
                "select i.owner ig_owner, i.followers_mil ig_followers, t.owner tw_owner, t.followers_mil tw_followers,\n",
                "    i.followers_mil + t.followers_mil total,\n",
                "    COALESCE(i.followers_mil, 0) + COALESCE(t.followers_mil, 0) total_correct\n",
                "    from instagram i left join twitter t on i.owner = t.owner"
            ],
            "metadata": {
                "azdata_cell_guid": "0673218c-8e39-4d2c-a248-824fd632e30d"
            },
            "outputs": [
                {
                    "output_type": "display_data",
                    "data": {
                        "text/html": "(50 row(s) affected)"
                    },
                    "metadata": {}
                },
                {
                    "output_type": "display_data",
                    "data": {
                        "text/html": "Total execution time: 00:00:00.010"
                    },
                    "metadata": {}
                },
                {
                    "output_type": "execute_result",
                    "metadata": {},
                    "execution_count": 22,
                    "data": {
                        "application/vnd.dataresource+json": {
                            "schema": {
                                "fields": [
                                    {
                                        "name": "ig_owner"
                                    },
                                    {
                                        "name": "ig_followers"
                                    },
                                    {
                                        "name": "tw_owner"
                                    },
                                    {
                                        "name": "tw_followers"
                                    },
                                    {
                                        "name": "total"
                                    },
                                    {
                                        "name": "total_correct"
                                    }
                                ]
                            },
                            "data": [
                                {
                                    "0": "Instagram",
                                    "1": "321",
                                    "2": "Instagram",
                                    "3": "36",
                                    "4": "357",
                                    "5": "357"
                                },
                                {
                                    "0": "Cristiano Ronaldo",
                                    "1": "193",
                                    "2": "Cristiano Ronaldo",
                                    "3": "81",
                                    "4": "274",
                                    "5": "274"
                                },
                                {
                                    "0": "Ariana Grande",
                                    "1": "168",
                                    "2": "Ariana Grande",
                                    "3": "68",
                                    "4": "236",
                                    "5": "236"
                                },
                                {
                                    "0": "Dwayne Johnson",
                                    "1": "164",
                                    "2": "NULL",
                                    "3": "NULL",
                                    "4": "NULL",
                                    "5": "164"
                                },
                                {
                                    "0": "Selena Gomez",
                                    "1": "163",
                                    "2": "Selena Gomez",
                                    "3": "59",
                                    "4": "222",
                                    "5": "222"
                                },
                                {
                                    "0": "Kim Kardashian",
                                    "1": "154",
                                    "2": "Kim Kardashian",
                                    "3": "62",
                                    "4": "216",
                                    "5": "216"
                                },
                                {
                                    "0": "Kylie Jenner",
                                    "1": "153",
                                    "2": "NULL",
                                    "3": "NULL",
                                    "4": "NULL",
                                    "5": "153"
                                },
                                {
                                    "0": "Lionel Messi",
                                    "1": "138",
                                    "2": "NULL",
                                    "3": "NULL",
                                    "4": "NULL",
                                    "5": "138"
                                },
                                {
                                    "0": "Beyoncé",
                                    "1": "136",
                                    "2": "NULL",
                                    "3": "NULL",
                                    "4": "NULL",
                                    "5": "136"
                                },
                                {
                                    "0": "Neymar",
                                    "1": "129",
                                    "2": "Neymar",
                                    "3": "45",
                                    "4": "174",
                                    "5": "174"
                                },
                                {
                                    "0": "National Geographic",
                                    "1": "128",
                                    "2": "NULL",
                                    "3": "NULL",
                                    "4": "NULL",
                                    "5": "128"
                                },
                                {
                                    "0": "Taylor Swift",
                                    "1": "124",
                                    "2": "Taylor Swift",
                                    "3": "85",
                                    "4": "209",
                                    "5": "209"
                                },
                                {
                                    "0": "Justin Bieber",
                                    "1": "122",
                                    "2": "Justin Bieber",
                                    "3": "107",
                                    "4": "229",
                                    "5": "229"
                                },
                                {
                                    "0": "Kendall Jenner",
                                    "1": "119",
                                    "2": "NULL",
                                    "3": "NULL",
                                    "4": "NULL",
                                    "5": "119"
                                },
                                {
                                    "0": "Nicki Minaj",
                                    "1": "108",
                                    "2": "NULL",
                                    "3": "NULL",
                                    "4": "NULL",
                                    "5": "108"
                                },
                                {
                                    "0": "Jennifer Lopez",
                                    "1": "107",
                                    "2": "Jennifer Lopez",
                                    "3": "44",
                                    "4": "151",
                                    "5": "151"
                                },
                                {
                                    "0": "Miley Cyrus",
                                    "1": "102",
                                    "2": "Miley Cyrus",
                                    "3": "45",
                                    "4": "147",
                                    "5": "147"
                                },
                                {
                                    "0": "Khloé Kardashian",
                                    "1": "101",
                                    "2": "NULL",
                                    "3": "NULL",
                                    "4": "NULL",
                                    "5": "101"
                                },
                                {
                                    "0": "Nike",
                                    "1": "96",
                                    "2": "NULL",
                                    "3": "NULL",
                                    "4": "NULL",
                                    "5": "96"
                                },
                                {
                                    "0": "Katy Perry",
                                    "1": "87",
                                    "2": "Katy Perry",
                                    "3": "108",
                                    "4": "195",
                                    "5": "195"
                                },
                                {
                                    "0": "Kourtney Kardashian",
                                    "1": "84",
                                    "2": "NULL",
                                    "3": "NULL",
                                    "4": "NULL",
                                    "5": "84"
                                },
                                {
                                    "0": "Kevin Hart",
                                    "1": "82",
                                    "2": "Kevin Hart",
                                    "3": "36",
                                    "4": "118",
                                    "5": "118"
                                },
                                {
                                    "0": "Real Madrid CF",
                                    "1": "81",
                                    "2": "Real Madrid CF",
                                    "3": "33",
                                    "4": "114",
                                    "5": "114"
                                },
                                {
                                    "0": "Ellen DeGeneres",
                                    "1": "80",
                                    "2": "Ellen DeGeneres",
                                    "3": "79",
                                    "4": "159",
                                    "5": "159"
                                },
                                {
                                    "0": "FC Barcelona",
                                    "1": "80",
                                    "2": "FC Barcelona",
                                    "3": "31",
                                    "4": "111",
                                    "5": "111"
                                },
                                {
                                    "0": "Rihanna",
                                    "1": "77",
                                    "2": "Rihanna",
                                    "3": "95",
                                    "4": "172",
                                    "5": "172"
                                },
                                {
                                    "0": "Demi Lovato",
                                    "1": "75",
                                    "2": "NULL",
                                    "3": "NULL",
                                    "4": "NULL",
                                    "5": "75"
                                },
                                {
                                    "0": "Victoria's Secret",
                                    "1": "68",
                                    "2": "NULL",
                                    "3": "NULL",
                                    "4": "NULL",
                                    "5": "68"
                                },
                                {
                                    "0": "Zendaya",
                                    "1": "64",
                                    "2": "NULL",
                                    "3": "NULL",
                                    "4": "NULL",
                                    "5": "64"
                                },
                                {
                                    "0": "Drake",
                                    "1": "62",
                                    "2": "Drake",
                                    "3": "39",
                                    "4": "101",
                                    "5": "101"
                                },
                                {
                                    "0": "Shakira",
                                    "1": "60",
                                    "2": "Shakira",
                                    "3": "52",
                                    "4": "112",
                                    "5": "112"
                                },
                                {
                                    "0": "David Beckham",
                                    "1": "59",
                                    "2": "NULL",
                                    "3": "NULL",
                                    "4": "NULL",
                                    "5": "59"
                                },
                                {
                                    "0": "Vin Diesel",
                                    "1": "59",
                                    "2": "NULL",
                                    "3": "NULL",
                                    "4": "NULL",
                                    "5": "59"
                                },
                                {
                                    "0": "Chris Brown",
                                    "1": "58",
                                    "2": "NULL",
                                    "3": "NULL",
                                    "4": "NULL",
                                    "5": "58"
                                },
                                {
                                    "0": "Justin Timberlake",
                                    "1": "56",
                                    "2": "Justin Timberlake",
                                    "3": "65",
                                    "4": "121",
                                    "5": "121"
                                },
                                {
                                    "0": "Cardi B",
                                    "1": "55",
                                    "2": "NULL",
                                    "3": "NULL",
                                    "4": "NULL",
                                    "5": "55"
                                },
                                {
                                    "0": "Shawn Mendes",
                                    "1": "54",
                                    "2": "NULL",
                                    "3": "NULL",
                                    "4": "NULL",
                                    "5": "54"
                                },
                                {
                                    "0": "LeBron James",
                                    "1": "53",
                                    "2": "LeBron James",
                                    "3": "44",
                                    "4": "97",
                                    "5": "97"
                                },
                                {
                                    "0": "Emma Watson",
                                    "1": "52",
                                    "2": "NULL",
                                    "3": "NULL",
                                    "4": "NULL",
                                    "5": "52"
                                },
                                {
                                    "0": "UEFA Champions League",
                                    "1": "52",
                                    "2": "NULL",
                                    "3": "NULL",
                                    "4": "NULL",
                                    "5": "52"
                                },
                                {
                                    "0": "NASA",
                                    "1": "51",
                                    "2": "NASA",
                                    "3": "34",
                                    "4": "85",
                                    "5": "85"
                                },
                                {
                                    "0": "9GAG",
                                    "1": "51",
                                    "2": "NULL",
                                    "3": "NULL",
                                    "4": "NULL",
                                    "5": "51"
                                },
                                {
                                    "0": "Gigi Hadid",
                                    "1": "50",
                                    "2": "NULL",
                                    "3": "NULL",
                                    "4": "NULL",
                                    "5": "50"
                                },
                                {
                                    "0": "Ronaldinho",
                                    "1": "50",
                                    "2": "NULL",
                                    "3": "NULL",
                                    "4": "NULL",
                                    "5": "50"
                                },
                                {
                                    "0": "Maluma",
                                    "1": "48",
                                    "2": "NULL",
                                    "3": "NULL",
                                    "4": "NULL",
                                    "5": "48"
                                },
                                {
                                    "0": "Priyanka Chopra Jonas",
                                    "1": "47",
                                    "2": "NULL",
                                    "3": "NULL",
                                    "4": "NULL",
                                    "5": "47"
                                },
                                {
                                    "0": "Virat Kohli",
                                    "1": "45",
                                    "2": "Virat Kohli",
                                    "3": "33",
                                    "4": "78",
                                    "5": "78"
                                },
                                {
                                    "0": "Billie Eilish",
                                    "1": "44",
                                    "2": "NULL",
                                    "3": "NULL",
                                    "4": "NULL",
                                    "5": "44"
                                },
                                {
                                    "0": "Camila Cabello",
                                    "1": "44",
                                    "2": "NULL",
                                    "3": "NULL",
                                    "4": "NULL",
                                    "5": "44"
                                },
                                {
                                    "0": "James Rodríguez",
                                    "1": "44",
                                    "2": "NULL",
                                    "3": "NULL",
                                    "4": "NULL",
                                    "5": "44"
                                }
                            ]
                        },
                        "text/html": [
                            "<table>",
                            "<tr><th>ig_owner</th><th>ig_followers</th><th>tw_owner</th><th>tw_followers</th><th>total</th><th>total_correct</th></tr>",
                            "<tr><td>Instagram</td><td>321</td><td>Instagram</td><td>36</td><td>357</td><td>357</td></tr>",
                            "<tr><td>Cristiano Ronaldo</td><td>193</td><td>Cristiano Ronaldo</td><td>81</td><td>274</td><td>274</td></tr>",
                            "<tr><td>Ariana Grande</td><td>168</td><td>Ariana Grande</td><td>68</td><td>236</td><td>236</td></tr>",
                            "<tr><td>Dwayne Johnson</td><td>164</td><td>NULL</td><td>NULL</td><td>NULL</td><td>164</td></tr>",
                            "<tr><td>Selena Gomez</td><td>163</td><td>Selena Gomez</td><td>59</td><td>222</td><td>222</td></tr>",
                            "<tr><td>Kim Kardashian</td><td>154</td><td>Kim Kardashian</td><td>62</td><td>216</td><td>216</td></tr>",
                            "<tr><td>Kylie Jenner</td><td>153</td><td>NULL</td><td>NULL</td><td>NULL</td><td>153</td></tr>",
                            "<tr><td>Lionel Messi</td><td>138</td><td>NULL</td><td>NULL</td><td>NULL</td><td>138</td></tr>",
                            "<tr><td>Beyoncé</td><td>136</td><td>NULL</td><td>NULL</td><td>NULL</td><td>136</td></tr>",
                            "<tr><td>Neymar</td><td>129</td><td>Neymar</td><td>45</td><td>174</td><td>174</td></tr>",
                            "<tr><td>National Geographic</td><td>128</td><td>NULL</td><td>NULL</td><td>NULL</td><td>128</td></tr>",
                            "<tr><td>Taylor Swift</td><td>124</td><td>Taylor Swift</td><td>85</td><td>209</td><td>209</td></tr>",
                            "<tr><td>Justin Bieber</td><td>122</td><td>Justin Bieber</td><td>107</td><td>229</td><td>229</td></tr>",
                            "<tr><td>Kendall Jenner</td><td>119</td><td>NULL</td><td>NULL</td><td>NULL</td><td>119</td></tr>",
                            "<tr><td>Nicki Minaj</td><td>108</td><td>NULL</td><td>NULL</td><td>NULL</td><td>108</td></tr>",
                            "<tr><td>Jennifer Lopez</td><td>107</td><td>Jennifer Lopez</td><td>44</td><td>151</td><td>151</td></tr>",
                            "<tr><td>Miley Cyrus</td><td>102</td><td>Miley Cyrus</td><td>45</td><td>147</td><td>147</td></tr>",
                            "<tr><td>Khloé Kardashian</td><td>101</td><td>NULL</td><td>NULL</td><td>NULL</td><td>101</td></tr>",
                            "<tr><td>Nike</td><td>96</td><td>NULL</td><td>NULL</td><td>NULL</td><td>96</td></tr>",
                            "<tr><td>Katy Perry</td><td>87</td><td>Katy Perry</td><td>108</td><td>195</td><td>195</td></tr>",
                            "<tr><td>Kourtney Kardashian</td><td>84</td><td>NULL</td><td>NULL</td><td>NULL</td><td>84</td></tr>",
                            "<tr><td>Kevin Hart</td><td>82</td><td>Kevin Hart</td><td>36</td><td>118</td><td>118</td></tr>",
                            "<tr><td>Real Madrid CF</td><td>81</td><td>Real Madrid CF</td><td>33</td><td>114</td><td>114</td></tr>",
                            "<tr><td>Ellen DeGeneres</td><td>80</td><td>Ellen DeGeneres</td><td>79</td><td>159</td><td>159</td></tr>",
                            "<tr><td>FC Barcelona</td><td>80</td><td>FC Barcelona</td><td>31</td><td>111</td><td>111</td></tr>",
                            "<tr><td>Rihanna</td><td>77</td><td>Rihanna</td><td>95</td><td>172</td><td>172</td></tr>",
                            "<tr><td>Demi Lovato</td><td>75</td><td>NULL</td><td>NULL</td><td>NULL</td><td>75</td></tr>",
                            "<tr><td>Victoria's Secret</td><td>68</td><td>NULL</td><td>NULL</td><td>NULL</td><td>68</td></tr>",
                            "<tr><td>Zendaya</td><td>64</td><td>NULL</td><td>NULL</td><td>NULL</td><td>64</td></tr>",
                            "<tr><td>Drake</td><td>62</td><td>Drake</td><td>39</td><td>101</td><td>101</td></tr>",
                            "<tr><td>Shakira</td><td>60</td><td>Shakira</td><td>52</td><td>112</td><td>112</td></tr>",
                            "<tr><td>David Beckham</td><td>59</td><td>NULL</td><td>NULL</td><td>NULL</td><td>59</td></tr>",
                            "<tr><td>Vin Diesel</td><td>59</td><td>NULL</td><td>NULL</td><td>NULL</td><td>59</td></tr>",
                            "<tr><td>Chris Brown</td><td>58</td><td>NULL</td><td>NULL</td><td>NULL</td><td>58</td></tr>",
                            "<tr><td>Justin Timberlake</td><td>56</td><td>Justin Timberlake</td><td>65</td><td>121</td><td>121</td></tr>",
                            "<tr><td>Cardi B</td><td>55</td><td>NULL</td><td>NULL</td><td>NULL</td><td>55</td></tr>",
                            "<tr><td>Shawn Mendes</td><td>54</td><td>NULL</td><td>NULL</td><td>NULL</td><td>54</td></tr>",
                            "<tr><td>LeBron James</td><td>53</td><td>LeBron James</td><td>44</td><td>97</td><td>97</td></tr>",
                            "<tr><td>Emma Watson</td><td>52</td><td>NULL</td><td>NULL</td><td>NULL</td><td>52</td></tr>",
                            "<tr><td>UEFA Champions League</td><td>52</td><td>NULL</td><td>NULL</td><td>NULL</td><td>52</td></tr>",
                            "<tr><td>NASA</td><td>51</td><td>NASA</td><td>34</td><td>85</td><td>85</td></tr>",
                            "<tr><td>9GAG</td><td>51</td><td>NULL</td><td>NULL</td><td>NULL</td><td>51</td></tr>",
                            "<tr><td>Gigi Hadid</td><td>50</td><td>NULL</td><td>NULL</td><td>NULL</td><td>50</td></tr>",
                            "<tr><td>Ronaldinho</td><td>50</td><td>NULL</td><td>NULL</td><td>NULL</td><td>50</td></tr>",
                            "<tr><td>Maluma</td><td>48</td><td>NULL</td><td>NULL</td><td>NULL</td><td>48</td></tr>",
                            "<tr><td>Priyanka Chopra Jonas</td><td>47</td><td>NULL</td><td>NULL</td><td>NULL</td><td>47</td></tr>",
                            "<tr><td>Virat Kohli</td><td>45</td><td>Virat Kohli</td><td>33</td><td>78</td><td>78</td></tr>",
                            "<tr><td>Billie Eilish</td><td>44</td><td>NULL</td><td>NULL</td><td>NULL</td><td>44</td></tr>",
                            "<tr><td>Camila Cabello</td><td>44</td><td>NULL</td><td>NULL</td><td>NULL</td><td>44</td></tr>",
                            "<tr><td>James Rodríguez</td><td>44</td><td>NULL</td><td>NULL</td><td>NULL</td><td>44</td></tr>",
                            "</table>"
                        ]
                    }
                }
            ],
            "execution_count": 22
        },
        {
            "cell_type": "code",
            "source": [
                "select i.owner ig_owner, i.followers_mil ig_followers, t.owner tw_owner, t.followers_mil tw_followers,\n",
                "    i.followers_mil + t.followers_mil total,\n",
                "    COALESCE(i.followers_mil, 0) + COALESCE(t.followers_mil, 0) total_correct\n",
                "    from instagram i right join twitter t on i.owner = t.owner"
            ],
            "metadata": {
                "azdata_cell_guid": "f2df3988-492b-4600-8555-a50755fae016",
                "tags": []
            },
            "outputs": [
                {
                    "output_type": "display_data",
                    "data": {
                        "text/html": "(50 row(s) affected)"
                    },
                    "metadata": {}
                },
                {
                    "output_type": "display_data",
                    "data": {
                        "text/html": "Total execution time: 00:00:00.010"
                    },
                    "metadata": {}
                },
                {
                    "output_type": "execute_result",
                    "metadata": {},
                    "execution_count": 23,
                    "data": {
                        "application/vnd.dataresource+json": {
                            "schema": {
                                "fields": [
                                    {
                                        "name": "ig_owner"
                                    },
                                    {
                                        "name": "ig_followers"
                                    },
                                    {
                                        "name": "tw_owner"
                                    },
                                    {
                                        "name": "tw_followers"
                                    },
                                    {
                                        "name": "total"
                                    },
                                    {
                                        "name": "total_correct"
                                    }
                                ]
                            },
                            "data": [
                                {
                                    "0": "NULL",
                                    "1": "NULL",
                                    "2": "Barack Obama",
                                    "3": "111",
                                    "4": "NULL",
                                    "5": "111"
                                },
                                {
                                    "0": "Katy Perry",
                                    "1": "87",
                                    "2": "Katy Perry",
                                    "3": "108",
                                    "4": "195",
                                    "5": "195"
                                },
                                {
                                    "0": "Justin Bieber",
                                    "1": "122",
                                    "2": "Justin Bieber",
                                    "3": "107",
                                    "4": "229",
                                    "5": "229"
                                },
                                {
                                    "0": "Rihanna",
                                    "1": "77",
                                    "2": "Rihanna",
                                    "3": "95",
                                    "4": "172",
                                    "5": "172"
                                },
                                {
                                    "0": "Taylor Swift",
                                    "1": "124",
                                    "2": "Taylor Swift",
                                    "3": "85",
                                    "4": "209",
                                    "5": "209"
                                },
                                {
                                    "0": "Cristiano Ronaldo",
                                    "1": "193",
                                    "2": "Cristiano Ronaldo",
                                    "3": "81",
                                    "4": "274",
                                    "5": "274"
                                },
                                {
                                    "0": "NULL",
                                    "1": "NULL",
                                    "2": "Lady Gaga",
                                    "3": "80",
                                    "4": "NULL",
                                    "5": "80"
                                },
                                {
                                    "0": "Ellen DeGeneres",
                                    "1": "80",
                                    "2": "Ellen DeGeneres",
                                    "3": "79",
                                    "4": "159",
                                    "5": "159"
                                },
                                {
                                    "0": "NULL",
                                    "1": "NULL",
                                    "2": "YouTube",
                                    "3": "72",
                                    "4": "NULL",
                                    "5": "72"
                                },
                                {
                                    "0": "Ariana Grande",
                                    "1": "168",
                                    "2": "Ariana Grande",
                                    "3": "68",
                                    "4": "236",
                                    "5": "236"
                                },
                                {
                                    "0": "NULL",
                                    "1": "NULL",
                                    "2": "Donald Trump",
                                    "3": "68",
                                    "4": "NULL",
                                    "5": "68"
                                },
                                {
                                    "0": "Justin Timberlake",
                                    "1": "56",
                                    "2": "Justin Timberlake",
                                    "3": "65",
                                    "4": "121",
                                    "5": "121"
                                },
                                {
                                    "0": "Kim Kardashian",
                                    "1": "154",
                                    "2": "Kim Kardashian",
                                    "3": "62",
                                    "4": "216",
                                    "5": "216"
                                },
                                {
                                    "0": "Selena Gomez",
                                    "1": "163",
                                    "2": "Selena Gomez",
                                    "3": "59",
                                    "4": "222",
                                    "5": "222"
                                },
                                {
                                    "0": "NULL",
                                    "1": "NULL",
                                    "2": "Twitter",
                                    "3": "57",
                                    "4": "NULL",
                                    "5": "57"
                                },
                                {
                                    "0": "NULL",
                                    "1": "NULL",
                                    "2": "Britney Spears",
                                    "3": "56",
                                    "4": "NULL",
                                    "5": "56"
                                },
                                {
                                    "0": "NULL",
                                    "1": "NULL",
                                    "2": "CNN Breaking News",
                                    "3": "56",
                                    "4": "NULL",
                                    "5": "56"
                                },
                                {
                                    "0": "NULL",
                                    "1": "NULL",
                                    "2": "Narendra Modi",
                                    "3": "52",
                                    "4": "NULL",
                                    "5": "52"
                                },
                                {
                                    "0": "Shakira",
                                    "1": "60",
                                    "2": "Shakira",
                                    "3": "52",
                                    "4": "112",
                                    "5": "112"
                                },
                                {
                                    "0": "NULL",
                                    "1": "NULL",
                                    "2": "Jimmy Fallon",
                                    "3": "51",
                                    "4": "NULL",
                                    "5": "51"
                                },
                                {
                                    "0": "NULL",
                                    "1": "NULL",
                                    "2": "Bill Gates",
                                    "3": "49",
                                    "4": "NULL",
                                    "5": "49"
                                },
                                {
                                    "0": "Neymar",
                                    "1": "129",
                                    "2": "Neymar",
                                    "3": "45",
                                    "4": "174",
                                    "5": "174"
                                },
                                {
                                    "0": "NULL",
                                    "1": "NULL",
                                    "2": "The New York Times",
                                    "3": "45",
                                    "4": "NULL",
                                    "5": "45"
                                },
                                {
                                    "0": "Miley Cyrus",
                                    "1": "102",
                                    "2": "Miley Cyrus",
                                    "3": "45",
                                    "4": "147",
                                    "5": "147"
                                },
                                {
                                    "0": "Jennifer Lopez",
                                    "1": "107",
                                    "2": "Jennifer Lopez",
                                    "3": "44",
                                    "4": "151",
                                    "5": "151"
                                },
                                {
                                    "0": "LeBron James",
                                    "1": "53",
                                    "2": "LeBron James",
                                    "3": "44",
                                    "4": "97",
                                    "5": "97"
                                },
                                {
                                    "0": "NULL",
                                    "1": "NULL",
                                    "2": "CNN",
                                    "3": "44",
                                    "4": "NULL",
                                    "5": "44"
                                },
                                {
                                    "0": "NULL",
                                    "1": "NULL",
                                    "2": "Bruno Mars",
                                    "3": "43",
                                    "4": "NULL",
                                    "5": "43"
                                },
                                {
                                    "0": "NULL",
                                    "1": "NULL",
                                    "2": "Oprah Winfrey",
                                    "3": "43",
                                    "4": "NULL",
                                    "5": "43"
                                },
                                {
                                    "0": "NULL",
                                    "1": "NULL",
                                    "2": "BBC Breaking News",
                                    "3": "41",
                                    "4": "NULL",
                                    "5": "41"
                                },
                                {
                                    "0": "NULL",
                                    "1": "NULL",
                                    "2": "Niall Horan",
                                    "3": "39",
                                    "4": "NULL",
                                    "5": "39"
                                },
                                {
                                    "0": "NULL",
                                    "1": "NULL",
                                    "2": "Shah Rukh Khan",
                                    "3": "39",
                                    "4": "NULL",
                                    "5": "39"
                                },
                                {
                                    "0": "NULL",
                                    "1": "NULL",
                                    "2": "Amitabh Bachchan",
                                    "3": "39",
                                    "4": "NULL",
                                    "5": "39"
                                },
                                {
                                    "0": "Drake",
                                    "1": "62",
                                    "2": "Drake",
                                    "3": "39",
                                    "4": "101",
                                    "5": "101"
                                },
                                {
                                    "0": "NULL",
                                    "1": "NULL",
                                    "2": "Salman Khan",
                                    "3": "39",
                                    "4": "NULL",
                                    "5": "39"
                                },
                                {
                                    "0": "Instagram",
                                    "1": "321",
                                    "2": "Instagram",
                                    "3": "36",
                                    "4": "357",
                                    "5": "357"
                                },
                                {
                                    "0": "NULL",
                                    "1": "NULL",
                                    "2": "SportsCenter",
                                    "3": "36",
                                    "4": "NULL",
                                    "5": "36"
                                },
                                {
                                    "0": "Kevin Hart",
                                    "1": "82",
                                    "2": "Kevin Hart",
                                    "3": "36",
                                    "4": "118",
                                    "5": "118"
                                },
                                {
                                    "0": "NULL",
                                    "1": "NULL",
                                    "2": "Wiz Khalifa",
                                    "3": "35",
                                    "4": "NULL",
                                    "5": "35"
                                },
                                {
                                    "0": "NULL",
                                    "1": "NULL",
                                    "2": "ESPN",
                                    "3": "35",
                                    "4": "NULL",
                                    "5": "35"
                                },
                                {
                                    "0": "NULL",
                                    "1": "NULL",
                                    "2": "Lil Wayne",
                                    "3": "34",
                                    "4": "NULL",
                                    "5": "34"
                                },
                                {
                                    "0": "NASA",
                                    "1": "51",
                                    "2": "NASA",
                                    "3": "34",
                                    "4": "85",
                                    "5": "85"
                                },
                                {
                                    "0": "NULL",
                                    "1": "NULL",
                                    "2": "Harry Styles",
                                    "3": "34",
                                    "4": "NULL",
                                    "5": "34"
                                },
                                {
                                    "0": "NULL",
                                    "1": "NULL",
                                    "2": "Louis Tomlinson",
                                    "3": "33",
                                    "4": "NULL",
                                    "5": "33"
                                },
                                {
                                    "0": "Real Madrid CF",
                                    "1": "81",
                                    "2": "Real Madrid CF",
                                    "3": "33",
                                    "4": "114",
                                    "5": "114"
                                },
                                {
                                    "0": "NULL",
                                    "1": "NULL",
                                    "2": "Akshay Kumar",
                                    "3": "33",
                                    "4": "NULL",
                                    "5": "33"
                                },
                                {
                                    "0": "NULL",
                                    "1": "NULL",
                                    "2": "Liam Payne",
                                    "3": "33",
                                    "4": "NULL",
                                    "5": "33"
                                },
                                {
                                    "0": "Virat Kohli",
                                    "1": "45",
                                    "2": "Virat Kohli",
                                    "3": "33",
                                    "4": "78",
                                    "5": "78"
                                },
                                {
                                    "0": "NULL",
                                    "1": "NULL",
                                    "2": "P!nk",
                                    "3": "32",
                                    "4": "NULL",
                                    "5": "32"
                                },
                                {
                                    "0": "FC Barcelona",
                                    "1": "80",
                                    "2": "FC Barcelona",
                                    "3": "31",
                                    "4": "111",
                                    "5": "111"
                                }
                            ]
                        },
                        "text/html": [
                            "<table>",
                            "<tr><th>ig_owner</th><th>ig_followers</th><th>tw_owner</th><th>tw_followers</th><th>total</th><th>total_correct</th></tr>",
                            "<tr><td>NULL</td><td>NULL</td><td>Barack Obama</td><td>111</td><td>NULL</td><td>111</td></tr>",
                            "<tr><td>Katy Perry</td><td>87</td><td>Katy Perry</td><td>108</td><td>195</td><td>195</td></tr>",
                            "<tr><td>Justin Bieber</td><td>122</td><td>Justin Bieber</td><td>107</td><td>229</td><td>229</td></tr>",
                            "<tr><td>Rihanna</td><td>77</td><td>Rihanna</td><td>95</td><td>172</td><td>172</td></tr>",
                            "<tr><td>Taylor Swift</td><td>124</td><td>Taylor Swift</td><td>85</td><td>209</td><td>209</td></tr>",
                            "<tr><td>Cristiano Ronaldo</td><td>193</td><td>Cristiano Ronaldo</td><td>81</td><td>274</td><td>274</td></tr>",
                            "<tr><td>NULL</td><td>NULL</td><td>Lady Gaga</td><td>80</td><td>NULL</td><td>80</td></tr>",
                            "<tr><td>Ellen DeGeneres</td><td>80</td><td>Ellen DeGeneres</td><td>79</td><td>159</td><td>159</td></tr>",
                            "<tr><td>NULL</td><td>NULL</td><td>YouTube</td><td>72</td><td>NULL</td><td>72</td></tr>",
                            "<tr><td>Ariana Grande</td><td>168</td><td>Ariana Grande</td><td>68</td><td>236</td><td>236</td></tr>",
                            "<tr><td>NULL</td><td>NULL</td><td>Donald Trump</td><td>68</td><td>NULL</td><td>68</td></tr>",
                            "<tr><td>Justin Timberlake</td><td>56</td><td>Justin Timberlake</td><td>65</td><td>121</td><td>121</td></tr>",
                            "<tr><td>Kim Kardashian</td><td>154</td><td>Kim Kardashian</td><td>62</td><td>216</td><td>216</td></tr>",
                            "<tr><td>Selena Gomez</td><td>163</td><td>Selena Gomez</td><td>59</td><td>222</td><td>222</td></tr>",
                            "<tr><td>NULL</td><td>NULL</td><td>Twitter</td><td>57</td><td>NULL</td><td>57</td></tr>",
                            "<tr><td>NULL</td><td>NULL</td><td>Britney Spears</td><td>56</td><td>NULL</td><td>56</td></tr>",
                            "<tr><td>NULL</td><td>NULL</td><td>CNN Breaking News</td><td>56</td><td>NULL</td><td>56</td></tr>",
                            "<tr><td>NULL</td><td>NULL</td><td>Narendra Modi</td><td>52</td><td>NULL</td><td>52</td></tr>",
                            "<tr><td>Shakira</td><td>60</td><td>Shakira</td><td>52</td><td>112</td><td>112</td></tr>",
                            "<tr><td>NULL</td><td>NULL</td><td>Jimmy Fallon</td><td>51</td><td>NULL</td><td>51</td></tr>",
                            "<tr><td>NULL</td><td>NULL</td><td>Bill Gates</td><td>49</td><td>NULL</td><td>49</td></tr>",
                            "<tr><td>Neymar</td><td>129</td><td>Neymar</td><td>45</td><td>174</td><td>174</td></tr>",
                            "<tr><td>NULL</td><td>NULL</td><td>The New York Times</td><td>45</td><td>NULL</td><td>45</td></tr>",
                            "<tr><td>Miley Cyrus</td><td>102</td><td>Miley Cyrus</td><td>45</td><td>147</td><td>147</td></tr>",
                            "<tr><td>Jennifer Lopez</td><td>107</td><td>Jennifer Lopez</td><td>44</td><td>151</td><td>151</td></tr>",
                            "<tr><td>LeBron James</td><td>53</td><td>LeBron James</td><td>44</td><td>97</td><td>97</td></tr>",
                            "<tr><td>NULL</td><td>NULL</td><td>CNN</td><td>44</td><td>NULL</td><td>44</td></tr>",
                            "<tr><td>NULL</td><td>NULL</td><td>Bruno Mars</td><td>43</td><td>NULL</td><td>43</td></tr>",
                            "<tr><td>NULL</td><td>NULL</td><td>Oprah Winfrey</td><td>43</td><td>NULL</td><td>43</td></tr>",
                            "<tr><td>NULL</td><td>NULL</td><td>BBC Breaking News</td><td>41</td><td>NULL</td><td>41</td></tr>",
                            "<tr><td>NULL</td><td>NULL</td><td>Niall Horan</td><td>39</td><td>NULL</td><td>39</td></tr>",
                            "<tr><td>NULL</td><td>NULL</td><td>Shah Rukh Khan</td><td>39</td><td>NULL</td><td>39</td></tr>",
                            "<tr><td>NULL</td><td>NULL</td><td>Amitabh Bachchan</td><td>39</td><td>NULL</td><td>39</td></tr>",
                            "<tr><td>Drake</td><td>62</td><td>Drake</td><td>39</td><td>101</td><td>101</td></tr>",
                            "<tr><td>NULL</td><td>NULL</td><td>Salman Khan</td><td>39</td><td>NULL</td><td>39</td></tr>",
                            "<tr><td>Instagram</td><td>321</td><td>Instagram</td><td>36</td><td>357</td><td>357</td></tr>",
                            "<tr><td>NULL</td><td>NULL</td><td>SportsCenter</td><td>36</td><td>NULL</td><td>36</td></tr>",
                            "<tr><td>Kevin Hart</td><td>82</td><td>Kevin Hart</td><td>36</td><td>118</td><td>118</td></tr>",
                            "<tr><td>NULL</td><td>NULL</td><td>Wiz Khalifa</td><td>35</td><td>NULL</td><td>35</td></tr>",
                            "<tr><td>NULL</td><td>NULL</td><td>ESPN</td><td>35</td><td>NULL</td><td>35</td></tr>",
                            "<tr><td>NULL</td><td>NULL</td><td>Lil Wayne</td><td>34</td><td>NULL</td><td>34</td></tr>",
                            "<tr><td>NASA</td><td>51</td><td>NASA</td><td>34</td><td>85</td><td>85</td></tr>",
                            "<tr><td>NULL</td><td>NULL</td><td>Harry Styles</td><td>34</td><td>NULL</td><td>34</td></tr>",
                            "<tr><td>NULL</td><td>NULL</td><td>Louis Tomlinson</td><td>33</td><td>NULL</td><td>33</td></tr>",
                            "<tr><td>Real Madrid CF</td><td>81</td><td>Real Madrid CF</td><td>33</td><td>114</td><td>114</td></tr>",
                            "<tr><td>NULL</td><td>NULL</td><td>Akshay Kumar</td><td>33</td><td>NULL</td><td>33</td></tr>",
                            "<tr><td>NULL</td><td>NULL</td><td>Liam Payne</td><td>33</td><td>NULL</td><td>33</td></tr>",
                            "<tr><td>Virat Kohli</td><td>45</td><td>Virat Kohli</td><td>33</td><td>78</td><td>78</td></tr>",
                            "<tr><td>NULL</td><td>NULL</td><td>P!nk</td><td>32</td><td>NULL</td><td>32</td></tr>",
                            "<tr><td>FC Barcelona</td><td>80</td><td>FC Barcelona</td><td>31</td><td>111</td><td>111</td></tr>",
                            "</table>"
                        ]
                    }
                }
            ],
            "execution_count": 23
        },
        {
            "cell_type": "code",
            "source": [
                "select i.owner ig_owner, i.followers_mil ig_followers, t.owner tw_owner, t.followers_mil tw_followers,\n",
                "    i.followers_mil + t.followers_mil total,\n",
                "    COALESCE(i.followers_mil, 0) + COALESCE(t.followers_mil, 0) total_correct\n",
                "    from instagram i left join twitter t on i.owner = t.owner\n",
                "union\n",
                "select i.owner ig_owner, i.followers_mil ig_followers, t.owner tw_owner, t.followers_mil tw_followers,\n",
                "    i.followers_mil + t.followers_mil total,\n",
                "    COALESCE(i.followers_mil, 0) + COALESCE(t.followers_mil, 0) total_correct\n",
                "    from instagram i right join twitter t on i.owner = t.owner\n",
                "    order by total_correct desc"
            ],
            "metadata": {
                "azdata_cell_guid": "442680b2-434b-4a54-bae4-386daa2dfb63"
            },
            "outputs": [
                {
                    "output_type": "display_data",
                    "data": {
                        "text/html": "(78 row(s) affected)"
                    },
                    "metadata": {}
                },
                {
                    "output_type": "display_data",
                    "data": {
                        "text/html": "Total execution time: 00:00:00.053"
                    },
                    "metadata": {}
                },
                {
                    "output_type": "execute_result",
                    "metadata": {},
                    "execution_count": 24,
                    "data": {
                        "application/vnd.dataresource+json": {
                            "schema": {
                                "fields": [
                                    {
                                        "name": "ig_owner"
                                    },
                                    {
                                        "name": "ig_followers"
                                    },
                                    {
                                        "name": "tw_owner"
                                    },
                                    {
                                        "name": "tw_followers"
                                    },
                                    {
                                        "name": "total"
                                    },
                                    {
                                        "name": "total_correct"
                                    }
                                ]
                            },
                            "data": [
                                {
                                    "0": "Instagram",
                                    "1": "321",
                                    "2": "Instagram",
                                    "3": "36",
                                    "4": "357",
                                    "5": "357"
                                },
                                {
                                    "0": "Cristiano Ronaldo",
                                    "1": "193",
                                    "2": "Cristiano Ronaldo",
                                    "3": "81",
                                    "4": "274",
                                    "5": "274"
                                },
                                {
                                    "0": "Ariana Grande",
                                    "1": "168",
                                    "2": "Ariana Grande",
                                    "3": "68",
                                    "4": "236",
                                    "5": "236"
                                },
                                {
                                    "0": "Justin Bieber",
                                    "1": "122",
                                    "2": "Justin Bieber",
                                    "3": "107",
                                    "4": "229",
                                    "5": "229"
                                },
                                {
                                    "0": "Selena Gomez",
                                    "1": "163",
                                    "2": "Selena Gomez",
                                    "3": "59",
                                    "4": "222",
                                    "5": "222"
                                },
                                {
                                    "0": "Kim Kardashian",
                                    "1": "154",
                                    "2": "Kim Kardashian",
                                    "3": "62",
                                    "4": "216",
                                    "5": "216"
                                },
                                {
                                    "0": "Taylor Swift",
                                    "1": "124",
                                    "2": "Taylor Swift",
                                    "3": "85",
                                    "4": "209",
                                    "5": "209"
                                },
                                {
                                    "0": "Katy Perry",
                                    "1": "87",
                                    "2": "Katy Perry",
                                    "3": "108",
                                    "4": "195",
                                    "5": "195"
                                },
                                {
                                    "0": "Neymar",
                                    "1": "129",
                                    "2": "Neymar",
                                    "3": "45",
                                    "4": "174",
                                    "5": "174"
                                },
                                {
                                    "0": "Rihanna",
                                    "1": "77",
                                    "2": "Rihanna",
                                    "3": "95",
                                    "4": "172",
                                    "5": "172"
                                },
                                {
                                    "0": "Dwayne Johnson",
                                    "1": "164",
                                    "2": "NULL",
                                    "3": "NULL",
                                    "4": "NULL",
                                    "5": "164"
                                },
                                {
                                    "0": "Ellen DeGeneres",
                                    "1": "80",
                                    "2": "Ellen DeGeneres",
                                    "3": "79",
                                    "4": "159",
                                    "5": "159"
                                },
                                {
                                    "0": "Kylie Jenner",
                                    "1": "153",
                                    "2": "NULL",
                                    "3": "NULL",
                                    "4": "NULL",
                                    "5": "153"
                                },
                                {
                                    "0": "Jennifer Lopez",
                                    "1": "107",
                                    "2": "Jennifer Lopez",
                                    "3": "44",
                                    "4": "151",
                                    "5": "151"
                                },
                                {
                                    "0": "Miley Cyrus",
                                    "1": "102",
                                    "2": "Miley Cyrus",
                                    "3": "45",
                                    "4": "147",
                                    "5": "147"
                                },
                                {
                                    "0": "Lionel Messi",
                                    "1": "138",
                                    "2": "NULL",
                                    "3": "NULL",
                                    "4": "NULL",
                                    "5": "138"
                                },
                                {
                                    "0": "Beyoncé",
                                    "1": "136",
                                    "2": "NULL",
                                    "3": "NULL",
                                    "4": "NULL",
                                    "5": "136"
                                },
                                {
                                    "0": "National Geographic",
                                    "1": "128",
                                    "2": "NULL",
                                    "3": "NULL",
                                    "4": "NULL",
                                    "5": "128"
                                },
                                {
                                    "0": "Justin Timberlake",
                                    "1": "56",
                                    "2": "Justin Timberlake",
                                    "3": "65",
                                    "4": "121",
                                    "5": "121"
                                },
                                {
                                    "0": "Kendall Jenner",
                                    "1": "119",
                                    "2": "NULL",
                                    "3": "NULL",
                                    "4": "NULL",
                                    "5": "119"
                                },
                                {
                                    "0": "Kevin Hart",
                                    "1": "82",
                                    "2": "Kevin Hart",
                                    "3": "36",
                                    "4": "118",
                                    "5": "118"
                                },
                                {
                                    "0": "Real Madrid CF",
                                    "1": "81",
                                    "2": "Real Madrid CF",
                                    "3": "33",
                                    "4": "114",
                                    "5": "114"
                                },
                                {
                                    "0": "Shakira",
                                    "1": "60",
                                    "2": "Shakira",
                                    "3": "52",
                                    "4": "112",
                                    "5": "112"
                                },
                                {
                                    "0": "NULL",
                                    "1": "NULL",
                                    "2": "Barack Obama",
                                    "3": "111",
                                    "4": "NULL",
                                    "5": "111"
                                },
                                {
                                    "0": "FC Barcelona",
                                    "1": "80",
                                    "2": "FC Barcelona",
                                    "3": "31",
                                    "4": "111",
                                    "5": "111"
                                },
                                {
                                    "0": "Nicki Minaj",
                                    "1": "108",
                                    "2": "NULL",
                                    "3": "NULL",
                                    "4": "NULL",
                                    "5": "108"
                                },
                                {
                                    "0": "Khloé Kardashian",
                                    "1": "101",
                                    "2": "NULL",
                                    "3": "NULL",
                                    "4": "NULL",
                                    "5": "101"
                                },
                                {
                                    "0": "Drake",
                                    "1": "62",
                                    "2": "Drake",
                                    "3": "39",
                                    "4": "101",
                                    "5": "101"
                                },
                                {
                                    "0": "LeBron James",
                                    "1": "53",
                                    "2": "LeBron James",
                                    "3": "44",
                                    "4": "97",
                                    "5": "97"
                                },
                                {
                                    "0": "Nike",
                                    "1": "96",
                                    "2": "NULL",
                                    "3": "NULL",
                                    "4": "NULL",
                                    "5": "96"
                                },
                                {
                                    "0": "NASA",
                                    "1": "51",
                                    "2": "NASA",
                                    "3": "34",
                                    "4": "85",
                                    "5": "85"
                                },
                                {
                                    "0": "Kourtney Kardashian",
                                    "1": "84",
                                    "2": "NULL",
                                    "3": "NULL",
                                    "4": "NULL",
                                    "5": "84"
                                },
                                {
                                    "0": "NULL",
                                    "1": "NULL",
                                    "2": "Lady Gaga",
                                    "3": "80",
                                    "4": "NULL",
                                    "5": "80"
                                },
                                {
                                    "0": "Virat Kohli",
                                    "1": "45",
                                    "2": "Virat Kohli",
                                    "3": "33",
                                    "4": "78",
                                    "5": "78"
                                },
                                {
                                    "0": "Demi Lovato",
                                    "1": "75",
                                    "2": "NULL",
                                    "3": "NULL",
                                    "4": "NULL",
                                    "5": "75"
                                },
                                {
                                    "0": "NULL",
                                    "1": "NULL",
                                    "2": "YouTube",
                                    "3": "72",
                                    "4": "NULL",
                                    "5": "72"
                                },
                                {
                                    "0": "NULL",
                                    "1": "NULL",
                                    "2": "Donald Trump",
                                    "3": "68",
                                    "4": "NULL",
                                    "5": "68"
                                },
                                {
                                    "0": "Victoria's Secret",
                                    "1": "68",
                                    "2": "NULL",
                                    "3": "NULL",
                                    "4": "NULL",
                                    "5": "68"
                                },
                                {
                                    "0": "Zendaya",
                                    "1": "64",
                                    "2": "NULL",
                                    "3": "NULL",
                                    "4": "NULL",
                                    "5": "64"
                                },
                                {
                                    "0": "David Beckham",
                                    "1": "59",
                                    "2": "NULL",
                                    "3": "NULL",
                                    "4": "NULL",
                                    "5": "59"
                                },
                                {
                                    "0": "Vin Diesel",
                                    "1": "59",
                                    "2": "NULL",
                                    "3": "NULL",
                                    "4": "NULL",
                                    "5": "59"
                                },
                                {
                                    "0": "Chris Brown",
                                    "1": "58",
                                    "2": "NULL",
                                    "3": "NULL",
                                    "4": "NULL",
                                    "5": "58"
                                },
                                {
                                    "0": "NULL",
                                    "1": "NULL",
                                    "2": "Twitter",
                                    "3": "57",
                                    "4": "NULL",
                                    "5": "57"
                                },
                                {
                                    "0": "NULL",
                                    "1": "NULL",
                                    "2": "CNN Breaking News",
                                    "3": "56",
                                    "4": "NULL",
                                    "5": "56"
                                },
                                {
                                    "0": "NULL",
                                    "1": "NULL",
                                    "2": "Britney Spears",
                                    "3": "56",
                                    "4": "NULL",
                                    "5": "56"
                                },
                                {
                                    "0": "Cardi B",
                                    "1": "55",
                                    "2": "NULL",
                                    "3": "NULL",
                                    "4": "NULL",
                                    "5": "55"
                                },
                                {
                                    "0": "Shawn Mendes",
                                    "1": "54",
                                    "2": "NULL",
                                    "3": "NULL",
                                    "4": "NULL",
                                    "5": "54"
                                },
                                {
                                    "0": "Emma Watson",
                                    "1": "52",
                                    "2": "NULL",
                                    "3": "NULL",
                                    "4": "NULL",
                                    "5": "52"
                                },
                                {
                                    "0": "UEFA Champions League",
                                    "1": "52",
                                    "2": "NULL",
                                    "3": "NULL",
                                    "4": "NULL",
                                    "5": "52"
                                },
                                {
                                    "0": "NULL",
                                    "1": "NULL",
                                    "2": "Narendra Modi",
                                    "3": "52",
                                    "4": "NULL",
                                    "5": "52"
                                },
                                {
                                    "0": "NULL",
                                    "1": "NULL",
                                    "2": "Jimmy Fallon",
                                    "3": "51",
                                    "4": "NULL",
                                    "5": "51"
                                },
                                {
                                    "0": "9GAG",
                                    "1": "51",
                                    "2": "NULL",
                                    "3": "NULL",
                                    "4": "NULL",
                                    "5": "51"
                                },
                                {
                                    "0": "Ronaldinho",
                                    "1": "50",
                                    "2": "NULL",
                                    "3": "NULL",
                                    "4": "NULL",
                                    "5": "50"
                                },
                                {
                                    "0": "Gigi Hadid",
                                    "1": "50",
                                    "2": "NULL",
                                    "3": "NULL",
                                    "4": "NULL",
                                    "5": "50"
                                },
                                {
                                    "0": "NULL",
                                    "1": "NULL",
                                    "2": "Bill Gates",
                                    "3": "49",
                                    "4": "NULL",
                                    "5": "49"
                                },
                                {
                                    "0": "Maluma",
                                    "1": "48",
                                    "2": "NULL",
                                    "3": "NULL",
                                    "4": "NULL",
                                    "5": "48"
                                },
                                {
                                    "0": "Priyanka Chopra Jonas",
                                    "1": "47",
                                    "2": "NULL",
                                    "3": "NULL",
                                    "4": "NULL",
                                    "5": "47"
                                },
                                {
                                    "0": "NULL",
                                    "1": "NULL",
                                    "2": "The New York Times",
                                    "3": "45",
                                    "4": "NULL",
                                    "5": "45"
                                },
                                {
                                    "0": "Camila Cabello",
                                    "1": "44",
                                    "2": "NULL",
                                    "3": "NULL",
                                    "4": "NULL",
                                    "5": "44"
                                },
                                {
                                    "0": "James Rodríguez",
                                    "1": "44",
                                    "2": "NULL",
                                    "3": "NULL",
                                    "4": "NULL",
                                    "5": "44"
                                },
                                {
                                    "0": "NULL",
                                    "1": "NULL",
                                    "2": "CNN",
                                    "3": "44",
                                    "4": "NULL",
                                    "5": "44"
                                },
                                {
                                    "0": "Billie Eilish",
                                    "1": "44",
                                    "2": "NULL",
                                    "3": "NULL",
                                    "4": "NULL",
                                    "5": "44"
                                },
                                {
                                    "0": "NULL",
                                    "1": "NULL",
                                    "2": "Bruno Mars",
                                    "3": "43",
                                    "4": "NULL",
                                    "5": "43"
                                },
                                {
                                    "0": "NULL",
                                    "1": "NULL",
                                    "2": "Oprah Winfrey",
                                    "3": "43",
                                    "4": "NULL",
                                    "5": "43"
                                },
                                {
                                    "0": "NULL",
                                    "1": "NULL",
                                    "2": "BBC Breaking News",
                                    "3": "41",
                                    "4": "NULL",
                                    "5": "41"
                                },
                                {
                                    "0": "NULL",
                                    "1": "NULL",
                                    "2": "Salman Khan",
                                    "3": "39",
                                    "4": "NULL",
                                    "5": "39"
                                },
                                {
                                    "0": "NULL",
                                    "1": "NULL",
                                    "2": "Niall Horan",
                                    "3": "39",
                                    "4": "NULL",
                                    "5": "39"
                                },
                                {
                                    "0": "NULL",
                                    "1": "NULL",
                                    "2": "Amitabh Bachchan",
                                    "3": "39",
                                    "4": "NULL",
                                    "5": "39"
                                },
                                {
                                    "0": "NULL",
                                    "1": "NULL",
                                    "2": "Shah Rukh Khan",
                                    "3": "39",
                                    "4": "NULL",
                                    "5": "39"
                                },
                                {
                                    "0": "NULL",
                                    "1": "NULL",
                                    "2": "SportsCenter",
                                    "3": "36",
                                    "4": "NULL",
                                    "5": "36"
                                },
                                {
                                    "0": "NULL",
                                    "1": "NULL",
                                    "2": "ESPN",
                                    "3": "35",
                                    "4": "NULL",
                                    "5": "35"
                                },
                                {
                                    "0": "NULL",
                                    "1": "NULL",
                                    "2": "Wiz Khalifa",
                                    "3": "35",
                                    "4": "NULL",
                                    "5": "35"
                                },
                                {
                                    "0": "NULL",
                                    "1": "NULL",
                                    "2": "Harry Styles",
                                    "3": "34",
                                    "4": "NULL",
                                    "5": "34"
                                },
                                {
                                    "0": "NULL",
                                    "1": "NULL",
                                    "2": "Lil Wayne",
                                    "3": "34",
                                    "4": "NULL",
                                    "5": "34"
                                },
                                {
                                    "0": "NULL",
                                    "1": "NULL",
                                    "2": "Louis Tomlinson",
                                    "3": "33",
                                    "4": "NULL",
                                    "5": "33"
                                },
                                {
                                    "0": "NULL",
                                    "1": "NULL",
                                    "2": "Liam Payne",
                                    "3": "33",
                                    "4": "NULL",
                                    "5": "33"
                                },
                                {
                                    "0": "NULL",
                                    "1": "NULL",
                                    "2": "Akshay Kumar",
                                    "3": "33",
                                    "4": "NULL",
                                    "5": "33"
                                },
                                {
                                    "0": "NULL",
                                    "1": "NULL",
                                    "2": "P!nk",
                                    "3": "32",
                                    "4": "NULL",
                                    "5": "32"
                                }
                            ]
                        },
                        "text/html": [
                            "<table>",
                            "<tr><th>ig_owner</th><th>ig_followers</th><th>tw_owner</th><th>tw_followers</th><th>total</th><th>total_correct</th></tr>",
                            "<tr><td>Instagram</td><td>321</td><td>Instagram</td><td>36</td><td>357</td><td>357</td></tr>",
                            "<tr><td>Cristiano Ronaldo</td><td>193</td><td>Cristiano Ronaldo</td><td>81</td><td>274</td><td>274</td></tr>",
                            "<tr><td>Ariana Grande</td><td>168</td><td>Ariana Grande</td><td>68</td><td>236</td><td>236</td></tr>",
                            "<tr><td>Justin Bieber</td><td>122</td><td>Justin Bieber</td><td>107</td><td>229</td><td>229</td></tr>",
                            "<tr><td>Selena Gomez</td><td>163</td><td>Selena Gomez</td><td>59</td><td>222</td><td>222</td></tr>",
                            "<tr><td>Kim Kardashian</td><td>154</td><td>Kim Kardashian</td><td>62</td><td>216</td><td>216</td></tr>",
                            "<tr><td>Taylor Swift</td><td>124</td><td>Taylor Swift</td><td>85</td><td>209</td><td>209</td></tr>",
                            "<tr><td>Katy Perry</td><td>87</td><td>Katy Perry</td><td>108</td><td>195</td><td>195</td></tr>",
                            "<tr><td>Neymar</td><td>129</td><td>Neymar</td><td>45</td><td>174</td><td>174</td></tr>",
                            "<tr><td>Rihanna</td><td>77</td><td>Rihanna</td><td>95</td><td>172</td><td>172</td></tr>",
                            "<tr><td>Dwayne Johnson</td><td>164</td><td>NULL</td><td>NULL</td><td>NULL</td><td>164</td></tr>",
                            "<tr><td>Ellen DeGeneres</td><td>80</td><td>Ellen DeGeneres</td><td>79</td><td>159</td><td>159</td></tr>",
                            "<tr><td>Kylie Jenner</td><td>153</td><td>NULL</td><td>NULL</td><td>NULL</td><td>153</td></tr>",
                            "<tr><td>Jennifer Lopez</td><td>107</td><td>Jennifer Lopez</td><td>44</td><td>151</td><td>151</td></tr>",
                            "<tr><td>Miley Cyrus</td><td>102</td><td>Miley Cyrus</td><td>45</td><td>147</td><td>147</td></tr>",
                            "<tr><td>Lionel Messi</td><td>138</td><td>NULL</td><td>NULL</td><td>NULL</td><td>138</td></tr>",
                            "<tr><td>Beyoncé</td><td>136</td><td>NULL</td><td>NULL</td><td>NULL</td><td>136</td></tr>",
                            "<tr><td>National Geographic</td><td>128</td><td>NULL</td><td>NULL</td><td>NULL</td><td>128</td></tr>",
                            "<tr><td>Justin Timberlake</td><td>56</td><td>Justin Timberlake</td><td>65</td><td>121</td><td>121</td></tr>",
                            "<tr><td>Kendall Jenner</td><td>119</td><td>NULL</td><td>NULL</td><td>NULL</td><td>119</td></tr>",
                            "<tr><td>Kevin Hart</td><td>82</td><td>Kevin Hart</td><td>36</td><td>118</td><td>118</td></tr>",
                            "<tr><td>Real Madrid CF</td><td>81</td><td>Real Madrid CF</td><td>33</td><td>114</td><td>114</td></tr>",
                            "<tr><td>Shakira</td><td>60</td><td>Shakira</td><td>52</td><td>112</td><td>112</td></tr>",
                            "<tr><td>NULL</td><td>NULL</td><td>Barack Obama</td><td>111</td><td>NULL</td><td>111</td></tr>",
                            "<tr><td>FC Barcelona</td><td>80</td><td>FC Barcelona</td><td>31</td><td>111</td><td>111</td></tr>",
                            "<tr><td>Nicki Minaj</td><td>108</td><td>NULL</td><td>NULL</td><td>NULL</td><td>108</td></tr>",
                            "<tr><td>Khloé Kardashian</td><td>101</td><td>NULL</td><td>NULL</td><td>NULL</td><td>101</td></tr>",
                            "<tr><td>Drake</td><td>62</td><td>Drake</td><td>39</td><td>101</td><td>101</td></tr>",
                            "<tr><td>LeBron James</td><td>53</td><td>LeBron James</td><td>44</td><td>97</td><td>97</td></tr>",
                            "<tr><td>Nike</td><td>96</td><td>NULL</td><td>NULL</td><td>NULL</td><td>96</td></tr>",
                            "<tr><td>NASA</td><td>51</td><td>NASA</td><td>34</td><td>85</td><td>85</td></tr>",
                            "<tr><td>Kourtney Kardashian</td><td>84</td><td>NULL</td><td>NULL</td><td>NULL</td><td>84</td></tr>",
                            "<tr><td>NULL</td><td>NULL</td><td>Lady Gaga</td><td>80</td><td>NULL</td><td>80</td></tr>",
                            "<tr><td>Virat Kohli</td><td>45</td><td>Virat Kohli</td><td>33</td><td>78</td><td>78</td></tr>",
                            "<tr><td>Demi Lovato</td><td>75</td><td>NULL</td><td>NULL</td><td>NULL</td><td>75</td></tr>",
                            "<tr><td>NULL</td><td>NULL</td><td>YouTube</td><td>72</td><td>NULL</td><td>72</td></tr>",
                            "<tr><td>NULL</td><td>NULL</td><td>Donald Trump</td><td>68</td><td>NULL</td><td>68</td></tr>",
                            "<tr><td>Victoria's Secret</td><td>68</td><td>NULL</td><td>NULL</td><td>NULL</td><td>68</td></tr>",
                            "<tr><td>Zendaya</td><td>64</td><td>NULL</td><td>NULL</td><td>NULL</td><td>64</td></tr>",
                            "<tr><td>David Beckham</td><td>59</td><td>NULL</td><td>NULL</td><td>NULL</td><td>59</td></tr>",
                            "<tr><td>Vin Diesel</td><td>59</td><td>NULL</td><td>NULL</td><td>NULL</td><td>59</td></tr>",
                            "<tr><td>Chris Brown</td><td>58</td><td>NULL</td><td>NULL</td><td>NULL</td><td>58</td></tr>",
                            "<tr><td>NULL</td><td>NULL</td><td>Twitter</td><td>57</td><td>NULL</td><td>57</td></tr>",
                            "<tr><td>NULL</td><td>NULL</td><td>CNN Breaking News</td><td>56</td><td>NULL</td><td>56</td></tr>",
                            "<tr><td>NULL</td><td>NULL</td><td>Britney Spears</td><td>56</td><td>NULL</td><td>56</td></tr>",
                            "<tr><td>Cardi B</td><td>55</td><td>NULL</td><td>NULL</td><td>NULL</td><td>55</td></tr>",
                            "<tr><td>Shawn Mendes</td><td>54</td><td>NULL</td><td>NULL</td><td>NULL</td><td>54</td></tr>",
                            "<tr><td>Emma Watson</td><td>52</td><td>NULL</td><td>NULL</td><td>NULL</td><td>52</td></tr>",
                            "<tr><td>UEFA Champions League</td><td>52</td><td>NULL</td><td>NULL</td><td>NULL</td><td>52</td></tr>",
                            "<tr><td>NULL</td><td>NULL</td><td>Narendra Modi</td><td>52</td><td>NULL</td><td>52</td></tr>",
                            "<tr><td>NULL</td><td>NULL</td><td>Jimmy Fallon</td><td>51</td><td>NULL</td><td>51</td></tr>",
                            "<tr><td>9GAG</td><td>51</td><td>NULL</td><td>NULL</td><td>NULL</td><td>51</td></tr>",
                            "<tr><td>Ronaldinho</td><td>50</td><td>NULL</td><td>NULL</td><td>NULL</td><td>50</td></tr>",
                            "<tr><td>Gigi Hadid</td><td>50</td><td>NULL</td><td>NULL</td><td>NULL</td><td>50</td></tr>",
                            "<tr><td>NULL</td><td>NULL</td><td>Bill Gates</td><td>49</td><td>NULL</td><td>49</td></tr>",
                            "<tr><td>Maluma</td><td>48</td><td>NULL</td><td>NULL</td><td>NULL</td><td>48</td></tr>",
                            "<tr><td>Priyanka Chopra Jonas</td><td>47</td><td>NULL</td><td>NULL</td><td>NULL</td><td>47</td></tr>",
                            "<tr><td>NULL</td><td>NULL</td><td>The New York Times</td><td>45</td><td>NULL</td><td>45</td></tr>",
                            "<tr><td>Camila Cabello</td><td>44</td><td>NULL</td><td>NULL</td><td>NULL</td><td>44</td></tr>",
                            "<tr><td>James Rodríguez</td><td>44</td><td>NULL</td><td>NULL</td><td>NULL</td><td>44</td></tr>",
                            "<tr><td>NULL</td><td>NULL</td><td>CNN</td><td>44</td><td>NULL</td><td>44</td></tr>",
                            "<tr><td>Billie Eilish</td><td>44</td><td>NULL</td><td>NULL</td><td>NULL</td><td>44</td></tr>",
                            "<tr><td>NULL</td><td>NULL</td><td>Bruno Mars</td><td>43</td><td>NULL</td><td>43</td></tr>",
                            "<tr><td>NULL</td><td>NULL</td><td>Oprah Winfrey</td><td>43</td><td>NULL</td><td>43</td></tr>",
                            "<tr><td>NULL</td><td>NULL</td><td>BBC Breaking News</td><td>41</td><td>NULL</td><td>41</td></tr>",
                            "<tr><td>NULL</td><td>NULL</td><td>Salman Khan</td><td>39</td><td>NULL</td><td>39</td></tr>",
                            "<tr><td>NULL</td><td>NULL</td><td>Niall Horan</td><td>39</td><td>NULL</td><td>39</td></tr>",
                            "<tr><td>NULL</td><td>NULL</td><td>Amitabh Bachchan</td><td>39</td><td>NULL</td><td>39</td></tr>",
                            "<tr><td>NULL</td><td>NULL</td><td>Shah Rukh Khan</td><td>39</td><td>NULL</td><td>39</td></tr>",
                            "<tr><td>NULL</td><td>NULL</td><td>SportsCenter</td><td>36</td><td>NULL</td><td>36</td></tr>",
                            "<tr><td>NULL</td><td>NULL</td><td>ESPN</td><td>35</td><td>NULL</td><td>35</td></tr>",
                            "<tr><td>NULL</td><td>NULL</td><td>Wiz Khalifa</td><td>35</td><td>NULL</td><td>35</td></tr>",
                            "<tr><td>NULL</td><td>NULL</td><td>Harry Styles</td><td>34</td><td>NULL</td><td>34</td></tr>",
                            "<tr><td>NULL</td><td>NULL</td><td>Lil Wayne</td><td>34</td><td>NULL</td><td>34</td></tr>",
                            "<tr><td>NULL</td><td>NULL</td><td>Louis Tomlinson</td><td>33</td><td>NULL</td><td>33</td></tr>",
                            "<tr><td>NULL</td><td>NULL</td><td>Liam Payne</td><td>33</td><td>NULL</td><td>33</td></tr>",
                            "<tr><td>NULL</td><td>NULL</td><td>Akshay Kumar</td><td>33</td><td>NULL</td><td>33</td></tr>",
                            "<tr><td>NULL</td><td>NULL</td><td>P!nk</td><td>32</td><td>NULL</td><td>32</td></tr>",
                            "</table>"
                        ]
                    }
                }
            ],
            "execution_count": 24
        },
        {
            "cell_type": "code",
            "source": [
                "select owner from instagram\n",
                "union\n",
                "select owner from twitter"
            ],
            "metadata": {
                "azdata_cell_guid": "e8027219-b025-434c-8595-cc2e8fbfc805"
            },
            "outputs": [
                {
                    "output_type": "display_data",
                    "data": {
                        "text/html": "(78 row(s) affected)"
                    },
                    "metadata": {}
                },
                {
                    "output_type": "display_data",
                    "data": {
                        "text/html": "Total execution time: 00:00:00.008"
                    },
                    "metadata": {}
                },
                {
                    "output_type": "execute_result",
                    "metadata": {},
                    "execution_count": 25,
                    "data": {
                        "application/vnd.dataresource+json": {
                            "schema": {
                                "fields": [
                                    {
                                        "name": "owner"
                                    }
                                ]
                            },
                            "data": [
                                {
                                    "0": "Shawn Mendes"
                                },
                                {
                                    "0": "Niall Horan"
                                },
                                {
                                    "0": "Shakira"
                                },
                                {
                                    "0": "Ellen DeGeneres"
                                },
                                {
                                    "0": "Jennifer Lopez"
                                },
                                {
                                    "0": "Lil Wayne"
                                },
                                {
                                    "0": "Neymar"
                                },
                                {
                                    "0": "Billie Eilish"
                                },
                                {
                                    "0": "Priyanka Chopra Jonas"
                                },
                                {
                                    "0": "Akshay Kumar"
                                },
                                {
                                    "0": "Virat Kohli"
                                },
                                {
                                    "0": "CNN Breaking News"
                                },
                                {
                                    "0": "Katy Perry"
                                },
                                {
                                    "0": "Instagram"
                                },
                                {
                                    "0": "Victoria's Secret"
                                },
                                {
                                    "0": "Bruno Mars"
                                },
                                {
                                    "0": "The New York Times"
                                },
                                {
                                    "0": "Kylie Jenner"
                                },
                                {
                                    "0": "Salman Khan"
                                },
                                {
                                    "0": "Dwayne Johnson"
                                },
                                {
                                    "0": "BBC Breaking News"
                                },
                                {
                                    "0": "ESPN"
                                },
                                {
                                    "0": "Cristiano Ronaldo"
                                },
                                {
                                    "0": "Barack Obama"
                                },
                                {
                                    "0": "Narendra Modi"
                                },
                                {
                                    "0": "Louis Tomlinson"
                                },
                                {
                                    "0": "Drake"
                                },
                                {
                                    "0": "Maluma"
                                },
                                {
                                    "0": "Kim Kardashian"
                                },
                                {
                                    "0": "Zendaya"
                                },
                                {
                                    "0": "YouTube"
                                },
                                {
                                    "0": "FC Barcelona"
                                },
                                {
                                    "0": "Lionel Messi"
                                },
                                {
                                    "0": "Selena Gomez"
                                },
                                {
                                    "0": "SportsCenter"
                                },
                                {
                                    "0": "Kourtney Kardashian"
                                },
                                {
                                    "0": "Shah Rukh Khan"
                                },
                                {
                                    "0": "Ronaldinho"
                                },
                                {
                                    "0": "LeBron James"
                                },
                                {
                                    "0": "Rihanna"
                                },
                                {
                                    "0": "Chris Brown"
                                },
                                {
                                    "0": "Lady Gaga"
                                },
                                {
                                    "0": "Cardi B"
                                },
                                {
                                    "0": "Amitabh Bachchan"
                                },
                                {
                                    "0": "Miley Cyrus"
                                },
                                {
                                    "0": "Bill Gates"
                                },
                                {
                                    "0": "National Geographic"
                                },
                                {
                                    "0": "Taylor Swift"
                                },
                                {
                                    "0": "UEFA Champions League"
                                },
                                {
                                    "0": "Khloé Kardashian"
                                },
                                {
                                    "0": "Demi Lovato"
                                },
                                {
                                    "0": "James Rodríguez"
                                },
                                {
                                    "0": "CNN"
                                },
                                {
                                    "0": "Emma Watson"
                                },
                                {
                                    "0": "Nicki Minaj"
                                },
                                {
                                    "0": "Harry Styles"
                                },
                                {
                                    "0": "Liam Payne"
                                },
                                {
                                    "0": "Twitter"
                                },
                                {
                                    "0": "Jimmy Fallon"
                                },
                                {
                                    "0": "Britney Spears"
                                },
                                {
                                    "0": "Vin Diesel"
                                },
                                {
                                    "0": "Real Madrid CF"
                                },
                                {
                                    "0": "Oprah Winfrey"
                                },
                                {
                                    "0": "P!nk"
                                },
                                {
                                    "0": "Donald Trump"
                                },
                                {
                                    "0": "Kendall Jenner"
                                },
                                {
                                    "0": "9GAG"
                                },
                                {
                                    "0": "NASA"
                                },
                                {
                                    "0": "Justin Bieber"
                                },
                                {
                                    "0": "Ariana Grande"
                                },
                                {
                                    "0": "Gigi Hadid"
                                },
                                {
                                    "0": "Camila Cabello"
                                },
                                {
                                    "0": "Wiz Khalifa"
                                },
                                {
                                    "0": "Beyoncé"
                                },
                                {
                                    "0": "David Beckham"
                                },
                                {
                                    "0": "Kevin Hart"
                                },
                                {
                                    "0": "Nike"
                                },
                                {
                                    "0": "Justin Timberlake"
                                }
                            ]
                        },
                        "text/html": [
                            "<table>",
                            "<tr><th>owner</th></tr>",
                            "<tr><td>Shawn Mendes</td></tr>",
                            "<tr><td>Niall Horan</td></tr>",
                            "<tr><td>Shakira</td></tr>",
                            "<tr><td>Ellen DeGeneres</td></tr>",
                            "<tr><td>Jennifer Lopez</td></tr>",
                            "<tr><td>Lil Wayne</td></tr>",
                            "<tr><td>Neymar</td></tr>",
                            "<tr><td>Billie Eilish</td></tr>",
                            "<tr><td>Priyanka Chopra Jonas</td></tr>",
                            "<tr><td>Akshay Kumar</td></tr>",
                            "<tr><td>Virat Kohli</td></tr>",
                            "<tr><td>CNN Breaking News</td></tr>",
                            "<tr><td>Katy Perry</td></tr>",
                            "<tr><td>Instagram</td></tr>",
                            "<tr><td>Victoria's Secret</td></tr>",
                            "<tr><td>Bruno Mars</td></tr>",
                            "<tr><td>The New York Times</td></tr>",
                            "<tr><td>Kylie Jenner</td></tr>",
                            "<tr><td>Salman Khan</td></tr>",
                            "<tr><td>Dwayne Johnson</td></tr>",
                            "<tr><td>BBC Breaking News</td></tr>",
                            "<tr><td>ESPN</td></tr>",
                            "<tr><td>Cristiano Ronaldo</td></tr>",
                            "<tr><td>Barack Obama</td></tr>",
                            "<tr><td>Narendra Modi</td></tr>",
                            "<tr><td>Louis Tomlinson</td></tr>",
                            "<tr><td>Drake</td></tr>",
                            "<tr><td>Maluma</td></tr>",
                            "<tr><td>Kim Kardashian</td></tr>",
                            "<tr><td>Zendaya</td></tr>",
                            "<tr><td>YouTube</td></tr>",
                            "<tr><td>FC Barcelona</td></tr>",
                            "<tr><td>Lionel Messi</td></tr>",
                            "<tr><td>Selena Gomez</td></tr>",
                            "<tr><td>SportsCenter</td></tr>",
                            "<tr><td>Kourtney Kardashian</td></tr>",
                            "<tr><td>Shah Rukh Khan</td></tr>",
                            "<tr><td>Ronaldinho</td></tr>",
                            "<tr><td>LeBron James</td></tr>",
                            "<tr><td>Rihanna</td></tr>",
                            "<tr><td>Chris Brown</td></tr>",
                            "<tr><td>Lady Gaga</td></tr>",
                            "<tr><td>Cardi B</td></tr>",
                            "<tr><td>Amitabh Bachchan</td></tr>",
                            "<tr><td>Miley Cyrus</td></tr>",
                            "<tr><td>Bill Gates</td></tr>",
                            "<tr><td>National Geographic</td></tr>",
                            "<tr><td>Taylor Swift</td></tr>",
                            "<tr><td>UEFA Champions League</td></tr>",
                            "<tr><td>Khloé Kardashian</td></tr>",
                            "<tr><td>Demi Lovato</td></tr>",
                            "<tr><td>James Rodríguez</td></tr>",
                            "<tr><td>CNN</td></tr>",
                            "<tr><td>Emma Watson</td></tr>",
                            "<tr><td>Nicki Minaj</td></tr>",
                            "<tr><td>Harry Styles</td></tr>",
                            "<tr><td>Liam Payne</td></tr>",
                            "<tr><td>Twitter</td></tr>",
                            "<tr><td>Jimmy Fallon</td></tr>",
                            "<tr><td>Britney Spears</td></tr>",
                            "<tr><td>Vin Diesel</td></tr>",
                            "<tr><td>Real Madrid CF</td></tr>",
                            "<tr><td>Oprah Winfrey</td></tr>",
                            "<tr><td>P!nk</td></tr>",
                            "<tr><td>Donald Trump</td></tr>",
                            "<tr><td>Kendall Jenner</td></tr>",
                            "<tr><td>9GAG</td></tr>",
                            "<tr><td>NASA</td></tr>",
                            "<tr><td>Justin Bieber</td></tr>",
                            "<tr><td>Ariana Grande</td></tr>",
                            "<tr><td>Gigi Hadid</td></tr>",
                            "<tr><td>Camila Cabello</td></tr>",
                            "<tr><td>Wiz Khalifa</td></tr>",
                            "<tr><td>Beyoncé</td></tr>",
                            "<tr><td>David Beckham</td></tr>",
                            "<tr><td>Kevin Hart</td></tr>",
                            "<tr><td>Nike</td></tr>",
                            "<tr><td>Justin Timberlake</td></tr>",
                            "</table>"
                        ]
                    }
                }
            ],
            "execution_count": 25
        },
        {
            "cell_type": "markdown",
            "source": [
                "# FULL JOIN"
            ],
            "metadata": {
                "azdata_cell_guid": "164efb90-2467-49f1-a69a-7bf13a063af7"
            }
        },
        {
            "cell_type": "code",
            "source": [
                "select i.owner ig_owner, i.followers_mil ig_followers, t.owner tw_owner, t.followers_mil tw_followers,\n",
                "    i.followers_mil + t.followers_mil total,\n",
                "    COALESCE(i.followers_mil, 0) + COALESCE(t.followers_mil, 0) total_correct\n",
                "    from instagram i full join twitter t on i.owner = t.owner\n",
                "    ORDER BY total_correct desc;"
            ],
            "metadata": {
                "azdata_cell_guid": "23b3c69d-be43-4aa1-ab68-47606d074feb",
                "tags": []
            },
            "outputs": [
                {
                    "output_type": "display_data",
                    "data": {
                        "text/html": "(78 row(s) affected)"
                    },
                    "metadata": {}
                },
                {
                    "output_type": "display_data",
                    "data": {
                        "text/html": "Total execution time: 00:00:00.011"
                    },
                    "metadata": {}
                },
                {
                    "output_type": "execute_result",
                    "metadata": {},
                    "execution_count": 26,
                    "data": {
                        "application/vnd.dataresource+json": {
                            "schema": {
                                "fields": [
                                    {
                                        "name": "ig_owner"
                                    },
                                    {
                                        "name": "ig_followers"
                                    },
                                    {
                                        "name": "tw_owner"
                                    },
                                    {
                                        "name": "tw_followers"
                                    },
                                    {
                                        "name": "total"
                                    },
                                    {
                                        "name": "total_correct"
                                    }
                                ]
                            },
                            "data": [
                                {
                                    "0": "Instagram",
                                    "1": "321",
                                    "2": "Instagram",
                                    "3": "36",
                                    "4": "357",
                                    "5": "357"
                                },
                                {
                                    "0": "Cristiano Ronaldo",
                                    "1": "193",
                                    "2": "Cristiano Ronaldo",
                                    "3": "81",
                                    "4": "274",
                                    "5": "274"
                                },
                                {
                                    "0": "Ariana Grande",
                                    "1": "168",
                                    "2": "Ariana Grande",
                                    "3": "68",
                                    "4": "236",
                                    "5": "236"
                                },
                                {
                                    "0": "Justin Bieber",
                                    "1": "122",
                                    "2": "Justin Bieber",
                                    "3": "107",
                                    "4": "229",
                                    "5": "229"
                                },
                                {
                                    "0": "Selena Gomez",
                                    "1": "163",
                                    "2": "Selena Gomez",
                                    "3": "59",
                                    "4": "222",
                                    "5": "222"
                                },
                                {
                                    "0": "Kim Kardashian",
                                    "1": "154",
                                    "2": "Kim Kardashian",
                                    "3": "62",
                                    "4": "216",
                                    "5": "216"
                                },
                                {
                                    "0": "Taylor Swift",
                                    "1": "124",
                                    "2": "Taylor Swift",
                                    "3": "85",
                                    "4": "209",
                                    "5": "209"
                                },
                                {
                                    "0": "Katy Perry",
                                    "1": "87",
                                    "2": "Katy Perry",
                                    "3": "108",
                                    "4": "195",
                                    "5": "195"
                                },
                                {
                                    "0": "Neymar",
                                    "1": "129",
                                    "2": "Neymar",
                                    "3": "45",
                                    "4": "174",
                                    "5": "174"
                                },
                                {
                                    "0": "Rihanna",
                                    "1": "77",
                                    "2": "Rihanna",
                                    "3": "95",
                                    "4": "172",
                                    "5": "172"
                                },
                                {
                                    "0": "Dwayne Johnson",
                                    "1": "164",
                                    "2": "NULL",
                                    "3": "NULL",
                                    "4": "NULL",
                                    "5": "164"
                                },
                                {
                                    "0": "Ellen DeGeneres",
                                    "1": "80",
                                    "2": "Ellen DeGeneres",
                                    "3": "79",
                                    "4": "159",
                                    "5": "159"
                                },
                                {
                                    "0": "Kylie Jenner",
                                    "1": "153",
                                    "2": "NULL",
                                    "3": "NULL",
                                    "4": "NULL",
                                    "5": "153"
                                },
                                {
                                    "0": "Jennifer Lopez",
                                    "1": "107",
                                    "2": "Jennifer Lopez",
                                    "3": "44",
                                    "4": "151",
                                    "5": "151"
                                },
                                {
                                    "0": "Miley Cyrus",
                                    "1": "102",
                                    "2": "Miley Cyrus",
                                    "3": "45",
                                    "4": "147",
                                    "5": "147"
                                },
                                {
                                    "0": "Lionel Messi",
                                    "1": "138",
                                    "2": "NULL",
                                    "3": "NULL",
                                    "4": "NULL",
                                    "5": "138"
                                },
                                {
                                    "0": "Beyoncé",
                                    "1": "136",
                                    "2": "NULL",
                                    "3": "NULL",
                                    "4": "NULL",
                                    "5": "136"
                                },
                                {
                                    "0": "National Geographic",
                                    "1": "128",
                                    "2": "NULL",
                                    "3": "NULL",
                                    "4": "NULL",
                                    "5": "128"
                                },
                                {
                                    "0": "Justin Timberlake",
                                    "1": "56",
                                    "2": "Justin Timberlake",
                                    "3": "65",
                                    "4": "121",
                                    "5": "121"
                                },
                                {
                                    "0": "Kendall Jenner",
                                    "1": "119",
                                    "2": "NULL",
                                    "3": "NULL",
                                    "4": "NULL",
                                    "5": "119"
                                },
                                {
                                    "0": "Kevin Hart",
                                    "1": "82",
                                    "2": "Kevin Hart",
                                    "3": "36",
                                    "4": "118",
                                    "5": "118"
                                },
                                {
                                    "0": "Real Madrid CF",
                                    "1": "81",
                                    "2": "Real Madrid CF",
                                    "3": "33",
                                    "4": "114",
                                    "5": "114"
                                },
                                {
                                    "0": "Shakira",
                                    "1": "60",
                                    "2": "Shakira",
                                    "3": "52",
                                    "4": "112",
                                    "5": "112"
                                },
                                {
                                    "0": "NULL",
                                    "1": "NULL",
                                    "2": "Barack Obama",
                                    "3": "111",
                                    "4": "NULL",
                                    "5": "111"
                                },
                                {
                                    "0": "FC Barcelona",
                                    "1": "80",
                                    "2": "FC Barcelona",
                                    "3": "31",
                                    "4": "111",
                                    "5": "111"
                                },
                                {
                                    "0": "Nicki Minaj",
                                    "1": "108",
                                    "2": "NULL",
                                    "3": "NULL",
                                    "4": "NULL",
                                    "5": "108"
                                },
                                {
                                    "0": "Khloé Kardashian",
                                    "1": "101",
                                    "2": "NULL",
                                    "3": "NULL",
                                    "4": "NULL",
                                    "5": "101"
                                },
                                {
                                    "0": "Drake",
                                    "1": "62",
                                    "2": "Drake",
                                    "3": "39",
                                    "4": "101",
                                    "5": "101"
                                },
                                {
                                    "0": "LeBron James",
                                    "1": "53",
                                    "2": "LeBron James",
                                    "3": "44",
                                    "4": "97",
                                    "5": "97"
                                },
                                {
                                    "0": "Nike",
                                    "1": "96",
                                    "2": "NULL",
                                    "3": "NULL",
                                    "4": "NULL",
                                    "5": "96"
                                },
                                {
                                    "0": "NASA",
                                    "1": "51",
                                    "2": "NASA",
                                    "3": "34",
                                    "4": "85",
                                    "5": "85"
                                },
                                {
                                    "0": "Kourtney Kardashian",
                                    "1": "84",
                                    "2": "NULL",
                                    "3": "NULL",
                                    "4": "NULL",
                                    "5": "84"
                                },
                                {
                                    "0": "NULL",
                                    "1": "NULL",
                                    "2": "Lady Gaga",
                                    "3": "80",
                                    "4": "NULL",
                                    "5": "80"
                                },
                                {
                                    "0": "Virat Kohli",
                                    "1": "45",
                                    "2": "Virat Kohli",
                                    "3": "33",
                                    "4": "78",
                                    "5": "78"
                                },
                                {
                                    "0": "Demi Lovato",
                                    "1": "75",
                                    "2": "NULL",
                                    "3": "NULL",
                                    "4": "NULL",
                                    "5": "75"
                                },
                                {
                                    "0": "NULL",
                                    "1": "NULL",
                                    "2": "YouTube",
                                    "3": "72",
                                    "4": "NULL",
                                    "5": "72"
                                },
                                {
                                    "0": "NULL",
                                    "1": "NULL",
                                    "2": "Donald Trump",
                                    "3": "68",
                                    "4": "NULL",
                                    "5": "68"
                                },
                                {
                                    "0": "Victoria's Secret",
                                    "1": "68",
                                    "2": "NULL",
                                    "3": "NULL",
                                    "4": "NULL",
                                    "5": "68"
                                },
                                {
                                    "0": "Zendaya",
                                    "1": "64",
                                    "2": "NULL",
                                    "3": "NULL",
                                    "4": "NULL",
                                    "5": "64"
                                },
                                {
                                    "0": "Vin Diesel",
                                    "1": "59",
                                    "2": "NULL",
                                    "3": "NULL",
                                    "4": "NULL",
                                    "5": "59"
                                },
                                {
                                    "0": "David Beckham",
                                    "1": "59",
                                    "2": "NULL",
                                    "3": "NULL",
                                    "4": "NULL",
                                    "5": "59"
                                },
                                {
                                    "0": "Chris Brown",
                                    "1": "58",
                                    "2": "NULL",
                                    "3": "NULL",
                                    "4": "NULL",
                                    "5": "58"
                                },
                                {
                                    "0": "NULL",
                                    "1": "NULL",
                                    "2": "Twitter",
                                    "3": "57",
                                    "4": "NULL",
                                    "5": "57"
                                },
                                {
                                    "0": "NULL",
                                    "1": "NULL",
                                    "2": "CNN Breaking News",
                                    "3": "56",
                                    "4": "NULL",
                                    "5": "56"
                                },
                                {
                                    "0": "NULL",
                                    "1": "NULL",
                                    "2": "Britney Spears",
                                    "3": "56",
                                    "4": "NULL",
                                    "5": "56"
                                },
                                {
                                    "0": "Cardi B",
                                    "1": "55",
                                    "2": "NULL",
                                    "3": "NULL",
                                    "4": "NULL",
                                    "5": "55"
                                },
                                {
                                    "0": "Shawn Mendes",
                                    "1": "54",
                                    "2": "NULL",
                                    "3": "NULL",
                                    "4": "NULL",
                                    "5": "54"
                                },
                                {
                                    "0": "UEFA Champions League",
                                    "1": "52",
                                    "2": "NULL",
                                    "3": "NULL",
                                    "4": "NULL",
                                    "5": "52"
                                },
                                {
                                    "0": "Emma Watson",
                                    "1": "52",
                                    "2": "NULL",
                                    "3": "NULL",
                                    "4": "NULL",
                                    "5": "52"
                                },
                                {
                                    "0": "NULL",
                                    "1": "NULL",
                                    "2": "Narendra Modi",
                                    "3": "52",
                                    "4": "NULL",
                                    "5": "52"
                                },
                                {
                                    "0": "9GAG",
                                    "1": "51",
                                    "2": "NULL",
                                    "3": "NULL",
                                    "4": "NULL",
                                    "5": "51"
                                },
                                {
                                    "0": "NULL",
                                    "1": "NULL",
                                    "2": "Jimmy Fallon",
                                    "3": "51",
                                    "4": "NULL",
                                    "5": "51"
                                },
                                {
                                    "0": "Ronaldinho",
                                    "1": "50",
                                    "2": "NULL",
                                    "3": "NULL",
                                    "4": "NULL",
                                    "5": "50"
                                },
                                {
                                    "0": "Gigi Hadid",
                                    "1": "50",
                                    "2": "NULL",
                                    "3": "NULL",
                                    "4": "NULL",
                                    "5": "50"
                                },
                                {
                                    "0": "NULL",
                                    "1": "NULL",
                                    "2": "Bill Gates",
                                    "3": "49",
                                    "4": "NULL",
                                    "5": "49"
                                },
                                {
                                    "0": "Maluma",
                                    "1": "48",
                                    "2": "NULL",
                                    "3": "NULL",
                                    "4": "NULL",
                                    "5": "48"
                                },
                                {
                                    "0": "Priyanka Chopra Jonas",
                                    "1": "47",
                                    "2": "NULL",
                                    "3": "NULL",
                                    "4": "NULL",
                                    "5": "47"
                                },
                                {
                                    "0": "NULL",
                                    "1": "NULL",
                                    "2": "The New York Times",
                                    "3": "45",
                                    "4": "NULL",
                                    "5": "45"
                                },
                                {
                                    "0": "James Rodríguez",
                                    "1": "44",
                                    "2": "NULL",
                                    "3": "NULL",
                                    "4": "NULL",
                                    "5": "44"
                                },
                                {
                                    "0": "Billie Eilish",
                                    "1": "44",
                                    "2": "NULL",
                                    "3": "NULL",
                                    "4": "NULL",
                                    "5": "44"
                                },
                                {
                                    "0": "NULL",
                                    "1": "NULL",
                                    "2": "CNN",
                                    "3": "44",
                                    "4": "NULL",
                                    "5": "44"
                                },
                                {
                                    "0": "Camila Cabello",
                                    "1": "44",
                                    "2": "NULL",
                                    "3": "NULL",
                                    "4": "NULL",
                                    "5": "44"
                                },
                                {
                                    "0": "NULL",
                                    "1": "NULL",
                                    "2": "Oprah Winfrey",
                                    "3": "43",
                                    "4": "NULL",
                                    "5": "43"
                                },
                                {
                                    "0": "NULL",
                                    "1": "NULL",
                                    "2": "Bruno Mars",
                                    "3": "43",
                                    "4": "NULL",
                                    "5": "43"
                                },
                                {
                                    "0": "NULL",
                                    "1": "NULL",
                                    "2": "BBC Breaking News",
                                    "3": "41",
                                    "4": "NULL",
                                    "5": "41"
                                },
                                {
                                    "0": "NULL",
                                    "1": "NULL",
                                    "2": "Shah Rukh Khan",
                                    "3": "39",
                                    "4": "NULL",
                                    "5": "39"
                                },
                                {
                                    "0": "NULL",
                                    "1": "NULL",
                                    "2": "Amitabh Bachchan",
                                    "3": "39",
                                    "4": "NULL",
                                    "5": "39"
                                },
                                {
                                    "0": "NULL",
                                    "1": "NULL",
                                    "2": "Niall Horan",
                                    "3": "39",
                                    "4": "NULL",
                                    "5": "39"
                                },
                                {
                                    "0": "NULL",
                                    "1": "NULL",
                                    "2": "Salman Khan",
                                    "3": "39",
                                    "4": "NULL",
                                    "5": "39"
                                },
                                {
                                    "0": "NULL",
                                    "1": "NULL",
                                    "2": "SportsCenter",
                                    "3": "36",
                                    "4": "NULL",
                                    "5": "36"
                                },
                                {
                                    "0": "NULL",
                                    "1": "NULL",
                                    "2": "ESPN",
                                    "3": "35",
                                    "4": "NULL",
                                    "5": "35"
                                },
                                {
                                    "0": "NULL",
                                    "1": "NULL",
                                    "2": "Wiz Khalifa",
                                    "3": "35",
                                    "4": "NULL",
                                    "5": "35"
                                },
                                {
                                    "0": "NULL",
                                    "1": "NULL",
                                    "2": "Lil Wayne",
                                    "3": "34",
                                    "4": "NULL",
                                    "5": "34"
                                },
                                {
                                    "0": "NULL",
                                    "1": "NULL",
                                    "2": "Harry Styles",
                                    "3": "34",
                                    "4": "NULL",
                                    "5": "34"
                                },
                                {
                                    "0": "NULL",
                                    "1": "NULL",
                                    "2": "Louis Tomlinson",
                                    "3": "33",
                                    "4": "NULL",
                                    "5": "33"
                                },
                                {
                                    "0": "NULL",
                                    "1": "NULL",
                                    "2": "Liam Payne",
                                    "3": "33",
                                    "4": "NULL",
                                    "5": "33"
                                },
                                {
                                    "0": "NULL",
                                    "1": "NULL",
                                    "2": "Akshay Kumar",
                                    "3": "33",
                                    "4": "NULL",
                                    "5": "33"
                                },
                                {
                                    "0": "NULL",
                                    "1": "NULL",
                                    "2": "P!nk",
                                    "3": "32",
                                    "4": "NULL",
                                    "5": "32"
                                }
                            ]
                        },
                        "text/html": [
                            "<table>",
                            "<tr><th>ig_owner</th><th>ig_followers</th><th>tw_owner</th><th>tw_followers</th><th>total</th><th>total_correct</th></tr>",
                            "<tr><td>Instagram</td><td>321</td><td>Instagram</td><td>36</td><td>357</td><td>357</td></tr>",
                            "<tr><td>Cristiano Ronaldo</td><td>193</td><td>Cristiano Ronaldo</td><td>81</td><td>274</td><td>274</td></tr>",
                            "<tr><td>Ariana Grande</td><td>168</td><td>Ariana Grande</td><td>68</td><td>236</td><td>236</td></tr>",
                            "<tr><td>Justin Bieber</td><td>122</td><td>Justin Bieber</td><td>107</td><td>229</td><td>229</td></tr>",
                            "<tr><td>Selena Gomez</td><td>163</td><td>Selena Gomez</td><td>59</td><td>222</td><td>222</td></tr>",
                            "<tr><td>Kim Kardashian</td><td>154</td><td>Kim Kardashian</td><td>62</td><td>216</td><td>216</td></tr>",
                            "<tr><td>Taylor Swift</td><td>124</td><td>Taylor Swift</td><td>85</td><td>209</td><td>209</td></tr>",
                            "<tr><td>Katy Perry</td><td>87</td><td>Katy Perry</td><td>108</td><td>195</td><td>195</td></tr>",
                            "<tr><td>Neymar</td><td>129</td><td>Neymar</td><td>45</td><td>174</td><td>174</td></tr>",
                            "<tr><td>Rihanna</td><td>77</td><td>Rihanna</td><td>95</td><td>172</td><td>172</td></tr>",
                            "<tr><td>Dwayne Johnson</td><td>164</td><td>NULL</td><td>NULL</td><td>NULL</td><td>164</td></tr>",
                            "<tr><td>Ellen DeGeneres</td><td>80</td><td>Ellen DeGeneres</td><td>79</td><td>159</td><td>159</td></tr>",
                            "<tr><td>Kylie Jenner</td><td>153</td><td>NULL</td><td>NULL</td><td>NULL</td><td>153</td></tr>",
                            "<tr><td>Jennifer Lopez</td><td>107</td><td>Jennifer Lopez</td><td>44</td><td>151</td><td>151</td></tr>",
                            "<tr><td>Miley Cyrus</td><td>102</td><td>Miley Cyrus</td><td>45</td><td>147</td><td>147</td></tr>",
                            "<tr><td>Lionel Messi</td><td>138</td><td>NULL</td><td>NULL</td><td>NULL</td><td>138</td></tr>",
                            "<tr><td>Beyoncé</td><td>136</td><td>NULL</td><td>NULL</td><td>NULL</td><td>136</td></tr>",
                            "<tr><td>National Geographic</td><td>128</td><td>NULL</td><td>NULL</td><td>NULL</td><td>128</td></tr>",
                            "<tr><td>Justin Timberlake</td><td>56</td><td>Justin Timberlake</td><td>65</td><td>121</td><td>121</td></tr>",
                            "<tr><td>Kendall Jenner</td><td>119</td><td>NULL</td><td>NULL</td><td>NULL</td><td>119</td></tr>",
                            "<tr><td>Kevin Hart</td><td>82</td><td>Kevin Hart</td><td>36</td><td>118</td><td>118</td></tr>",
                            "<tr><td>Real Madrid CF</td><td>81</td><td>Real Madrid CF</td><td>33</td><td>114</td><td>114</td></tr>",
                            "<tr><td>Shakira</td><td>60</td><td>Shakira</td><td>52</td><td>112</td><td>112</td></tr>",
                            "<tr><td>NULL</td><td>NULL</td><td>Barack Obama</td><td>111</td><td>NULL</td><td>111</td></tr>",
                            "<tr><td>FC Barcelona</td><td>80</td><td>FC Barcelona</td><td>31</td><td>111</td><td>111</td></tr>",
                            "<tr><td>Nicki Minaj</td><td>108</td><td>NULL</td><td>NULL</td><td>NULL</td><td>108</td></tr>",
                            "<tr><td>Khloé Kardashian</td><td>101</td><td>NULL</td><td>NULL</td><td>NULL</td><td>101</td></tr>",
                            "<tr><td>Drake</td><td>62</td><td>Drake</td><td>39</td><td>101</td><td>101</td></tr>",
                            "<tr><td>LeBron James</td><td>53</td><td>LeBron James</td><td>44</td><td>97</td><td>97</td></tr>",
                            "<tr><td>Nike</td><td>96</td><td>NULL</td><td>NULL</td><td>NULL</td><td>96</td></tr>",
                            "<tr><td>NASA</td><td>51</td><td>NASA</td><td>34</td><td>85</td><td>85</td></tr>",
                            "<tr><td>Kourtney Kardashian</td><td>84</td><td>NULL</td><td>NULL</td><td>NULL</td><td>84</td></tr>",
                            "<tr><td>NULL</td><td>NULL</td><td>Lady Gaga</td><td>80</td><td>NULL</td><td>80</td></tr>",
                            "<tr><td>Virat Kohli</td><td>45</td><td>Virat Kohli</td><td>33</td><td>78</td><td>78</td></tr>",
                            "<tr><td>Demi Lovato</td><td>75</td><td>NULL</td><td>NULL</td><td>NULL</td><td>75</td></tr>",
                            "<tr><td>NULL</td><td>NULL</td><td>YouTube</td><td>72</td><td>NULL</td><td>72</td></tr>",
                            "<tr><td>NULL</td><td>NULL</td><td>Donald Trump</td><td>68</td><td>NULL</td><td>68</td></tr>",
                            "<tr><td>Victoria's Secret</td><td>68</td><td>NULL</td><td>NULL</td><td>NULL</td><td>68</td></tr>",
                            "<tr><td>Zendaya</td><td>64</td><td>NULL</td><td>NULL</td><td>NULL</td><td>64</td></tr>",
                            "<tr><td>Vin Diesel</td><td>59</td><td>NULL</td><td>NULL</td><td>NULL</td><td>59</td></tr>",
                            "<tr><td>David Beckham</td><td>59</td><td>NULL</td><td>NULL</td><td>NULL</td><td>59</td></tr>",
                            "<tr><td>Chris Brown</td><td>58</td><td>NULL</td><td>NULL</td><td>NULL</td><td>58</td></tr>",
                            "<tr><td>NULL</td><td>NULL</td><td>Twitter</td><td>57</td><td>NULL</td><td>57</td></tr>",
                            "<tr><td>NULL</td><td>NULL</td><td>CNN Breaking News</td><td>56</td><td>NULL</td><td>56</td></tr>",
                            "<tr><td>NULL</td><td>NULL</td><td>Britney Spears</td><td>56</td><td>NULL</td><td>56</td></tr>",
                            "<tr><td>Cardi B</td><td>55</td><td>NULL</td><td>NULL</td><td>NULL</td><td>55</td></tr>",
                            "<tr><td>Shawn Mendes</td><td>54</td><td>NULL</td><td>NULL</td><td>NULL</td><td>54</td></tr>",
                            "<tr><td>UEFA Champions League</td><td>52</td><td>NULL</td><td>NULL</td><td>NULL</td><td>52</td></tr>",
                            "<tr><td>Emma Watson</td><td>52</td><td>NULL</td><td>NULL</td><td>NULL</td><td>52</td></tr>",
                            "<tr><td>NULL</td><td>NULL</td><td>Narendra Modi</td><td>52</td><td>NULL</td><td>52</td></tr>",
                            "<tr><td>9GAG</td><td>51</td><td>NULL</td><td>NULL</td><td>NULL</td><td>51</td></tr>",
                            "<tr><td>NULL</td><td>NULL</td><td>Jimmy Fallon</td><td>51</td><td>NULL</td><td>51</td></tr>",
                            "<tr><td>Ronaldinho</td><td>50</td><td>NULL</td><td>NULL</td><td>NULL</td><td>50</td></tr>",
                            "<tr><td>Gigi Hadid</td><td>50</td><td>NULL</td><td>NULL</td><td>NULL</td><td>50</td></tr>",
                            "<tr><td>NULL</td><td>NULL</td><td>Bill Gates</td><td>49</td><td>NULL</td><td>49</td></tr>",
                            "<tr><td>Maluma</td><td>48</td><td>NULL</td><td>NULL</td><td>NULL</td><td>48</td></tr>",
                            "<tr><td>Priyanka Chopra Jonas</td><td>47</td><td>NULL</td><td>NULL</td><td>NULL</td><td>47</td></tr>",
                            "<tr><td>NULL</td><td>NULL</td><td>The New York Times</td><td>45</td><td>NULL</td><td>45</td></tr>",
                            "<tr><td>James Rodríguez</td><td>44</td><td>NULL</td><td>NULL</td><td>NULL</td><td>44</td></tr>",
                            "<tr><td>Billie Eilish</td><td>44</td><td>NULL</td><td>NULL</td><td>NULL</td><td>44</td></tr>",
                            "<tr><td>NULL</td><td>NULL</td><td>CNN</td><td>44</td><td>NULL</td><td>44</td></tr>",
                            "<tr><td>Camila Cabello</td><td>44</td><td>NULL</td><td>NULL</td><td>NULL</td><td>44</td></tr>",
                            "<tr><td>NULL</td><td>NULL</td><td>Oprah Winfrey</td><td>43</td><td>NULL</td><td>43</td></tr>",
                            "<tr><td>NULL</td><td>NULL</td><td>Bruno Mars</td><td>43</td><td>NULL</td><td>43</td></tr>",
                            "<tr><td>NULL</td><td>NULL</td><td>BBC Breaking News</td><td>41</td><td>NULL</td><td>41</td></tr>",
                            "<tr><td>NULL</td><td>NULL</td><td>Shah Rukh Khan</td><td>39</td><td>NULL</td><td>39</td></tr>",
                            "<tr><td>NULL</td><td>NULL</td><td>Amitabh Bachchan</td><td>39</td><td>NULL</td><td>39</td></tr>",
                            "<tr><td>NULL</td><td>NULL</td><td>Niall Horan</td><td>39</td><td>NULL</td><td>39</td></tr>",
                            "<tr><td>NULL</td><td>NULL</td><td>Salman Khan</td><td>39</td><td>NULL</td><td>39</td></tr>",
                            "<tr><td>NULL</td><td>NULL</td><td>SportsCenter</td><td>36</td><td>NULL</td><td>36</td></tr>",
                            "<tr><td>NULL</td><td>NULL</td><td>ESPN</td><td>35</td><td>NULL</td><td>35</td></tr>",
                            "<tr><td>NULL</td><td>NULL</td><td>Wiz Khalifa</td><td>35</td><td>NULL</td><td>35</td></tr>",
                            "<tr><td>NULL</td><td>NULL</td><td>Lil Wayne</td><td>34</td><td>NULL</td><td>34</td></tr>",
                            "<tr><td>NULL</td><td>NULL</td><td>Harry Styles</td><td>34</td><td>NULL</td><td>34</td></tr>",
                            "<tr><td>NULL</td><td>NULL</td><td>Louis Tomlinson</td><td>33</td><td>NULL</td><td>33</td></tr>",
                            "<tr><td>NULL</td><td>NULL</td><td>Liam Payne</td><td>33</td><td>NULL</td><td>33</td></tr>",
                            "<tr><td>NULL</td><td>NULL</td><td>Akshay Kumar</td><td>33</td><td>NULL</td><td>33</td></tr>",
                            "<tr><td>NULL</td><td>NULL</td><td>P!nk</td><td>32</td><td>NULL</td><td>32</td></tr>",
                            "</table>"
                        ]
                    }
                }
            ],
            "execution_count": 26
        },
        {
            "cell_type": "code",
            "source": [
                "select i.owner ig_owner, COALESCE(i.followers_mil, 0) ig_followers,\r\n",
                "    t.owner tw_owner, COALESCE(t.followers_mil, 0) tw_followers,\r\n",
                "    COALESCE(i.followers_mil, 0) + COALESCE(t.followers_mil, 0) total_correct\r\n",
                "    from instagram i full join twitter t on i.owner = t.owner"
            ],
            "metadata": {
                "azdata_cell_guid": "fc15793f-1b55-47f5-8d1a-1474342b13bd",
                "tags": []
            },
            "outputs": [
                {
                    "output_type": "display_data",
                    "data": {
                        "text/html": "(78 row(s) affected)"
                    },
                    "metadata": {}
                },
                {
                    "output_type": "display_data",
                    "data": {
                        "text/html": "Total execution time: 00:00:00.005"
                    },
                    "metadata": {}
                },
                {
                    "output_type": "execute_result",
                    "metadata": {},
                    "execution_count": 27,
                    "data": {
                        "application/vnd.dataresource+json": {
                            "schema": {
                                "fields": [
                                    {
                                        "name": "ig_owner"
                                    },
                                    {
                                        "name": "ig_followers"
                                    },
                                    {
                                        "name": "tw_owner"
                                    },
                                    {
                                        "name": "tw_followers"
                                    },
                                    {
                                        "name": "total_correct"
                                    }
                                ]
                            },
                            "data": [
                                {
                                    "0": "Instagram",
                                    "1": "321",
                                    "2": "Instagram",
                                    "3": "36",
                                    "4": "357"
                                },
                                {
                                    "0": "Cristiano Ronaldo",
                                    "1": "193",
                                    "2": "Cristiano Ronaldo",
                                    "3": "81",
                                    "4": "274"
                                },
                                {
                                    "0": "Ariana Grande",
                                    "1": "168",
                                    "2": "Ariana Grande",
                                    "3": "68",
                                    "4": "236"
                                },
                                {
                                    "0": "Dwayne Johnson",
                                    "1": "164",
                                    "2": "NULL",
                                    "3": "0",
                                    "4": "164"
                                },
                                {
                                    "0": "Selena Gomez",
                                    "1": "163",
                                    "2": "Selena Gomez",
                                    "3": "59",
                                    "4": "222"
                                },
                                {
                                    "0": "Kim Kardashian",
                                    "1": "154",
                                    "2": "Kim Kardashian",
                                    "3": "62",
                                    "4": "216"
                                },
                                {
                                    "0": "Kylie Jenner",
                                    "1": "153",
                                    "2": "NULL",
                                    "3": "0",
                                    "4": "153"
                                },
                                {
                                    "0": "Lionel Messi",
                                    "1": "138",
                                    "2": "NULL",
                                    "3": "0",
                                    "4": "138"
                                },
                                {
                                    "0": "Beyoncé",
                                    "1": "136",
                                    "2": "NULL",
                                    "3": "0",
                                    "4": "136"
                                },
                                {
                                    "0": "Neymar",
                                    "1": "129",
                                    "2": "Neymar",
                                    "3": "45",
                                    "4": "174"
                                },
                                {
                                    "0": "National Geographic",
                                    "1": "128",
                                    "2": "NULL",
                                    "3": "0",
                                    "4": "128"
                                },
                                {
                                    "0": "Taylor Swift",
                                    "1": "124",
                                    "2": "Taylor Swift",
                                    "3": "85",
                                    "4": "209"
                                },
                                {
                                    "0": "Justin Bieber",
                                    "1": "122",
                                    "2": "Justin Bieber",
                                    "3": "107",
                                    "4": "229"
                                },
                                {
                                    "0": "Kendall Jenner",
                                    "1": "119",
                                    "2": "NULL",
                                    "3": "0",
                                    "4": "119"
                                },
                                {
                                    "0": "Nicki Minaj",
                                    "1": "108",
                                    "2": "NULL",
                                    "3": "0",
                                    "4": "108"
                                },
                                {
                                    "0": "Jennifer Lopez",
                                    "1": "107",
                                    "2": "Jennifer Lopez",
                                    "3": "44",
                                    "4": "151"
                                },
                                {
                                    "0": "Miley Cyrus",
                                    "1": "102",
                                    "2": "Miley Cyrus",
                                    "3": "45",
                                    "4": "147"
                                },
                                {
                                    "0": "Khloé Kardashian",
                                    "1": "101",
                                    "2": "NULL",
                                    "3": "0",
                                    "4": "101"
                                },
                                {
                                    "0": "Nike",
                                    "1": "96",
                                    "2": "NULL",
                                    "3": "0",
                                    "4": "96"
                                },
                                {
                                    "0": "Katy Perry",
                                    "1": "87",
                                    "2": "Katy Perry",
                                    "3": "108",
                                    "4": "195"
                                },
                                {
                                    "0": "Kourtney Kardashian",
                                    "1": "84",
                                    "2": "NULL",
                                    "3": "0",
                                    "4": "84"
                                },
                                {
                                    "0": "Kevin Hart",
                                    "1": "82",
                                    "2": "Kevin Hart",
                                    "3": "36",
                                    "4": "118"
                                },
                                {
                                    "0": "Real Madrid CF",
                                    "1": "81",
                                    "2": "Real Madrid CF",
                                    "3": "33",
                                    "4": "114"
                                },
                                {
                                    "0": "Ellen DeGeneres",
                                    "1": "80",
                                    "2": "Ellen DeGeneres",
                                    "3": "79",
                                    "4": "159"
                                },
                                {
                                    "0": "FC Barcelona",
                                    "1": "80",
                                    "2": "FC Barcelona",
                                    "3": "31",
                                    "4": "111"
                                },
                                {
                                    "0": "Rihanna",
                                    "1": "77",
                                    "2": "Rihanna",
                                    "3": "95",
                                    "4": "172"
                                },
                                {
                                    "0": "Demi Lovato",
                                    "1": "75",
                                    "2": "NULL",
                                    "3": "0",
                                    "4": "75"
                                },
                                {
                                    "0": "Victoria's Secret",
                                    "1": "68",
                                    "2": "NULL",
                                    "3": "0",
                                    "4": "68"
                                },
                                {
                                    "0": "Zendaya",
                                    "1": "64",
                                    "2": "NULL",
                                    "3": "0",
                                    "4": "64"
                                },
                                {
                                    "0": "Drake",
                                    "1": "62",
                                    "2": "Drake",
                                    "3": "39",
                                    "4": "101"
                                },
                                {
                                    "0": "Shakira",
                                    "1": "60",
                                    "2": "Shakira",
                                    "3": "52",
                                    "4": "112"
                                },
                                {
                                    "0": "David Beckham",
                                    "1": "59",
                                    "2": "NULL",
                                    "3": "0",
                                    "4": "59"
                                },
                                {
                                    "0": "Vin Diesel",
                                    "1": "59",
                                    "2": "NULL",
                                    "3": "0",
                                    "4": "59"
                                },
                                {
                                    "0": "Chris Brown",
                                    "1": "58",
                                    "2": "NULL",
                                    "3": "0",
                                    "4": "58"
                                },
                                {
                                    "0": "Justin Timberlake",
                                    "1": "56",
                                    "2": "Justin Timberlake",
                                    "3": "65",
                                    "4": "121"
                                },
                                {
                                    "0": "Cardi B",
                                    "1": "55",
                                    "2": "NULL",
                                    "3": "0",
                                    "4": "55"
                                },
                                {
                                    "0": "Shawn Mendes",
                                    "1": "54",
                                    "2": "NULL",
                                    "3": "0",
                                    "4": "54"
                                },
                                {
                                    "0": "LeBron James",
                                    "1": "53",
                                    "2": "LeBron James",
                                    "3": "44",
                                    "4": "97"
                                },
                                {
                                    "0": "Emma Watson",
                                    "1": "52",
                                    "2": "NULL",
                                    "3": "0",
                                    "4": "52"
                                },
                                {
                                    "0": "UEFA Champions League",
                                    "1": "52",
                                    "2": "NULL",
                                    "3": "0",
                                    "4": "52"
                                },
                                {
                                    "0": "NASA",
                                    "1": "51",
                                    "2": "NASA",
                                    "3": "34",
                                    "4": "85"
                                },
                                {
                                    "0": "9GAG",
                                    "1": "51",
                                    "2": "NULL",
                                    "3": "0",
                                    "4": "51"
                                },
                                {
                                    "0": "Gigi Hadid",
                                    "1": "50",
                                    "2": "NULL",
                                    "3": "0",
                                    "4": "50"
                                },
                                {
                                    "0": "Ronaldinho",
                                    "1": "50",
                                    "2": "NULL",
                                    "3": "0",
                                    "4": "50"
                                },
                                {
                                    "0": "Maluma",
                                    "1": "48",
                                    "2": "NULL",
                                    "3": "0",
                                    "4": "48"
                                },
                                {
                                    "0": "Priyanka Chopra Jonas",
                                    "1": "47",
                                    "2": "NULL",
                                    "3": "0",
                                    "4": "47"
                                },
                                {
                                    "0": "Virat Kohli",
                                    "1": "45",
                                    "2": "Virat Kohli",
                                    "3": "33",
                                    "4": "78"
                                },
                                {
                                    "0": "Billie Eilish",
                                    "1": "44",
                                    "2": "NULL",
                                    "3": "0",
                                    "4": "44"
                                },
                                {
                                    "0": "Camila Cabello",
                                    "1": "44",
                                    "2": "NULL",
                                    "3": "0",
                                    "4": "44"
                                },
                                {
                                    "0": "James Rodríguez",
                                    "1": "44",
                                    "2": "NULL",
                                    "3": "0",
                                    "4": "44"
                                },
                                {
                                    "0": "NULL",
                                    "1": "0",
                                    "2": "Shah Rukh Khan",
                                    "3": "39",
                                    "4": "39"
                                },
                                {
                                    "0": "NULL",
                                    "1": "0",
                                    "2": "Bruno Mars",
                                    "3": "43",
                                    "4": "43"
                                },
                                {
                                    "0": "NULL",
                                    "1": "0",
                                    "2": "Jimmy Fallon",
                                    "3": "51",
                                    "4": "51"
                                },
                                {
                                    "0": "NULL",
                                    "1": "0",
                                    "2": "Twitter",
                                    "3": "57",
                                    "4": "57"
                                },
                                {
                                    "0": "NULL",
                                    "1": "0",
                                    "2": "P!nk",
                                    "3": "32",
                                    "4": "32"
                                },
                                {
                                    "0": "NULL",
                                    "1": "0",
                                    "2": "Lil Wayne",
                                    "3": "34",
                                    "4": "34"
                                },
                                {
                                    "0": "NULL",
                                    "1": "0",
                                    "2": "Barack Obama",
                                    "3": "111",
                                    "4": "111"
                                },
                                {
                                    "0": "NULL",
                                    "1": "0",
                                    "2": "Wiz Khalifa",
                                    "3": "35",
                                    "4": "35"
                                },
                                {
                                    "0": "NULL",
                                    "1": "0",
                                    "2": "CNN",
                                    "3": "44",
                                    "4": "44"
                                },
                                {
                                    "0": "NULL",
                                    "1": "0",
                                    "2": "Bill Gates",
                                    "3": "49",
                                    "4": "49"
                                },
                                {
                                    "0": "NULL",
                                    "1": "0",
                                    "2": "Liam Payne",
                                    "3": "33",
                                    "4": "33"
                                },
                                {
                                    "0": "NULL",
                                    "1": "0",
                                    "2": "Amitabh Bachchan",
                                    "3": "39",
                                    "4": "39"
                                },
                                {
                                    "0": "NULL",
                                    "1": "0",
                                    "2": "Niall Horan",
                                    "3": "39",
                                    "4": "39"
                                },
                                {
                                    "0": "NULL",
                                    "1": "0",
                                    "2": "Salman Khan",
                                    "3": "39",
                                    "4": "39"
                                },
                                {
                                    "0": "NULL",
                                    "1": "0",
                                    "2": "ESPN",
                                    "3": "35",
                                    "4": "35"
                                },
                                {
                                    "0": "NULL",
                                    "1": "0",
                                    "2": "Louis Tomlinson",
                                    "3": "33",
                                    "4": "33"
                                },
                                {
                                    "0": "NULL",
                                    "1": "0",
                                    "2": "Britney Spears",
                                    "3": "56",
                                    "4": "56"
                                },
                                {
                                    "0": "NULL",
                                    "1": "0",
                                    "2": "Narendra Modi",
                                    "3": "52",
                                    "4": "52"
                                },
                                {
                                    "0": "NULL",
                                    "1": "0",
                                    "2": "BBC Breaking News",
                                    "3": "41",
                                    "4": "41"
                                },
                                {
                                    "0": "NULL",
                                    "1": "0",
                                    "2": "Lady Gaga",
                                    "3": "80",
                                    "4": "80"
                                },
                                {
                                    "0": "NULL",
                                    "1": "0",
                                    "2": "CNN Breaking News",
                                    "3": "56",
                                    "4": "56"
                                },
                                {
                                    "0": "NULL",
                                    "1": "0",
                                    "2": "YouTube",
                                    "3": "72",
                                    "4": "72"
                                },
                                {
                                    "0": "NULL",
                                    "1": "0",
                                    "2": "Oprah Winfrey",
                                    "3": "43",
                                    "4": "43"
                                },
                                {
                                    "0": "NULL",
                                    "1": "0",
                                    "2": "Harry Styles",
                                    "3": "34",
                                    "4": "34"
                                },
                                {
                                    "0": "NULL",
                                    "1": "0",
                                    "2": "Donald Trump",
                                    "3": "68",
                                    "4": "68"
                                },
                                {
                                    "0": "NULL",
                                    "1": "0",
                                    "2": "Akshay Kumar",
                                    "3": "33",
                                    "4": "33"
                                },
                                {
                                    "0": "NULL",
                                    "1": "0",
                                    "2": "SportsCenter",
                                    "3": "36",
                                    "4": "36"
                                },
                                {
                                    "0": "NULL",
                                    "1": "0",
                                    "2": "The New York Times",
                                    "3": "45",
                                    "4": "45"
                                }
                            ]
                        },
                        "text/html": [
                            "<table>",
                            "<tr><th>ig_owner</th><th>ig_followers</th><th>tw_owner</th><th>tw_followers</th><th>total_correct</th></tr>",
                            "<tr><td>Instagram</td><td>321</td><td>Instagram</td><td>36</td><td>357</td></tr>",
                            "<tr><td>Cristiano Ronaldo</td><td>193</td><td>Cristiano Ronaldo</td><td>81</td><td>274</td></tr>",
                            "<tr><td>Ariana Grande</td><td>168</td><td>Ariana Grande</td><td>68</td><td>236</td></tr>",
                            "<tr><td>Dwayne Johnson</td><td>164</td><td>NULL</td><td>0</td><td>164</td></tr>",
                            "<tr><td>Selena Gomez</td><td>163</td><td>Selena Gomez</td><td>59</td><td>222</td></tr>",
                            "<tr><td>Kim Kardashian</td><td>154</td><td>Kim Kardashian</td><td>62</td><td>216</td></tr>",
                            "<tr><td>Kylie Jenner</td><td>153</td><td>NULL</td><td>0</td><td>153</td></tr>",
                            "<tr><td>Lionel Messi</td><td>138</td><td>NULL</td><td>0</td><td>138</td></tr>",
                            "<tr><td>Beyoncé</td><td>136</td><td>NULL</td><td>0</td><td>136</td></tr>",
                            "<tr><td>Neymar</td><td>129</td><td>Neymar</td><td>45</td><td>174</td></tr>",
                            "<tr><td>National Geographic</td><td>128</td><td>NULL</td><td>0</td><td>128</td></tr>",
                            "<tr><td>Taylor Swift</td><td>124</td><td>Taylor Swift</td><td>85</td><td>209</td></tr>",
                            "<tr><td>Justin Bieber</td><td>122</td><td>Justin Bieber</td><td>107</td><td>229</td></tr>",
                            "<tr><td>Kendall Jenner</td><td>119</td><td>NULL</td><td>0</td><td>119</td></tr>",
                            "<tr><td>Nicki Minaj</td><td>108</td><td>NULL</td><td>0</td><td>108</td></tr>",
                            "<tr><td>Jennifer Lopez</td><td>107</td><td>Jennifer Lopez</td><td>44</td><td>151</td></tr>",
                            "<tr><td>Miley Cyrus</td><td>102</td><td>Miley Cyrus</td><td>45</td><td>147</td></tr>",
                            "<tr><td>Khloé Kardashian</td><td>101</td><td>NULL</td><td>0</td><td>101</td></tr>",
                            "<tr><td>Nike</td><td>96</td><td>NULL</td><td>0</td><td>96</td></tr>",
                            "<tr><td>Katy Perry</td><td>87</td><td>Katy Perry</td><td>108</td><td>195</td></tr>",
                            "<tr><td>Kourtney Kardashian</td><td>84</td><td>NULL</td><td>0</td><td>84</td></tr>",
                            "<tr><td>Kevin Hart</td><td>82</td><td>Kevin Hart</td><td>36</td><td>118</td></tr>",
                            "<tr><td>Real Madrid CF</td><td>81</td><td>Real Madrid CF</td><td>33</td><td>114</td></tr>",
                            "<tr><td>Ellen DeGeneres</td><td>80</td><td>Ellen DeGeneres</td><td>79</td><td>159</td></tr>",
                            "<tr><td>FC Barcelona</td><td>80</td><td>FC Barcelona</td><td>31</td><td>111</td></tr>",
                            "<tr><td>Rihanna</td><td>77</td><td>Rihanna</td><td>95</td><td>172</td></tr>",
                            "<tr><td>Demi Lovato</td><td>75</td><td>NULL</td><td>0</td><td>75</td></tr>",
                            "<tr><td>Victoria's Secret</td><td>68</td><td>NULL</td><td>0</td><td>68</td></tr>",
                            "<tr><td>Zendaya</td><td>64</td><td>NULL</td><td>0</td><td>64</td></tr>",
                            "<tr><td>Drake</td><td>62</td><td>Drake</td><td>39</td><td>101</td></tr>",
                            "<tr><td>Shakira</td><td>60</td><td>Shakira</td><td>52</td><td>112</td></tr>",
                            "<tr><td>David Beckham</td><td>59</td><td>NULL</td><td>0</td><td>59</td></tr>",
                            "<tr><td>Vin Diesel</td><td>59</td><td>NULL</td><td>0</td><td>59</td></tr>",
                            "<tr><td>Chris Brown</td><td>58</td><td>NULL</td><td>0</td><td>58</td></tr>",
                            "<tr><td>Justin Timberlake</td><td>56</td><td>Justin Timberlake</td><td>65</td><td>121</td></tr>",
                            "<tr><td>Cardi B</td><td>55</td><td>NULL</td><td>0</td><td>55</td></tr>",
                            "<tr><td>Shawn Mendes</td><td>54</td><td>NULL</td><td>0</td><td>54</td></tr>",
                            "<tr><td>LeBron James</td><td>53</td><td>LeBron James</td><td>44</td><td>97</td></tr>",
                            "<tr><td>Emma Watson</td><td>52</td><td>NULL</td><td>0</td><td>52</td></tr>",
                            "<tr><td>UEFA Champions League</td><td>52</td><td>NULL</td><td>0</td><td>52</td></tr>",
                            "<tr><td>NASA</td><td>51</td><td>NASA</td><td>34</td><td>85</td></tr>",
                            "<tr><td>9GAG</td><td>51</td><td>NULL</td><td>0</td><td>51</td></tr>",
                            "<tr><td>Gigi Hadid</td><td>50</td><td>NULL</td><td>0</td><td>50</td></tr>",
                            "<tr><td>Ronaldinho</td><td>50</td><td>NULL</td><td>0</td><td>50</td></tr>",
                            "<tr><td>Maluma</td><td>48</td><td>NULL</td><td>0</td><td>48</td></tr>",
                            "<tr><td>Priyanka Chopra Jonas</td><td>47</td><td>NULL</td><td>0</td><td>47</td></tr>",
                            "<tr><td>Virat Kohli</td><td>45</td><td>Virat Kohli</td><td>33</td><td>78</td></tr>",
                            "<tr><td>Billie Eilish</td><td>44</td><td>NULL</td><td>0</td><td>44</td></tr>",
                            "<tr><td>Camila Cabello</td><td>44</td><td>NULL</td><td>0</td><td>44</td></tr>",
                            "<tr><td>James Rodríguez</td><td>44</td><td>NULL</td><td>0</td><td>44</td></tr>",
                            "<tr><td>NULL</td><td>0</td><td>Shah Rukh Khan</td><td>39</td><td>39</td></tr>",
                            "<tr><td>NULL</td><td>0</td><td>Bruno Mars</td><td>43</td><td>43</td></tr>",
                            "<tr><td>NULL</td><td>0</td><td>Jimmy Fallon</td><td>51</td><td>51</td></tr>",
                            "<tr><td>NULL</td><td>0</td><td>Twitter</td><td>57</td><td>57</td></tr>",
                            "<tr><td>NULL</td><td>0</td><td>P!nk</td><td>32</td><td>32</td></tr>",
                            "<tr><td>NULL</td><td>0</td><td>Lil Wayne</td><td>34</td><td>34</td></tr>",
                            "<tr><td>NULL</td><td>0</td><td>Barack Obama</td><td>111</td><td>111</td></tr>",
                            "<tr><td>NULL</td><td>0</td><td>Wiz Khalifa</td><td>35</td><td>35</td></tr>",
                            "<tr><td>NULL</td><td>0</td><td>CNN</td><td>44</td><td>44</td></tr>",
                            "<tr><td>NULL</td><td>0</td><td>Bill Gates</td><td>49</td><td>49</td></tr>",
                            "<tr><td>NULL</td><td>0</td><td>Liam Payne</td><td>33</td><td>33</td></tr>",
                            "<tr><td>NULL</td><td>0</td><td>Amitabh Bachchan</td><td>39</td><td>39</td></tr>",
                            "<tr><td>NULL</td><td>0</td><td>Niall Horan</td><td>39</td><td>39</td></tr>",
                            "<tr><td>NULL</td><td>0</td><td>Salman Khan</td><td>39</td><td>39</td></tr>",
                            "<tr><td>NULL</td><td>0</td><td>ESPN</td><td>35</td><td>35</td></tr>",
                            "<tr><td>NULL</td><td>0</td><td>Louis Tomlinson</td><td>33</td><td>33</td></tr>",
                            "<tr><td>NULL</td><td>0</td><td>Britney Spears</td><td>56</td><td>56</td></tr>",
                            "<tr><td>NULL</td><td>0</td><td>Narendra Modi</td><td>52</td><td>52</td></tr>",
                            "<tr><td>NULL</td><td>0</td><td>BBC Breaking News</td><td>41</td><td>41</td></tr>",
                            "<tr><td>NULL</td><td>0</td><td>Lady Gaga</td><td>80</td><td>80</td></tr>",
                            "<tr><td>NULL</td><td>0</td><td>CNN Breaking News</td><td>56</td><td>56</td></tr>",
                            "<tr><td>NULL</td><td>0</td><td>YouTube</td><td>72</td><td>72</td></tr>",
                            "<tr><td>NULL</td><td>0</td><td>Oprah Winfrey</td><td>43</td><td>43</td></tr>",
                            "<tr><td>NULL</td><td>0</td><td>Harry Styles</td><td>34</td><td>34</td></tr>",
                            "<tr><td>NULL</td><td>0</td><td>Donald Trump</td><td>68</td><td>68</td></tr>",
                            "<tr><td>NULL</td><td>0</td><td>Akshay Kumar</td><td>33</td><td>33</td></tr>",
                            "<tr><td>NULL</td><td>0</td><td>SportsCenter</td><td>36</td><td>36</td></tr>",
                            "<tr><td>NULL</td><td>0</td><td>The New York Times</td><td>45</td><td>45</td></tr>",
                            "</table>"
                        ]
                    }
                }
            ],
            "execution_count": 27
        },
        {
            "cell_type": "code",
            "source": [
                "-- Common Table Expression (CTE) เป็น expression ที่ส่งค่ากลับมาเป็นตาราง\n",
                "with cte as (\n",
                "    select i.owner ig_owner, COALESCE(i.followers_mil, 0) ig_followers,\n",
                "    t.owner tw_owner, COALESCE(t.followers_mil, 0) tw_followers,\n",
                "    COALESCE(i.followers_mil, 0) + COALESCE(t.followers_mil, 0) followers\n",
                "    from instagram i full join twitter t on i.owner = t.owner\n",
                ")\n",
                "select COALESCE(ig_owner, tw_owner) \"owner\", \n",
                "    ig_followers, tw_followers, followers,\n",
                "    rank() over (order by followers desc) rank\n",
                "    from cte\n",
                "    order by followers desc"
            ],
            "metadata": {
                "azdata_cell_guid": "c8941d2a-41cc-4baa-b086-3f9a069e3e1b",
                "tags": []
            },
            "outputs": [
                {
                    "output_type": "display_data",
                    "data": {
                        "text/html": "(78 row(s) affected)"
                    },
                    "metadata": {}
                },
                {
                    "output_type": "display_data",
                    "data": {
                        "text/html": "Total execution time: 00:00:00.005"
                    },
                    "metadata": {}
                },
                {
                    "output_type": "execute_result",
                    "metadata": {},
                    "execution_count": 30,
                    "data": {
                        "application/vnd.dataresource+json": {
                            "schema": {
                                "fields": [
                                    {
                                        "name": "owner"
                                    },
                                    {
                                        "name": "ig_followers"
                                    },
                                    {
                                        "name": "tw_followers"
                                    },
                                    {
                                        "name": "followers"
                                    },
                                    {
                                        "name": "rank"
                                    }
                                ]
                            },
                            "data": [
                                {
                                    "0": "Instagram",
                                    "1": "321",
                                    "2": "36",
                                    "3": "357",
                                    "4": "1"
                                },
                                {
                                    "0": "Cristiano Ronaldo",
                                    "1": "193",
                                    "2": "81",
                                    "3": "274",
                                    "4": "2"
                                },
                                {
                                    "0": "Ariana Grande",
                                    "1": "168",
                                    "2": "68",
                                    "3": "236",
                                    "4": "3"
                                },
                                {
                                    "0": "Justin Bieber",
                                    "1": "122",
                                    "2": "107",
                                    "3": "229",
                                    "4": "4"
                                },
                                {
                                    "0": "Selena Gomez",
                                    "1": "163",
                                    "2": "59",
                                    "3": "222",
                                    "4": "5"
                                },
                                {
                                    "0": "Kim Kardashian",
                                    "1": "154",
                                    "2": "62",
                                    "3": "216",
                                    "4": "6"
                                },
                                {
                                    "0": "Taylor Swift",
                                    "1": "124",
                                    "2": "85",
                                    "3": "209",
                                    "4": "7"
                                },
                                {
                                    "0": "Katy Perry",
                                    "1": "87",
                                    "2": "108",
                                    "3": "195",
                                    "4": "8"
                                },
                                {
                                    "0": "Neymar",
                                    "1": "129",
                                    "2": "45",
                                    "3": "174",
                                    "4": "9"
                                },
                                {
                                    "0": "Rihanna",
                                    "1": "77",
                                    "2": "95",
                                    "3": "172",
                                    "4": "10"
                                },
                                {
                                    "0": "Dwayne Johnson",
                                    "1": "164",
                                    "2": "0",
                                    "3": "164",
                                    "4": "11"
                                },
                                {
                                    "0": "Ellen DeGeneres",
                                    "1": "80",
                                    "2": "79",
                                    "3": "159",
                                    "4": "12"
                                },
                                {
                                    "0": "Kylie Jenner",
                                    "1": "153",
                                    "2": "0",
                                    "3": "153",
                                    "4": "13"
                                },
                                {
                                    "0": "Jennifer Lopez",
                                    "1": "107",
                                    "2": "44",
                                    "3": "151",
                                    "4": "14"
                                },
                                {
                                    "0": "Miley Cyrus",
                                    "1": "102",
                                    "2": "45",
                                    "3": "147",
                                    "4": "15"
                                },
                                {
                                    "0": "Lionel Messi",
                                    "1": "138",
                                    "2": "0",
                                    "3": "138",
                                    "4": "16"
                                },
                                {
                                    "0": "Beyoncé",
                                    "1": "136",
                                    "2": "0",
                                    "3": "136",
                                    "4": "17"
                                },
                                {
                                    "0": "National Geographic",
                                    "1": "128",
                                    "2": "0",
                                    "3": "128",
                                    "4": "18"
                                },
                                {
                                    "0": "Justin Timberlake",
                                    "1": "56",
                                    "2": "65",
                                    "3": "121",
                                    "4": "19"
                                },
                                {
                                    "0": "Kendall Jenner",
                                    "1": "119",
                                    "2": "0",
                                    "3": "119",
                                    "4": "20"
                                },
                                {
                                    "0": "Kevin Hart",
                                    "1": "82",
                                    "2": "36",
                                    "3": "118",
                                    "4": "21"
                                },
                                {
                                    "0": "Real Madrid CF",
                                    "1": "81",
                                    "2": "33",
                                    "3": "114",
                                    "4": "22"
                                },
                                {
                                    "0": "Shakira",
                                    "1": "60",
                                    "2": "52",
                                    "3": "112",
                                    "4": "23"
                                },
                                {
                                    "0": "Barack Obama",
                                    "1": "0",
                                    "2": "111",
                                    "3": "111",
                                    "4": "24"
                                },
                                {
                                    "0": "FC Barcelona",
                                    "1": "80",
                                    "2": "31",
                                    "3": "111",
                                    "4": "24"
                                },
                                {
                                    "0": "Nicki Minaj",
                                    "1": "108",
                                    "2": "0",
                                    "3": "108",
                                    "4": "26"
                                },
                                {
                                    "0": "Khloé Kardashian",
                                    "1": "101",
                                    "2": "0",
                                    "3": "101",
                                    "4": "27"
                                },
                                {
                                    "0": "Drake",
                                    "1": "62",
                                    "2": "39",
                                    "3": "101",
                                    "4": "27"
                                },
                                {
                                    "0": "LeBron James",
                                    "1": "53",
                                    "2": "44",
                                    "3": "97",
                                    "4": "29"
                                },
                                {
                                    "0": "Nike",
                                    "1": "96",
                                    "2": "0",
                                    "3": "96",
                                    "4": "30"
                                },
                                {
                                    "0": "NASA",
                                    "1": "51",
                                    "2": "34",
                                    "3": "85",
                                    "4": "31"
                                },
                                {
                                    "0": "Kourtney Kardashian",
                                    "1": "84",
                                    "2": "0",
                                    "3": "84",
                                    "4": "32"
                                },
                                {
                                    "0": "Lady Gaga",
                                    "1": "0",
                                    "2": "80",
                                    "3": "80",
                                    "4": "33"
                                },
                                {
                                    "0": "Virat Kohli",
                                    "1": "45",
                                    "2": "33",
                                    "3": "78",
                                    "4": "34"
                                },
                                {
                                    "0": "Demi Lovato",
                                    "1": "75",
                                    "2": "0",
                                    "3": "75",
                                    "4": "35"
                                },
                                {
                                    "0": "YouTube",
                                    "1": "0",
                                    "2": "72",
                                    "3": "72",
                                    "4": "36"
                                },
                                {
                                    "0": "Donald Trump",
                                    "1": "0",
                                    "2": "68",
                                    "3": "68",
                                    "4": "37"
                                },
                                {
                                    "0": "Victoria's Secret",
                                    "1": "68",
                                    "2": "0",
                                    "3": "68",
                                    "4": "37"
                                },
                                {
                                    "0": "Zendaya",
                                    "1": "64",
                                    "2": "0",
                                    "3": "64",
                                    "4": "39"
                                },
                                {
                                    "0": "Vin Diesel",
                                    "1": "59",
                                    "2": "0",
                                    "3": "59",
                                    "4": "40"
                                },
                                {
                                    "0": "David Beckham",
                                    "1": "59",
                                    "2": "0",
                                    "3": "59",
                                    "4": "40"
                                },
                                {
                                    "0": "Chris Brown",
                                    "1": "58",
                                    "2": "0",
                                    "3": "58",
                                    "4": "42"
                                },
                                {
                                    "0": "Twitter",
                                    "1": "0",
                                    "2": "57",
                                    "3": "57",
                                    "4": "43"
                                },
                                {
                                    "0": "CNN Breaking News",
                                    "1": "0",
                                    "2": "56",
                                    "3": "56",
                                    "4": "44"
                                },
                                {
                                    "0": "Britney Spears",
                                    "1": "0",
                                    "2": "56",
                                    "3": "56",
                                    "4": "44"
                                },
                                {
                                    "0": "Cardi B",
                                    "1": "55",
                                    "2": "0",
                                    "3": "55",
                                    "4": "46"
                                },
                                {
                                    "0": "Shawn Mendes",
                                    "1": "54",
                                    "2": "0",
                                    "3": "54",
                                    "4": "47"
                                },
                                {
                                    "0": "UEFA Champions League",
                                    "1": "52",
                                    "2": "0",
                                    "3": "52",
                                    "4": "48"
                                },
                                {
                                    "0": "Emma Watson",
                                    "1": "52",
                                    "2": "0",
                                    "3": "52",
                                    "4": "48"
                                },
                                {
                                    "0": "Narendra Modi",
                                    "1": "0",
                                    "2": "52",
                                    "3": "52",
                                    "4": "48"
                                },
                                {
                                    "0": "9GAG",
                                    "1": "51",
                                    "2": "0",
                                    "3": "51",
                                    "4": "51"
                                },
                                {
                                    "0": "Jimmy Fallon",
                                    "1": "0",
                                    "2": "51",
                                    "3": "51",
                                    "4": "51"
                                },
                                {
                                    "0": "Ronaldinho",
                                    "1": "50",
                                    "2": "0",
                                    "3": "50",
                                    "4": "53"
                                },
                                {
                                    "0": "Gigi Hadid",
                                    "1": "50",
                                    "2": "0",
                                    "3": "50",
                                    "4": "53"
                                },
                                {
                                    "0": "Bill Gates",
                                    "1": "0",
                                    "2": "49",
                                    "3": "49",
                                    "4": "55"
                                },
                                {
                                    "0": "Maluma",
                                    "1": "48",
                                    "2": "0",
                                    "3": "48",
                                    "4": "56"
                                },
                                {
                                    "0": "Priyanka Chopra Jonas",
                                    "1": "47",
                                    "2": "0",
                                    "3": "47",
                                    "4": "57"
                                },
                                {
                                    "0": "The New York Times",
                                    "1": "0",
                                    "2": "45",
                                    "3": "45",
                                    "4": "58"
                                },
                                {
                                    "0": "James Rodríguez",
                                    "1": "44",
                                    "2": "0",
                                    "3": "44",
                                    "4": "59"
                                },
                                {
                                    "0": "Billie Eilish",
                                    "1": "44",
                                    "2": "0",
                                    "3": "44",
                                    "4": "59"
                                },
                                {
                                    "0": "CNN",
                                    "1": "0",
                                    "2": "44",
                                    "3": "44",
                                    "4": "59"
                                },
                                {
                                    "0": "Camila Cabello",
                                    "1": "44",
                                    "2": "0",
                                    "3": "44",
                                    "4": "59"
                                },
                                {
                                    "0": "Oprah Winfrey",
                                    "1": "0",
                                    "2": "43",
                                    "3": "43",
                                    "4": "63"
                                },
                                {
                                    "0": "Bruno Mars",
                                    "1": "0",
                                    "2": "43",
                                    "3": "43",
                                    "4": "63"
                                },
                                {
                                    "0": "BBC Breaking News",
                                    "1": "0",
                                    "2": "41",
                                    "3": "41",
                                    "4": "65"
                                },
                                {
                                    "0": "Shah Rukh Khan",
                                    "1": "0",
                                    "2": "39",
                                    "3": "39",
                                    "4": "66"
                                },
                                {
                                    "0": "Amitabh Bachchan",
                                    "1": "0",
                                    "2": "39",
                                    "3": "39",
                                    "4": "66"
                                },
                                {
                                    "0": "Niall Horan",
                                    "1": "0",
                                    "2": "39",
                                    "3": "39",
                                    "4": "66"
                                },
                                {
                                    "0": "Salman Khan",
                                    "1": "0",
                                    "2": "39",
                                    "3": "39",
                                    "4": "66"
                                },
                                {
                                    "0": "SportsCenter",
                                    "1": "0",
                                    "2": "36",
                                    "3": "36",
                                    "4": "70"
                                },
                                {
                                    "0": "ESPN",
                                    "1": "0",
                                    "2": "35",
                                    "3": "35",
                                    "4": "71"
                                },
                                {
                                    "0": "Wiz Khalifa",
                                    "1": "0",
                                    "2": "35",
                                    "3": "35",
                                    "4": "71"
                                },
                                {
                                    "0": "Lil Wayne",
                                    "1": "0",
                                    "2": "34",
                                    "3": "34",
                                    "4": "73"
                                },
                                {
                                    "0": "Harry Styles",
                                    "1": "0",
                                    "2": "34",
                                    "3": "34",
                                    "4": "73"
                                },
                                {
                                    "0": "Louis Tomlinson",
                                    "1": "0",
                                    "2": "33",
                                    "3": "33",
                                    "4": "75"
                                },
                                {
                                    "0": "Liam Payne",
                                    "1": "0",
                                    "2": "33",
                                    "3": "33",
                                    "4": "75"
                                },
                                {
                                    "0": "Akshay Kumar",
                                    "1": "0",
                                    "2": "33",
                                    "3": "33",
                                    "4": "75"
                                },
                                {
                                    "0": "P!nk",
                                    "1": "0",
                                    "2": "32",
                                    "3": "32",
                                    "4": "78"
                                }
                            ]
                        },
                        "text/html": [
                            "<table>",
                            "<tr><th>owner</th><th>ig_followers</th><th>tw_followers</th><th>followers</th><th>rank</th></tr>",
                            "<tr><td>Instagram</td><td>321</td><td>36</td><td>357</td><td>1</td></tr>",
                            "<tr><td>Cristiano Ronaldo</td><td>193</td><td>81</td><td>274</td><td>2</td></tr>",
                            "<tr><td>Ariana Grande</td><td>168</td><td>68</td><td>236</td><td>3</td></tr>",
                            "<tr><td>Justin Bieber</td><td>122</td><td>107</td><td>229</td><td>4</td></tr>",
                            "<tr><td>Selena Gomez</td><td>163</td><td>59</td><td>222</td><td>5</td></tr>",
                            "<tr><td>Kim Kardashian</td><td>154</td><td>62</td><td>216</td><td>6</td></tr>",
                            "<tr><td>Taylor Swift</td><td>124</td><td>85</td><td>209</td><td>7</td></tr>",
                            "<tr><td>Katy Perry</td><td>87</td><td>108</td><td>195</td><td>8</td></tr>",
                            "<tr><td>Neymar</td><td>129</td><td>45</td><td>174</td><td>9</td></tr>",
                            "<tr><td>Rihanna</td><td>77</td><td>95</td><td>172</td><td>10</td></tr>",
                            "<tr><td>Dwayne Johnson</td><td>164</td><td>0</td><td>164</td><td>11</td></tr>",
                            "<tr><td>Ellen DeGeneres</td><td>80</td><td>79</td><td>159</td><td>12</td></tr>",
                            "<tr><td>Kylie Jenner</td><td>153</td><td>0</td><td>153</td><td>13</td></tr>",
                            "<tr><td>Jennifer Lopez</td><td>107</td><td>44</td><td>151</td><td>14</td></tr>",
                            "<tr><td>Miley Cyrus</td><td>102</td><td>45</td><td>147</td><td>15</td></tr>",
                            "<tr><td>Lionel Messi</td><td>138</td><td>0</td><td>138</td><td>16</td></tr>",
                            "<tr><td>Beyoncé</td><td>136</td><td>0</td><td>136</td><td>17</td></tr>",
                            "<tr><td>National Geographic</td><td>128</td><td>0</td><td>128</td><td>18</td></tr>",
                            "<tr><td>Justin Timberlake</td><td>56</td><td>65</td><td>121</td><td>19</td></tr>",
                            "<tr><td>Kendall Jenner</td><td>119</td><td>0</td><td>119</td><td>20</td></tr>",
                            "<tr><td>Kevin Hart</td><td>82</td><td>36</td><td>118</td><td>21</td></tr>",
                            "<tr><td>Real Madrid CF</td><td>81</td><td>33</td><td>114</td><td>22</td></tr>",
                            "<tr><td>Shakira</td><td>60</td><td>52</td><td>112</td><td>23</td></tr>",
                            "<tr><td>Barack Obama</td><td>0</td><td>111</td><td>111</td><td>24</td></tr>",
                            "<tr><td>FC Barcelona</td><td>80</td><td>31</td><td>111</td><td>24</td></tr>",
                            "<tr><td>Nicki Minaj</td><td>108</td><td>0</td><td>108</td><td>26</td></tr>",
                            "<tr><td>Khloé Kardashian</td><td>101</td><td>0</td><td>101</td><td>27</td></tr>",
                            "<tr><td>Drake</td><td>62</td><td>39</td><td>101</td><td>27</td></tr>",
                            "<tr><td>LeBron James</td><td>53</td><td>44</td><td>97</td><td>29</td></tr>",
                            "<tr><td>Nike</td><td>96</td><td>0</td><td>96</td><td>30</td></tr>",
                            "<tr><td>NASA</td><td>51</td><td>34</td><td>85</td><td>31</td></tr>",
                            "<tr><td>Kourtney Kardashian</td><td>84</td><td>0</td><td>84</td><td>32</td></tr>",
                            "<tr><td>Lady Gaga</td><td>0</td><td>80</td><td>80</td><td>33</td></tr>",
                            "<tr><td>Virat Kohli</td><td>45</td><td>33</td><td>78</td><td>34</td></tr>",
                            "<tr><td>Demi Lovato</td><td>75</td><td>0</td><td>75</td><td>35</td></tr>",
                            "<tr><td>YouTube</td><td>0</td><td>72</td><td>72</td><td>36</td></tr>",
                            "<tr><td>Donald Trump</td><td>0</td><td>68</td><td>68</td><td>37</td></tr>",
                            "<tr><td>Victoria's Secret</td><td>68</td><td>0</td><td>68</td><td>37</td></tr>",
                            "<tr><td>Zendaya</td><td>64</td><td>0</td><td>64</td><td>39</td></tr>",
                            "<tr><td>Vin Diesel</td><td>59</td><td>0</td><td>59</td><td>40</td></tr>",
                            "<tr><td>David Beckham</td><td>59</td><td>0</td><td>59</td><td>40</td></tr>",
                            "<tr><td>Chris Brown</td><td>58</td><td>0</td><td>58</td><td>42</td></tr>",
                            "<tr><td>Twitter</td><td>0</td><td>57</td><td>57</td><td>43</td></tr>",
                            "<tr><td>CNN Breaking News</td><td>0</td><td>56</td><td>56</td><td>44</td></tr>",
                            "<tr><td>Britney Spears</td><td>0</td><td>56</td><td>56</td><td>44</td></tr>",
                            "<tr><td>Cardi B</td><td>55</td><td>0</td><td>55</td><td>46</td></tr>",
                            "<tr><td>Shawn Mendes</td><td>54</td><td>0</td><td>54</td><td>47</td></tr>",
                            "<tr><td>UEFA Champions League</td><td>52</td><td>0</td><td>52</td><td>48</td></tr>",
                            "<tr><td>Emma Watson</td><td>52</td><td>0</td><td>52</td><td>48</td></tr>",
                            "<tr><td>Narendra Modi</td><td>0</td><td>52</td><td>52</td><td>48</td></tr>",
                            "<tr><td>9GAG</td><td>51</td><td>0</td><td>51</td><td>51</td></tr>",
                            "<tr><td>Jimmy Fallon</td><td>0</td><td>51</td><td>51</td><td>51</td></tr>",
                            "<tr><td>Ronaldinho</td><td>50</td><td>0</td><td>50</td><td>53</td></tr>",
                            "<tr><td>Gigi Hadid</td><td>50</td><td>0</td><td>50</td><td>53</td></tr>",
                            "<tr><td>Bill Gates</td><td>0</td><td>49</td><td>49</td><td>55</td></tr>",
                            "<tr><td>Maluma</td><td>48</td><td>0</td><td>48</td><td>56</td></tr>",
                            "<tr><td>Priyanka Chopra Jonas</td><td>47</td><td>0</td><td>47</td><td>57</td></tr>",
                            "<tr><td>The New York Times</td><td>0</td><td>45</td><td>45</td><td>58</td></tr>",
                            "<tr><td>James Rodríguez</td><td>44</td><td>0</td><td>44</td><td>59</td></tr>",
                            "<tr><td>Billie Eilish</td><td>44</td><td>0</td><td>44</td><td>59</td></tr>",
                            "<tr><td>CNN</td><td>0</td><td>44</td><td>44</td><td>59</td></tr>",
                            "<tr><td>Camila Cabello</td><td>44</td><td>0</td><td>44</td><td>59</td></tr>",
                            "<tr><td>Oprah Winfrey</td><td>0</td><td>43</td><td>43</td><td>63</td></tr>",
                            "<tr><td>Bruno Mars</td><td>0</td><td>43</td><td>43</td><td>63</td></tr>",
                            "<tr><td>BBC Breaking News</td><td>0</td><td>41</td><td>41</td><td>65</td></tr>",
                            "<tr><td>Shah Rukh Khan</td><td>0</td><td>39</td><td>39</td><td>66</td></tr>",
                            "<tr><td>Amitabh Bachchan</td><td>0</td><td>39</td><td>39</td><td>66</td></tr>",
                            "<tr><td>Niall Horan</td><td>0</td><td>39</td><td>39</td><td>66</td></tr>",
                            "<tr><td>Salman Khan</td><td>0</td><td>39</td><td>39</td><td>66</td></tr>",
                            "<tr><td>SportsCenter</td><td>0</td><td>36</td><td>36</td><td>70</td></tr>",
                            "<tr><td>ESPN</td><td>0</td><td>35</td><td>35</td><td>71</td></tr>",
                            "<tr><td>Wiz Khalifa</td><td>0</td><td>35</td><td>35</td><td>71</td></tr>",
                            "<tr><td>Lil Wayne</td><td>0</td><td>34</td><td>34</td><td>73</td></tr>",
                            "<tr><td>Harry Styles</td><td>0</td><td>34</td><td>34</td><td>73</td></tr>",
                            "<tr><td>Louis Tomlinson</td><td>0</td><td>33</td><td>33</td><td>75</td></tr>",
                            "<tr><td>Liam Payne</td><td>0</td><td>33</td><td>33</td><td>75</td></tr>",
                            "<tr><td>Akshay Kumar</td><td>0</td><td>33</td><td>33</td><td>75</td></tr>",
                            "<tr><td>P!nk</td><td>0</td><td>32</td><td>32</td><td>78</td></tr>",
                            "</table>"
                        ]
                    }
                }
            ],
            "execution_count": 30
        }
    ]
}