{
    "metadata": {
        "kernelspec": {
            "name": "SQL",
            "display_name": "SQL",
            "language": "sql"
        },
        "language_info": {
            "name": "sql",
            "version": ""
        }
    },
    "nbformat_minor": 2,
    "nbformat": 4,
    "cells": [
        {
            "cell_type": "markdown",
            "source": [
                "# ROLLUP\n",
                "\n",
                "# การหาผลรวมย่อยหลาย ๆ ขั้น เช่นหาผลรวมย่อยของยอดขายตาม เดือน ไตรมาส และปีด้วย ROLLUP"
            ],
            "metadata": {
                "azdata_cell_guid": "9f5eaa96-b1ef-4d49-b1f5-4f2d0fa77e63"
            }
        },
        {
            "cell_type": "code",
            "source": [
                "select * from sales limit 5;"
            ],
            "metadata": {
                "azdata_cell_guid": "b0b88e23-3db0-4608-a5cc-c670ec162f0f"
            },
            "outputs": [
                {
                    "output_type": "display_data",
                    "data": {
                        "text/html": "(5 row(s) affected)"
                    },
                    "metadata": {}
                },
                {
                    "output_type": "display_data",
                    "data": {
                        "text/html": "Total execution time: 00:00:00.007"
                    },
                    "metadata": {}
                },
                {
                    "output_type": "execute_result",
                    "execution_count": 1,
                    "data": {
                        "application/vnd.dataresource+json": {
                            "schema": {
                                "fields": [
                                    {
                                        "name": "branch"
                                    },
                                    {
                                        "name": "dt"
                                    },
                                    {
                                        "name": "revenue"
                                    }
                                ]
                            },
                            "data": [
                                {
                                    "0": "bangkok",
                                    "1": "2018-01-01",
                                    "2": "11738"
                                },
                                {
                                    "0": "bangkok",
                                    "1": "2018-01-02",
                                    "2": "10720"
                                },
                                {
                                    "0": "bangkok",
                                    "1": "2018-01-03",
                                    "2": "27503"
                                },
                                {
                                    "0": "bangkok",
                                    "1": "2018-01-04",
                                    "2": "15693"
                                },
                                {
                                    "0": "bangkok",
                                    "1": "2018-01-05",
                                    "2": "22353"
                                }
                            ]
                        },
                        "text/html": "<table><tr><th>branch</th><th>dt</th><th>revenue</th></tr><tr><td>bangkok</td><td>2018-01-01</td><td>11738</td></tr><tr><td>bangkok</td><td>2018-01-02</td><td>10720</td></tr><tr><td>bangkok</td><td>2018-01-03</td><td>27503</td></tr><tr><td>bangkok</td><td>2018-01-04</td><td>15693</td></tr><tr><td>bangkok</td><td>2018-01-05</td><td>22353</td></tr></table>"
                    },
                    "metadata": {}
                }
            ],
            "execution_count": 1
        },
        {
            "cell_type": "code",
            "source": [
                "select date_part('month', dt)::int \"month\", sum(revenue)\n",
                "    from sales \n",
                "    group by date_part('month', dt)\n",
                "    order by \"month\""
            ],
            "metadata": {
                "azdata_cell_guid": "4a192bef-e3bd-4a1d-92a1-3a917fd38430"
            },
            "outputs": [
                {
                    "output_type": "display_data",
                    "data": {
                        "text/html": "(12 row(s) affected)"
                    },
                    "metadata": {}
                },
                {
                    "output_type": "display_data",
                    "data": {
                        "text/html": "Total execution time: 00:00:00.004"
                    },
                    "metadata": {}
                },
                {
                    "output_type": "execute_result",
                    "execution_count": 4,
                    "data": {
                        "application/vnd.dataresource+json": {
                            "schema": {
                                "fields": [
                                    {
                                        "name": "month"
                                    },
                                    {
                                        "name": "sum"
                                    }
                                ]
                            },
                            "data": [
                                {
                                    "0": "1",
                                    "1": "2194119"
                                },
                                {
                                    "0": "2",
                                    "1": "2001290"
                                },
                                {
                                    "0": "3",
                                    "1": "2192464"
                                },
                                {
                                    "0": "4",
                                    "1": "2092803"
                                },
                                {
                                    "0": "5",
                                    "1": "2129900"
                                },
                                {
                                    "0": "6",
                                    "1": "2107391"
                                },
                                {
                                    "0": "7",
                                    "1": "2109318"
                                },
                                {
                                    "0": "8",
                                    "1": "2145241"
                                },
                                {
                                    "0": "9",
                                    "1": "2146075"
                                },
                                {
                                    "0": "10",
                                    "1": "2190651"
                                },
                                {
                                    "0": "11",
                                    "1": "2147429"
                                },
                                {
                                    "0": "12",
                                    "1": "2085665"
                                }
                            ]
                        },
                        "text/html": "<table><tr><th>month</th><th>sum</th></tr><tr><td>1</td><td>2194119</td></tr><tr><td>2</td><td>2001290</td></tr><tr><td>3</td><td>2192464</td></tr><tr><td>4</td><td>2092803</td></tr><tr><td>5</td><td>2129900</td></tr><tr><td>6</td><td>2107391</td></tr><tr><td>7</td><td>2109318</td></tr><tr><td>8</td><td>2145241</td></tr><tr><td>9</td><td>2146075</td></tr><tr><td>10</td><td>2190651</td></tr><tr><td>11</td><td>2147429</td></tr><tr><td>12</td><td>2085665</td></tr></table>"
                    },
                    "metadata": {}
                }
            ],
            "execution_count": 4
        },
        {
            "cell_type": "code",
            "source": [
                "select \n",
                "    date_part('quarter', dt)::int \"quarter\",\n",
                "    date_part('month', dt)::int \"month\",\n",
                "    sum(revenue)\n",
                "    from sales \n",
                "    group by rollup(date_part('quarter', dt), date_part('month', dt))\n",
                "    order by \"quarter\", \"month\""
            ],
            "metadata": {
                "azdata_cell_guid": "a641381f-8a5c-4484-a32a-a2daa69eb6cd"
            },
            "outputs": [
                {
                    "output_type": "display_data",
                    "data": {
                        "text/html": "(17 row(s) affected)"
                    },
                    "metadata": {}
                },
                {
                    "output_type": "display_data",
                    "data": {
                        "text/html": "Total execution time: 00:00:00.005"
                    },
                    "metadata": {}
                },
                {
                    "output_type": "execute_result",
                    "execution_count": 6,
                    "data": {
                        "application/vnd.dataresource+json": {
                            "schema": {
                                "fields": [
                                    {
                                        "name": "quarter"
                                    },
                                    {
                                        "name": "month"
                                    },
                                    {
                                        "name": "sum"
                                    }
                                ]
                            },
                            "data": [
                                {
                                    "0": "1",
                                    "1": "1",
                                    "2": "2194119"
                                },
                                {
                                    "0": "1",
                                    "1": "2",
                                    "2": "2001290"
                                },
                                {
                                    "0": "1",
                                    "1": "3",
                                    "2": "2192464"
                                },
                                {
                                    "0": "1",
                                    "1": "NULL",
                                    "2": "6387873"
                                },
                                {
                                    "0": "2",
                                    "1": "4",
                                    "2": "2092803"
                                },
                                {
                                    "0": "2",
                                    "1": "5",
                                    "2": "2129900"
                                },
                                {
                                    "0": "2",
                                    "1": "6",
                                    "2": "2107391"
                                },
                                {
                                    "0": "2",
                                    "1": "NULL",
                                    "2": "6330094"
                                },
                                {
                                    "0": "3",
                                    "1": "7",
                                    "2": "2109318"
                                },
                                {
                                    "0": "3",
                                    "1": "8",
                                    "2": "2145241"
                                },
                                {
                                    "0": "3",
                                    "1": "9",
                                    "2": "2146075"
                                },
                                {
                                    "0": "3",
                                    "1": "NULL",
                                    "2": "6400634"
                                },
                                {
                                    "0": "4",
                                    "1": "10",
                                    "2": "2190651"
                                },
                                {
                                    "0": "4",
                                    "1": "11",
                                    "2": "2147429"
                                },
                                {
                                    "0": "4",
                                    "1": "12",
                                    "2": "2085665"
                                },
                                {
                                    "0": "4",
                                    "1": "NULL",
                                    "2": "6423745"
                                },
                                {
                                    "0": "NULL",
                                    "1": "NULL",
                                    "2": "25542346"
                                }
                            ]
                        },
                        "text/html": "<table><tr><th>quarter</th><th>month</th><th>sum</th></tr><tr><td>1</td><td>1</td><td>2194119</td></tr><tr><td>1</td><td>2</td><td>2001290</td></tr><tr><td>1</td><td>3</td><td>2192464</td></tr><tr><td>1</td><td>NULL</td><td>6387873</td></tr><tr><td>2</td><td>4</td><td>2092803</td></tr><tr><td>2</td><td>5</td><td>2129900</td></tr><tr><td>2</td><td>6</td><td>2107391</td></tr><tr><td>2</td><td>NULL</td><td>6330094</td></tr><tr><td>3</td><td>7</td><td>2109318</td></tr><tr><td>3</td><td>8</td><td>2145241</td></tr><tr><td>3</td><td>9</td><td>2146075</td></tr><tr><td>3</td><td>NULL</td><td>6400634</td></tr><tr><td>4</td><td>10</td><td>2190651</td></tr><tr><td>4</td><td>11</td><td>2147429</td></tr><tr><td>4</td><td>12</td><td>2085665</td></tr><tr><td>4</td><td>NULL</td><td>6423745</td></tr><tr><td>NULL</td><td>NULL</td><td>25542346</td></tr></table>"
                    },
                    "metadata": {}
                }
            ],
            "execution_count": 6
        },
        {
            "cell_type": "code",
            "source": [
                "select \n",
                "    date_part('year', dt)::int \"year\",\n",
                "    date_part('quarter', dt)::int \"quarter\",\n",
                "    date_part('month', dt)::int \"month\",\n",
                "    sum(revenue)\n",
                "    from sales \n",
                "    group by rollup(date_part('year', dt), date_part('quarter', dt), date_part('month', dt))\n",
                "    order by \"year\", \"quarter\", \"month\""
            ],
            "metadata": {
                "azdata_cell_guid": "c3e31984-b759-4c83-84ce-e43b956f45b8"
            },
            "outputs": [
                {
                    "output_type": "display_data",
                    "data": {
                        "text/html": "(35 row(s) affected)"
                    },
                    "metadata": {}
                },
                {
                    "output_type": "display_data",
                    "data": {
                        "text/html": "Total execution time: 00:00:00.005"
                    },
                    "metadata": {}
                },
                {
                    "output_type": "execute_result",
                    "execution_count": 7,
                    "data": {
                        "application/vnd.dataresource+json": {
                            "schema": {
                                "fields": [
                                    {
                                        "name": "year"
                                    },
                                    {
                                        "name": "quarter"
                                    },
                                    {
                                        "name": "month"
                                    },
                                    {
                                        "name": "sum"
                                    }
                                ]
                            },
                            "data": [
                                {
                                    "0": "2018",
                                    "1": "1",
                                    "2": "1",
                                    "3": "1142948"
                                },
                                {
                                    "0": "2018",
                                    "1": "1",
                                    "2": "2",
                                    "3": "1007347"
                                },
                                {
                                    "0": "2018",
                                    "1": "1",
                                    "2": "3",
                                    "3": "1076167"
                                },
                                {
                                    "0": "2018",
                                    "1": "1",
                                    "2": "NULL",
                                    "3": "3226462"
                                },
                                {
                                    "0": "2018",
                                    "1": "2",
                                    "2": "4",
                                    "3": "1092251"
                                },
                                {
                                    "0": "2018",
                                    "1": "2",
                                    "2": "5",
                                    "3": "1030790"
                                },
                                {
                                    "0": "2018",
                                    "1": "2",
                                    "2": "6",
                                    "3": "1027651"
                                },
                                {
                                    "0": "2018",
                                    "1": "2",
                                    "2": "NULL",
                                    "3": "3150692"
                                },
                                {
                                    "0": "2018",
                                    "1": "3",
                                    "2": "7",
                                    "3": "1052814"
                                },
                                {
                                    "0": "2018",
                                    "1": "3",
                                    "2": "8",
                                    "3": "1052255"
                                },
                                {
                                    "0": "2018",
                                    "1": "3",
                                    "2": "9",
                                    "3": "1020990"
                                },
                                {
                                    "0": "2018",
                                    "1": "3",
                                    "2": "NULL",
                                    "3": "3126059"
                                },
                                {
                                    "0": "2018",
                                    "1": "4",
                                    "2": "10",
                                    "3": "1116989"
                                },
                                {
                                    "0": "2018",
                                    "1": "4",
                                    "2": "11",
                                    "3": "1082442"
                                },
                                {
                                    "0": "2018",
                                    "1": "4",
                                    "2": "12",
                                    "3": "1021815"
                                },
                                {
                                    "0": "2018",
                                    "1": "4",
                                    "2": "NULL",
                                    "3": "3221246"
                                },
                                {
                                    "0": "2018",
                                    "1": "NULL",
                                    "2": "NULL",
                                    "3": "12724459"
                                },
                                {
                                    "0": "2019",
                                    "1": "1",
                                    "2": "1",
                                    "3": "1051171"
                                },
                                {
                                    "0": "2019",
                                    "1": "1",
                                    "2": "2",
                                    "3": "993943"
                                },
                                {
                                    "0": "2019",
                                    "1": "1",
                                    "2": "3",
                                    "3": "1116297"
                                },
                                {
                                    "0": "2019",
                                    "1": "1",
                                    "2": "NULL",
                                    "3": "3161411"
                                },
                                {
                                    "0": "2019",
                                    "1": "2",
                                    "2": "4",
                                    "3": "1000552"
                                },
                                {
                                    "0": "2019",
                                    "1": "2",
                                    "2": "5",
                                    "3": "1099110"
                                },
                                {
                                    "0": "2019",
                                    "1": "2",
                                    "2": "6",
                                    "3": "1079740"
                                },
                                {
                                    "0": "2019",
                                    "1": "2",
                                    "2": "NULL",
                                    "3": "3179402"
                                },
                                {
                                    "0": "2019",
                                    "1": "3",
                                    "2": "7",
                                    "3": "1056504"
                                },
                                {
                                    "0": "2019",
                                    "1": "3",
                                    "2": "8",
                                    "3": "1092986"
                                },
                                {
                                    "0": "2019",
                                    "1": "3",
                                    "2": "9",
                                    "3": "1125085"
                                },
                                {
                                    "0": "2019",
                                    "1": "3",
                                    "2": "NULL",
                                    "3": "3274575"
                                },
                                {
                                    "0": "2019",
                                    "1": "4",
                                    "2": "10",
                                    "3": "1073662"
                                },
                                {
                                    "0": "2019",
                                    "1": "4",
                                    "2": "11",
                                    "3": "1064987"
                                },
                                {
                                    "0": "2019",
                                    "1": "4",
                                    "2": "12",
                                    "3": "1063850"
                                },
                                {
                                    "0": "2019",
                                    "1": "4",
                                    "2": "NULL",
                                    "3": "3202499"
                                },
                                {
                                    "0": "2019",
                                    "1": "NULL",
                                    "2": "NULL",
                                    "3": "12817887"
                                },
                                {
                                    "0": "NULL",
                                    "1": "NULL",
                                    "2": "NULL",
                                    "3": "25542346"
                                }
                            ]
                        },
                        "text/html": "<table><tr><th>year</th><th>quarter</th><th>month</th><th>sum</th></tr><tr><td>2018</td><td>1</td><td>1</td><td>1142948</td></tr><tr><td>2018</td><td>1</td><td>2</td><td>1007347</td></tr><tr><td>2018</td><td>1</td><td>3</td><td>1076167</td></tr><tr><td>2018</td><td>1</td><td>NULL</td><td>3226462</td></tr><tr><td>2018</td><td>2</td><td>4</td><td>1092251</td></tr><tr><td>2018</td><td>2</td><td>5</td><td>1030790</td></tr><tr><td>2018</td><td>2</td><td>6</td><td>1027651</td></tr><tr><td>2018</td><td>2</td><td>NULL</td><td>3150692</td></tr><tr><td>2018</td><td>3</td><td>7</td><td>1052814</td></tr><tr><td>2018</td><td>3</td><td>8</td><td>1052255</td></tr><tr><td>2018</td><td>3</td><td>9</td><td>1020990</td></tr><tr><td>2018</td><td>3</td><td>NULL</td><td>3126059</td></tr><tr><td>2018</td><td>4</td><td>10</td><td>1116989</td></tr><tr><td>2018</td><td>4</td><td>11</td><td>1082442</td></tr><tr><td>2018</td><td>4</td><td>12</td><td>1021815</td></tr><tr><td>2018</td><td>4</td><td>NULL</td><td>3221246</td></tr><tr><td>2018</td><td>NULL</td><td>NULL</td><td>12724459</td></tr><tr><td>2019</td><td>1</td><td>1</td><td>1051171</td></tr><tr><td>2019</td><td>1</td><td>2</td><td>993943</td></tr><tr><td>2019</td><td>1</td><td>3</td><td>1116297</td></tr><tr><td>2019</td><td>1</td><td>NULL</td><td>3161411</td></tr><tr><td>2019</td><td>2</td><td>4</td><td>1000552</td></tr><tr><td>2019</td><td>2</td><td>5</td><td>1099110</td></tr><tr><td>2019</td><td>2</td><td>6</td><td>1079740</td></tr><tr><td>2019</td><td>2</td><td>NULL</td><td>3179402</td></tr><tr><td>2019</td><td>3</td><td>7</td><td>1056504</td></tr><tr><td>2019</td><td>3</td><td>8</td><td>1092986</td></tr><tr><td>2019</td><td>3</td><td>9</td><td>1125085</td></tr><tr><td>2019</td><td>3</td><td>NULL</td><td>3274575</td></tr><tr><td>2019</td><td>4</td><td>10</td><td>1073662</td></tr><tr><td>2019</td><td>4</td><td>11</td><td>1064987</td></tr><tr><td>2019</td><td>4</td><td>12</td><td>1063850</td></tr><tr><td>2019</td><td>4</td><td>NULL</td><td>3202499</td></tr><tr><td>2019</td><td>NULL</td><td>NULL</td><td>12817887</td></tr><tr><td>NULL</td><td>NULL</td><td>NULL</td><td>25542346</td></tr></table>"
                    },
                    "metadata": {}
                }
            ],
            "execution_count": 7
        },
        {
            "cell_type": "code",
            "source": [
                "-- เขียนแบบ grouping set\n",
                "select \n",
                "    date_part('year', dt)::int \"year\",\n",
                "    date_part('quarter', dt)::int \"quarter\",\n",
                "    date_part('month', dt)::int \"month\",\n",
                "    sum(revenue)\n",
                "    from sales \n",
                "    -- group by rollup(date_part('year', dt), date_part('quarter', dt), date_part('month', dt))\n",
                "    group by grouping sets (\n",
                "        (date_part('year', dt), date_part('quarter', dt), date_part('month', dt)),\n",
                "        (date_part('year', dt), date_part('quarter', dt)),\n",
                "        date_part('year', dt),\n",
                "        ()\n",
                "    )\n",
                "    order by \"year\", \"quarter\", \"month\""
            ],
            "metadata": {
                "azdata_cell_guid": "5ec2aaba-1106-40b3-919f-602758092177"
            },
            "outputs": [
                {
                    "output_type": "display_data",
                    "data": {
                        "text/html": "(35 row(s) affected)"
                    },
                    "metadata": {}
                },
                {
                    "output_type": "display_data",
                    "data": {
                        "text/html": "Total execution time: 00:00:00.005"
                    },
                    "metadata": {}
                },
                {
                    "output_type": "execute_result",
                    "execution_count": 8,
                    "data": {
                        "application/vnd.dataresource+json": {
                            "schema": {
                                "fields": [
                                    {
                                        "name": "year"
                                    },
                                    {
                                        "name": "quarter"
                                    },
                                    {
                                        "name": "month"
                                    },
                                    {
                                        "name": "sum"
                                    }
                                ]
                            },
                            "data": [
                                {
                                    "0": "2018",
                                    "1": "1",
                                    "2": "1",
                                    "3": "1142948"
                                },
                                {
                                    "0": "2018",
                                    "1": "1",
                                    "2": "2",
                                    "3": "1007347"
                                },
                                {
                                    "0": "2018",
                                    "1": "1",
                                    "2": "3",
                                    "3": "1076167"
                                },
                                {
                                    "0": "2018",
                                    "1": "1",
                                    "2": "NULL",
                                    "3": "3226462"
                                },
                                {
                                    "0": "2018",
                                    "1": "2",
                                    "2": "4",
                                    "3": "1092251"
                                },
                                {
                                    "0": "2018",
                                    "1": "2",
                                    "2": "5",
                                    "3": "1030790"
                                },
                                {
                                    "0": "2018",
                                    "1": "2",
                                    "2": "6",
                                    "3": "1027651"
                                },
                                {
                                    "0": "2018",
                                    "1": "2",
                                    "2": "NULL",
                                    "3": "3150692"
                                },
                                {
                                    "0": "2018",
                                    "1": "3",
                                    "2": "7",
                                    "3": "1052814"
                                },
                                {
                                    "0": "2018",
                                    "1": "3",
                                    "2": "8",
                                    "3": "1052255"
                                },
                                {
                                    "0": "2018",
                                    "1": "3",
                                    "2": "9",
                                    "3": "1020990"
                                },
                                {
                                    "0": "2018",
                                    "1": "3",
                                    "2": "NULL",
                                    "3": "3126059"
                                },
                                {
                                    "0": "2018",
                                    "1": "4",
                                    "2": "10",
                                    "3": "1116989"
                                },
                                {
                                    "0": "2018",
                                    "1": "4",
                                    "2": "11",
                                    "3": "1082442"
                                },
                                {
                                    "0": "2018",
                                    "1": "4",
                                    "2": "12",
                                    "3": "1021815"
                                },
                                {
                                    "0": "2018",
                                    "1": "4",
                                    "2": "NULL",
                                    "3": "3221246"
                                },
                                {
                                    "0": "2018",
                                    "1": "NULL",
                                    "2": "NULL",
                                    "3": "12724459"
                                },
                                {
                                    "0": "2019",
                                    "1": "1",
                                    "2": "1",
                                    "3": "1051171"
                                },
                                {
                                    "0": "2019",
                                    "1": "1",
                                    "2": "2",
                                    "3": "993943"
                                },
                                {
                                    "0": "2019",
                                    "1": "1",
                                    "2": "3",
                                    "3": "1116297"
                                },
                                {
                                    "0": "2019",
                                    "1": "1",
                                    "2": "NULL",
                                    "3": "3161411"
                                },
                                {
                                    "0": "2019",
                                    "1": "2",
                                    "2": "4",
                                    "3": "1000552"
                                },
                                {
                                    "0": "2019",
                                    "1": "2",
                                    "2": "5",
                                    "3": "1099110"
                                },
                                {
                                    "0": "2019",
                                    "1": "2",
                                    "2": "6",
                                    "3": "1079740"
                                },
                                {
                                    "0": "2019",
                                    "1": "2",
                                    "2": "NULL",
                                    "3": "3179402"
                                },
                                {
                                    "0": "2019",
                                    "1": "3",
                                    "2": "7",
                                    "3": "1056504"
                                },
                                {
                                    "0": "2019",
                                    "1": "3",
                                    "2": "8",
                                    "3": "1092986"
                                },
                                {
                                    "0": "2019",
                                    "1": "3",
                                    "2": "9",
                                    "3": "1125085"
                                },
                                {
                                    "0": "2019",
                                    "1": "3",
                                    "2": "NULL",
                                    "3": "3274575"
                                },
                                {
                                    "0": "2019",
                                    "1": "4",
                                    "2": "10",
                                    "3": "1073662"
                                },
                                {
                                    "0": "2019",
                                    "1": "4",
                                    "2": "11",
                                    "3": "1064987"
                                },
                                {
                                    "0": "2019",
                                    "1": "4",
                                    "2": "12",
                                    "3": "1063850"
                                },
                                {
                                    "0": "2019",
                                    "1": "4",
                                    "2": "NULL",
                                    "3": "3202499"
                                },
                                {
                                    "0": "2019",
                                    "1": "NULL",
                                    "2": "NULL",
                                    "3": "12817887"
                                },
                                {
                                    "0": "NULL",
                                    "1": "NULL",
                                    "2": "NULL",
                                    "3": "25542346"
                                }
                            ]
                        },
                        "text/html": "<table><tr><th>year</th><th>quarter</th><th>month</th><th>sum</th></tr><tr><td>2018</td><td>1</td><td>1</td><td>1142948</td></tr><tr><td>2018</td><td>1</td><td>2</td><td>1007347</td></tr><tr><td>2018</td><td>1</td><td>3</td><td>1076167</td></tr><tr><td>2018</td><td>1</td><td>NULL</td><td>3226462</td></tr><tr><td>2018</td><td>2</td><td>4</td><td>1092251</td></tr><tr><td>2018</td><td>2</td><td>5</td><td>1030790</td></tr><tr><td>2018</td><td>2</td><td>6</td><td>1027651</td></tr><tr><td>2018</td><td>2</td><td>NULL</td><td>3150692</td></tr><tr><td>2018</td><td>3</td><td>7</td><td>1052814</td></tr><tr><td>2018</td><td>3</td><td>8</td><td>1052255</td></tr><tr><td>2018</td><td>3</td><td>9</td><td>1020990</td></tr><tr><td>2018</td><td>3</td><td>NULL</td><td>3126059</td></tr><tr><td>2018</td><td>4</td><td>10</td><td>1116989</td></tr><tr><td>2018</td><td>4</td><td>11</td><td>1082442</td></tr><tr><td>2018</td><td>4</td><td>12</td><td>1021815</td></tr><tr><td>2018</td><td>4</td><td>NULL</td><td>3221246</td></tr><tr><td>2018</td><td>NULL</td><td>NULL</td><td>12724459</td></tr><tr><td>2019</td><td>1</td><td>1</td><td>1051171</td></tr><tr><td>2019</td><td>1</td><td>2</td><td>993943</td></tr><tr><td>2019</td><td>1</td><td>3</td><td>1116297</td></tr><tr><td>2019</td><td>1</td><td>NULL</td><td>3161411</td></tr><tr><td>2019</td><td>2</td><td>4</td><td>1000552</td></tr><tr><td>2019</td><td>2</td><td>5</td><td>1099110</td></tr><tr><td>2019</td><td>2</td><td>6</td><td>1079740</td></tr><tr><td>2019</td><td>2</td><td>NULL</td><td>3179402</td></tr><tr><td>2019</td><td>3</td><td>7</td><td>1056504</td></tr><tr><td>2019</td><td>3</td><td>8</td><td>1092986</td></tr><tr><td>2019</td><td>3</td><td>9</td><td>1125085</td></tr><tr><td>2019</td><td>3</td><td>NULL</td><td>3274575</td></tr><tr><td>2019</td><td>4</td><td>10</td><td>1073662</td></tr><tr><td>2019</td><td>4</td><td>11</td><td>1064987</td></tr><tr><td>2019</td><td>4</td><td>12</td><td>1063850</td></tr><tr><td>2019</td><td>4</td><td>NULL</td><td>3202499</td></tr><tr><td>2019</td><td>NULL</td><td>NULL</td><td>12817887</td></tr><tr><td>NULL</td><td>NULL</td><td>NULL</td><td>25542346</td></tr></table>"
                    },
                    "metadata": {}
                }
            ],
            "execution_count": 8
        },
        {
            "cell_type": "code",
            "source": [
                "select \n",
                "        branch,\n",
                "        date_part('year', dt)::int \"year\",\n",
                "        date_part('quarter', dt)::int \"quarter\",\n",
                "        date_part('month', dt)::int \"month\",\n",
                "        sum(revenue)\n",
                "    from sales \n",
                "    group by rollup(branch, date_part('year', dt), date_part('quarter', dt), date_part('month', dt))\n",
                "    order by branch, \"year\", \"quarter\", \"month\""
            ],
            "metadata": {
                "azdata_cell_guid": "6675d498-1b99-468e-aba5-fe1ed4ba1e2d"
            },
            "outputs": [
                {
                    "output_type": "display_data",
                    "data": {
                        "text/html": "(71 row(s) affected)"
                    },
                    "metadata": {}
                },
                {
                    "output_type": "display_data",
                    "data": {
                        "text/html": "Total execution time: 00:00:00.009"
                    },
                    "metadata": {}
                },
                {
                    "output_type": "execute_result",
                    "execution_count": 9,
                    "data": {
                        "application/vnd.dataresource+json": {
                            "schema": {
                                "fields": [
                                    {
                                        "name": "branch"
                                    },
                                    {
                                        "name": "year"
                                    },
                                    {
                                        "name": "quarter"
                                    },
                                    {
                                        "name": "month"
                                    },
                                    {
                                        "name": "sum"
                                    }
                                ]
                            },
                            "data": [
                                {
                                    "0": "bangkok",
                                    "1": "2018",
                                    "2": "1",
                                    "3": "1",
                                    "4": "651358"
                                },
                                {
                                    "0": "bangkok",
                                    "1": "2018",
                                    "2": "1",
                                    "3": "2",
                                    "4": "560901"
                                },
                                {
                                    "0": "bangkok",
                                    "1": "2018",
                                    "2": "1",
                                    "3": "3",
                                    "4": "613155"
                                },
                                {
                                    "0": "bangkok",
                                    "1": "2018",
                                    "2": "1",
                                    "3": "NULL",
                                    "4": "1825414"
                                },
                                {
                                    "0": "bangkok",
                                    "1": "2018",
                                    "2": "2",
                                    "3": "4",
                                    "4": "645128"
                                },
                                {
                                    "0": "bangkok",
                                    "1": "2018",
                                    "2": "2",
                                    "3": "5",
                                    "4": "576109"
                                },
                                {
                                    "0": "bangkok",
                                    "1": "2018",
                                    "2": "2",
                                    "3": "6",
                                    "4": "604661"
                                },
                                {
                                    "0": "bangkok",
                                    "1": "2018",
                                    "2": "2",
                                    "3": "NULL",
                                    "4": "1825898"
                                },
                                {
                                    "0": "bangkok",
                                    "1": "2018",
                                    "2": "3",
                                    "3": "7",
                                    "4": "578793"
                                },
                                {
                                    "0": "bangkok",
                                    "1": "2018",
                                    "2": "3",
                                    "3": "8",
                                    "4": "637582"
                                },
                                {
                                    "0": "bangkok",
                                    "1": "2018",
                                    "2": "3",
                                    "3": "9",
                                    "4": "566532"
                                },
                                {
                                    "0": "bangkok",
                                    "1": "2018",
                                    "2": "3",
                                    "3": "NULL",
                                    "4": "1782907"
                                },
                                {
                                    "0": "bangkok",
                                    "1": "2018",
                                    "2": "4",
                                    "3": "10",
                                    "4": "658339"
                                },
                                {
                                    "0": "bangkok",
                                    "1": "2018",
                                    "2": "4",
                                    "3": "11",
                                    "4": "631292"
                                },
                                {
                                    "0": "bangkok",
                                    "1": "2018",
                                    "2": "4",
                                    "3": "12",
                                    "4": "555450"
                                },
                                {
                                    "0": "bangkok",
                                    "1": "2018",
                                    "2": "4",
                                    "3": "NULL",
                                    "4": "1845081"
                                },
                                {
                                    "0": "bangkok",
                                    "1": "2018",
                                    "2": "NULL",
                                    "3": "NULL",
                                    "4": "7279300"
                                },
                                {
                                    "0": "bangkok",
                                    "1": "2019",
                                    "2": "1",
                                    "3": "1",
                                    "4": "620556"
                                },
                                {
                                    "0": "bangkok",
                                    "1": "2019",
                                    "2": "1",
                                    "3": "2",
                                    "4": "568715"
                                },
                                {
                                    "0": "bangkok",
                                    "1": "2019",
                                    "2": "1",
                                    "3": "3",
                                    "4": "651521"
                                },
                                {
                                    "0": "bangkok",
                                    "1": "2019",
                                    "2": "1",
                                    "3": "NULL",
                                    "4": "1840792"
                                },
                                {
                                    "0": "bangkok",
                                    "1": "2019",
                                    "2": "2",
                                    "3": "4",
                                    "4": "537748"
                                },
                                {
                                    "0": "bangkok",
                                    "1": "2019",
                                    "2": "2",
                                    "3": "5",
                                    "4": "655961"
                                },
                                {
                                    "0": "bangkok",
                                    "1": "2019",
                                    "2": "2",
                                    "3": "6",
                                    "4": "632247"
                                },
                                {
                                    "0": "bangkok",
                                    "1": "2019",
                                    "2": "2",
                                    "3": "NULL",
                                    "4": "1825956"
                                },
                                {
                                    "0": "bangkok",
                                    "1": "2019",
                                    "2": "3",
                                    "3": "7",
                                    "4": "605240"
                                },
                                {
                                    "0": "bangkok",
                                    "1": "2019",
                                    "2": "3",
                                    "3": "8",
                                    "4": "616458"
                                },
                                {
                                    "0": "bangkok",
                                    "1": "2019",
                                    "2": "3",
                                    "3": "9",
                                    "4": "679310"
                                },
                                {
                                    "0": "bangkok",
                                    "1": "2019",
                                    "2": "3",
                                    "3": "NULL",
                                    "4": "1901008"
                                },
                                {
                                    "0": "bangkok",
                                    "1": "2019",
                                    "2": "4",
                                    "3": "10",
                                    "4": "619606"
                                },
                                {
                                    "0": "bangkok",
                                    "1": "2019",
                                    "2": "4",
                                    "3": "11",
                                    "4": "618736"
                                },
                                {
                                    "0": "bangkok",
                                    "1": "2019",
                                    "2": "4",
                                    "3": "12",
                                    "4": "597527"
                                },
                                {
                                    "0": "bangkok",
                                    "1": "2019",
                                    "2": "4",
                                    "3": "NULL",
                                    "4": "1835869"
                                },
                                {
                                    "0": "bangkok",
                                    "1": "2019",
                                    "2": "NULL",
                                    "3": "NULL",
                                    "4": "7403625"
                                },
                                {
                                    "0": "bangkok",
                                    "1": "NULL",
                                    "2": "NULL",
                                    "3": "NULL",
                                    "4": "14682925"
                                },
                                {
                                    "0": "phuket",
                                    "1": "2018",
                                    "2": "1",
                                    "3": "1",
                                    "4": "491590"
                                },
                                {
                                    "0": "phuket",
                                    "1": "2018",
                                    "2": "1",
                                    "3": "2",
                                    "4": "446446"
                                },
                                {
                                    "0": "phuket",
                                    "1": "2018",
                                    "2": "1",
                                    "3": "3",
                                    "4": "463012"
                                },
                                {
                                    "0": "phuket",
                                    "1": "2018",
                                    "2": "1",
                                    "3": "NULL",
                                    "4": "1401048"
                                },
                                {
                                    "0": "phuket",
                                    "1": "2018",
                                    "2": "2",
                                    "3": "4",
                                    "4": "447123"
                                },
                                {
                                    "0": "phuket",
                                    "1": "2018",
                                    "2": "2",
                                    "3": "5",
                                    "4": "454681"
                                },
                                {
                                    "0": "phuket",
                                    "1": "2018",
                                    "2": "2",
                                    "3": "6",
                                    "4": "422990"
                                },
                                {
                                    "0": "phuket",
                                    "1": "2018",
                                    "2": "2",
                                    "3": "NULL",
                                    "4": "1324794"
                                },
                                {
                                    "0": "phuket",
                                    "1": "2018",
                                    "2": "3",
                                    "3": "7",
                                    "4": "474021"
                                },
                                {
                                    "0": "phuket",
                                    "1": "2018",
                                    "2": "3",
                                    "3": "8",
                                    "4": "414673"
                                },
                                {
                                    "0": "phuket",
                                    "1": "2018",
                                    "2": "3",
                                    "3": "9",
                                    "4": "454458"
                                },
                                {
                                    "0": "phuket",
                                    "1": "2018",
                                    "2": "3",
                                    "3": "NULL",
                                    "4": "1343152"
                                },
                                {
                                    "0": "phuket",
                                    "1": "2018",
                                    "2": "4",
                                    "3": "10",
                                    "4": "458650"
                                },
                                {
                                    "0": "phuket",
                                    "1": "2018",
                                    "2": "4",
                                    "3": "11",
                                    "4": "451150"
                                },
                                {
                                    "0": "phuket",
                                    "1": "2018",
                                    "2": "4",
                                    "3": "12",
                                    "4": "466365"
                                },
                                {
                                    "0": "phuket",
                                    "1": "2018",
                                    "2": "4",
                                    "3": "NULL",
                                    "4": "1376165"
                                },
                                {
                                    "0": "phuket",
                                    "1": "2018",
                                    "2": "NULL",
                                    "3": "NULL",
                                    "4": "5445159"
                                },
                                {
                                    "0": "phuket",
                                    "1": "2019",
                                    "2": "1",
                                    "3": "1",
                                    "4": "430615"
                                },
                                {
                                    "0": "phuket",
                                    "1": "2019",
                                    "2": "1",
                                    "3": "2",
                                    "4": "425228"
                                },
                                {
                                    "0": "phuket",
                                    "1": "2019",
                                    "2": "1",
                                    "3": "3",
                                    "4": "464776"
                                },
                                {
                                    "0": "phuket",
                                    "1": "2019",
                                    "2": "1",
                                    "3": "NULL",
                                    "4": "1320619"
                                },
                                {
                                    "0": "phuket",
                                    "1": "2019",
                                    "2": "2",
                                    "3": "4",
                                    "4": "462804"
                                },
                                {
                                    "0": "phuket",
                                    "1": "2019",
                                    "2": "2",
                                    "3": "5",
                                    "4": "443149"
                                },
                                {
                                    "0": "phuket",
                                    "1": "2019",
                                    "2": "2",
                                    "3": "6",
                                    "4": "447493"
                                },
                                {
                                    "0": "phuket",
                                    "1": "2019",
                                    "2": "2",
                                    "3": "NULL",
                                    "4": "1353446"
                                },
                                {
                                    "0": "phuket",
                                    "1": "2019",
                                    "2": "3",
                                    "3": "7",
                                    "4": "451264"
                                },
                                {
                                    "0": "phuket",
                                    "1": "2019",
                                    "2": "3",
                                    "3": "8",
                                    "4": "476528"
                                },
                                {
                                    "0": "phuket",
                                    "1": "2019",
                                    "2": "3",
                                    "3": "9",
                                    "4": "445775"
                                },
                                {
                                    "0": "phuket",
                                    "1": "2019",
                                    "2": "3",
                                    "3": "NULL",
                                    "4": "1373567"
                                },
                                {
                                    "0": "phuket",
                                    "1": "2019",
                                    "2": "4",
                                    "3": "10",
                                    "4": "454056"
                                },
                                {
                                    "0": "phuket",
                                    "1": "2019",
                                    "2": "4",
                                    "3": "11",
                                    "4": "446251"
                                },
                                {
                                    "0": "phuket",
                                    "1": "2019",
                                    "2": "4",
                                    "3": "12",
                                    "4": "466323"
                                },
                                {
                                    "0": "phuket",
                                    "1": "2019",
                                    "2": "4",
                                    "3": "NULL",
                                    "4": "1366630"
                                },
                                {
                                    "0": "phuket",
                                    "1": "2019",
                                    "2": "NULL",
                                    "3": "NULL",
                                    "4": "5414262"
                                },
                                {
                                    "0": "phuket",
                                    "1": "NULL",
                                    "2": "NULL",
                                    "3": "NULL",
                                    "4": "10859421"
                                },
                                {
                                    "0": "NULL",
                                    "1": "NULL",
                                    "2": "NULL",
                                    "3": "NULL",
                                    "4": "25542346"
                                }
                            ]
                        },
                        "text/html": "<table><tr><th>branch</th><th>year</th><th>quarter</th><th>month</th><th>sum</th></tr><tr><td>bangkok</td><td>2018</td><td>1</td><td>1</td><td>651358</td></tr><tr><td>bangkok</td><td>2018</td><td>1</td><td>2</td><td>560901</td></tr><tr><td>bangkok</td><td>2018</td><td>1</td><td>3</td><td>613155</td></tr><tr><td>bangkok</td><td>2018</td><td>1</td><td>NULL</td><td>1825414</td></tr><tr><td>bangkok</td><td>2018</td><td>2</td><td>4</td><td>645128</td></tr><tr><td>bangkok</td><td>2018</td><td>2</td><td>5</td><td>576109</td></tr><tr><td>bangkok</td><td>2018</td><td>2</td><td>6</td><td>604661</td></tr><tr><td>bangkok</td><td>2018</td><td>2</td><td>NULL</td><td>1825898</td></tr><tr><td>bangkok</td><td>2018</td><td>3</td><td>7</td><td>578793</td></tr><tr><td>bangkok</td><td>2018</td><td>3</td><td>8</td><td>637582</td></tr><tr><td>bangkok</td><td>2018</td><td>3</td><td>9</td><td>566532</td></tr><tr><td>bangkok</td><td>2018</td><td>3</td><td>NULL</td><td>1782907</td></tr><tr><td>bangkok</td><td>2018</td><td>4</td><td>10</td><td>658339</td></tr><tr><td>bangkok</td><td>2018</td><td>4</td><td>11</td><td>631292</td></tr><tr><td>bangkok</td><td>2018</td><td>4</td><td>12</td><td>555450</td></tr><tr><td>bangkok</td><td>2018</td><td>4</td><td>NULL</td><td>1845081</td></tr><tr><td>bangkok</td><td>2018</td><td>NULL</td><td>NULL</td><td>7279300</td></tr><tr><td>bangkok</td><td>2019</td><td>1</td><td>1</td><td>620556</td></tr><tr><td>bangkok</td><td>2019</td><td>1</td><td>2</td><td>568715</td></tr><tr><td>bangkok</td><td>2019</td><td>1</td><td>3</td><td>651521</td></tr><tr><td>bangkok</td><td>2019</td><td>1</td><td>NULL</td><td>1840792</td></tr><tr><td>bangkok</td><td>2019</td><td>2</td><td>4</td><td>537748</td></tr><tr><td>bangkok</td><td>2019</td><td>2</td><td>5</td><td>655961</td></tr><tr><td>bangkok</td><td>2019</td><td>2</td><td>6</td><td>632247</td></tr><tr><td>bangkok</td><td>2019</td><td>2</td><td>NULL</td><td>1825956</td></tr><tr><td>bangkok</td><td>2019</td><td>3</td><td>7</td><td>605240</td></tr><tr><td>bangkok</td><td>2019</td><td>3</td><td>8</td><td>616458</td></tr><tr><td>bangkok</td><td>2019</td><td>3</td><td>9</td><td>679310</td></tr><tr><td>bangkok</td><td>2019</td><td>3</td><td>NULL</td><td>1901008</td></tr><tr><td>bangkok</td><td>2019</td><td>4</td><td>10</td><td>619606</td></tr><tr><td>bangkok</td><td>2019</td><td>4</td><td>11</td><td>618736</td></tr><tr><td>bangkok</td><td>2019</td><td>4</td><td>12</td><td>597527</td></tr><tr><td>bangkok</td><td>2019</td><td>4</td><td>NULL</td><td>1835869</td></tr><tr><td>bangkok</td><td>2019</td><td>NULL</td><td>NULL</td><td>7403625</td></tr><tr><td>bangkok</td><td>NULL</td><td>NULL</td><td>NULL</td><td>14682925</td></tr><tr><td>phuket</td><td>2018</td><td>1</td><td>1</td><td>491590</td></tr><tr><td>phuket</td><td>2018</td><td>1</td><td>2</td><td>446446</td></tr><tr><td>phuket</td><td>2018</td><td>1</td><td>3</td><td>463012</td></tr><tr><td>phuket</td><td>2018</td><td>1</td><td>NULL</td><td>1401048</td></tr><tr><td>phuket</td><td>2018</td><td>2</td><td>4</td><td>447123</td></tr><tr><td>phuket</td><td>2018</td><td>2</td><td>5</td><td>454681</td></tr><tr><td>phuket</td><td>2018</td><td>2</td><td>6</td><td>422990</td></tr><tr><td>phuket</td><td>2018</td><td>2</td><td>NULL</td><td>1324794</td></tr><tr><td>phuket</td><td>2018</td><td>3</td><td>7</td><td>474021</td></tr><tr><td>phuket</td><td>2018</td><td>3</td><td>8</td><td>414673</td></tr><tr><td>phuket</td><td>2018</td><td>3</td><td>9</td><td>454458</td></tr><tr><td>phuket</td><td>2018</td><td>3</td><td>NULL</td><td>1343152</td></tr><tr><td>phuket</td><td>2018</td><td>4</td><td>10</td><td>458650</td></tr><tr><td>phuket</td><td>2018</td><td>4</td><td>11</td><td>451150</td></tr><tr><td>phuket</td><td>2018</td><td>4</td><td>12</td><td>466365</td></tr><tr><td>phuket</td><td>2018</td><td>4</td><td>NULL</td><td>1376165</td></tr><tr><td>phuket</td><td>2018</td><td>NULL</td><td>NULL</td><td>5445159</td></tr><tr><td>phuket</td><td>2019</td><td>1</td><td>1</td><td>430615</td></tr><tr><td>phuket</td><td>2019</td><td>1</td><td>2</td><td>425228</td></tr><tr><td>phuket</td><td>2019</td><td>1</td><td>3</td><td>464776</td></tr><tr><td>phuket</td><td>2019</td><td>1</td><td>NULL</td><td>1320619</td></tr><tr><td>phuket</td><td>2019</td><td>2</td><td>4</td><td>462804</td></tr><tr><td>phuket</td><td>2019</td><td>2</td><td>5</td><td>443149</td></tr><tr><td>phuket</td><td>2019</td><td>2</td><td>6</td><td>447493</td></tr><tr><td>phuket</td><td>2019</td><td>2</td><td>NULL</td><td>1353446</td></tr><tr><td>phuket</td><td>2019</td><td>3</td><td>7</td><td>451264</td></tr><tr><td>phuket</td><td>2019</td><td>3</td><td>8</td><td>476528</td></tr><tr><td>phuket</td><td>2019</td><td>3</td><td>9</td><td>445775</td></tr><tr><td>phuket</td><td>2019</td><td>3</td><td>NULL</td><td>1373567</td></tr><tr><td>phuket</td><td>2019</td><td>4</td><td>10</td><td>454056</td></tr><tr><td>phuket</td><td>2019</td><td>4</td><td>11</td><td>446251</td></tr><tr><td>phuket</td><td>2019</td><td>4</td><td>12</td><td>466323</td></tr><tr><td>phuket</td><td>2019</td><td>4</td><td>NULL</td><td>1366630</td></tr><tr><td>phuket</td><td>2019</td><td>NULL</td><td>NULL</td><td>5414262</td></tr><tr><td>phuket</td><td>NULL</td><td>NULL</td><td>NULL</td><td>10859421</td></tr><tr><td>NULL</td><td>NULL</td><td>NULL</td><td>NULL</td><td>25542346</td></tr></table>"
                    },
                    "metadata": {}
                }
            ],
            "execution_count": 9
        },
        {
            "cell_type": "code",
            "source": [
                "select \n",
                "        branch,\n",
                "        date_part('year', dt)::int ,\n",
                "        date_part('quarter', dt)::int ,\n",
                "        date_part('month', dt)::int ,\n",
                "        sum(revenue),\n",
                "        to_char(sum(revenue), '9G999G999G999')\n",
                "    from sales \n",
                "    -- group by rollup(branch, date_part('year', dt), date_part('quarter', dt), date_part('month', dt))\n",
                "    group by branch, rollup(date_part('year', dt), date_part('quarter', dt), date_part('month', dt))\n",
                "    order by branch, , , \n",
                "\n",
                "    -- จะไม่มี grand total"
            ],
            "metadata": {
                "azdata_cell_guid": "9f8fc2e9-8400-46c3-8e6d-21921b65918e"
            },
            "outputs": [
                {
                    "output_type": "display_data",
                    "data": {
                        "text/html": "(70 row(s) affected)"
                    },
                    "metadata": {}
                },
                {
                    "output_type": "display_data",
                    "data": {
                        "text/html": "Total execution time: 00:00:00.015"
                    },
                    "metadata": {}
                },
                {
                    "output_type": "execute_result",
                    "execution_count": 11,
                    "data": {
                        "application/vnd.dataresource+json": {
                            "schema": {
                                "fields": [
                                    {
                                        "name": "branch"
                                    },
                                    {
                                        "name": "year"
                                    },
                                    {
                                        "name": "quarter"
                                    },
                                    {
                                        "name": "month"
                                    },
                                    {
                                        "name": "sum"
                                    },
                                    {
                                        "name": "to_char"
                                    }
                                ]
                            },
                            "data": [
                                {
                                    "0": "bangkok",
                                    "1": "2018",
                                    "2": "1",
                                    "3": "1",
                                    "4": "651358",
                                    "5": "       651,358"
                                },
                                {
                                    "0": "bangkok",
                                    "1": "2018",
                                    "2": "1",
                                    "3": "2",
                                    "4": "560901",
                                    "5": "       560,901"
                                },
                                {
                                    "0": "bangkok",
                                    "1": "2018",
                                    "2": "1",
                                    "3": "3",
                                    "4": "613155",
                                    "5": "       613,155"
                                },
                                {
                                    "0": "bangkok",
                                    "1": "2018",
                                    "2": "1",
                                    "3": "NULL",
                                    "4": "1825414",
                                    "5": "     1,825,414"
                                },
                                {
                                    "0": "bangkok",
                                    "1": "2018",
                                    "2": "2",
                                    "3": "4",
                                    "4": "645128",
                                    "5": "       645,128"
                                },
                                {
                                    "0": "bangkok",
                                    "1": "2018",
                                    "2": "2",
                                    "3": "5",
                                    "4": "576109",
                                    "5": "       576,109"
                                },
                                {
                                    "0": "bangkok",
                                    "1": "2018",
                                    "2": "2",
                                    "3": "6",
                                    "4": "604661",
                                    "5": "       604,661"
                                },
                                {
                                    "0": "bangkok",
                                    "1": "2018",
                                    "2": "2",
                                    "3": "NULL",
                                    "4": "1825898",
                                    "5": "     1,825,898"
                                },
                                {
                                    "0": "bangkok",
                                    "1": "2018",
                                    "2": "3",
                                    "3": "7",
                                    "4": "578793",
                                    "5": "       578,793"
                                },
                                {
                                    "0": "bangkok",
                                    "1": "2018",
                                    "2": "3",
                                    "3": "8",
                                    "4": "637582",
                                    "5": "       637,582"
                                },
                                {
                                    "0": "bangkok",
                                    "1": "2018",
                                    "2": "3",
                                    "3": "9",
                                    "4": "566532",
                                    "5": "       566,532"
                                },
                                {
                                    "0": "bangkok",
                                    "1": "2018",
                                    "2": "3",
                                    "3": "NULL",
                                    "4": "1782907",
                                    "5": "     1,782,907"
                                },
                                {
                                    "0": "bangkok",
                                    "1": "2018",
                                    "2": "4",
                                    "3": "10",
                                    "4": "658339",
                                    "5": "       658,339"
                                },
                                {
                                    "0": "bangkok",
                                    "1": "2018",
                                    "2": "4",
                                    "3": "11",
                                    "4": "631292",
                                    "5": "       631,292"
                                },
                                {
                                    "0": "bangkok",
                                    "1": "2018",
                                    "2": "4",
                                    "3": "12",
                                    "4": "555450",
                                    "5": "       555,450"
                                },
                                {
                                    "0": "bangkok",
                                    "1": "2018",
                                    "2": "4",
                                    "3": "NULL",
                                    "4": "1845081",
                                    "5": "     1,845,081"
                                },
                                {
                                    "0": "bangkok",
                                    "1": "2018",
                                    "2": "NULL",
                                    "3": "NULL",
                                    "4": "7279300",
                                    "5": "     7,279,300"
                                },
                                {
                                    "0": "bangkok",
                                    "1": "2019",
                                    "2": "1",
                                    "3": "1",
                                    "4": "620556",
                                    "5": "       620,556"
                                },
                                {
                                    "0": "bangkok",
                                    "1": "2019",
                                    "2": "1",
                                    "3": "2",
                                    "4": "568715",
                                    "5": "       568,715"
                                },
                                {
                                    "0": "bangkok",
                                    "1": "2019",
                                    "2": "1",
                                    "3": "3",
                                    "4": "651521",
                                    "5": "       651,521"
                                },
                                {
                                    "0": "bangkok",
                                    "1": "2019",
                                    "2": "1",
                                    "3": "NULL",
                                    "4": "1840792",
                                    "5": "     1,840,792"
                                },
                                {
                                    "0": "bangkok",
                                    "1": "2019",
                                    "2": "2",
                                    "3": "4",
                                    "4": "537748",
                                    "5": "       537,748"
                                },
                                {
                                    "0": "bangkok",
                                    "1": "2019",
                                    "2": "2",
                                    "3": "5",
                                    "4": "655961",
                                    "5": "       655,961"
                                },
                                {
                                    "0": "bangkok",
                                    "1": "2019",
                                    "2": "2",
                                    "3": "6",
                                    "4": "632247",
                                    "5": "       632,247"
                                },
                                {
                                    "0": "bangkok",
                                    "1": "2019",
                                    "2": "2",
                                    "3": "NULL",
                                    "4": "1825956",
                                    "5": "     1,825,956"
                                },
                                {
                                    "0": "bangkok",
                                    "1": "2019",
                                    "2": "3",
                                    "3": "7",
                                    "4": "605240",
                                    "5": "       605,240"
                                },
                                {
                                    "0": "bangkok",
                                    "1": "2019",
                                    "2": "3",
                                    "3": "8",
                                    "4": "616458",
                                    "5": "       616,458"
                                },
                                {
                                    "0": "bangkok",
                                    "1": "2019",
                                    "2": "3",
                                    "3": "9",
                                    "4": "679310",
                                    "5": "       679,310"
                                },
                                {
                                    "0": "bangkok",
                                    "1": "2019",
                                    "2": "3",
                                    "3": "NULL",
                                    "4": "1901008",
                                    "5": "     1,901,008"
                                },
                                {
                                    "0": "bangkok",
                                    "1": "2019",
                                    "2": "4",
                                    "3": "10",
                                    "4": "619606",
                                    "5": "       619,606"
                                },
                                {
                                    "0": "bangkok",
                                    "1": "2019",
                                    "2": "4",
                                    "3": "11",
                                    "4": "618736",
                                    "5": "       618,736"
                                },
                                {
                                    "0": "bangkok",
                                    "1": "2019",
                                    "2": "4",
                                    "3": "12",
                                    "4": "597527",
                                    "5": "       597,527"
                                },
                                {
                                    "0": "bangkok",
                                    "1": "2019",
                                    "2": "4",
                                    "3": "NULL",
                                    "4": "1835869",
                                    "5": "     1,835,869"
                                },
                                {
                                    "0": "bangkok",
                                    "1": "2019",
                                    "2": "NULL",
                                    "3": "NULL",
                                    "4": "7403625",
                                    "5": "     7,403,625"
                                },
                                {
                                    "0": "bangkok",
                                    "1": "NULL",
                                    "2": "NULL",
                                    "3": "NULL",
                                    "4": "14682925",
                                    "5": "    14,682,925"
                                },
                                {
                                    "0": "phuket",
                                    "1": "2018",
                                    "2": "1",
                                    "3": "1",
                                    "4": "491590",
                                    "5": "       491,590"
                                },
                                {
                                    "0": "phuket",
                                    "1": "2018",
                                    "2": "1",
                                    "3": "2",
                                    "4": "446446",
                                    "5": "       446,446"
                                },
                                {
                                    "0": "phuket",
                                    "1": "2018",
                                    "2": "1",
                                    "3": "3",
                                    "4": "463012",
                                    "5": "       463,012"
                                },
                                {
                                    "0": "phuket",
                                    "1": "2018",
                                    "2": "1",
                                    "3": "NULL",
                                    "4": "1401048",
                                    "5": "     1,401,048"
                                },
                                {
                                    "0": "phuket",
                                    "1": "2018",
                                    "2": "2",
                                    "3": "4",
                                    "4": "447123",
                                    "5": "       447,123"
                                },
                                {
                                    "0": "phuket",
                                    "1": "2018",
                                    "2": "2",
                                    "3": "5",
                                    "4": "454681",
                                    "5": "       454,681"
                                },
                                {
                                    "0": "phuket",
                                    "1": "2018",
                                    "2": "2",
                                    "3": "6",
                                    "4": "422990",
                                    "5": "       422,990"
                                },
                                {
                                    "0": "phuket",
                                    "1": "2018",
                                    "2": "2",
                                    "3": "NULL",
                                    "4": "1324794",
                                    "5": "     1,324,794"
                                },
                                {
                                    "0": "phuket",
                                    "1": "2018",
                                    "2": "3",
                                    "3": "7",
                                    "4": "474021",
                                    "5": "       474,021"
                                },
                                {
                                    "0": "phuket",
                                    "1": "2018",
                                    "2": "3",
                                    "3": "8",
                                    "4": "414673",
                                    "5": "       414,673"
                                },
                                {
                                    "0": "phuket",
                                    "1": "2018",
                                    "2": "3",
                                    "3": "9",
                                    "4": "454458",
                                    "5": "       454,458"
                                },
                                {
                                    "0": "phuket",
                                    "1": "2018",
                                    "2": "3",
                                    "3": "NULL",
                                    "4": "1343152",
                                    "5": "     1,343,152"
                                },
                                {
                                    "0": "phuket",
                                    "1": "2018",
                                    "2": "4",
                                    "3": "10",
                                    "4": "458650",
                                    "5": "       458,650"
                                },
                                {
                                    "0": "phuket",
                                    "1": "2018",
                                    "2": "4",
                                    "3": "11",
                                    "4": "451150",
                                    "5": "       451,150"
                                },
                                {
                                    "0": "phuket",
                                    "1": "2018",
                                    "2": "4",
                                    "3": "12",
                                    "4": "466365",
                                    "5": "       466,365"
                                },
                                {
                                    "0": "phuket",
                                    "1": "2018",
                                    "2": "4",
                                    "3": "NULL",
                                    "4": "1376165",
                                    "5": "     1,376,165"
                                },
                                {
                                    "0": "phuket",
                                    "1": "2018",
                                    "2": "NULL",
                                    "3": "NULL",
                                    "4": "5445159",
                                    "5": "     5,445,159"
                                },
                                {
                                    "0": "phuket",
                                    "1": "2019",
                                    "2": "1",
                                    "3": "1",
                                    "4": "430615",
                                    "5": "       430,615"
                                },
                                {
                                    "0": "phuket",
                                    "1": "2019",
                                    "2": "1",
                                    "3": "2",
                                    "4": "425228",
                                    "5": "       425,228"
                                },
                                {
                                    "0": "phuket",
                                    "1": "2019",
                                    "2": "1",
                                    "3": "3",
                                    "4": "464776",
                                    "5": "       464,776"
                                },
                                {
                                    "0": "phuket",
                                    "1": "2019",
                                    "2": "1",
                                    "3": "NULL",
                                    "4": "1320619",
                                    "5": "     1,320,619"
                                },
                                {
                                    "0": "phuket",
                                    "1": "2019",
                                    "2": "2",
                                    "3": "4",
                                    "4": "462804",
                                    "5": "       462,804"
                                },
                                {
                                    "0": "phuket",
                                    "1": "2019",
                                    "2": "2",
                                    "3": "5",
                                    "4": "443149",
                                    "5": "       443,149"
                                },
                                {
                                    "0": "phuket",
                                    "1": "2019",
                                    "2": "2",
                                    "3": "6",
                                    "4": "447493",
                                    "5": "       447,493"
                                },
                                {
                                    "0": "phuket",
                                    "1": "2019",
                                    "2": "2",
                                    "3": "NULL",
                                    "4": "1353446",
                                    "5": "     1,353,446"
                                },
                                {
                                    "0": "phuket",
                                    "1": "2019",
                                    "2": "3",
                                    "3": "7",
                                    "4": "451264",
                                    "5": "       451,264"
                                },
                                {
                                    "0": "phuket",
                                    "1": "2019",
                                    "2": "3",
                                    "3": "8",
                                    "4": "476528",
                                    "5": "       476,528"
                                },
                                {
                                    "0": "phuket",
                                    "1": "2019",
                                    "2": "3",
                                    "3": "9",
                                    "4": "445775",
                                    "5": "       445,775"
                                },
                                {
                                    "0": "phuket",
                                    "1": "2019",
                                    "2": "3",
                                    "3": "NULL",
                                    "4": "1373567",
                                    "5": "     1,373,567"
                                },
                                {
                                    "0": "phuket",
                                    "1": "2019",
                                    "2": "4",
                                    "3": "10",
                                    "4": "454056",
                                    "5": "       454,056"
                                },
                                {
                                    "0": "phuket",
                                    "1": "2019",
                                    "2": "4",
                                    "3": "11",
                                    "4": "446251",
                                    "5": "       446,251"
                                },
                                {
                                    "0": "phuket",
                                    "1": "2019",
                                    "2": "4",
                                    "3": "12",
                                    "4": "466323",
                                    "5": "       466,323"
                                },
                                {
                                    "0": "phuket",
                                    "1": "2019",
                                    "2": "4",
                                    "3": "NULL",
                                    "4": "1366630",
                                    "5": "     1,366,630"
                                },
                                {
                                    "0": "phuket",
                                    "1": "2019",
                                    "2": "NULL",
                                    "3": "NULL",
                                    "4": "5414262",
                                    "5": "     5,414,262"
                                },
                                {
                                    "0": "phuket",
                                    "1": "NULL",
                                    "2": "NULL",
                                    "3": "NULL",
                                    "4": "10859421",
                                    "5": "    10,859,421"
                                }
                            ]
                        },
                        "text/html": "<table><tr><th>branch</th><th>year</th><th>quarter</th><th>month</th><th>sum</th><th>to_char</th></tr><tr><td>bangkok</td><td>2018</td><td>1</td><td>1</td><td>651358</td><td>       651,358</td></tr><tr><td>bangkok</td><td>2018</td><td>1</td><td>2</td><td>560901</td><td>       560,901</td></tr><tr><td>bangkok</td><td>2018</td><td>1</td><td>3</td><td>613155</td><td>       613,155</td></tr><tr><td>bangkok</td><td>2018</td><td>1</td><td>NULL</td><td>1825414</td><td>     1,825,414</td></tr><tr><td>bangkok</td><td>2018</td><td>2</td><td>4</td><td>645128</td><td>       645,128</td></tr><tr><td>bangkok</td><td>2018</td><td>2</td><td>5</td><td>576109</td><td>       576,109</td></tr><tr><td>bangkok</td><td>2018</td><td>2</td><td>6</td><td>604661</td><td>       604,661</td></tr><tr><td>bangkok</td><td>2018</td><td>2</td><td>NULL</td><td>1825898</td><td>     1,825,898</td></tr><tr><td>bangkok</td><td>2018</td><td>3</td><td>7</td><td>578793</td><td>       578,793</td></tr><tr><td>bangkok</td><td>2018</td><td>3</td><td>8</td><td>637582</td><td>       637,582</td></tr><tr><td>bangkok</td><td>2018</td><td>3</td><td>9</td><td>566532</td><td>       566,532</td></tr><tr><td>bangkok</td><td>2018</td><td>3</td><td>NULL</td><td>1782907</td><td>     1,782,907</td></tr><tr><td>bangkok</td><td>2018</td><td>4</td><td>10</td><td>658339</td><td>       658,339</td></tr><tr><td>bangkok</td><td>2018</td><td>4</td><td>11</td><td>631292</td><td>       631,292</td></tr><tr><td>bangkok</td><td>2018</td><td>4</td><td>12</td><td>555450</td><td>       555,450</td></tr><tr><td>bangkok</td><td>2018</td><td>4</td><td>NULL</td><td>1845081</td><td>     1,845,081</td></tr><tr><td>bangkok</td><td>2018</td><td>NULL</td><td>NULL</td><td>7279300</td><td>     7,279,300</td></tr><tr><td>bangkok</td><td>2019</td><td>1</td><td>1</td><td>620556</td><td>       620,556</td></tr><tr><td>bangkok</td><td>2019</td><td>1</td><td>2</td><td>568715</td><td>       568,715</td></tr><tr><td>bangkok</td><td>2019</td><td>1</td><td>3</td><td>651521</td><td>       651,521</td></tr><tr><td>bangkok</td><td>2019</td><td>1</td><td>NULL</td><td>1840792</td><td>     1,840,792</td></tr><tr><td>bangkok</td><td>2019</td><td>2</td><td>4</td><td>537748</td><td>       537,748</td></tr><tr><td>bangkok</td><td>2019</td><td>2</td><td>5</td><td>655961</td><td>       655,961</td></tr><tr><td>bangkok</td><td>2019</td><td>2</td><td>6</td><td>632247</td><td>       632,247</td></tr><tr><td>bangkok</td><td>2019</td><td>2</td><td>NULL</td><td>1825956</td><td>     1,825,956</td></tr><tr><td>bangkok</td><td>2019</td><td>3</td><td>7</td><td>605240</td><td>       605,240</td></tr><tr><td>bangkok</td><td>2019</td><td>3</td><td>8</td><td>616458</td><td>       616,458</td></tr><tr><td>bangkok</td><td>2019</td><td>3</td><td>9</td><td>679310</td><td>       679,310</td></tr><tr><td>bangkok</td><td>2019</td><td>3</td><td>NULL</td><td>1901008</td><td>     1,901,008</td></tr><tr><td>bangkok</td><td>2019</td><td>4</td><td>10</td><td>619606</td><td>       619,606</td></tr><tr><td>bangkok</td><td>2019</td><td>4</td><td>11</td><td>618736</td><td>       618,736</td></tr><tr><td>bangkok</td><td>2019</td><td>4</td><td>12</td><td>597527</td><td>       597,527</td></tr><tr><td>bangkok</td><td>2019</td><td>4</td><td>NULL</td><td>1835869</td><td>     1,835,869</td></tr><tr><td>bangkok</td><td>2019</td><td>NULL</td><td>NULL</td><td>7403625</td><td>     7,403,625</td></tr><tr><td>bangkok</td><td>NULL</td><td>NULL</td><td>NULL</td><td>14682925</td><td>    14,682,925</td></tr><tr><td>phuket</td><td>2018</td><td>1</td><td>1</td><td>491590</td><td>       491,590</td></tr><tr><td>phuket</td><td>2018</td><td>1</td><td>2</td><td>446446</td><td>       446,446</td></tr><tr><td>phuket</td><td>2018</td><td>1</td><td>3</td><td>463012</td><td>       463,012</td></tr><tr><td>phuket</td><td>2018</td><td>1</td><td>NULL</td><td>1401048</td><td>     1,401,048</td></tr><tr><td>phuket</td><td>2018</td><td>2</td><td>4</td><td>447123</td><td>       447,123</td></tr><tr><td>phuket</td><td>2018</td><td>2</td><td>5</td><td>454681</td><td>       454,681</td></tr><tr><td>phuket</td><td>2018</td><td>2</td><td>6</td><td>422990</td><td>       422,990</td></tr><tr><td>phuket</td><td>2018</td><td>2</td><td>NULL</td><td>1324794</td><td>     1,324,794</td></tr><tr><td>phuket</td><td>2018</td><td>3</td><td>7</td><td>474021</td><td>       474,021</td></tr><tr><td>phuket</td><td>2018</td><td>3</td><td>8</td><td>414673</td><td>       414,673</td></tr><tr><td>phuket</td><td>2018</td><td>3</td><td>9</td><td>454458</td><td>       454,458</td></tr><tr><td>phuket</td><td>2018</td><td>3</td><td>NULL</td><td>1343152</td><td>     1,343,152</td></tr><tr><td>phuket</td><td>2018</td><td>4</td><td>10</td><td>458650</td><td>       458,650</td></tr><tr><td>phuket</td><td>2018</td><td>4</td><td>11</td><td>451150</td><td>       451,150</td></tr><tr><td>phuket</td><td>2018</td><td>4</td><td>12</td><td>466365</td><td>       466,365</td></tr><tr><td>phuket</td><td>2018</td><td>4</td><td>NULL</td><td>1376165</td><td>     1,376,165</td></tr><tr><td>phuket</td><td>2018</td><td>NULL</td><td>NULL</td><td>5445159</td><td>     5,445,159</td></tr><tr><td>phuket</td><td>2019</td><td>1</td><td>1</td><td>430615</td><td>       430,615</td></tr><tr><td>phuket</td><td>2019</td><td>1</td><td>2</td><td>425228</td><td>       425,228</td></tr><tr><td>phuket</td><td>2019</td><td>1</td><td>3</td><td>464776</td><td>       464,776</td></tr><tr><td>phuket</td><td>2019</td><td>1</td><td>NULL</td><td>1320619</td><td>     1,320,619</td></tr><tr><td>phuket</td><td>2019</td><td>2</td><td>4</td><td>462804</td><td>       462,804</td></tr><tr><td>phuket</td><td>2019</td><td>2</td><td>5</td><td>443149</td><td>       443,149</td></tr><tr><td>phuket</td><td>2019</td><td>2</td><td>6</td><td>447493</td><td>       447,493</td></tr><tr><td>phuket</td><td>2019</td><td>2</td><td>NULL</td><td>1353446</td><td>     1,353,446</td></tr><tr><td>phuket</td><td>2019</td><td>3</td><td>7</td><td>451264</td><td>       451,264</td></tr><tr><td>phuket</td><td>2019</td><td>3</td><td>8</td><td>476528</td><td>       476,528</td></tr><tr><td>phuket</td><td>2019</td><td>3</td><td>9</td><td>445775</td><td>       445,775</td></tr><tr><td>phuket</td><td>2019</td><td>3</td><td>NULL</td><td>1373567</td><td>     1,373,567</td></tr><tr><td>phuket</td><td>2019</td><td>4</td><td>10</td><td>454056</td><td>       454,056</td></tr><tr><td>phuket</td><td>2019</td><td>4</td><td>11</td><td>446251</td><td>       446,251</td></tr><tr><td>phuket</td><td>2019</td><td>4</td><td>12</td><td>466323</td><td>       466,323</td></tr><tr><td>phuket</td><td>2019</td><td>4</td><td>NULL</td><td>1366630</td><td>     1,366,630</td></tr><tr><td>phuket</td><td>2019</td><td>NULL</td><td>NULL</td><td>5414262</td><td>     5,414,262</td></tr><tr><td>phuket</td><td>NULL</td><td>NULL</td><td>NULL</td><td>10859421</td><td>    10,859,421</td></tr></table>"
                    },
                    "metadata": {}
                }
            ],
            "execution_count": 11
        }
    ]
}