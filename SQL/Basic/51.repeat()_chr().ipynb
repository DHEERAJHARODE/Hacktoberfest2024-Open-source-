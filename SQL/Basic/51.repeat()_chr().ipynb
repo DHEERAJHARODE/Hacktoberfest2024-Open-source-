{
    "metadata": {
        "kernelspec": {
            "name": "SQL",
            "display_name": "SQL",
            "language": "sql"
        },
        "language_info": {
            "name": "sql",
            "version": ""
        }
    },
    "nbformat_minor": 2,
    "nbformat": 4,
    "cells": [
        {
            "cell_type": "markdown",
            "source": [
                "# databars\n",
                "## Server: PostgreSQL\n",
                "## Author: Prasert Kanawattanachai\n",
                "## YouTube: http://bit.ly/2mseopN"
            ],
            "metadata": {
                "azdata_cell_guid": "d6aa73ef-9f1d-44ce-88b2-05bb4f931c56"
            }
        },
        {
            "cell_type": "markdown",
            "source": [
                "## Block elements\n",
                "https://en.wikipedia.org/wiki/Block_Elements\n",
                "\n",
                "<table class=\"wikitable sortable collapsible mw-collapsible jquery-tablesorter mw-made-collapsible\">\n",
                "<thead><tr>\n",
                "<th class=\"headerSort\" tabindex=\"0\" role=\"columnheader button\" title=\"Sort ascending\"><span class=\"mw-collapsible-toggle mw-collapsible-toggle-default\" role=\"button\" tabindex=\"0\"><a class=\"mw-collapsible-text\"></a></span>Code\n",
                "</th>\n",
                "<th class=\"headerSort\" tabindex=\"0\" role=\"columnheader button\" title=\"Sort ascending\">Result\n",
                "</th>\n",
                "<th class=\"headerSort\" tabindex=\"0\" role=\"columnheader button\" title=\"Sort ascending\">Description\n",
                "</th></tr></thead><tbody>\n",
                "<tr>\n",
                "<td>U+2580\n",
                "</td>\n",
                "<td>▀\n",
                "</td>\n",
                "<td>Upper half block\n",
                "</td></tr>\n",
                "<tr>\n",
                "<td>U+2581\n",
                "</td>\n",
                "<td>▁\n",
                "</td>\n",
                "<td>Lower one eighth block\n",
                "</td></tr>\n",
                "<tr>\n",
                "<td>U+2582\n",
                "</td>\n",
                "<td>▂\n",
                "</td>\n",
                "<td>Lower one quarter block\n",
                "</td></tr>\n",
                "<tr>\n",
                "<td>U+2583\n",
                "</td>\n",
                "<td>▃\n",
                "</td>\n",
                "<td>Lower three eighths block\n",
                "</td></tr>\n",
                "<tr>\n",
                "<td>U+2584\n",
                "</td>\n",
                "<td>▄\n",
                "</td>\n",
                "<td>Lower half block\n",
                "</td></tr>\n",
                "<tr>\n",
                "<td>U+2585\n",
                "</td>\n",
                "<td>▅\n",
                "</td>\n",
                "<td>Lower five eighths block\n",
                "</td></tr>\n",
                "<tr>\n",
                "<td>U+2586\n",
                "</td>\n",
                "<td>▆\n",
                "</td>\n",
                "<td>Lower three quarters block\n",
                "</td></tr>\n",
                "<tr>\n",
                "<td>U+2587\n",
                "</td>\n",
                "<td>▇\n",
                "</td>\n",
                "<td>Lower seven eighths block\n",
                "</td></tr>\n",
                "<tr>\n",
                "<td>U+2588\n",
                "</td>\n",
                "<td>█\n",
                "</td>\n",
                "<td>Full block\n",
                "</td></tr>\n",
                "<tr>\n",
                "<td>U+2589\n",
                "</td>\n",
                "<td>▉\n",
                "</td>\n",
                "<td>Left seven eighths block\n",
                "</td></tr>\n",
                "<tr>\n",
                "<td>U+258A\n",
                "</td>\n",
                "<td>▊\n",
                "</td>\n",
                "<td>Left three quarters block\n",
                "</td></tr>\n",
                "<tr>\n",
                "<td>U+258B\n",
                "</td>\n",
                "<td>▋\n",
                "</td>\n",
                "<td>Left five eighths block\n",
                "</td></tr>\n",
                "<tr>\n",
                "<td>U+258C\n",
                "</td>\n",
                "<td>▌\n",
                "</td>\n",
                "<td>Left half block\n",
                "</td></tr>\n",
                "<tr>\n",
                "<td>U+258D\n",
                "</td>\n",
                "<td>▍\n",
                "</td>\n",
                "<td>Left three eighths block\n",
                "</td></tr>\n",
                "<tr>\n",
                "<td>U+258E\n",
                "</td>\n",
                "<td>▎\n",
                "</td>\n",
                "<td>Left one quarter block\n",
                "</td></tr>\n",
                "<tr>\n",
                "<td>U+258F\n",
                "</td>\n",
                "<td>▏\n",
                "</td>\n",
                "<td>Left one eighth block\n",
                "</td></tr>\n",
                "<tr>\n",
                "<td>U+2590\n",
                "</td>\n",
                "<td>▐\n",
                "</td>\n",
                "<td>Right half block\n",
                "</td></tr>\n",
                "<tr>\n",
                "<td>U+2591\n",
                "</td>\n",
                "<td>░\n",
                "</td>\n",
                "<td>Light shade\n",
                "</td></tr>\n",
                "<tr>\n",
                "<td>U+2592\n",
                "</td>\n",
                "<td>▒\n",
                "</td>\n",
                "<td>Medium shade\n",
                "</td></tr>\n",
                "<tr>\n",
                "<td>U+2593\n",
                "</td>\n",
                "<td>▓\n",
                "</td>\n",
                "<td>Dark shade\n",
                "</td></tr>\n",
                "<tr>\n",
                "<td>U+2594\n",
                "</td>\n",
                "<td>▔\n",
                "</td>\n",
                "<td>Upper one eighth block\n",
                "</td></tr>\n",
                "<tr>\n",
                "<td>U+2595\n",
                "</td>\n",
                "<td>▕\n",
                "</td>\n",
                "<td>Right one eighth block\n",
                "</td></tr>\n",
                "<tr>\n",
                "<td>U+2596\n",
                "</td>\n",
                "<td>▖\n",
                "</td>\n",
                "<td>Quadrant lower left\n",
                "</td></tr>\n",
                "<tr>\n",
                "<td>U+2597\n",
                "</td>\n",
                "<td>▗\n",
                "</td>\n",
                "<td>Quadrant lower right\n",
                "</td></tr>\n",
                "<tr>\n",
                "<td>U+2598\n",
                "</td>\n",
                "<td>▘\n",
                "</td>\n",
                "<td>Quadrant upper left\n",
                "</td></tr>\n",
                "<tr>\n",
                "<td>U+2599\n",
                "</td>\n",
                "<td>▙\n",
                "</td>\n",
                "<td>Quadrant upper left and lower left and lower right\n",
                "</td></tr>\n",
                "<tr>\n",
                "<td>U+259A\n",
                "</td>\n",
                "<td>▚\n",
                "</td>\n",
                "<td>Quadrant upper left and lower right\n",
                "</td></tr>\n",
                "<tr>\n",
                "<td>U+259B\n",
                "</td>\n",
                "<td>▛\n",
                "</td>\n",
                "<td>Quadrant upper left and upper right and lower left\n",
                "</td></tr>\n",
                "<tr>\n",
                "<td>U+259C\n",
                "</td>\n",
                "<td>▜\n",
                "</td>\n",
                "<td>Quadrant upper left and upper right and lower right\n",
                "</td></tr>\n",
                "<tr>\n",
                "<td>U+259D\n",
                "</td>\n",
                "<td>▝\n",
                "</td>\n",
                "<td>Quadrant upper right\n",
                "</td></tr>\n",
                "<tr>\n",
                "<td>U+259E\n",
                "</td>\n",
                "<td>▞\n",
                "</td>\n",
                "<td>Quadrant upper right and lower left\n",
                "</td></tr>\n",
                "<tr>\n",
                "<td>U+259F\n",
                "</td>\n",
                "<td>▟\n",
                "</td>\n",
                "<td>Quadrant upper right and lower left and lower right\n",
                "</td></tr></tbody><tfoot></tfoot></table>"
            ],
            "metadata": {
                "azdata_cell_guid": "4f33b281-dfd6-44c4-9256-98fc79ec905c"
            }
        },
        {
            "cell_type": "markdown",
            "source": [
                "#REPEAT(str,count)  ใช้ในการแทนที่แสดงจำนวนข้อความ ตามจำนวน Loop ที่ต้องการ\r\n",
                "\r\n",
                "#CHR(number) แปลงค่าตัวเลขเป็นตัวอักขระตามรหัสแอสกี"
            ],
            "metadata": {
                "azdata_cell_guid": "4ca5c868-d143-40a3-aab1-fd8b42826605"
            }
        },
        {
            "cell_type": "code",
            "source": [
                "drop table if exists visitor;\n",
                "\n",
                "create table visitor (\n",
                "    dt date,\n",
                "    male int,\n",
                "    female int\n",
                ");"
            ],
            "metadata": {
                "azdata_cell_guid": "da9d3f00-aab0-4984-b6af-2e1c26577c8f",
                "tags": []
            },
            "outputs": [
                {
                    "output_type": "display_data",
                    "data": {
                        "text/html": "Commands completed successfully"
                    },
                    "metadata": {}
                },
                {
                    "output_type": "display_data",
                    "data": {
                        "text/html": "Commands completed successfully"
                    },
                    "metadata": {}
                },
                {
                    "output_type": "display_data",
                    "data": {
                        "text/html": "Total execution time: 00:00:00.015"
                    },
                    "metadata": {}
                }
            ],
            "execution_count": 18
        },
        {
            "cell_type": "code",
            "source": [
                "select random()"
            ],
            "metadata": {
                "azdata_cell_guid": "e5a30b91-007b-44b2-8516-f81adbf0075b"
            },
            "outputs": [
                {
                    "output_type": "display_data",
                    "data": {
                        "text/html": "(1 row(s) affected)"
                    },
                    "metadata": {}
                },
                {
                    "output_type": "display_data",
                    "data": {
                        "text/html": "Total execution time: 00:00:00.008"
                    },
                    "metadata": {}
                },
                {
                    "output_type": "execute_result",
                    "metadata": {},
                    "execution_count": 19,
                    "data": {
                        "application/vnd.dataresource+json": {
                            "schema": {
                                "fields": [
                                    {
                                        "name": "random"
                                    }
                                ]
                            },
                            "data": [
                                {
                                    "0": "0.3300018905310047"
                                }
                            ]
                        },
                        "text/html": [
                            "<table>",
                            "<tr><th>random</th></tr>",
                            "<tr><td>0.3300018905310047</td></tr>",
                            "</table>"
                        ]
                    }
                }
            ],
            "execution_count": 19
        },
        {
            "cell_type": "code",
            "source": [
                "select dt::date,\n",
                "    (10 + random() * 20)::int male,\n",
                "    (15 + random() * 20)::int female\n",
                "    from generate_series('2019-07-01'::date, '2019-07-07'::date, '1 day') dt"
            ],
            "metadata": {
                "azdata_cell_guid": "911e9ac6-f0d8-45fc-b62c-49d817ad02fc"
            },
            "outputs": [
                {
                    "output_type": "display_data",
                    "data": {
                        "text/html": "(7 row(s) affected)"
                    },
                    "metadata": {}
                },
                {
                    "output_type": "display_data",
                    "data": {
                        "text/html": "Total execution time: 00:00:00.007"
                    },
                    "metadata": {}
                },
                {
                    "output_type": "execute_result",
                    "metadata": {},
                    "execution_count": 20,
                    "data": {
                        "application/vnd.dataresource+json": {
                            "schema": {
                                "fields": [
                                    {
                                        "name": "dt"
                                    },
                                    {
                                        "name": "male"
                                    },
                                    {
                                        "name": "female"
                                    }
                                ]
                            },
                            "data": [
                                {
                                    "0": "2019-07-01",
                                    "1": "13",
                                    "2": "26"
                                },
                                {
                                    "0": "2019-07-02",
                                    "1": "12",
                                    "2": "34"
                                },
                                {
                                    "0": "2019-07-03",
                                    "1": "19",
                                    "2": "24"
                                },
                                {
                                    "0": "2019-07-04",
                                    "1": "23",
                                    "2": "24"
                                },
                                {
                                    "0": "2019-07-05",
                                    "1": "12",
                                    "2": "30"
                                },
                                {
                                    "0": "2019-07-06",
                                    "1": "28",
                                    "2": "27"
                                },
                                {
                                    "0": "2019-07-07",
                                    "1": "20",
                                    "2": "30"
                                }
                            ]
                        },
                        "text/html": [
                            "<table>",
                            "<tr><th>dt</th><th>male</th><th>female</th></tr>",
                            "<tr><td>2019-07-01</td><td>13</td><td>26</td></tr>",
                            "<tr><td>2019-07-02</td><td>12</td><td>34</td></tr>",
                            "<tr><td>2019-07-03</td><td>19</td><td>24</td></tr>",
                            "<tr><td>2019-07-04</td><td>23</td><td>24</td></tr>",
                            "<tr><td>2019-07-05</td><td>12</td><td>30</td></tr>",
                            "<tr><td>2019-07-06</td><td>28</td><td>27</td></tr>",
                            "<tr><td>2019-07-07</td><td>20</td><td>30</td></tr>",
                            "</table>"
                        ]
                    }
                }
            ],
            "execution_count": 20
        },
        {
            "cell_type": "code",
            "source": [
                "insert into visitor\n",
                "    select dt::date,\n",
                "        (10 + random() * 20)::int male,\n",
                "        (15 + random() * 20)::int female\n",
                "        from generate_series('2019-07-01'::date, '2019-07-07'::date, '1 day') dt"
            ],
            "metadata": {
                "azdata_cell_guid": "4170c29a-bb71-4059-b186-349c9148597f"
            },
            "outputs": [
                {
                    "output_type": "display_data",
                    "data": {
                        "text/html": "Commands completed successfully"
                    },
                    "metadata": {}
                },
                {
                    "output_type": "display_data",
                    "data": {
                        "text/html": "Total execution time: 00:00:00"
                    },
                    "metadata": {}
                }
            ],
            "execution_count": 21
        },
        {
            "cell_type": "code",
            "source": [
                "select * from visitor"
            ],
            "metadata": {
                "azdata_cell_guid": "1b341654-c5b2-4762-a9b4-7af730bb6fba"
            },
            "outputs": [
                {
                    "output_type": "display_data",
                    "data": {
                        "text/html": "(7 row(s) affected)"
                    },
                    "metadata": {}
                },
                {
                    "output_type": "display_data",
                    "data": {
                        "text/html": "Total execution time: 00:00:00.007"
                    },
                    "metadata": {}
                },
                {
                    "output_type": "execute_result",
                    "metadata": {},
                    "execution_count": 22,
                    "data": {
                        "application/vnd.dataresource+json": {
                            "schema": {
                                "fields": [
                                    {
                                        "name": "dt"
                                    },
                                    {
                                        "name": "male"
                                    },
                                    {
                                        "name": "female"
                                    }
                                ]
                            },
                            "data": [
                                {
                                    "0": "2019-07-01",
                                    "1": "17",
                                    "2": "18"
                                },
                                {
                                    "0": "2019-07-02",
                                    "1": "22",
                                    "2": "20"
                                },
                                {
                                    "0": "2019-07-03",
                                    "1": "22",
                                    "2": "25"
                                },
                                {
                                    "0": "2019-07-04",
                                    "1": "20",
                                    "2": "33"
                                },
                                {
                                    "0": "2019-07-05",
                                    "1": "20",
                                    "2": "21"
                                },
                                {
                                    "0": "2019-07-06",
                                    "1": "17",
                                    "2": "34"
                                },
                                {
                                    "0": "2019-07-07",
                                    "1": "25",
                                    "2": "17"
                                }
                            ]
                        },
                        "text/html": [
                            "<table>",
                            "<tr><th>dt</th><th>male</th><th>female</th></tr>",
                            "<tr><td>2019-07-01</td><td>17</td><td>18</td></tr>",
                            "<tr><td>2019-07-02</td><td>22</td><td>20</td></tr>",
                            "<tr><td>2019-07-03</td><td>22</td><td>25</td></tr>",
                            "<tr><td>2019-07-04</td><td>20</td><td>33</td></tr>",
                            "<tr><td>2019-07-05</td><td>20</td><td>21</td></tr>",
                            "<tr><td>2019-07-06</td><td>17</td><td>34</td></tr>",
                            "<tr><td>2019-07-07</td><td>25</td><td>17</td></tr>",
                            "</table>"
                        ]
                    }
                }
            ],
            "execution_count": 22
        },
        {
            "cell_type": "code",
            "source": [
                "select dt, male, \n",
                "    repeat('x', male),\n",
                "    female, repeat('+', female)\n",
                "    from visitor"
            ],
            "metadata": {
                "azdata_cell_guid": "3102afe9-016a-476c-ad9a-87eeb0514947"
            },
            "outputs": [
                {
                    "output_type": "display_data",
                    "data": {
                        "text/html": "(7 row(s) affected)"
                    },
                    "metadata": {}
                },
                {
                    "output_type": "display_data",
                    "data": {
                        "text/html": "Total execution time: 00:00:00.033"
                    },
                    "metadata": {}
                },
                {
                    "output_type": "execute_result",
                    "metadata": {},
                    "execution_count": 23,
                    "data": {
                        "application/vnd.dataresource+json": {
                            "schema": {
                                "fields": [
                                    {
                                        "name": "dt"
                                    },
                                    {
                                        "name": "male"
                                    },
                                    {
                                        "name": "repeat"
                                    },
                                    {
                                        "name": "female"
                                    },
                                    {
                                        "name": "repeat"
                                    }
                                ]
                            },
                            "data": [
                                {
                                    "0": "2019-07-01",
                                    "1": "17",
                                    "2": "xxxxxxxxxxxxxxxxx",
                                    "3": "18",
                                    "4": "++++++++++++++++++"
                                },
                                {
                                    "0": "2019-07-02",
                                    "1": "22",
                                    "2": "xxxxxxxxxxxxxxxxxxxxxx",
                                    "3": "20",
                                    "4": "++++++++++++++++++++"
                                },
                                {
                                    "0": "2019-07-03",
                                    "1": "22",
                                    "2": "xxxxxxxxxxxxxxxxxxxxxx",
                                    "3": "25",
                                    "4": "+++++++++++++++++++++++++"
                                },
                                {
                                    "0": "2019-07-04",
                                    "1": "20",
                                    "2": "xxxxxxxxxxxxxxxxxxxx",
                                    "3": "33",
                                    "4": "+++++++++++++++++++++++++++++++++"
                                },
                                {
                                    "0": "2019-07-05",
                                    "1": "20",
                                    "2": "xxxxxxxxxxxxxxxxxxxx",
                                    "3": "21",
                                    "4": "+++++++++++++++++++++"
                                },
                                {
                                    "0": "2019-07-06",
                                    "1": "17",
                                    "2": "xxxxxxxxxxxxxxxxx",
                                    "3": "34",
                                    "4": "++++++++++++++++++++++++++++++++++"
                                },
                                {
                                    "0": "2019-07-07",
                                    "1": "25",
                                    "2": "xxxxxxxxxxxxxxxxxxxxxxxxx",
                                    "3": "17",
                                    "4": "+++++++++++++++++"
                                }
                            ]
                        },
                        "text/html": [
                            "<table>",
                            "<tr><th>dt</th><th>male</th><th>repeat</th><th>female</th><th>repeat</th></tr>",
                            "<tr><td>2019-07-01</td><td>17</td><td>xxxxxxxxxxxxxxxxx</td><td>18</td><td>++++++++++++++++++</td></tr>",
                            "<tr><td>2019-07-02</td><td>22</td><td>xxxxxxxxxxxxxxxxxxxxxx</td><td>20</td><td>++++++++++++++++++++</td></tr>",
                            "<tr><td>2019-07-03</td><td>22</td><td>xxxxxxxxxxxxxxxxxxxxxx</td><td>25</td><td>+++++++++++++++++++++++++</td></tr>",
                            "<tr><td>2019-07-04</td><td>20</td><td>xxxxxxxxxxxxxxxxxxxx</td><td>33</td><td>+++++++++++++++++++++++++++++++++</td></tr>",
                            "<tr><td>2019-07-05</td><td>20</td><td>xxxxxxxxxxxxxxxxxxxx</td><td>21</td><td>+++++++++++++++++++++</td></tr>",
                            "<tr><td>2019-07-06</td><td>17</td><td>xxxxxxxxxxxxxxxxx</td><td>34</td><td>++++++++++++++++++++++++++++++++++</td></tr>",
                            "<tr><td>2019-07-07</td><td>25</td><td>xxxxxxxxxxxxxxxxxxxxxxxxx</td><td>17</td><td>+++++++++++++++++</td></tr>",
                            "</table>"
                        ]
                    }
                }
            ],
            "execution_count": 23
        },
        {
            "cell_type": "code",
            "source": [
                "select chr(x'2591'::int)"
            ],
            "metadata": {
                "azdata_cell_guid": "c8bb8b34-7e2b-4a7e-a640-38b86332e4e8"
            },
            "outputs": [
                {
                    "output_type": "display_data",
                    "data": {
                        "text/html": "(1 row(s) affected)"
                    },
                    "metadata": {}
                },
                {
                    "output_type": "display_data",
                    "data": {
                        "text/html": "Total execution time: 00:00:00.005"
                    },
                    "metadata": {}
                },
                {
                    "output_type": "execute_result",
                    "metadata": {},
                    "execution_count": 24,
                    "data": {
                        "application/vnd.dataresource+json": {
                            "schema": {
                                "fields": [
                                    {
                                        "name": "chr"
                                    }
                                ]
                            },
                            "data": [
                                {
                                    "0": "░"
                                }
                            ]
                        },
                        "text/html": [
                            "<table>",
                            "<tr><th>chr</th></tr>",
                            "<tr><td>░</td></tr>",
                            "</table>"
                        ]
                    }
                }
            ],
            "execution_count": 24
        },
        {
            "cell_type": "code",
            "source": [
                "select dt, male, \n",
                "    repeat(chr(x'2591'::int), male) male,\n",
                "    female, repeat(chr(x'2592'::int), female) female\n",
                "    from visitor"
            ],
            "metadata": {
                "azdata_cell_guid": "c558fd54-4428-4780-806c-198c9d1a296a"
            },
            "outputs": [
                {
                    "output_type": "display_data",
                    "data": {
                        "text/html": "(7 row(s) affected)"
                    },
                    "metadata": {}
                },
                {
                    "output_type": "display_data",
                    "data": {
                        "text/html": "Total execution time: 00:00:00.007"
                    },
                    "metadata": {}
                },
                {
                    "output_type": "execute_result",
                    "metadata": {},
                    "execution_count": 25,
                    "data": {
                        "application/vnd.dataresource+json": {
                            "schema": {
                                "fields": [
                                    {
                                        "name": "dt"
                                    },
                                    {
                                        "name": "male"
                                    },
                                    {
                                        "name": "male"
                                    },
                                    {
                                        "name": "female"
                                    },
                                    {
                                        "name": "female"
                                    }
                                ]
                            },
                            "data": [
                                {
                                    "0": "2019-07-01",
                                    "1": "17",
                                    "2": "░░░░░░░░░░░░░░░░░",
                                    "3": "18",
                                    "4": "▒▒▒▒▒▒▒▒▒▒▒▒▒▒▒▒▒▒"
                                },
                                {
                                    "0": "2019-07-02",
                                    "1": "22",
                                    "2": "░░░░░░░░░░░░░░░░░░░░░░",
                                    "3": "20",
                                    "4": "▒▒▒▒▒▒▒▒▒▒▒▒▒▒▒▒▒▒▒▒"
                                },
                                {
                                    "0": "2019-07-03",
                                    "1": "22",
                                    "2": "░░░░░░░░░░░░░░░░░░░░░░",
                                    "3": "25",
                                    "4": "▒▒▒▒▒▒▒▒▒▒▒▒▒▒▒▒▒▒▒▒▒▒▒▒▒"
                                },
                                {
                                    "0": "2019-07-04",
                                    "1": "20",
                                    "2": "░░░░░░░░░░░░░░░░░░░░",
                                    "3": "33",
                                    "4": "▒▒▒▒▒▒▒▒▒▒▒▒▒▒▒▒▒▒▒▒▒▒▒▒▒▒▒▒▒▒▒▒▒"
                                },
                                {
                                    "0": "2019-07-05",
                                    "1": "20",
                                    "2": "░░░░░░░░░░░░░░░░░░░░",
                                    "3": "21",
                                    "4": "▒▒▒▒▒▒▒▒▒▒▒▒▒▒▒▒▒▒▒▒▒"
                                },
                                {
                                    "0": "2019-07-06",
                                    "1": "17",
                                    "2": "░░░░░░░░░░░░░░░░░",
                                    "3": "34",
                                    "4": "▒▒▒▒▒▒▒▒▒▒▒▒▒▒▒▒▒▒▒▒▒▒▒▒▒▒▒▒▒▒▒▒▒▒"
                                },
                                {
                                    "0": "2019-07-07",
                                    "1": "25",
                                    "2": "░░░░░░░░░░░░░░░░░░░░░░░░░",
                                    "3": "17",
                                    "4": "▒▒▒▒▒▒▒▒▒▒▒▒▒▒▒▒▒"
                                }
                            ]
                        },
                        "text/html": [
                            "<table>",
                            "<tr><th>dt</th><th>male</th><th>male</th><th>female</th><th>female</th></tr>",
                            "<tr><td>2019-07-01</td><td>17</td><td>░░░░░░░░░░░░░░░░░</td><td>18</td><td>▒▒▒▒▒▒▒▒▒▒▒▒▒▒▒▒▒▒</td></tr>",
                            "<tr><td>2019-07-02</td><td>22</td><td>░░░░░░░░░░░░░░░░░░░░░░</td><td>20</td><td>▒▒▒▒▒▒▒▒▒▒▒▒▒▒▒▒▒▒▒▒</td></tr>",
                            "<tr><td>2019-07-03</td><td>22</td><td>░░░░░░░░░░░░░░░░░░░░░░</td><td>25</td><td>▒▒▒▒▒▒▒▒▒▒▒▒▒▒▒▒▒▒▒▒▒▒▒▒▒</td></tr>",
                            "<tr><td>2019-07-04</td><td>20</td><td>░░░░░░░░░░░░░░░░░░░░</td><td>33</td><td>▒▒▒▒▒▒▒▒▒▒▒▒▒▒▒▒▒▒▒▒▒▒▒▒▒▒▒▒▒▒▒▒▒</td></tr>",
                            "<tr><td>2019-07-05</td><td>20</td><td>░░░░░░░░░░░░░░░░░░░░</td><td>21</td><td>▒▒▒▒▒▒▒▒▒▒▒▒▒▒▒▒▒▒▒▒▒</td></tr>",
                            "<tr><td>2019-07-06</td><td>17</td><td>░░░░░░░░░░░░░░░░░</td><td>34</td><td>▒▒▒▒▒▒▒▒▒▒▒▒▒▒▒▒▒▒▒▒▒▒▒▒▒▒▒▒▒▒▒▒▒▒</td></tr>",
                            "<tr><td>2019-07-07</td><td>25</td><td>░░░░░░░░░░░░░░░░░░░░░░░░░</td><td>17</td><td>▒▒▒▒▒▒▒▒▒▒▒▒▒▒▒▒▒</td></tr>",
                            "</table>"
                        ]
                    }
                }
            ],
            "execution_count": 25
        },
        {
            "cell_type": "code",
            "source": [
                "select dt, \n",
                "    male, \n",
                "    repeat(chr(x'2591'::int), male) || ' (' || male || ')',\n",
                "    female, \n",
                "    repeat(chr(x'2592'::int), female) || ' (' || female || ')'\n",
                "    from visitor"
            ],
            "metadata": {
                "azdata_cell_guid": "e8df59a4-c4ea-4fc9-9b11-756f5e246d3a"
            },
            "outputs": [
                {
                    "output_type": "display_data",
                    "data": {
                        "text/html": "(7 row(s) affected)"
                    },
                    "metadata": {}
                },
                {
                    "output_type": "display_data",
                    "data": {
                        "text/html": "Total execution time: 00:00:00.080"
                    },
                    "metadata": {}
                },
                {
                    "output_type": "execute_result",
                    "metadata": {},
                    "execution_count": 26,
                    "data": {
                        "application/vnd.dataresource+json": {
                            "schema": {
                                "fields": [
                                    {
                                        "name": "dt"
                                    },
                                    {
                                        "name": "male"
                                    },
                                    {
                                        "name": "Column3"
                                    },
                                    {
                                        "name": "female"
                                    },
                                    {
                                        "name": "Column5"
                                    }
                                ]
                            },
                            "data": [
                                {
                                    "0": "2019-07-01",
                                    "1": "17",
                                    "2": "░░░░░░░░░░░░░░░░░ (17)",
                                    "3": "18",
                                    "4": "▒▒▒▒▒▒▒▒▒▒▒▒▒▒▒▒▒▒ (18)"
                                },
                                {
                                    "0": "2019-07-02",
                                    "1": "22",
                                    "2": "░░░░░░░░░░░░░░░░░░░░░░ (22)",
                                    "3": "20",
                                    "4": "▒▒▒▒▒▒▒▒▒▒▒▒▒▒▒▒▒▒▒▒ (20)"
                                },
                                {
                                    "0": "2019-07-03",
                                    "1": "22",
                                    "2": "░░░░░░░░░░░░░░░░░░░░░░ (22)",
                                    "3": "25",
                                    "4": "▒▒▒▒▒▒▒▒▒▒▒▒▒▒▒▒▒▒▒▒▒▒▒▒▒ (25)"
                                },
                                {
                                    "0": "2019-07-04",
                                    "1": "20",
                                    "2": "░░░░░░░░░░░░░░░░░░░░ (20)",
                                    "3": "33",
                                    "4": "▒▒▒▒▒▒▒▒▒▒▒▒▒▒▒▒▒▒▒▒▒▒▒▒▒▒▒▒▒▒▒▒▒ (33)"
                                },
                                {
                                    "0": "2019-07-05",
                                    "1": "20",
                                    "2": "░░░░░░░░░░░░░░░░░░░░ (20)",
                                    "3": "21",
                                    "4": "▒▒▒▒▒▒▒▒▒▒▒▒▒▒▒▒▒▒▒▒▒ (21)"
                                },
                                {
                                    "0": "2019-07-06",
                                    "1": "17",
                                    "2": "░░░░░░░░░░░░░░░░░ (17)",
                                    "3": "34",
                                    "4": "▒▒▒▒▒▒▒▒▒▒▒▒▒▒▒▒▒▒▒▒▒▒▒▒▒▒▒▒▒▒▒▒▒▒ (34)"
                                },
                                {
                                    "0": "2019-07-07",
                                    "1": "25",
                                    "2": "░░░░░░░░░░░░░░░░░░░░░░░░░ (25)",
                                    "3": "17",
                                    "4": "▒▒▒▒▒▒▒▒▒▒▒▒▒▒▒▒▒ (17)"
                                }
                            ]
                        },
                        "text/html": [
                            "<table>",
                            "<tr><th>dt</th><th>male</th><th>Column3</th><th>female</th><th>Column5</th></tr>",
                            "<tr><td>2019-07-01</td><td>17</td><td>░░░░░░░░░░░░░░░░░ (17)</td><td>18</td><td>▒▒▒▒▒▒▒▒▒▒▒▒▒▒▒▒▒▒ (18)</td></tr>",
                            "<tr><td>2019-07-02</td><td>22</td><td>░░░░░░░░░░░░░░░░░░░░░░ (22)</td><td>20</td><td>▒▒▒▒▒▒▒▒▒▒▒▒▒▒▒▒▒▒▒▒ (20)</td></tr>",
                            "<tr><td>2019-07-03</td><td>22</td><td>░░░░░░░░░░░░░░░░░░░░░░ (22)</td><td>25</td><td>▒▒▒▒▒▒▒▒▒▒▒▒▒▒▒▒▒▒▒▒▒▒▒▒▒ (25)</td></tr>",
                            "<tr><td>2019-07-04</td><td>20</td><td>░░░░░░░░░░░░░░░░░░░░ (20)</td><td>33</td><td>▒▒▒▒▒▒▒▒▒▒▒▒▒▒▒▒▒▒▒▒▒▒▒▒▒▒▒▒▒▒▒▒▒ (33)</td></tr>",
                            "<tr><td>2019-07-05</td><td>20</td><td>░░░░░░░░░░░░░░░░░░░░ (20)</td><td>21</td><td>▒▒▒▒▒▒▒▒▒▒▒▒▒▒▒▒▒▒▒▒▒ (21)</td></tr>",
                            "<tr><td>2019-07-06</td><td>17</td><td>░░░░░░░░░░░░░░░░░ (17)</td><td>34</td><td>▒▒▒▒▒▒▒▒▒▒▒▒▒▒▒▒▒▒▒▒▒▒▒▒▒▒▒▒▒▒▒▒▒▒ (34)</td></tr>",
                            "<tr><td>2019-07-07</td><td>25</td><td>░░░░░░░░░░░░░░░░░░░░░░░░░ (25)</td><td>17</td><td>▒▒▒▒▒▒▒▒▒▒▒▒▒▒▒▒▒ (17)</td></tr>",
                            "</table>"
                        ]
                    }
                }
            ],
            "execution_count": 26
        },
        {
            "cell_type": "code",
            "source": [
                "select dt, \n",
                "    repeat(chr(x'2591'::int), male) || ' (' || male || ')' male,\n",
                "    repeat(chr(x'2592'::int), female) || ' (' || female || ')' female\n",
                "    from visitor"
            ],
            "metadata": {
                "azdata_cell_guid": "b05c9570-b1b8-4b0f-8700-523e7c20129f"
            },
            "outputs": [
                {
                    "output_type": "display_data",
                    "data": {
                        "text/html": "(7 row(s) affected)"
                    },
                    "metadata": {}
                },
                {
                    "output_type": "display_data",
                    "data": {
                        "text/html": "Total execution time: 00:00:00.005"
                    },
                    "metadata": {}
                },
                {
                    "output_type": "execute_result",
                    "metadata": {},
                    "execution_count": 32,
                    "data": {
                        "application/vnd.dataresource+json": {
                            "schema": {
                                "fields": [
                                    {
                                        "name": "dt"
                                    },
                                    {
                                        "name": "male"
                                    },
                                    {
                                        "name": "female"
                                    }
                                ]
                            },
                            "data": [
                                {
                                    "0": "2019-07-01",
                                    "1": "░░░░░░░░░░░░░░░░░ (17)",
                                    "2": "▒▒▒▒▒▒▒▒▒▒▒▒▒▒▒▒▒▒ (18)"
                                },
                                {
                                    "0": "2019-07-02",
                                    "1": "░░░░░░░░░░░░░░░░░░░░░░ (22)",
                                    "2": "▒▒▒▒▒▒▒▒▒▒▒▒▒▒▒▒▒▒▒▒ (20)"
                                },
                                {
                                    "0": "2019-07-03",
                                    "1": "░░░░░░░░░░░░░░░░░░░░░░ (22)",
                                    "2": "▒▒▒▒▒▒▒▒▒▒▒▒▒▒▒▒▒▒▒▒▒▒▒▒▒ (25)"
                                },
                                {
                                    "0": "2019-07-04",
                                    "1": "░░░░░░░░░░░░░░░░░░░░ (20)",
                                    "2": "▒▒▒▒▒▒▒▒▒▒▒▒▒▒▒▒▒▒▒▒▒▒▒▒▒▒▒▒▒▒▒▒▒ (33)"
                                },
                                {
                                    "0": "2019-07-05",
                                    "1": "░░░░░░░░░░░░░░░░░░░░ (20)",
                                    "2": "▒▒▒▒▒▒▒▒▒▒▒▒▒▒▒▒▒▒▒▒▒ (21)"
                                },
                                {
                                    "0": "2019-07-06",
                                    "1": "░░░░░░░░░░░░░░░░░ (17)",
                                    "2": "▒▒▒▒▒▒▒▒▒▒▒▒▒▒▒▒▒▒▒▒▒▒▒▒▒▒▒▒▒▒▒▒▒▒ (34)"
                                },
                                {
                                    "0": "2019-07-07",
                                    "1": "░░░░░░░░░░░░░░░░░░░░░░░░░ (25)",
                                    "2": "▒▒▒▒▒▒▒▒▒▒▒▒▒▒▒▒▒ (17)"
                                }
                            ]
                        },
                        "text/html": [
                            "<table>",
                            "<tr><th>dt</th><th>male</th><th>female</th></tr>",
                            "<tr><td>2019-07-01</td><td>░░░░░░░░░░░░░░░░░ (17)</td><td>▒▒▒▒▒▒▒▒▒▒▒▒▒▒▒▒▒▒ (18)</td></tr>",
                            "<tr><td>2019-07-02</td><td>░░░░░░░░░░░░░░░░░░░░░░ (22)</td><td>▒▒▒▒▒▒▒▒▒▒▒▒▒▒▒▒▒▒▒▒ (20)</td></tr>",
                            "<tr><td>2019-07-03</td><td>░░░░░░░░░░░░░░░░░░░░░░ (22)</td><td>▒▒▒▒▒▒▒▒▒▒▒▒▒▒▒▒▒▒▒▒▒▒▒▒▒ (25)</td></tr>",
                            "<tr><td>2019-07-04</td><td>░░░░░░░░░░░░░░░░░░░░ (20)</td><td>▒▒▒▒▒▒▒▒▒▒▒▒▒▒▒▒▒▒▒▒▒▒▒▒▒▒▒▒▒▒▒▒▒ (33)</td></tr>",
                            "<tr><td>2019-07-05</td><td>░░░░░░░░░░░░░░░░░░░░ (20)</td><td>▒▒▒▒▒▒▒▒▒▒▒▒▒▒▒▒▒▒▒▒▒ (21)</td></tr>",
                            "<tr><td>2019-07-06</td><td>░░░░░░░░░░░░░░░░░ (17)</td><td>▒▒▒▒▒▒▒▒▒▒▒▒▒▒▒▒▒▒▒▒▒▒▒▒▒▒▒▒▒▒▒▒▒▒ (34)</td></tr>",
                            "<tr><td>2019-07-07</td><td>░░░░░░░░░░░░░░░░░░░░░░░░░ (25)</td><td>▒▒▒▒▒▒▒▒▒▒▒▒▒▒▒▒▒ (17)</td></tr>",
                            "</table>"
                        ]
                    }
                }
            ],
            "execution_count": 32
        },
        {
            "cell_type": "code",
            "source": [
                "select dt, male, \n",
                "    repeat(chr(x'2591'::int), male) male,\n",
                "    female, repeat(chr(x'2592'::int), female) female,\n",
                "    repeat(chr(x'2591'::int), male) || repeat(chr(x'2592'::int), female) || ' (' || (male + female) || ')' total\n",
                "    from visitor"
            ],
            "metadata": {
                "azdata_cell_guid": "ccfda4cf-2c44-428d-b5cb-dd3d6aaf695d"
            },
            "outputs": [
                {
                    "output_type": "display_data",
                    "data": {
                        "text/html": "(7 row(s) affected)"
                    },
                    "metadata": {}
                },
                {
                    "output_type": "display_data",
                    "data": {
                        "text/html": "Total execution time: 00:00:00.009"
                    },
                    "metadata": {}
                },
                {
                    "output_type": "execute_result",
                    "metadata": {},
                    "execution_count": 28,
                    "data": {
                        "application/vnd.dataresource+json": {
                            "schema": {
                                "fields": [
                                    {
                                        "name": "dt"
                                    },
                                    {
                                        "name": "male"
                                    },
                                    {
                                        "name": "male"
                                    },
                                    {
                                        "name": "female"
                                    },
                                    {
                                        "name": "female"
                                    },
                                    {
                                        "name": "total"
                                    }
                                ]
                            },
                            "data": [
                                {
                                    "0": "2019-07-01",
                                    "1": "17",
                                    "2": "░░░░░░░░░░░░░░░░░",
                                    "3": "18",
                                    "4": "▒▒▒▒▒▒▒▒▒▒▒▒▒▒▒▒▒▒",
                                    "5": "░░░░░░░░░░░░░░░░░▒▒▒▒▒▒▒▒▒▒▒▒▒▒▒▒▒▒ (35)"
                                },
                                {
                                    "0": "2019-07-02",
                                    "1": "22",
                                    "2": "░░░░░░░░░░░░░░░░░░░░░░",
                                    "3": "20",
                                    "4": "▒▒▒▒▒▒▒▒▒▒▒▒▒▒▒▒▒▒▒▒",
                                    "5": "░░░░░░░░░░░░░░░░░░░░░░▒▒▒▒▒▒▒▒▒▒▒▒▒▒▒▒▒▒▒▒ (42)"
                                },
                                {
                                    "0": "2019-07-03",
                                    "1": "22",
                                    "2": "░░░░░░░░░░░░░░░░░░░░░░",
                                    "3": "25",
                                    "4": "▒▒▒▒▒▒▒▒▒▒▒▒▒▒▒▒▒▒▒▒▒▒▒▒▒",
                                    "5": "░░░░░░░░░░░░░░░░░░░░░░▒▒▒▒▒▒▒▒▒▒▒▒▒▒▒▒▒▒▒▒▒▒▒▒▒ (47)"
                                },
                                {
                                    "0": "2019-07-04",
                                    "1": "20",
                                    "2": "░░░░░░░░░░░░░░░░░░░░",
                                    "3": "33",
                                    "4": "▒▒▒▒▒▒▒▒▒▒▒▒▒▒▒▒▒▒▒▒▒▒▒▒▒▒▒▒▒▒▒▒▒",
                                    "5": "░░░░░░░░░░░░░░░░░░░░▒▒▒▒▒▒▒▒▒▒▒▒▒▒▒▒▒▒▒▒▒▒▒▒▒▒▒▒▒▒▒▒▒ (53)"
                                },
                                {
                                    "0": "2019-07-05",
                                    "1": "20",
                                    "2": "░░░░░░░░░░░░░░░░░░░░",
                                    "3": "21",
                                    "4": "▒▒▒▒▒▒▒▒▒▒▒▒▒▒▒▒▒▒▒▒▒",
                                    "5": "░░░░░░░░░░░░░░░░░░░░▒▒▒▒▒▒▒▒▒▒▒▒▒▒▒▒▒▒▒▒▒ (41)"
                                },
                                {
                                    "0": "2019-07-06",
                                    "1": "17",
                                    "2": "░░░░░░░░░░░░░░░░░",
                                    "3": "34",
                                    "4": "▒▒▒▒▒▒▒▒▒▒▒▒▒▒▒▒▒▒▒▒▒▒▒▒▒▒▒▒▒▒▒▒▒▒",
                                    "5": "░░░░░░░░░░░░░░░░░▒▒▒▒▒▒▒▒▒▒▒▒▒▒▒▒▒▒▒▒▒▒▒▒▒▒▒▒▒▒▒▒▒▒ (51)"
                                },
                                {
                                    "0": "2019-07-07",
                                    "1": "25",
                                    "2": "░░░░░░░░░░░░░░░░░░░░░░░░░",
                                    "3": "17",
                                    "4": "▒▒▒▒▒▒▒▒▒▒▒▒▒▒▒▒▒",
                                    "5": "░░░░░░░░░░░░░░░░░░░░░░░░░▒▒▒▒▒▒▒▒▒▒▒▒▒▒▒▒▒ (42)"
                                }
                            ]
                        },
                        "text/html": [
                            "<table>",
                            "<tr><th>dt</th><th>male</th><th>male</th><th>female</th><th>female</th><th>total</th></tr>",
                            "<tr><td>2019-07-01</td><td>17</td><td>░░░░░░░░░░░░░░░░░</td><td>18</td><td>▒▒▒▒▒▒▒▒▒▒▒▒▒▒▒▒▒▒</td><td>░░░░░░░░░░░░░░░░░▒▒▒▒▒▒▒▒▒▒▒▒▒▒▒▒▒▒ (35)</td></tr>",
                            "<tr><td>2019-07-02</td><td>22</td><td>░░░░░░░░░░░░░░░░░░░░░░</td><td>20</td><td>▒▒▒▒▒▒▒▒▒▒▒▒▒▒▒▒▒▒▒▒</td><td>░░░░░░░░░░░░░░░░░░░░░░▒▒▒▒▒▒▒▒▒▒▒▒▒▒▒▒▒▒▒▒ (42)</td></tr>",
                            "<tr><td>2019-07-03</td><td>22</td><td>░░░░░░░░░░░░░░░░░░░░░░</td><td>25</td><td>▒▒▒▒▒▒▒▒▒▒▒▒▒▒▒▒▒▒▒▒▒▒▒▒▒</td><td>░░░░░░░░░░░░░░░░░░░░░░▒▒▒▒▒▒▒▒▒▒▒▒▒▒▒▒▒▒▒▒▒▒▒▒▒ (47)</td></tr>",
                            "<tr><td>2019-07-04</td><td>20</td><td>░░░░░░░░░░░░░░░░░░░░</td><td>33</td><td>▒▒▒▒▒▒▒▒▒▒▒▒▒▒▒▒▒▒▒▒▒▒▒▒▒▒▒▒▒▒▒▒▒</td><td>░░░░░░░░░░░░░░░░░░░░▒▒▒▒▒▒▒▒▒▒▒▒▒▒▒▒▒▒▒▒▒▒▒▒▒▒▒▒▒▒▒▒▒ (53)</td></tr>",
                            "<tr><td>2019-07-05</td><td>20</td><td>░░░░░░░░░░░░░░░░░░░░</td><td>21</td><td>▒▒▒▒▒▒▒▒▒▒▒▒▒▒▒▒▒▒▒▒▒</td><td>░░░░░░░░░░░░░░░░░░░░▒▒▒▒▒▒▒▒▒▒▒▒▒▒▒▒▒▒▒▒▒ (41)</td></tr>",
                            "<tr><td>2019-07-06</td><td>17</td><td>░░░░░░░░░░░░░░░░░</td><td>34</td><td>▒▒▒▒▒▒▒▒▒▒▒▒▒▒▒▒▒▒▒▒▒▒▒▒▒▒▒▒▒▒▒▒▒▒</td><td>░░░░░░░░░░░░░░░░░▒▒▒▒▒▒▒▒▒▒▒▒▒▒▒▒▒▒▒▒▒▒▒▒▒▒▒▒▒▒▒▒▒▒ (51)</td></tr>",
                            "<tr><td>2019-07-07</td><td>25</td><td>░░░░░░░░░░░░░░░░░░░░░░░░░</td><td>17</td><td>▒▒▒▒▒▒▒▒▒▒▒▒▒▒▒▒▒</td><td>░░░░░░░░░░░░░░░░░░░░░░░░░▒▒▒▒▒▒▒▒▒▒▒▒▒▒▒▒▒ (42)</td></tr>",
                            "</table>"
                        ]
                    }
                }
            ],
            "execution_count": 28
        },
        {
            "cell_type": "code",
            "source": [
                "select chr(x'2591'::int), chr(x'2592'::int)"
            ],
            "metadata": {
                "azdata_cell_guid": "07d4513e-372b-4495-8b8a-fa2420c8720d"
            },
            "outputs": [
                {
                    "output_type": "display_data",
                    "data": {
                        "text/html": "(1 row(s) affected)"
                    },
                    "metadata": {}
                },
                {
                    "output_type": "display_data",
                    "data": {
                        "text/html": "Total execution time: 00:00:00.006"
                    },
                    "metadata": {}
                },
                {
                    "output_type": "execute_result",
                    "metadata": {},
                    "execution_count": 29,
                    "data": {
                        "application/vnd.dataresource+json": {
                            "schema": {
                                "fields": [
                                    {
                                        "name": "chr"
                                    },
                                    {
                                        "name": "chr"
                                    }
                                ]
                            },
                            "data": [
                                {
                                    "0": "░",
                                    "1": "▒"
                                }
                            ]
                        },
                        "text/html": [
                            "<table>",
                            "<tr><th>chr</th><th>chr</th></tr>",
                            "<tr><td>░</td><td>▒</td></tr>",
                            "</table>"
                        ]
                    }
                }
            ],
            "execution_count": 29
        },
        {
            "cell_type": "code",
            "source": [
                "select dt, \n",
                "    repeat(chr(x'2591'::int), ceil(male * 100.0 / (male + female))::int) ||\n",
                "    repeat(chr(x'2592'::int), floor(female * 100.0 / (male + female))::int) \"░ male  ▒ female\"\n",
                "    from visitor"
            ],
            "metadata": {
                "azdata_cell_guid": "cb938353-0120-4ef4-bfb6-c33b1c97f6bf"
            },
            "outputs": [
                {
                    "output_type": "display_data",
                    "data": {
                        "text/html": "(7 row(s) affected)"
                    },
                    "metadata": {}
                },
                {
                    "output_type": "display_data",
                    "data": {
                        "text/html": "Total execution time: 00:00:00.004"
                    },
                    "metadata": {}
                },
                {
                    "output_type": "execute_result",
                    "metadata": {},
                    "execution_count": 33,
                    "data": {
                        "application/vnd.dataresource+json": {
                            "schema": {
                                "fields": [
                                    {
                                        "name": "dt"
                                    },
                                    {
                                        "name": "░ male  ▒ female"
                                    }
                                ]
                            },
                            "data": [
                                {
                                    "0": "2019-07-01",
                                    "1": "░░░░░░░░░░░░░░░░░░░░░░░░░░░░░░░░░░░░░░░░░░░░░░░░░▒▒▒▒▒▒▒▒▒▒▒▒▒▒▒▒▒▒▒▒▒▒▒▒▒▒▒▒▒▒▒▒▒▒▒▒▒▒▒▒▒▒▒▒▒▒▒▒▒▒▒"
                                },
                                {
                                    "0": "2019-07-02",
                                    "1": "░░░░░░░░░░░░░░░░░░░░░░░░░░░░░░░░░░░░░░░░░░░░░░░░░░░░░▒▒▒▒▒▒▒▒▒▒▒▒▒▒▒▒▒▒▒▒▒▒▒▒▒▒▒▒▒▒▒▒▒▒▒▒▒▒▒▒▒▒▒▒▒▒▒"
                                },
                                {
                                    "0": "2019-07-03",
                                    "1": "░░░░░░░░░░░░░░░░░░░░░░░░░░░░░░░░░░░░░░░░░░░░░░░▒▒▒▒▒▒▒▒▒▒▒▒▒▒▒▒▒▒▒▒▒▒▒▒▒▒▒▒▒▒▒▒▒▒▒▒▒▒▒▒▒▒▒▒▒▒▒▒▒▒▒▒▒"
                                },
                                {
                                    "0": "2019-07-04",
                                    "1": "░░░░░░░░░░░░░░░░░░░░░░░░░░░░░░░░░░░░░░▒▒▒▒▒▒▒▒▒▒▒▒▒▒▒▒▒▒▒▒▒▒▒▒▒▒▒▒▒▒▒▒▒▒▒▒▒▒▒▒▒▒▒▒▒▒▒▒▒▒▒▒▒▒▒▒▒▒▒▒▒▒"
                                },
                                {
                                    "0": "2019-07-05",
                                    "1": "░░░░░░░░░░░░░░░░░░░░░░░░░░░░░░░░░░░░░░░░░░░░░░░░░▒▒▒▒▒▒▒▒▒▒▒▒▒▒▒▒▒▒▒▒▒▒▒▒▒▒▒▒▒▒▒▒▒▒▒▒▒▒▒▒▒▒▒▒▒▒▒▒▒▒▒"
                                },
                                {
                                    "0": "2019-07-06",
                                    "1": "░░░░░░░░░░░░░░░░░░░░░░░░░░░░░░░░░░▒▒▒▒▒▒▒▒▒▒▒▒▒▒▒▒▒▒▒▒▒▒▒▒▒▒▒▒▒▒▒▒▒▒▒▒▒▒▒▒▒▒▒▒▒▒▒▒▒▒▒▒▒▒▒▒▒▒▒▒▒▒▒▒▒▒"
                                },
                                {
                                    "0": "2019-07-07",
                                    "1": "░░░░░░░░░░░░░░░░░░░░░░░░░░░░░░░░░░░░░░░░░░░░░░░░░░░░░░░░░░░░▒▒▒▒▒▒▒▒▒▒▒▒▒▒▒▒▒▒▒▒▒▒▒▒▒▒▒▒▒▒▒▒▒▒▒▒▒▒▒▒"
                                }
                            ]
                        },
                        "text/html": [
                            "<table>",
                            "<tr><th>dt</th><th>░ male  ▒ female</th></tr>",
                            "<tr><td>2019-07-01</td><td>░░░░░░░░░░░░░░░░░░░░░░░░░░░░░░░░░░░░░░░░░░░░░░░░░▒▒▒▒▒▒▒▒▒▒▒▒▒▒▒▒▒▒▒▒▒▒▒▒▒▒▒▒▒▒▒▒▒▒▒▒▒▒▒▒▒▒▒▒▒▒▒▒▒▒▒</td></tr>",
                            "<tr><td>2019-07-02</td><td>░░░░░░░░░░░░░░░░░░░░░░░░░░░░░░░░░░░░░░░░░░░░░░░░░░░░░▒▒▒▒▒▒▒▒▒▒▒▒▒▒▒▒▒▒▒▒▒▒▒▒▒▒▒▒▒▒▒▒▒▒▒▒▒▒▒▒▒▒▒▒▒▒▒</td></tr>",
                            "<tr><td>2019-07-03</td><td>░░░░░░░░░░░░░░░░░░░░░░░░░░░░░░░░░░░░░░░░░░░░░░░▒▒▒▒▒▒▒▒▒▒▒▒▒▒▒▒▒▒▒▒▒▒▒▒▒▒▒▒▒▒▒▒▒▒▒▒▒▒▒▒▒▒▒▒▒▒▒▒▒▒▒▒▒</td></tr>",
                            "<tr><td>2019-07-04</td><td>░░░░░░░░░░░░░░░░░░░░░░░░░░░░░░░░░░░░░░▒▒▒▒▒▒▒▒▒▒▒▒▒▒▒▒▒▒▒▒▒▒▒▒▒▒▒▒▒▒▒▒▒▒▒▒▒▒▒▒▒▒▒▒▒▒▒▒▒▒▒▒▒▒▒▒▒▒▒▒▒▒</td></tr>",
                            "<tr><td>2019-07-05</td><td>░░░░░░░░░░░░░░░░░░░░░░░░░░░░░░░░░░░░░░░░░░░░░░░░░▒▒▒▒▒▒▒▒▒▒▒▒▒▒▒▒▒▒▒▒▒▒▒▒▒▒▒▒▒▒▒▒▒▒▒▒▒▒▒▒▒▒▒▒▒▒▒▒▒▒▒</td></tr>",
                            "<tr><td>2019-07-06</td><td>░░░░░░░░░░░░░░░░░░░░░░░░░░░░░░░░░░▒▒▒▒▒▒▒▒▒▒▒▒▒▒▒▒▒▒▒▒▒▒▒▒▒▒▒▒▒▒▒▒▒▒▒▒▒▒▒▒▒▒▒▒▒▒▒▒▒▒▒▒▒▒▒▒▒▒▒▒▒▒▒▒▒▒</td></tr>",
                            "<tr><td>2019-07-07</td><td>░░░░░░░░░░░░░░░░░░░░░░░░░░░░░░░░░░░░░░░░░░░░░░░░░░░░░░░░░░░░▒▒▒▒▒▒▒▒▒▒▒▒▒▒▒▒▒▒▒▒▒▒▒▒▒▒▒▒▒▒▒▒▒▒▒▒▒▒▒▒</td></tr>",
                            "</table>"
                        ]
                    }
                }
            ],
            "execution_count": 33
        },
        {
            "cell_type": "markdown",
            "source": [
                "## 100% stacked bar"
            ],
            "metadata": {
                "azdata_cell_guid": "5ea3e40b-a423-47af-9700-7b4ee9ed9216"
            }
        },
        {
            "cell_type": "code",
            "source": [
                "select dt, \n",
                "    repeat(chr(x'2591'::int), ceil(male * 50.0 / (male + female))::int) ||\n",
                "    repeat(chr(x'2592'::int), floor(female * 50.0 / (male + female))::int) \"░ male  ▒ female\"\n",
                "    from visitor"
            ],
            "metadata": {
                "azdata_cell_guid": "7c5f1793-f25d-4ea9-b90e-97d2aaf8d701"
            },
            "outputs": [
                {
                    "output_type": "display_data",
                    "data": {
                        "text/html": "(7 row(s) affected)"
                    },
                    "metadata": {}
                },
                {
                    "output_type": "display_data",
                    "data": {
                        "text/html": "Total execution time: 00:00:00.035"
                    },
                    "metadata": {}
                },
                {
                    "output_type": "execute_result",
                    "metadata": {},
                    "execution_count": 31,
                    "data": {
                        "application/vnd.dataresource+json": {
                            "schema": {
                                "fields": [
                                    {
                                        "name": "dt"
                                    },
                                    {
                                        "name": "░ male  ▒ female"
                                    }
                                ]
                            },
                            "data": [
                                {
                                    "0": "2019-07-01",
                                    "1": "░░░░░░░░░░░░░░░░░░░░░░░░░▒▒▒▒▒▒▒▒▒▒▒▒▒▒▒▒▒▒▒▒▒▒▒▒▒"
                                },
                                {
                                    "0": "2019-07-02",
                                    "1": "░░░░░░░░░░░░░░░░░░░░░░░░░░░▒▒▒▒▒▒▒▒▒▒▒▒▒▒▒▒▒▒▒▒▒▒▒"
                                },
                                {
                                    "0": "2019-07-03",
                                    "1": "░░░░░░░░░░░░░░░░░░░░░░░░▒▒▒▒▒▒▒▒▒▒▒▒▒▒▒▒▒▒▒▒▒▒▒▒▒▒"
                                },
                                {
                                    "0": "2019-07-04",
                                    "1": "░░░░░░░░░░░░░░░░░░░▒▒▒▒▒▒▒▒▒▒▒▒▒▒▒▒▒▒▒▒▒▒▒▒▒▒▒▒▒▒▒"
                                },
                                {
                                    "0": "2019-07-05",
                                    "1": "░░░░░░░░░░░░░░░░░░░░░░░░░▒▒▒▒▒▒▒▒▒▒▒▒▒▒▒▒▒▒▒▒▒▒▒▒▒"
                                },
                                {
                                    "0": "2019-07-06",
                                    "1": "░░░░░░░░░░░░░░░░░▒▒▒▒▒▒▒▒▒▒▒▒▒▒▒▒▒▒▒▒▒▒▒▒▒▒▒▒▒▒▒▒▒"
                                },
                                {
                                    "0": "2019-07-07",
                                    "1": "░░░░░░░░░░░░░░░░░░░░░░░░░░░░░░▒▒▒▒▒▒▒▒▒▒▒▒▒▒▒▒▒▒▒▒"
                                }
                            ]
                        },
                        "text/html": [
                            "<table>",
                            "<tr><th>dt</th><th>░ male  ▒ female</th></tr>",
                            "<tr><td>2019-07-01</td><td>░░░░░░░░░░░░░░░░░░░░░░░░░▒▒▒▒▒▒▒▒▒▒▒▒▒▒▒▒▒▒▒▒▒▒▒▒▒</td></tr>",
                            "<tr><td>2019-07-02</td><td>░░░░░░░░░░░░░░░░░░░░░░░░░░░▒▒▒▒▒▒▒▒▒▒▒▒▒▒▒▒▒▒▒▒▒▒▒</td></tr>",
                            "<tr><td>2019-07-03</td><td>░░░░░░░░░░░░░░░░░░░░░░░░▒▒▒▒▒▒▒▒▒▒▒▒▒▒▒▒▒▒▒▒▒▒▒▒▒▒</td></tr>",
                            "<tr><td>2019-07-04</td><td>░░░░░░░░░░░░░░░░░░░▒▒▒▒▒▒▒▒▒▒▒▒▒▒▒▒▒▒▒▒▒▒▒▒▒▒▒▒▒▒▒</td></tr>",
                            "<tr><td>2019-07-05</td><td>░░░░░░░░░░░░░░░░░░░░░░░░░▒▒▒▒▒▒▒▒▒▒▒▒▒▒▒▒▒▒▒▒▒▒▒▒▒</td></tr>",
                            "<tr><td>2019-07-06</td><td>░░░░░░░░░░░░░░░░░▒▒▒▒▒▒▒▒▒▒▒▒▒▒▒▒▒▒▒▒▒▒▒▒▒▒▒▒▒▒▒▒▒</td></tr>",
                            "<tr><td>2019-07-07</td><td>░░░░░░░░░░░░░░░░░░░░░░░░░░░░░░▒▒▒▒▒▒▒▒▒▒▒▒▒▒▒▒▒▒▒▒</td></tr>",
                            "</table>"
                        ]
                    }
                }
            ],
            "execution_count": 31
        }
    ]
}