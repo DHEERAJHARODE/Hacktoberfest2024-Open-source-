{
    "metadata": {
        "kernelspec": {
            "name": "SQL",
            "display_name": "SQL",
            "language": "sql"
        },
        "language_info": {
            "name": "sql",
            "version": ""
        }
    },
    "nbformat_minor": 2,
    "nbformat": 4,
    "cells": [
        {
            "cell_type": "code",
            "source": [
                "create table suits(\r\n",
                "    suit varchar(10)\r\n",
                ");"
            ],
            "metadata": {
                "azdata_cell_guid": "bc98ee5c-1a33-48e8-a140-53ce35e8f74d"
            },
            "outputs": [
                {
                    "output_type": "display_data",
                    "data": {
                        "text/html": "Commands completed successfully"
                    },
                    "metadata": {}
                },
                {
                    "output_type": "display_data",
                    "data": {
                        "text/html": "Total execution time: 00:00:00.164"
                    },
                    "metadata": {}
                }
            ],
            "execution_count": 4
        },
        {
            "cell_type": "code",
            "source": [
                "insert into suits values ('spade'), ('heart'), ('diamond'), ('club');\r\n",
                ""
            ],
            "metadata": {
                "azdata_cell_guid": "f17ad5ad-f8a3-4de4-9521-3861911e4415"
            },
            "outputs": [
                {
                    "output_type": "display_data",
                    "data": {
                        "text/html": "Commands completed successfully"
                    },
                    "metadata": {}
                },
                {
                    "output_type": "display_data",
                    "data": {
                        "text/html": "Total execution time: 00:00:00.015"
                    },
                    "metadata": {}
                }
            ],
            "execution_count": 5
        },
        {
            "cell_type": "code",
            "source": [
                "create table ranks(\r\n",
                "    r varchar(2)\r\n",
                ");"
            ],
            "metadata": {
                "azdata_cell_guid": "967e3e43-00be-42aa-ad84-88e2f49db3ef"
            },
            "outputs": [
                {
                    "output_type": "display_data",
                    "data": {
                        "text/html": "Commands completed successfully"
                    },
                    "metadata": {}
                },
                {
                    "output_type": "display_data",
                    "data": {
                        "text/html": "Total execution time: 00:00:00.002"
                    },
                    "metadata": {}
                }
            ],
            "execution_count": 6
        },
        {
            "cell_type": "code",
            "source": [
                "insert into ranks values ('A'), ('2'), ('3'), ('4'), ('5'), ('6'), ('7'), ('8'), ('9'), ('10'), ('J'), ('Q'), ('K');\r\n",
                ""
            ],
            "metadata": {
                "azdata_cell_guid": "34f88364-e591-4595-9e87-ef1cf35972d4"
            },
            "outputs": [
                {
                    "output_type": "display_data",
                    "data": {
                        "text/html": "Commands completed successfully"
                    },
                    "metadata": {}
                },
                {
                    "output_type": "display_data",
                    "data": {
                        "text/html": "Total execution time: 00:00:00.001"
                    },
                    "metadata": {}
                }
            ],
            "execution_count": 7
        },
        {
            "cell_type": "code",
            "source": [
                "select * from suits"
            ],
            "metadata": {
                "azdata_cell_guid": "7c4ac1b8-2855-4fdf-886f-a6b81d9aab5e"
            },
            "outputs": [
                {
                    "output_type": "display_data",
                    "data": {
                        "text/html": "(4 row(s) affected)"
                    },
                    "metadata": {}
                },
                {
                    "output_type": "display_data",
                    "data": {
                        "text/html": "Total execution time: 00:00:00.045"
                    },
                    "metadata": {}
                },
                {
                    "output_type": "execute_result",
                    "metadata": {},
                    "execution_count": 8,
                    "data": {
                        "application/vnd.dataresource+json": {
                            "schema": {
                                "fields": [
                                    {
                                        "name": "suit"
                                    }
                                ]
                            },
                            "data": [
                                {
                                    "0": "spade"
                                },
                                {
                                    "0": "heart"
                                },
                                {
                                    "0": "diamond"
                                },
                                {
                                    "0": "club"
                                }
                            ]
                        },
                        "text/html": [
                            "<table>",
                            "<tr><th>suit</th></tr>",
                            "<tr><td>spade</td></tr>",
                            "<tr><td>heart</td></tr>",
                            "<tr><td>diamond</td></tr>",
                            "<tr><td>club</td></tr>",
                            "</table>"
                        ]
                    }
                }
            ],
            "execution_count": 8
        },
        {
            "cell_type": "code",
            "source": [
                "select * from ranks"
            ],
            "metadata": {
                "azdata_cell_guid": "4bc2f9ba-089b-418f-a029-c18fff0a0a0b"
            },
            "outputs": [
                {
                    "output_type": "display_data",
                    "data": {
                        "text/html": "(13 row(s) affected)"
                    },
                    "metadata": {}
                },
                {
                    "output_type": "display_data",
                    "data": {
                        "text/html": "Total execution time: 00:00:00.010"
                    },
                    "metadata": {}
                },
                {
                    "output_type": "execute_result",
                    "metadata": {},
                    "execution_count": 9,
                    "data": {
                        "application/vnd.dataresource+json": {
                            "schema": {
                                "fields": [
                                    {
                                        "name": "r"
                                    }
                                ]
                            },
                            "data": [
                                {
                                    "0": "A"
                                },
                                {
                                    "0": "2"
                                },
                                {
                                    "0": "3"
                                },
                                {
                                    "0": "4"
                                },
                                {
                                    "0": "5"
                                },
                                {
                                    "0": "6"
                                },
                                {
                                    "0": "7"
                                },
                                {
                                    "0": "8"
                                },
                                {
                                    "0": "9"
                                },
                                {
                                    "0": "10"
                                },
                                {
                                    "0": "J"
                                },
                                {
                                    "0": "Q"
                                },
                                {
                                    "0": "K"
                                }
                            ]
                        },
                        "text/html": [
                            "<table>",
                            "<tr><th>r</th></tr>",
                            "<tr><td>A</td></tr>",
                            "<tr><td>2</td></tr>",
                            "<tr><td>3</td></tr>",
                            "<tr><td>4</td></tr>",
                            "<tr><td>5</td></tr>",
                            "<tr><td>6</td></tr>",
                            "<tr><td>7</td></tr>",
                            "<tr><td>8</td></tr>",
                            "<tr><td>9</td></tr>",
                            "<tr><td>10</td></tr>",
                            "<tr><td>J</td></tr>",
                            "<tr><td>Q</td></tr>",
                            "<tr><td>K</td></tr>",
                            "</table>"
                        ]
                    }
                }
            ],
            "execution_count": 9
        },
        {
            "cell_type": "code",
            "source": [
                "select r, suit from ranks cross join suits;"
            ],
            "metadata": {
                "azdata_cell_guid": "bde9a2f1-4eda-42a4-a43c-cee722693961"
            },
            "outputs": [
                {
                    "output_type": "display_data",
                    "data": {
                        "text/html": "(52 row(s) affected)"
                    },
                    "metadata": {}
                },
                {
                    "output_type": "display_data",
                    "data": {
                        "text/html": "Total execution time: 00:00:00.006"
                    },
                    "metadata": {}
                },
                {
                    "output_type": "execute_result",
                    "metadata": {},
                    "execution_count": 10,
                    "data": {
                        "application/vnd.dataresource+json": {
                            "schema": {
                                "fields": [
                                    {
                                        "name": "r"
                                    },
                                    {
                                        "name": "suit"
                                    }
                                ]
                            },
                            "data": [
                                {
                                    "0": "A",
                                    "1": "spade"
                                },
                                {
                                    "0": "A",
                                    "1": "heart"
                                },
                                {
                                    "0": "A",
                                    "1": "diamond"
                                },
                                {
                                    "0": "A",
                                    "1": "club"
                                },
                                {
                                    "0": "2",
                                    "1": "spade"
                                },
                                {
                                    "0": "2",
                                    "1": "heart"
                                },
                                {
                                    "0": "2",
                                    "1": "diamond"
                                },
                                {
                                    "0": "2",
                                    "1": "club"
                                },
                                {
                                    "0": "3",
                                    "1": "spade"
                                },
                                {
                                    "0": "3",
                                    "1": "heart"
                                },
                                {
                                    "0": "3",
                                    "1": "diamond"
                                },
                                {
                                    "0": "3",
                                    "1": "club"
                                },
                                {
                                    "0": "4",
                                    "1": "spade"
                                },
                                {
                                    "0": "4",
                                    "1": "heart"
                                },
                                {
                                    "0": "4",
                                    "1": "diamond"
                                },
                                {
                                    "0": "4",
                                    "1": "club"
                                },
                                {
                                    "0": "5",
                                    "1": "spade"
                                },
                                {
                                    "0": "5",
                                    "1": "heart"
                                },
                                {
                                    "0": "5",
                                    "1": "diamond"
                                },
                                {
                                    "0": "5",
                                    "1": "club"
                                },
                                {
                                    "0": "6",
                                    "1": "spade"
                                },
                                {
                                    "0": "6",
                                    "1": "heart"
                                },
                                {
                                    "0": "6",
                                    "1": "diamond"
                                },
                                {
                                    "0": "6",
                                    "1": "club"
                                },
                                {
                                    "0": "7",
                                    "1": "spade"
                                },
                                {
                                    "0": "7",
                                    "1": "heart"
                                },
                                {
                                    "0": "7",
                                    "1": "diamond"
                                },
                                {
                                    "0": "7",
                                    "1": "club"
                                },
                                {
                                    "0": "8",
                                    "1": "spade"
                                },
                                {
                                    "0": "8",
                                    "1": "heart"
                                },
                                {
                                    "0": "8",
                                    "1": "diamond"
                                },
                                {
                                    "0": "8",
                                    "1": "club"
                                },
                                {
                                    "0": "9",
                                    "1": "spade"
                                },
                                {
                                    "0": "9",
                                    "1": "heart"
                                },
                                {
                                    "0": "9",
                                    "1": "diamond"
                                },
                                {
                                    "0": "9",
                                    "1": "club"
                                },
                                {
                                    "0": "10",
                                    "1": "spade"
                                },
                                {
                                    "0": "10",
                                    "1": "heart"
                                },
                                {
                                    "0": "10",
                                    "1": "diamond"
                                },
                                {
                                    "0": "10",
                                    "1": "club"
                                },
                                {
                                    "0": "J",
                                    "1": "spade"
                                },
                                {
                                    "0": "J",
                                    "1": "heart"
                                },
                                {
                                    "0": "J",
                                    "1": "diamond"
                                },
                                {
                                    "0": "J",
                                    "1": "club"
                                },
                                {
                                    "0": "Q",
                                    "1": "spade"
                                },
                                {
                                    "0": "Q",
                                    "1": "heart"
                                },
                                {
                                    "0": "Q",
                                    "1": "diamond"
                                },
                                {
                                    "0": "Q",
                                    "1": "club"
                                },
                                {
                                    "0": "K",
                                    "1": "spade"
                                },
                                {
                                    "0": "K",
                                    "1": "heart"
                                },
                                {
                                    "0": "K",
                                    "1": "diamond"
                                },
                                {
                                    "0": "K",
                                    "1": "club"
                                }
                            ]
                        },
                        "text/html": [
                            "<table>",
                            "<tr><th>r</th><th>suit</th></tr>",
                            "<tr><td>A</td><td>spade</td></tr>",
                            "<tr><td>A</td><td>heart</td></tr>",
                            "<tr><td>A</td><td>diamond</td></tr>",
                            "<tr><td>A</td><td>club</td></tr>",
                            "<tr><td>2</td><td>spade</td></tr>",
                            "<tr><td>2</td><td>heart</td></tr>",
                            "<tr><td>2</td><td>diamond</td></tr>",
                            "<tr><td>2</td><td>club</td></tr>",
                            "<tr><td>3</td><td>spade</td></tr>",
                            "<tr><td>3</td><td>heart</td></tr>",
                            "<tr><td>3</td><td>diamond</td></tr>",
                            "<tr><td>3</td><td>club</td></tr>",
                            "<tr><td>4</td><td>spade</td></tr>",
                            "<tr><td>4</td><td>heart</td></tr>",
                            "<tr><td>4</td><td>diamond</td></tr>",
                            "<tr><td>4</td><td>club</td></tr>",
                            "<tr><td>5</td><td>spade</td></tr>",
                            "<tr><td>5</td><td>heart</td></tr>",
                            "<tr><td>5</td><td>diamond</td></tr>",
                            "<tr><td>5</td><td>club</td></tr>",
                            "<tr><td>6</td><td>spade</td></tr>",
                            "<tr><td>6</td><td>heart</td></tr>",
                            "<tr><td>6</td><td>diamond</td></tr>",
                            "<tr><td>6</td><td>club</td></tr>",
                            "<tr><td>7</td><td>spade</td></tr>",
                            "<tr><td>7</td><td>heart</td></tr>",
                            "<tr><td>7</td><td>diamond</td></tr>",
                            "<tr><td>7</td><td>club</td></tr>",
                            "<tr><td>8</td><td>spade</td></tr>",
                            "<tr><td>8</td><td>heart</td></tr>",
                            "<tr><td>8</td><td>diamond</td></tr>",
                            "<tr><td>8</td><td>club</td></tr>",
                            "<tr><td>9</td><td>spade</td></tr>",
                            "<tr><td>9</td><td>heart</td></tr>",
                            "<tr><td>9</td><td>diamond</td></tr>",
                            "<tr><td>9</td><td>club</td></tr>",
                            "<tr><td>10</td><td>spade</td></tr>",
                            "<tr><td>10</td><td>heart</td></tr>",
                            "<tr><td>10</td><td>diamond</td></tr>",
                            "<tr><td>10</td><td>club</td></tr>",
                            "<tr><td>J</td><td>spade</td></tr>",
                            "<tr><td>J</td><td>heart</td></tr>",
                            "<tr><td>J</td><td>diamond</td></tr>",
                            "<tr><td>J</td><td>club</td></tr>",
                            "<tr><td>Q</td><td>spade</td></tr>",
                            "<tr><td>Q</td><td>heart</td></tr>",
                            "<tr><td>Q</td><td>diamond</td></tr>",
                            "<tr><td>Q</td><td>club</td></tr>",
                            "<tr><td>K</td><td>spade</td></tr>",
                            "<tr><td>K</td><td>heart</td></tr>",
                            "<tr><td>K</td><td>diamond</td></tr>",
                            "<tr><td>K</td><td>club</td></tr>",
                            "</table>"
                        ]
                    }
                }
            ],
            "execution_count": 10
        },
        {
            "cell_type": "code",
            "source": [
                "select r, suit from ranks, suits;"
            ],
            "metadata": {
                "azdata_cell_guid": "41e24885-4c60-4298-b659-5da988473ec8",
                "tags": []
            },
            "outputs": [
                {
                    "output_type": "display_data",
                    "data": {
                        "text/html": "(52 row(s) affected)"
                    },
                    "metadata": {}
                },
                {
                    "output_type": "display_data",
                    "data": {
                        "text/html": "Total execution time: 00:00:00.004"
                    },
                    "metadata": {}
                },
                {
                    "output_type": "execute_result",
                    "execution_count": 9,
                    "data": {
                        "application/vnd.dataresource+json": {
                            "schema": {
                                "fields": [
                                    {
                                        "name": "r"
                                    },
                                    {
                                        "name": "suit"
                                    }
                                ]
                            },
                            "data": [
                                {
                                    "0": "A",
                                    "1": "spade"
                                },
                                {
                                    "0": "A",
                                    "1": "heart"
                                },
                                {
                                    "0": "A",
                                    "1": "diamond"
                                },
                                {
                                    "0": "A",
                                    "1": "club"
                                },
                                {
                                    "0": "2",
                                    "1": "spade"
                                },
                                {
                                    "0": "2",
                                    "1": "heart"
                                },
                                {
                                    "0": "2",
                                    "1": "diamond"
                                },
                                {
                                    "0": "2",
                                    "1": "club"
                                },
                                {
                                    "0": "3",
                                    "1": "spade"
                                },
                                {
                                    "0": "3",
                                    "1": "heart"
                                },
                                {
                                    "0": "3",
                                    "1": "diamond"
                                },
                                {
                                    "0": "3",
                                    "1": "club"
                                },
                                {
                                    "0": "4",
                                    "1": "spade"
                                },
                                {
                                    "0": "4",
                                    "1": "heart"
                                },
                                {
                                    "0": "4",
                                    "1": "diamond"
                                },
                                {
                                    "0": "4",
                                    "1": "club"
                                },
                                {
                                    "0": "5",
                                    "1": "spade"
                                },
                                {
                                    "0": "5",
                                    "1": "heart"
                                },
                                {
                                    "0": "5",
                                    "1": "diamond"
                                },
                                {
                                    "0": "5",
                                    "1": "club"
                                },
                                {
                                    "0": "6",
                                    "1": "spade"
                                },
                                {
                                    "0": "6",
                                    "1": "heart"
                                },
                                {
                                    "0": "6",
                                    "1": "diamond"
                                },
                                {
                                    "0": "6",
                                    "1": "club"
                                },
                                {
                                    "0": "7",
                                    "1": "spade"
                                },
                                {
                                    "0": "7",
                                    "1": "heart"
                                },
                                {
                                    "0": "7",
                                    "1": "diamond"
                                },
                                {
                                    "0": "7",
                                    "1": "club"
                                },
                                {
                                    "0": "8",
                                    "1": "spade"
                                },
                                {
                                    "0": "8",
                                    "1": "heart"
                                },
                                {
                                    "0": "8",
                                    "1": "diamond"
                                },
                                {
                                    "0": "8",
                                    "1": "club"
                                },
                                {
                                    "0": "9",
                                    "1": "spade"
                                },
                                {
                                    "0": "9",
                                    "1": "heart"
                                },
                                {
                                    "0": "9",
                                    "1": "diamond"
                                },
                                {
                                    "0": "9",
                                    "1": "club"
                                },
                                {
                                    "0": "10",
                                    "1": "spade"
                                },
                                {
                                    "0": "10",
                                    "1": "heart"
                                },
                                {
                                    "0": "10",
                                    "1": "diamond"
                                },
                                {
                                    "0": "10",
                                    "1": "club"
                                },
                                {
                                    "0": "J",
                                    "1": "spade"
                                },
                                {
                                    "0": "J",
                                    "1": "heart"
                                },
                                {
                                    "0": "J",
                                    "1": "diamond"
                                },
                                {
                                    "0": "J",
                                    "1": "club"
                                },
                                {
                                    "0": "Q",
                                    "1": "spade"
                                },
                                {
                                    "0": "Q",
                                    "1": "heart"
                                },
                                {
                                    "0": "Q",
                                    "1": "diamond"
                                },
                                {
                                    "0": "Q",
                                    "1": "club"
                                },
                                {
                                    "0": "K",
                                    "1": "spade"
                                },
                                {
                                    "0": "K",
                                    "1": "heart"
                                },
                                {
                                    "0": "K",
                                    "1": "diamond"
                                },
                                {
                                    "0": "K",
                                    "1": "club"
                                }
                            ]
                        },
                        "text/html": "<table><tr><th>r</th><th>suit</th></tr><tr><td>A</td><td>spade</td></tr><tr><td>A</td><td>heart</td></tr><tr><td>A</td><td>diamond</td></tr><tr><td>A</td><td>club</td></tr><tr><td>2</td><td>spade</td></tr><tr><td>2</td><td>heart</td></tr><tr><td>2</td><td>diamond</td></tr><tr><td>2</td><td>club</td></tr><tr><td>3</td><td>spade</td></tr><tr><td>3</td><td>heart</td></tr><tr><td>3</td><td>diamond</td></tr><tr><td>3</td><td>club</td></tr><tr><td>4</td><td>spade</td></tr><tr><td>4</td><td>heart</td></tr><tr><td>4</td><td>diamond</td></tr><tr><td>4</td><td>club</td></tr><tr><td>5</td><td>spade</td></tr><tr><td>5</td><td>heart</td></tr><tr><td>5</td><td>diamond</td></tr><tr><td>5</td><td>club</td></tr><tr><td>6</td><td>spade</td></tr><tr><td>6</td><td>heart</td></tr><tr><td>6</td><td>diamond</td></tr><tr><td>6</td><td>club</td></tr><tr><td>7</td><td>spade</td></tr><tr><td>7</td><td>heart</td></tr><tr><td>7</td><td>diamond</td></tr><tr><td>7</td><td>club</td></tr><tr><td>8</td><td>spade</td></tr><tr><td>8</td><td>heart</td></tr><tr><td>8</td><td>diamond</td></tr><tr><td>8</td><td>club</td></tr><tr><td>9</td><td>spade</td></tr><tr><td>9</td><td>heart</td></tr><tr><td>9</td><td>diamond</td></tr><tr><td>9</td><td>club</td></tr><tr><td>10</td><td>spade</td></tr><tr><td>10</td><td>heart</td></tr><tr><td>10</td><td>diamond</td></tr><tr><td>10</td><td>club</td></tr><tr><td>J</td><td>spade</td></tr><tr><td>J</td><td>heart</td></tr><tr><td>J</td><td>diamond</td></tr><tr><td>J</td><td>club</td></tr><tr><td>Q</td><td>spade</td></tr><tr><td>Q</td><td>heart</td></tr><tr><td>Q</td><td>diamond</td></tr><tr><td>Q</td><td>club</td></tr><tr><td>K</td><td>spade</td></tr><tr><td>K</td><td>heart</td></tr><tr><td>K</td><td>diamond</td></tr><tr><td>K</td><td>club</td></tr></table>"
                    },
                    "metadata": {}
                }
            ],
            "execution_count": 9
        },
        {
            "cell_type": "code",
            "source": [
                "select r || '-' || suit as card \r\n",
                "    from ranks, suits;"
            ],
            "metadata": {
                "azdata_cell_guid": "a1910a73-3443-485a-9727-bb82e6cdf353",
                "tags": []
            },
            "outputs": [
                {
                    "output_type": "display_data",
                    "data": {
                        "text/html": "(52 row(s) affected)"
                    },
                    "metadata": {}
                },
                {
                    "output_type": "display_data",
                    "data": {
                        "text/html": "Total execution time: 00:00:00.005"
                    },
                    "metadata": {}
                },
                {
                    "output_type": "execute_result",
                    "metadata": {},
                    "execution_count": 34,
                    "data": {
                        "application/vnd.dataresource+json": {
                            "schema": {
                                "fields": [
                                    {
                                        "name": "card"
                                    }
                                ]
                            },
                            "data": [
                                {
                                    "0": "A-spade"
                                },
                                {
                                    "0": "A-heart"
                                },
                                {
                                    "0": "A-diamond"
                                },
                                {
                                    "0": "A-club"
                                },
                                {
                                    "0": "2-spade"
                                },
                                {
                                    "0": "2-heart"
                                },
                                {
                                    "0": "2-diamond"
                                },
                                {
                                    "0": "2-club"
                                },
                                {
                                    "0": "3-spade"
                                },
                                {
                                    "0": "3-heart"
                                },
                                {
                                    "0": "3-diamond"
                                },
                                {
                                    "0": "3-club"
                                },
                                {
                                    "0": "4-spade"
                                },
                                {
                                    "0": "4-heart"
                                },
                                {
                                    "0": "4-diamond"
                                },
                                {
                                    "0": "4-club"
                                },
                                {
                                    "0": "5-spade"
                                },
                                {
                                    "0": "5-heart"
                                },
                                {
                                    "0": "5-diamond"
                                },
                                {
                                    "0": "5-club"
                                },
                                {
                                    "0": "6-spade"
                                },
                                {
                                    "0": "6-heart"
                                },
                                {
                                    "0": "6-diamond"
                                },
                                {
                                    "0": "6-club"
                                },
                                {
                                    "0": "7-spade"
                                },
                                {
                                    "0": "7-heart"
                                },
                                {
                                    "0": "7-diamond"
                                },
                                {
                                    "0": "7-club"
                                },
                                {
                                    "0": "8-spade"
                                },
                                {
                                    "0": "8-heart"
                                },
                                {
                                    "0": "8-diamond"
                                },
                                {
                                    "0": "8-club"
                                },
                                {
                                    "0": "9-spade"
                                },
                                {
                                    "0": "9-heart"
                                },
                                {
                                    "0": "9-diamond"
                                },
                                {
                                    "0": "9-club"
                                },
                                {
                                    "0": "10-spade"
                                },
                                {
                                    "0": "10-heart"
                                },
                                {
                                    "0": "10-diamond"
                                },
                                {
                                    "0": "10-club"
                                },
                                {
                                    "0": "J-spade"
                                },
                                {
                                    "0": "J-heart"
                                },
                                {
                                    "0": "J-diamond"
                                },
                                {
                                    "0": "J-club"
                                },
                                {
                                    "0": "Q-spade"
                                },
                                {
                                    "0": "Q-heart"
                                },
                                {
                                    "0": "Q-diamond"
                                },
                                {
                                    "0": "Q-club"
                                },
                                {
                                    "0": "K-spade"
                                },
                                {
                                    "0": "K-heart"
                                },
                                {
                                    "0": "K-diamond"
                                },
                                {
                                    "0": "K-club"
                                }
                            ]
                        },
                        "text/html": [
                            "<table>",
                            "<tr><th>card</th></tr>",
                            "<tr><td>A-spade</td></tr>",
                            "<tr><td>A-heart</td></tr>",
                            "<tr><td>A-diamond</td></tr>",
                            "<tr><td>A-club</td></tr>",
                            "<tr><td>2-spade</td></tr>",
                            "<tr><td>2-heart</td></tr>",
                            "<tr><td>2-diamond</td></tr>",
                            "<tr><td>2-club</td></tr>",
                            "<tr><td>3-spade</td></tr>",
                            "<tr><td>3-heart</td></tr>",
                            "<tr><td>3-diamond</td></tr>",
                            "<tr><td>3-club</td></tr>",
                            "<tr><td>4-spade</td></tr>",
                            "<tr><td>4-heart</td></tr>",
                            "<tr><td>4-diamond</td></tr>",
                            "<tr><td>4-club</td></tr>",
                            "<tr><td>5-spade</td></tr>",
                            "<tr><td>5-heart</td></tr>",
                            "<tr><td>5-diamond</td></tr>",
                            "<tr><td>5-club</td></tr>",
                            "<tr><td>6-spade</td></tr>",
                            "<tr><td>6-heart</td></tr>",
                            "<tr><td>6-diamond</td></tr>",
                            "<tr><td>6-club</td></tr>",
                            "<tr><td>7-spade</td></tr>",
                            "<tr><td>7-heart</td></tr>",
                            "<tr><td>7-diamond</td></tr>",
                            "<tr><td>7-club</td></tr>",
                            "<tr><td>8-spade</td></tr>",
                            "<tr><td>8-heart</td></tr>",
                            "<tr><td>8-diamond</td></tr>",
                            "<tr><td>8-club</td></tr>",
                            "<tr><td>9-spade</td></tr>",
                            "<tr><td>9-heart</td></tr>",
                            "<tr><td>9-diamond</td></tr>",
                            "<tr><td>9-club</td></tr>",
                            "<tr><td>10-spade</td></tr>",
                            "<tr><td>10-heart</td></tr>",
                            "<tr><td>10-diamond</td></tr>",
                            "<tr><td>10-club</td></tr>",
                            "<tr><td>J-spade</td></tr>",
                            "<tr><td>J-heart</td></tr>",
                            "<tr><td>J-diamond</td></tr>",
                            "<tr><td>J-club</td></tr>",
                            "<tr><td>Q-spade</td></tr>",
                            "<tr><td>Q-heart</td></tr>",
                            "<tr><td>Q-diamond</td></tr>",
                            "<tr><td>Q-club</td></tr>",
                            "<tr><td>K-spade</td></tr>",
                            "<tr><td>K-heart</td></tr>",
                            "<tr><td>K-diamond</td></tr>",
                            "<tr><td>K-club</td></tr>",
                            "</table>"
                        ]
                    }
                }
            ],
            "execution_count": 34
        },
        {
            "cell_type": "code",
            "source": [
                "select r || '-' || suit as card \r\n",
                "    into playing_cards\r\n",
                "    from ranks, suits;"
            ],
            "metadata": {
                "azdata_cell_guid": "b15d758d-0c58-445c-99fa-0b7de29426d6"
            },
            "outputs": [
                {
                    "output_type": "error",
                    "ename": "",
                    "evalue": "SELECT ... INTO is not allowed here",
                    "traceback": []
                },
                {
                    "output_type": "display_data",
                    "data": {
                        "text/html": "Total execution time: 00:00:00.003"
                    },
                    "metadata": {}
                }
            ],
            "execution_count": 17
        },
        {
            "cell_type": "code",
            "source": [
                "select r || '-' || suit as card \r\n",
                "    into playing_cards\r\n",
                "    from ranks cross join suits;"
            ],
            "metadata": {
                "azdata_cell_guid": "f4b668bf-e541-4a31-8130-35137049dadb",
                "tags": []
            },
            "outputs": [
                {
                    "output_type": "error",
                    "evalue": "SELECT ... INTO is not allowed here",
                    "ename": "",
                    "traceback": []
                },
                {
                    "output_type": "display_data",
                    "data": {
                        "text/html": "Total execution time: 00:00:00.002"
                    },
                    "metadata": {}
                }
            ],
            "execution_count": 12
        },
        {
            "cell_type": "code",
            "source": [
                "select card from playing_cards;"
            ],
            "metadata": {
                "azdata_cell_guid": "a562b51e-249b-43f9-aaf9-a03e7c5b1691"
            },
            "outputs": [
                {
                    "output_type": "display_data",
                    "data": {
                        "text/html": "(52 row(s) affected)"
                    },
                    "metadata": {}
                },
                {
                    "output_type": "display_data",
                    "data": {
                        "text/html": "Total execution time: 00:00:00.006"
                    },
                    "metadata": {}
                },
                {
                    "output_type": "execute_result",
                    "metadata": {},
                    "execution_count": 37,
                    "data": {
                        "application/vnd.dataresource+json": {
                            "schema": {
                                "fields": [
                                    {
                                        "name": "card"
                                    }
                                ]
                            },
                            "data": [
                                {
                                    "0": "A-spade"
                                },
                                {
                                    "0": "A-heart"
                                },
                                {
                                    "0": "A-diamond"
                                },
                                {
                                    "0": "A-club"
                                },
                                {
                                    "0": "2-spade"
                                },
                                {
                                    "0": "2-heart"
                                },
                                {
                                    "0": "2-diamond"
                                },
                                {
                                    "0": "2-club"
                                },
                                {
                                    "0": "3-spade"
                                },
                                {
                                    "0": "3-heart"
                                },
                                {
                                    "0": "3-diamond"
                                },
                                {
                                    "0": "3-club"
                                },
                                {
                                    "0": "4-spade"
                                },
                                {
                                    "0": "4-heart"
                                },
                                {
                                    "0": "4-diamond"
                                },
                                {
                                    "0": "4-club"
                                },
                                {
                                    "0": "5-spade"
                                },
                                {
                                    "0": "5-heart"
                                },
                                {
                                    "0": "5-diamond"
                                },
                                {
                                    "0": "5-club"
                                },
                                {
                                    "0": "6-spade"
                                },
                                {
                                    "0": "6-heart"
                                },
                                {
                                    "0": "6-diamond"
                                },
                                {
                                    "0": "6-club"
                                },
                                {
                                    "0": "7-spade"
                                },
                                {
                                    "0": "7-heart"
                                },
                                {
                                    "0": "7-diamond"
                                },
                                {
                                    "0": "7-club"
                                },
                                {
                                    "0": "8-spade"
                                },
                                {
                                    "0": "8-heart"
                                },
                                {
                                    "0": "8-diamond"
                                },
                                {
                                    "0": "8-club"
                                },
                                {
                                    "0": "9-spade"
                                },
                                {
                                    "0": "9-heart"
                                },
                                {
                                    "0": "9-diamond"
                                },
                                {
                                    "0": "9-club"
                                },
                                {
                                    "0": "10-spade"
                                },
                                {
                                    "0": "10-heart"
                                },
                                {
                                    "0": "10-diamond"
                                },
                                {
                                    "0": "10-club"
                                },
                                {
                                    "0": "J-spade"
                                },
                                {
                                    "0": "J-heart"
                                },
                                {
                                    "0": "J-diamond"
                                },
                                {
                                    "0": "J-club"
                                },
                                {
                                    "0": "Q-spade"
                                },
                                {
                                    "0": "Q-heart"
                                },
                                {
                                    "0": "Q-diamond"
                                },
                                {
                                    "0": "Q-club"
                                },
                                {
                                    "0": "K-spade"
                                },
                                {
                                    "0": "K-heart"
                                },
                                {
                                    "0": "K-diamond"
                                },
                                {
                                    "0": "K-club"
                                }
                            ]
                        },
                        "text/html": [
                            "<table>",
                            "<tr><th>card</th></tr>",
                            "<tr><td>A-spade</td></tr>",
                            "<tr><td>A-heart</td></tr>",
                            "<tr><td>A-diamond</td></tr>",
                            "<tr><td>A-club</td></tr>",
                            "<tr><td>2-spade</td></tr>",
                            "<tr><td>2-heart</td></tr>",
                            "<tr><td>2-diamond</td></tr>",
                            "<tr><td>2-club</td></tr>",
                            "<tr><td>3-spade</td></tr>",
                            "<tr><td>3-heart</td></tr>",
                            "<tr><td>3-diamond</td></tr>",
                            "<tr><td>3-club</td></tr>",
                            "<tr><td>4-spade</td></tr>",
                            "<tr><td>4-heart</td></tr>",
                            "<tr><td>4-diamond</td></tr>",
                            "<tr><td>4-club</td></tr>",
                            "<tr><td>5-spade</td></tr>",
                            "<tr><td>5-heart</td></tr>",
                            "<tr><td>5-diamond</td></tr>",
                            "<tr><td>5-club</td></tr>",
                            "<tr><td>6-spade</td></tr>",
                            "<tr><td>6-heart</td></tr>",
                            "<tr><td>6-diamond</td></tr>",
                            "<tr><td>6-club</td></tr>",
                            "<tr><td>7-spade</td></tr>",
                            "<tr><td>7-heart</td></tr>",
                            "<tr><td>7-diamond</td></tr>",
                            "<tr><td>7-club</td></tr>",
                            "<tr><td>8-spade</td></tr>",
                            "<tr><td>8-heart</td></tr>",
                            "<tr><td>8-diamond</td></tr>",
                            "<tr><td>8-club</td></tr>",
                            "<tr><td>9-spade</td></tr>",
                            "<tr><td>9-heart</td></tr>",
                            "<tr><td>9-diamond</td></tr>",
                            "<tr><td>9-club</td></tr>",
                            "<tr><td>10-spade</td></tr>",
                            "<tr><td>10-heart</td></tr>",
                            "<tr><td>10-diamond</td></tr>",
                            "<tr><td>10-club</td></tr>",
                            "<tr><td>J-spade</td></tr>",
                            "<tr><td>J-heart</td></tr>",
                            "<tr><td>J-diamond</td></tr>",
                            "<tr><td>J-club</td></tr>",
                            "<tr><td>Q-spade</td></tr>",
                            "<tr><td>Q-heart</td></tr>",
                            "<tr><td>Q-diamond</td></tr>",
                            "<tr><td>Q-club</td></tr>",
                            "<tr><td>K-spade</td></tr>",
                            "<tr><td>K-heart</td></tr>",
                            "<tr><td>K-diamond</td></tr>",
                            "<tr><td>K-club</td></tr>",
                            "</table>"
                        ]
                    }
                }
            ],
            "execution_count": 37
        }
    ]
}