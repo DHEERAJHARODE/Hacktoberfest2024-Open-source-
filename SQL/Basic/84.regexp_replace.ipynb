{
    "metadata": {
        "kernelspec": {
            "name": "SQL",
            "display_name": "SQL",
            "language": "sql"
        },
        "language_info": {
            "name": "sql",
            "version": ""
        }
    },
    "nbformat_minor": 2,
    "nbformat": 4,
    "cells": [
        {
            "cell_type": "markdown",
            "source": [
                "# regexp\\_replace() function\n",
                "\n",
                "-   learn regular expression: [https://regexr.com/](https://regexr.com/ \"https://regexr.com/\")\n",
                "    \n",
                "    # การใช้ regexp\\_replace() เพื่อแทนที่ข้อความตาม pattern ที่กำหนด"
            ],
            "metadata": {
                "azdata_cell_guid": "06617052-b80e-452b-8c98-f68f45f0dce8"
            }
        },
        {
            "cell_type": "code",
            "source": [
                "select * from billionaire_2019"
            ],
            "metadata": {
                "azdata_cell_guid": "d7c178be-cba8-4d83-963a-5f23e8058773"
            },
            "outputs": [
                {
                    "output_type": "display_data",
                    "data": {
                        "text/html": "(10 row(s) affected)"
                    },
                    "metadata": {}
                },
                {
                    "output_type": "display_data",
                    "data": {
                        "text/html": "Total execution time: 00:00:00.007"
                    },
                    "metadata": {}
                },
                {
                    "output_type": "execute_result",
                    "execution_count": 5,
                    "data": {
                        "application/vnd.dataresource+json": {
                            "schema": {
                                "fields": [
                                    {
                                        "name": "no_"
                                    },
                                    {
                                        "name": "name"
                                    },
                                    {
                                        "name": "net_worth_usd"
                                    },
                                    {
                                        "name": "age"
                                    },
                                    {
                                        "name": "nationality"
                                    },
                                    {
                                        "name": "sources_of_wealth"
                                    }
                                ]
                            },
                            "data": [
                                {
                                    "0": "1",
                                    "1": "Jeff Bezos",
                                    "2": "$131 billion",
                                    "3": "55",
                                    "4": "United States",
                                    "5": "Amazon"
                                },
                                {
                                    "0": "2",
                                    "1": "Bill Gates",
                                    "2": "$96.5 billion",
                                    "3": "63",
                                    "4": "United States",
                                    "5": "Microsoft"
                                },
                                {
                                    "0": "3",
                                    "1": "Warren Buffett",
                                    "2": "$82.5 billion",
                                    "3": "88",
                                    "4": "United States",
                                    "5": "Berkshire Hathaway"
                                },
                                {
                                    "0": "4",
                                    "1": "Bernard Arnault",
                                    "2": "$76 billion",
                                    "3": "70",
                                    "4": "France",
                                    "5": "LVMH"
                                },
                                {
                                    "0": "5",
                                    "1": "Carlos Slim",
                                    "2": "$64 billion",
                                    "3": "79",
                                    "4": "Mexico",
                                    "5": "América Móvil, Grupo Carso"
                                },
                                {
                                    "0": "6",
                                    "1": "Amancio Ortega",
                                    "2": "$62.7 billion",
                                    "3": "82",
                                    "4": "Spain",
                                    "5": "Inditex, Zara"
                                },
                                {
                                    "0": "7",
                                    "1": "Larry Ellison",
                                    "2": "$62.5 billion",
                                    "3": "74",
                                    "4": "United States",
                                    "5": "Oracle Corporation"
                                },
                                {
                                    "0": "8",
                                    "1": "Mark Zuckerberg",
                                    "2": "$62.3 billion",
                                    "3": "34",
                                    "4": "United States",
                                    "5": "Facebook"
                                },
                                {
                                    "0": "9",
                                    "1": "Michael Bloomberg",
                                    "2": "$55.5 billion",
                                    "3": "77",
                                    "4": "United States",
                                    "5": "Bloomberg L.P."
                                },
                                {
                                    "0": "10",
                                    "1": "Larry Page",
                                    "2": "$50.8 billion",
                                    "3": "45",
                                    "4": "United States",
                                    "5": "Alphabet Inc."
                                }
                            ]
                        },
                        "text/html": "<table><tr><th>no_</th><th>name</th><th>net_worth_usd</th><th>age</th><th>nationality</th><th>sources_of_wealth</th></tr><tr><td>1</td><td>Jeff Bezos</td><td>$131 billion</td><td>55</td><td>United States</td><td>Amazon</td></tr><tr><td>2</td><td>Bill Gates</td><td>$96.5 billion</td><td>63</td><td>United States</td><td>Microsoft</td></tr><tr><td>3</td><td>Warren Buffett</td><td>$82.5 billion</td><td>88</td><td>United States</td><td>Berkshire Hathaway</td></tr><tr><td>4</td><td>Bernard Arnault</td><td>$76 billion</td><td>70</td><td>France</td><td>LVMH</td></tr><tr><td>5</td><td>Carlos Slim</td><td>$64 billion</td><td>79</td><td>Mexico</td><td>América Móvil, Grupo Carso</td></tr><tr><td>6</td><td>Amancio Ortega</td><td>$62.7 billion</td><td>82</td><td>Spain</td><td>Inditex, Zara</td></tr><tr><td>7</td><td>Larry Ellison</td><td>$62.5 billion</td><td>74</td><td>United States</td><td>Oracle Corporation</td></tr><tr><td>8</td><td>Mark Zuckerberg</td><td>$62.3 billion</td><td>34</td><td>United States</td><td>Facebook</td></tr><tr><td>9</td><td>Michael Bloomberg</td><td>$55.5 billion</td><td>77</td><td>United States</td><td>Bloomberg L.P.</td></tr><tr><td>10</td><td>Larry Page</td><td>$50.8 billion</td><td>45</td><td>United States</td><td>Alphabet Inc.</td></tr></table>"
                    },
                    "metadata": {}
                }
            ],
            "execution_count": 5
        },
        {
            "cell_type": "code",
            "source": [
                "select net_worth_usd, \n",
                "    replace(net_worth_usd, '$', ''), --ลบตัว $ และแทนที่ด้วย ' ' (ช่องว่าง)\n",
                "    replace(net_worth_usd, ' billion', ''),\n",
                "    replace(replace(net_worth_usd, ' billion', ''), '$', ''),\n",
                "    replace(replace(net_worth_usd, ' billion', ''), '$', '')::decimal(5, 1)\n",
                "    from billionaire_2019"
            ],
            "metadata": {
                "azdata_cell_guid": "383ab4c3-da52-4fb4-a4b3-45c9a41e655d"
            },
            "outputs": [
                {
                    "output_type": "display_data",
                    "data": {
                        "text/html": "(10 row(s) affected)"
                    },
                    "metadata": {}
                },
                {
                    "output_type": "display_data",
                    "data": {
                        "text/html": "Total execution time: 00:00:00.008"
                    },
                    "metadata": {}
                },
                {
                    "output_type": "execute_result",
                    "execution_count": 6,
                    "data": {
                        "application/vnd.dataresource+json": {
                            "schema": {
                                "fields": [
                                    {
                                        "name": "net_worth_usd"
                                    },
                                    {
                                        "name": "replace"
                                    },
                                    {
                                        "name": "replace"
                                    },
                                    {
                                        "name": "replace"
                                    },
                                    {
                                        "name": "replace"
                                    }
                                ]
                            },
                            "data": [
                                {
                                    "0": "$131 billion",
                                    "1": "131 billion",
                                    "2": "$131",
                                    "3": "131",
                                    "4": "131.0"
                                },
                                {
                                    "0": "$96.5 billion",
                                    "1": "96.5 billion",
                                    "2": "$96.5",
                                    "3": "96.5",
                                    "4": "96.5"
                                },
                                {
                                    "0": "$82.5 billion",
                                    "1": "82.5 billion",
                                    "2": "$82.5",
                                    "3": "82.5",
                                    "4": "82.5"
                                },
                                {
                                    "0": "$76 billion",
                                    "1": "76 billion",
                                    "2": "$76",
                                    "3": "76",
                                    "4": "76.0"
                                },
                                {
                                    "0": "$64 billion",
                                    "1": "64 billion",
                                    "2": "$64",
                                    "3": "64",
                                    "4": "64.0"
                                },
                                {
                                    "0": "$62.7 billion",
                                    "1": "62.7 billion",
                                    "2": "$62.7",
                                    "3": "62.7",
                                    "4": "62.7"
                                },
                                {
                                    "0": "$62.5 billion",
                                    "1": "62.5 billion",
                                    "2": "$62.5",
                                    "3": "62.5",
                                    "4": "62.5"
                                },
                                {
                                    "0": "$62.3 billion",
                                    "1": "62.3 billion",
                                    "2": "$62.3",
                                    "3": "62.3",
                                    "4": "62.3"
                                },
                                {
                                    "0": "$55.5 billion",
                                    "1": "55.5 billion",
                                    "2": "$55.5",
                                    "3": "55.5",
                                    "4": "55.5"
                                },
                                {
                                    "0": "$50.8 billion",
                                    "1": "50.8 billion",
                                    "2": "$50.8",
                                    "3": "50.8",
                                    "4": "50.8"
                                }
                            ]
                        },
                        "text/html": "<table><tr><th>net_worth_usd</th><th>replace</th><th>replace</th><th>replace</th><th>replace</th></tr><tr><td>$131 billion</td><td>131 billion</td><td>$131</td><td>131</td><td>131.0</td></tr><tr><td>$96.5 billion</td><td>96.5 billion</td><td>$96.5</td><td>96.5</td><td>96.5</td></tr><tr><td>$82.5 billion</td><td>82.5 billion</td><td>$82.5</td><td>82.5</td><td>82.5</td></tr><tr><td>$76 billion</td><td>76 billion</td><td>$76</td><td>76</td><td>76.0</td></tr><tr><td>$64 billion</td><td>64 billion</td><td>$64</td><td>64</td><td>64.0</td></tr><tr><td>$62.7 billion</td><td>62.7 billion</td><td>$62.7</td><td>62.7</td><td>62.7</td></tr><tr><td>$62.5 billion</td><td>62.5 billion</td><td>$62.5</td><td>62.5</td><td>62.5</td></tr><tr><td>$62.3 billion</td><td>62.3 billion</td><td>$62.3</td><td>62.3</td><td>62.3</td></tr><tr><td>$55.5 billion</td><td>55.5 billion</td><td>$55.5</td><td>55.5</td><td>55.5</td></tr><tr><td>$50.8 billion</td><td>50.8 billion</td><td>$50.8</td><td>50.8</td><td>50.8</td></tr></table>"
                    },
                    "metadata": {}
                }
            ],
            "execution_count": 6
        },
        {
            "cell_type": "code",
            "source": [
                "select net_worth_usd,\n",
                "    replace(replace(net_worth_usd, ' billion', ''), '$', '')::decimal(5, 1)\n",
                "    from billionaire_2019"
            ],
            "metadata": {
                "azdata_cell_guid": "69a4a265-ec70-4b62-848c-17cbc980a9ec"
            },
            "outputs": [
                {
                    "output_type": "display_data",
                    "data": {
                        "text/html": "(10 row(s) affected)"
                    },
                    "metadata": {}
                },
                {
                    "output_type": "display_data",
                    "data": {
                        "text/html": "Total execution time: 00:00:00.005"
                    },
                    "metadata": {}
                },
                {
                    "output_type": "execute_result",
                    "execution_count": 7,
                    "data": {
                        "application/vnd.dataresource+json": {
                            "schema": {
                                "fields": [
                                    {
                                        "name": "net_worth_usd"
                                    },
                                    {
                                        "name": "replace"
                                    }
                                ]
                            },
                            "data": [
                                {
                                    "0": "$131 billion",
                                    "1": "131.0"
                                },
                                {
                                    "0": "$96.5 billion",
                                    "1": "96.5"
                                },
                                {
                                    "0": "$82.5 billion",
                                    "1": "82.5"
                                },
                                {
                                    "0": "$76 billion",
                                    "1": "76.0"
                                },
                                {
                                    "0": "$64 billion",
                                    "1": "64.0"
                                },
                                {
                                    "0": "$62.7 billion",
                                    "1": "62.7"
                                },
                                {
                                    "0": "$62.5 billion",
                                    "1": "62.5"
                                },
                                {
                                    "0": "$62.3 billion",
                                    "1": "62.3"
                                },
                                {
                                    "0": "$55.5 billion",
                                    "1": "55.5"
                                },
                                {
                                    "0": "$50.8 billion",
                                    "1": "50.8"
                                }
                            ]
                        },
                        "text/html": "<table><tr><th>net_worth_usd</th><th>replace</th></tr><tr><td>$131 billion</td><td>131.0</td></tr><tr><td>$96.5 billion</td><td>96.5</td></tr><tr><td>$82.5 billion</td><td>82.5</td></tr><tr><td>$76 billion</td><td>76.0</td></tr><tr><td>$64 billion</td><td>64.0</td></tr><tr><td>$62.7 billion</td><td>62.7</td></tr><tr><td>$62.5 billion</td><td>62.5</td></tr><tr><td>$62.3 billion</td><td>62.3</td></tr><tr><td>$55.5 billion</td><td>55.5</td></tr><tr><td>$50.8 billion</td><td>50.8</td></tr></table>"
                    },
                    "metadata": {}
                }
            ],
            "execution_count": 7
        },
        {
            "cell_type": "code",
            "source": [
                "select \n",
                "    sum(replace(replace(net_worth_usd, ' billion', ''), '$', '')::decimal(5, 1))\n",
                "    from billionaire_2019"
            ],
            "metadata": {
                "azdata_cell_guid": "3149c626-3d4a-416e-a66d-fd7d7840447d"
            },
            "outputs": [
                {
                    "output_type": "display_data",
                    "data": {
                        "text/html": "(1 row(s) affected)"
                    },
                    "metadata": {}
                },
                {
                    "output_type": "display_data",
                    "data": {
                        "text/html": "Total execution time: 00:00:00.005"
                    },
                    "metadata": {}
                },
                {
                    "output_type": "execute_result",
                    "execution_count": 8,
                    "data": {
                        "application/vnd.dataresource+json": {
                            "schema": {
                                "fields": [
                                    {
                                        "name": "sum"
                                    }
                                ]
                            },
                            "data": [
                                {
                                    "0": "743.8"
                                }
                            ]
                        },
                        "text/html": "<table><tr><th>sum</th></tr><tr><td>743.8</td></tr></table>"
                    },
                    "metadata": {}
                }
            ],
            "execution_count": 8
        },
        {
            "cell_type": "code",
            "source": [
                "select \n",
                "    net_worth_usd,\n",
                "    regexp_replace(net_worth_usd, '[^\\d.]', '', 'g'), -- [^\\d.] ลบตัวที่ไม่ใช่ตัวเลข(\\d) หรือ (0-9) และจุดทศนิยม(.), g ลบทุกตัวที่เจอ\n",
                "    regexp_replace(net_worth_usd, '[^0-9.]', '', 'g')\n",
                "    from billionaire_2019"
            ],
            "metadata": {
                "azdata_cell_guid": "681575a9-2631-4f27-8dd6-998984ce9fcc",
                "tags": []
            },
            "outputs": [
                {
                    "output_type": "display_data",
                    "data": {
                        "text/html": "(10 row(s) affected)"
                    },
                    "metadata": {}
                },
                {
                    "output_type": "display_data",
                    "data": {
                        "text/html": "Total execution time: 00:00:00.005"
                    },
                    "metadata": {}
                },
                {
                    "output_type": "execute_result",
                    "execution_count": 9,
                    "data": {
                        "application/vnd.dataresource+json": {
                            "schema": {
                                "fields": [
                                    {
                                        "name": "net_worth_usd"
                                    },
                                    {
                                        "name": "regexp_replace"
                                    },
                                    {
                                        "name": "regexp_replace"
                                    }
                                ]
                            },
                            "data": [
                                {
                                    "0": "$131 billion",
                                    "1": "131",
                                    "2": "131"
                                },
                                {
                                    "0": "$96.5 billion",
                                    "1": "96.5",
                                    "2": "96.5"
                                },
                                {
                                    "0": "$82.5 billion",
                                    "1": "82.5",
                                    "2": "82.5"
                                },
                                {
                                    "0": "$76 billion",
                                    "1": "76",
                                    "2": "76"
                                },
                                {
                                    "0": "$64 billion",
                                    "1": "64",
                                    "2": "64"
                                },
                                {
                                    "0": "$62.7 billion",
                                    "1": "62.7",
                                    "2": "62.7"
                                },
                                {
                                    "0": "$62.5 billion",
                                    "1": "62.5",
                                    "2": "62.5"
                                },
                                {
                                    "0": "$62.3 billion",
                                    "1": "62.3",
                                    "2": "62.3"
                                },
                                {
                                    "0": "$55.5 billion",
                                    "1": "55.5",
                                    "2": "55.5"
                                },
                                {
                                    "0": "$50.8 billion",
                                    "1": "50.8",
                                    "2": "50.8"
                                }
                            ]
                        },
                        "text/html": "<table><tr><th>net_worth_usd</th><th>regexp_replace</th><th>regexp_replace</th></tr><tr><td>$131 billion</td><td>131</td><td>131</td></tr><tr><td>$96.5 billion</td><td>96.5</td><td>96.5</td></tr><tr><td>$82.5 billion</td><td>82.5</td><td>82.5</td></tr><tr><td>$76 billion</td><td>76</td><td>76</td></tr><tr><td>$64 billion</td><td>64</td><td>64</td></tr><tr><td>$62.7 billion</td><td>62.7</td><td>62.7</td></tr><tr><td>$62.5 billion</td><td>62.5</td><td>62.5</td></tr><tr><td>$62.3 billion</td><td>62.3</td><td>62.3</td></tr><tr><td>$55.5 billion</td><td>55.5</td><td>55.5</td></tr><tr><td>$50.8 billion</td><td>50.8</td><td>50.8</td></tr></table>"
                    },
                    "metadata": {}
                }
            ],
            "execution_count": 9
        },
        {
            "cell_type": "code",
            "source": [
                "select \n",
                "    regexp_replace(net_worth_usd, '[^\\d.]', '', 'g')::decimal(5, 1)\n",
                "    from billionaire_2019"
            ],
            "metadata": {
                "azdata_cell_guid": "cf690402-1840-4ac1-9bae-e9302eab3d94"
            },
            "outputs": [
                {
                    "output_type": "display_data",
                    "data": {
                        "text/html": "(10 row(s) affected)"
                    },
                    "metadata": {}
                },
                {
                    "output_type": "display_data",
                    "data": {
                        "text/html": "Total execution time: 00:00:00.005"
                    },
                    "metadata": {}
                },
                {
                    "output_type": "execute_result",
                    "execution_count": 10,
                    "data": {
                        "application/vnd.dataresource+json": {
                            "schema": {
                                "fields": [
                                    {
                                        "name": "regexp_replace"
                                    }
                                ]
                            },
                            "data": [
                                {
                                    "0": "131.0"
                                },
                                {
                                    "0": "96.5"
                                },
                                {
                                    "0": "82.5"
                                },
                                {
                                    "0": "76.0"
                                },
                                {
                                    "0": "64.0"
                                },
                                {
                                    "0": "62.7"
                                },
                                {
                                    "0": "62.5"
                                },
                                {
                                    "0": "62.3"
                                },
                                {
                                    "0": "55.5"
                                },
                                {
                                    "0": "50.8"
                                }
                            ]
                        },
                        "text/html": "<table><tr><th>regexp_replace</th></tr><tr><td>131.0</td></tr><tr><td>96.5</td></tr><tr><td>82.5</td></tr><tr><td>76.0</td></tr><tr><td>64.0</td></tr><tr><td>62.7</td></tr><tr><td>62.5</td></tr><tr><td>62.3</td></tr><tr><td>55.5</td></tr><tr><td>50.8</td></tr></table>"
                    },
                    "metadata": {}
                }
            ],
            "execution_count": 10
        },
        {
            "cell_type": "code",
            "source": [
                "select \n",
                "    sum(regexp_replace(net_worth_usd, '[^\\d.]', '', 'g')::decimal(5, 1))\n",
                "    from billionaire_2019"
            ],
            "metadata": {
                "azdata_cell_guid": "74a93c9c-314e-409d-a5dc-0763287048cd"
            },
            "outputs": [
                {
                    "output_type": "display_data",
                    "data": {
                        "text/html": "(1 row(s) affected)"
                    },
                    "metadata": {}
                },
                {
                    "output_type": "display_data",
                    "data": {
                        "text/html": "Total execution time: 00:00:00.004"
                    },
                    "metadata": {}
                },
                {
                    "output_type": "execute_result",
                    "execution_count": 11,
                    "data": {
                        "application/vnd.dataresource+json": {
                            "schema": {
                                "fields": [
                                    {
                                        "name": "sum"
                                    }
                                ]
                            },
                            "data": [
                                {
                                    "0": "743.8"
                                }
                            ]
                        },
                        "text/html": "<table><tr><th>sum</th></tr><tr><td>743.8</td></tr></table>"
                    },
                    "metadata": {}
                }
            ],
            "execution_count": 11
        },
        {
            "cell_type": "markdown",
            "source": [
                "## capture groups"
            ],
            "metadata": {
                "azdata_cell_guid": "50ffbb9e-5059-4941-835d-762f588db0ba"
            }
        },
        {
            "cell_type": "code",
            "source": [
                "select * from billionaire_2019"
            ],
            "metadata": {
                "azdata_cell_guid": "876f3a26-225e-4b0b-90f4-ab032426ab8b"
            },
            "outputs": [
                {
                    "output_type": "display_data",
                    "data": {
                        "text/html": "(10 row(s) affected)"
                    },
                    "metadata": {}
                },
                {
                    "output_type": "display_data",
                    "data": {
                        "text/html": "Total execution time: 00:00:00.008"
                    },
                    "metadata": {}
                },
                {
                    "output_type": "execute_result",
                    "execution_count": 12,
                    "data": {
                        "application/vnd.dataresource+json": {
                            "schema": {
                                "fields": [
                                    {
                                        "name": "no_"
                                    },
                                    {
                                        "name": "name"
                                    },
                                    {
                                        "name": "net_worth_usd"
                                    },
                                    {
                                        "name": "age"
                                    },
                                    {
                                        "name": "nationality"
                                    },
                                    {
                                        "name": "sources_of_wealth"
                                    }
                                ]
                            },
                            "data": [
                                {
                                    "0": "1",
                                    "1": "Jeff Bezos",
                                    "2": "$131 billion",
                                    "3": "55",
                                    "4": "United States",
                                    "5": "Amazon"
                                },
                                {
                                    "0": "2",
                                    "1": "Bill Gates",
                                    "2": "$96.5 billion",
                                    "3": "63",
                                    "4": "United States",
                                    "5": "Microsoft"
                                },
                                {
                                    "0": "3",
                                    "1": "Warren Buffett",
                                    "2": "$82.5 billion",
                                    "3": "88",
                                    "4": "United States",
                                    "5": "Berkshire Hathaway"
                                },
                                {
                                    "0": "4",
                                    "1": "Bernard Arnault",
                                    "2": "$76 billion",
                                    "3": "70",
                                    "4": "France",
                                    "5": "LVMH"
                                },
                                {
                                    "0": "5",
                                    "1": "Carlos Slim",
                                    "2": "$64 billion",
                                    "3": "79",
                                    "4": "Mexico",
                                    "5": "América Móvil, Grupo Carso"
                                },
                                {
                                    "0": "6",
                                    "1": "Amancio Ortega",
                                    "2": "$62.7 billion",
                                    "3": "82",
                                    "4": "Spain",
                                    "5": "Inditex, Zara"
                                },
                                {
                                    "0": "7",
                                    "1": "Larry Ellison",
                                    "2": "$62.5 billion",
                                    "3": "74",
                                    "4": "United States",
                                    "5": "Oracle Corporation"
                                },
                                {
                                    "0": "8",
                                    "1": "Mark Zuckerberg",
                                    "2": "$62.3 billion",
                                    "3": "34",
                                    "4": "United States",
                                    "5": "Facebook"
                                },
                                {
                                    "0": "9",
                                    "1": "Michael Bloomberg",
                                    "2": "$55.5 billion",
                                    "3": "77",
                                    "4": "United States",
                                    "5": "Bloomberg L.P."
                                },
                                {
                                    "0": "10",
                                    "1": "Larry Page",
                                    "2": "$50.8 billion",
                                    "3": "45",
                                    "4": "United States",
                                    "5": "Alphabet Inc."
                                }
                            ]
                        },
                        "text/html": "<table><tr><th>no_</th><th>name</th><th>net_worth_usd</th><th>age</th><th>nationality</th><th>sources_of_wealth</th></tr><tr><td>1</td><td>Jeff Bezos</td><td>$131 billion</td><td>55</td><td>United States</td><td>Amazon</td></tr><tr><td>2</td><td>Bill Gates</td><td>$96.5 billion</td><td>63</td><td>United States</td><td>Microsoft</td></tr><tr><td>3</td><td>Warren Buffett</td><td>$82.5 billion</td><td>88</td><td>United States</td><td>Berkshire Hathaway</td></tr><tr><td>4</td><td>Bernard Arnault</td><td>$76 billion</td><td>70</td><td>France</td><td>LVMH</td></tr><tr><td>5</td><td>Carlos Slim</td><td>$64 billion</td><td>79</td><td>Mexico</td><td>América Móvil, Grupo Carso</td></tr><tr><td>6</td><td>Amancio Ortega</td><td>$62.7 billion</td><td>82</td><td>Spain</td><td>Inditex, Zara</td></tr><tr><td>7</td><td>Larry Ellison</td><td>$62.5 billion</td><td>74</td><td>United States</td><td>Oracle Corporation</td></tr><tr><td>8</td><td>Mark Zuckerberg</td><td>$62.3 billion</td><td>34</td><td>United States</td><td>Facebook</td></tr><tr><td>9</td><td>Michael Bloomberg</td><td>$55.5 billion</td><td>77</td><td>United States</td><td>Bloomberg L.P.</td></tr><tr><td>10</td><td>Larry Page</td><td>$50.8 billion</td><td>45</td><td>United States</td><td>Alphabet Inc.</td></tr></table>"
                    },
                    "metadata": {}
                }
            ],
            "execution_count": 12
        },
        {
            "cell_type": "code",
            "source": [
                "-- REGEXP_REPLACE( string, pattern [, replacement_string [, start_position [, nth_appearance [, match_parameter ] ] ] ] )\n",
                "\n",
                "select name,\n",
                "    -- Jeff Bezos -> Bezos, Jeff\n",
                "    regexp_replace(name, '(\\w+.)(\\s+)(\\w+.)', '\\3, \\1'), -- ชื่อ(\\w+.), ชื่องว่าง(\\s+) และ นามสกุล(\\w+.) --> '\\3, \\1' ท่อนที่3 ,comma ท่อนที่1\n",
                "    regexp_replace(name, '(.)(\\w+.)(\\s+)(\\w+.)', '\\4, \\1') -- (.) หรืแ (\\d)จุดแทนตัวอักษร 1 ตัว\n",
                "     from billionaire_2019"
            ],
            "metadata": {
                "azdata_cell_guid": "a8f96179-b2cb-46a1-a850-b6dfba10da7d"
            },
            "outputs": [
                {
                    "output_type": "display_data",
                    "data": {
                        "text/html": "(10 row(s) affected)"
                    },
                    "metadata": {}
                },
                {
                    "output_type": "display_data",
                    "data": {
                        "text/html": "Total execution time: 00:00:00.010"
                    },
                    "metadata": {}
                },
                {
                    "output_type": "execute_result",
                    "execution_count": 13,
                    "data": {
                        "application/vnd.dataresource+json": {
                            "schema": {
                                "fields": [
                                    {
                                        "name": "name"
                                    },
                                    {
                                        "name": "regexp_replace"
                                    },
                                    {
                                        "name": "regexp_replace"
                                    }
                                ]
                            },
                            "data": [
                                {
                                    "0": "Jeff Bezos",
                                    "1": "Bezos, Jeff",
                                    "2": "Bezos, J"
                                },
                                {
                                    "0": "Bill Gates",
                                    "1": "Gates, Bill",
                                    "2": "Gates, B"
                                },
                                {
                                    "0": "Warren Buffett",
                                    "1": "Buffett, Warren",
                                    "2": "Buffett, W"
                                },
                                {
                                    "0": "Bernard Arnault",
                                    "1": "Arnault, Bernard",
                                    "2": "Arnault, B"
                                },
                                {
                                    "0": "Carlos Slim",
                                    "1": "Slim, Carlos",
                                    "2": "Slim, C"
                                },
                                {
                                    "0": "Amancio Ortega",
                                    "1": "Ortega, Amancio",
                                    "2": "Ortega, A"
                                },
                                {
                                    "0": "Larry Ellison",
                                    "1": "Ellison, Larry",
                                    "2": "Ellison, L"
                                },
                                {
                                    "0": "Mark Zuckerberg",
                                    "1": "Zuckerberg, Mark",
                                    "2": "Zuckerberg, M"
                                },
                                {
                                    "0": "Michael Bloomberg",
                                    "1": "Bloomberg, Michael",
                                    "2": "Bloomberg, M"
                                },
                                {
                                    "0": "Larry Page",
                                    "1": "Page, Larry",
                                    "2": "Page, L"
                                }
                            ]
                        },
                        "text/html": "<table><tr><th>name</th><th>regexp_replace</th><th>regexp_replace</th></tr><tr><td>Jeff Bezos</td><td>Bezos, Jeff</td><td>Bezos, J</td></tr><tr><td>Bill Gates</td><td>Gates, Bill</td><td>Gates, B</td></tr><tr><td>Warren Buffett</td><td>Buffett, Warren</td><td>Buffett, W</td></tr><tr><td>Bernard Arnault</td><td>Arnault, Bernard</td><td>Arnault, B</td></tr><tr><td>Carlos Slim</td><td>Slim, Carlos</td><td>Slim, C</td></tr><tr><td>Amancio Ortega</td><td>Ortega, Amancio</td><td>Ortega, A</td></tr><tr><td>Larry Ellison</td><td>Ellison, Larry</td><td>Ellison, L</td></tr><tr><td>Mark Zuckerberg</td><td>Zuckerberg, Mark</td><td>Zuckerberg, M</td></tr><tr><td>Michael Bloomberg</td><td>Bloomberg, Michael</td><td>Bloomberg, M</td></tr><tr><td>Larry Page</td><td>Page, Larry</td><td>Page, L</td></tr></table>"
                    },
                    "metadata": {}
                }
            ],
            "execution_count": 13
        },
        {
            "cell_type": "markdown",
            "source": [
                "## แสดงหมายเลขโทรศัพท์ 10 หลัก"
            ],
            "metadata": {
                "azdata_cell_guid": "31ecce97-ac7d-48fa-a38f-6df6d0e62751"
            }
        },
        {
            "cell_type": "code",
            "source": [
                "-- ให้แสดง 0621234567 เป็น (062) 123-4567\n",
                "select regexp_replace('0621234567', '(\\d{3})(\\d{3})(\\d{4})', '(\\1) \\2-\\3')"
            ],
            "metadata": {
                "azdata_cell_guid": "22a26ef6-f657-4587-957f-1b0a67e8a2c2"
            },
            "outputs": [
                {
                    "output_type": "display_data",
                    "data": {
                        "text/html": "(1 row(s) affected)"
                    },
                    "metadata": {}
                },
                {
                    "output_type": "display_data",
                    "data": {
                        "text/html": "Total execution time: 00:00:00.004"
                    },
                    "metadata": {}
                },
                {
                    "output_type": "execute_result",
                    "execution_count": 14,
                    "data": {
                        "application/vnd.dataresource+json": {
                            "schema": {
                                "fields": [
                                    {
                                        "name": "regexp_replace"
                                    }
                                ]
                            },
                            "data": [
                                {
                                    "0": "(062) 123-4567"
                                }
                            ]
                        },
                        "text/html": "<table><tr><th>regexp_replace</th></tr><tr><td>(062) 123-4567</td></tr></table>"
                    },
                    "metadata": {}
                }
            ],
            "execution_count": 14
        },
        {
            "cell_type": "markdown",
            "source": [
                "## แสดงรหัสบัตรเครดิต 16 หลัก"
            ],
            "metadata": {
                "azdata_cell_guid": "03131c30-bdfc-4f9e-9f2d-2c0b7fdd5156"
            }
        },
        {
            "cell_type": "code",
            "source": [
                "select regexp_replace('0621234567012345', '(\\d{4})(\\d{4})(\\d{4})(\\d{4})', '\\1 \\2 \\3 \\4')"
            ],
            "metadata": {
                "azdata_cell_guid": "f3f0e2e7-9a35-4522-8a27-a7402ae6118d"
            },
            "outputs": [
                {
                    "output_type": "display_data",
                    "data": {
                        "text/html": "(1 row(s) affected)"
                    },
                    "metadata": {}
                },
                {
                    "output_type": "display_data",
                    "data": {
                        "text/html": "Total execution time: 00:00:00.006"
                    },
                    "metadata": {}
                },
                {
                    "output_type": "execute_result",
                    "execution_count": 15,
                    "data": {
                        "application/vnd.dataresource+json": {
                            "schema": {
                                "fields": [
                                    {
                                        "name": "regexp_replace"
                                    }
                                ]
                            },
                            "data": [
                                {
                                    "0": "0621 2345 6701 2345"
                                }
                            ]
                        },
                        "text/html": "<table><tr><th>regexp_replace</th></tr><tr><td>0621 2345 6701 2345</td></tr></table>"
                    },
                    "metadata": {}
                }
            ],
            "execution_count": 15
        },
        {
            "cell_type": "markdown",
            "source": [
                "## แสดงรหัสบัตรประจำตัวประชาชน 13 หลัก"
            ],
            "metadata": {
                "azdata_cell_guid": "6dc15e97-7db6-4a0b-9807-b256dca732f9"
            }
        },
        {
            "cell_type": "code",
            "source": [
                "select regexp_replace('0621234567012', '(\\d)(\\d{4})(\\d{5})(\\d{2})(\\d)', '\\1 \\2 \\3 \\4 \\5')"
            ],
            "metadata": {
                "azdata_cell_guid": "72bb1f82-7bb8-4e3e-8981-ba0bdbad37c8"
            },
            "outputs": [
                {
                    "output_type": "display_data",
                    "data": {
                        "text/html": "(1 row(s) affected)"
                    },
                    "metadata": {}
                },
                {
                    "output_type": "display_data",
                    "data": {
                        "text/html": "Total execution time: 00:00:00.005"
                    },
                    "metadata": {}
                },
                {
                    "output_type": "execute_result",
                    "execution_count": 16,
                    "data": {
                        "application/vnd.dataresource+json": {
                            "schema": {
                                "fields": [
                                    {
                                        "name": "regexp_replace"
                                    }
                                ]
                            },
                            "data": [
                                {
                                    "0": "0 6212 34567 01 2"
                                }
                            ]
                        },
                        "text/html": "<table><tr><th>regexp_replace</th></tr><tr><td>0 6212 34567 01 2</td></tr></table>"
                    },
                    "metadata": {}
                }
            ],
            "execution_count": 16
        },
        {
            "cell_type": "code",
            "source": [
                "select \n",
                "    regexp_replace('(062) 123-4567', '[^\\d]', '', 'g'), -- ลบทุกตัวที่ไม่ใช้ตัวเลข ,g คือ global ทุกครั้งที่เจอ\n",
                "    regexp_replace('(062) 123-4567', '[^\\d]', '')  -- ลบแค่ตัวแรกทิ้ง"
            ],
            "metadata": {
                "azdata_cell_guid": "84917cda-0663-4c59-85fc-afd68b619c16",
                "tags": []
            },
            "outputs": [
                {
                    "output_type": "display_data",
                    "data": {
                        "text/html": "(1 row(s) affected)"
                    },
                    "metadata": {}
                },
                {
                    "output_type": "display_data",
                    "data": {
                        "text/html": "Total execution time: 00:00:00.022"
                    },
                    "metadata": {}
                },
                {
                    "output_type": "execute_result",
                    "execution_count": 17,
                    "data": {
                        "application/vnd.dataresource+json": {
                            "schema": {
                                "fields": [
                                    {
                                        "name": "regexp_replace"
                                    },
                                    {
                                        "name": "regexp_replace"
                                    }
                                ]
                            },
                            "data": [
                                {
                                    "0": "0621234567",
                                    "1": "062) 123-4567"
                                }
                            ]
                        },
                        "text/html": "<table><tr><th>regexp_replace</th><th>regexp_replace</th></tr><tr><td>0621234567</td><td>062) 123-4567</td></tr></table>"
                    },
                    "metadata": {}
                }
            ],
            "execution_count": 17
        },
        {
            "cell_type": "markdown",
            "source": [
                "## ลบทุกตัวที่ไม่ใช่ A-Z, a-z"
            ],
            "metadata": {
                "azdata_cell_guid": "263a4f34-f9aa-4820-a102-e065387c3014"
            }
        },
        {
            "cell_type": "code",
            "source": [
                "select regexp_replace('12-3A7B3c9y', '[^A-Za-z]', '*', 'g') -- แทนที่ทุกตัวที่ไม่ใช้ A-Za-z ด้วย *"
            ],
            "metadata": {
                "azdata_cell_guid": "0e4e4ae0-02db-4189-a826-9ac9173b1a3f"
            },
            "outputs": [
                {
                    "output_type": "display_data",
                    "data": {
                        "text/html": "(1 row(s) affected)"
                    },
                    "metadata": {}
                },
                {
                    "output_type": "display_data",
                    "data": {
                        "text/html": "Total execution time: 00:00:00.005"
                    },
                    "metadata": {}
                },
                {
                    "output_type": "execute_result",
                    "execution_count": 18,
                    "data": {
                        "application/vnd.dataresource+json": {
                            "schema": {
                                "fields": [
                                    {
                                        "name": "regexp_replace"
                                    }
                                ]
                            },
                            "data": [
                                {
                                    "0": "****A*B*c*y"
                                }
                            ]
                        },
                        "text/html": "<table><tr><th>regexp_replace</th></tr><tr><td>****A*B*c*y</td></tr></table>"
                    },
                    "metadata": {}
                }
            ],
            "execution_count": 18
        }
    ]
}