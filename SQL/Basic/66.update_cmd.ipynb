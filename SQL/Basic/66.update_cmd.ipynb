{
    "metadata": {
        "kernelspec": {
            "name": "SQL",
            "display_name": "SQL",
            "language": "sql"
        },
        "language_info": {
            "name": "sql",
            "version": ""
        }
    },
    "nbformat_minor": 2,
    "nbformat": 4,
    "cells": [
        {
            "cell_type": "markdown",
            "source": [
                "# การแก้ไขข้อมูลในตารางด้วยคำสั่ง update\r\n",
                ""
            ],
            "metadata": {
                "azdata_cell_guid": "c140f61f-05cb-4b62-a026-60f27f536e80"
            }
        },
        {
            "cell_type": "code",
            "source": [
                "select * from drinks;"
            ],
            "metadata": {
                "azdata_cell_guid": "5184a81e-c47a-43d7-b8f4-421614c4fdd0"
            },
            "outputs": [
                {
                    "output_type": "display_data",
                    "data": {
                        "text/html": "(6 row(s) affected)"
                    },
                    "metadata": {}
                },
                {
                    "output_type": "display_data",
                    "data": {
                        "text/html": "Total execution time: 00:00:00.011"
                    },
                    "metadata": {}
                },
                {
                    "output_type": "execute_result",
                    "metadata": {},
                    "execution_count": 41,
                    "data": {
                        "application/vnd.dataresource+json": {
                            "schema": {
                                "fields": [
                                    {
                                        "name": "product_id"
                                    },
                                    {
                                        "name": "name"
                                    },
                                    {
                                        "name": "price"
                                    },
                                    {
                                        "name": "is_recommend"
                                    }
                                ]
                            },
                            "data": [
                                {
                                    "0": "3",
                                    "1": "ESPRESSO",
                                    "2": "44.00",
                                    "3": "False"
                                },
                                {
                                    "0": "4",
                                    "1": "SMOOTHIE",
                                    "2": "104.00",
                                    "3": "False"
                                },
                                {
                                    "0": "32",
                                    "1": "water",
                                    "2": "168.00",
                                    "3": "False"
                                },
                                {
                                    "0": "2",
                                    "1": "Pepsi Max",
                                    "2": "54.00",
                                    "3": "False"
                                },
                                {
                                    "0": "30",
                                    "1": "RED TEA",
                                    "2": "132.00",
                                    "3": "True"
                                },
                                {
                                    "0": "31",
                                    "1": "GREEN TEA",
                                    "2": "102.00",
                                    "3": "True"
                                }
                            ]
                        },
                        "text/html": [
                            "<table>",
                            "<tr><th>product_id</th><th>name</th><th>price</th><th>is_recommend</th></tr>",
                            "<tr><td>3</td><td>ESPRESSO</td><td>44.00</td><td>False</td></tr>",
                            "<tr><td>4</td><td>SMOOTHIE</td><td>104.00</td><td>False</td></tr>",
                            "<tr><td>32</td><td>water</td><td>168.00</td><td>False</td></tr>",
                            "<tr><td>2</td><td>Pepsi Max</td><td>54.00</td><td>False</td></tr>",
                            "<tr><td>30</td><td>RED TEA</td><td>132.00</td><td>True</td></tr>",
                            "<tr><td>31</td><td>GREEN TEA</td><td>102.00</td><td>True</td></tr>",
                            "</table>"
                        ]
                    }
                }
            ],
            "execution_count": 41
        },
        {
            "cell_type": "code",
            "source": [
                "update drinks \r\n",
                "    set price = price + 2;"
            ],
            "metadata": {
                "azdata_cell_guid": "634ff4bb-ce03-4248-b8c3-07859e516616"
            },
            "outputs": [
                {
                    "output_type": "display_data",
                    "data": {
                        "text/html": "Commands completed successfully"
                    },
                    "metadata": {}
                },
                {
                    "output_type": "display_data",
                    "data": {
                        "text/html": "Total execution time: 00:00:00"
                    },
                    "metadata": {}
                }
            ],
            "execution_count": 16
        },
        {
            "cell_type": "code",
            "source": [
                "update drinks   \r\n",
                "    set name = 'diet coke'\r\n",
                "    where name = 'yellow tea'"
            ],
            "metadata": {
                "azdata_cell_guid": "6cc78163-848d-439b-b313-d521c93b6d1e",
                "tags": []
            },
            "outputs": [
                {
                    "output_type": "display_data",
                    "data": {
                        "text/html": "Commands completed successfully"
                    },
                    "metadata": {}
                },
                {
                    "output_type": "display_data",
                    "data": {
                        "text/html": "Total execution time: 00:00:00.001"
                    },
                    "metadata": {}
                }
            ],
            "execution_count": 7
        },
        {
            "cell_type": "code",
            "source": [
                "update drinks   \r\n",
                "    set name = 'mineral water'\r\n",
                "    where product_id = 32"
            ],
            "metadata": {
                "azdata_cell_guid": "aa1eae53-4f4e-490c-b6a4-7c1d5992082d"
            },
            "outputs": [
                {
                    "output_type": "display_data",
                    "data": {
                        "text/html": "Commands completed successfully"
                    },
                    "metadata": {}
                },
                {
                    "output_type": "display_data",
                    "data": {
                        "text/html": "Total execution time: 00:00:00"
                    },
                    "metadata": {}
                }
            ],
            "execution_count": 11
        },
        {
            "cell_type": "code",
            "source": [
                "update drinks \r\n",
                "    set price = price - 2\r\n",
                "    where name ilike '%tea%'"
            ],
            "metadata": {
                "azdata_cell_guid": "af057bb3-8b34-4c71-b8ef-6842086f5c5a"
            },
            "outputs": [
                {
                    "output_type": "display_data",
                    "data": {
                        "text/html": "Commands completed successfully"
                    },
                    "metadata": {}
                },
                {
                    "output_type": "display_data",
                    "data": {
                        "text/html": "Total execution time: 00:00:00.044"
                    },
                    "metadata": {}
                }
            ],
            "execution_count": 13
        },
        {
            "cell_type": "code",
            "source": [
                "update drinks   \r\n",
                "    set is_recommend = FALSE    \r\n",
                "    where is_recommend is null"
            ],
            "metadata": {
                "azdata_cell_guid": "e181bad5-668d-4a73-8b04-3aea64021592"
            },
            "outputs": [
                {
                    "output_type": "display_data",
                    "data": {
                        "text/html": "Commands completed successfully"
                    },
                    "metadata": {}
                },
                {
                    "output_type": "display_data",
                    "data": {
                        "text/html": "Total execution time: 00:00:00.001"
                    },
                    "metadata": {}
                }
            ],
            "execution_count": 18
        },
        {
            "cell_type": "code",
            "source": [
                "update drinks \r\n",
                "    set is_recommend = TRUE\r\n",
                "    where name = 'green tea'"
            ],
            "metadata": {
                "azdata_cell_guid": "42a513a4-5a82-447f-987d-b99d6d80b16c"
            },
            "outputs": [
                {
                    "output_type": "display_data",
                    "data": {
                        "text/html": "Commands completed successfully"
                    },
                    "metadata": {}
                },
                {
                    "output_type": "display_data",
                    "data": {
                        "text/html": "Total execution time: 00:00:00"
                    },
                    "metadata": {}
                }
            ],
            "execution_count": 20
        },
        {
            "cell_type": "markdown",
            "source": [
                "## initcap () ทำให้ตัวขึ้นต้นตัวแรกเป็นตัวพิมพ์ใหญ่\r\n",
                "## lower() ทำให้ทุกตัวเป็นตัวพิมพ์เล็ก\r\n",
                "## upper() ทำให้ทุกตัวเป็นตัวพิมพ์ใหญ่"
            ],
            "metadata": {
                "azdata_cell_guid": "c531dbc1-9c2e-446f-abe7-676d3402cedb"
            }
        },
        {
            "cell_type": "code",
            "source": [
                "update drinks set name = initcap(name);"
            ],
            "metadata": {
                "azdata_cell_guid": "1ed447d5-1f6b-4ab4-82f8-a559390f8abf"
            },
            "outputs": [
                {
                    "output_type": "display_data",
                    "data": {
                        "text/html": "Commands completed successfully"
                    },
                    "metadata": {}
                },
                {
                    "output_type": "display_data",
                    "data": {
                        "text/html": "Total execution time: 00:00:00.042"
                    },
                    "metadata": {}
                }
            ],
            "execution_count": 22
        },
        {
            "cell_type": "code",
            "source": [
                "update drinks set name = lower(name);"
            ],
            "metadata": {
                "azdata_cell_guid": "96a3bee5-a9e4-4a72-a054-439de8a383e9"
            },
            "outputs": [
                {
                    "output_type": "display_data",
                    "data": {
                        "text/html": "Commands completed successfully"
                    },
                    "metadata": {}
                },
                {
                    "output_type": "display_data",
                    "data": {
                        "text/html": "Total execution time: 00:00:00"
                    },
                    "metadata": {}
                }
            ],
            "execution_count": 28
        },
        {
            "cell_type": "code",
            "source": [
                "update drinks set name = upper(name);"
            ],
            "metadata": {
                "azdata_cell_guid": "66c2fb76-1140-43cd-87a2-4db83775b1fd"
            },
            "outputs": [
                {
                    "output_type": "display_data",
                    "data": {
                        "text/html": "Commands completed successfully"
                    },
                    "metadata": {}
                },
                {
                    "output_type": "display_data",
                    "data": {
                        "text/html": "Total execution time: 00:00:00.001"
                    },
                    "metadata": {}
                }
            ],
            "execution_count": 29
        },
        {
            "cell_type": "code",
            "source": [
                "update drinks   \r\n",
                "    set name = 'water'\r\n",
                "    where name = 'MINERAL WATER'"
            ],
            "metadata": {
                "azdata_cell_guid": "73601c25-643f-4886-a846-2a7becc821e1"
            },
            "outputs": [
                {
                    "output_type": "display_data",
                    "data": {
                        "text/html": "Commands completed successfully"
                    },
                    "metadata": {}
                },
                {
                    "output_type": "display_data",
                    "data": {
                        "text/html": "Total execution time: 00:00:00.001"
                    },
                    "metadata": {}
                }
            ],
            "execution_count": 30
        },
        {
            "cell_type": "code",
            "source": [
                "update drinks \r\n",
                "    set name = 'Pepsi Max'\r\n",
                "    where lower(name) = 'latte'"
            ],
            "metadata": {
                "azdata_cell_guid": "bbefd952-b167-4bc8-8ed0-34915db93d38"
            },
            "outputs": [
                {
                    "output_type": "display_data",
                    "data": {
                        "text/html": "Commands completed successfully"
                    },
                    "metadata": {}
                },
                {
                    "output_type": "display_data",
                    "data": {
                        "text/html": "Total execution time: 00:00:00"
                    },
                    "metadata": {}
                }
            ],
            "execution_count": 36
        },
        {
            "cell_type": "code",
            "source": [
                "update drinks   \r\n",
                "    set price = price - 10\r\n",
                "    where name ilike '%tea%' and price > 50"
            ],
            "metadata": {
                "azdata_cell_guid": "882bb174-9144-4600-beae-a3a474da1cb6"
            },
            "outputs": [
                {
                    "output_type": "display_data",
                    "data": {
                        "text/html": "Commands completed successfully"
                    },
                    "metadata": {}
                },
                {
                    "output_type": "display_data",
                    "data": {
                        "text/html": "Total execution time: 00:00:00.002"
                    },
                    "metadata": {}
                }
            ],
            "execution_count": 40
        }
    ]
}