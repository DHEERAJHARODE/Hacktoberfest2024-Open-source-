{
    "metadata": {
        "kernelspec": {
            "name": "SQL",
            "display_name": "SQL",
            "language": "sql"
        },
        "language_info": {
            "name": "sql",
            "version": ""
        }
    },
    "nbformat_minor": 2,
    "nbformat": 4,
    "cells": [
        {
            "cell_type": "markdown",
            "source": [
                "# INNER JOIN\r\n",
                "คือการเชื่อมข้อมูลที่มีค่าทั้ง 2 table เหมือนกันในส่วนของ column ที่กำหนดแต่ละ table หรือ บางครั้งจะเรียกว่า EQUIJOIN สำหรับบางฐานข้อมูล หรือ database หลักการของ INNER JOIN คือ สร้างข้อมูล table ใหม่จากข้อมูลของ 2 table (table 1 และ table 2) โดยจะทำการเปรียบเทียบข้อมูลแต่ละบรรทัดของ table 1 และ table 2 เพื่อหาข้อมูล column ที่กำหนดทั้ง 2 table ที่ตรงกัน ซึ่งถ้าพบบรรทัดดังกล่าวแล้วก็จะเก็บไว้ในชุดข้อมูลที่จะแสดงผลในรูปแบบ table อันใหม่"
            ],
            "metadata": {
                "azdata_cell_guid": "45a45db4-e3bb-44e4-867c-559d0ee1552f"
            }
        },
        {
            "cell_type": "code",
            "source": [
                "-- chinook database on PostgreSQL\r\n",
                "-- inner join โดยใช้ on\r\n",
                "select album_id, title, album.artist_id, name\r\n",
                "\tfrom album inner join artist on album.artist_id = artist.artist_id\r\n",
                "\tlimit 10;"
            ],
            "metadata": {
                "azdata_cell_guid": "b09813f8-d16e-4a1c-874e-7b26147d0673"
            },
            "outputs": [
                {
                    "output_type": "display_data",
                    "data": {
                        "text/html": "(10 row(s) affected)"
                    },
                    "metadata": {}
                },
                {
                    "output_type": "display_data",
                    "data": {
                        "text/html": "Total execution time: 00:00:00.004"
                    },
                    "metadata": {}
                },
                {
                    "output_type": "execute_result",
                    "metadata": {},
                    "execution_count": 9,
                    "data": {
                        "application/vnd.dataresource+json": {
                            "schema": {
                                "fields": [
                                    {
                                        "name": "album_id"
                                    },
                                    {
                                        "name": "title"
                                    },
                                    {
                                        "name": "artist_id"
                                    },
                                    {
                                        "name": "name"
                                    }
                                ]
                            },
                            "data": [
                                {
                                    "0": "1",
                                    "1": "For Those About To Rock We Salute You",
                                    "2": "1",
                                    "3": "AC/DC"
                                },
                                {
                                    "0": "2",
                                    "1": "Balls to the Wall",
                                    "2": "2",
                                    "3": "Accept"
                                },
                                {
                                    "0": "3",
                                    "1": "Restless and Wild",
                                    "2": "2",
                                    "3": "Accept"
                                },
                                {
                                    "0": "4",
                                    "1": "Let There Be Rock",
                                    "2": "1",
                                    "3": "AC/DC"
                                },
                                {
                                    "0": "5",
                                    "1": "Big Ones",
                                    "2": "3",
                                    "3": "Aerosmith"
                                },
                                {
                                    "0": "6",
                                    "1": "Jagged Little Pill",
                                    "2": "4",
                                    "3": "Alanis Morissette"
                                },
                                {
                                    "0": "7",
                                    "1": "Facelift",
                                    "2": "5",
                                    "3": "Alice In Chains"
                                },
                                {
                                    "0": "8",
                                    "1": "Warner 25 Anos",
                                    "2": "6",
                                    "3": "Antônio Carlos Jobim"
                                },
                                {
                                    "0": "9",
                                    "1": "Plays Metallica By Four Cellos",
                                    "2": "7",
                                    "3": "Apocalyptica"
                                },
                                {
                                    "0": "10",
                                    "1": "Audioslave",
                                    "2": "8",
                                    "3": "Audioslave"
                                }
                            ]
                        },
                        "text/html": [
                            "<table>",
                            "<tr><th>album_id</th><th>title</th><th>artist_id</th><th>name</th></tr>",
                            "<tr><td>1</td><td>For Those About To Rock We Salute You</td><td>1</td><td>AC/DC</td></tr>",
                            "<tr><td>2</td><td>Balls to the Wall</td><td>2</td><td>Accept</td></tr>",
                            "<tr><td>3</td><td>Restless and Wild</td><td>2</td><td>Accept</td></tr>",
                            "<tr><td>4</td><td>Let There Be Rock</td><td>1</td><td>AC/DC</td></tr>",
                            "<tr><td>5</td><td>Big Ones</td><td>3</td><td>Aerosmith</td></tr>",
                            "<tr><td>6</td><td>Jagged Little Pill</td><td>4</td><td>Alanis Morissette</td></tr>",
                            "<tr><td>7</td><td>Facelift</td><td>5</td><td>Alice In Chains</td></tr>",
                            "<tr><td>8</td><td>Warner 25 Anos</td><td>6</td><td>Antônio Carlos Jobim</td></tr>",
                            "<tr><td>9</td><td>Plays Metallica By Four Cellos</td><td>7</td><td>Apocalyptica</td></tr>",
                            "<tr><td>10</td><td>Audioslave</td><td>8</td><td>Audioslave</td></tr>",
                            "</table>"
                        ]
                    }
                }
            ],
            "execution_count": 9
        },
        {
            "cell_type": "code",
            "source": [
                "-- inner join โดยใช้ using\r\n",
                "select album_id, title, album.artist_id, name\r\n",
                "\tfrom album inner join artist using (artist_id)\r\n",
                "\tlimit 5;"
            ],
            "metadata": {
                "azdata_cell_guid": "efe5196c-dc49-4017-b3c6-a5cd8deaf9eb"
            },
            "outputs": [
                {
                    "output_type": "display_data",
                    "data": {
                        "text/html": "(5 row(s) affected)"
                    },
                    "metadata": {}
                },
                {
                    "output_type": "display_data",
                    "data": {
                        "text/html": "Total execution time: 00:00:00.008"
                    },
                    "metadata": {}
                },
                {
                    "output_type": "execute_result",
                    "metadata": {},
                    "execution_count": 6,
                    "data": {
                        "application/vnd.dataresource+json": {
                            "schema": {
                                "fields": [
                                    {
                                        "name": "album_id"
                                    },
                                    {
                                        "name": "title"
                                    },
                                    {
                                        "name": "artist_id"
                                    },
                                    {
                                        "name": "name"
                                    }
                                ]
                            },
                            "data": [
                                {
                                    "0": "1",
                                    "1": "For Those About To Rock We Salute You",
                                    "2": "1",
                                    "3": "AC/DC"
                                },
                                {
                                    "0": "2",
                                    "1": "Balls to the Wall",
                                    "2": "2",
                                    "3": "Accept"
                                },
                                {
                                    "0": "3",
                                    "1": "Restless and Wild",
                                    "2": "2",
                                    "3": "Accept"
                                },
                                {
                                    "0": "4",
                                    "1": "Let There Be Rock",
                                    "2": "1",
                                    "3": "AC/DC"
                                },
                                {
                                    "0": "5",
                                    "1": "Big Ones",
                                    "2": "3",
                                    "3": "Aerosmith"
                                }
                            ]
                        },
                        "text/html": [
                            "<table>",
                            "<tr><th>album_id</th><th>title</th><th>artist_id</th><th>name</th></tr>",
                            "<tr><td>1</td><td>For Those About To Rock We Salute You</td><td>1</td><td>AC/DC</td></tr>",
                            "<tr><td>2</td><td>Balls to the Wall</td><td>2</td><td>Accept</td></tr>",
                            "<tr><td>3</td><td>Restless and Wild</td><td>2</td><td>Accept</td></tr>",
                            "<tr><td>4</td><td>Let There Be Rock</td><td>1</td><td>AC/DC</td></tr>",
                            "<tr><td>5</td><td>Big Ones</td><td>3</td><td>Aerosmith</td></tr>",
                            "</table>"
                        ]
                    }
                }
            ],
            "execution_count": 6
        },
        {
            "cell_type": "code",
            "source": [
                "-- natural join \r\n",
                "-- ข้อระวัง ชื่อคอลัมต้องเหมือนกัน และประเภทข้อมูลต้องเหมือนกัน\r\n",
                "select album_id, title, album.artist_id, name\r\n",
                "\tfrom album natural join artist\r\n",
                "\tlimit 5;"
            ],
            "metadata": {
                "azdata_cell_guid": "485fcca4-33c5-439c-b2da-e2d465392112"
            },
            "outputs": [
                {
                    "output_type": "display_data",
                    "data": {
                        "text/html": "(5 row(s) affected)"
                    },
                    "metadata": {}
                },
                {
                    "output_type": "display_data",
                    "data": {
                        "text/html": "Total execution time: 00:00:00.003"
                    },
                    "metadata": {}
                },
                {
                    "output_type": "execute_result",
                    "metadata": {},
                    "execution_count": 8,
                    "data": {
                        "application/vnd.dataresource+json": {
                            "schema": {
                                "fields": [
                                    {
                                        "name": "album_id"
                                    },
                                    {
                                        "name": "title"
                                    },
                                    {
                                        "name": "artist_id"
                                    },
                                    {
                                        "name": "name"
                                    }
                                ]
                            },
                            "data": [
                                {
                                    "0": "1",
                                    "1": "For Those About To Rock We Salute You",
                                    "2": "1",
                                    "3": "AC/DC"
                                },
                                {
                                    "0": "2",
                                    "1": "Balls to the Wall",
                                    "2": "2",
                                    "3": "Accept"
                                },
                                {
                                    "0": "3",
                                    "1": "Restless and Wild",
                                    "2": "2",
                                    "3": "Accept"
                                },
                                {
                                    "0": "4",
                                    "1": "Let There Be Rock",
                                    "2": "1",
                                    "3": "AC/DC"
                                },
                                {
                                    "0": "5",
                                    "1": "Big Ones",
                                    "2": "3",
                                    "3": "Aerosmith"
                                }
                            ]
                        },
                        "text/html": [
                            "<table>",
                            "<tr><th>album_id</th><th>title</th><th>artist_id</th><th>name</th></tr>",
                            "<tr><td>1</td><td>For Those About To Rock We Salute You</td><td>1</td><td>AC/DC</td></tr>",
                            "<tr><td>2</td><td>Balls to the Wall</td><td>2</td><td>Accept</td></tr>",
                            "<tr><td>3</td><td>Restless and Wild</td><td>2</td><td>Accept</td></tr>",
                            "<tr><td>4</td><td>Let There Be Rock</td><td>1</td><td>AC/DC</td></tr>",
                            "<tr><td>5</td><td>Big Ones</td><td>3</td><td>Aerosmith</td></tr>",
                            "</table>"
                        ]
                    }
                }
            ],
            "execution_count": 8
        }
    ]
}