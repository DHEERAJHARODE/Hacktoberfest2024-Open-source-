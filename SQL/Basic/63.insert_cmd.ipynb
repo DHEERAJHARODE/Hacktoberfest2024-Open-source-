{
    "metadata": {
        "kernelspec": {
            "name": "SQL",
            "display_name": "SQL",
            "language": "sql"
        },
        "language_info": {
            "name": "sql",
            "version": ""
        }
    },
    "nbformat_minor": 2,
    "nbformat": 4,
    "cells": [
        {
            "cell_type": "code",
            "source": [
                "insert into drinks \r\n",
                "    values(2, 'latte', 50, false);"
            ],
            "metadata": {
                "azdata_cell_guid": "0437d526-b5e1-402d-9482-4db1940fb655"
            },
            "outputs": [
                {
                    "output_type": "display_data",
                    "data": {
                        "text/html": "Commands completed successfully"
                    },
                    "metadata": {}
                },
                {
                    "output_type": "display_data",
                    "data": {
                        "text/html": "Total execution time: 00:00:00.002"
                    },
                    "metadata": {}
                }
            ],
            "execution_count": 35
        },
        {
            "cell_type": "code",
            "source": [
                "SELECT * from drinks"
            ],
            "metadata": {
                "azdata_cell_guid": "4ac54d59-0c9f-42d7-90a2-6bb08ccef44b"
            },
            "outputs": [
                {
                    "output_type": "display_data",
                    "data": {
                        "text/html": "(3 row(s) affected)"
                    },
                    "metadata": {}
                },
                {
                    "output_type": "display_data",
                    "data": {
                        "text/html": "Total execution time: 00:00:00.012"
                    },
                    "metadata": {}
                },
                {
                    "output_type": "execute_result",
                    "metadata": {},
                    "execution_count": 38,
                    "data": {
                        "application/vnd.dataresource+json": {
                            "schema": {
                                "fields": [
                                    {
                                        "name": "product_id"
                                    },
                                    {
                                        "name": "name"
                                    },
                                    {
                                        "name": "price"
                                    },
                                    {
                                        "name": "is_recommend"
                                    }
                                ]
                            },
                            "data": [
                                {
                                    "0": "3",
                                    "1": "espresso",
                                    "2": "40.00",
                                    "3": "False"
                                },
                                {
                                    "0": "2",
                                    "1": "latte",
                                    "2": "50.00",
                                    "3": "False"
                                },
                                {
                                    "0": "4",
                                    "1": "smoothie",
                                    "2": "100.00",
                                    "3": "NULL"
                                }
                            ]
                        },
                        "text/html": [
                            "<table>",
                            "<tr><th>product_id</th><th>name</th><th>price</th><th>is_recommend</th></tr>",
                            "<tr><td>3</td><td>espresso</td><td>40.00</td><td>False</td></tr>",
                            "<tr><td>2</td><td>latte</td><td>50.00</td><td>False</td></tr>",
                            "<tr><td>4</td><td>smoothie</td><td>100.00</td><td>NULL</td></tr>",
                            "</table>"
                        ]
                    }
                }
            ],
            "execution_count": 38
        },
        {
            "cell_type": "code",
            "source": [
                "insert into drinks(product_id, name, price, is_recommend)\r\n",
                "    values(3, 'espresso', 40, false);"
            ],
            "metadata": {
                "azdata_cell_guid": "ca27a7c3-3e8a-4c2c-8cc1-c06b63135bf2"
            },
            "outputs": [
                {
                    "output_type": "error",
                    "evalue": "column \"price\" of relation \"drinks\" does not exist",
                    "ename": "",
                    "traceback": []
                },
                {
                    "output_type": "display_data",
                    "data": {
                        "text/html": "Total execution time: 00:00:00.002"
                    },
                    "metadata": {}
                }
            ],
            "execution_count": 33
        },
        {
            "cell_type": "code",
            "source": [
                "insert into drinks(product_id, price, name)\r\n",
                "    values(4, 100, 'smoothie')"
            ],
            "metadata": {
                "azdata_cell_guid": "e4bede6f-0caf-4501-b986-31eca089e8e3"
            },
            "outputs": [
                {
                    "output_type": "error",
                    "evalue": "duplicate key value violates unique constraint \"drinks_pkey\"",
                    "ename": "",
                    "traceback": []
                },
                {
                    "output_type": "display_data",
                    "data": {
                        "text/html": "Total execution time: 00:00:00.004"
                    },
                    "metadata": {}
                }
            ],
            "execution_count": 39
        },
        {
            "cell_type": "code",
            "source": [
                "insert into drinks(product_id, name, price, is_recommend)\r\n",
                "    values(30, 'red tea', 150, true),\r\n",
                "        (31, 'green tea', 120, null),\r\n",
                "        (32, 'yellow tea', 164, false);"
            ],
            "metadata": {
                "azdata_cell_guid": "ca3fcd0f-a80a-4b68-94e1-6837c7b26fe3"
            },
            "outputs": [
                {
                    "output_type": "display_data",
                    "data": {
                        "text/html": "Commands completed successfully"
                    },
                    "metadata": {}
                },
                {
                    "output_type": "display_data",
                    "data": {
                        "text/html": "Total execution time: 00:00:00.001"
                    },
                    "metadata": {}
                }
            ],
            "execution_count": 40
        }
    ]
}