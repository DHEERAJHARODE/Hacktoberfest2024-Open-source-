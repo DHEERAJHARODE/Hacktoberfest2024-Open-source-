{
    "metadata": {
        "kernelspec": {
            "name": "SQL",
            "display_name": "SQL",
            "language": "sql"
        },
        "language_info": {
            "name": "sql",
            "version": ""
        }
    },
    "nbformat_minor": 2,
    "nbformat": 4,
    "cells": [
        {
            "cell_type": "markdown",
            "source": [
                "# split_part() เพื่อแยกข้อความออกเป็นส่วน ๆ\n",
                "## Server: PostgreSQL\n",
                "## Author: Prasert Kanawattanachai\n",
                "## YouTube: https://youtu.be/cc0NV5ZP-6Q"
            ],
            "metadata": {
                "azdata_cell_guid": "92a94d93-83b9-443f-96a3-de071e39ee44"
            }
        },
        {
            "cell_type": "code",
            "source": [
                "drop table if exists freelancer;\n",
                "\n",
                "create table freelancer (\n",
                "\tid INT,\n",
                "\tfull_name VARCHAR(50),\n",
                "\temail VARCHAR(50),\n",
                "\tskill VARCHAR(50)\n",
                ");\n",
                "insert into freelancer (id, full_name, email, skill) values \n",
                "\t(1, 'Angie Noblet', 'anoblet0@usda.gov', 'IDoc'),\n",
                "\t(2, 'Xylina Lonergan', 'xlonergan1@yahoo.com', 'Oracle RDC'),\n",
                "\t(3, 'Stacey Turvie', 'sturvie2@storify.com', 'Spanish'),\n",
                "\t(4, 'Wilbert Darrow', 'wdarrow3@e-recht24.de', 'PDMS Draft'),\n",
                "\t(5, 'Carol-jean Yanukhin', 'cyanukhin4@tripadvisor.com', 'HAZOP Study');"
            ],
            "metadata": {
                "azdata_cell_guid": "8e4cdbbc-2251-4d9a-a2fb-815ee688c9f6"
            },
            "outputs": [
                {
                    "output_type": "display_data",
                    "data": {
                        "text/html": "NOTICE:  table \"freelancer\" does not exist, skipping\n"
                    },
                    "metadata": {}
                },
                {
                    "output_type": "display_data",
                    "data": {
                        "text/html": "Commands completed successfully"
                    },
                    "metadata": {}
                },
                {
                    "output_type": "display_data",
                    "data": {
                        "text/html": "Commands completed successfully"
                    },
                    "metadata": {}
                },
                {
                    "output_type": "display_data",
                    "data": {
                        "text/html": "Commands completed successfully"
                    },
                    "metadata": {}
                },
                {
                    "output_type": "display_data",
                    "data": {
                        "text/html": "Total execution time: 00:00:00.252"
                    },
                    "metadata": {}
                }
            ],
            "execution_count": 4
        },
        {
            "cell_type": "code",
            "source": [
                "select * from freelancer;"
            ],
            "metadata": {
                "azdata_cell_guid": "300cda0b-8c4e-4e77-be59-7cf10bbffe04"
            },
            "outputs": [
                {
                    "output_type": "display_data",
                    "data": {
                        "text/html": "(5 row(s) affected)"
                    },
                    "metadata": {}
                },
                {
                    "output_type": "display_data",
                    "data": {
                        "text/html": "Total execution time: 00:00:00.007"
                    },
                    "metadata": {}
                },
                {
                    "output_type": "execute_result",
                    "metadata": {},
                    "execution_count": 6,
                    "data": {
                        "application/vnd.dataresource+json": {
                            "schema": {
                                "fields": [
                                    {
                                        "name": "id"
                                    },
                                    {
                                        "name": "full_name"
                                    },
                                    {
                                        "name": "email"
                                    },
                                    {
                                        "name": "skill"
                                    }
                                ]
                            },
                            "data": [
                                {
                                    "0": "1",
                                    "1": "Angie Noblet",
                                    "2": "anoblet0@usda.gov",
                                    "3": "IDoc"
                                },
                                {
                                    "0": "2",
                                    "1": "Xylina Lonergan",
                                    "2": "xlonergan1@yahoo.com",
                                    "3": "Oracle RDC"
                                },
                                {
                                    "0": "3",
                                    "1": "Stacey Turvie",
                                    "2": "sturvie2@storify.com",
                                    "3": "Spanish"
                                },
                                {
                                    "0": "4",
                                    "1": "Wilbert Darrow",
                                    "2": "wdarrow3@e-recht24.de",
                                    "3": "PDMS Draft"
                                },
                                {
                                    "0": "5",
                                    "1": "Carol-jean Yanukhin",
                                    "2": "cyanukhin4@tripadvisor.com",
                                    "3": "HAZOP Study"
                                }
                            ]
                        },
                        "text/html": [
                            "<table>",
                            "<tr><th>id</th><th>full_name</th><th>email</th><th>skill</th></tr>",
                            "<tr><td>1</td><td>Angie Noblet</td><td>anoblet0@usda.gov</td><td>IDoc</td></tr>",
                            "<tr><td>2</td><td>Xylina Lonergan</td><td>xlonergan1@yahoo.com</td><td>Oracle RDC</td></tr>",
                            "<tr><td>3</td><td>Stacey Turvie</td><td>sturvie2@storify.com</td><td>Spanish</td></tr>",
                            "<tr><td>4</td><td>Wilbert Darrow</td><td>wdarrow3@e-recht24.de</td><td>PDMS Draft</td></tr>",
                            "<tr><td>5</td><td>Carol-jean Yanukhin</td><td>cyanukhin4@tripadvisor.com</td><td>HAZOP Study</td></tr>",
                            "</table>"
                        ]
                    }
                }
            ],
            "execution_count": 6
        },
        {
            "cell_type": "code",
            "source": [
                "select full_name,\n",
                "    split_part(full_name, ' ', 1) fname,\n",
                "    split_part(full_name, ' ', 2) lname\n",
                "    from freelancer"
            ],
            "metadata": {
                "azdata_cell_guid": "d9ebc1fa-636f-4023-a4d9-949dc6e55f32"
            },
            "outputs": [
                {
                    "output_type": "display_data",
                    "data": {
                        "text/html": "(5 row(s) affected)"
                    },
                    "metadata": {}
                },
                {
                    "output_type": "display_data",
                    "data": {
                        "text/html": "Total execution time: 00:00:00.045"
                    },
                    "metadata": {}
                },
                {
                    "output_type": "execute_result",
                    "metadata": {},
                    "execution_count": 7,
                    "data": {
                        "application/vnd.dataresource+json": {
                            "schema": {
                                "fields": [
                                    {
                                        "name": "full_name"
                                    },
                                    {
                                        "name": "fname"
                                    },
                                    {
                                        "name": "lname"
                                    }
                                ]
                            },
                            "data": [
                                {
                                    "0": "Angie Noblet",
                                    "1": "Angie",
                                    "2": "Noblet"
                                },
                                {
                                    "0": "Xylina Lonergan",
                                    "1": "Xylina",
                                    "2": "Lonergan"
                                },
                                {
                                    "0": "Stacey Turvie",
                                    "1": "Stacey",
                                    "2": "Turvie"
                                },
                                {
                                    "0": "Wilbert Darrow",
                                    "1": "Wilbert",
                                    "2": "Darrow"
                                },
                                {
                                    "0": "Carol-jean Yanukhin",
                                    "1": "Carol-jean",
                                    "2": "Yanukhin"
                                }
                            ]
                        },
                        "text/html": [
                            "<table>",
                            "<tr><th>full_name</th><th>fname</th><th>lname</th></tr>",
                            "<tr><td>Angie Noblet</td><td>Angie</td><td>Noblet</td></tr>",
                            "<tr><td>Xylina Lonergan</td><td>Xylina</td><td>Lonergan</td></tr>",
                            "<tr><td>Stacey Turvie</td><td>Stacey</td><td>Turvie</td></tr>",
                            "<tr><td>Wilbert Darrow</td><td>Wilbert</td><td>Darrow</td></tr>",
                            "<tr><td>Carol-jean Yanukhin</td><td>Carol-jean</td><td>Yanukhin</td></tr>",
                            "</table>"
                        ]
                    }
                }
            ],
            "execution_count": 7
        },
        {
            "cell_type": "code",
            "source": [
                "alter table freelancer add column fname varchar(50);\n",
                "alter table freelancer add column lname varchar(50);"
            ],
            "metadata": {
                "azdata_cell_guid": "53447555-3c9f-496c-bd84-b39bfecfc30a"
            },
            "outputs": [
                {
                    "output_type": "display_data",
                    "data": {
                        "text/html": "Commands completed successfully"
                    },
                    "metadata": {}
                },
                {
                    "output_type": "display_data",
                    "data": {
                        "text/html": "Commands completed successfully"
                    },
                    "metadata": {}
                },
                {
                    "output_type": "display_data",
                    "data": {
                        "text/html": "Total execution time: 00:00:00.001"
                    },
                    "metadata": {}
                }
            ],
            "execution_count": 5
        },
        {
            "cell_type": "code",
            "source": [
                "select * from freelancer"
            ],
            "metadata": {
                "azdata_cell_guid": "809c98c2-1038-44cf-941b-7cbb928048f7"
            },
            "outputs": [
                {
                    "output_type": "display_data",
                    "data": {
                        "text/html": "(5 row(s) affected)"
                    },
                    "metadata": {}
                },
                {
                    "output_type": "display_data",
                    "data": {
                        "text/html": "Total execution time: 00:00:00.004"
                    },
                    "metadata": {}
                },
                {
                    "output_type": "execute_result",
                    "execution_count": 6,
                    "data": {
                        "application/vnd.dataresource+json": {
                            "schema": {
                                "fields": [
                                    {
                                        "name": "id"
                                    },
                                    {
                                        "name": "full_name"
                                    },
                                    {
                                        "name": "email"
                                    },
                                    {
                                        "name": "skill"
                                    },
                                    {
                                        "name": "fname"
                                    },
                                    {
                                        "name": "lname"
                                    }
                                ]
                            },
                            "data": [
                                {
                                    "0": "1",
                                    "1": "Angie Noblet",
                                    "2": "anoblet0@usda.gov",
                                    "3": "IDoc",
                                    "4": "NULL",
                                    "5": "NULL"
                                },
                                {
                                    "0": "2",
                                    "1": "Xylina Lonergan",
                                    "2": "xlonergan1@yahoo.com",
                                    "3": "Oracle RDC",
                                    "4": "NULL",
                                    "5": "NULL"
                                },
                                {
                                    "0": "3",
                                    "1": "Stacey Turvie",
                                    "2": "sturvie2@storify.com",
                                    "3": "Spanish",
                                    "4": "NULL",
                                    "5": "NULL"
                                },
                                {
                                    "0": "4",
                                    "1": "Wilbert Darrow",
                                    "2": "wdarrow3@e-recht24.de",
                                    "3": "PDMS Draft",
                                    "4": "NULL",
                                    "5": "NULL"
                                },
                                {
                                    "0": "5",
                                    "1": "Carol-jean Yanukhin",
                                    "2": "cyanukhin4@tripadvisor.com",
                                    "3": "HAZOP Study",
                                    "4": "NULL",
                                    "5": "NULL"
                                }
                            ]
                        },
                        "text/html": "<table><tr><th>id</th><th>full_name</th><th>email</th><th>skill</th><th>fname</th><th>lname</th></tr><tr><td>1</td><td>Angie Noblet</td><td>anoblet0@usda.gov</td><td>IDoc</td><td>NULL</td><td>NULL</td></tr><tr><td>2</td><td>Xylina Lonergan</td><td>xlonergan1@yahoo.com</td><td>Oracle RDC</td><td>NULL</td><td>NULL</td></tr><tr><td>3</td><td>Stacey Turvie</td><td>sturvie2@storify.com</td><td>Spanish</td><td>NULL</td><td>NULL</td></tr><tr><td>4</td><td>Wilbert Darrow</td><td>wdarrow3@e-recht24.de</td><td>PDMS Draft</td><td>NULL</td><td>NULL</td></tr><tr><td>5</td><td>Carol-jean Yanukhin</td><td>cyanukhin4@tripadvisor.com</td><td>HAZOP Study</td><td>NULL</td><td>NULL</td></tr></table>"
                    },
                    "metadata": {}
                }
            ],
            "execution_count": 6
        },
        {
            "cell_type": "code",
            "source": [
                "update freelancer\n",
                "    set \n",
                "        fname = split_part(full_name, ' ', 1),\n",
                "        lname = split_part(full_name, ' ', 2)"
            ],
            "metadata": {
                "azdata_cell_guid": "b7f77fc7-451a-4590-beed-961753dcabfc"
            },
            "outputs": [
                {
                    "output_type": "error",
                    "evalue": "column \"fname\" of relation \"freelancer\" does not exist",
                    "ename": "",
                    "traceback": []
                },
                {
                    "output_type": "display_data",
                    "data": {
                        "text/html": "Total execution time: 00:00:00.003"
                    },
                    "metadata": {}
                }
            ],
            "execution_count": 8
        },
        {
            "cell_type": "code",
            "source": [
                "select * from freelancer;"
            ],
            "metadata": {
                "azdata_cell_guid": "2d52867e-f2af-4c2f-ac40-96c835be432c"
            },
            "outputs": [
                {
                    "output_type": "display_data",
                    "data": {
                        "text/html": "(5 row(s) affected)"
                    },
                    "metadata": {}
                },
                {
                    "output_type": "display_data",
                    "data": {
                        "text/html": "Total execution time: 00:00:00.005"
                    },
                    "metadata": {}
                },
                {
                    "output_type": "execute_result",
                    "metadata": {},
                    "execution_count": 13,
                    "data": {
                        "application/vnd.dataresource+json": {
                            "schema": {
                                "fields": [
                                    {
                                        "name": "id"
                                    },
                                    {
                                        "name": "full_name"
                                    },
                                    {
                                        "name": "email"
                                    },
                                    {
                                        "name": "skill"
                                    }
                                ]
                            },
                            "data": [
                                {
                                    "0": "1",
                                    "1": "Angie Noblet",
                                    "2": "anoblet0@usda.gov",
                                    "3": "IDoc"
                                },
                                {
                                    "0": "2",
                                    "1": "Xylina Lonergan",
                                    "2": "xlonergan1@yahoo.com",
                                    "3": "Oracle RDC"
                                },
                                {
                                    "0": "3",
                                    "1": "Stacey Turvie",
                                    "2": "sturvie2@storify.com",
                                    "3": "Spanish"
                                },
                                {
                                    "0": "4",
                                    "1": "Wilbert Darrow",
                                    "2": "wdarrow3@e-recht24.de",
                                    "3": "PDMS Draft"
                                },
                                {
                                    "0": "5",
                                    "1": "Carol-jean Yanukhin",
                                    "2": "cyanukhin4@tripadvisor.com",
                                    "3": "HAZOP Study"
                                }
                            ]
                        },
                        "text/html": [
                            "<table>",
                            "<tr><th>id</th><th>full_name</th><th>email</th><th>skill</th></tr>",
                            "<tr><td>1</td><td>Angie Noblet</td><td>anoblet0@usda.gov</td><td>IDoc</td></tr>",
                            "<tr><td>2</td><td>Xylina Lonergan</td><td>xlonergan1@yahoo.com</td><td>Oracle RDC</td></tr>",
                            "<tr><td>3</td><td>Stacey Turvie</td><td>sturvie2@storify.com</td><td>Spanish</td></tr>",
                            "<tr><td>4</td><td>Wilbert Darrow</td><td>wdarrow3@e-recht24.de</td><td>PDMS Draft</td></tr>",
                            "<tr><td>5</td><td>Carol-jean Yanukhin</td><td>cyanukhin4@tripadvisor.com</td><td>HAZOP Study</td></tr>",
                            "</table>"
                        ]
                    }
                }
            ],
            "execution_count": 13
        },
        {
            "cell_type": "code",
            "source": [
                "select email,\n",
                "    split_part(email, '@', 1) ename,\n",
                "    split_part(email, '@', 2) host\n",
                "    from freelancer"
            ],
            "metadata": {
                "azdata_cell_guid": "03f5e826-0cd7-4a07-86eb-b6859c250878"
            },
            "outputs": [
                {
                    "output_type": "display_data",
                    "data": {
                        "text/html": "(5 row(s) affected)"
                    },
                    "metadata": {}
                },
                {
                    "output_type": "display_data",
                    "data": {
                        "text/html": "Total execution time: 00:00:00.011"
                    },
                    "metadata": {}
                },
                {
                    "output_type": "execute_result",
                    "metadata": {},
                    "execution_count": 10,
                    "data": {
                        "application/vnd.dataresource+json": {
                            "schema": {
                                "fields": [
                                    {
                                        "name": "email"
                                    },
                                    {
                                        "name": "ename"
                                    },
                                    {
                                        "name": "host"
                                    }
                                ]
                            },
                            "data": [
                                {
                                    "0": "anoblet0@usda.gov",
                                    "1": "anoblet0",
                                    "2": "usda.gov"
                                },
                                {
                                    "0": "xlonergan1@yahoo.com",
                                    "1": "xlonergan1",
                                    "2": "yahoo.com"
                                },
                                {
                                    "0": "sturvie2@storify.com",
                                    "1": "sturvie2",
                                    "2": "storify.com"
                                },
                                {
                                    "0": "wdarrow3@e-recht24.de",
                                    "1": "wdarrow3",
                                    "2": "e-recht24.de"
                                },
                                {
                                    "0": "cyanukhin4@tripadvisor.com",
                                    "1": "cyanukhin4",
                                    "2": "tripadvisor.com"
                                }
                            ]
                        },
                        "text/html": [
                            "<table>",
                            "<tr><th>email</th><th>ename</th><th>host</th></tr>",
                            "<tr><td>anoblet0@usda.gov</td><td>anoblet0</td><td>usda.gov</td></tr>",
                            "<tr><td>xlonergan1@yahoo.com</td><td>xlonergan1</td><td>yahoo.com</td></tr>",
                            "<tr><td>sturvie2@storify.com</td><td>sturvie2</td><td>storify.com</td></tr>",
                            "<tr><td>wdarrow3@e-recht24.de</td><td>wdarrow3</td><td>e-recht24.de</td></tr>",
                            "<tr><td>cyanukhin4@tripadvisor.com</td><td>cyanukhin4</td><td>tripadvisor.com</td></tr>",
                            "</table>"
                        ]
                    }
                }
            ],
            "execution_count": 10
        },
        {
            "cell_type": "markdown",
            "source": [
                "# ไร่-งาน-ตร.วา"
            ],
            "metadata": {
                "azdata_cell_guid": "da6815e1-e3ee-4601-a382-3d00de121aa7"
            }
        },
        {
            "cell_type": "code",
            "source": [
                "-- ไร่-งาน-ตร.วา\n",
                "select \n",
                "    split_part('2-3-70', '-', 1) rai,\n",
                "    split_part('2-3-70', '-', 2) ngan,\n",
                "    split_part('2-3-70', '-', 3) sq_wa"
            ],
            "metadata": {
                "azdata_cell_guid": "43e0984f-4833-4ea3-9e10-7ef7bad05248"
            },
            "outputs": [
                {
                    "output_type": "display_data",
                    "data": {
                        "text/html": "(1 row(s) affected)"
                    },
                    "metadata": {}
                },
                {
                    "output_type": "display_data",
                    "data": {
                        "text/html": "Total execution time: 00:00:00.004"
                    },
                    "metadata": {}
                },
                {
                    "output_type": "execute_result",
                    "execution_count": 10,
                    "data": {
                        "application/vnd.dataresource+json": {
                            "schema": {
                                "fields": [
                                    {
                                        "name": "rai"
                                    },
                                    {
                                        "name": "ngan"
                                    },
                                    {
                                        "name": "sq_wa"
                                    }
                                ]
                            },
                            "data": [
                                {
                                    "0": "2",
                                    "1": "3",
                                    "2": "70"
                                }
                            ]
                        },
                        "text/html": "<table><tr><th>rai</th><th>ngan</th><th>sq_wa</th></tr><tr><td>2</td><td>3</td><td>70</td></tr></table>"
                    },
                    "metadata": {}
                }
            ],
            "execution_count": 10
        },
        {
            "cell_type": "code",
            "source": [
                "-- ไร่-งาน-ตร.วา\n",
                "select \n",
                "    split_part('2-3-70.5', '-', 1)::int * 400 +\n",
                "    split_part('2-3-70.5', '-', 2)::int * 100 +\n",
                "    split_part('2-3-70.5', '-', 3)::float total_sq_wa"
            ],
            "metadata": {
                "azdata_cell_guid": "de5f648a-3c8f-494f-8576-9d92beb3f9c3"
            },
            "outputs": [
                {
                    "output_type": "display_data",
                    "data": {
                        "text/html": "(1 row(s) affected)"
                    },
                    "metadata": {}
                },
                {
                    "output_type": "display_data",
                    "data": {
                        "text/html": "Total execution time: 00:00:00.003"
                    },
                    "metadata": {}
                },
                {
                    "output_type": "execute_result",
                    "execution_count": 13,
                    "data": {
                        "application/vnd.dataresource+json": {
                            "schema": {
                                "fields": [
                                    {
                                        "name": "total_sq_wa"
                                    }
                                ]
                            },
                            "data": [
                                {
                                    "0": "1170.5"
                                }
                            ]
                        },
                        "text/html": "<table><tr><th>total_sq_wa</th></tr><tr><td>1170.5</td></tr></table>"
                    },
                    "metadata": {}
                }
            ],
            "execution_count": 13
        },
        {
            "cell_type": "markdown",
            "source": [
                "# Bonus: RGB color"
            ],
            "metadata": {
                "azdata_cell_guid": "1dab3d85-35c0-4c56-81b9-dd2541b17496"
            }
        },
        {
            "cell_type": "code",
            "source": [
                "select split_part('213,11,32', ',', 1) red;\n",
                "select split_part('213,11,32', ',', 2) green;\n",
                "select split_part('213,11,32', ',', 3) blue;"
            ],
            "metadata": {
                "azdata_cell_guid": "ed39e726-3e2d-4d14-ba80-6bd50f36b6f7"
            },
            "outputs": [
                {
                    "output_type": "display_data",
                    "data": {
                        "text/html": "(1 row(s) affected)"
                    },
                    "metadata": {}
                },
                {
                    "output_type": "display_data",
                    "data": {
                        "text/html": "(1 row(s) affected)"
                    },
                    "metadata": {}
                },
                {
                    "output_type": "display_data",
                    "data": {
                        "text/html": "(1 row(s) affected)"
                    },
                    "metadata": {}
                },
                {
                    "output_type": "display_data",
                    "data": {
                        "text/html": "Total execution time: 00:00:00.025"
                    },
                    "metadata": {}
                },
                {
                    "output_type": "execute_result",
                    "metadata": {},
                    "execution_count": 14,
                    "data": {
                        "application/vnd.dataresource+json": {
                            "schema": {
                                "fields": [
                                    {
                                        "name": "red"
                                    }
                                ]
                            },
                            "data": [
                                {
                                    "0": "213"
                                }
                            ]
                        },
                        "text/html": [
                            "<table>",
                            "<tr><th>red</th></tr>",
                            "<tr><td>213</td></tr>",
                            "</table>"
                        ]
                    }
                },
                {
                    "output_type": "execute_result",
                    "metadata": {},
                    "execution_count": 14,
                    "data": {
                        "application/vnd.dataresource+json": {
                            "schema": {
                                "fields": [
                                    {
                                        "name": "green"
                                    }
                                ]
                            },
                            "data": [
                                {
                                    "0": "11"
                                }
                            ]
                        },
                        "text/html": [
                            "<table>",
                            "<tr><th>green</th></tr>",
                            "<tr><td>11</td></tr>",
                            "</table>"
                        ]
                    }
                },
                {
                    "output_type": "execute_result",
                    "metadata": {},
                    "execution_count": 14,
                    "data": {
                        "application/vnd.dataresource+json": {
                            "schema": {
                                "fields": [
                                    {
                                        "name": "blue"
                                    }
                                ]
                            },
                            "data": [
                                {
                                    "0": "32"
                                }
                            ]
                        },
                        "text/html": [
                            "<table>",
                            "<tr><th>blue</th></tr>",
                            "<tr><td>32</td></tr>",
                            "</table>"
                        ]
                    }
                }
            ],
            "execution_count": 14
        },
        {
            "cell_type": "code",
            "source": [
                "select to_hex(split_part('213,11,32', ',', 1)::int) red;"
            ],
            "metadata": {
                "azdata_cell_guid": "02fd9059-108d-4656-9ced-3bba9597f80a"
            },
            "outputs": [
                {
                    "output_type": "display_data",
                    "data": {
                        "text/html": "(1 row(s) affected)"
                    },
                    "metadata": {}
                },
                {
                    "output_type": "display_data",
                    "data": {
                        "text/html": "Total execution time: 00:00:00.003"
                    },
                    "metadata": {}
                },
                {
                    "output_type": "execute_result",
                    "execution_count": 15,
                    "data": {
                        "application/vnd.dataresource+json": {
                            "schema": {
                                "fields": [
                                    {
                                        "name": "red"
                                    }
                                ]
                            },
                            "data": [
                                {
                                    "0": "d5"
                                }
                            ]
                        },
                        "text/html": "<table><tr><th>red</th></tr><tr><td>d5</td></tr></table>"
                    },
                    "metadata": {}
                }
            ],
            "execution_count": 15
        },
        {
            "cell_type": "code",
            "source": [
                "select lpad(to_hex(split_part('213,11,32', ',', 2)::int), 2, '0')"
            ],
            "metadata": {
                "azdata_cell_guid": "f12ec7e7-8a2a-4ec4-ac6e-33feb154d38f"
            },
            "outputs": [],
            "execution_count": null
        }
    ]
}