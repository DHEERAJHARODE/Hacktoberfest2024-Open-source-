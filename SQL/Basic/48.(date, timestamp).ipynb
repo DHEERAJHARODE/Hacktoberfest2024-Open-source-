{
    "metadata": {
        "kernelspec": {
            "name": "SQL",
            "display_name": "SQL",
            "language": "sql"
        },
        "language_info": {
            "name": "sql",
            "version": ""
        }
    },
    "nbformat_minor": 2,
    "nbformat": 4,
    "cells": [
        {
            "cell_type": "markdown",
            "source": [
                " เข้าใจเรื่องวันและเวลาแบบเบื้องต้นของ PostgreSQL"
            ],
            "metadata": {
                "azdata_cell_guid": "454d8070-77db-4f52-935a-5cbad115593c"
            }
        },
        {
            "cell_type": "code",
            "source": [
                "-- วันเวลาปัจจุบัน\r\n",
                "select current_date, current_time, localtimestamp, now();"
            ],
            "metadata": {
                "azdata_cell_guid": "d54a1cb2-5af1-4e13-803b-c2b85c04c96e"
            },
            "outputs": [
                {
                    "output_type": "display_data",
                    "data": {
                        "text/html": "(1 row(s) affected)"
                    },
                    "metadata": {}
                },
                {
                    "output_type": "display_data",
                    "data": {
                        "text/html": "Total execution time: 00:00:00.176"
                    },
                    "metadata": {}
                },
                {
                    "output_type": "execute_result",
                    "metadata": {},
                    "execution_count": 1,
                    "data": {
                        "application/vnd.dataresource+json": {
                            "schema": {
                                "fields": [
                                    {
                                        "name": "current_date"
                                    },
                                    {
                                        "name": "current_time"
                                    },
                                    {
                                        "name": "localtimestamp"
                                    },
                                    {
                                        "name": "now"
                                    }
                                ]
                            },
                            "data": [
                                {
                                    "0": "2020-10-20",
                                    "1": "13:43:33.479832+07:00",
                                    "2": "2020-10-20T13:43:33.479832",
                                    "3": "2020-10-20T13:43:33.479832+07:00"
                                }
                            ]
                        },
                        "text/html": [
                            "<table>",
                            "<tr><th>current_date</th><th>current_time</th><th>localtimestamp</th><th>now</th></tr>",
                            "<tr><td>2020-10-20</td><td>13:43:33.479832+07:00</td><td>2020-10-20T13:43:33.479832</td><td>2020-10-20T13:43:33.479832+07:00</td></tr>",
                            "</table>"
                        ]
                    }
                }
            ],
            "execution_count": 1
        },
        {
            "cell_type": "code",
            "source": [
                "-- คำนวณหาอายุว่าเป็นกี่ปี กี่เดือน กับอีกกี่วัน\r\n",
                "select age('1998-03-27'::timestamp);\r\n",
                "select age(timestamp '1998-03-27');"
            ],
            "metadata": {
                "azdata_cell_guid": "387be2c5-b793-4667-9944-6cbffa1530fa",
                "tags": []
            },
            "outputs": [
                {
                    "output_type": "display_data",
                    "data": {
                        "text/html": "(1 row(s) affected)"
                    },
                    "metadata": {}
                },
                {
                    "output_type": "display_data",
                    "data": {
                        "text/html": "(1 row(s) affected)"
                    },
                    "metadata": {}
                },
                {
                    "output_type": "display_data",
                    "data": {
                        "text/html": "Total execution time: 00:00:00.015"
                    },
                    "metadata": {}
                },
                {
                    "output_type": "execute_result",
                    "metadata": {},
                    "execution_count": 8,
                    "data": {
                        "application/vnd.dataresource+json": {
                            "schema": {
                                "fields": [
                                    {
                                        "name": "age"
                                    }
                                ]
                            },
                            "data": [
                                {
                                    "0": "8234 days, 0:00:00"
                                }
                            ]
                        },
                        "text/html": [
                            "<table>",
                            "<tr><th>age</th></tr>",
                            "<tr><td>8234 days, 0:00:00</td></tr>",
                            "</table>"
                        ]
                    }
                },
                {
                    "output_type": "execute_result",
                    "metadata": {},
                    "execution_count": 8,
                    "data": {
                        "application/vnd.dataresource+json": {
                            "schema": {
                                "fields": [
                                    {
                                        "name": "age"
                                    }
                                ]
                            },
                            "data": [
                                {
                                    "0": "8234 days, 0:00:00"
                                }
                            ]
                        },
                        "text/html": [
                            "<table>",
                            "<tr><th>age</th></tr>",
                            "<tr><td>8234 days, 0:00:00</td></tr>",
                            "</table>"
                        ]
                    }
                }
            ],
            "execution_count": 8
        },
        {
            "cell_type": "code",
            "source": [
                "-- การบวกวัน \r\n",
                "select current_date, current_date + 5;"
            ],
            "metadata": {
                "azdata_cell_guid": "e3338224-778d-4efe-b3b0-749df5f45129",
                "tags": []
            },
            "outputs": [
                {
                    "output_type": "display_data",
                    "data": {
                        "text/html": "(1 row(s) affected)"
                    },
                    "metadata": {}
                },
                {
                    "output_type": "display_data",
                    "data": {
                        "text/html": "Total execution time: 00:00:00.011"
                    },
                    "metadata": {}
                },
                {
                    "output_type": "execute_result",
                    "metadata": {},
                    "execution_count": 9,
                    "data": {
                        "application/vnd.dataresource+json": {
                            "schema": {
                                "fields": [
                                    {
                                        "name": "current_date"
                                    },
                                    {
                                        "name": "Column2"
                                    }
                                ]
                            },
                            "data": [
                                {
                                    "0": "2020-10-20",
                                    "1": "2020-10-25"
                                }
                            ]
                        },
                        "text/html": [
                            "<table>",
                            "<tr><th>current_date</th><th>Column2</th></tr>",
                            "<tr><td>2020-10-20</td><td>2020-10-25</td></tr>",
                            "</table>"
                        ]
                    }
                }
            ],
            "execution_count": 9
        },
        {
            "cell_type": "code",
            "source": [
                "-- การใช้ interval แบบต่าง ๆ\r\n",
                "select LOCALTIMESTAMP, LOCALTIMESTAMP + '5 days'::interval as day;  -- บวกไป 5 วัน\r\n",
                "select LOCALTIMESTAMP, LOCALTIMESTAMP - '5 days'::interval; -- ลบไป 5 วัน\r\n",
                "-- select LOCALTIMESTAMP, LOCALTIMESTAMP - '5 months'::interval as month; ลบไป 5 เดือน\r\n",
                "-- select LOCALTIMESTAMP, LOCALTIMESTAMP + '1 year'::interval as year; บวกไป 1 ปี\r\n",
                "-- select LOCALTIMESTAMP, LOCALTIMESTAMP + '2 hours'::interval as hour; บวกไป 2 ชั่วโมง\r\n",
                "-- select LOCALTIMESTAMP, LOCALTIMESTAMP + '12 minutes'::interval as minutes; บวกไป 12 นาที\r\n",
                "-- select LOCALTIMESTAMP, LOCALTIMESTAMP + '2 hours 12 minutes'::interval; บวกไป 2 ชม 12 นาที\r\n",
                ""
            ],
            "metadata": {
                "azdata_cell_guid": "ddb16397-9cba-4ec5-b116-bd5aeef031bc"
            },
            "outputs": [
                {
                    "output_type": "display_data",
                    "data": {
                        "text/html": "(1 row(s) affected)"
                    },
                    "metadata": {}
                },
                {
                    "output_type": "display_data",
                    "data": {
                        "text/html": "(1 row(s) affected)"
                    },
                    "metadata": {}
                },
                {
                    "output_type": "display_data",
                    "data": {
                        "text/html": "Total execution time: 00:00:00.020"
                    },
                    "metadata": {}
                },
                {
                    "output_type": "execute_result",
                    "metadata": {},
                    "execution_count": 18,
                    "data": {
                        "application/vnd.dataresource+json": {
                            "schema": {
                                "fields": [
                                    {
                                        "name": "localtimestamp"
                                    },
                                    {
                                        "name": "day"
                                    }
                                ]
                            },
                            "data": [
                                {
                                    "0": "2020-10-20T14:15:11.284456",
                                    "1": "2020-10-25T14:15:11.284456"
                                }
                            ]
                        },
                        "text/html": [
                            "<table>",
                            "<tr><th>localtimestamp</th><th>day</th></tr>",
                            "<tr><td>2020-10-20T14:15:11.284456</td><td>2020-10-25T14:15:11.284456</td></tr>",
                            "</table>"
                        ]
                    }
                },
                {
                    "output_type": "execute_result",
                    "metadata": {},
                    "execution_count": 18,
                    "data": {
                        "application/vnd.dataresource+json": {
                            "schema": {
                                "fields": [
                                    {
                                        "name": "localtimestamp"
                                    },
                                    {
                                        "name": "Column2"
                                    }
                                ]
                            },
                            "data": [
                                {
                                    "0": "2020-10-20T14:15:11.292419",
                                    "1": "2020-10-15T14:15:11.292419"
                                }
                            ]
                        },
                        "text/html": [
                            "<table>",
                            "<tr><th>localtimestamp</th><th>Column2</th></tr>",
                            "<tr><td>2020-10-20T14:15:11.292419</td><td>2020-10-15T14:15:11.292419</td></tr>",
                            "</table>"
                        ]
                    }
                }
            ],
            "execution_count": 18
        },
        {
            "cell_type": "code",
            "source": [
                "-- การสร้างวันเวลา\r\n",
                "select make_date(2019, 9, 10), make_time(14, 17, 30), make_timestamp(2019, 9, 10, 14, 17, 30);"
            ],
            "metadata": {
                "azdata_cell_guid": "9fc81f8b-c90a-422c-8a5a-273661ae1d71",
                "tags": []
            },
            "outputs": [
                {
                    "output_type": "display_data",
                    "data": {
                        "text/html": "(1 row(s) affected)"
                    },
                    "metadata": {}
                },
                {
                    "output_type": "display_data",
                    "data": {
                        "text/html": "Total execution time: 00:00:00.049"
                    },
                    "metadata": {}
                },
                {
                    "output_type": "execute_result",
                    "metadata": {},
                    "execution_count": 19,
                    "data": {
                        "application/vnd.dataresource+json": {
                            "schema": {
                                "fields": [
                                    {
                                        "name": "make_date"
                                    },
                                    {
                                        "name": "make_time"
                                    },
                                    {
                                        "name": "make_timestamp"
                                    }
                                ]
                            },
                            "data": [
                                {
                                    "0": "2019-09-10",
                                    "1": "14:17:30",
                                    "2": "2019-09-10T14:17:30"
                                }
                            ]
                        },
                        "text/html": [
                            "<table>",
                            "<tr><th>make_date</th><th>make_time</th><th>make_timestamp</th></tr>",
                            "<tr><td>2019-09-10</td><td>14:17:30</td><td>2019-09-10T14:17:30</td></tr>",
                            "</table>"
                        ]
                    }
                }
            ],
            "execution_count": 19
        },
        {
            "cell_type": "code",
            "source": [
                "-- การหาผลต่างของวัน\r\n",
                "select '2019-09-20 14:30'::timestamp - '2019-09-15 16:45'::timestamp;"
            ],
            "metadata": {
                "azdata_cell_guid": "f7a6fd06-f908-410b-87ff-797c1bf4c977"
            },
            "outputs": [
                {
                    "output_type": "display_data",
                    "data": {
                        "text/html": "(1 row(s) affected)"
                    },
                    "metadata": {}
                },
                {
                    "output_type": "display_data",
                    "data": {
                        "text/html": "Total execution time: 00:00:00.009"
                    },
                    "metadata": {}
                },
                {
                    "output_type": "execute_result",
                    "metadata": {},
                    "execution_count": 20,
                    "data": {
                        "application/vnd.dataresource+json": {
                            "schema": {
                                "fields": [
                                    {
                                        "name": "Column1"
                                    }
                                ]
                            },
                            "data": [
                                {
                                    "0": "4 days, 21:45:00"
                                }
                            ]
                        },
                        "text/html": [
                            "<table>",
                            "<tr><th>Column1</th></tr>",
                            "<tr><td>4 days, 21:45:00</td></tr>",
                            "</table>"
                        ]
                    }
                }
            ],
            "execution_count": 20
        },
        {
            "cell_type": "code",
            "source": [
                "-- การดึงส่วนต่าง ๆ ของ interval\r\n",
                "select '2019-09-20 14:30'::timestamp - '2019-09-15 16:45'::timestamp,\r\n",
                "    extract(day from '2019-09-20 14:30'::timestamp - '2019-09-15 16:45'::timestamp), -- ดึงค่าวันออกมา\r\n",
                "    extract(hour from '2019-09-20 14:30'::timestamp - '2019-09-15 16:45'::timestamp), -- ดึงค่าชั่วโมงออกมา\r\n",
                "    extract(minute from '2019-09-20 14:30'::timestamp - '2019-09-15 16:45'::timestamp) -- ดึงค่านาทีออกมา"
            ],
            "metadata": {
                "azdata_cell_guid": "0e10ec7e-6e6a-431a-8c5c-0c0ba86f44ce",
                "tags": []
            },
            "outputs": [
                {
                    "output_type": "display_data",
                    "data": {
                        "text/html": "(1 row(s) affected)"
                    },
                    "metadata": {}
                },
                {
                    "output_type": "display_data",
                    "data": {
                        "text/html": "Total execution time: 00:00:00.067"
                    },
                    "metadata": {}
                },
                {
                    "output_type": "execute_result",
                    "metadata": {},
                    "execution_count": 21,
                    "data": {
                        "application/vnd.dataresource+json": {
                            "schema": {
                                "fields": [
                                    {
                                        "name": "Column1"
                                    },
                                    {
                                        "name": "date_part"
                                    },
                                    {
                                        "name": "date_part"
                                    },
                                    {
                                        "name": "date_part"
                                    }
                                ]
                            },
                            "data": [
                                {
                                    "0": "4 days, 21:45:00",
                                    "1": "4.0",
                                    "2": "21.0",
                                    "3": "45.0"
                                }
                            ]
                        },
                        "text/html": [
                            "<table>",
                            "<tr><th>Column1</th><th>date_part</th><th>date_part</th><th>date_part</th></tr>",
                            "<tr><td>4 days, 21:45:00</td><td>4.0</td><td>21.0</td><td>45.0</td></tr>",
                            "</table>"
                        ]
                    }
                }
            ],
            "execution_count": 21
        }
    ]
}