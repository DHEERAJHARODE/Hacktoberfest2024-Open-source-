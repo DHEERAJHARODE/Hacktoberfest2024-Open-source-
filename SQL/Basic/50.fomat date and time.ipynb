{
    "metadata": {
        "kernelspec": {
            "name": "SQL",
            "display_name": "SQL",
            "language": "sql"
        },
        "language_info": {
            "name": "sql",
            "version": ""
        }
    },
    "nbformat_minor": 2,
    "nbformat": 4,
    "cells": [
        {
            "cell_type": "markdown",
            "source": [
                "# fomat date/time\n",
                "\n",
                "-   DATE - format YYYY-MM-DD\n",
                "-   DATETIME - format: YYYY-MM-DD HH:MI:SS\n",
                "-   TIMESTAMP - format: YYYY-MM-DD HH:MI:SS\n",
                "-   YEAR - format YYYY or YY"
            ],
            "metadata": {
                "azdata_cell_guid": "213fd69d-0c4d-4bda-a9b2-507ca98bb2f2"
            }
        },
        {
            "cell_type": "code",
            "source": [
                "SELECT LOCALTIMESTAMP,\r\n",
                "    to_char(LOCALTIMESTAMP, 'DD') \"DD\",\r\n",
                "    to_char(LOCALTIMESTAMP, 'DDD') \"DDD\",\r\n",
                "    to_char(LOCALTIMESTAMP, 'Dy') \"Dy\""
            ],
            "metadata": {
                "azdata_cell_guid": "a67d7d8a-6c2e-4a3e-9750-2a1c8ed75c07",
                "tags": []
            },
            "outputs": [
                {
                    "output_type": "display_data",
                    "data": {
                        "text/html": "(1 row(s) affected)"
                    },
                    "metadata": {}
                },
                {
                    "output_type": "display_data",
                    "data": {
                        "text/html": "Total execution time: 00:00:00.007"
                    },
                    "metadata": {}
                },
                {
                    "output_type": "execute_result",
                    "execution_count": 2,
                    "data": {
                        "application/vnd.dataresource+json": {
                            "schema": {
                                "fields": [
                                    {
                                        "name": "localtimestamp"
                                    },
                                    {
                                        "name": "DD"
                                    },
                                    {
                                        "name": "DDD"
                                    },
                                    {
                                        "name": "Dy"
                                    }
                                ]
                            },
                            "data": [
                                {
                                    "0": "2020-10-21T20:58:42.463426",
                                    "1": "21",
                                    "2": "295",
                                    "3": "Wed"
                                }
                            ]
                        },
                        "text/html": "<table><tr><th>localtimestamp</th><th>DD</th><th>DDD</th><th>Dy</th></tr><tr><td>2020-10-21T20:58:42.463426</td><td>21</td><td>295</td><td>Wed</td></tr></table>"
                    },
                    "metadata": {}
                }
            ],
            "execution_count": 2
        },
        {
            "cell_type": "code",
            "source": [
                "SELECT '2019-02-01'::DATE,\r\n",
                "    to_char('2019-02-01'::DATE, 'DD') \"DD\", -- วันที่\r\n",
                "    to_char('2019-02-01'::DATE, 'DDD') \"DDD\", -- วันที่ลำดับที่เท่าไหร่ของปี\r\n",
                "    to_char('2019-02-01'::DATE, 'Dy') \"Dy\", -- วันแบบตัวย่อ\r\n",
                "    to_char('2019-02-01'::DATE, 'Day') \"Day\", -- วันแบบตัวเต็ม\r\n",
                "    to_char('2019-02-01'::DATE, 'MM') \"MM\", -- เดือนที่\r\n",
                "    to_char('2019-02-01'::DATE, 'Mon') \"Mon\", -- เดือนแบบย่อ\r\n",
                "    to_char('2019-02-01'::DATE, 'Month') \"Month\" -- เดือนแบบเต็ม\r\n",
                "    \r\n",
                ""
            ],
            "metadata": {
                "azdata_cell_guid": "a6374523-2733-4829-a75a-8226ec5af360",
                "tags": []
            },
            "outputs": [
                {
                    "output_type": "display_data",
                    "data": {
                        "text/html": "(1 row(s) affected)"
                    },
                    "metadata": {}
                },
                {
                    "output_type": "display_data",
                    "data": {
                        "text/html": "Total execution time: 00:00:00.003"
                    },
                    "metadata": {}
                },
                {
                    "output_type": "execute_result",
                    "execution_count": 28,
                    "data": {
                        "application/vnd.dataresource+json": {
                            "schema": {
                                "fields": [
                                    {
                                        "name": "date"
                                    },
                                    {
                                        "name": "DD"
                                    },
                                    {
                                        "name": "DDD"
                                    },
                                    {
                                        "name": "Dy"
                                    },
                                    {
                                        "name": "Day"
                                    },
                                    {
                                        "name": "MM"
                                    },
                                    {
                                        "name": "Mon"
                                    },
                                    {
                                        "name": "Month"
                                    }
                                ]
                            },
                            "data": [
                                {
                                    "0": "2019-02-01",
                                    "1": "01",
                                    "2": "032",
                                    "3": "Fri",
                                    "4": "Friday   ",
                                    "5": "02",
                                    "6": "Feb",
                                    "7": "February "
                                }
                            ]
                        },
                        "text/html": "<table><tr><th>date</th><th>DD</th><th>DDD</th><th>Dy</th><th>Day</th><th>MM</th><th>Mon</th><th>Month</th></tr><tr><td>2019-02-01</td><td>01</td><td>032</td><td>Fri</td><td>Friday   </td><td>02</td><td>Feb</td><td>February </td></tr></table>"
                    },
                    "metadata": {}
                }
            ],
            "execution_count": 28
        },
        {
            "cell_type": "code",
            "source": [
                "SELECT LOCALTIMESTAMP,\r\n",
                "    to_char(LOCALTIMESTAMP, 'HH') \"HH\", -- ชั่วโมง\r\n",
                "    to_char(LOCALTIMESTAMP, 'HH24') \"HH24\" -- 24ชั่วโมง"
            ],
            "metadata": {
                "azdata_cell_guid": "9fedd075-abc9-4397-af73-f9bb345e2ad0",
                "tags": []
            },
            "outputs": [
                {
                    "output_type": "display_data",
                    "data": {
                        "text/html": "(1 row(s) affected)"
                    },
                    "metadata": {}
                },
                {
                    "output_type": "display_data",
                    "data": {
                        "text/html": "Total execution time: 00:00:00.006"
                    },
                    "metadata": {}
                },
                {
                    "output_type": "execute_result",
                    "execution_count": 13,
                    "data": {
                        "application/vnd.dataresource+json": {
                            "schema": {
                                "fields": [
                                    {
                                        "name": "localtimestamp"
                                    },
                                    {
                                        "name": "HH"
                                    },
                                    {
                                        "name": "HH24"
                                    }
                                ]
                            },
                            "data": [
                                {
                                    "0": "2020-10-21T21:16:20.471259",
                                    "1": "09",
                                    "2": "21"
                                }
                            ]
                        },
                        "text/html": "<table><tr><th>localtimestamp</th><th>HH</th><th>HH24</th></tr><tr><td>2020-10-21T21:16:20.471259</td><td>09</td><td>21</td></tr></table>"
                    },
                    "metadata": {}
                }
            ],
            "execution_count": 13
        },
        {
            "cell_type": "code",
            "source": [
                "SELECT '2019-07-11 14:30'::timestamp,\r\n",
                "    to_char('2019-07-11 14:30'::timestamp, 'HH') \"HH\", -- ชั่วโมง\r\n",
                "    to_char('2019-07-11 14:30'::timestamp, 'HH24') \"HH24\", -- 24 ชั่วโมง\r\n",
                "    to_char('2019-07-11 14:30'::timestamp, 'HH24:MI') \"HH24:MI\", -- 24ชั่วโมง กับนาที\r\n",
                "    to_char('2019-07-11 14:30'::timestamp, 'HH24:MI am') \"HH24:MI am\", \r\n",
                "    to_char('2019-07-11 14:30'::timestamp, 'Dy DD-Mon-YYYY HH24:MI am') \"Dy DD-Mon-YYYY HH24:MI am\""
            ],
            "metadata": {
                "azdata_cell_guid": "a4895f78-8b42-4516-83f0-f4a95c72c8e4",
                "tags": []
            },
            "outputs": [
                {
                    "output_type": "display_data",
                    "data": {
                        "text/html": "(1 row(s) affected)"
                    },
                    "metadata": {}
                },
                {
                    "output_type": "display_data",
                    "data": {
                        "text/html": "Total execution time: 00:00:00.004"
                    },
                    "metadata": {}
                },
                {
                    "output_type": "execute_result",
                    "metadata": {},
                    "execution_count": 4,
                    "data": {
                        "application/vnd.dataresource+json": {
                            "schema": {
                                "fields": [
                                    {
                                        "name": "timestamp"
                                    },
                                    {
                                        "name": "HH"
                                    },
                                    {
                                        "name": "HH24"
                                    },
                                    {
                                        "name": "HH24:MI"
                                    },
                                    {
                                        "name": "HH24:MI am"
                                    },
                                    {
                                        "name": "Dy DD-Mon-YYYY HH24:MI am"
                                    }
                                ]
                            },
                            "data": [
                                {
                                    "0": "2019-07-11T14:30:00",
                                    "1": "02",
                                    "2": "14",
                                    "3": "14:30",
                                    "4": "14:30 pm",
                                    "5": "Thu 11-Jul-2019 14:30 pm"
                                }
                            ]
                        },
                        "text/html": [
                            "<table>",
                            "<tr><th>timestamp</th><th>HH</th><th>HH24</th><th>HH24:MI</th><th>HH24:MI am</th><th>Dy DD-Mon-YYYY HH24:MI am</th></tr>",
                            "<tr><td>2019-07-11T14:30:00</td><td>02</td><td>14</td><td>14:30</td><td>14:30 pm</td><td>Thu 11-Jul-2019 14:30 pm</td></tr>",
                            "</table>"
                        ]
                    }
                }
            ],
            "execution_count": 4
        }
    ]
}