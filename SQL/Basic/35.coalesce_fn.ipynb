{
    "metadata": {
        "kernelspec": {
            "name": "SQL",
            "display_name": "SQL",
            "language": "sql"
        },
        "language_info": {
            "name": "sql",
            "version": ""
        }
    },
    "nbformat_minor": 2,
    "nbformat": 4,
    "cells": [
        {
            "cell_type": "markdown",
            "source": [
                "# จัดการกับคอลัมน์ตัวเลขที่มีค่า null\n",
                "## Server: PostgreSQL\n",
                "## Author: Prasert Kanawattanachai\n",
                "## YouTube: https://youtu.be/etR_T4ytnvc"
            ],
            "metadata": {
                "azdata_cell_guid": "e8cc6c04-d678-46a3-bca6-5ce32b1d7bce"
            }
        },
        {
            "cell_type": "code",
            "source": [
                "drop table if exists student_score;\n",
                "\n",
                "create table student_score (\n",
                "\tid int,\n",
                "\tquiz1 int,\n",
                "\tquiz2 int,\n",
                "\tquiz3 int\n",
                ");\n",
                "\n",
                "insert into student_score (id, quiz1, quiz2, quiz3) values \n",
                "    (1, 6, 13, 20),\n",
                "    (2, 7, 21, 24),\n",
                "    (3, 21, 15, null),\n",
                "    (4, null, 6, null),\n",
                "    (5, 15, null, 16),\n",
                "    (6, 16, null, null),\n",
                "    (7, 23, 11, 19),\n",
                "    (8, 5, 25, null),\n",
                "    (9, 17, 15, 12),\n",
                "    (10, 10, 9, null);"
            ],
            "metadata": {
                "azdata_cell_guid": "0c909625-1d45-4e20-8c6a-e94859e5c391"
            },
            "outputs": [
                {
                    "output_type": "display_data",
                    "data": {
                        "text/html": "Commands completed successfully"
                    },
                    "metadata": {}
                },
                {
                    "output_type": "display_data",
                    "data": {
                        "text/html": "Commands completed successfully"
                    },
                    "metadata": {}
                },
                {
                    "output_type": "display_data",
                    "data": {
                        "text/html": "Commands completed successfully"
                    },
                    "metadata": {}
                },
                {
                    "output_type": "display_data",
                    "data": {
                        "text/html": "Total execution time: 00:00:00.431"
                    },
                    "metadata": {}
                }
            ],
            "execution_count": 1
        },
        {
            "cell_type": "code",
            "source": [
                "select * from student_score;"
            ],
            "metadata": {
                "azdata_cell_guid": "52bca2ad-80ea-4adf-ba52-d967dcd91488"
            },
            "outputs": [
                {
                    "output_type": "display_data",
                    "data": {
                        "text/html": "(10 row(s) affected)"
                    },
                    "metadata": {}
                },
                {
                    "output_type": "display_data",
                    "data": {
                        "text/html": "Total execution time: 00:00:00.089"
                    },
                    "metadata": {}
                },
                {
                    "output_type": "execute_result",
                    "metadata": {},
                    "execution_count": 2,
                    "data": {
                        "application/vnd.dataresource+json": {
                            "schema": {
                                "fields": [
                                    {
                                        "name": "id"
                                    },
                                    {
                                        "name": "quiz1"
                                    },
                                    {
                                        "name": "quiz2"
                                    },
                                    {
                                        "name": "quiz3"
                                    }
                                ]
                            },
                            "data": [
                                {
                                    "0": "1",
                                    "1": "6",
                                    "2": "13",
                                    "3": "20"
                                },
                                {
                                    "0": "2",
                                    "1": "7",
                                    "2": "21",
                                    "3": "24"
                                },
                                {
                                    "0": "3",
                                    "1": "21",
                                    "2": "15",
                                    "3": "NULL"
                                },
                                {
                                    "0": "4",
                                    "1": "NULL",
                                    "2": "6",
                                    "3": "NULL"
                                },
                                {
                                    "0": "5",
                                    "1": "15",
                                    "2": "NULL",
                                    "3": "16"
                                },
                                {
                                    "0": "6",
                                    "1": "16",
                                    "2": "NULL",
                                    "3": "NULL"
                                },
                                {
                                    "0": "7",
                                    "1": "23",
                                    "2": "11",
                                    "3": "19"
                                },
                                {
                                    "0": "8",
                                    "1": "5",
                                    "2": "25",
                                    "3": "NULL"
                                },
                                {
                                    "0": "9",
                                    "1": "17",
                                    "2": "15",
                                    "3": "12"
                                },
                                {
                                    "0": "10",
                                    "1": "10",
                                    "2": "9",
                                    "3": "NULL"
                                }
                            ]
                        },
                        "text/html": [
                            "<table>",
                            "<tr><th>id</th><th>quiz1</th><th>quiz2</th><th>quiz3</th></tr>",
                            "<tr><td>1</td><td>6</td><td>13</td><td>20</td></tr>",
                            "<tr><td>2</td><td>7</td><td>21</td><td>24</td></tr>",
                            "<tr><td>3</td><td>21</td><td>15</td><td>NULL</td></tr>",
                            "<tr><td>4</td><td>NULL</td><td>6</td><td>NULL</td></tr>",
                            "<tr><td>5</td><td>15</td><td>NULL</td><td>16</td></tr>",
                            "<tr><td>6</td><td>16</td><td>NULL</td><td>NULL</td></tr>",
                            "<tr><td>7</td><td>23</td><td>11</td><td>19</td></tr>",
                            "<tr><td>8</td><td>5</td><td>25</td><td>NULL</td></tr>",
                            "<tr><td>9</td><td>17</td><td>15</td><td>12</td></tr>",
                            "<tr><td>10</td><td>10</td><td>9</td><td>NULL</td></tr>",
                            "</table>"
                        ]
                    }
                }
            ],
            "execution_count": 2
        },
        {
            "cell_type": "code",
            "source": [
                "select *, quiz1 + quiz2 + quiz3 total from student_score;"
            ],
            "metadata": {
                "azdata_cell_guid": "d1037825-703a-44ca-ae7a-eab0b67df59a"
            },
            "outputs": [
                {
                    "output_type": "display_data",
                    "data": {
                        "text/html": "(10 row(s) affected)"
                    },
                    "metadata": {}
                },
                {
                    "output_type": "display_data",
                    "data": {
                        "text/html": "Total execution time: 00:00:00.022"
                    },
                    "metadata": {}
                },
                {
                    "output_type": "execute_result",
                    "metadata": {},
                    "execution_count": 3,
                    "data": {
                        "application/vnd.dataresource+json": {
                            "schema": {
                                "fields": [
                                    {
                                        "name": "id"
                                    },
                                    {
                                        "name": "quiz1"
                                    },
                                    {
                                        "name": "quiz2"
                                    },
                                    {
                                        "name": "quiz3"
                                    },
                                    {
                                        "name": "total"
                                    }
                                ]
                            },
                            "data": [
                                {
                                    "0": "1",
                                    "1": "6",
                                    "2": "13",
                                    "3": "20",
                                    "4": "39"
                                },
                                {
                                    "0": "2",
                                    "1": "7",
                                    "2": "21",
                                    "3": "24",
                                    "4": "52"
                                },
                                {
                                    "0": "3",
                                    "1": "21",
                                    "2": "15",
                                    "3": "NULL",
                                    "4": "NULL"
                                },
                                {
                                    "0": "4",
                                    "1": "NULL",
                                    "2": "6",
                                    "3": "NULL",
                                    "4": "NULL"
                                },
                                {
                                    "0": "5",
                                    "1": "15",
                                    "2": "NULL",
                                    "3": "16",
                                    "4": "NULL"
                                },
                                {
                                    "0": "6",
                                    "1": "16",
                                    "2": "NULL",
                                    "3": "NULL",
                                    "4": "NULL"
                                },
                                {
                                    "0": "7",
                                    "1": "23",
                                    "2": "11",
                                    "3": "19",
                                    "4": "53"
                                },
                                {
                                    "0": "8",
                                    "1": "5",
                                    "2": "25",
                                    "3": "NULL",
                                    "4": "NULL"
                                },
                                {
                                    "0": "9",
                                    "1": "17",
                                    "2": "15",
                                    "3": "12",
                                    "4": "44"
                                },
                                {
                                    "0": "10",
                                    "1": "10",
                                    "2": "9",
                                    "3": "NULL",
                                    "4": "NULL"
                                }
                            ]
                        },
                        "text/html": [
                            "<table>",
                            "<tr><th>id</th><th>quiz1</th><th>quiz2</th><th>quiz3</th><th>total</th></tr>",
                            "<tr><td>1</td><td>6</td><td>13</td><td>20</td><td>39</td></tr>",
                            "<tr><td>2</td><td>7</td><td>21</td><td>24</td><td>52</td></tr>",
                            "<tr><td>3</td><td>21</td><td>15</td><td>NULL</td><td>NULL</td></tr>",
                            "<tr><td>4</td><td>NULL</td><td>6</td><td>NULL</td><td>NULL</td></tr>",
                            "<tr><td>5</td><td>15</td><td>NULL</td><td>16</td><td>NULL</td></tr>",
                            "<tr><td>6</td><td>16</td><td>NULL</td><td>NULL</td><td>NULL</td></tr>",
                            "<tr><td>7</td><td>23</td><td>11</td><td>19</td><td>53</td></tr>",
                            "<tr><td>8</td><td>5</td><td>25</td><td>NULL</td><td>NULL</td></tr>",
                            "<tr><td>9</td><td>17</td><td>15</td><td>12</td><td>44</td></tr>",
                            "<tr><td>10</td><td>10</td><td>9</td><td>NULL</td><td>NULL</td></tr>",
                            "</table>"
                        ]
                    }
                }
            ],
            "execution_count": 3
        },
        {
            "cell_type": "code",
            "source": [
                "select coalesce(1, 2, 3), coalesce(null, 2, 3)"
            ],
            "metadata": {
                "azdata_cell_guid": "f5f16510-8f80-4aa0-9ef9-8f72a50ad9c0"
            },
            "outputs": [
                {
                    "output_type": "display_data",
                    "data": {
                        "text/html": "(1 row(s) affected)"
                    },
                    "metadata": {}
                },
                {
                    "output_type": "display_data",
                    "data": {
                        "text/html": "Total execution time: 00:00:00.003"
                    },
                    "metadata": {}
                },
                {
                    "output_type": "execute_result",
                    "execution_count": 14,
                    "data": {
                        "application/vnd.dataresource+json": {
                            "schema": {
                                "fields": [
                                    {
                                        "name": "coalesce"
                                    },
                                    {
                                        "name": "coalesce"
                                    }
                                ]
                            },
                            "data": [
                                {
                                    "0": "1",
                                    "1": "2"
                                }
                            ]
                        },
                        "text/html": "<table><tr><th>coalesce</th><th>coalesce</th></tr><tr><td>1</td><td>2</td></tr></table>"
                    },
                    "metadata": {}
                }
            ],
            "execution_count": 14
        },
        {
            "cell_type": "code",
            "source": [
                "select *, \n",
                "    coalesce(quiz1,0) + coalesce(quiz2,0) + coalesce(quiz3,0) total \n",
                "    from student_score;"
            ],
            "metadata": {
                "azdata_cell_guid": "1600d535-63a2-4eea-b6e3-c526ca9bec1a"
            },
            "outputs": [
                {
                    "output_type": "display_data",
                    "data": {
                        "text/html": "(10 row(s) affected)"
                    },
                    "metadata": {}
                },
                {
                    "output_type": "display_data",
                    "data": {
                        "text/html": "Total execution time: 00:00:00.010"
                    },
                    "metadata": {}
                },
                {
                    "output_type": "execute_result",
                    "metadata": {},
                    "execution_count": 4,
                    "data": {
                        "application/vnd.dataresource+json": {
                            "schema": {
                                "fields": [
                                    {
                                        "name": "id"
                                    },
                                    {
                                        "name": "quiz1"
                                    },
                                    {
                                        "name": "quiz2"
                                    },
                                    {
                                        "name": "quiz3"
                                    },
                                    {
                                        "name": "total"
                                    }
                                ]
                            },
                            "data": [
                                {
                                    "0": "1",
                                    "1": "6",
                                    "2": "13",
                                    "3": "20",
                                    "4": "39"
                                },
                                {
                                    "0": "2",
                                    "1": "7",
                                    "2": "21",
                                    "3": "24",
                                    "4": "52"
                                },
                                {
                                    "0": "3",
                                    "1": "21",
                                    "2": "15",
                                    "3": "NULL",
                                    "4": "36"
                                },
                                {
                                    "0": "4",
                                    "1": "NULL",
                                    "2": "6",
                                    "3": "NULL",
                                    "4": "6"
                                },
                                {
                                    "0": "5",
                                    "1": "15",
                                    "2": "NULL",
                                    "3": "16",
                                    "4": "31"
                                },
                                {
                                    "0": "6",
                                    "1": "16",
                                    "2": "NULL",
                                    "3": "NULL",
                                    "4": "16"
                                },
                                {
                                    "0": "7",
                                    "1": "23",
                                    "2": "11",
                                    "3": "19",
                                    "4": "53"
                                },
                                {
                                    "0": "8",
                                    "1": "5",
                                    "2": "25",
                                    "3": "NULL",
                                    "4": "30"
                                },
                                {
                                    "0": "9",
                                    "1": "17",
                                    "2": "15",
                                    "3": "12",
                                    "4": "44"
                                },
                                {
                                    "0": "10",
                                    "1": "10",
                                    "2": "9",
                                    "3": "NULL",
                                    "4": "19"
                                }
                            ]
                        },
                        "text/html": [
                            "<table>",
                            "<tr><th>id</th><th>quiz1</th><th>quiz2</th><th>quiz3</th><th>total</th></tr>",
                            "<tr><td>1</td><td>6</td><td>13</td><td>20</td><td>39</td></tr>",
                            "<tr><td>2</td><td>7</td><td>21</td><td>24</td><td>52</td></tr>",
                            "<tr><td>3</td><td>21</td><td>15</td><td>NULL</td><td>36</td></tr>",
                            "<tr><td>4</td><td>NULL</td><td>6</td><td>NULL</td><td>6</td></tr>",
                            "<tr><td>5</td><td>15</td><td>NULL</td><td>16</td><td>31</td></tr>",
                            "<tr><td>6</td><td>16</td><td>NULL</td><td>NULL</td><td>16</td></tr>",
                            "<tr><td>7</td><td>23</td><td>11</td><td>19</td><td>53</td></tr>",
                            "<tr><td>8</td><td>5</td><td>25</td><td>NULL</td><td>30</td></tr>",
                            "<tr><td>9</td><td>17</td><td>15</td><td>12</td><td>44</td></tr>",
                            "<tr><td>10</td><td>10</td><td>9</td><td>NULL</td><td>19</td></tr>",
                            "</table>"
                        ]
                    }
                }
            ],
            "execution_count": 4
        },
        {
            "cell_type": "code",
            "source": [
                "select sum(quiz1), sum(quiz2), sum(quiz3), sum(quiz1+quiz2+quiz3) total from student_score "
            ],
            "metadata": {
                "azdata_cell_guid": "bddd5d6a-2453-4442-a0af-00b2ad1c82a8"
            },
            "outputs": [
                {
                    "output_type": "display_data",
                    "data": {
                        "text/html": "(1 row(s) affected)"
                    },
                    "metadata": {}
                },
                {
                    "output_type": "display_data",
                    "data": {
                        "text/html": "Total execution time: 00:00:00.003"
                    },
                    "metadata": {}
                },
                {
                    "output_type": "execute_result",
                    "execution_count": 18,
                    "data": {
                        "application/vnd.dataresource+json": {
                            "schema": {
                                "fields": [
                                    {
                                        "name": "sum"
                                    },
                                    {
                                        "name": "sum"
                                    },
                                    {
                                        "name": "sum"
                                    },
                                    {
                                        "name": "total"
                                    }
                                ]
                            },
                            "data": [
                                {
                                    "0": "120",
                                    "1": "115",
                                    "2": "91",
                                    "3": "188"
                                }
                            ]
                        },
                        "text/html": "<table><tr><th>sum</th><th>sum</th><th>sum</th><th>total</th></tr><tr><td>120</td><td>115</td><td>91</td><td>188</td></tr></table>"
                    },
                    "metadata": {}
                }
            ],
            "execution_count": 18
        },
        {
            "cell_type": "code",
            "source": [
                "select sum(quiz1), sum(quiz2), sum(quiz3), \n",
                "    sum(coalesce(quiz1,0) + coalesce(quiz2,0) + coalesce(quiz3,0)) total \n",
                "    from student_score "
            ],
            "metadata": {
                "azdata_cell_guid": "88dc5cfe-e65c-4d11-be4e-86058bbb1f27",
                "tags": []
            },
            "outputs": [
                {
                    "output_type": "display_data",
                    "data": {
                        "text/html": "(1 row(s) affected)"
                    },
                    "metadata": {}
                },
                {
                    "output_type": "display_data",
                    "data": {
                        "text/html": "Total execution time: 00:00:00.058"
                    },
                    "metadata": {}
                },
                {
                    "output_type": "execute_result",
                    "metadata": {},
                    "execution_count": 5,
                    "data": {
                        "application/vnd.dataresource+json": {
                            "schema": {
                                "fields": [
                                    {
                                        "name": "sum"
                                    },
                                    {
                                        "name": "sum"
                                    },
                                    {
                                        "name": "sum"
                                    },
                                    {
                                        "name": "total"
                                    }
                                ]
                            },
                            "data": [
                                {
                                    "0": "120",
                                    "1": "115",
                                    "2": "91",
                                    "3": "326"
                                }
                            ]
                        },
                        "text/html": [
                            "<table>",
                            "<tr><th>sum</th><th>sum</th><th>sum</th><th>total</th></tr>",
                            "<tr><td>120</td><td>115</td><td>91</td><td>326</td></tr>",
                            "</table>"
                        ]
                    }
                }
            ],
            "execution_count": 5
        },
        {
            "cell_type": "markdown",
            "source": [
                "# ใช้ grouping sets ในการหา grand total"
            ],
            "metadata": {
                "azdata_cell_guid": "9f41dae2-35f0-4057-86c3-8efb11a399b7"
            }
        },
        {
            "cell_type": "code",
            "source": [
                "--ใช้ grouping sets ในการหา grand total\n",
                "--จะได้คำตอบทั้งหมด 11 แถว โดยค่าที่มี id เป็น NULL จะเป็น total\n",
                "--grouping sets ((id), ()) จะเป็นการ group by id ส่วน () จะเป็นตัวหาร grand total \n",
                "\n",
                "select id, sum(quiz1), sum(quiz2), sum(quiz3), \n",
                "    sum(coalesce(quiz1,0) + coalesce(quiz2,0) + coalesce(quiz3,0)) total \n",
                "    from student_score \n",
                "    group by grouping sets ((id), ())\n",
                "    order by id"
            ],
            "metadata": {
                "azdata_cell_guid": "557b8ccc-6f2c-4b63-9f2d-83741733caeb",
                "tags": []
            },
            "outputs": [
                {
                    "output_type": "display_data",
                    "data": {
                        "text/html": "(11 row(s) affected)"
                    },
                    "metadata": {}
                },
                {
                    "output_type": "display_data",
                    "data": {
                        "text/html": "Total execution time: 00:00:00.005"
                    },
                    "metadata": {}
                },
                {
                    "output_type": "execute_result",
                    "execution_count": 24,
                    "data": {
                        "application/vnd.dataresource+json": {
                            "schema": {
                                "fields": [
                                    {
                                        "name": "id"
                                    },
                                    {
                                        "name": "sum"
                                    },
                                    {
                                        "name": "sum"
                                    },
                                    {
                                        "name": "sum"
                                    },
                                    {
                                        "name": "total"
                                    }
                                ]
                            },
                            "data": [
                                {
                                    "0": "1",
                                    "1": "6",
                                    "2": "13",
                                    "3": "20",
                                    "4": "39"
                                },
                                {
                                    "0": "2",
                                    "1": "7",
                                    "2": "21",
                                    "3": "24",
                                    "4": "52"
                                },
                                {
                                    "0": "3",
                                    "1": "21",
                                    "2": "15",
                                    "3": "NULL",
                                    "4": "36"
                                },
                                {
                                    "0": "4",
                                    "1": "NULL",
                                    "2": "6",
                                    "3": "NULL",
                                    "4": "6"
                                },
                                {
                                    "0": "5",
                                    "1": "15",
                                    "2": "NULL",
                                    "3": "16",
                                    "4": "31"
                                },
                                {
                                    "0": "6",
                                    "1": "16",
                                    "2": "NULL",
                                    "3": "NULL",
                                    "4": "16"
                                },
                                {
                                    "0": "7",
                                    "1": "23",
                                    "2": "11",
                                    "3": "19",
                                    "4": "53"
                                },
                                {
                                    "0": "8",
                                    "1": "5",
                                    "2": "25",
                                    "3": "NULL",
                                    "4": "30"
                                },
                                {
                                    "0": "9",
                                    "1": "17",
                                    "2": "15",
                                    "3": "12",
                                    "4": "44"
                                },
                                {
                                    "0": "10",
                                    "1": "10",
                                    "2": "9",
                                    "3": "NULL",
                                    "4": "19"
                                },
                                {
                                    "0": "NULL",
                                    "1": "120",
                                    "2": "115",
                                    "3": "91",
                                    "4": "326"
                                }
                            ]
                        },
                        "text/html": "<table><tr><th>id</th><th>sum</th><th>sum</th><th>sum</th><th>total</th></tr><tr><td>1</td><td>6</td><td>13</td><td>20</td><td>39</td></tr><tr><td>2</td><td>7</td><td>21</td><td>24</td><td>52</td></tr><tr><td>3</td><td>21</td><td>15</td><td>NULL</td><td>36</td></tr><tr><td>4</td><td>NULL</td><td>6</td><td>NULL</td><td>6</td></tr><tr><td>5</td><td>15</td><td>NULL</td><td>16</td><td>31</td></tr><tr><td>6</td><td>16</td><td>NULL</td><td>NULL</td><td>16</td></tr><tr><td>7</td><td>23</td><td>11</td><td>19</td><td>53</td></tr><tr><td>8</td><td>5</td><td>25</td><td>NULL</td><td>30</td></tr><tr><td>9</td><td>17</td><td>15</td><td>12</td><td>44</td></tr><tr><td>10</td><td>10</td><td>9</td><td>NULL</td><td>19</td></tr><tr><td>NULL</td><td>120</td><td>115</td><td>91</td><td>326</td></tr></table>"
                    },
                    "metadata": {}
                }
            ],
            "execution_count": 24
        },
        {
            "cell_type": "code",
            "source": [
                "select id, sum(quiz1), sum(quiz2), sum(quiz3), \n",
                "    sum(coalesce(quiz1,0) + coalesce(quiz2,0) + coalesce(quiz3,0)) total \n",
                "    from student_score \n",
                "    group by id\n",
                "    order by id"
            ],
            "metadata": {
                "azdata_cell_guid": "c087708e-53b8-4717-8d2a-51ecccb8c9f2"
            },
            "outputs": [
                {
                    "output_type": "display_data",
                    "data": {
                        "text/html": "(10 row(s) affected)"
                    },
                    "metadata": {}
                },
                {
                    "output_type": "display_data",
                    "data": {
                        "text/html": "Total execution time: 00:00:00.009"
                    },
                    "metadata": {}
                },
                {
                    "output_type": "execute_result",
                    "execution_count": 25,
                    "data": {
                        "application/vnd.dataresource+json": {
                            "schema": {
                                "fields": [
                                    {
                                        "name": "id"
                                    },
                                    {
                                        "name": "sum"
                                    },
                                    {
                                        "name": "sum"
                                    },
                                    {
                                        "name": "sum"
                                    },
                                    {
                                        "name": "total"
                                    }
                                ]
                            },
                            "data": [
                                {
                                    "0": "1",
                                    "1": "6",
                                    "2": "13",
                                    "3": "20",
                                    "4": "39"
                                },
                                {
                                    "0": "2",
                                    "1": "7",
                                    "2": "21",
                                    "3": "24",
                                    "4": "52"
                                },
                                {
                                    "0": "3",
                                    "1": "21",
                                    "2": "15",
                                    "3": "NULL",
                                    "4": "36"
                                },
                                {
                                    "0": "4",
                                    "1": "NULL",
                                    "2": "6",
                                    "3": "NULL",
                                    "4": "6"
                                },
                                {
                                    "0": "5",
                                    "1": "15",
                                    "2": "NULL",
                                    "3": "16",
                                    "4": "31"
                                },
                                {
                                    "0": "6",
                                    "1": "16",
                                    "2": "NULL",
                                    "3": "NULL",
                                    "4": "16"
                                },
                                {
                                    "0": "7",
                                    "1": "23",
                                    "2": "11",
                                    "3": "19",
                                    "4": "53"
                                },
                                {
                                    "0": "8",
                                    "1": "5",
                                    "2": "25",
                                    "3": "NULL",
                                    "4": "30"
                                },
                                {
                                    "0": "9",
                                    "1": "17",
                                    "2": "15",
                                    "3": "12",
                                    "4": "44"
                                },
                                {
                                    "0": "10",
                                    "1": "10",
                                    "2": "9",
                                    "3": "NULL",
                                    "4": "19"
                                }
                            ]
                        },
                        "text/html": "<table><tr><th>id</th><th>sum</th><th>sum</th><th>sum</th><th>total</th></tr><tr><td>1</td><td>6</td><td>13</td><td>20</td><td>39</td></tr><tr><td>2</td><td>7</td><td>21</td><td>24</td><td>52</td></tr><tr><td>3</td><td>21</td><td>15</td><td>NULL</td><td>36</td></tr><tr><td>4</td><td>NULL</td><td>6</td><td>NULL</td><td>6</td></tr><tr><td>5</td><td>15</td><td>NULL</td><td>16</td><td>31</td></tr><tr><td>6</td><td>16</td><td>NULL</td><td>NULL</td><td>16</td></tr><tr><td>7</td><td>23</td><td>11</td><td>19</td><td>53</td></tr><tr><td>8</td><td>5</td><td>25</td><td>NULL</td><td>30</td></tr><tr><td>9</td><td>17</td><td>15</td><td>12</td><td>44</td></tr><tr><td>10</td><td>10</td><td>9</td><td>NULL</td><td>19</td></tr></table>"
                    },
                    "metadata": {}
                }
            ],
            "execution_count": 25
        },
        {
            "cell_type": "code",
            "source": [
                "select null, sum(quiz1), sum(quiz2), sum(quiz3), \n",
                "    sum(coalesce(quiz1,0) + coalesce(quiz2,0) + coalesce(quiz3,0)) total \n",
                "    from student_score "
            ],
            "metadata": {
                "azdata_cell_guid": "495121e6-a7fd-4f09-a099-5add5761aa88"
            },
            "outputs": [
                {
                    "output_type": "display_data",
                    "data": {
                        "text/html": "(1 row(s) affected)"
                    },
                    "metadata": {}
                },
                {
                    "output_type": "display_data",
                    "data": {
                        "text/html": "Total execution time: 00:00:00.013"
                    },
                    "metadata": {}
                },
                {
                    "output_type": "execute_result",
                    "metadata": {},
                    "execution_count": 6,
                    "data": {
                        "application/vnd.dataresource+json": {
                            "schema": {
                                "fields": [
                                    {
                                        "name": "Column1"
                                    },
                                    {
                                        "name": "sum"
                                    },
                                    {
                                        "name": "sum"
                                    },
                                    {
                                        "name": "sum"
                                    },
                                    {
                                        "name": "total"
                                    }
                                ]
                            },
                            "data": [
                                {
                                    "0": "NULL",
                                    "1": "120",
                                    "2": "115",
                                    "3": "91",
                                    "4": "326"
                                }
                            ]
                        },
                        "text/html": [
                            "<table>",
                            "<tr><th>Column1</th><th>sum</th><th>sum</th><th>sum</th><th>total</th></tr>",
                            "<tr><td>NULL</td><td>120</td><td>115</td><td>91</td><td>326</td></tr>",
                            "</table>"
                        ]
                    }
                }
            ],
            "execution_count": 6
        },
        {
            "cell_type": "code",
            "source": [
                "select id, sum(quiz1), sum(quiz2), sum(quiz3), \n",
                "    sum(coalesce(quiz1,0) + coalesce(quiz2,0) + coalesce(quiz3,0)) total \n",
                "    from student_score \n",
                "    group by id\n",
                "union\n",
                "select null, sum(quiz1), sum(quiz2), sum(quiz3), \n",
                "    sum(coalesce(quiz1,0) + coalesce(quiz2,0) + coalesce(quiz3,0)) total \n",
                "    from student_score \n",
                "    order by id"
            ],
            "metadata": {
                "azdata_cell_guid": "b4645f6f-48f8-4eb7-9561-b550c12b710b"
            },
            "outputs": [
                {
                    "output_type": "display_data",
                    "data": {
                        "text/html": "(11 row(s) affected)"
                    },
                    "metadata": {}
                },
                {
                    "output_type": "display_data",
                    "data": {
                        "text/html": "Total execution time: 00:00:00.011"
                    },
                    "metadata": {}
                },
                {
                    "output_type": "execute_result",
                    "metadata": {},
                    "execution_count": 7,
                    "data": {
                        "application/vnd.dataresource+json": {
                            "schema": {
                                "fields": [
                                    {
                                        "name": "id"
                                    },
                                    {
                                        "name": "sum"
                                    },
                                    {
                                        "name": "sum"
                                    },
                                    {
                                        "name": "sum"
                                    },
                                    {
                                        "name": "total"
                                    }
                                ]
                            },
                            "data": [
                                {
                                    "0": "1",
                                    "1": "6",
                                    "2": "13",
                                    "3": "20",
                                    "4": "39"
                                },
                                {
                                    "0": "2",
                                    "1": "7",
                                    "2": "21",
                                    "3": "24",
                                    "4": "52"
                                },
                                {
                                    "0": "3",
                                    "1": "21",
                                    "2": "15",
                                    "3": "NULL",
                                    "4": "36"
                                },
                                {
                                    "0": "4",
                                    "1": "NULL",
                                    "2": "6",
                                    "3": "NULL",
                                    "4": "6"
                                },
                                {
                                    "0": "5",
                                    "1": "15",
                                    "2": "NULL",
                                    "3": "16",
                                    "4": "31"
                                },
                                {
                                    "0": "6",
                                    "1": "16",
                                    "2": "NULL",
                                    "3": "NULL",
                                    "4": "16"
                                },
                                {
                                    "0": "7",
                                    "1": "23",
                                    "2": "11",
                                    "3": "19",
                                    "4": "53"
                                },
                                {
                                    "0": "8",
                                    "1": "5",
                                    "2": "25",
                                    "3": "NULL",
                                    "4": "30"
                                },
                                {
                                    "0": "9",
                                    "1": "17",
                                    "2": "15",
                                    "3": "12",
                                    "4": "44"
                                },
                                {
                                    "0": "10",
                                    "1": "10",
                                    "2": "9",
                                    "3": "NULL",
                                    "4": "19"
                                },
                                {
                                    "0": "NULL",
                                    "1": "120",
                                    "2": "115",
                                    "3": "91",
                                    "4": "326"
                                }
                            ]
                        },
                        "text/html": [
                            "<table>",
                            "<tr><th>id</th><th>sum</th><th>sum</th><th>sum</th><th>total</th></tr>",
                            "<tr><td>1</td><td>6</td><td>13</td><td>20</td><td>39</td></tr>",
                            "<tr><td>2</td><td>7</td><td>21</td><td>24</td><td>52</td></tr>",
                            "<tr><td>3</td><td>21</td><td>15</td><td>NULL</td><td>36</td></tr>",
                            "<tr><td>4</td><td>NULL</td><td>6</td><td>NULL</td><td>6</td></tr>",
                            "<tr><td>5</td><td>15</td><td>NULL</td><td>16</td><td>31</td></tr>",
                            "<tr><td>6</td><td>16</td><td>NULL</td><td>NULL</td><td>16</td></tr>",
                            "<tr><td>7</td><td>23</td><td>11</td><td>19</td><td>53</td></tr>",
                            "<tr><td>8</td><td>5</td><td>25</td><td>NULL</td><td>30</td></tr>",
                            "<tr><td>9</td><td>17</td><td>15</td><td>12</td><td>44</td></tr>",
                            "<tr><td>10</td><td>10</td><td>9</td><td>NULL</td><td>19</td></tr>",
                            "<tr><td>NULL</td><td>120</td><td>115</td><td>91</td><td>326</td></tr>",
                            "</table>"
                        ]
                    }
                }
            ],
            "execution_count": 7
        }
    ]
}