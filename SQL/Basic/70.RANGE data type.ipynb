{
    "metadata": {
        "kernelspec": {
            "name": "SQL",
            "display_name": "SQL",
            "language": "sql"
        },
        "language_info": {
            "name": "sql",
            "version": ""
        }
    },
    "nbformat_minor": 2,
    "nbformat": 4,
    "cells": [
        {
            "cell_type": "markdown",
            "source": [
                "# ประยุกต์ใช้ RANGE data type ในการตัดเกรด"
            ],
            "metadata": {
                "azdata_cell_guid": "eac03706-ffaa-47f3-b8db-41e404e622c9"
            }
        },
        {
            "cell_type": "markdown",
            "source": [
                "## built-in range types\r\n",
                "### discrete range types\r\n",
                "1. int4range — Range of integer\r\n",
                "1. int8range — Range of bigint\r\n",
                "1. daterange — Range of date\r\n",
                "\r\n",
                "### continuous range types\r\n",
                "1. numrange — Range of numeric\r\n",
                "1. tsrange — Range of timestamp without time zone\r\n",
                "1. tstzrange — Range of timestamp with time zone"
            ],
            "metadata": {
                "azdata_cell_guid": "d4857825-1978-4b6c-8dcc-365a0a829919"
            }
        },
        {
            "cell_type": "code",
            "source": [
                "drop table if exists student;\r\n",
                "\r\n",
                "create table student (\r\n",
                "    student_id int,\r\n",
                "    score numeric(5, 2)\r\n",
                ");"
            ],
            "metadata": {
                "azdata_cell_guid": "2e591f0f-4c15-4fa1-983e-1fe6dc25d81d"
            },
            "outputs": [
                {
                    "output_type": "display_data",
                    "data": {
                        "text/html": "Commands completed successfully"
                    },
                    "metadata": {}
                },
                {
                    "output_type": "display_data",
                    "data": {
                        "text/html": "Commands completed successfully"
                    },
                    "metadata": {}
                },
                {
                    "output_type": "display_data",
                    "data": {
                        "text/html": "Total execution time: 00:00:00.396"
                    },
                    "metadata": {}
                }
            ],
            "execution_count": 1
        },
        {
            "cell_type": "code",
            "source": [
                "select random()"
            ],
            "metadata": {
                "azdata_cell_guid": "252b7916-ef2d-45d8-bb8a-9135732fe0e3"
            },
            "outputs": [
                {
                    "output_type": "display_data",
                    "data": {
                        "text/html": "(1 row(s) affected)"
                    },
                    "metadata": {}
                },
                {
                    "output_type": "display_data",
                    "data": {
                        "text/html": "Total execution time: 00:00:00.074"
                    },
                    "metadata": {}
                },
                {
                    "output_type": "execute_result",
                    "metadata": {},
                    "execution_count": 2,
                    "data": {
                        "application/vnd.dataresource+json": {
                            "schema": {
                                "fields": [
                                    {
                                        "name": "random"
                                    }
                                ]
                            },
                            "data": [
                                {
                                    "0": "0.20822250546620324"
                                }
                            ]
                        },
                        "text/html": [
                            "<table>",
                            "<tr><th>random</th></tr>",
                            "<tr><td>0.20822250546620324</td></tr>",
                            "</table>"
                        ]
                    }
                }
            ],
            "execution_count": 2
        },
        {
            "cell_type": "code",
            "source": [
                "select student_id,\r\n",
                "    (random() * 60 + 40)::numeric(5, 2) score -- ให้คะแนนตำสุด 40\r\n",
                "from generate_series(1, 50) student_id"
            ],
            "metadata": {
                "azdata_cell_guid": "34320592-e51a-4284-9829-0ba2e7b4d52b"
            },
            "outputs": [
                {
                    "output_type": "display_data",
                    "data": {
                        "text/html": "(50 row(s) affected)"
                    },
                    "metadata": {}
                },
                {
                    "output_type": "display_data",
                    "data": {
                        "text/html": "Total execution time: 00:00:00.106"
                    },
                    "metadata": {}
                },
                {
                    "output_type": "execute_result",
                    "metadata": {},
                    "execution_count": 3,
                    "data": {
                        "application/vnd.dataresource+json": {
                            "schema": {
                                "fields": [
                                    {
                                        "name": "student_id"
                                    },
                                    {
                                        "name": "score"
                                    }
                                ]
                            },
                            "data": [
                                {
                                    "0": "1",
                                    "1": "81.24"
                                },
                                {
                                    "0": "2",
                                    "1": "44.52"
                                },
                                {
                                    "0": "3",
                                    "1": "97.81"
                                },
                                {
                                    "0": "4",
                                    "1": "44.04"
                                },
                                {
                                    "0": "5",
                                    "1": "51.18"
                                },
                                {
                                    "0": "6",
                                    "1": "51.66"
                                },
                                {
                                    "0": "7",
                                    "1": "93.25"
                                },
                                {
                                    "0": "8",
                                    "1": "82.24"
                                },
                                {
                                    "0": "9",
                                    "1": "75.70"
                                },
                                {
                                    "0": "10",
                                    "1": "64.73"
                                },
                                {
                                    "0": "11",
                                    "1": "88.73"
                                },
                                {
                                    "0": "12",
                                    "1": "43.13"
                                },
                                {
                                    "0": "13",
                                    "1": "51.19"
                                },
                                {
                                    "0": "14",
                                    "1": "76.76"
                                },
                                {
                                    "0": "15",
                                    "1": "54.94"
                                },
                                {
                                    "0": "16",
                                    "1": "72.81"
                                },
                                {
                                    "0": "17",
                                    "1": "49.67"
                                },
                                {
                                    "0": "18",
                                    "1": "95.49"
                                },
                                {
                                    "0": "19",
                                    "1": "58.01"
                                },
                                {
                                    "0": "20",
                                    "1": "59.95"
                                },
                                {
                                    "0": "21",
                                    "1": "49.32"
                                },
                                {
                                    "0": "22",
                                    "1": "81.28"
                                },
                                {
                                    "0": "23",
                                    "1": "83.67"
                                },
                                {
                                    "0": "24",
                                    "1": "93.24"
                                },
                                {
                                    "0": "25",
                                    "1": "75.06"
                                },
                                {
                                    "0": "26",
                                    "1": "99.93"
                                },
                                {
                                    "0": "27",
                                    "1": "77.61"
                                },
                                {
                                    "0": "28",
                                    "1": "73.71"
                                },
                                {
                                    "0": "29",
                                    "1": "86.77"
                                },
                                {
                                    "0": "30",
                                    "1": "79.23"
                                },
                                {
                                    "0": "31",
                                    "1": "75.51"
                                },
                                {
                                    "0": "32",
                                    "1": "61.90"
                                },
                                {
                                    "0": "33",
                                    "1": "97.34"
                                },
                                {
                                    "0": "34",
                                    "1": "93.55"
                                },
                                {
                                    "0": "35",
                                    "1": "73.50"
                                },
                                {
                                    "0": "36",
                                    "1": "99.79"
                                },
                                {
                                    "0": "37",
                                    "1": "58.10"
                                },
                                {
                                    "0": "38",
                                    "1": "87.63"
                                },
                                {
                                    "0": "39",
                                    "1": "82.51"
                                },
                                {
                                    "0": "40",
                                    "1": "88.65"
                                },
                                {
                                    "0": "41",
                                    "1": "66.04"
                                },
                                {
                                    "0": "42",
                                    "1": "59.55"
                                },
                                {
                                    "0": "43",
                                    "1": "89.03"
                                },
                                {
                                    "0": "44",
                                    "1": "79.11"
                                },
                                {
                                    "0": "45",
                                    "1": "48.29"
                                },
                                {
                                    "0": "46",
                                    "1": "84.12"
                                },
                                {
                                    "0": "47",
                                    "1": "85.97"
                                },
                                {
                                    "0": "48",
                                    "1": "70.60"
                                },
                                {
                                    "0": "49",
                                    "1": "79.89"
                                },
                                {
                                    "0": "50",
                                    "1": "57.79"
                                }
                            ]
                        },
                        "text/html": [
                            "<table>",
                            "<tr><th>student_id</th><th>score</th></tr>",
                            "<tr><td>1</td><td>81.24</td></tr>",
                            "<tr><td>2</td><td>44.52</td></tr>",
                            "<tr><td>3</td><td>97.81</td></tr>",
                            "<tr><td>4</td><td>44.04</td></tr>",
                            "<tr><td>5</td><td>51.18</td></tr>",
                            "<tr><td>6</td><td>51.66</td></tr>",
                            "<tr><td>7</td><td>93.25</td></tr>",
                            "<tr><td>8</td><td>82.24</td></tr>",
                            "<tr><td>9</td><td>75.70</td></tr>",
                            "<tr><td>10</td><td>64.73</td></tr>",
                            "<tr><td>11</td><td>88.73</td></tr>",
                            "<tr><td>12</td><td>43.13</td></tr>",
                            "<tr><td>13</td><td>51.19</td></tr>",
                            "<tr><td>14</td><td>76.76</td></tr>",
                            "<tr><td>15</td><td>54.94</td></tr>",
                            "<tr><td>16</td><td>72.81</td></tr>",
                            "<tr><td>17</td><td>49.67</td></tr>",
                            "<tr><td>18</td><td>95.49</td></tr>",
                            "<tr><td>19</td><td>58.01</td></tr>",
                            "<tr><td>20</td><td>59.95</td></tr>",
                            "<tr><td>21</td><td>49.32</td></tr>",
                            "<tr><td>22</td><td>81.28</td></tr>",
                            "<tr><td>23</td><td>83.67</td></tr>",
                            "<tr><td>24</td><td>93.24</td></tr>",
                            "<tr><td>25</td><td>75.06</td></tr>",
                            "<tr><td>26</td><td>99.93</td></tr>",
                            "<tr><td>27</td><td>77.61</td></tr>",
                            "<tr><td>28</td><td>73.71</td></tr>",
                            "<tr><td>29</td><td>86.77</td></tr>",
                            "<tr><td>30</td><td>79.23</td></tr>",
                            "<tr><td>31</td><td>75.51</td></tr>",
                            "<tr><td>32</td><td>61.90</td></tr>",
                            "<tr><td>33</td><td>97.34</td></tr>",
                            "<tr><td>34</td><td>93.55</td></tr>",
                            "<tr><td>35</td><td>73.50</td></tr>",
                            "<tr><td>36</td><td>99.79</td></tr>",
                            "<tr><td>37</td><td>58.10</td></tr>",
                            "<tr><td>38</td><td>87.63</td></tr>",
                            "<tr><td>39</td><td>82.51</td></tr>",
                            "<tr><td>40</td><td>88.65</td></tr>",
                            "<tr><td>41</td><td>66.04</td></tr>",
                            "<tr><td>42</td><td>59.55</td></tr>",
                            "<tr><td>43</td><td>89.03</td></tr>",
                            "<tr><td>44</td><td>79.11</td></tr>",
                            "<tr><td>45</td><td>48.29</td></tr>",
                            "<tr><td>46</td><td>84.12</td></tr>",
                            "<tr><td>47</td><td>85.97</td></tr>",
                            "<tr><td>48</td><td>70.60</td></tr>",
                            "<tr><td>49</td><td>79.89</td></tr>",
                            "<tr><td>50</td><td>57.79</td></tr>",
                            "</table>"
                        ]
                    }
                }
            ],
            "execution_count": 3
        },
        {
            "cell_type": "code",
            "source": [
                "insert into student\r\n",
                "    select student_id,\r\n",
                "    (random() * 60 + 40)::numeric(5, 2) score -- ให้คะแนนตำสุด 40\r\n",
                "    from generate_series(1, 50) student_id"
            ],
            "metadata": {
                "azdata_cell_guid": "78ca94e7-5190-40be-ae21-c2ba09ec86d3"
            },
            "outputs": [
                {
                    "output_type": "display_data",
                    "data": {
                        "text/html": "Commands completed successfully"
                    },
                    "metadata": {}
                },
                {
                    "output_type": "display_data",
                    "data": {
                        "text/html": "Total execution time: 00:00:00.040"
                    },
                    "metadata": {}
                }
            ],
            "execution_count": 4
        },
        {
            "cell_type": "code",
            "source": [
                "select * from student"
            ],
            "metadata": {
                "azdata_cell_guid": "57abf98e-46a1-4803-b4bf-f7ee755a203b"
            },
            "outputs": [
                {
                    "output_type": "display_data",
                    "data": {
                        "text/html": "(50 row(s) affected)"
                    },
                    "metadata": {}
                },
                {
                    "output_type": "display_data",
                    "data": {
                        "text/html": "Total execution time: 00:00:00.009"
                    },
                    "metadata": {}
                },
                {
                    "output_type": "execute_result",
                    "metadata": {},
                    "execution_count": 5,
                    "data": {
                        "application/vnd.dataresource+json": {
                            "schema": {
                                "fields": [
                                    {
                                        "name": "student_id"
                                    },
                                    {
                                        "name": "score"
                                    }
                                ]
                            },
                            "data": [
                                {
                                    "0": "1",
                                    "1": "50.87"
                                },
                                {
                                    "0": "2",
                                    "1": "89.72"
                                },
                                {
                                    "0": "3",
                                    "1": "87.69"
                                },
                                {
                                    "0": "4",
                                    "1": "42.87"
                                },
                                {
                                    "0": "5",
                                    "1": "40.37"
                                },
                                {
                                    "0": "6",
                                    "1": "53.33"
                                },
                                {
                                    "0": "7",
                                    "1": "85.48"
                                },
                                {
                                    "0": "8",
                                    "1": "65.60"
                                },
                                {
                                    "0": "9",
                                    "1": "68.57"
                                },
                                {
                                    "0": "10",
                                    "1": "41.41"
                                },
                                {
                                    "0": "11",
                                    "1": "86.05"
                                },
                                {
                                    "0": "12",
                                    "1": "43.49"
                                },
                                {
                                    "0": "13",
                                    "1": "58.03"
                                },
                                {
                                    "0": "14",
                                    "1": "80.09"
                                },
                                {
                                    "0": "15",
                                    "1": "46.10"
                                },
                                {
                                    "0": "16",
                                    "1": "43.49"
                                },
                                {
                                    "0": "17",
                                    "1": "84.31"
                                },
                                {
                                    "0": "18",
                                    "1": "77.91"
                                },
                                {
                                    "0": "19",
                                    "1": "48.57"
                                },
                                {
                                    "0": "20",
                                    "1": "54.29"
                                },
                                {
                                    "0": "21",
                                    "1": "82.36"
                                },
                                {
                                    "0": "22",
                                    "1": "83.97"
                                },
                                {
                                    "0": "23",
                                    "1": "79.29"
                                },
                                {
                                    "0": "24",
                                    "1": "71.87"
                                },
                                {
                                    "0": "25",
                                    "1": "74.04"
                                },
                                {
                                    "0": "26",
                                    "1": "87.46"
                                },
                                {
                                    "0": "27",
                                    "1": "74.03"
                                },
                                {
                                    "0": "28",
                                    "1": "84.11"
                                },
                                {
                                    "0": "29",
                                    "1": "44.21"
                                },
                                {
                                    "0": "30",
                                    "1": "52.10"
                                },
                                {
                                    "0": "31",
                                    "1": "47.55"
                                },
                                {
                                    "0": "32",
                                    "1": "73.10"
                                },
                                {
                                    "0": "33",
                                    "1": "45.52"
                                },
                                {
                                    "0": "34",
                                    "1": "49.90"
                                },
                                {
                                    "0": "35",
                                    "1": "45.45"
                                },
                                {
                                    "0": "36",
                                    "1": "77.18"
                                },
                                {
                                    "0": "37",
                                    "1": "92.68"
                                },
                                {
                                    "0": "38",
                                    "1": "67.41"
                                },
                                {
                                    "0": "39",
                                    "1": "77.72"
                                },
                                {
                                    "0": "40",
                                    "1": "59.95"
                                },
                                {
                                    "0": "41",
                                    "1": "42.39"
                                },
                                {
                                    "0": "42",
                                    "1": "68.13"
                                },
                                {
                                    "0": "43",
                                    "1": "49.27"
                                },
                                {
                                    "0": "44",
                                    "1": "52.32"
                                },
                                {
                                    "0": "45",
                                    "1": "57.00"
                                },
                                {
                                    "0": "46",
                                    "1": "51.07"
                                },
                                {
                                    "0": "47",
                                    "1": "99.06"
                                },
                                {
                                    "0": "48",
                                    "1": "54.01"
                                },
                                {
                                    "0": "49",
                                    "1": "46.24"
                                },
                                {
                                    "0": "50",
                                    "1": "43.37"
                                }
                            ]
                        },
                        "text/html": [
                            "<table>",
                            "<tr><th>student_id</th><th>score</th></tr>",
                            "<tr><td>1</td><td>50.87</td></tr>",
                            "<tr><td>2</td><td>89.72</td></tr>",
                            "<tr><td>3</td><td>87.69</td></tr>",
                            "<tr><td>4</td><td>42.87</td></tr>",
                            "<tr><td>5</td><td>40.37</td></tr>",
                            "<tr><td>6</td><td>53.33</td></tr>",
                            "<tr><td>7</td><td>85.48</td></tr>",
                            "<tr><td>8</td><td>65.60</td></tr>",
                            "<tr><td>9</td><td>68.57</td></tr>",
                            "<tr><td>10</td><td>41.41</td></tr>",
                            "<tr><td>11</td><td>86.05</td></tr>",
                            "<tr><td>12</td><td>43.49</td></tr>",
                            "<tr><td>13</td><td>58.03</td></tr>",
                            "<tr><td>14</td><td>80.09</td></tr>",
                            "<tr><td>15</td><td>46.10</td></tr>",
                            "<tr><td>16</td><td>43.49</td></tr>",
                            "<tr><td>17</td><td>84.31</td></tr>",
                            "<tr><td>18</td><td>77.91</td></tr>",
                            "<tr><td>19</td><td>48.57</td></tr>",
                            "<tr><td>20</td><td>54.29</td></tr>",
                            "<tr><td>21</td><td>82.36</td></tr>",
                            "<tr><td>22</td><td>83.97</td></tr>",
                            "<tr><td>23</td><td>79.29</td></tr>",
                            "<tr><td>24</td><td>71.87</td></tr>",
                            "<tr><td>25</td><td>74.04</td></tr>",
                            "<tr><td>26</td><td>87.46</td></tr>",
                            "<tr><td>27</td><td>74.03</td></tr>",
                            "<tr><td>28</td><td>84.11</td></tr>",
                            "<tr><td>29</td><td>44.21</td></tr>",
                            "<tr><td>30</td><td>52.10</td></tr>",
                            "<tr><td>31</td><td>47.55</td></tr>",
                            "<tr><td>32</td><td>73.10</td></tr>",
                            "<tr><td>33</td><td>45.52</td></tr>",
                            "<tr><td>34</td><td>49.90</td></tr>",
                            "<tr><td>35</td><td>45.45</td></tr>",
                            "<tr><td>36</td><td>77.18</td></tr>",
                            "<tr><td>37</td><td>92.68</td></tr>",
                            "<tr><td>38</td><td>67.41</td></tr>",
                            "<tr><td>39</td><td>77.72</td></tr>",
                            "<tr><td>40</td><td>59.95</td></tr>",
                            "<tr><td>41</td><td>42.39</td></tr>",
                            "<tr><td>42</td><td>68.13</td></tr>",
                            "<tr><td>43</td><td>49.27</td></tr>",
                            "<tr><td>44</td><td>52.32</td></tr>",
                            "<tr><td>45</td><td>57.00</td></tr>",
                            "<tr><td>46</td><td>51.07</td></tr>",
                            "<tr><td>47</td><td>99.06</td></tr>",
                            "<tr><td>48</td><td>54.01</td></tr>",
                            "<tr><td>49</td><td>46.24</td></tr>",
                            "<tr><td>50</td><td>43.37</td></tr>",
                            "</table>"
                        ]
                    }
                }
            ],
            "execution_count": 5
        },
        {
            "cell_type": "code",
            "source": [
                "select student_id, score, \r\n",
                "    case \r\n",
                "        when score between 85 and 100 then 'A' --ตั้งแต่ (between)\r\n",
                "        when score between 70 and 84.999 then 'B'\r\n",
                "        when score between 60 and 69.999 then 'C'\r\n",
                "        when score between 50 and 59.999 then 'D'\r\n",
                "        else 'F'\r\n",
                "    end grade\r\n",
                "    from student"
            ],
            "metadata": {
                "azdata_cell_guid": "5b8eb668-f75e-4a62-abba-1f045d775f61"
            },
            "outputs": [
                {
                    "output_type": "display_data",
                    "data": {
                        "text/html": "(50 row(s) affected)"
                    },
                    "metadata": {}
                },
                {
                    "output_type": "display_data",
                    "data": {
                        "text/html": "Total execution time: 00:00:00.010"
                    },
                    "metadata": {}
                },
                {
                    "output_type": "execute_result",
                    "metadata": {},
                    "execution_count": 6,
                    "data": {
                        "application/vnd.dataresource+json": {
                            "schema": {
                                "fields": [
                                    {
                                        "name": "student_id"
                                    },
                                    {
                                        "name": "score"
                                    },
                                    {
                                        "name": "grade"
                                    }
                                ]
                            },
                            "data": [
                                {
                                    "0": "1",
                                    "1": "50.87",
                                    "2": "D"
                                },
                                {
                                    "0": "2",
                                    "1": "89.72",
                                    "2": "A"
                                },
                                {
                                    "0": "3",
                                    "1": "87.69",
                                    "2": "A"
                                },
                                {
                                    "0": "4",
                                    "1": "42.87",
                                    "2": "F"
                                },
                                {
                                    "0": "5",
                                    "1": "40.37",
                                    "2": "F"
                                },
                                {
                                    "0": "6",
                                    "1": "53.33",
                                    "2": "D"
                                },
                                {
                                    "0": "7",
                                    "1": "85.48",
                                    "2": "A"
                                },
                                {
                                    "0": "8",
                                    "1": "65.60",
                                    "2": "C"
                                },
                                {
                                    "0": "9",
                                    "1": "68.57",
                                    "2": "C"
                                },
                                {
                                    "0": "10",
                                    "1": "41.41",
                                    "2": "F"
                                },
                                {
                                    "0": "11",
                                    "1": "86.05",
                                    "2": "A"
                                },
                                {
                                    "0": "12",
                                    "1": "43.49",
                                    "2": "F"
                                },
                                {
                                    "0": "13",
                                    "1": "58.03",
                                    "2": "D"
                                },
                                {
                                    "0": "14",
                                    "1": "80.09",
                                    "2": "B"
                                },
                                {
                                    "0": "15",
                                    "1": "46.10",
                                    "2": "F"
                                },
                                {
                                    "0": "16",
                                    "1": "43.49",
                                    "2": "F"
                                },
                                {
                                    "0": "17",
                                    "1": "84.31",
                                    "2": "B"
                                },
                                {
                                    "0": "18",
                                    "1": "77.91",
                                    "2": "B"
                                },
                                {
                                    "0": "19",
                                    "1": "48.57",
                                    "2": "F"
                                },
                                {
                                    "0": "20",
                                    "1": "54.29",
                                    "2": "D"
                                },
                                {
                                    "0": "21",
                                    "1": "82.36",
                                    "2": "B"
                                },
                                {
                                    "0": "22",
                                    "1": "83.97",
                                    "2": "B"
                                },
                                {
                                    "0": "23",
                                    "1": "79.29",
                                    "2": "B"
                                },
                                {
                                    "0": "24",
                                    "1": "71.87",
                                    "2": "B"
                                },
                                {
                                    "0": "25",
                                    "1": "74.04",
                                    "2": "B"
                                },
                                {
                                    "0": "26",
                                    "1": "87.46",
                                    "2": "A"
                                },
                                {
                                    "0": "27",
                                    "1": "74.03",
                                    "2": "B"
                                },
                                {
                                    "0": "28",
                                    "1": "84.11",
                                    "2": "B"
                                },
                                {
                                    "0": "29",
                                    "1": "44.21",
                                    "2": "F"
                                },
                                {
                                    "0": "30",
                                    "1": "52.10",
                                    "2": "D"
                                },
                                {
                                    "0": "31",
                                    "1": "47.55",
                                    "2": "F"
                                },
                                {
                                    "0": "32",
                                    "1": "73.10",
                                    "2": "B"
                                },
                                {
                                    "0": "33",
                                    "1": "45.52",
                                    "2": "F"
                                },
                                {
                                    "0": "34",
                                    "1": "49.90",
                                    "2": "F"
                                },
                                {
                                    "0": "35",
                                    "1": "45.45",
                                    "2": "F"
                                },
                                {
                                    "0": "36",
                                    "1": "77.18",
                                    "2": "B"
                                },
                                {
                                    "0": "37",
                                    "1": "92.68",
                                    "2": "A"
                                },
                                {
                                    "0": "38",
                                    "1": "67.41",
                                    "2": "C"
                                },
                                {
                                    "0": "39",
                                    "1": "77.72",
                                    "2": "B"
                                },
                                {
                                    "0": "40",
                                    "1": "59.95",
                                    "2": "D"
                                },
                                {
                                    "0": "41",
                                    "1": "42.39",
                                    "2": "F"
                                },
                                {
                                    "0": "42",
                                    "1": "68.13",
                                    "2": "C"
                                },
                                {
                                    "0": "43",
                                    "1": "49.27",
                                    "2": "F"
                                },
                                {
                                    "0": "44",
                                    "1": "52.32",
                                    "2": "D"
                                },
                                {
                                    "0": "45",
                                    "1": "57.00",
                                    "2": "D"
                                },
                                {
                                    "0": "46",
                                    "1": "51.07",
                                    "2": "D"
                                },
                                {
                                    "0": "47",
                                    "1": "99.06",
                                    "2": "A"
                                },
                                {
                                    "0": "48",
                                    "1": "54.01",
                                    "2": "D"
                                },
                                {
                                    "0": "49",
                                    "1": "46.24",
                                    "2": "F"
                                },
                                {
                                    "0": "50",
                                    "1": "43.37",
                                    "2": "F"
                                }
                            ]
                        },
                        "text/html": [
                            "<table>",
                            "<tr><th>student_id</th><th>score</th><th>grade</th></tr>",
                            "<tr><td>1</td><td>50.87</td><td>D</td></tr>",
                            "<tr><td>2</td><td>89.72</td><td>A</td></tr>",
                            "<tr><td>3</td><td>87.69</td><td>A</td></tr>",
                            "<tr><td>4</td><td>42.87</td><td>F</td></tr>",
                            "<tr><td>5</td><td>40.37</td><td>F</td></tr>",
                            "<tr><td>6</td><td>53.33</td><td>D</td></tr>",
                            "<tr><td>7</td><td>85.48</td><td>A</td></tr>",
                            "<tr><td>8</td><td>65.60</td><td>C</td></tr>",
                            "<tr><td>9</td><td>68.57</td><td>C</td></tr>",
                            "<tr><td>10</td><td>41.41</td><td>F</td></tr>",
                            "<tr><td>11</td><td>86.05</td><td>A</td></tr>",
                            "<tr><td>12</td><td>43.49</td><td>F</td></tr>",
                            "<tr><td>13</td><td>58.03</td><td>D</td></tr>",
                            "<tr><td>14</td><td>80.09</td><td>B</td></tr>",
                            "<tr><td>15</td><td>46.10</td><td>F</td></tr>",
                            "<tr><td>16</td><td>43.49</td><td>F</td></tr>",
                            "<tr><td>17</td><td>84.31</td><td>B</td></tr>",
                            "<tr><td>18</td><td>77.91</td><td>B</td></tr>",
                            "<tr><td>19</td><td>48.57</td><td>F</td></tr>",
                            "<tr><td>20</td><td>54.29</td><td>D</td></tr>",
                            "<tr><td>21</td><td>82.36</td><td>B</td></tr>",
                            "<tr><td>22</td><td>83.97</td><td>B</td></tr>",
                            "<tr><td>23</td><td>79.29</td><td>B</td></tr>",
                            "<tr><td>24</td><td>71.87</td><td>B</td></tr>",
                            "<tr><td>25</td><td>74.04</td><td>B</td></tr>",
                            "<tr><td>26</td><td>87.46</td><td>A</td></tr>",
                            "<tr><td>27</td><td>74.03</td><td>B</td></tr>",
                            "<tr><td>28</td><td>84.11</td><td>B</td></tr>",
                            "<tr><td>29</td><td>44.21</td><td>F</td></tr>",
                            "<tr><td>30</td><td>52.10</td><td>D</td></tr>",
                            "<tr><td>31</td><td>47.55</td><td>F</td></tr>",
                            "<tr><td>32</td><td>73.10</td><td>B</td></tr>",
                            "<tr><td>33</td><td>45.52</td><td>F</td></tr>",
                            "<tr><td>34</td><td>49.90</td><td>F</td></tr>",
                            "<tr><td>35</td><td>45.45</td><td>F</td></tr>",
                            "<tr><td>36</td><td>77.18</td><td>B</td></tr>",
                            "<tr><td>37</td><td>92.68</td><td>A</td></tr>",
                            "<tr><td>38</td><td>67.41</td><td>C</td></tr>",
                            "<tr><td>39</td><td>77.72</td><td>B</td></tr>",
                            "<tr><td>40</td><td>59.95</td><td>D</td></tr>",
                            "<tr><td>41</td><td>42.39</td><td>F</td></tr>",
                            "<tr><td>42</td><td>68.13</td><td>C</td></tr>",
                            "<tr><td>43</td><td>49.27</td><td>F</td></tr>",
                            "<tr><td>44</td><td>52.32</td><td>D</td></tr>",
                            "<tr><td>45</td><td>57.00</td><td>D</td></tr>",
                            "<tr><td>46</td><td>51.07</td><td>D</td></tr>",
                            "<tr><td>47</td><td>99.06</td><td>A</td></tr>",
                            "<tr><td>48</td><td>54.01</td><td>D</td></tr>",
                            "<tr><td>49</td><td>46.24</td><td>F</td></tr>",
                            "<tr><td>50</td><td>43.37</td><td>F</td></tr>",
                            "</table>"
                        ]
                    }
                }
            ],
            "execution_count": 6
        },
        {
            "cell_type": "code",
            "source": [
                "-- numrange\r\n",
                "select student_id, score, \r\n",
                "    case \r\n",
                "        when '[85,100]'::numrange @> score then 'A'--(80 <= score < 100 ) score --score between 85 and 100 then 'A' --ตั้งแต่ (between)\r\n",
                "        when '[70,85)'::numrange @> score then 'B' --(70 <= score < 85 ) score  -- between 70 and 84.999 then 'B'\r\n",
                "        when '[60,70)'::numrange @> score then 'C' --(60 <= score < 70 ) score  -- score between 60 and 69.999 then 'C'\r\n",
                "        when '[50,60)'::numrange @> score then 'D' --(50 <= score < 60 ) score  --score between 50 and 59.999 then 'D'\r\n",
                "        else 'F' \r\n",
                "    end grade\r\n",
                "    from student"
            ],
            "metadata": {
                "azdata_cell_guid": "b6f88674-8def-48db-ade1-7b94f74d835e",
                "tags": []
            },
            "outputs": [
                {
                    "output_type": "display_data",
                    "data": {
                        "text/html": "(50 row(s) affected)"
                    },
                    "metadata": {}
                },
                {
                    "output_type": "display_data",
                    "data": {
                        "text/html": "Total execution time: 00:00:00.101"
                    },
                    "metadata": {}
                },
                {
                    "output_type": "execute_result",
                    "metadata": {},
                    "execution_count": 7,
                    "data": {
                        "application/vnd.dataresource+json": {
                            "schema": {
                                "fields": [
                                    {
                                        "name": "student_id"
                                    },
                                    {
                                        "name": "score"
                                    },
                                    {
                                        "name": "grade"
                                    }
                                ]
                            },
                            "data": [
                                {
                                    "0": "1",
                                    "1": "50.87",
                                    "2": "D"
                                },
                                {
                                    "0": "2",
                                    "1": "89.72",
                                    "2": "A"
                                },
                                {
                                    "0": "3",
                                    "1": "87.69",
                                    "2": "A"
                                },
                                {
                                    "0": "4",
                                    "1": "42.87",
                                    "2": "F"
                                },
                                {
                                    "0": "5",
                                    "1": "40.37",
                                    "2": "F"
                                },
                                {
                                    "0": "6",
                                    "1": "53.33",
                                    "2": "D"
                                },
                                {
                                    "0": "7",
                                    "1": "85.48",
                                    "2": "A"
                                },
                                {
                                    "0": "8",
                                    "1": "65.60",
                                    "2": "C"
                                },
                                {
                                    "0": "9",
                                    "1": "68.57",
                                    "2": "C"
                                },
                                {
                                    "0": "10",
                                    "1": "41.41",
                                    "2": "F"
                                },
                                {
                                    "0": "11",
                                    "1": "86.05",
                                    "2": "A"
                                },
                                {
                                    "0": "12",
                                    "1": "43.49",
                                    "2": "F"
                                },
                                {
                                    "0": "13",
                                    "1": "58.03",
                                    "2": "D"
                                },
                                {
                                    "0": "14",
                                    "1": "80.09",
                                    "2": "B"
                                },
                                {
                                    "0": "15",
                                    "1": "46.10",
                                    "2": "F"
                                },
                                {
                                    "0": "16",
                                    "1": "43.49",
                                    "2": "F"
                                },
                                {
                                    "0": "17",
                                    "1": "84.31",
                                    "2": "B"
                                },
                                {
                                    "0": "18",
                                    "1": "77.91",
                                    "2": "B"
                                },
                                {
                                    "0": "19",
                                    "1": "48.57",
                                    "2": "F"
                                },
                                {
                                    "0": "20",
                                    "1": "54.29",
                                    "2": "D"
                                },
                                {
                                    "0": "21",
                                    "1": "82.36",
                                    "2": "B"
                                },
                                {
                                    "0": "22",
                                    "1": "83.97",
                                    "2": "B"
                                },
                                {
                                    "0": "23",
                                    "1": "79.29",
                                    "2": "B"
                                },
                                {
                                    "0": "24",
                                    "1": "71.87",
                                    "2": "B"
                                },
                                {
                                    "0": "25",
                                    "1": "74.04",
                                    "2": "B"
                                },
                                {
                                    "0": "26",
                                    "1": "87.46",
                                    "2": "A"
                                },
                                {
                                    "0": "27",
                                    "1": "74.03",
                                    "2": "B"
                                },
                                {
                                    "0": "28",
                                    "1": "84.11",
                                    "2": "B"
                                },
                                {
                                    "0": "29",
                                    "1": "44.21",
                                    "2": "F"
                                },
                                {
                                    "0": "30",
                                    "1": "52.10",
                                    "2": "D"
                                },
                                {
                                    "0": "31",
                                    "1": "47.55",
                                    "2": "F"
                                },
                                {
                                    "0": "32",
                                    "1": "73.10",
                                    "2": "B"
                                },
                                {
                                    "0": "33",
                                    "1": "45.52",
                                    "2": "F"
                                },
                                {
                                    "0": "34",
                                    "1": "49.90",
                                    "2": "F"
                                },
                                {
                                    "0": "35",
                                    "1": "45.45",
                                    "2": "F"
                                },
                                {
                                    "0": "36",
                                    "1": "77.18",
                                    "2": "B"
                                },
                                {
                                    "0": "37",
                                    "1": "92.68",
                                    "2": "A"
                                },
                                {
                                    "0": "38",
                                    "1": "67.41",
                                    "2": "C"
                                },
                                {
                                    "0": "39",
                                    "1": "77.72",
                                    "2": "B"
                                },
                                {
                                    "0": "40",
                                    "1": "59.95",
                                    "2": "D"
                                },
                                {
                                    "0": "41",
                                    "1": "42.39",
                                    "2": "F"
                                },
                                {
                                    "0": "42",
                                    "1": "68.13",
                                    "2": "C"
                                },
                                {
                                    "0": "43",
                                    "1": "49.27",
                                    "2": "F"
                                },
                                {
                                    "0": "44",
                                    "1": "52.32",
                                    "2": "D"
                                },
                                {
                                    "0": "45",
                                    "1": "57.00",
                                    "2": "D"
                                },
                                {
                                    "0": "46",
                                    "1": "51.07",
                                    "2": "D"
                                },
                                {
                                    "0": "47",
                                    "1": "99.06",
                                    "2": "A"
                                },
                                {
                                    "0": "48",
                                    "1": "54.01",
                                    "2": "D"
                                },
                                {
                                    "0": "49",
                                    "1": "46.24",
                                    "2": "F"
                                },
                                {
                                    "0": "50",
                                    "1": "43.37",
                                    "2": "F"
                                }
                            ]
                        },
                        "text/html": [
                            "<table>",
                            "<tr><th>student_id</th><th>score</th><th>grade</th></tr>",
                            "<tr><td>1</td><td>50.87</td><td>D</td></tr>",
                            "<tr><td>2</td><td>89.72</td><td>A</td></tr>",
                            "<tr><td>3</td><td>87.69</td><td>A</td></tr>",
                            "<tr><td>4</td><td>42.87</td><td>F</td></tr>",
                            "<tr><td>5</td><td>40.37</td><td>F</td></tr>",
                            "<tr><td>6</td><td>53.33</td><td>D</td></tr>",
                            "<tr><td>7</td><td>85.48</td><td>A</td></tr>",
                            "<tr><td>8</td><td>65.60</td><td>C</td></tr>",
                            "<tr><td>9</td><td>68.57</td><td>C</td></tr>",
                            "<tr><td>10</td><td>41.41</td><td>F</td></tr>",
                            "<tr><td>11</td><td>86.05</td><td>A</td></tr>",
                            "<tr><td>12</td><td>43.49</td><td>F</td></tr>",
                            "<tr><td>13</td><td>58.03</td><td>D</td></tr>",
                            "<tr><td>14</td><td>80.09</td><td>B</td></tr>",
                            "<tr><td>15</td><td>46.10</td><td>F</td></tr>",
                            "<tr><td>16</td><td>43.49</td><td>F</td></tr>",
                            "<tr><td>17</td><td>84.31</td><td>B</td></tr>",
                            "<tr><td>18</td><td>77.91</td><td>B</td></tr>",
                            "<tr><td>19</td><td>48.57</td><td>F</td></tr>",
                            "<tr><td>20</td><td>54.29</td><td>D</td></tr>",
                            "<tr><td>21</td><td>82.36</td><td>B</td></tr>",
                            "<tr><td>22</td><td>83.97</td><td>B</td></tr>",
                            "<tr><td>23</td><td>79.29</td><td>B</td></tr>",
                            "<tr><td>24</td><td>71.87</td><td>B</td></tr>",
                            "<tr><td>25</td><td>74.04</td><td>B</td></tr>",
                            "<tr><td>26</td><td>87.46</td><td>A</td></tr>",
                            "<tr><td>27</td><td>74.03</td><td>B</td></tr>",
                            "<tr><td>28</td><td>84.11</td><td>B</td></tr>",
                            "<tr><td>29</td><td>44.21</td><td>F</td></tr>",
                            "<tr><td>30</td><td>52.10</td><td>D</td></tr>",
                            "<tr><td>31</td><td>47.55</td><td>F</td></tr>",
                            "<tr><td>32</td><td>73.10</td><td>B</td></tr>",
                            "<tr><td>33</td><td>45.52</td><td>F</td></tr>",
                            "<tr><td>34</td><td>49.90</td><td>F</td></tr>",
                            "<tr><td>35</td><td>45.45</td><td>F</td></tr>",
                            "<tr><td>36</td><td>77.18</td><td>B</td></tr>",
                            "<tr><td>37</td><td>92.68</td><td>A</td></tr>",
                            "<tr><td>38</td><td>67.41</td><td>C</td></tr>",
                            "<tr><td>39</td><td>77.72</td><td>B</td></tr>",
                            "<tr><td>40</td><td>59.95</td><td>D</td></tr>",
                            "<tr><td>41</td><td>42.39</td><td>F</td></tr>",
                            "<tr><td>42</td><td>68.13</td><td>C</td></tr>",
                            "<tr><td>43</td><td>49.27</td><td>F</td></tr>",
                            "<tr><td>44</td><td>52.32</td><td>D</td></tr>",
                            "<tr><td>45</td><td>57.00</td><td>D</td></tr>",
                            "<tr><td>46</td><td>51.07</td><td>D</td></tr>",
                            "<tr><td>47</td><td>99.06</td><td>A</td></tr>",
                            "<tr><td>48</td><td>54.01</td><td>D</td></tr>",
                            "<tr><td>49</td><td>46.24</td><td>F</td></tr>",
                            "<tr><td>50</td><td>43.37</td><td>F</td></tr>",
                            "</table>"
                        ]
                    }
                }
            ],
            "execution_count": 7
        },
        {
            "cell_type": "code",
            "source": [
                "with cte as (\r\n",
                "    select student_id, score, \r\n",
                "    case \r\n",
                "        when '[85,100]'::numrange @> score then 'A'--(80 <= score < 100 ) score --score between 85 and 100 then 'A' --ตั้งแต่ (between)\r\n",
                "        when '[70,85)'::numrange @> score then 'B' --(70 <= score < 85 ) score  -- between 70 and 84.999 then 'B'\r\n",
                "        when '[60,70)'::numrange @> score then 'C' --(60 <= score < 70 ) score  -- score between 60 and 69.999 then 'C'\r\n",
                "        when '[50,60)'::numrange @> score then 'D' --(50 <= score < 60 ) score  --score between 50 and 59.999 then 'D'\r\n",
                "        else 'F' \r\n",
                "    end grade\r\n",
                "    from student\r\n",
                ")\r\n",
                "\r\n",
                "select grade, count(*) from cte group by grade \r\n",
                "union\r\n",
                "select 'total', count(*) from cte order by grade \r\n",
                ""
            ],
            "metadata": {
                "azdata_cell_guid": "f53afcd0-a13d-4133-9bad-937397af878d"
            },
            "outputs": [
                {
                    "output_type": "display_data",
                    "data": {
                        "text/html": "(6 row(s) affected)"
                    },
                    "metadata": {}
                },
                {
                    "output_type": "display_data",
                    "data": {
                        "text/html": "Total execution time: 00:00:00.003"
                    },
                    "metadata": {}
                },
                {
                    "output_type": "execute_result",
                    "metadata": {},
                    "execution_count": 18,
                    "data": {
                        "application/vnd.dataresource+json": {
                            "schema": {
                                "fields": [
                                    {
                                        "name": "grade"
                                    },
                                    {
                                        "name": "count"
                                    }
                                ]
                            },
                            "data": [
                                {
                                    "0": "A",
                                    "1": "7"
                                },
                                {
                                    "0": "B",
                                    "1": "13"
                                },
                                {
                                    "0": "C",
                                    "1": "4"
                                },
                                {
                                    "0": "D",
                                    "1": "10"
                                },
                                {
                                    "0": "F",
                                    "1": "16"
                                },
                                {
                                    "0": "total",
                                    "1": "50"
                                }
                            ]
                        },
                        "text/html": [
                            "<table>",
                            "<tr><th>grade</th><th>count</th></tr>",
                            "<tr><td>A</td><td>7</td></tr>",
                            "<tr><td>B</td><td>13</td></tr>",
                            "<tr><td>C</td><td>4</td></tr>",
                            "<tr><td>D</td><td>10</td></tr>",
                            "<tr><td>F</td><td>16</td></tr>",
                            "<tr><td>total</td><td>50</td></tr>",
                            "</table>"
                        ]
                    }
                }
            ],
            "execution_count": 18
        }
    ]
}