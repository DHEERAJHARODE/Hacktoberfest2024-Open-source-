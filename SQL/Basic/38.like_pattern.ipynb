{
    "metadata": {
        "kernelspec": {
            "name": "SQL",
            "display_name": "SQL",
            "language": "sql"
        },
        "language_info": {
            "name": "sql",
            "version": ""
        }
    },
    "nbformat_minor": 2,
    "nbformat": 4,
    "cells": [
        {
            "cell_type": "markdown",
            "source": [
                "# like"
            ],
            "metadata": {
                "azdata_cell_guid": "4acf45d9-1f19-4992-bd9a-ce6841904f73"
            }
        },
        {
            "cell_type": "code",
            "source": [
                "select * from benjerry limit 10;"
            ],
            "metadata": {
                "azdata_cell_guid": "394e13cc-f7b6-4fca-acec-fcb3254d849c"
            },
            "outputs": [
                {
                    "output_type": "display_data",
                    "data": {
                        "text/html": "(10 row(s) affected)"
                    },
                    "metadata": {}
                },
                {
                    "output_type": "display_data",
                    "data": {
                        "text/html": "Total execution time: 00:00:00.081"
                    },
                    "metadata": {}
                },
                {
                    "output_type": "execute_result",
                    "execution_count": 1,
                    "data": {
                        "application/vnd.dataresource+json": {
                            "schema": {
                                "fields": [
                                    {
                                        "name": "flavor"
                                    },
                                    {
                                        "name": "calories"
                                    },
                                    {
                                        "name": "fat_g"
                                    },
                                    {
                                        "name": "cholesterol_mg"
                                    },
                                    {
                                        "name": "carbs_g"
                                    },
                                    {
                                        "name": "sugars_g"
                                    },
                                    {
                                        "name": "protein_g"
                                    },
                                    {
                                        "name": "category"
                                    },
                                    {
                                        "name": "size_cup"
                                    }
                                ]
                            },
                            "data": [
                                {
                                    "0": "Americone Dream",
                                    "1": "270",
                                    "2": "15",
                                    "3": "65",
                                    "4": "30",
                                    "5": "24",
                                    "6": "3",
                                    "7": "Ice Cream",
                                    "8": "0.5"
                                },
                                {
                                    "0": "Banana Split",
                                    "1": "250",
                                    "2": "15",
                                    "3": "65",
                                    "4": "27",
                                    "5": "25",
                                    "6": "3",
                                    "7": "Ice Cream",
                                    "8": "0.5"
                                },
                                {
                                    "0": "Boston Cream Pie",
                                    "1": "250",
                                    "2": "13",
                                    "3": "90",
                                    "4": "29",
                                    "5": "26",
                                    "6": "3",
                                    "7": "Ice Cream",
                                    "8": "0.5"
                                },
                                {
                                    "0": "Cake Batter",
                                    "1": "260",
                                    "2": "16",
                                    "3": "65",
                                    "4": "27",
                                    "5": "23",
                                    "6": "4",
                                    "7": "Ice Cream",
                                    "8": "0.5"
                                },
                                {
                                    "0": "Cannoli",
                                    "1": "280",
                                    "2": "16",
                                    "3": "65",
                                    "4": "28",
                                    "5": "23",
                                    "6": "4",
                                    "7": "Ice Cream",
                                    "8": "0.5"
                                },
                                {
                                    "0": "Cheesecake Brownie",
                                    "1": "250",
                                    "2": "14",
                                    "3": "70",
                                    "4": "27",
                                    "5": "24",
                                    "6": "3",
                                    "7": "Ice Cream",
                                    "8": "0.5"
                                },
                                {
                                    "0": "Cherry Garcia",
                                    "1": "240",
                                    "2": "13",
                                    "3": "60",
                                    "4": "28",
                                    "5": "23",
                                    "6": "4",
                                    "7": "Ice Cream",
                                    "8": "0.5"
                                },
                                {
                                    "0": "Chocolate",
                                    "1": "250",
                                    "2": "14",
                                    "3": "40",
                                    "4": "25",
                                    "5": "21",
                                    "6": "4",
                                    "7": "Ice Cream",
                                    "8": "0.5"
                                },
                                {
                                    "0": "Chocolate Chip Cookie Dough",
                                    "1": "270",
                                    "2": "14",
                                    "3": "65",
                                    "4": "33",
                                    "5": "25",
                                    "6": "4",
                                    "7": "Ice Cream",
                                    "8": "0.5"
                                },
                                {
                                    "0": "Chocolate Fudge Brownie",
                                    "1": "260",
                                    "2": "12",
                                    "3": "40",
                                    "4": "34",
                                    "5": "27",
                                    "6": "4",
                                    "7": "Ice Cream",
                                    "8": "0.5"
                                }
                            ]
                        },
                        "text/html": "<table><tr><th>flavor</th><th>calories</th><th>fat_g</th><th>cholesterol_mg</th><th>carbs_g</th><th>sugars_g</th><th>protein_g</th><th>category</th><th>size_cup</th></tr><tr><td>Americone Dream</td><td>270</td><td>15</td><td>65</td><td>30</td><td>24</td><td>3</td><td>Ice Cream</td><td>0.5</td></tr><tr><td>Banana Split</td><td>250</td><td>15</td><td>65</td><td>27</td><td>25</td><td>3</td><td>Ice Cream</td><td>0.5</td></tr><tr><td>Boston Cream Pie</td><td>250</td><td>13</td><td>90</td><td>29</td><td>26</td><td>3</td><td>Ice Cream</td><td>0.5</td></tr><tr><td>Cake Batter</td><td>260</td><td>16</td><td>65</td><td>27</td><td>23</td><td>4</td><td>Ice Cream</td><td>0.5</td></tr><tr><td>Cannoli</td><td>280</td><td>16</td><td>65</td><td>28</td><td>23</td><td>4</td><td>Ice Cream</td><td>0.5</td></tr><tr><td>Cheesecake Brownie</td><td>250</td><td>14</td><td>70</td><td>27</td><td>24</td><td>3</td><td>Ice Cream</td><td>0.5</td></tr><tr><td>Cherry Garcia</td><td>240</td><td>13</td><td>60</td><td>28</td><td>23</td><td>4</td><td>Ice Cream</td><td>0.5</td></tr><tr><td>Chocolate</td><td>250</td><td>14</td><td>40</td><td>25</td><td>21</td><td>4</td><td>Ice Cream</td><td>0.5</td></tr><tr><td>Chocolate Chip Cookie Dough</td><td>270</td><td>14</td><td>65</td><td>33</td><td>25</td><td>4</td><td>Ice Cream</td><td>0.5</td></tr><tr><td>Chocolate Fudge Brownie</td><td>260</td><td>12</td><td>40</td><td>34</td><td>27</td><td>4</td><td>Ice Cream</td><td>0.5</td></tr></table>"
                    },
                    "metadata": {}
                }
            ],
            "execution_count": 1
        },
        {
            "cell_type": "code",
            "source": [
                "select * from benjerry \r\n",
                "    where flavor like '%Chocolate%'; -- contains"
            ],
            "metadata": {
                "azdata_cell_guid": "56f7b9f1-a3c8-4ac4-bdf8-da3913666800"
            },
            "outputs": [
                {
                    "output_type": "display_data",
                    "data": {
                        "text/html": "(32 row(s) affected)"
                    },
                    "metadata": {}
                },
                {
                    "output_type": "display_data",
                    "data": {
                        "text/html": "Total execution time: 00:00:00.019"
                    },
                    "metadata": {}
                },
                {
                    "output_type": "execute_result",
                    "execution_count": 2,
                    "data": {
                        "application/vnd.dataresource+json": {
                            "schema": {
                                "fields": [
                                    {
                                        "name": "flavor"
                                    },
                                    {
                                        "name": "calories"
                                    },
                                    {
                                        "name": "fat_g"
                                    },
                                    {
                                        "name": "cholesterol_mg"
                                    },
                                    {
                                        "name": "carbs_g"
                                    },
                                    {
                                        "name": "sugars_g"
                                    },
                                    {
                                        "name": "protein_g"
                                    },
                                    {
                                        "name": "category"
                                    },
                                    {
                                        "name": "size_cup"
                                    }
                                ]
                            },
                            "data": [
                                {
                                    "0": "Chocolate",
                                    "1": "250",
                                    "2": "14",
                                    "3": "40",
                                    "4": "25",
                                    "5": "21",
                                    "6": "4",
                                    "7": "Ice Cream",
                                    "8": "0.5"
                                },
                                {
                                    "0": "Chocolate Chip Cookie Dough",
                                    "1": "270",
                                    "2": "14",
                                    "3": "65",
                                    "4": "33",
                                    "5": "25",
                                    "6": "4",
                                    "7": "Ice Cream",
                                    "8": "0.5"
                                },
                                {
                                    "0": "Chocolate Fudge Brownie",
                                    "1": "260",
                                    "2": "12",
                                    "3": "40",
                                    "4": "34",
                                    "5": "27",
                                    "6": "4",
                                    "7": "Ice Cream",
                                    "8": "0.5"
                                },
                                {
                                    "0": "Chocolate Nougat Crunch",
                                    "1": "260",
                                    "2": "14",
                                    "3": "60",
                                    "4": "30",
                                    "5": "30",
                                    "6": "4",
                                    "7": "Ice Cream",
                                    "8": "0.5"
                                },
                                {
                                    "0": "Chocolate Peppermint Crunch",
                                    "1": "290",
                                    "2": "16",
                                    "3": "45",
                                    "4": "33",
                                    "5": "28",
                                    "6": "4",
                                    "7": "Ice Cream",
                                    "8": "0.5"
                                },
                                {
                                    "0": "Chocolate Therapy",
                                    "1": "240",
                                    "2": "13",
                                    "3": "45",
                                    "4": "27",
                                    "5": "21",
                                    "6": "4",
                                    "7": "Ice Cream",
                                    "8": "0.5"
                                },
                                {
                                    "0": "Mint Chocolate Cookie",
                                    "1": "260",
                                    "2": "14",
                                    "3": "65",
                                    "4": "28",
                                    "5": "22",
                                    "6": "4",
                                    "7": "Ice Cream",
                                    "8": "0.5"
                                },
                                {
                                    "0": "Chocolate Fudge Brownie Fro Yo",
                                    "1": "180",
                                    "2": "2",
                                    "3": "15",
                                    "4": "35",
                                    "5": "25",
                                    "6": "5",
                                    "7": "Ice Cream",
                                    "8": "0.5"
                                },
                                {
                                    "0": "Chocolate",
                                    "1": "250",
                                    "2": "14",
                                    "3": "40",
                                    "4": "25",
                                    "5": "21",
                                    "6": "4",
                                    "7": "Ice Cream",
                                    "8": "0.5"
                                },
                                {
                                    "0": "Chocolate Chip Cookie Dough",
                                    "1": "270",
                                    "2": "14",
                                    "3": "65",
                                    "4": "33",
                                    "5": "25",
                                    "6": "4",
                                    "7": "Ice Cream",
                                    "8": "0.5"
                                },
                                {
                                    "0": "Chocolate Fudge Brownie",
                                    "1": "260",
                                    "2": "12",
                                    "3": "40",
                                    "4": "34",
                                    "5": "27",
                                    "6": "4",
                                    "7": "Ice Cream",
                                    "8": "0.5"
                                },
                                {
                                    "0": "Chocolate Nougat Crunch",
                                    "1": "260",
                                    "2": "14",
                                    "3": "60",
                                    "4": "30",
                                    "5": "30",
                                    "6": "4",
                                    "7": "Ice Cream",
                                    "8": "0.5"
                                },
                                {
                                    "0": "Chocolate Peppermint Crunch",
                                    "1": "290",
                                    "2": "16",
                                    "3": "45",
                                    "4": "33",
                                    "5": "28",
                                    "6": "4",
                                    "7": "Ice Cream",
                                    "8": "0.5"
                                },
                                {
                                    "0": "Chocolate Therapy",
                                    "1": "240",
                                    "2": "13",
                                    "3": "45",
                                    "4": "27",
                                    "5": "21",
                                    "6": "4",
                                    "7": "Ice Cream",
                                    "8": "0.5"
                                },
                                {
                                    "0": "Mint Chocolate Cookie",
                                    "1": "260",
                                    "2": "14",
                                    "3": "65",
                                    "4": "28",
                                    "5": "22",
                                    "6": "4",
                                    "7": "Ice Cream",
                                    "8": "0.5"
                                },
                                {
                                    "0": "Chocolate Fudge Brownie Fro Yo",
                                    "1": "180",
                                    "2": "2",
                                    "3": "15",
                                    "4": "35",
                                    "5": "25",
                                    "6": "5",
                                    "7": "Ice Cream",
                                    "8": "0.5"
                                },
                                {
                                    "0": "Chocolate",
                                    "1": "250",
                                    "2": "14",
                                    "3": "40",
                                    "4": "25",
                                    "5": "21",
                                    "6": "4",
                                    "7": "Ice Cream",
                                    "8": "0.5"
                                },
                                {
                                    "0": "Chocolate Chip Cookie Dough",
                                    "1": "270",
                                    "2": "14",
                                    "3": "65",
                                    "4": "33",
                                    "5": "25",
                                    "6": "4",
                                    "7": "Ice Cream",
                                    "8": "0.5"
                                },
                                {
                                    "0": "Chocolate Fudge Brownie",
                                    "1": "260",
                                    "2": "12",
                                    "3": "40",
                                    "4": "34",
                                    "5": "27",
                                    "6": "4",
                                    "7": "Ice Cream",
                                    "8": "0.5"
                                },
                                {
                                    "0": "Chocolate Nougat Crunch",
                                    "1": "260",
                                    "2": "14",
                                    "3": "60",
                                    "4": "30",
                                    "5": "30",
                                    "6": "4",
                                    "7": "Ice Cream",
                                    "8": "0.5"
                                },
                                {
                                    "0": "Chocolate Peppermint Crunch",
                                    "1": "290",
                                    "2": "16",
                                    "3": "45",
                                    "4": "33",
                                    "5": "28",
                                    "6": "4",
                                    "7": "Ice Cream",
                                    "8": "0.5"
                                },
                                {
                                    "0": "Chocolate Therapy",
                                    "1": "240",
                                    "2": "13",
                                    "3": "45",
                                    "4": "27",
                                    "5": "21",
                                    "6": "4",
                                    "7": "Ice Cream",
                                    "8": "0.5"
                                },
                                {
                                    "0": "Mint Chocolate Cookie",
                                    "1": "260",
                                    "2": "14",
                                    "3": "65",
                                    "4": "28",
                                    "5": "22",
                                    "6": "4",
                                    "7": "Ice Cream",
                                    "8": "0.5"
                                },
                                {
                                    "0": "Chocolate Fudge Brownie Fro Yo",
                                    "1": "180",
                                    "2": "2",
                                    "3": "15",
                                    "4": "35",
                                    "5": "25",
                                    "6": "5",
                                    "7": "Ice Cream",
                                    "8": "0.5"
                                },
                                {
                                    "0": "Chocolate",
                                    "1": "250",
                                    "2": "14",
                                    "3": "40",
                                    "4": "25",
                                    "5": "21",
                                    "6": "4",
                                    "7": "Ice Cream",
                                    "8": "0.5"
                                },
                                {
                                    "0": "Chocolate Chip Cookie Dough",
                                    "1": "270",
                                    "2": "14",
                                    "3": "65",
                                    "4": "33",
                                    "5": "25",
                                    "6": "4",
                                    "7": "Ice Cream",
                                    "8": "0.5"
                                },
                                {
                                    "0": "Chocolate Fudge Brownie",
                                    "1": "260",
                                    "2": "12",
                                    "3": "40",
                                    "4": "34",
                                    "5": "27",
                                    "6": "4",
                                    "7": "Ice Cream",
                                    "8": "0.5"
                                },
                                {
                                    "0": "Chocolate Nougat Crunch",
                                    "1": "260",
                                    "2": "14",
                                    "3": "60",
                                    "4": "30",
                                    "5": "30",
                                    "6": "4",
                                    "7": "Ice Cream",
                                    "8": "0.5"
                                },
                                {
                                    "0": "Chocolate Peppermint Crunch",
                                    "1": "290",
                                    "2": "16",
                                    "3": "45",
                                    "4": "33",
                                    "5": "28",
                                    "6": "4",
                                    "7": "Ice Cream",
                                    "8": "0.5"
                                },
                                {
                                    "0": "Chocolate Therapy",
                                    "1": "240",
                                    "2": "13",
                                    "3": "45",
                                    "4": "27",
                                    "5": "21",
                                    "6": "4",
                                    "7": "Ice Cream",
                                    "8": "0.5"
                                },
                                {
                                    "0": "Mint Chocolate Cookie",
                                    "1": "260",
                                    "2": "14",
                                    "3": "65",
                                    "4": "28",
                                    "5": "22",
                                    "6": "4",
                                    "7": "Ice Cream",
                                    "8": "0.5"
                                },
                                {
                                    "0": "Chocolate Fudge Brownie Fro Yo",
                                    "1": "180",
                                    "2": "2",
                                    "3": "15",
                                    "4": "35",
                                    "5": "25",
                                    "6": "5",
                                    "7": "Ice Cream",
                                    "8": "0.5"
                                }
                            ]
                        },
                        "text/html": "<table><tr><th>flavor</th><th>calories</th><th>fat_g</th><th>cholesterol_mg</th><th>carbs_g</th><th>sugars_g</th><th>protein_g</th><th>category</th><th>size_cup</th></tr><tr><td>Chocolate</td><td>250</td><td>14</td><td>40</td><td>25</td><td>21</td><td>4</td><td>Ice Cream</td><td>0.5</td></tr><tr><td>Chocolate Chip Cookie Dough</td><td>270</td><td>14</td><td>65</td><td>33</td><td>25</td><td>4</td><td>Ice Cream</td><td>0.5</td></tr><tr><td>Chocolate Fudge Brownie</td><td>260</td><td>12</td><td>40</td><td>34</td><td>27</td><td>4</td><td>Ice Cream</td><td>0.5</td></tr><tr><td>Chocolate Nougat Crunch</td><td>260</td><td>14</td><td>60</td><td>30</td><td>30</td><td>4</td><td>Ice Cream</td><td>0.5</td></tr><tr><td>Chocolate Peppermint Crunch</td><td>290</td><td>16</td><td>45</td><td>33</td><td>28</td><td>4</td><td>Ice Cream</td><td>0.5</td></tr><tr><td>Chocolate Therapy</td><td>240</td><td>13</td><td>45</td><td>27</td><td>21</td><td>4</td><td>Ice Cream</td><td>0.5</td></tr><tr><td>Mint Chocolate Cookie</td><td>260</td><td>14</td><td>65</td><td>28</td><td>22</td><td>4</td><td>Ice Cream</td><td>0.5</td></tr><tr><td>Chocolate Fudge Brownie Fro Yo</td><td>180</td><td>2</td><td>15</td><td>35</td><td>25</td><td>5</td><td>Ice Cream</td><td>0.5</td></tr><tr><td>Chocolate</td><td>250</td><td>14</td><td>40</td><td>25</td><td>21</td><td>4</td><td>Ice Cream</td><td>0.5</td></tr><tr><td>Chocolate Chip Cookie Dough</td><td>270</td><td>14</td><td>65</td><td>33</td><td>25</td><td>4</td><td>Ice Cream</td><td>0.5</td></tr><tr><td>Chocolate Fudge Brownie</td><td>260</td><td>12</td><td>40</td><td>34</td><td>27</td><td>4</td><td>Ice Cream</td><td>0.5</td></tr><tr><td>Chocolate Nougat Crunch</td><td>260</td><td>14</td><td>60</td><td>30</td><td>30</td><td>4</td><td>Ice Cream</td><td>0.5</td></tr><tr><td>Chocolate Peppermint Crunch</td><td>290</td><td>16</td><td>45</td><td>33</td><td>28</td><td>4</td><td>Ice Cream</td><td>0.5</td></tr><tr><td>Chocolate Therapy</td><td>240</td><td>13</td><td>45</td><td>27</td><td>21</td><td>4</td><td>Ice Cream</td><td>0.5</td></tr><tr><td>Mint Chocolate Cookie</td><td>260</td><td>14</td><td>65</td><td>28</td><td>22</td><td>4</td><td>Ice Cream</td><td>0.5</td></tr><tr><td>Chocolate Fudge Brownie Fro Yo</td><td>180</td><td>2</td><td>15</td><td>35</td><td>25</td><td>5</td><td>Ice Cream</td><td>0.5</td></tr><tr><td>Chocolate</td><td>250</td><td>14</td><td>40</td><td>25</td><td>21</td><td>4</td><td>Ice Cream</td><td>0.5</td></tr><tr><td>Chocolate Chip Cookie Dough</td><td>270</td><td>14</td><td>65</td><td>33</td><td>25</td><td>4</td><td>Ice Cream</td><td>0.5</td></tr><tr><td>Chocolate Fudge Brownie</td><td>260</td><td>12</td><td>40</td><td>34</td><td>27</td><td>4</td><td>Ice Cream</td><td>0.5</td></tr><tr><td>Chocolate Nougat Crunch</td><td>260</td><td>14</td><td>60</td><td>30</td><td>30</td><td>4</td><td>Ice Cream</td><td>0.5</td></tr><tr><td>Chocolate Peppermint Crunch</td><td>290</td><td>16</td><td>45</td><td>33</td><td>28</td><td>4</td><td>Ice Cream</td><td>0.5</td></tr><tr><td>Chocolate Therapy</td><td>240</td><td>13</td><td>45</td><td>27</td><td>21</td><td>4</td><td>Ice Cream</td><td>0.5</td></tr><tr><td>Mint Chocolate Cookie</td><td>260</td><td>14</td><td>65</td><td>28</td><td>22</td><td>4</td><td>Ice Cream</td><td>0.5</td></tr><tr><td>Chocolate Fudge Brownie Fro Yo</td><td>180</td><td>2</td><td>15</td><td>35</td><td>25</td><td>5</td><td>Ice Cream</td><td>0.5</td></tr><tr><td>Chocolate</td><td>250</td><td>14</td><td>40</td><td>25</td><td>21</td><td>4</td><td>Ice Cream</td><td>0.5</td></tr><tr><td>Chocolate Chip Cookie Dough</td><td>270</td><td>14</td><td>65</td><td>33</td><td>25</td><td>4</td><td>Ice Cream</td><td>0.5</td></tr><tr><td>Chocolate Fudge Brownie</td><td>260</td><td>12</td><td>40</td><td>34</td><td>27</td><td>4</td><td>Ice Cream</td><td>0.5</td></tr><tr><td>Chocolate Nougat Crunch</td><td>260</td><td>14</td><td>60</td><td>30</td><td>30</td><td>4</td><td>Ice Cream</td><td>0.5</td></tr><tr><td>Chocolate Peppermint Crunch</td><td>290</td><td>16</td><td>45</td><td>33</td><td>28</td><td>4</td><td>Ice Cream</td><td>0.5</td></tr><tr><td>Chocolate Therapy</td><td>240</td><td>13</td><td>45</td><td>27</td><td>21</td><td>4</td><td>Ice Cream</td><td>0.5</td></tr><tr><td>Mint Chocolate Cookie</td><td>260</td><td>14</td><td>65</td><td>28</td><td>22</td><td>4</td><td>Ice Cream</td><td>0.5</td></tr><tr><td>Chocolate Fudge Brownie Fro Yo</td><td>180</td><td>2</td><td>15</td><td>35</td><td>25</td><td>5</td><td>Ice Cream</td><td>0.5</td></tr></table>"
                    },
                    "metadata": {}
                }
            ],
            "execution_count": 2
        },
        {
            "cell_type": "code",
            "source": [
                "select * from benjerry \r\n",
                "    where flavor like '%chocolate%'; -- case sensitive"
            ],
            "metadata": {
                "azdata_cell_guid": "a4302718-2f22-46eb-8828-cf0619079b5a"
            },
            "outputs": [
                {
                    "output_type": "display_data",
                    "data": {
                        "text/html": "(0 row(s) affected)"
                    },
                    "metadata": {}
                },
                {
                    "output_type": "display_data",
                    "data": {
                        "text/html": "Total execution time: 00:00:00.004"
                    },
                    "metadata": {}
                },
                {
                    "output_type": "execute_result",
                    "execution_count": 3,
                    "data": {
                        "application/vnd.dataresource+json": {
                            "schema": {
                                "fields": [
                                    {
                                        "name": "flavor"
                                    },
                                    {
                                        "name": "calories"
                                    },
                                    {
                                        "name": "fat_g"
                                    },
                                    {
                                        "name": "cholesterol_mg"
                                    },
                                    {
                                        "name": "carbs_g"
                                    },
                                    {
                                        "name": "sugars_g"
                                    },
                                    {
                                        "name": "protein_g"
                                    },
                                    {
                                        "name": "category"
                                    },
                                    {
                                        "name": "size_cup"
                                    }
                                ]
                            },
                            "data": []
                        },
                        "text/html": "<table><tr><th>flavor</th><th>calories</th><th>fat_g</th><th>cholesterol_mg</th><th>carbs_g</th><th>sugars_g</th><th>protein_g</th><th>category</th><th>size_cup</th></tr></table>"
                    },
                    "metadata": {}
                }
            ],
            "execution_count": 3
        },
        {
            "cell_type": "code",
            "source": [
                "select * from benjerry \r\n",
                "    where flavor ilike '%chocolate%'; -- case insensitive"
            ],
            "metadata": {
                "azdata_cell_guid": "8376ad53-0a9a-4fa5-a27d-967f3963b1f7"
            },
            "outputs": [
                {
                    "output_type": "display_data",
                    "data": {
                        "text/html": "(32 row(s) affected)"
                    },
                    "metadata": {}
                },
                {
                    "output_type": "display_data",
                    "data": {
                        "text/html": "Total execution time: 00:00:00.019"
                    },
                    "metadata": {}
                },
                {
                    "output_type": "execute_result",
                    "execution_count": 4,
                    "data": {
                        "application/vnd.dataresource+json": {
                            "schema": {
                                "fields": [
                                    {
                                        "name": "flavor"
                                    },
                                    {
                                        "name": "calories"
                                    },
                                    {
                                        "name": "fat_g"
                                    },
                                    {
                                        "name": "cholesterol_mg"
                                    },
                                    {
                                        "name": "carbs_g"
                                    },
                                    {
                                        "name": "sugars_g"
                                    },
                                    {
                                        "name": "protein_g"
                                    },
                                    {
                                        "name": "category"
                                    },
                                    {
                                        "name": "size_cup"
                                    }
                                ]
                            },
                            "data": [
                                {
                                    "0": "Chocolate",
                                    "1": "250",
                                    "2": "14",
                                    "3": "40",
                                    "4": "25",
                                    "5": "21",
                                    "6": "4",
                                    "7": "Ice Cream",
                                    "8": "0.5"
                                },
                                {
                                    "0": "Chocolate Chip Cookie Dough",
                                    "1": "270",
                                    "2": "14",
                                    "3": "65",
                                    "4": "33",
                                    "5": "25",
                                    "6": "4",
                                    "7": "Ice Cream",
                                    "8": "0.5"
                                },
                                {
                                    "0": "Chocolate Fudge Brownie",
                                    "1": "260",
                                    "2": "12",
                                    "3": "40",
                                    "4": "34",
                                    "5": "27",
                                    "6": "4",
                                    "7": "Ice Cream",
                                    "8": "0.5"
                                },
                                {
                                    "0": "Chocolate Nougat Crunch",
                                    "1": "260",
                                    "2": "14",
                                    "3": "60",
                                    "4": "30",
                                    "5": "30",
                                    "6": "4",
                                    "7": "Ice Cream",
                                    "8": "0.5"
                                },
                                {
                                    "0": "Chocolate Peppermint Crunch",
                                    "1": "290",
                                    "2": "16",
                                    "3": "45",
                                    "4": "33",
                                    "5": "28",
                                    "6": "4",
                                    "7": "Ice Cream",
                                    "8": "0.5"
                                },
                                {
                                    "0": "Chocolate Therapy",
                                    "1": "240",
                                    "2": "13",
                                    "3": "45",
                                    "4": "27",
                                    "5": "21",
                                    "6": "4",
                                    "7": "Ice Cream",
                                    "8": "0.5"
                                },
                                {
                                    "0": "Mint Chocolate Cookie",
                                    "1": "260",
                                    "2": "14",
                                    "3": "65",
                                    "4": "28",
                                    "5": "22",
                                    "6": "4",
                                    "7": "Ice Cream",
                                    "8": "0.5"
                                },
                                {
                                    "0": "Chocolate Fudge Brownie Fro Yo",
                                    "1": "180",
                                    "2": "2",
                                    "3": "15",
                                    "4": "35",
                                    "5": "25",
                                    "6": "5",
                                    "7": "Ice Cream",
                                    "8": "0.5"
                                },
                                {
                                    "0": "Chocolate",
                                    "1": "250",
                                    "2": "14",
                                    "3": "40",
                                    "4": "25",
                                    "5": "21",
                                    "6": "4",
                                    "7": "Ice Cream",
                                    "8": "0.5"
                                },
                                {
                                    "0": "Chocolate Chip Cookie Dough",
                                    "1": "270",
                                    "2": "14",
                                    "3": "65",
                                    "4": "33",
                                    "5": "25",
                                    "6": "4",
                                    "7": "Ice Cream",
                                    "8": "0.5"
                                },
                                {
                                    "0": "Chocolate Fudge Brownie",
                                    "1": "260",
                                    "2": "12",
                                    "3": "40",
                                    "4": "34",
                                    "5": "27",
                                    "6": "4",
                                    "7": "Ice Cream",
                                    "8": "0.5"
                                },
                                {
                                    "0": "Chocolate Nougat Crunch",
                                    "1": "260",
                                    "2": "14",
                                    "3": "60",
                                    "4": "30",
                                    "5": "30",
                                    "6": "4",
                                    "7": "Ice Cream",
                                    "8": "0.5"
                                },
                                {
                                    "0": "Chocolate Peppermint Crunch",
                                    "1": "290",
                                    "2": "16",
                                    "3": "45",
                                    "4": "33",
                                    "5": "28",
                                    "6": "4",
                                    "7": "Ice Cream",
                                    "8": "0.5"
                                },
                                {
                                    "0": "Chocolate Therapy",
                                    "1": "240",
                                    "2": "13",
                                    "3": "45",
                                    "4": "27",
                                    "5": "21",
                                    "6": "4",
                                    "7": "Ice Cream",
                                    "8": "0.5"
                                },
                                {
                                    "0": "Mint Chocolate Cookie",
                                    "1": "260",
                                    "2": "14",
                                    "3": "65",
                                    "4": "28",
                                    "5": "22",
                                    "6": "4",
                                    "7": "Ice Cream",
                                    "8": "0.5"
                                },
                                {
                                    "0": "Chocolate Fudge Brownie Fro Yo",
                                    "1": "180",
                                    "2": "2",
                                    "3": "15",
                                    "4": "35",
                                    "5": "25",
                                    "6": "5",
                                    "7": "Ice Cream",
                                    "8": "0.5"
                                },
                                {
                                    "0": "Chocolate",
                                    "1": "250",
                                    "2": "14",
                                    "3": "40",
                                    "4": "25",
                                    "5": "21",
                                    "6": "4",
                                    "7": "Ice Cream",
                                    "8": "0.5"
                                },
                                {
                                    "0": "Chocolate Chip Cookie Dough",
                                    "1": "270",
                                    "2": "14",
                                    "3": "65",
                                    "4": "33",
                                    "5": "25",
                                    "6": "4",
                                    "7": "Ice Cream",
                                    "8": "0.5"
                                },
                                {
                                    "0": "Chocolate Fudge Brownie",
                                    "1": "260",
                                    "2": "12",
                                    "3": "40",
                                    "4": "34",
                                    "5": "27",
                                    "6": "4",
                                    "7": "Ice Cream",
                                    "8": "0.5"
                                },
                                {
                                    "0": "Chocolate Nougat Crunch",
                                    "1": "260",
                                    "2": "14",
                                    "3": "60",
                                    "4": "30",
                                    "5": "30",
                                    "6": "4",
                                    "7": "Ice Cream",
                                    "8": "0.5"
                                },
                                {
                                    "0": "Chocolate Peppermint Crunch",
                                    "1": "290",
                                    "2": "16",
                                    "3": "45",
                                    "4": "33",
                                    "5": "28",
                                    "6": "4",
                                    "7": "Ice Cream",
                                    "8": "0.5"
                                },
                                {
                                    "0": "Chocolate Therapy",
                                    "1": "240",
                                    "2": "13",
                                    "3": "45",
                                    "4": "27",
                                    "5": "21",
                                    "6": "4",
                                    "7": "Ice Cream",
                                    "8": "0.5"
                                },
                                {
                                    "0": "Mint Chocolate Cookie",
                                    "1": "260",
                                    "2": "14",
                                    "3": "65",
                                    "4": "28",
                                    "5": "22",
                                    "6": "4",
                                    "7": "Ice Cream",
                                    "8": "0.5"
                                },
                                {
                                    "0": "Chocolate Fudge Brownie Fro Yo",
                                    "1": "180",
                                    "2": "2",
                                    "3": "15",
                                    "4": "35",
                                    "5": "25",
                                    "6": "5",
                                    "7": "Ice Cream",
                                    "8": "0.5"
                                },
                                {
                                    "0": "Chocolate",
                                    "1": "250",
                                    "2": "14",
                                    "3": "40",
                                    "4": "25",
                                    "5": "21",
                                    "6": "4",
                                    "7": "Ice Cream",
                                    "8": "0.5"
                                },
                                {
                                    "0": "Chocolate Chip Cookie Dough",
                                    "1": "270",
                                    "2": "14",
                                    "3": "65",
                                    "4": "33",
                                    "5": "25",
                                    "6": "4",
                                    "7": "Ice Cream",
                                    "8": "0.5"
                                },
                                {
                                    "0": "Chocolate Fudge Brownie",
                                    "1": "260",
                                    "2": "12",
                                    "3": "40",
                                    "4": "34",
                                    "5": "27",
                                    "6": "4",
                                    "7": "Ice Cream",
                                    "8": "0.5"
                                },
                                {
                                    "0": "Chocolate Nougat Crunch",
                                    "1": "260",
                                    "2": "14",
                                    "3": "60",
                                    "4": "30",
                                    "5": "30",
                                    "6": "4",
                                    "7": "Ice Cream",
                                    "8": "0.5"
                                },
                                {
                                    "0": "Chocolate Peppermint Crunch",
                                    "1": "290",
                                    "2": "16",
                                    "3": "45",
                                    "4": "33",
                                    "5": "28",
                                    "6": "4",
                                    "7": "Ice Cream",
                                    "8": "0.5"
                                },
                                {
                                    "0": "Chocolate Therapy",
                                    "1": "240",
                                    "2": "13",
                                    "3": "45",
                                    "4": "27",
                                    "5": "21",
                                    "6": "4",
                                    "7": "Ice Cream",
                                    "8": "0.5"
                                },
                                {
                                    "0": "Mint Chocolate Cookie",
                                    "1": "260",
                                    "2": "14",
                                    "3": "65",
                                    "4": "28",
                                    "5": "22",
                                    "6": "4",
                                    "7": "Ice Cream",
                                    "8": "0.5"
                                },
                                {
                                    "0": "Chocolate Fudge Brownie Fro Yo",
                                    "1": "180",
                                    "2": "2",
                                    "3": "15",
                                    "4": "35",
                                    "5": "25",
                                    "6": "5",
                                    "7": "Ice Cream",
                                    "8": "0.5"
                                }
                            ]
                        },
                        "text/html": "<table><tr><th>flavor</th><th>calories</th><th>fat_g</th><th>cholesterol_mg</th><th>carbs_g</th><th>sugars_g</th><th>protein_g</th><th>category</th><th>size_cup</th></tr><tr><td>Chocolate</td><td>250</td><td>14</td><td>40</td><td>25</td><td>21</td><td>4</td><td>Ice Cream</td><td>0.5</td></tr><tr><td>Chocolate Chip Cookie Dough</td><td>270</td><td>14</td><td>65</td><td>33</td><td>25</td><td>4</td><td>Ice Cream</td><td>0.5</td></tr><tr><td>Chocolate Fudge Brownie</td><td>260</td><td>12</td><td>40</td><td>34</td><td>27</td><td>4</td><td>Ice Cream</td><td>0.5</td></tr><tr><td>Chocolate Nougat Crunch</td><td>260</td><td>14</td><td>60</td><td>30</td><td>30</td><td>4</td><td>Ice Cream</td><td>0.5</td></tr><tr><td>Chocolate Peppermint Crunch</td><td>290</td><td>16</td><td>45</td><td>33</td><td>28</td><td>4</td><td>Ice Cream</td><td>0.5</td></tr><tr><td>Chocolate Therapy</td><td>240</td><td>13</td><td>45</td><td>27</td><td>21</td><td>4</td><td>Ice Cream</td><td>0.5</td></tr><tr><td>Mint Chocolate Cookie</td><td>260</td><td>14</td><td>65</td><td>28</td><td>22</td><td>4</td><td>Ice Cream</td><td>0.5</td></tr><tr><td>Chocolate Fudge Brownie Fro Yo</td><td>180</td><td>2</td><td>15</td><td>35</td><td>25</td><td>5</td><td>Ice Cream</td><td>0.5</td></tr><tr><td>Chocolate</td><td>250</td><td>14</td><td>40</td><td>25</td><td>21</td><td>4</td><td>Ice Cream</td><td>0.5</td></tr><tr><td>Chocolate Chip Cookie Dough</td><td>270</td><td>14</td><td>65</td><td>33</td><td>25</td><td>4</td><td>Ice Cream</td><td>0.5</td></tr><tr><td>Chocolate Fudge Brownie</td><td>260</td><td>12</td><td>40</td><td>34</td><td>27</td><td>4</td><td>Ice Cream</td><td>0.5</td></tr><tr><td>Chocolate Nougat Crunch</td><td>260</td><td>14</td><td>60</td><td>30</td><td>30</td><td>4</td><td>Ice Cream</td><td>0.5</td></tr><tr><td>Chocolate Peppermint Crunch</td><td>290</td><td>16</td><td>45</td><td>33</td><td>28</td><td>4</td><td>Ice Cream</td><td>0.5</td></tr><tr><td>Chocolate Therapy</td><td>240</td><td>13</td><td>45</td><td>27</td><td>21</td><td>4</td><td>Ice Cream</td><td>0.5</td></tr><tr><td>Mint Chocolate Cookie</td><td>260</td><td>14</td><td>65</td><td>28</td><td>22</td><td>4</td><td>Ice Cream</td><td>0.5</td></tr><tr><td>Chocolate Fudge Brownie Fro Yo</td><td>180</td><td>2</td><td>15</td><td>35</td><td>25</td><td>5</td><td>Ice Cream</td><td>0.5</td></tr><tr><td>Chocolate</td><td>250</td><td>14</td><td>40</td><td>25</td><td>21</td><td>4</td><td>Ice Cream</td><td>0.5</td></tr><tr><td>Chocolate Chip Cookie Dough</td><td>270</td><td>14</td><td>65</td><td>33</td><td>25</td><td>4</td><td>Ice Cream</td><td>0.5</td></tr><tr><td>Chocolate Fudge Brownie</td><td>260</td><td>12</td><td>40</td><td>34</td><td>27</td><td>4</td><td>Ice Cream</td><td>0.5</td></tr><tr><td>Chocolate Nougat Crunch</td><td>260</td><td>14</td><td>60</td><td>30</td><td>30</td><td>4</td><td>Ice Cream</td><td>0.5</td></tr><tr><td>Chocolate Peppermint Crunch</td><td>290</td><td>16</td><td>45</td><td>33</td><td>28</td><td>4</td><td>Ice Cream</td><td>0.5</td></tr><tr><td>Chocolate Therapy</td><td>240</td><td>13</td><td>45</td><td>27</td><td>21</td><td>4</td><td>Ice Cream</td><td>0.5</td></tr><tr><td>Mint Chocolate Cookie</td><td>260</td><td>14</td><td>65</td><td>28</td><td>22</td><td>4</td><td>Ice Cream</td><td>0.5</td></tr><tr><td>Chocolate Fudge Brownie Fro Yo</td><td>180</td><td>2</td><td>15</td><td>35</td><td>25</td><td>5</td><td>Ice Cream</td><td>0.5</td></tr><tr><td>Chocolate</td><td>250</td><td>14</td><td>40</td><td>25</td><td>21</td><td>4</td><td>Ice Cream</td><td>0.5</td></tr><tr><td>Chocolate Chip Cookie Dough</td><td>270</td><td>14</td><td>65</td><td>33</td><td>25</td><td>4</td><td>Ice Cream</td><td>0.5</td></tr><tr><td>Chocolate Fudge Brownie</td><td>260</td><td>12</td><td>40</td><td>34</td><td>27</td><td>4</td><td>Ice Cream</td><td>0.5</td></tr><tr><td>Chocolate Nougat Crunch</td><td>260</td><td>14</td><td>60</td><td>30</td><td>30</td><td>4</td><td>Ice Cream</td><td>0.5</td></tr><tr><td>Chocolate Peppermint Crunch</td><td>290</td><td>16</td><td>45</td><td>33</td><td>28</td><td>4</td><td>Ice Cream</td><td>0.5</td></tr><tr><td>Chocolate Therapy</td><td>240</td><td>13</td><td>45</td><td>27</td><td>21</td><td>4</td><td>Ice Cream</td><td>0.5</td></tr><tr><td>Mint Chocolate Cookie</td><td>260</td><td>14</td><td>65</td><td>28</td><td>22</td><td>4</td><td>Ice Cream</td><td>0.5</td></tr><tr><td>Chocolate Fudge Brownie Fro Yo</td><td>180</td><td>2</td><td>15</td><td>35</td><td>25</td><td>5</td><td>Ice Cream</td><td>0.5</td></tr></table>"
                    },
                    "metadata": {}
                }
            ],
            "execution_count": 4
        },
        {
            "cell_type": "code",
            "source": [
                "select * from benjerry \r\n",
                "    where flavor ilike 'B%'; -- begins with"
            ],
            "metadata": {
                "azdata_cell_guid": "3896b727-c9ea-432b-8262-a9d50e54167e"
            },
            "outputs": [
                {
                    "output_type": "display_data",
                    "data": {
                        "text/html": "(16 row(s) affected)"
                    },
                    "metadata": {}
                },
                {
                    "output_type": "display_data",
                    "data": {
                        "text/html": "Total execution time: 00:00:00.010"
                    },
                    "metadata": {}
                },
                {
                    "output_type": "execute_result",
                    "execution_count": 5,
                    "data": {
                        "application/vnd.dataresource+json": {
                            "schema": {
                                "fields": [
                                    {
                                        "name": "flavor"
                                    },
                                    {
                                        "name": "calories"
                                    },
                                    {
                                        "name": "fat_g"
                                    },
                                    {
                                        "name": "cholesterol_mg"
                                    },
                                    {
                                        "name": "carbs_g"
                                    },
                                    {
                                        "name": "sugars_g"
                                    },
                                    {
                                        "name": "protein_g"
                                    },
                                    {
                                        "name": "category"
                                    },
                                    {
                                        "name": "size_cup"
                                    }
                                ]
                            },
                            "data": [
                                {
                                    "0": "Banana Split",
                                    "1": "250",
                                    "2": "15",
                                    "3": "65",
                                    "4": "27",
                                    "5": "25",
                                    "6": "3",
                                    "7": "Ice Cream",
                                    "8": "0.5"
                                },
                                {
                                    "0": "Boston Cream Pie",
                                    "1": "250",
                                    "2": "13",
                                    "3": "90",
                                    "4": "29",
                                    "5": "26",
                                    "6": "3",
                                    "7": "Ice Cream",
                                    "8": "0.5"
                                },
                                {
                                    "0": "Banana Peanut Butter Greek Frozen Yogurt",
                                    "1": "210",
                                    "2": "8",
                                    "3": "25",
                                    "4": "30",
                                    "5": "26",
                                    "6": "6",
                                    "7": "Ice Cream",
                                    "8": "0.5"
                                },
                                {
                                    "0": "Blueberry Vanilla Graham Greek Frozen Yogurt",
                                    "1": "200",
                                    "2": "7",
                                    "3": "25",
                                    "4": "29",
                                    "5": "23",
                                    "6": "6",
                                    "7": "Ice Cream",
                                    "8": "0.5"
                                },
                                {
                                    "0": "Banana Split",
                                    "1": "250",
                                    "2": "15",
                                    "3": "65",
                                    "4": "27",
                                    "5": "25",
                                    "6": "3",
                                    "7": "Ice Cream",
                                    "8": "0.5"
                                },
                                {
                                    "0": "Boston Cream Pie",
                                    "1": "250",
                                    "2": "13",
                                    "3": "90",
                                    "4": "29",
                                    "5": "26",
                                    "6": "3",
                                    "7": "Ice Cream",
                                    "8": "0.5"
                                },
                                {
                                    "0": "Banana Peanut Butter Greek Frozen Yogurt",
                                    "1": "210",
                                    "2": "8",
                                    "3": "25",
                                    "4": "30",
                                    "5": "26",
                                    "6": "6",
                                    "7": "Ice Cream",
                                    "8": "0.5"
                                },
                                {
                                    "0": "Blueberry Vanilla Graham Greek Frozen Yogurt",
                                    "1": "200",
                                    "2": "7",
                                    "3": "25",
                                    "4": "29",
                                    "5": "23",
                                    "6": "6",
                                    "7": "Ice Cream",
                                    "8": "0.5"
                                },
                                {
                                    "0": "Banana Split",
                                    "1": "250",
                                    "2": "15",
                                    "3": "65",
                                    "4": "27",
                                    "5": "25",
                                    "6": "3",
                                    "7": "Ice Cream",
                                    "8": "0.5"
                                },
                                {
                                    "0": "Boston Cream Pie",
                                    "1": "250",
                                    "2": "13",
                                    "3": "90",
                                    "4": "29",
                                    "5": "26",
                                    "6": "3",
                                    "7": "Ice Cream",
                                    "8": "0.5"
                                },
                                {
                                    "0": "Banana Peanut Butter Greek Frozen Yogurt",
                                    "1": "210",
                                    "2": "8",
                                    "3": "25",
                                    "4": "30",
                                    "5": "26",
                                    "6": "6",
                                    "7": "Ice Cream",
                                    "8": "0.5"
                                },
                                {
                                    "0": "Blueberry Vanilla Graham Greek Frozen Yogurt",
                                    "1": "200",
                                    "2": "7",
                                    "3": "25",
                                    "4": "29",
                                    "5": "23",
                                    "6": "6",
                                    "7": "Ice Cream",
                                    "8": "0.5"
                                },
                                {
                                    "0": "Banana Split",
                                    "1": "250",
                                    "2": "15",
                                    "3": "65",
                                    "4": "27",
                                    "5": "25",
                                    "6": "3",
                                    "7": "Ice Cream",
                                    "8": "0.5"
                                },
                                {
                                    "0": "Boston Cream Pie",
                                    "1": "250",
                                    "2": "13",
                                    "3": "90",
                                    "4": "29",
                                    "5": "26",
                                    "6": "3",
                                    "7": "Ice Cream",
                                    "8": "0.5"
                                },
                                {
                                    "0": "Banana Peanut Butter Greek Frozen Yogurt",
                                    "1": "210",
                                    "2": "8",
                                    "3": "25",
                                    "4": "30",
                                    "5": "26",
                                    "6": "6",
                                    "7": "Ice Cream",
                                    "8": "0.5"
                                },
                                {
                                    "0": "Blueberry Vanilla Graham Greek Frozen Yogurt",
                                    "1": "200",
                                    "2": "7",
                                    "3": "25",
                                    "4": "29",
                                    "5": "23",
                                    "6": "6",
                                    "7": "Ice Cream",
                                    "8": "0.5"
                                }
                            ]
                        },
                        "text/html": "<table><tr><th>flavor</th><th>calories</th><th>fat_g</th><th>cholesterol_mg</th><th>carbs_g</th><th>sugars_g</th><th>protein_g</th><th>category</th><th>size_cup</th></tr><tr><td>Banana Split</td><td>250</td><td>15</td><td>65</td><td>27</td><td>25</td><td>3</td><td>Ice Cream</td><td>0.5</td></tr><tr><td>Boston Cream Pie</td><td>250</td><td>13</td><td>90</td><td>29</td><td>26</td><td>3</td><td>Ice Cream</td><td>0.5</td></tr><tr><td>Banana Peanut Butter Greek Frozen Yogurt</td><td>210</td><td>8</td><td>25</td><td>30</td><td>26</td><td>6</td><td>Ice Cream</td><td>0.5</td></tr><tr><td>Blueberry Vanilla Graham Greek Frozen Yogurt</td><td>200</td><td>7</td><td>25</td><td>29</td><td>23</td><td>6</td><td>Ice Cream</td><td>0.5</td></tr><tr><td>Banana Split</td><td>250</td><td>15</td><td>65</td><td>27</td><td>25</td><td>3</td><td>Ice Cream</td><td>0.5</td></tr><tr><td>Boston Cream Pie</td><td>250</td><td>13</td><td>90</td><td>29</td><td>26</td><td>3</td><td>Ice Cream</td><td>0.5</td></tr><tr><td>Banana Peanut Butter Greek Frozen Yogurt</td><td>210</td><td>8</td><td>25</td><td>30</td><td>26</td><td>6</td><td>Ice Cream</td><td>0.5</td></tr><tr><td>Blueberry Vanilla Graham Greek Frozen Yogurt</td><td>200</td><td>7</td><td>25</td><td>29</td><td>23</td><td>6</td><td>Ice Cream</td><td>0.5</td></tr><tr><td>Banana Split</td><td>250</td><td>15</td><td>65</td><td>27</td><td>25</td><td>3</td><td>Ice Cream</td><td>0.5</td></tr><tr><td>Boston Cream Pie</td><td>250</td><td>13</td><td>90</td><td>29</td><td>26</td><td>3</td><td>Ice Cream</td><td>0.5</td></tr><tr><td>Banana Peanut Butter Greek Frozen Yogurt</td><td>210</td><td>8</td><td>25</td><td>30</td><td>26</td><td>6</td><td>Ice Cream</td><td>0.5</td></tr><tr><td>Blueberry Vanilla Graham Greek Frozen Yogurt</td><td>200</td><td>7</td><td>25</td><td>29</td><td>23</td><td>6</td><td>Ice Cream</td><td>0.5</td></tr><tr><td>Banana Split</td><td>250</td><td>15</td><td>65</td><td>27</td><td>25</td><td>3</td><td>Ice Cream</td><td>0.5</td></tr><tr><td>Boston Cream Pie</td><td>250</td><td>13</td><td>90</td><td>29</td><td>26</td><td>3</td><td>Ice Cream</td><td>0.5</td></tr><tr><td>Banana Peanut Butter Greek Frozen Yogurt</td><td>210</td><td>8</td><td>25</td><td>30</td><td>26</td><td>6</td><td>Ice Cream</td><td>0.5</td></tr><tr><td>Blueberry Vanilla Graham Greek Frozen Yogurt</td><td>200</td><td>7</td><td>25</td><td>29</td><td>23</td><td>6</td><td>Ice Cream</td><td>0.5</td></tr></table>"
                    },
                    "metadata": {}
                }
            ],
            "execution_count": 5
        },
        {
            "cell_type": "code",
            "source": [
                "select * from benjerry \r\n",
                "    where flavor ilike '%Ba%'; -- contains Ba (case insensitive)"
            ],
            "metadata": {
                "azdata_cell_guid": "5d3f4cd8-0693-4349-9dc5-10261c61da8e"
            },
            "outputs": [
                {
                    "output_type": "display_data",
                    "data": {
                        "text/html": "(28 row(s) affected)"
                    },
                    "metadata": {}
                },
                {
                    "output_type": "display_data",
                    "data": {
                        "text/html": "Total execution time: 00:00:00.012"
                    },
                    "metadata": {}
                },
                {
                    "output_type": "execute_result",
                    "execution_count": 6,
                    "data": {
                        "application/vnd.dataresource+json": {
                            "schema": {
                                "fields": [
                                    {
                                        "name": "flavor"
                                    },
                                    {
                                        "name": "calories"
                                    },
                                    {
                                        "name": "fat_g"
                                    },
                                    {
                                        "name": "cholesterol_mg"
                                    },
                                    {
                                        "name": "carbs_g"
                                    },
                                    {
                                        "name": "sugars_g"
                                    },
                                    {
                                        "name": "protein_g"
                                    },
                                    {
                                        "name": "category"
                                    },
                                    {
                                        "name": "size_cup"
                                    }
                                ]
                            },
                            "data": [
                                {
                                    "0": "Banana Split",
                                    "1": "250",
                                    "2": "15",
                                    "3": "65",
                                    "4": "27",
                                    "5": "25",
                                    "6": "3",
                                    "7": "Ice Cream",
                                    "8": "0.5"
                                },
                                {
                                    "0": "Cake Batter",
                                    "1": "260",
                                    "2": "16",
                                    "3": "65",
                                    "4": "27",
                                    "5": "23",
                                    "6": "4",
                                    "7": "Ice Cream",
                                    "8": "0.5"
                                },
                                {
                                    "0": "Coffee Heath Bar Crunch",
                                    "1": "280",
                                    "2": "16",
                                    "3": "60",
                                    "4": "30",
                                    "5": "27",
                                    "6": "4",
                                    "7": "Ice Cream",
                                    "8": "0.5"
                                },
                                {
                                    "0": "Half Baked",
                                    "1": "270",
                                    "2": "13",
                                    "3": "55",
                                    "4": "35",
                                    "5": "27",
                                    "6": "4",
                                    "7": "Ice Cream",
                                    "8": "0.5"
                                },
                                {
                                    "0": "Vanilla Heath Bar Crunch",
                                    "1": "280",
                                    "2": "17",
                                    "3": "65",
                                    "4": "30",
                                    "5": "27",
                                    "6": "4",
                                    "7": "Ice Cream",
                                    "8": "0.5"
                                },
                                {
                                    "0": "Half Baked Fro Yo",
                                    "1": "180",
                                    "2": "3",
                                    "3": "20",
                                    "4": "35",
                                    "5": "23",
                                    "6": "4",
                                    "7": "Ice Cream",
                                    "8": "0.5"
                                },
                                {
                                    "0": "Banana Peanut Butter Greek Frozen Yogurt",
                                    "1": "210",
                                    "2": "8",
                                    "3": "25",
                                    "4": "30",
                                    "5": "26",
                                    "6": "6",
                                    "7": "Ice Cream",
                                    "8": "0.5"
                                },
                                {
                                    "0": "Banana Split",
                                    "1": "250",
                                    "2": "15",
                                    "3": "65",
                                    "4": "27",
                                    "5": "25",
                                    "6": "3",
                                    "7": "Ice Cream",
                                    "8": "0.5"
                                },
                                {
                                    "0": "Cake Batter",
                                    "1": "260",
                                    "2": "16",
                                    "3": "65",
                                    "4": "27",
                                    "5": "23",
                                    "6": "4",
                                    "7": "Ice Cream",
                                    "8": "0.5"
                                },
                                {
                                    "0": "Coffee Heath Bar Crunch",
                                    "1": "280",
                                    "2": "16",
                                    "3": "60",
                                    "4": "30",
                                    "5": "27",
                                    "6": "4",
                                    "7": "Ice Cream",
                                    "8": "0.5"
                                },
                                {
                                    "0": "Half Baked",
                                    "1": "270",
                                    "2": "13",
                                    "3": "55",
                                    "4": "35",
                                    "5": "27",
                                    "6": "4",
                                    "7": "Ice Cream",
                                    "8": "0.5"
                                },
                                {
                                    "0": "Vanilla Heath Bar Crunch",
                                    "1": "280",
                                    "2": "17",
                                    "3": "65",
                                    "4": "30",
                                    "5": "27",
                                    "6": "4",
                                    "7": "Ice Cream",
                                    "8": "0.5"
                                },
                                {
                                    "0": "Half Baked Fro Yo",
                                    "1": "180",
                                    "2": "3",
                                    "3": "20",
                                    "4": "35",
                                    "5": "23",
                                    "6": "4",
                                    "7": "Ice Cream",
                                    "8": "0.5"
                                },
                                {
                                    "0": "Banana Peanut Butter Greek Frozen Yogurt",
                                    "1": "210",
                                    "2": "8",
                                    "3": "25",
                                    "4": "30",
                                    "5": "26",
                                    "6": "6",
                                    "7": "Ice Cream",
                                    "8": "0.5"
                                },
                                {
                                    "0": "Banana Split",
                                    "1": "250",
                                    "2": "15",
                                    "3": "65",
                                    "4": "27",
                                    "5": "25",
                                    "6": "3",
                                    "7": "Ice Cream",
                                    "8": "0.5"
                                },
                                {
                                    "0": "Cake Batter",
                                    "1": "260",
                                    "2": "16",
                                    "3": "65",
                                    "4": "27",
                                    "5": "23",
                                    "6": "4",
                                    "7": "Ice Cream",
                                    "8": "0.5"
                                },
                                {
                                    "0": "Coffee Heath Bar Crunch",
                                    "1": "280",
                                    "2": "16",
                                    "3": "60",
                                    "4": "30",
                                    "5": "27",
                                    "6": "4",
                                    "7": "Ice Cream",
                                    "8": "0.5"
                                },
                                {
                                    "0": "Half Baked",
                                    "1": "270",
                                    "2": "13",
                                    "3": "55",
                                    "4": "35",
                                    "5": "27",
                                    "6": "4",
                                    "7": "Ice Cream",
                                    "8": "0.5"
                                },
                                {
                                    "0": "Vanilla Heath Bar Crunch",
                                    "1": "280",
                                    "2": "17",
                                    "3": "65",
                                    "4": "30",
                                    "5": "27",
                                    "6": "4",
                                    "7": "Ice Cream",
                                    "8": "0.5"
                                },
                                {
                                    "0": "Half Baked Fro Yo",
                                    "1": "180",
                                    "2": "3",
                                    "3": "20",
                                    "4": "35",
                                    "5": "23",
                                    "6": "4",
                                    "7": "Ice Cream",
                                    "8": "0.5"
                                },
                                {
                                    "0": "Banana Peanut Butter Greek Frozen Yogurt",
                                    "1": "210",
                                    "2": "8",
                                    "3": "25",
                                    "4": "30",
                                    "5": "26",
                                    "6": "6",
                                    "7": "Ice Cream",
                                    "8": "0.5"
                                },
                                {
                                    "0": "Banana Split",
                                    "1": "250",
                                    "2": "15",
                                    "3": "65",
                                    "4": "27",
                                    "5": "25",
                                    "6": "3",
                                    "7": "Ice Cream",
                                    "8": "0.5"
                                },
                                {
                                    "0": "Cake Batter",
                                    "1": "260",
                                    "2": "16",
                                    "3": "65",
                                    "4": "27",
                                    "5": "23",
                                    "6": "4",
                                    "7": "Ice Cream",
                                    "8": "0.5"
                                },
                                {
                                    "0": "Coffee Heath Bar Crunch",
                                    "1": "280",
                                    "2": "16",
                                    "3": "60",
                                    "4": "30",
                                    "5": "27",
                                    "6": "4",
                                    "7": "Ice Cream",
                                    "8": "0.5"
                                },
                                {
                                    "0": "Half Baked",
                                    "1": "270",
                                    "2": "13",
                                    "3": "55",
                                    "4": "35",
                                    "5": "27",
                                    "6": "4",
                                    "7": "Ice Cream",
                                    "8": "0.5"
                                },
                                {
                                    "0": "Vanilla Heath Bar Crunch",
                                    "1": "280",
                                    "2": "17",
                                    "3": "65",
                                    "4": "30",
                                    "5": "27",
                                    "6": "4",
                                    "7": "Ice Cream",
                                    "8": "0.5"
                                },
                                {
                                    "0": "Half Baked Fro Yo",
                                    "1": "180",
                                    "2": "3",
                                    "3": "20",
                                    "4": "35",
                                    "5": "23",
                                    "6": "4",
                                    "7": "Ice Cream",
                                    "8": "0.5"
                                },
                                {
                                    "0": "Banana Peanut Butter Greek Frozen Yogurt",
                                    "1": "210",
                                    "2": "8",
                                    "3": "25",
                                    "4": "30",
                                    "5": "26",
                                    "6": "6",
                                    "7": "Ice Cream",
                                    "8": "0.5"
                                }
                            ]
                        },
                        "text/html": "<table><tr><th>flavor</th><th>calories</th><th>fat_g</th><th>cholesterol_mg</th><th>carbs_g</th><th>sugars_g</th><th>protein_g</th><th>category</th><th>size_cup</th></tr><tr><td>Banana Split</td><td>250</td><td>15</td><td>65</td><td>27</td><td>25</td><td>3</td><td>Ice Cream</td><td>0.5</td></tr><tr><td>Cake Batter</td><td>260</td><td>16</td><td>65</td><td>27</td><td>23</td><td>4</td><td>Ice Cream</td><td>0.5</td></tr><tr><td>Coffee Heath Bar Crunch</td><td>280</td><td>16</td><td>60</td><td>30</td><td>27</td><td>4</td><td>Ice Cream</td><td>0.5</td></tr><tr><td>Half Baked</td><td>270</td><td>13</td><td>55</td><td>35</td><td>27</td><td>4</td><td>Ice Cream</td><td>0.5</td></tr><tr><td>Vanilla Heath Bar Crunch</td><td>280</td><td>17</td><td>65</td><td>30</td><td>27</td><td>4</td><td>Ice Cream</td><td>0.5</td></tr><tr><td>Half Baked Fro Yo</td><td>180</td><td>3</td><td>20</td><td>35</td><td>23</td><td>4</td><td>Ice Cream</td><td>0.5</td></tr><tr><td>Banana Peanut Butter Greek Frozen Yogurt</td><td>210</td><td>8</td><td>25</td><td>30</td><td>26</td><td>6</td><td>Ice Cream</td><td>0.5</td></tr><tr><td>Banana Split</td><td>250</td><td>15</td><td>65</td><td>27</td><td>25</td><td>3</td><td>Ice Cream</td><td>0.5</td></tr><tr><td>Cake Batter</td><td>260</td><td>16</td><td>65</td><td>27</td><td>23</td><td>4</td><td>Ice Cream</td><td>0.5</td></tr><tr><td>Coffee Heath Bar Crunch</td><td>280</td><td>16</td><td>60</td><td>30</td><td>27</td><td>4</td><td>Ice Cream</td><td>0.5</td></tr><tr><td>Half Baked</td><td>270</td><td>13</td><td>55</td><td>35</td><td>27</td><td>4</td><td>Ice Cream</td><td>0.5</td></tr><tr><td>Vanilla Heath Bar Crunch</td><td>280</td><td>17</td><td>65</td><td>30</td><td>27</td><td>4</td><td>Ice Cream</td><td>0.5</td></tr><tr><td>Half Baked Fro Yo</td><td>180</td><td>3</td><td>20</td><td>35</td><td>23</td><td>4</td><td>Ice Cream</td><td>0.5</td></tr><tr><td>Banana Peanut Butter Greek Frozen Yogurt</td><td>210</td><td>8</td><td>25</td><td>30</td><td>26</td><td>6</td><td>Ice Cream</td><td>0.5</td></tr><tr><td>Banana Split</td><td>250</td><td>15</td><td>65</td><td>27</td><td>25</td><td>3</td><td>Ice Cream</td><td>0.5</td></tr><tr><td>Cake Batter</td><td>260</td><td>16</td><td>65</td><td>27</td><td>23</td><td>4</td><td>Ice Cream</td><td>0.5</td></tr><tr><td>Coffee Heath Bar Crunch</td><td>280</td><td>16</td><td>60</td><td>30</td><td>27</td><td>4</td><td>Ice Cream</td><td>0.5</td></tr><tr><td>Half Baked</td><td>270</td><td>13</td><td>55</td><td>35</td><td>27</td><td>4</td><td>Ice Cream</td><td>0.5</td></tr><tr><td>Vanilla Heath Bar Crunch</td><td>280</td><td>17</td><td>65</td><td>30</td><td>27</td><td>4</td><td>Ice Cream</td><td>0.5</td></tr><tr><td>Half Baked Fro Yo</td><td>180</td><td>3</td><td>20</td><td>35</td><td>23</td><td>4</td><td>Ice Cream</td><td>0.5</td></tr><tr><td>Banana Peanut Butter Greek Frozen Yogurt</td><td>210</td><td>8</td><td>25</td><td>30</td><td>26</td><td>6</td><td>Ice Cream</td><td>0.5</td></tr><tr><td>Banana Split</td><td>250</td><td>15</td><td>65</td><td>27</td><td>25</td><td>3</td><td>Ice Cream</td><td>0.5</td></tr><tr><td>Cake Batter</td><td>260</td><td>16</td><td>65</td><td>27</td><td>23</td><td>4</td><td>Ice Cream</td><td>0.5</td></tr><tr><td>Coffee Heath Bar Crunch</td><td>280</td><td>16</td><td>60</td><td>30</td><td>27</td><td>4</td><td>Ice Cream</td><td>0.5</td></tr><tr><td>Half Baked</td><td>270</td><td>13</td><td>55</td><td>35</td><td>27</td><td>4</td><td>Ice Cream</td><td>0.5</td></tr><tr><td>Vanilla Heath Bar Crunch</td><td>280</td><td>17</td><td>65</td><td>30</td><td>27</td><td>4</td><td>Ice Cream</td><td>0.5</td></tr><tr><td>Half Baked Fro Yo</td><td>180</td><td>3</td><td>20</td><td>35</td><td>23</td><td>4</td><td>Ice Cream</td><td>0.5</td></tr><tr><td>Banana Peanut Butter Greek Frozen Yogurt</td><td>210</td><td>8</td><td>25</td><td>30</td><td>26</td><td>6</td><td>Ice Cream</td><td>0.5</td></tr></table>"
                    },
                    "metadata": {}
                }
            ],
            "execution_count": 6
        },
        {
            "cell_type": "code",
            "source": [
                "-- contains either chocolate or banana\r\n",
                "select * from benjerry \r\n",
                "    where flavor ilike '%chocolate%' or flavor ilike '%banana%';"
            ],
            "metadata": {
                "azdata_cell_guid": "4cd621e7-6f0b-42c9-915f-4a2a541512c8"
            },
            "outputs": [
                {
                    "output_type": "display_data",
                    "data": {
                        "text/html": "(40 row(s) affected)"
                    },
                    "metadata": {}
                },
                {
                    "output_type": "display_data",
                    "data": {
                        "text/html": "Total execution time: 00:00:00.060"
                    },
                    "metadata": {}
                },
                {
                    "output_type": "execute_result",
                    "execution_count": 7,
                    "data": {
                        "application/vnd.dataresource+json": {
                            "schema": {
                                "fields": [
                                    {
                                        "name": "flavor"
                                    },
                                    {
                                        "name": "calories"
                                    },
                                    {
                                        "name": "fat_g"
                                    },
                                    {
                                        "name": "cholesterol_mg"
                                    },
                                    {
                                        "name": "carbs_g"
                                    },
                                    {
                                        "name": "sugars_g"
                                    },
                                    {
                                        "name": "protein_g"
                                    },
                                    {
                                        "name": "category"
                                    },
                                    {
                                        "name": "size_cup"
                                    }
                                ]
                            },
                            "data": [
                                {
                                    "0": "Banana Split",
                                    "1": "250",
                                    "2": "15",
                                    "3": "65",
                                    "4": "27",
                                    "5": "25",
                                    "6": "3",
                                    "7": "Ice Cream",
                                    "8": "0.5"
                                },
                                {
                                    "0": "Chocolate",
                                    "1": "250",
                                    "2": "14",
                                    "3": "40",
                                    "4": "25",
                                    "5": "21",
                                    "6": "4",
                                    "7": "Ice Cream",
                                    "8": "0.5"
                                },
                                {
                                    "0": "Chocolate Chip Cookie Dough",
                                    "1": "270",
                                    "2": "14",
                                    "3": "65",
                                    "4": "33",
                                    "5": "25",
                                    "6": "4",
                                    "7": "Ice Cream",
                                    "8": "0.5"
                                },
                                {
                                    "0": "Chocolate Fudge Brownie",
                                    "1": "260",
                                    "2": "12",
                                    "3": "40",
                                    "4": "34",
                                    "5": "27",
                                    "6": "4",
                                    "7": "Ice Cream",
                                    "8": "0.5"
                                },
                                {
                                    "0": "Chocolate Nougat Crunch",
                                    "1": "260",
                                    "2": "14",
                                    "3": "60",
                                    "4": "30",
                                    "5": "30",
                                    "6": "4",
                                    "7": "Ice Cream",
                                    "8": "0.5"
                                },
                                {
                                    "0": "Chocolate Peppermint Crunch",
                                    "1": "290",
                                    "2": "16",
                                    "3": "45",
                                    "4": "33",
                                    "5": "28",
                                    "6": "4",
                                    "7": "Ice Cream",
                                    "8": "0.5"
                                },
                                {
                                    "0": "Chocolate Therapy",
                                    "1": "240",
                                    "2": "13",
                                    "3": "45",
                                    "4": "27",
                                    "5": "21",
                                    "6": "4",
                                    "7": "Ice Cream",
                                    "8": "0.5"
                                },
                                {
                                    "0": "Mint Chocolate Cookie",
                                    "1": "260",
                                    "2": "14",
                                    "3": "65",
                                    "4": "28",
                                    "5": "22",
                                    "6": "4",
                                    "7": "Ice Cream",
                                    "8": "0.5"
                                },
                                {
                                    "0": "Chocolate Fudge Brownie Fro Yo",
                                    "1": "180",
                                    "2": "2",
                                    "3": "15",
                                    "4": "35",
                                    "5": "25",
                                    "6": "5",
                                    "7": "Ice Cream",
                                    "8": "0.5"
                                },
                                {
                                    "0": "Banana Peanut Butter Greek Frozen Yogurt",
                                    "1": "210",
                                    "2": "8",
                                    "3": "25",
                                    "4": "30",
                                    "5": "26",
                                    "6": "6",
                                    "7": "Ice Cream",
                                    "8": "0.5"
                                },
                                {
                                    "0": "Banana Split",
                                    "1": "250",
                                    "2": "15",
                                    "3": "65",
                                    "4": "27",
                                    "5": "25",
                                    "6": "3",
                                    "7": "Ice Cream",
                                    "8": "0.5"
                                },
                                {
                                    "0": "Chocolate",
                                    "1": "250",
                                    "2": "14",
                                    "3": "40",
                                    "4": "25",
                                    "5": "21",
                                    "6": "4",
                                    "7": "Ice Cream",
                                    "8": "0.5"
                                },
                                {
                                    "0": "Chocolate Chip Cookie Dough",
                                    "1": "270",
                                    "2": "14",
                                    "3": "65",
                                    "4": "33",
                                    "5": "25",
                                    "6": "4",
                                    "7": "Ice Cream",
                                    "8": "0.5"
                                },
                                {
                                    "0": "Chocolate Fudge Brownie",
                                    "1": "260",
                                    "2": "12",
                                    "3": "40",
                                    "4": "34",
                                    "5": "27",
                                    "6": "4",
                                    "7": "Ice Cream",
                                    "8": "0.5"
                                },
                                {
                                    "0": "Chocolate Nougat Crunch",
                                    "1": "260",
                                    "2": "14",
                                    "3": "60",
                                    "4": "30",
                                    "5": "30",
                                    "6": "4",
                                    "7": "Ice Cream",
                                    "8": "0.5"
                                },
                                {
                                    "0": "Chocolate Peppermint Crunch",
                                    "1": "290",
                                    "2": "16",
                                    "3": "45",
                                    "4": "33",
                                    "5": "28",
                                    "6": "4",
                                    "7": "Ice Cream",
                                    "8": "0.5"
                                },
                                {
                                    "0": "Chocolate Therapy",
                                    "1": "240",
                                    "2": "13",
                                    "3": "45",
                                    "4": "27",
                                    "5": "21",
                                    "6": "4",
                                    "7": "Ice Cream",
                                    "8": "0.5"
                                },
                                {
                                    "0": "Mint Chocolate Cookie",
                                    "1": "260",
                                    "2": "14",
                                    "3": "65",
                                    "4": "28",
                                    "5": "22",
                                    "6": "4",
                                    "7": "Ice Cream",
                                    "8": "0.5"
                                },
                                {
                                    "0": "Chocolate Fudge Brownie Fro Yo",
                                    "1": "180",
                                    "2": "2",
                                    "3": "15",
                                    "4": "35",
                                    "5": "25",
                                    "6": "5",
                                    "7": "Ice Cream",
                                    "8": "0.5"
                                },
                                {
                                    "0": "Banana Peanut Butter Greek Frozen Yogurt",
                                    "1": "210",
                                    "2": "8",
                                    "3": "25",
                                    "4": "30",
                                    "5": "26",
                                    "6": "6",
                                    "7": "Ice Cream",
                                    "8": "0.5"
                                },
                                {
                                    "0": "Banana Split",
                                    "1": "250",
                                    "2": "15",
                                    "3": "65",
                                    "4": "27",
                                    "5": "25",
                                    "6": "3",
                                    "7": "Ice Cream",
                                    "8": "0.5"
                                },
                                {
                                    "0": "Chocolate",
                                    "1": "250",
                                    "2": "14",
                                    "3": "40",
                                    "4": "25",
                                    "5": "21",
                                    "6": "4",
                                    "7": "Ice Cream",
                                    "8": "0.5"
                                },
                                {
                                    "0": "Chocolate Chip Cookie Dough",
                                    "1": "270",
                                    "2": "14",
                                    "3": "65",
                                    "4": "33",
                                    "5": "25",
                                    "6": "4",
                                    "7": "Ice Cream",
                                    "8": "0.5"
                                },
                                {
                                    "0": "Chocolate Fudge Brownie",
                                    "1": "260",
                                    "2": "12",
                                    "3": "40",
                                    "4": "34",
                                    "5": "27",
                                    "6": "4",
                                    "7": "Ice Cream",
                                    "8": "0.5"
                                },
                                {
                                    "0": "Chocolate Nougat Crunch",
                                    "1": "260",
                                    "2": "14",
                                    "3": "60",
                                    "4": "30",
                                    "5": "30",
                                    "6": "4",
                                    "7": "Ice Cream",
                                    "8": "0.5"
                                },
                                {
                                    "0": "Chocolate Peppermint Crunch",
                                    "1": "290",
                                    "2": "16",
                                    "3": "45",
                                    "4": "33",
                                    "5": "28",
                                    "6": "4",
                                    "7": "Ice Cream",
                                    "8": "0.5"
                                },
                                {
                                    "0": "Chocolate Therapy",
                                    "1": "240",
                                    "2": "13",
                                    "3": "45",
                                    "4": "27",
                                    "5": "21",
                                    "6": "4",
                                    "7": "Ice Cream",
                                    "8": "0.5"
                                },
                                {
                                    "0": "Mint Chocolate Cookie",
                                    "1": "260",
                                    "2": "14",
                                    "3": "65",
                                    "4": "28",
                                    "5": "22",
                                    "6": "4",
                                    "7": "Ice Cream",
                                    "8": "0.5"
                                },
                                {
                                    "0": "Chocolate Fudge Brownie Fro Yo",
                                    "1": "180",
                                    "2": "2",
                                    "3": "15",
                                    "4": "35",
                                    "5": "25",
                                    "6": "5",
                                    "7": "Ice Cream",
                                    "8": "0.5"
                                },
                                {
                                    "0": "Banana Peanut Butter Greek Frozen Yogurt",
                                    "1": "210",
                                    "2": "8",
                                    "3": "25",
                                    "4": "30",
                                    "5": "26",
                                    "6": "6",
                                    "7": "Ice Cream",
                                    "8": "0.5"
                                },
                                {
                                    "0": "Banana Split",
                                    "1": "250",
                                    "2": "15",
                                    "3": "65",
                                    "4": "27",
                                    "5": "25",
                                    "6": "3",
                                    "7": "Ice Cream",
                                    "8": "0.5"
                                },
                                {
                                    "0": "Chocolate",
                                    "1": "250",
                                    "2": "14",
                                    "3": "40",
                                    "4": "25",
                                    "5": "21",
                                    "6": "4",
                                    "7": "Ice Cream",
                                    "8": "0.5"
                                },
                                {
                                    "0": "Chocolate Chip Cookie Dough",
                                    "1": "270",
                                    "2": "14",
                                    "3": "65",
                                    "4": "33",
                                    "5": "25",
                                    "6": "4",
                                    "7": "Ice Cream",
                                    "8": "0.5"
                                },
                                {
                                    "0": "Chocolate Fudge Brownie",
                                    "1": "260",
                                    "2": "12",
                                    "3": "40",
                                    "4": "34",
                                    "5": "27",
                                    "6": "4",
                                    "7": "Ice Cream",
                                    "8": "0.5"
                                },
                                {
                                    "0": "Chocolate Nougat Crunch",
                                    "1": "260",
                                    "2": "14",
                                    "3": "60",
                                    "4": "30",
                                    "5": "30",
                                    "6": "4",
                                    "7": "Ice Cream",
                                    "8": "0.5"
                                },
                                {
                                    "0": "Chocolate Peppermint Crunch",
                                    "1": "290",
                                    "2": "16",
                                    "3": "45",
                                    "4": "33",
                                    "5": "28",
                                    "6": "4",
                                    "7": "Ice Cream",
                                    "8": "0.5"
                                },
                                {
                                    "0": "Chocolate Therapy",
                                    "1": "240",
                                    "2": "13",
                                    "3": "45",
                                    "4": "27",
                                    "5": "21",
                                    "6": "4",
                                    "7": "Ice Cream",
                                    "8": "0.5"
                                },
                                {
                                    "0": "Mint Chocolate Cookie",
                                    "1": "260",
                                    "2": "14",
                                    "3": "65",
                                    "4": "28",
                                    "5": "22",
                                    "6": "4",
                                    "7": "Ice Cream",
                                    "8": "0.5"
                                },
                                {
                                    "0": "Chocolate Fudge Brownie Fro Yo",
                                    "1": "180",
                                    "2": "2",
                                    "3": "15",
                                    "4": "35",
                                    "5": "25",
                                    "6": "5",
                                    "7": "Ice Cream",
                                    "8": "0.5"
                                },
                                {
                                    "0": "Banana Peanut Butter Greek Frozen Yogurt",
                                    "1": "210",
                                    "2": "8",
                                    "3": "25",
                                    "4": "30",
                                    "5": "26",
                                    "6": "6",
                                    "7": "Ice Cream",
                                    "8": "0.5"
                                }
                            ]
                        },
                        "text/html": "<table><tr><th>flavor</th><th>calories</th><th>fat_g</th><th>cholesterol_mg</th><th>carbs_g</th><th>sugars_g</th><th>protein_g</th><th>category</th><th>size_cup</th></tr><tr><td>Banana Split</td><td>250</td><td>15</td><td>65</td><td>27</td><td>25</td><td>3</td><td>Ice Cream</td><td>0.5</td></tr><tr><td>Chocolate</td><td>250</td><td>14</td><td>40</td><td>25</td><td>21</td><td>4</td><td>Ice Cream</td><td>0.5</td></tr><tr><td>Chocolate Chip Cookie Dough</td><td>270</td><td>14</td><td>65</td><td>33</td><td>25</td><td>4</td><td>Ice Cream</td><td>0.5</td></tr><tr><td>Chocolate Fudge Brownie</td><td>260</td><td>12</td><td>40</td><td>34</td><td>27</td><td>4</td><td>Ice Cream</td><td>0.5</td></tr><tr><td>Chocolate Nougat Crunch</td><td>260</td><td>14</td><td>60</td><td>30</td><td>30</td><td>4</td><td>Ice Cream</td><td>0.5</td></tr><tr><td>Chocolate Peppermint Crunch</td><td>290</td><td>16</td><td>45</td><td>33</td><td>28</td><td>4</td><td>Ice Cream</td><td>0.5</td></tr><tr><td>Chocolate Therapy</td><td>240</td><td>13</td><td>45</td><td>27</td><td>21</td><td>4</td><td>Ice Cream</td><td>0.5</td></tr><tr><td>Mint Chocolate Cookie</td><td>260</td><td>14</td><td>65</td><td>28</td><td>22</td><td>4</td><td>Ice Cream</td><td>0.5</td></tr><tr><td>Chocolate Fudge Brownie Fro Yo</td><td>180</td><td>2</td><td>15</td><td>35</td><td>25</td><td>5</td><td>Ice Cream</td><td>0.5</td></tr><tr><td>Banana Peanut Butter Greek Frozen Yogurt</td><td>210</td><td>8</td><td>25</td><td>30</td><td>26</td><td>6</td><td>Ice Cream</td><td>0.5</td></tr><tr><td>Banana Split</td><td>250</td><td>15</td><td>65</td><td>27</td><td>25</td><td>3</td><td>Ice Cream</td><td>0.5</td></tr><tr><td>Chocolate</td><td>250</td><td>14</td><td>40</td><td>25</td><td>21</td><td>4</td><td>Ice Cream</td><td>0.5</td></tr><tr><td>Chocolate Chip Cookie Dough</td><td>270</td><td>14</td><td>65</td><td>33</td><td>25</td><td>4</td><td>Ice Cream</td><td>0.5</td></tr><tr><td>Chocolate Fudge Brownie</td><td>260</td><td>12</td><td>40</td><td>34</td><td>27</td><td>4</td><td>Ice Cream</td><td>0.5</td></tr><tr><td>Chocolate Nougat Crunch</td><td>260</td><td>14</td><td>60</td><td>30</td><td>30</td><td>4</td><td>Ice Cream</td><td>0.5</td></tr><tr><td>Chocolate Peppermint Crunch</td><td>290</td><td>16</td><td>45</td><td>33</td><td>28</td><td>4</td><td>Ice Cream</td><td>0.5</td></tr><tr><td>Chocolate Therapy</td><td>240</td><td>13</td><td>45</td><td>27</td><td>21</td><td>4</td><td>Ice Cream</td><td>0.5</td></tr><tr><td>Mint Chocolate Cookie</td><td>260</td><td>14</td><td>65</td><td>28</td><td>22</td><td>4</td><td>Ice Cream</td><td>0.5</td></tr><tr><td>Chocolate Fudge Brownie Fro Yo</td><td>180</td><td>2</td><td>15</td><td>35</td><td>25</td><td>5</td><td>Ice Cream</td><td>0.5</td></tr><tr><td>Banana Peanut Butter Greek Frozen Yogurt</td><td>210</td><td>8</td><td>25</td><td>30</td><td>26</td><td>6</td><td>Ice Cream</td><td>0.5</td></tr><tr><td>Banana Split</td><td>250</td><td>15</td><td>65</td><td>27</td><td>25</td><td>3</td><td>Ice Cream</td><td>0.5</td></tr><tr><td>Chocolate</td><td>250</td><td>14</td><td>40</td><td>25</td><td>21</td><td>4</td><td>Ice Cream</td><td>0.5</td></tr><tr><td>Chocolate Chip Cookie Dough</td><td>270</td><td>14</td><td>65</td><td>33</td><td>25</td><td>4</td><td>Ice Cream</td><td>0.5</td></tr><tr><td>Chocolate Fudge Brownie</td><td>260</td><td>12</td><td>40</td><td>34</td><td>27</td><td>4</td><td>Ice Cream</td><td>0.5</td></tr><tr><td>Chocolate Nougat Crunch</td><td>260</td><td>14</td><td>60</td><td>30</td><td>30</td><td>4</td><td>Ice Cream</td><td>0.5</td></tr><tr><td>Chocolate Peppermint Crunch</td><td>290</td><td>16</td><td>45</td><td>33</td><td>28</td><td>4</td><td>Ice Cream</td><td>0.5</td></tr><tr><td>Chocolate Therapy</td><td>240</td><td>13</td><td>45</td><td>27</td><td>21</td><td>4</td><td>Ice Cream</td><td>0.5</td></tr><tr><td>Mint Chocolate Cookie</td><td>260</td><td>14</td><td>65</td><td>28</td><td>22</td><td>4</td><td>Ice Cream</td><td>0.5</td></tr><tr><td>Chocolate Fudge Brownie Fro Yo</td><td>180</td><td>2</td><td>15</td><td>35</td><td>25</td><td>5</td><td>Ice Cream</td><td>0.5</td></tr><tr><td>Banana Peanut Butter Greek Frozen Yogurt</td><td>210</td><td>8</td><td>25</td><td>30</td><td>26</td><td>6</td><td>Ice Cream</td><td>0.5</td></tr><tr><td>Banana Split</td><td>250</td><td>15</td><td>65</td><td>27</td><td>25</td><td>3</td><td>Ice Cream</td><td>0.5</td></tr><tr><td>Chocolate</td><td>250</td><td>14</td><td>40</td><td>25</td><td>21</td><td>4</td><td>Ice Cream</td><td>0.5</td></tr><tr><td>Chocolate Chip Cookie Dough</td><td>270</td><td>14</td><td>65</td><td>33</td><td>25</td><td>4</td><td>Ice Cream</td><td>0.5</td></tr><tr><td>Chocolate Fudge Brownie</td><td>260</td><td>12</td><td>40</td><td>34</td><td>27</td><td>4</td><td>Ice Cream</td><td>0.5</td></tr><tr><td>Chocolate Nougat Crunch</td><td>260</td><td>14</td><td>60</td><td>30</td><td>30</td><td>4</td><td>Ice Cream</td><td>0.5</td></tr><tr><td>Chocolate Peppermint Crunch</td><td>290</td><td>16</td><td>45</td><td>33</td><td>28</td><td>4</td><td>Ice Cream</td><td>0.5</td></tr><tr><td>Chocolate Therapy</td><td>240</td><td>13</td><td>45</td><td>27</td><td>21</td><td>4</td><td>Ice Cream</td><td>0.5</td></tr><tr><td>Mint Chocolate Cookie</td><td>260</td><td>14</td><td>65</td><td>28</td><td>22</td><td>4</td><td>Ice Cream</td><td>0.5</td></tr><tr><td>Chocolate Fudge Brownie Fro Yo</td><td>180</td><td>2</td><td>15</td><td>35</td><td>25</td><td>5</td><td>Ice Cream</td><td>0.5</td></tr><tr><td>Banana Peanut Butter Greek Frozen Yogurt</td><td>210</td><td>8</td><td>25</td><td>30</td><td>26</td><td>6</td><td>Ice Cream</td><td>0.5</td></tr></table>"
                    },
                    "metadata": {}
                }
            ],
            "execution_count": 7
        },
        {
            "cell_type": "code",
            "source": [
                "-- contains either yogurt or banana\r\n",
                "select * from benjerry \r\n",
                "    where flavor ilike '%yogurt%' or flavor ilike '%banana%';"
            ],
            "metadata": {
                "azdata_cell_guid": "6b6088bf-ebc4-4858-bb6b-b653c5306b80"
            },
            "outputs": [
                {
                    "output_type": "display_data",
                    "data": {
                        "text/html": "(32 row(s) affected)"
                    },
                    "metadata": {}
                },
                {
                    "output_type": "display_data",
                    "data": {
                        "text/html": "Total execution time: 00:00:00.015"
                    },
                    "metadata": {}
                },
                {
                    "output_type": "execute_result",
                    "execution_count": 8,
                    "data": {
                        "application/vnd.dataresource+json": {
                            "schema": {
                                "fields": [
                                    {
                                        "name": "flavor"
                                    },
                                    {
                                        "name": "calories"
                                    },
                                    {
                                        "name": "fat_g"
                                    },
                                    {
                                        "name": "cholesterol_mg"
                                    },
                                    {
                                        "name": "carbs_g"
                                    },
                                    {
                                        "name": "sugars_g"
                                    },
                                    {
                                        "name": "protein_g"
                                    },
                                    {
                                        "name": "category"
                                    },
                                    {
                                        "name": "size_cup"
                                    }
                                ]
                            },
                            "data": [
                                {
                                    "0": "Banana Split",
                                    "1": "250",
                                    "2": "15",
                                    "3": "65",
                                    "4": "27",
                                    "5": "25",
                                    "6": "3",
                                    "7": "Ice Cream",
                                    "8": "0.5"
                                },
                                {
                                    "0": "Banana Peanut Butter Greek Frozen Yogurt",
                                    "1": "210",
                                    "2": "8",
                                    "3": "25",
                                    "4": "30",
                                    "5": "26",
                                    "6": "6",
                                    "7": "Ice Cream",
                                    "8": "0.5"
                                },
                                {
                                    "0": "Blueberry Vanilla Graham Greek Frozen Yogurt",
                                    "1": "200",
                                    "2": "7",
                                    "3": "25",
                                    "4": "29",
                                    "5": "23",
                                    "6": "6",
                                    "7": "Ice Cream",
                                    "8": "0.5"
                                },
                                {
                                    "0": "Liz Lemon Greek Frozen Yogurt",
                                    "1": "180",
                                    "2": "4",
                                    "3": "30",
                                    "4": "29",
                                    "5": "21",
                                    "6": "6",
                                    "7": "Ice Cream",
                                    "8": "0.5"
                                },
                                {
                                    "0": "Pineapple Passionfruit Greek Frozen Yogurt",
                                    "1": "180",
                                    "2": "4",
                                    "3": "65",
                                    "4": "30",
                                    "5": "26",
                                    "6": "5",
                                    "7": "Ice Cream",
                                    "8": "0.5"
                                },
                                {
                                    "0": "Raspberry Fudge Chunk Greek Frozen Yogurt",
                                    "1": "200",
                                    "2": "7",
                                    "3": "25",
                                    "4": "29",
                                    "5": "25",
                                    "6": "6",
                                    "7": "Ice Cream",
                                    "8": "0.5"
                                },
                                {
                                    "0": "Strawberry Shortcake Greek Frozen Yogurt",
                                    "1": "180",
                                    "2": "6",
                                    "3": "35",
                                    "4": "28",
                                    "5": "21",
                                    "6": "6",
                                    "7": "Ice Cream",
                                    "8": "0.5"
                                },
                                {
                                    "0": "Vanilla Honey Caramel Greek Frozen Yogurt",
                                    "1": "190",
                                    "2": "5",
                                    "3": "35",
                                    "4": "30",
                                    "5": "22",
                                    "6": "6",
                                    "7": "Ice Cream",
                                    "8": "0.5"
                                },
                                {
                                    "0": "Banana Split",
                                    "1": "250",
                                    "2": "15",
                                    "3": "65",
                                    "4": "27",
                                    "5": "25",
                                    "6": "3",
                                    "7": "Ice Cream",
                                    "8": "0.5"
                                },
                                {
                                    "0": "Banana Peanut Butter Greek Frozen Yogurt",
                                    "1": "210",
                                    "2": "8",
                                    "3": "25",
                                    "4": "30",
                                    "5": "26",
                                    "6": "6",
                                    "7": "Ice Cream",
                                    "8": "0.5"
                                },
                                {
                                    "0": "Blueberry Vanilla Graham Greek Frozen Yogurt",
                                    "1": "200",
                                    "2": "7",
                                    "3": "25",
                                    "4": "29",
                                    "5": "23",
                                    "6": "6",
                                    "7": "Ice Cream",
                                    "8": "0.5"
                                },
                                {
                                    "0": "Liz Lemon Greek Frozen Yogurt",
                                    "1": "180",
                                    "2": "4",
                                    "3": "30",
                                    "4": "29",
                                    "5": "21",
                                    "6": "6",
                                    "7": "Ice Cream",
                                    "8": "0.5"
                                },
                                {
                                    "0": "Pineapple Passionfruit Greek Frozen Yogurt",
                                    "1": "180",
                                    "2": "4",
                                    "3": "65",
                                    "4": "30",
                                    "5": "26",
                                    "6": "5",
                                    "7": "Ice Cream",
                                    "8": "0.5"
                                },
                                {
                                    "0": "Raspberry Fudge Chunk Greek Frozen Yogurt",
                                    "1": "200",
                                    "2": "7",
                                    "3": "25",
                                    "4": "29",
                                    "5": "25",
                                    "6": "6",
                                    "7": "Ice Cream",
                                    "8": "0.5"
                                },
                                {
                                    "0": "Strawberry Shortcake Greek Frozen Yogurt",
                                    "1": "180",
                                    "2": "6",
                                    "3": "35",
                                    "4": "28",
                                    "5": "21",
                                    "6": "6",
                                    "7": "Ice Cream",
                                    "8": "0.5"
                                },
                                {
                                    "0": "Vanilla Honey Caramel Greek Frozen Yogurt",
                                    "1": "190",
                                    "2": "5",
                                    "3": "35",
                                    "4": "30",
                                    "5": "22",
                                    "6": "6",
                                    "7": "Ice Cream",
                                    "8": "0.5"
                                },
                                {
                                    "0": "Banana Split",
                                    "1": "250",
                                    "2": "15",
                                    "3": "65",
                                    "4": "27",
                                    "5": "25",
                                    "6": "3",
                                    "7": "Ice Cream",
                                    "8": "0.5"
                                },
                                {
                                    "0": "Banana Peanut Butter Greek Frozen Yogurt",
                                    "1": "210",
                                    "2": "8",
                                    "3": "25",
                                    "4": "30",
                                    "5": "26",
                                    "6": "6",
                                    "7": "Ice Cream",
                                    "8": "0.5"
                                },
                                {
                                    "0": "Blueberry Vanilla Graham Greek Frozen Yogurt",
                                    "1": "200",
                                    "2": "7",
                                    "3": "25",
                                    "4": "29",
                                    "5": "23",
                                    "6": "6",
                                    "7": "Ice Cream",
                                    "8": "0.5"
                                },
                                {
                                    "0": "Liz Lemon Greek Frozen Yogurt",
                                    "1": "180",
                                    "2": "4",
                                    "3": "30",
                                    "4": "29",
                                    "5": "21",
                                    "6": "6",
                                    "7": "Ice Cream",
                                    "8": "0.5"
                                },
                                {
                                    "0": "Pineapple Passionfruit Greek Frozen Yogurt",
                                    "1": "180",
                                    "2": "4",
                                    "3": "65",
                                    "4": "30",
                                    "5": "26",
                                    "6": "5",
                                    "7": "Ice Cream",
                                    "8": "0.5"
                                },
                                {
                                    "0": "Raspberry Fudge Chunk Greek Frozen Yogurt",
                                    "1": "200",
                                    "2": "7",
                                    "3": "25",
                                    "4": "29",
                                    "5": "25",
                                    "6": "6",
                                    "7": "Ice Cream",
                                    "8": "0.5"
                                },
                                {
                                    "0": "Strawberry Shortcake Greek Frozen Yogurt",
                                    "1": "180",
                                    "2": "6",
                                    "3": "35",
                                    "4": "28",
                                    "5": "21",
                                    "6": "6",
                                    "7": "Ice Cream",
                                    "8": "0.5"
                                },
                                {
                                    "0": "Vanilla Honey Caramel Greek Frozen Yogurt",
                                    "1": "190",
                                    "2": "5",
                                    "3": "35",
                                    "4": "30",
                                    "5": "22",
                                    "6": "6",
                                    "7": "Ice Cream",
                                    "8": "0.5"
                                },
                                {
                                    "0": "Banana Split",
                                    "1": "250",
                                    "2": "15",
                                    "3": "65",
                                    "4": "27",
                                    "5": "25",
                                    "6": "3",
                                    "7": "Ice Cream",
                                    "8": "0.5"
                                },
                                {
                                    "0": "Banana Peanut Butter Greek Frozen Yogurt",
                                    "1": "210",
                                    "2": "8",
                                    "3": "25",
                                    "4": "30",
                                    "5": "26",
                                    "6": "6",
                                    "7": "Ice Cream",
                                    "8": "0.5"
                                },
                                {
                                    "0": "Blueberry Vanilla Graham Greek Frozen Yogurt",
                                    "1": "200",
                                    "2": "7",
                                    "3": "25",
                                    "4": "29",
                                    "5": "23",
                                    "6": "6",
                                    "7": "Ice Cream",
                                    "8": "0.5"
                                },
                                {
                                    "0": "Liz Lemon Greek Frozen Yogurt",
                                    "1": "180",
                                    "2": "4",
                                    "3": "30",
                                    "4": "29",
                                    "5": "21",
                                    "6": "6",
                                    "7": "Ice Cream",
                                    "8": "0.5"
                                },
                                {
                                    "0": "Pineapple Passionfruit Greek Frozen Yogurt",
                                    "1": "180",
                                    "2": "4",
                                    "3": "65",
                                    "4": "30",
                                    "5": "26",
                                    "6": "5",
                                    "7": "Ice Cream",
                                    "8": "0.5"
                                },
                                {
                                    "0": "Raspberry Fudge Chunk Greek Frozen Yogurt",
                                    "1": "200",
                                    "2": "7",
                                    "3": "25",
                                    "4": "29",
                                    "5": "25",
                                    "6": "6",
                                    "7": "Ice Cream",
                                    "8": "0.5"
                                },
                                {
                                    "0": "Strawberry Shortcake Greek Frozen Yogurt",
                                    "1": "180",
                                    "2": "6",
                                    "3": "35",
                                    "4": "28",
                                    "5": "21",
                                    "6": "6",
                                    "7": "Ice Cream",
                                    "8": "0.5"
                                },
                                {
                                    "0": "Vanilla Honey Caramel Greek Frozen Yogurt",
                                    "1": "190",
                                    "2": "5",
                                    "3": "35",
                                    "4": "30",
                                    "5": "22",
                                    "6": "6",
                                    "7": "Ice Cream",
                                    "8": "0.5"
                                }
                            ]
                        },
                        "text/html": "<table><tr><th>flavor</th><th>calories</th><th>fat_g</th><th>cholesterol_mg</th><th>carbs_g</th><th>sugars_g</th><th>protein_g</th><th>category</th><th>size_cup</th></tr><tr><td>Banana Split</td><td>250</td><td>15</td><td>65</td><td>27</td><td>25</td><td>3</td><td>Ice Cream</td><td>0.5</td></tr><tr><td>Banana Peanut Butter Greek Frozen Yogurt</td><td>210</td><td>8</td><td>25</td><td>30</td><td>26</td><td>6</td><td>Ice Cream</td><td>0.5</td></tr><tr><td>Blueberry Vanilla Graham Greek Frozen Yogurt</td><td>200</td><td>7</td><td>25</td><td>29</td><td>23</td><td>6</td><td>Ice Cream</td><td>0.5</td></tr><tr><td>Liz Lemon Greek Frozen Yogurt</td><td>180</td><td>4</td><td>30</td><td>29</td><td>21</td><td>6</td><td>Ice Cream</td><td>0.5</td></tr><tr><td>Pineapple Passionfruit Greek Frozen Yogurt</td><td>180</td><td>4</td><td>65</td><td>30</td><td>26</td><td>5</td><td>Ice Cream</td><td>0.5</td></tr><tr><td>Raspberry Fudge Chunk Greek Frozen Yogurt</td><td>200</td><td>7</td><td>25</td><td>29</td><td>25</td><td>6</td><td>Ice Cream</td><td>0.5</td></tr><tr><td>Strawberry Shortcake Greek Frozen Yogurt</td><td>180</td><td>6</td><td>35</td><td>28</td><td>21</td><td>6</td><td>Ice Cream</td><td>0.5</td></tr><tr><td>Vanilla Honey Caramel Greek Frozen Yogurt</td><td>190</td><td>5</td><td>35</td><td>30</td><td>22</td><td>6</td><td>Ice Cream</td><td>0.5</td></tr><tr><td>Banana Split</td><td>250</td><td>15</td><td>65</td><td>27</td><td>25</td><td>3</td><td>Ice Cream</td><td>0.5</td></tr><tr><td>Banana Peanut Butter Greek Frozen Yogurt</td><td>210</td><td>8</td><td>25</td><td>30</td><td>26</td><td>6</td><td>Ice Cream</td><td>0.5</td></tr><tr><td>Blueberry Vanilla Graham Greek Frozen Yogurt</td><td>200</td><td>7</td><td>25</td><td>29</td><td>23</td><td>6</td><td>Ice Cream</td><td>0.5</td></tr><tr><td>Liz Lemon Greek Frozen Yogurt</td><td>180</td><td>4</td><td>30</td><td>29</td><td>21</td><td>6</td><td>Ice Cream</td><td>0.5</td></tr><tr><td>Pineapple Passionfruit Greek Frozen Yogurt</td><td>180</td><td>4</td><td>65</td><td>30</td><td>26</td><td>5</td><td>Ice Cream</td><td>0.5</td></tr><tr><td>Raspberry Fudge Chunk Greek Frozen Yogurt</td><td>200</td><td>7</td><td>25</td><td>29</td><td>25</td><td>6</td><td>Ice Cream</td><td>0.5</td></tr><tr><td>Strawberry Shortcake Greek Frozen Yogurt</td><td>180</td><td>6</td><td>35</td><td>28</td><td>21</td><td>6</td><td>Ice Cream</td><td>0.5</td></tr><tr><td>Vanilla Honey Caramel Greek Frozen Yogurt</td><td>190</td><td>5</td><td>35</td><td>30</td><td>22</td><td>6</td><td>Ice Cream</td><td>0.5</td></tr><tr><td>Banana Split</td><td>250</td><td>15</td><td>65</td><td>27</td><td>25</td><td>3</td><td>Ice Cream</td><td>0.5</td></tr><tr><td>Banana Peanut Butter Greek Frozen Yogurt</td><td>210</td><td>8</td><td>25</td><td>30</td><td>26</td><td>6</td><td>Ice Cream</td><td>0.5</td></tr><tr><td>Blueberry Vanilla Graham Greek Frozen Yogurt</td><td>200</td><td>7</td><td>25</td><td>29</td><td>23</td><td>6</td><td>Ice Cream</td><td>0.5</td></tr><tr><td>Liz Lemon Greek Frozen Yogurt</td><td>180</td><td>4</td><td>30</td><td>29</td><td>21</td><td>6</td><td>Ice Cream</td><td>0.5</td></tr><tr><td>Pineapple Passionfruit Greek Frozen Yogurt</td><td>180</td><td>4</td><td>65</td><td>30</td><td>26</td><td>5</td><td>Ice Cream</td><td>0.5</td></tr><tr><td>Raspberry Fudge Chunk Greek Frozen Yogurt</td><td>200</td><td>7</td><td>25</td><td>29</td><td>25</td><td>6</td><td>Ice Cream</td><td>0.5</td></tr><tr><td>Strawberry Shortcake Greek Frozen Yogurt</td><td>180</td><td>6</td><td>35</td><td>28</td><td>21</td><td>6</td><td>Ice Cream</td><td>0.5</td></tr><tr><td>Vanilla Honey Caramel Greek Frozen Yogurt</td><td>190</td><td>5</td><td>35</td><td>30</td><td>22</td><td>6</td><td>Ice Cream</td><td>0.5</td></tr><tr><td>Banana Split</td><td>250</td><td>15</td><td>65</td><td>27</td><td>25</td><td>3</td><td>Ice Cream</td><td>0.5</td></tr><tr><td>Banana Peanut Butter Greek Frozen Yogurt</td><td>210</td><td>8</td><td>25</td><td>30</td><td>26</td><td>6</td><td>Ice Cream</td><td>0.5</td></tr><tr><td>Blueberry Vanilla Graham Greek Frozen Yogurt</td><td>200</td><td>7</td><td>25</td><td>29</td><td>23</td><td>6</td><td>Ice Cream</td><td>0.5</td></tr><tr><td>Liz Lemon Greek Frozen Yogurt</td><td>180</td><td>4</td><td>30</td><td>29</td><td>21</td><td>6</td><td>Ice Cream</td><td>0.5</td></tr><tr><td>Pineapple Passionfruit Greek Frozen Yogurt</td><td>180</td><td>4</td><td>65</td><td>30</td><td>26</td><td>5</td><td>Ice Cream</td><td>0.5</td></tr><tr><td>Raspberry Fudge Chunk Greek Frozen Yogurt</td><td>200</td><td>7</td><td>25</td><td>29</td><td>25</td><td>6</td><td>Ice Cream</td><td>0.5</td></tr><tr><td>Strawberry Shortcake Greek Frozen Yogurt</td><td>180</td><td>6</td><td>35</td><td>28</td><td>21</td><td>6</td><td>Ice Cream</td><td>0.5</td></tr><tr><td>Vanilla Honey Caramel Greek Frozen Yogurt</td><td>190</td><td>5</td><td>35</td><td>30</td><td>22</td><td>6</td><td>Ice Cream</td><td>0.5</td></tr></table>"
                    },
                    "metadata": {}
                }
            ],
            "execution_count": 8
        },
        {
            "cell_type": "code",
            "source": [
                "-- contains both yogurt and banana\r\n",
                "select * from benjerry \r\n",
                "    where flavor ilike '%yogurt%' and flavor ilike '%banana%';"
            ],
            "metadata": {
                "azdata_cell_guid": "ae5db290-fb30-4d3f-a3c9-38102263084b",
                "tags": []
            },
            "outputs": [
                {
                    "output_type": "display_data",
                    "data": {
                        "text/html": "(4 row(s) affected)"
                    },
                    "metadata": {}
                },
                {
                    "output_type": "display_data",
                    "data": {
                        "text/html": "Total execution time: 00:00:00.032"
                    },
                    "metadata": {}
                },
                {
                    "output_type": "execute_result",
                    "execution_count": 9,
                    "data": {
                        "application/vnd.dataresource+json": {
                            "schema": {
                                "fields": [
                                    {
                                        "name": "flavor"
                                    },
                                    {
                                        "name": "calories"
                                    },
                                    {
                                        "name": "fat_g"
                                    },
                                    {
                                        "name": "cholesterol_mg"
                                    },
                                    {
                                        "name": "carbs_g"
                                    },
                                    {
                                        "name": "sugars_g"
                                    },
                                    {
                                        "name": "protein_g"
                                    },
                                    {
                                        "name": "category"
                                    },
                                    {
                                        "name": "size_cup"
                                    }
                                ]
                            },
                            "data": [
                                {
                                    "0": "Banana Peanut Butter Greek Frozen Yogurt",
                                    "1": "210",
                                    "2": "8",
                                    "3": "25",
                                    "4": "30",
                                    "5": "26",
                                    "6": "6",
                                    "7": "Ice Cream",
                                    "8": "0.5"
                                },
                                {
                                    "0": "Banana Peanut Butter Greek Frozen Yogurt",
                                    "1": "210",
                                    "2": "8",
                                    "3": "25",
                                    "4": "30",
                                    "5": "26",
                                    "6": "6",
                                    "7": "Ice Cream",
                                    "8": "0.5"
                                },
                                {
                                    "0": "Banana Peanut Butter Greek Frozen Yogurt",
                                    "1": "210",
                                    "2": "8",
                                    "3": "25",
                                    "4": "30",
                                    "5": "26",
                                    "6": "6",
                                    "7": "Ice Cream",
                                    "8": "0.5"
                                },
                                {
                                    "0": "Banana Peanut Butter Greek Frozen Yogurt",
                                    "1": "210",
                                    "2": "8",
                                    "3": "25",
                                    "4": "30",
                                    "5": "26",
                                    "6": "6",
                                    "7": "Ice Cream",
                                    "8": "0.5"
                                }
                            ]
                        },
                        "text/html": "<table><tr><th>flavor</th><th>calories</th><th>fat_g</th><th>cholesterol_mg</th><th>carbs_g</th><th>sugars_g</th><th>protein_g</th><th>category</th><th>size_cup</th></tr><tr><td>Banana Peanut Butter Greek Frozen Yogurt</td><td>210</td><td>8</td><td>25</td><td>30</td><td>26</td><td>6</td><td>Ice Cream</td><td>0.5</td></tr><tr><td>Banana Peanut Butter Greek Frozen Yogurt</td><td>210</td><td>8</td><td>25</td><td>30</td><td>26</td><td>6</td><td>Ice Cream</td><td>0.5</td></tr><tr><td>Banana Peanut Butter Greek Frozen Yogurt</td><td>210</td><td>8</td><td>25</td><td>30</td><td>26</td><td>6</td><td>Ice Cream</td><td>0.5</td></tr><tr><td>Banana Peanut Butter Greek Frozen Yogurt</td><td>210</td><td>8</td><td>25</td><td>30</td><td>26</td><td>6</td><td>Ice Cream</td><td>0.5</td></tr></table>"
                    },
                    "metadata": {}
                }
            ],
            "execution_count": 9
        },
        {
            "cell_type": "code",
            "source": [
                "-- not contains banana\r\n",
                "select * from benjerry \r\n",
                "    where flavor not ilike '%banana%';"
            ],
            "metadata": {
                "azdata_cell_guid": "99fa310e-adda-4c31-835d-d1c8501685e7"
            },
            "outputs": [
                {
                    "output_type": "display_data",
                    "data": {
                        "text/html": "(208 row(s) affected)"
                    },
                    "metadata": {}
                },
                {
                    "output_type": "display_data",
                    "data": {
                        "text/html": "Total execution time: 00:00:00.020"
                    },
                    "metadata": {}
                },
                {
                    "output_type": "execute_result",
                    "execution_count": 10,
                    "data": {
                        "application/vnd.dataresource+json": {
                            "schema": {
                                "fields": [
                                    {
                                        "name": "flavor"
                                    },
                                    {
                                        "name": "calories"
                                    },
                                    {
                                        "name": "fat_g"
                                    },
                                    {
                                        "name": "cholesterol_mg"
                                    },
                                    {
                                        "name": "carbs_g"
                                    },
                                    {
                                        "name": "sugars_g"
                                    },
                                    {
                                        "name": "protein_g"
                                    },
                                    {
                                        "name": "category"
                                    },
                                    {
                                        "name": "size_cup"
                                    }
                                ]
                            },
                            "data": [
                                {
                                    "0": "Americone Dream",
                                    "1": "270",
                                    "2": "15",
                                    "3": "65",
                                    "4": "30",
                                    "5": "24",
                                    "6": "3",
                                    "7": "Ice Cream",
                                    "8": "0.5"
                                },
                                {
                                    "0": "Boston Cream Pie",
                                    "1": "250",
                                    "2": "13",
                                    "3": "90",
                                    "4": "29",
                                    "5": "26",
                                    "6": "3",
                                    "7": "Ice Cream",
                                    "8": "0.5"
                                },
                                {
                                    "0": "Cake Batter",
                                    "1": "260",
                                    "2": "16",
                                    "3": "65",
                                    "4": "27",
                                    "5": "23",
                                    "6": "4",
                                    "7": "Ice Cream",
                                    "8": "0.5"
                                },
                                {
                                    "0": "Cannoli",
                                    "1": "280",
                                    "2": "16",
                                    "3": "65",
                                    "4": "28",
                                    "5": "23",
                                    "6": "4",
                                    "7": "Ice Cream",
                                    "8": "0.5"
                                },
                                {
                                    "0": "Cheesecake Brownie",
                                    "1": "250",
                                    "2": "14",
                                    "3": "70",
                                    "4": "27",
                                    "5": "24",
                                    "6": "3",
                                    "7": "Ice Cream",
                                    "8": "0.5"
                                },
                                {
                                    "0": "Cherry Garcia",
                                    "1": "240",
                                    "2": "13",
                                    "3": "60",
                                    "4": "28",
                                    "5": "23",
                                    "6": "4",
                                    "7": "Ice Cream",
                                    "8": "0.5"
                                },
                                {
                                    "0": "Chocolate",
                                    "1": "250",
                                    "2": "14",
                                    "3": "40",
                                    "4": "25",
                                    "5": "21",
                                    "6": "4",
                                    "7": "Ice Cream",
                                    "8": "0.5"
                                },
                                {
                                    "0": "Chocolate Chip Cookie Dough",
                                    "1": "270",
                                    "2": "14",
                                    "3": "65",
                                    "4": "33",
                                    "5": "25",
                                    "6": "4",
                                    "7": "Ice Cream",
                                    "8": "0.5"
                                },
                                {
                                    "0": "Chocolate Fudge Brownie",
                                    "1": "260",
                                    "2": "12",
                                    "3": "40",
                                    "4": "34",
                                    "5": "27",
                                    "6": "4",
                                    "7": "Ice Cream",
                                    "8": "0.5"
                                },
                                {
                                    "0": "Chocolate Nougat Crunch",
                                    "1": "260",
                                    "2": "14",
                                    "3": "60",
                                    "4": "30",
                                    "5": "30",
                                    "6": "4",
                                    "7": "Ice Cream",
                                    "8": "0.5"
                                },
                                {
                                    "0": "Chocolate Peppermint Crunch",
                                    "1": "290",
                                    "2": "16",
                                    "3": "45",
                                    "4": "33",
                                    "5": "28",
                                    "6": "4",
                                    "7": "Ice Cream",
                                    "8": "0.5"
                                },
                                {
                                    "0": "Chocolate Therapy",
                                    "1": "240",
                                    "2": "13",
                                    "3": "45",
                                    "4": "27",
                                    "5": "21",
                                    "6": "4",
                                    "7": "Ice Cream",
                                    "8": "0.5"
                                },
                                {
                                    "0": "Chubby Hubby",
                                    "1": "340",
                                    "2": "20",
                                    "3": "55",
                                    "4": "33",
                                    "5": "25",
                                    "6": "7",
                                    "7": "Ice Cream",
                                    "8": "0.5"
                                },
                                {
                                    "0": "Chunky Monkey",
                                    "1": "290",
                                    "2": "18",
                                    "3": "65",
                                    "4": "29",
                                    "5": "27",
                                    "6": "4",
                                    "7": "Ice Cream",
                                    "8": "0.5"
                                },
                                {
                                    "0": "Cinnamon Buns",
                                    "1": "290",
                                    "2": "15",
                                    "3": "60",
                                    "4": "36",
                                    "5": "28",
                                    "6": "4",
                                    "7": "Ice Cream",
                                    "8": "0.5"
                                },
                                {
                                    "0": "Coffee Caramel Buzz",
                                    "1": "280",
                                    "2": "14",
                                    "3": "60",
                                    "4": "33",
                                    "5": "25",
                                    "6": "4",
                                    "7": "Ice Cream",
                                    "8": "0.5"
                                },
                                {
                                    "0": "Coffee Coffee Buzz Buzz Buzz",
                                    "1": "260",
                                    "2": "16",
                                    "3": "65",
                                    "4": "27",
                                    "5": "24",
                                    "6": "4",
                                    "7": "Ice Cream",
                                    "8": "0.5"
                                },
                                {
                                    "0": "Coffee Heath Bar Crunch",
                                    "1": "280",
                                    "2": "16",
                                    "3": "60",
                                    "4": "30",
                                    "5": "27",
                                    "6": "4",
                                    "7": "Ice Cream",
                                    "8": "0.5"
                                },
                                {
                                    "0": "Crème Brulée",
                                    "1": "280",
                                    "2": "16",
                                    "3": "90",
                                    "4": "31",
                                    "5": "28",
                                    "6": "3",
                                    "7": "Ice Cream",
                                    "8": "0.5"
                                },
                                {
                                    "0": "Everything But the . . .",
                                    "1": "290",
                                    "2": "17",
                                    "3": "45",
                                    "4": "31",
                                    "5": "28",
                                    "6": "5",
                                    "7": "Ice Cream",
                                    "8": "0.5"
                                },
                                {
                                    "0": "Half Baked",
                                    "1": "270",
                                    "2": "13",
                                    "3": "55",
                                    "4": "35",
                                    "5": "27",
                                    "6": "4",
                                    "7": "Ice Cream",
                                    "8": "0.5"
                                },
                                {
                                    "0": "Imagine Whirled Peace",
                                    "1": "270",
                                    "2": "16",
                                    "3": "75",
                                    "4": "27",
                                    "5": "23",
                                    "6": "3",
                                    "7": "Ice Cream",
                                    "8": "0.5"
                                },
                                {
                                    "0": "Karamel Sutra",
                                    "1": "260",
                                    "2": "14",
                                    "3": "55",
                                    "4": "31",
                                    "5": "26",
                                    "6": "3",
                                    "7": "Ice Cream",
                                    "8": "0.5"
                                },
                                {
                                    "0": "Late Night Snack",
                                    "1": "270",
                                    "2": "15",
                                    "3": "60",
                                    "4": "31",
                                    "5": "21",
                                    "6": "4",
                                    "7": "Ice Cream",
                                    "8": "0.5"
                                },
                                {
                                    "0": "Milk & Cookies",
                                    "1": "270",
                                    "2": "15",
                                    "3": "60",
                                    "4": "30",
                                    "5": "23",
                                    "6": "4",
                                    "7": "Ice Cream",
                                    "8": "0.5"
                                },
                                {
                                    "0": "Mint Chocolate Cookie",
                                    "1": "260",
                                    "2": "14",
                                    "3": "65",
                                    "4": "28",
                                    "5": "22",
                                    "6": "4",
                                    "7": "Ice Cream",
                                    "8": "0.5"
                                },
                                {
                                    "0": "Mud Pie",
                                    "1": "270",
                                    "2": "16",
                                    "3": "55",
                                    "4": "28",
                                    "5": "23",
                                    "6": "4",
                                    "7": "Ice Cream",
                                    "8": "0.5"
                                },
                                {
                                    "0": "New York Super Fudge Chunk",
                                    "1": "300",
                                    "2": "20",
                                    "3": "50",
                                    "4": "29",
                                    "5": "25",
                                    "6": "4",
                                    "7": "Ice Cream",
                                    "8": "0.5"
                                },
                                {
                                    "0": "Oatmeal Cookie Chunk",
                                    "1": "260",
                                    "2": "14",
                                    "3": "55",
                                    "4": "30",
                                    "5": "23",
                                    "6": "4",
                                    "7": "Ice Cream",
                                    "8": "0.5"
                                },
                                {
                                    "0": "Peach Cobbler",
                                    "1": "220",
                                    "2": "11",
                                    "3": "50",
                                    "4": "28",
                                    "5": "26",
                                    "6": "3",
                                    "7": "Ice Cream",
                                    "8": "0.5"
                                },
                                {
                                    "0": "Peanut Brittle",
                                    "1": "260",
                                    "2": "15",
                                    "3": "60",
                                    "4": "29",
                                    "5": "23",
                                    "6": "4",
                                    "7": "Ice Cream",
                                    "8": "0.5"
                                },
                                {
                                    "0": "Peanut Butter Cup",
                                    "1": "360",
                                    "2": "26",
                                    "3": "70",
                                    "4": "27",
                                    "5": "24",
                                    "6": "6",
                                    "7": "Ice Cream",
                                    "8": "0.5"
                                },
                                {
                                    "0": "Phish Food",
                                    "1": "280",
                                    "2": "13",
                                    "3": "35",
                                    "4": "39",
                                    "5": "28",
                                    "6": "4",
                                    "7": "Ice Cream",
                                    "8": "0.5"
                                },
                                {
                                    "0": "Pistachio Pistachio",
                                    "1": "280",
                                    "2": "17",
                                    "3": "70",
                                    "4": "24",
                                    "5": "19",
                                    "6": "6",
                                    "7": "Ice Cream",
                                    "8": "0.5"
                                },
                                {
                                    "0": "Red Velvet Cake",
                                    "1": "250",
                                    "2": "13",
                                    "3": "60",
                                    "4": "23",
                                    "5": "23",
                                    "6": "4",
                                    "7": "Ice Cream",
                                    "8": "0.5"
                                },
                                {
                                    "0": "S'mores",
                                    "1": "280",
                                    "2": "16",
                                    "3": "35",
                                    "4": "35",
                                    "5": "26",
                                    "6": "3",
                                    "7": "Ice Cream",
                                    "8": "0.5"
                                },
                                {
                                    "0": "Strawberry Cheesecake",
                                    "1": "250",
                                    "2": "15",
                                    "3": "60",
                                    "4": "26",
                                    "5": "22",
                                    "6": "3",
                                    "7": "Ice Cream",
                                    "8": "0.5"
                                },
                                {
                                    "0": "Triple Caramel Chunk",
                                    "1": "280",
                                    "2": "16",
                                    "3": "65",
                                    "4": "32",
                                    "5": "25",
                                    "6": "3",
                                    "7": "Ice Cream",
                                    "8": "0.5"
                                },
                                {
                                    "0": "Vanilla",
                                    "1": "230",
                                    "2": "14",
                                    "3": "75",
                                    "4": "23",
                                    "5": "20",
                                    "6": "4",
                                    "7": "Ice Cream",
                                    "8": "0.5"
                                },
                                {
                                    "0": "Vanilla Caramel Fudge",
                                    "1": "280",
                                    "2": "14",
                                    "3": "70",
                                    "4": "34",
                                    "5": "27",
                                    "6": "4",
                                    "7": "Ice Cream",
                                    "8": "0.5"
                                },
                                {
                                    "0": "Vanilla Heath Bar Crunch",
                                    "1": "280",
                                    "2": "17",
                                    "3": "65",
                                    "4": "30",
                                    "5": "27",
                                    "6": "4",
                                    "7": "Ice Cream",
                                    "8": "0.5"
                                },
                                {
                                    "0": "What a Cluster",
                                    "1": "320",
                                    "2": "19",
                                    "3": "45",
                                    "4": "31",
                                    "5": "23",
                                    "6": "7",
                                    "7": "Ice Cream",
                                    "8": "0.5"
                                },
                                {
                                    "0": "Cherry Garcia Fro Yo",
                                    "1": "200",
                                    "2": "3",
                                    "3": "20",
                                    "4": "37",
                                    "5": "27",
                                    "6": "8",
                                    "7": "Ice Cream",
                                    "8": "0.5"
                                },
                                {
                                    "0": "Chocolate Fudge Brownie Fro Yo",
                                    "1": "180",
                                    "2": "2",
                                    "3": "15",
                                    "4": "35",
                                    "5": "25",
                                    "6": "5",
                                    "7": "Ice Cream",
                                    "8": "0.5"
                                },
                                {
                                    "0": "Half Baked Fro Yo",
                                    "1": "180",
                                    "2": "3",
                                    "3": "20",
                                    "4": "35",
                                    "5": "23",
                                    "6": "4",
                                    "7": "Ice Cream",
                                    "8": "0.5"
                                },
                                {
                                    "0": "Phish Food Fro Yo",
                                    "1": "240",
                                    "2": "6",
                                    "3": "20",
                                    "4": "41",
                                    "5": "27",
                                    "6": "4",
                                    "7": "Ice Cream",
                                    "8": "0.5"
                                },
                                {
                                    "0": "Blueberry Vanilla Graham Greek Frozen Yogurt",
                                    "1": "200",
                                    "2": "7",
                                    "3": "25",
                                    "4": "29",
                                    "5": "23",
                                    "6": "6",
                                    "7": "Ice Cream",
                                    "8": "0.5"
                                },
                                {
                                    "0": "Liz Lemon Greek Frozen Yogurt",
                                    "1": "180",
                                    "2": "4",
                                    "3": "30",
                                    "4": "29",
                                    "5": "21",
                                    "6": "6",
                                    "7": "Ice Cream",
                                    "8": "0.5"
                                },
                                {
                                    "0": "Pineapple Passionfruit Greek Frozen Yogurt",
                                    "1": "180",
                                    "2": "4",
                                    "3": "65",
                                    "4": "30",
                                    "5": "26",
                                    "6": "5",
                                    "7": "Ice Cream",
                                    "8": "0.5"
                                },
                                {
                                    "0": "Raspberry Fudge Chunk Greek Frozen Yogurt",
                                    "1": "200",
                                    "2": "7",
                                    "3": "25",
                                    "4": "29",
                                    "5": "25",
                                    "6": "6",
                                    "7": "Ice Cream",
                                    "8": "0.5"
                                },
                                {
                                    "0": "Strawberry Shortcake Greek Frozen Yogurt",
                                    "1": "180",
                                    "2": "6",
                                    "3": "35",
                                    "4": "28",
                                    "5": "21",
                                    "6": "6",
                                    "7": "Ice Cream",
                                    "8": "0.5"
                                },
                                {
                                    "0": "Vanilla Honey Caramel Greek Frozen Yogurt",
                                    "1": "190",
                                    "2": "5",
                                    "3": "35",
                                    "4": "30",
                                    "5": "22",
                                    "6": "6",
                                    "7": "Ice Cream",
                                    "8": "0.5"
                                },
                                {
                                    "0": "Americone Dream",
                                    "1": "270",
                                    "2": "15",
                                    "3": "65",
                                    "4": "30",
                                    "5": "24",
                                    "6": "3",
                                    "7": "Ice Cream",
                                    "8": "0.5"
                                },
                                {
                                    "0": "Boston Cream Pie",
                                    "1": "250",
                                    "2": "13",
                                    "3": "90",
                                    "4": "29",
                                    "5": "26",
                                    "6": "3",
                                    "7": "Ice Cream",
                                    "8": "0.5"
                                },
                                {
                                    "0": "Cake Batter",
                                    "1": "260",
                                    "2": "16",
                                    "3": "65",
                                    "4": "27",
                                    "5": "23",
                                    "6": "4",
                                    "7": "Ice Cream",
                                    "8": "0.5"
                                },
                                {
                                    "0": "Cannoli",
                                    "1": "280",
                                    "2": "16",
                                    "3": "65",
                                    "4": "28",
                                    "5": "23",
                                    "6": "4",
                                    "7": "Ice Cream",
                                    "8": "0.5"
                                },
                                {
                                    "0": "Cheesecake Brownie",
                                    "1": "250",
                                    "2": "14",
                                    "3": "70",
                                    "4": "27",
                                    "5": "24",
                                    "6": "3",
                                    "7": "Ice Cream",
                                    "8": "0.5"
                                },
                                {
                                    "0": "Cherry Garcia",
                                    "1": "240",
                                    "2": "13",
                                    "3": "60",
                                    "4": "28",
                                    "5": "23",
                                    "6": "4",
                                    "7": "Ice Cream",
                                    "8": "0.5"
                                },
                                {
                                    "0": "Chocolate",
                                    "1": "250",
                                    "2": "14",
                                    "3": "40",
                                    "4": "25",
                                    "5": "21",
                                    "6": "4",
                                    "7": "Ice Cream",
                                    "8": "0.5"
                                },
                                {
                                    "0": "Chocolate Chip Cookie Dough",
                                    "1": "270",
                                    "2": "14",
                                    "3": "65",
                                    "4": "33",
                                    "5": "25",
                                    "6": "4",
                                    "7": "Ice Cream",
                                    "8": "0.5"
                                },
                                {
                                    "0": "Chocolate Fudge Brownie",
                                    "1": "260",
                                    "2": "12",
                                    "3": "40",
                                    "4": "34",
                                    "5": "27",
                                    "6": "4",
                                    "7": "Ice Cream",
                                    "8": "0.5"
                                },
                                {
                                    "0": "Chocolate Nougat Crunch",
                                    "1": "260",
                                    "2": "14",
                                    "3": "60",
                                    "4": "30",
                                    "5": "30",
                                    "6": "4",
                                    "7": "Ice Cream",
                                    "8": "0.5"
                                },
                                {
                                    "0": "Chocolate Peppermint Crunch",
                                    "1": "290",
                                    "2": "16",
                                    "3": "45",
                                    "4": "33",
                                    "5": "28",
                                    "6": "4",
                                    "7": "Ice Cream",
                                    "8": "0.5"
                                },
                                {
                                    "0": "Chocolate Therapy",
                                    "1": "240",
                                    "2": "13",
                                    "3": "45",
                                    "4": "27",
                                    "5": "21",
                                    "6": "4",
                                    "7": "Ice Cream",
                                    "8": "0.5"
                                },
                                {
                                    "0": "Chubby Hubby",
                                    "1": "340",
                                    "2": "20",
                                    "3": "55",
                                    "4": "33",
                                    "5": "25",
                                    "6": "7",
                                    "7": "Ice Cream",
                                    "8": "0.5"
                                },
                                {
                                    "0": "Chunky Monkey",
                                    "1": "290",
                                    "2": "18",
                                    "3": "65",
                                    "4": "29",
                                    "5": "27",
                                    "6": "4",
                                    "7": "Ice Cream",
                                    "8": "0.5"
                                },
                                {
                                    "0": "Cinnamon Buns",
                                    "1": "290",
                                    "2": "15",
                                    "3": "60",
                                    "4": "36",
                                    "5": "28",
                                    "6": "4",
                                    "7": "Ice Cream",
                                    "8": "0.5"
                                },
                                {
                                    "0": "Coffee Caramel Buzz",
                                    "1": "280",
                                    "2": "14",
                                    "3": "60",
                                    "4": "33",
                                    "5": "25",
                                    "6": "4",
                                    "7": "Ice Cream",
                                    "8": "0.5"
                                },
                                {
                                    "0": "Coffee Coffee Buzz Buzz Buzz",
                                    "1": "260",
                                    "2": "16",
                                    "3": "65",
                                    "4": "27",
                                    "5": "24",
                                    "6": "4",
                                    "7": "Ice Cream",
                                    "8": "0.5"
                                },
                                {
                                    "0": "Coffee Heath Bar Crunch",
                                    "1": "280",
                                    "2": "16",
                                    "3": "60",
                                    "4": "30",
                                    "5": "27",
                                    "6": "4",
                                    "7": "Ice Cream",
                                    "8": "0.5"
                                },
                                {
                                    "0": "Crème Brulée",
                                    "1": "280",
                                    "2": "16",
                                    "3": "90",
                                    "4": "31",
                                    "5": "28",
                                    "6": "3",
                                    "7": "Ice Cream",
                                    "8": "0.5"
                                },
                                {
                                    "0": "Everything But the . . .",
                                    "1": "290",
                                    "2": "17",
                                    "3": "45",
                                    "4": "31",
                                    "5": "28",
                                    "6": "5",
                                    "7": "Ice Cream",
                                    "8": "0.5"
                                },
                                {
                                    "0": "Half Baked",
                                    "1": "270",
                                    "2": "13",
                                    "3": "55",
                                    "4": "35",
                                    "5": "27",
                                    "6": "4",
                                    "7": "Ice Cream",
                                    "8": "0.5"
                                },
                                {
                                    "0": "Imagine Whirled Peace",
                                    "1": "270",
                                    "2": "16",
                                    "3": "75",
                                    "4": "27",
                                    "5": "23",
                                    "6": "3",
                                    "7": "Ice Cream",
                                    "8": "0.5"
                                },
                                {
                                    "0": "Karamel Sutra",
                                    "1": "260",
                                    "2": "14",
                                    "3": "55",
                                    "4": "31",
                                    "5": "26",
                                    "6": "3",
                                    "7": "Ice Cream",
                                    "8": "0.5"
                                },
                                {
                                    "0": "Late Night Snack",
                                    "1": "270",
                                    "2": "15",
                                    "3": "60",
                                    "4": "31",
                                    "5": "21",
                                    "6": "4",
                                    "7": "Ice Cream",
                                    "8": "0.5"
                                },
                                {
                                    "0": "Milk & Cookies",
                                    "1": "270",
                                    "2": "15",
                                    "3": "60",
                                    "4": "30",
                                    "5": "23",
                                    "6": "4",
                                    "7": "Ice Cream",
                                    "8": "0.5"
                                },
                                {
                                    "0": "Mint Chocolate Cookie",
                                    "1": "260",
                                    "2": "14",
                                    "3": "65",
                                    "4": "28",
                                    "5": "22",
                                    "6": "4",
                                    "7": "Ice Cream",
                                    "8": "0.5"
                                },
                                {
                                    "0": "Mud Pie",
                                    "1": "270",
                                    "2": "16",
                                    "3": "55",
                                    "4": "28",
                                    "5": "23",
                                    "6": "4",
                                    "7": "Ice Cream",
                                    "8": "0.5"
                                },
                                {
                                    "0": "New York Super Fudge Chunk",
                                    "1": "300",
                                    "2": "20",
                                    "3": "50",
                                    "4": "29",
                                    "5": "25",
                                    "6": "4",
                                    "7": "Ice Cream",
                                    "8": "0.5"
                                },
                                {
                                    "0": "Oatmeal Cookie Chunk",
                                    "1": "260",
                                    "2": "14",
                                    "3": "55",
                                    "4": "30",
                                    "5": "23",
                                    "6": "4",
                                    "7": "Ice Cream",
                                    "8": "0.5"
                                },
                                {
                                    "0": "Peach Cobbler",
                                    "1": "220",
                                    "2": "11",
                                    "3": "50",
                                    "4": "28",
                                    "5": "26",
                                    "6": "3",
                                    "7": "Ice Cream",
                                    "8": "0.5"
                                },
                                {
                                    "0": "Peanut Brittle",
                                    "1": "260",
                                    "2": "15",
                                    "3": "60",
                                    "4": "29",
                                    "5": "23",
                                    "6": "4",
                                    "7": "Ice Cream",
                                    "8": "0.5"
                                },
                                {
                                    "0": "Peanut Butter Cup",
                                    "1": "360",
                                    "2": "26",
                                    "3": "70",
                                    "4": "27",
                                    "5": "24",
                                    "6": "6",
                                    "7": "Ice Cream",
                                    "8": "0.5"
                                },
                                {
                                    "0": "Phish Food",
                                    "1": "280",
                                    "2": "13",
                                    "3": "35",
                                    "4": "39",
                                    "5": "28",
                                    "6": "4",
                                    "7": "Ice Cream",
                                    "8": "0.5"
                                },
                                {
                                    "0": "Pistachio Pistachio",
                                    "1": "280",
                                    "2": "17",
                                    "3": "70",
                                    "4": "24",
                                    "5": "19",
                                    "6": "6",
                                    "7": "Ice Cream",
                                    "8": "0.5"
                                },
                                {
                                    "0": "Red Velvet Cake",
                                    "1": "250",
                                    "2": "13",
                                    "3": "60",
                                    "4": "23",
                                    "5": "23",
                                    "6": "4",
                                    "7": "Ice Cream",
                                    "8": "0.5"
                                },
                                {
                                    "0": "S'mores",
                                    "1": "280",
                                    "2": "16",
                                    "3": "35",
                                    "4": "35",
                                    "5": "26",
                                    "6": "3",
                                    "7": "Ice Cream",
                                    "8": "0.5"
                                },
                                {
                                    "0": "Strawberry Cheesecake",
                                    "1": "250",
                                    "2": "15",
                                    "3": "60",
                                    "4": "26",
                                    "5": "22",
                                    "6": "3",
                                    "7": "Ice Cream",
                                    "8": "0.5"
                                },
                                {
                                    "0": "Triple Caramel Chunk",
                                    "1": "280",
                                    "2": "16",
                                    "3": "65",
                                    "4": "32",
                                    "5": "25",
                                    "6": "3",
                                    "7": "Ice Cream",
                                    "8": "0.5"
                                },
                                {
                                    "0": "Vanilla",
                                    "1": "230",
                                    "2": "14",
                                    "3": "75",
                                    "4": "23",
                                    "5": "20",
                                    "6": "4",
                                    "7": "Ice Cream",
                                    "8": "0.5"
                                },
                                {
                                    "0": "Vanilla Caramel Fudge",
                                    "1": "280",
                                    "2": "14",
                                    "3": "70",
                                    "4": "34",
                                    "5": "27",
                                    "6": "4",
                                    "7": "Ice Cream",
                                    "8": "0.5"
                                },
                                {
                                    "0": "Vanilla Heath Bar Crunch",
                                    "1": "280",
                                    "2": "17",
                                    "3": "65",
                                    "4": "30",
                                    "5": "27",
                                    "6": "4",
                                    "7": "Ice Cream",
                                    "8": "0.5"
                                },
                                {
                                    "0": "What a Cluster",
                                    "1": "320",
                                    "2": "19",
                                    "3": "45",
                                    "4": "31",
                                    "5": "23",
                                    "6": "7",
                                    "7": "Ice Cream",
                                    "8": "0.5"
                                },
                                {
                                    "0": "Cherry Garcia Fro Yo",
                                    "1": "200",
                                    "2": "3",
                                    "3": "20",
                                    "4": "37",
                                    "5": "27",
                                    "6": "8",
                                    "7": "Ice Cream",
                                    "8": "0.5"
                                },
                                {
                                    "0": "Chocolate Fudge Brownie Fro Yo",
                                    "1": "180",
                                    "2": "2",
                                    "3": "15",
                                    "4": "35",
                                    "5": "25",
                                    "6": "5",
                                    "7": "Ice Cream",
                                    "8": "0.5"
                                },
                                {
                                    "0": "Half Baked Fro Yo",
                                    "1": "180",
                                    "2": "3",
                                    "3": "20",
                                    "4": "35",
                                    "5": "23",
                                    "6": "4",
                                    "7": "Ice Cream",
                                    "8": "0.5"
                                },
                                {
                                    "0": "Phish Food Fro Yo",
                                    "1": "240",
                                    "2": "6",
                                    "3": "20",
                                    "4": "41",
                                    "5": "27",
                                    "6": "4",
                                    "7": "Ice Cream",
                                    "8": "0.5"
                                },
                                {
                                    "0": "Blueberry Vanilla Graham Greek Frozen Yogurt",
                                    "1": "200",
                                    "2": "7",
                                    "3": "25",
                                    "4": "29",
                                    "5": "23",
                                    "6": "6",
                                    "7": "Ice Cream",
                                    "8": "0.5"
                                },
                                {
                                    "0": "Liz Lemon Greek Frozen Yogurt",
                                    "1": "180",
                                    "2": "4",
                                    "3": "30",
                                    "4": "29",
                                    "5": "21",
                                    "6": "6",
                                    "7": "Ice Cream",
                                    "8": "0.5"
                                },
                                {
                                    "0": "Pineapple Passionfruit Greek Frozen Yogurt",
                                    "1": "180",
                                    "2": "4",
                                    "3": "65",
                                    "4": "30",
                                    "5": "26",
                                    "6": "5",
                                    "7": "Ice Cream",
                                    "8": "0.5"
                                },
                                {
                                    "0": "Raspberry Fudge Chunk Greek Frozen Yogurt",
                                    "1": "200",
                                    "2": "7",
                                    "3": "25",
                                    "4": "29",
                                    "5": "25",
                                    "6": "6",
                                    "7": "Ice Cream",
                                    "8": "0.5"
                                },
                                {
                                    "0": "Strawberry Shortcake Greek Frozen Yogurt",
                                    "1": "180",
                                    "2": "6",
                                    "3": "35",
                                    "4": "28",
                                    "5": "21",
                                    "6": "6",
                                    "7": "Ice Cream",
                                    "8": "0.5"
                                },
                                {
                                    "0": "Vanilla Honey Caramel Greek Frozen Yogurt",
                                    "1": "190",
                                    "2": "5",
                                    "3": "35",
                                    "4": "30",
                                    "5": "22",
                                    "6": "6",
                                    "7": "Ice Cream",
                                    "8": "0.5"
                                },
                                {
                                    "0": "Americone Dream",
                                    "1": "270",
                                    "2": "15",
                                    "3": "65",
                                    "4": "30",
                                    "5": "24",
                                    "6": "3",
                                    "7": "Ice Cream",
                                    "8": "0.5"
                                },
                                {
                                    "0": "Boston Cream Pie",
                                    "1": "250",
                                    "2": "13",
                                    "3": "90",
                                    "4": "29",
                                    "5": "26",
                                    "6": "3",
                                    "7": "Ice Cream",
                                    "8": "0.5"
                                },
                                {
                                    "0": "Cake Batter",
                                    "1": "260",
                                    "2": "16",
                                    "3": "65",
                                    "4": "27",
                                    "5": "23",
                                    "6": "4",
                                    "7": "Ice Cream",
                                    "8": "0.5"
                                },
                                {
                                    "0": "Cannoli",
                                    "1": "280",
                                    "2": "16",
                                    "3": "65",
                                    "4": "28",
                                    "5": "23",
                                    "6": "4",
                                    "7": "Ice Cream",
                                    "8": "0.5"
                                },
                                {
                                    "0": "Cheesecake Brownie",
                                    "1": "250",
                                    "2": "14",
                                    "3": "70",
                                    "4": "27",
                                    "5": "24",
                                    "6": "3",
                                    "7": "Ice Cream",
                                    "8": "0.5"
                                },
                                {
                                    "0": "Cherry Garcia",
                                    "1": "240",
                                    "2": "13",
                                    "3": "60",
                                    "4": "28",
                                    "5": "23",
                                    "6": "4",
                                    "7": "Ice Cream",
                                    "8": "0.5"
                                },
                                {
                                    "0": "Chocolate",
                                    "1": "250",
                                    "2": "14",
                                    "3": "40",
                                    "4": "25",
                                    "5": "21",
                                    "6": "4",
                                    "7": "Ice Cream",
                                    "8": "0.5"
                                },
                                {
                                    "0": "Chocolate Chip Cookie Dough",
                                    "1": "270",
                                    "2": "14",
                                    "3": "65",
                                    "4": "33",
                                    "5": "25",
                                    "6": "4",
                                    "7": "Ice Cream",
                                    "8": "0.5"
                                },
                                {
                                    "0": "Chocolate Fudge Brownie",
                                    "1": "260",
                                    "2": "12",
                                    "3": "40",
                                    "4": "34",
                                    "5": "27",
                                    "6": "4",
                                    "7": "Ice Cream",
                                    "8": "0.5"
                                },
                                {
                                    "0": "Chocolate Nougat Crunch",
                                    "1": "260",
                                    "2": "14",
                                    "3": "60",
                                    "4": "30",
                                    "5": "30",
                                    "6": "4",
                                    "7": "Ice Cream",
                                    "8": "0.5"
                                },
                                {
                                    "0": "Chocolate Peppermint Crunch",
                                    "1": "290",
                                    "2": "16",
                                    "3": "45",
                                    "4": "33",
                                    "5": "28",
                                    "6": "4",
                                    "7": "Ice Cream",
                                    "8": "0.5"
                                },
                                {
                                    "0": "Chocolate Therapy",
                                    "1": "240",
                                    "2": "13",
                                    "3": "45",
                                    "4": "27",
                                    "5": "21",
                                    "6": "4",
                                    "7": "Ice Cream",
                                    "8": "0.5"
                                },
                                {
                                    "0": "Chubby Hubby",
                                    "1": "340",
                                    "2": "20",
                                    "3": "55",
                                    "4": "33",
                                    "5": "25",
                                    "6": "7",
                                    "7": "Ice Cream",
                                    "8": "0.5"
                                },
                                {
                                    "0": "Chunky Monkey",
                                    "1": "290",
                                    "2": "18",
                                    "3": "65",
                                    "4": "29",
                                    "5": "27",
                                    "6": "4",
                                    "7": "Ice Cream",
                                    "8": "0.5"
                                },
                                {
                                    "0": "Cinnamon Buns",
                                    "1": "290",
                                    "2": "15",
                                    "3": "60",
                                    "4": "36",
                                    "5": "28",
                                    "6": "4",
                                    "7": "Ice Cream",
                                    "8": "0.5"
                                },
                                {
                                    "0": "Coffee Caramel Buzz",
                                    "1": "280",
                                    "2": "14",
                                    "3": "60",
                                    "4": "33",
                                    "5": "25",
                                    "6": "4",
                                    "7": "Ice Cream",
                                    "8": "0.5"
                                },
                                {
                                    "0": "Coffee Coffee Buzz Buzz Buzz",
                                    "1": "260",
                                    "2": "16",
                                    "3": "65",
                                    "4": "27",
                                    "5": "24",
                                    "6": "4",
                                    "7": "Ice Cream",
                                    "8": "0.5"
                                },
                                {
                                    "0": "Coffee Heath Bar Crunch",
                                    "1": "280",
                                    "2": "16",
                                    "3": "60",
                                    "4": "30",
                                    "5": "27",
                                    "6": "4",
                                    "7": "Ice Cream",
                                    "8": "0.5"
                                },
                                {
                                    "0": "Crème Brulée",
                                    "1": "280",
                                    "2": "16",
                                    "3": "90",
                                    "4": "31",
                                    "5": "28",
                                    "6": "3",
                                    "7": "Ice Cream",
                                    "8": "0.5"
                                },
                                {
                                    "0": "Everything But the . . .",
                                    "1": "290",
                                    "2": "17",
                                    "3": "45",
                                    "4": "31",
                                    "5": "28",
                                    "6": "5",
                                    "7": "Ice Cream",
                                    "8": "0.5"
                                },
                                {
                                    "0": "Half Baked",
                                    "1": "270",
                                    "2": "13",
                                    "3": "55",
                                    "4": "35",
                                    "5": "27",
                                    "6": "4",
                                    "7": "Ice Cream",
                                    "8": "0.5"
                                },
                                {
                                    "0": "Imagine Whirled Peace",
                                    "1": "270",
                                    "2": "16",
                                    "3": "75",
                                    "4": "27",
                                    "5": "23",
                                    "6": "3",
                                    "7": "Ice Cream",
                                    "8": "0.5"
                                },
                                {
                                    "0": "Karamel Sutra",
                                    "1": "260",
                                    "2": "14",
                                    "3": "55",
                                    "4": "31",
                                    "5": "26",
                                    "6": "3",
                                    "7": "Ice Cream",
                                    "8": "0.5"
                                },
                                {
                                    "0": "Late Night Snack",
                                    "1": "270",
                                    "2": "15",
                                    "3": "60",
                                    "4": "31",
                                    "5": "21",
                                    "6": "4",
                                    "7": "Ice Cream",
                                    "8": "0.5"
                                },
                                {
                                    "0": "Milk & Cookies",
                                    "1": "270",
                                    "2": "15",
                                    "3": "60",
                                    "4": "30",
                                    "5": "23",
                                    "6": "4",
                                    "7": "Ice Cream",
                                    "8": "0.5"
                                },
                                {
                                    "0": "Mint Chocolate Cookie",
                                    "1": "260",
                                    "2": "14",
                                    "3": "65",
                                    "4": "28",
                                    "5": "22",
                                    "6": "4",
                                    "7": "Ice Cream",
                                    "8": "0.5"
                                },
                                {
                                    "0": "Mud Pie",
                                    "1": "270",
                                    "2": "16",
                                    "3": "55",
                                    "4": "28",
                                    "5": "23",
                                    "6": "4",
                                    "7": "Ice Cream",
                                    "8": "0.5"
                                },
                                {
                                    "0": "New York Super Fudge Chunk",
                                    "1": "300",
                                    "2": "20",
                                    "3": "50",
                                    "4": "29",
                                    "5": "25",
                                    "6": "4",
                                    "7": "Ice Cream",
                                    "8": "0.5"
                                },
                                {
                                    "0": "Oatmeal Cookie Chunk",
                                    "1": "260",
                                    "2": "14",
                                    "3": "55",
                                    "4": "30",
                                    "5": "23",
                                    "6": "4",
                                    "7": "Ice Cream",
                                    "8": "0.5"
                                },
                                {
                                    "0": "Peach Cobbler",
                                    "1": "220",
                                    "2": "11",
                                    "3": "50",
                                    "4": "28",
                                    "5": "26",
                                    "6": "3",
                                    "7": "Ice Cream",
                                    "8": "0.5"
                                },
                                {
                                    "0": "Peanut Brittle",
                                    "1": "260",
                                    "2": "15",
                                    "3": "60",
                                    "4": "29",
                                    "5": "23",
                                    "6": "4",
                                    "7": "Ice Cream",
                                    "8": "0.5"
                                },
                                {
                                    "0": "Peanut Butter Cup",
                                    "1": "360",
                                    "2": "26",
                                    "3": "70",
                                    "4": "27",
                                    "5": "24",
                                    "6": "6",
                                    "7": "Ice Cream",
                                    "8": "0.5"
                                },
                                {
                                    "0": "Phish Food",
                                    "1": "280",
                                    "2": "13",
                                    "3": "35",
                                    "4": "39",
                                    "5": "28",
                                    "6": "4",
                                    "7": "Ice Cream",
                                    "8": "0.5"
                                },
                                {
                                    "0": "Pistachio Pistachio",
                                    "1": "280",
                                    "2": "17",
                                    "3": "70",
                                    "4": "24",
                                    "5": "19",
                                    "6": "6",
                                    "7": "Ice Cream",
                                    "8": "0.5"
                                },
                                {
                                    "0": "Red Velvet Cake",
                                    "1": "250",
                                    "2": "13",
                                    "3": "60",
                                    "4": "23",
                                    "5": "23",
                                    "6": "4",
                                    "7": "Ice Cream",
                                    "8": "0.5"
                                },
                                {
                                    "0": "S'mores",
                                    "1": "280",
                                    "2": "16",
                                    "3": "35",
                                    "4": "35",
                                    "5": "26",
                                    "6": "3",
                                    "7": "Ice Cream",
                                    "8": "0.5"
                                },
                                {
                                    "0": "Strawberry Cheesecake",
                                    "1": "250",
                                    "2": "15",
                                    "3": "60",
                                    "4": "26",
                                    "5": "22",
                                    "6": "3",
                                    "7": "Ice Cream",
                                    "8": "0.5"
                                },
                                {
                                    "0": "Triple Caramel Chunk",
                                    "1": "280",
                                    "2": "16",
                                    "3": "65",
                                    "4": "32",
                                    "5": "25",
                                    "6": "3",
                                    "7": "Ice Cream",
                                    "8": "0.5"
                                },
                                {
                                    "0": "Vanilla",
                                    "1": "230",
                                    "2": "14",
                                    "3": "75",
                                    "4": "23",
                                    "5": "20",
                                    "6": "4",
                                    "7": "Ice Cream",
                                    "8": "0.5"
                                },
                                {
                                    "0": "Vanilla Caramel Fudge",
                                    "1": "280",
                                    "2": "14",
                                    "3": "70",
                                    "4": "34",
                                    "5": "27",
                                    "6": "4",
                                    "7": "Ice Cream",
                                    "8": "0.5"
                                },
                                {
                                    "0": "Vanilla Heath Bar Crunch",
                                    "1": "280",
                                    "2": "17",
                                    "3": "65",
                                    "4": "30",
                                    "5": "27",
                                    "6": "4",
                                    "7": "Ice Cream",
                                    "8": "0.5"
                                },
                                {
                                    "0": "What a Cluster",
                                    "1": "320",
                                    "2": "19",
                                    "3": "45",
                                    "4": "31",
                                    "5": "23",
                                    "6": "7",
                                    "7": "Ice Cream",
                                    "8": "0.5"
                                },
                                {
                                    "0": "Cherry Garcia Fro Yo",
                                    "1": "200",
                                    "2": "3",
                                    "3": "20",
                                    "4": "37",
                                    "5": "27",
                                    "6": "8",
                                    "7": "Ice Cream",
                                    "8": "0.5"
                                },
                                {
                                    "0": "Chocolate Fudge Brownie Fro Yo",
                                    "1": "180",
                                    "2": "2",
                                    "3": "15",
                                    "4": "35",
                                    "5": "25",
                                    "6": "5",
                                    "7": "Ice Cream",
                                    "8": "0.5"
                                },
                                {
                                    "0": "Half Baked Fro Yo",
                                    "1": "180",
                                    "2": "3",
                                    "3": "20",
                                    "4": "35",
                                    "5": "23",
                                    "6": "4",
                                    "7": "Ice Cream",
                                    "8": "0.5"
                                },
                                {
                                    "0": "Phish Food Fro Yo",
                                    "1": "240",
                                    "2": "6",
                                    "3": "20",
                                    "4": "41",
                                    "5": "27",
                                    "6": "4",
                                    "7": "Ice Cream",
                                    "8": "0.5"
                                },
                                {
                                    "0": "Blueberry Vanilla Graham Greek Frozen Yogurt",
                                    "1": "200",
                                    "2": "7",
                                    "3": "25",
                                    "4": "29",
                                    "5": "23",
                                    "6": "6",
                                    "7": "Ice Cream",
                                    "8": "0.5"
                                },
                                {
                                    "0": "Liz Lemon Greek Frozen Yogurt",
                                    "1": "180",
                                    "2": "4",
                                    "3": "30",
                                    "4": "29",
                                    "5": "21",
                                    "6": "6",
                                    "7": "Ice Cream",
                                    "8": "0.5"
                                },
                                {
                                    "0": "Pineapple Passionfruit Greek Frozen Yogurt",
                                    "1": "180",
                                    "2": "4",
                                    "3": "65",
                                    "4": "30",
                                    "5": "26",
                                    "6": "5",
                                    "7": "Ice Cream",
                                    "8": "0.5"
                                },
                                {
                                    "0": "Raspberry Fudge Chunk Greek Frozen Yogurt",
                                    "1": "200",
                                    "2": "7",
                                    "3": "25",
                                    "4": "29",
                                    "5": "25",
                                    "6": "6",
                                    "7": "Ice Cream",
                                    "8": "0.5"
                                },
                                {
                                    "0": "Strawberry Shortcake Greek Frozen Yogurt",
                                    "1": "180",
                                    "2": "6",
                                    "3": "35",
                                    "4": "28",
                                    "5": "21",
                                    "6": "6",
                                    "7": "Ice Cream",
                                    "8": "0.5"
                                },
                                {
                                    "0": "Vanilla Honey Caramel Greek Frozen Yogurt",
                                    "1": "190",
                                    "2": "5",
                                    "3": "35",
                                    "4": "30",
                                    "5": "22",
                                    "6": "6",
                                    "7": "Ice Cream",
                                    "8": "0.5"
                                },
                                {
                                    "0": "Americone Dream",
                                    "1": "270",
                                    "2": "15",
                                    "3": "65",
                                    "4": "30",
                                    "5": "24",
                                    "6": "3",
                                    "7": "Ice Cream",
                                    "8": "0.5"
                                },
                                {
                                    "0": "Boston Cream Pie",
                                    "1": "250",
                                    "2": "13",
                                    "3": "90",
                                    "4": "29",
                                    "5": "26",
                                    "6": "3",
                                    "7": "Ice Cream",
                                    "8": "0.5"
                                },
                                {
                                    "0": "Cake Batter",
                                    "1": "260",
                                    "2": "16",
                                    "3": "65",
                                    "4": "27",
                                    "5": "23",
                                    "6": "4",
                                    "7": "Ice Cream",
                                    "8": "0.5"
                                },
                                {
                                    "0": "Cannoli",
                                    "1": "280",
                                    "2": "16",
                                    "3": "65",
                                    "4": "28",
                                    "5": "23",
                                    "6": "4",
                                    "7": "Ice Cream",
                                    "8": "0.5"
                                },
                                {
                                    "0": "Cheesecake Brownie",
                                    "1": "250",
                                    "2": "14",
                                    "3": "70",
                                    "4": "27",
                                    "5": "24",
                                    "6": "3",
                                    "7": "Ice Cream",
                                    "8": "0.5"
                                },
                                {
                                    "0": "Cherry Garcia",
                                    "1": "240",
                                    "2": "13",
                                    "3": "60",
                                    "4": "28",
                                    "5": "23",
                                    "6": "4",
                                    "7": "Ice Cream",
                                    "8": "0.5"
                                },
                                {
                                    "0": "Chocolate",
                                    "1": "250",
                                    "2": "14",
                                    "3": "40",
                                    "4": "25",
                                    "5": "21",
                                    "6": "4",
                                    "7": "Ice Cream",
                                    "8": "0.5"
                                },
                                {
                                    "0": "Chocolate Chip Cookie Dough",
                                    "1": "270",
                                    "2": "14",
                                    "3": "65",
                                    "4": "33",
                                    "5": "25",
                                    "6": "4",
                                    "7": "Ice Cream",
                                    "8": "0.5"
                                },
                                {
                                    "0": "Chocolate Fudge Brownie",
                                    "1": "260",
                                    "2": "12",
                                    "3": "40",
                                    "4": "34",
                                    "5": "27",
                                    "6": "4",
                                    "7": "Ice Cream",
                                    "8": "0.5"
                                },
                                {
                                    "0": "Chocolate Nougat Crunch",
                                    "1": "260",
                                    "2": "14",
                                    "3": "60",
                                    "4": "30",
                                    "5": "30",
                                    "6": "4",
                                    "7": "Ice Cream",
                                    "8": "0.5"
                                },
                                {
                                    "0": "Chocolate Peppermint Crunch",
                                    "1": "290",
                                    "2": "16",
                                    "3": "45",
                                    "4": "33",
                                    "5": "28",
                                    "6": "4",
                                    "7": "Ice Cream",
                                    "8": "0.5"
                                },
                                {
                                    "0": "Chocolate Therapy",
                                    "1": "240",
                                    "2": "13",
                                    "3": "45",
                                    "4": "27",
                                    "5": "21",
                                    "6": "4",
                                    "7": "Ice Cream",
                                    "8": "0.5"
                                },
                                {
                                    "0": "Chubby Hubby",
                                    "1": "340",
                                    "2": "20",
                                    "3": "55",
                                    "4": "33",
                                    "5": "25",
                                    "6": "7",
                                    "7": "Ice Cream",
                                    "8": "0.5"
                                },
                                {
                                    "0": "Chunky Monkey",
                                    "1": "290",
                                    "2": "18",
                                    "3": "65",
                                    "4": "29",
                                    "5": "27",
                                    "6": "4",
                                    "7": "Ice Cream",
                                    "8": "0.5"
                                },
                                {
                                    "0": "Cinnamon Buns",
                                    "1": "290",
                                    "2": "15",
                                    "3": "60",
                                    "4": "36",
                                    "5": "28",
                                    "6": "4",
                                    "7": "Ice Cream",
                                    "8": "0.5"
                                },
                                {
                                    "0": "Coffee Caramel Buzz",
                                    "1": "280",
                                    "2": "14",
                                    "3": "60",
                                    "4": "33",
                                    "5": "25",
                                    "6": "4",
                                    "7": "Ice Cream",
                                    "8": "0.5"
                                },
                                {
                                    "0": "Coffee Coffee Buzz Buzz Buzz",
                                    "1": "260",
                                    "2": "16",
                                    "3": "65",
                                    "4": "27",
                                    "5": "24",
                                    "6": "4",
                                    "7": "Ice Cream",
                                    "8": "0.5"
                                },
                                {
                                    "0": "Coffee Heath Bar Crunch",
                                    "1": "280",
                                    "2": "16",
                                    "3": "60",
                                    "4": "30",
                                    "5": "27",
                                    "6": "4",
                                    "7": "Ice Cream",
                                    "8": "0.5"
                                },
                                {
                                    "0": "Crème Brulée",
                                    "1": "280",
                                    "2": "16",
                                    "3": "90",
                                    "4": "31",
                                    "5": "28",
                                    "6": "3",
                                    "7": "Ice Cream",
                                    "8": "0.5"
                                },
                                {
                                    "0": "Everything But the . . .",
                                    "1": "290",
                                    "2": "17",
                                    "3": "45",
                                    "4": "31",
                                    "5": "28",
                                    "6": "5",
                                    "7": "Ice Cream",
                                    "8": "0.5"
                                },
                                {
                                    "0": "Half Baked",
                                    "1": "270",
                                    "2": "13",
                                    "3": "55",
                                    "4": "35",
                                    "5": "27",
                                    "6": "4",
                                    "7": "Ice Cream",
                                    "8": "0.5"
                                },
                                {
                                    "0": "Imagine Whirled Peace",
                                    "1": "270",
                                    "2": "16",
                                    "3": "75",
                                    "4": "27",
                                    "5": "23",
                                    "6": "3",
                                    "7": "Ice Cream",
                                    "8": "0.5"
                                },
                                {
                                    "0": "Karamel Sutra",
                                    "1": "260",
                                    "2": "14",
                                    "3": "55",
                                    "4": "31",
                                    "5": "26",
                                    "6": "3",
                                    "7": "Ice Cream",
                                    "8": "0.5"
                                },
                                {
                                    "0": "Late Night Snack",
                                    "1": "270",
                                    "2": "15",
                                    "3": "60",
                                    "4": "31",
                                    "5": "21",
                                    "6": "4",
                                    "7": "Ice Cream",
                                    "8": "0.5"
                                },
                                {
                                    "0": "Milk & Cookies",
                                    "1": "270",
                                    "2": "15",
                                    "3": "60",
                                    "4": "30",
                                    "5": "23",
                                    "6": "4",
                                    "7": "Ice Cream",
                                    "8": "0.5"
                                },
                                {
                                    "0": "Mint Chocolate Cookie",
                                    "1": "260",
                                    "2": "14",
                                    "3": "65",
                                    "4": "28",
                                    "5": "22",
                                    "6": "4",
                                    "7": "Ice Cream",
                                    "8": "0.5"
                                },
                                {
                                    "0": "Mud Pie",
                                    "1": "270",
                                    "2": "16",
                                    "3": "55",
                                    "4": "28",
                                    "5": "23",
                                    "6": "4",
                                    "7": "Ice Cream",
                                    "8": "0.5"
                                },
                                {
                                    "0": "New York Super Fudge Chunk",
                                    "1": "300",
                                    "2": "20",
                                    "3": "50",
                                    "4": "29",
                                    "5": "25",
                                    "6": "4",
                                    "7": "Ice Cream",
                                    "8": "0.5"
                                },
                                {
                                    "0": "Oatmeal Cookie Chunk",
                                    "1": "260",
                                    "2": "14",
                                    "3": "55",
                                    "4": "30",
                                    "5": "23",
                                    "6": "4",
                                    "7": "Ice Cream",
                                    "8": "0.5"
                                },
                                {
                                    "0": "Peach Cobbler",
                                    "1": "220",
                                    "2": "11",
                                    "3": "50",
                                    "4": "28",
                                    "5": "26",
                                    "6": "3",
                                    "7": "Ice Cream",
                                    "8": "0.5"
                                },
                                {
                                    "0": "Peanut Brittle",
                                    "1": "260",
                                    "2": "15",
                                    "3": "60",
                                    "4": "29",
                                    "5": "23",
                                    "6": "4",
                                    "7": "Ice Cream",
                                    "8": "0.5"
                                },
                                {
                                    "0": "Peanut Butter Cup",
                                    "1": "360",
                                    "2": "26",
                                    "3": "70",
                                    "4": "27",
                                    "5": "24",
                                    "6": "6",
                                    "7": "Ice Cream",
                                    "8": "0.5"
                                },
                                {
                                    "0": "Phish Food",
                                    "1": "280",
                                    "2": "13",
                                    "3": "35",
                                    "4": "39",
                                    "5": "28",
                                    "6": "4",
                                    "7": "Ice Cream",
                                    "8": "0.5"
                                },
                                {
                                    "0": "Pistachio Pistachio",
                                    "1": "280",
                                    "2": "17",
                                    "3": "70",
                                    "4": "24",
                                    "5": "19",
                                    "6": "6",
                                    "7": "Ice Cream",
                                    "8": "0.5"
                                },
                                {
                                    "0": "Red Velvet Cake",
                                    "1": "250",
                                    "2": "13",
                                    "3": "60",
                                    "4": "23",
                                    "5": "23",
                                    "6": "4",
                                    "7": "Ice Cream",
                                    "8": "0.5"
                                },
                                {
                                    "0": "S'mores",
                                    "1": "280",
                                    "2": "16",
                                    "3": "35",
                                    "4": "35",
                                    "5": "26",
                                    "6": "3",
                                    "7": "Ice Cream",
                                    "8": "0.5"
                                },
                                {
                                    "0": "Strawberry Cheesecake",
                                    "1": "250",
                                    "2": "15",
                                    "3": "60",
                                    "4": "26",
                                    "5": "22",
                                    "6": "3",
                                    "7": "Ice Cream",
                                    "8": "0.5"
                                },
                                {
                                    "0": "Triple Caramel Chunk",
                                    "1": "280",
                                    "2": "16",
                                    "3": "65",
                                    "4": "32",
                                    "5": "25",
                                    "6": "3",
                                    "7": "Ice Cream",
                                    "8": "0.5"
                                },
                                {
                                    "0": "Vanilla",
                                    "1": "230",
                                    "2": "14",
                                    "3": "75",
                                    "4": "23",
                                    "5": "20",
                                    "6": "4",
                                    "7": "Ice Cream",
                                    "8": "0.5"
                                },
                                {
                                    "0": "Vanilla Caramel Fudge",
                                    "1": "280",
                                    "2": "14",
                                    "3": "70",
                                    "4": "34",
                                    "5": "27",
                                    "6": "4",
                                    "7": "Ice Cream",
                                    "8": "0.5"
                                },
                                {
                                    "0": "Vanilla Heath Bar Crunch",
                                    "1": "280",
                                    "2": "17",
                                    "3": "65",
                                    "4": "30",
                                    "5": "27",
                                    "6": "4",
                                    "7": "Ice Cream",
                                    "8": "0.5"
                                },
                                {
                                    "0": "What a Cluster",
                                    "1": "320",
                                    "2": "19",
                                    "3": "45",
                                    "4": "31",
                                    "5": "23",
                                    "6": "7",
                                    "7": "Ice Cream",
                                    "8": "0.5"
                                },
                                {
                                    "0": "Cherry Garcia Fro Yo",
                                    "1": "200",
                                    "2": "3",
                                    "3": "20",
                                    "4": "37",
                                    "5": "27",
                                    "6": "8",
                                    "7": "Ice Cream",
                                    "8": "0.5"
                                },
                                {
                                    "0": "Chocolate Fudge Brownie Fro Yo",
                                    "1": "180",
                                    "2": "2",
                                    "3": "15",
                                    "4": "35",
                                    "5": "25",
                                    "6": "5",
                                    "7": "Ice Cream",
                                    "8": "0.5"
                                },
                                {
                                    "0": "Half Baked Fro Yo",
                                    "1": "180",
                                    "2": "3",
                                    "3": "20",
                                    "4": "35",
                                    "5": "23",
                                    "6": "4",
                                    "7": "Ice Cream",
                                    "8": "0.5"
                                },
                                {
                                    "0": "Phish Food Fro Yo",
                                    "1": "240",
                                    "2": "6",
                                    "3": "20",
                                    "4": "41",
                                    "5": "27",
                                    "6": "4",
                                    "7": "Ice Cream",
                                    "8": "0.5"
                                },
                                {
                                    "0": "Blueberry Vanilla Graham Greek Frozen Yogurt",
                                    "1": "200",
                                    "2": "7",
                                    "3": "25",
                                    "4": "29",
                                    "5": "23",
                                    "6": "6",
                                    "7": "Ice Cream",
                                    "8": "0.5"
                                },
                                {
                                    "0": "Liz Lemon Greek Frozen Yogurt",
                                    "1": "180",
                                    "2": "4",
                                    "3": "30",
                                    "4": "29",
                                    "5": "21",
                                    "6": "6",
                                    "7": "Ice Cream",
                                    "8": "0.5"
                                },
                                {
                                    "0": "Pineapple Passionfruit Greek Frozen Yogurt",
                                    "1": "180",
                                    "2": "4",
                                    "3": "65",
                                    "4": "30",
                                    "5": "26",
                                    "6": "5",
                                    "7": "Ice Cream",
                                    "8": "0.5"
                                },
                                {
                                    "0": "Raspberry Fudge Chunk Greek Frozen Yogurt",
                                    "1": "200",
                                    "2": "7",
                                    "3": "25",
                                    "4": "29",
                                    "5": "25",
                                    "6": "6",
                                    "7": "Ice Cream",
                                    "8": "0.5"
                                },
                                {
                                    "0": "Strawberry Shortcake Greek Frozen Yogurt",
                                    "1": "180",
                                    "2": "6",
                                    "3": "35",
                                    "4": "28",
                                    "5": "21",
                                    "6": "6",
                                    "7": "Ice Cream",
                                    "8": "0.5"
                                },
                                {
                                    "0": "Vanilla Honey Caramel Greek Frozen Yogurt",
                                    "1": "190",
                                    "2": "5",
                                    "3": "35",
                                    "4": "30",
                                    "5": "22",
                                    "6": "6",
                                    "7": "Ice Cream",
                                    "8": "0.5"
                                }
                            ]
                        },
                        "text/html": "<table><tr><th>flavor</th><th>calories</th><th>fat_g</th><th>cholesterol_mg</th><th>carbs_g</th><th>sugars_g</th><th>protein_g</th><th>category</th><th>size_cup</th></tr><tr><td>Americone Dream</td><td>270</td><td>15</td><td>65</td><td>30</td><td>24</td><td>3</td><td>Ice Cream</td><td>0.5</td></tr><tr><td>Boston Cream Pie</td><td>250</td><td>13</td><td>90</td><td>29</td><td>26</td><td>3</td><td>Ice Cream</td><td>0.5</td></tr><tr><td>Cake Batter</td><td>260</td><td>16</td><td>65</td><td>27</td><td>23</td><td>4</td><td>Ice Cream</td><td>0.5</td></tr><tr><td>Cannoli</td><td>280</td><td>16</td><td>65</td><td>28</td><td>23</td><td>4</td><td>Ice Cream</td><td>0.5</td></tr><tr><td>Cheesecake Brownie</td><td>250</td><td>14</td><td>70</td><td>27</td><td>24</td><td>3</td><td>Ice Cream</td><td>0.5</td></tr><tr><td>Cherry Garcia</td><td>240</td><td>13</td><td>60</td><td>28</td><td>23</td><td>4</td><td>Ice Cream</td><td>0.5</td></tr><tr><td>Chocolate</td><td>250</td><td>14</td><td>40</td><td>25</td><td>21</td><td>4</td><td>Ice Cream</td><td>0.5</td></tr><tr><td>Chocolate Chip Cookie Dough</td><td>270</td><td>14</td><td>65</td><td>33</td><td>25</td><td>4</td><td>Ice Cream</td><td>0.5</td></tr><tr><td>Chocolate Fudge Brownie</td><td>260</td><td>12</td><td>40</td><td>34</td><td>27</td><td>4</td><td>Ice Cream</td><td>0.5</td></tr><tr><td>Chocolate Nougat Crunch</td><td>260</td><td>14</td><td>60</td><td>30</td><td>30</td><td>4</td><td>Ice Cream</td><td>0.5</td></tr><tr><td>Chocolate Peppermint Crunch</td><td>290</td><td>16</td><td>45</td><td>33</td><td>28</td><td>4</td><td>Ice Cream</td><td>0.5</td></tr><tr><td>Chocolate Therapy</td><td>240</td><td>13</td><td>45</td><td>27</td><td>21</td><td>4</td><td>Ice Cream</td><td>0.5</td></tr><tr><td>Chubby Hubby</td><td>340</td><td>20</td><td>55</td><td>33</td><td>25</td><td>7</td><td>Ice Cream</td><td>0.5</td></tr><tr><td>Chunky Monkey</td><td>290</td><td>18</td><td>65</td><td>29</td><td>27</td><td>4</td><td>Ice Cream</td><td>0.5</td></tr><tr><td>Cinnamon Buns</td><td>290</td><td>15</td><td>60</td><td>36</td><td>28</td><td>4</td><td>Ice Cream</td><td>0.5</td></tr><tr><td>Coffee Caramel Buzz</td><td>280</td><td>14</td><td>60</td><td>33</td><td>25</td><td>4</td><td>Ice Cream</td><td>0.5</td></tr><tr><td>Coffee Coffee Buzz Buzz Buzz</td><td>260</td><td>16</td><td>65</td><td>27</td><td>24</td><td>4</td><td>Ice Cream</td><td>0.5</td></tr><tr><td>Coffee Heath Bar Crunch</td><td>280</td><td>16</td><td>60</td><td>30</td><td>27</td><td>4</td><td>Ice Cream</td><td>0.5</td></tr><tr><td>Crème Brulée</td><td>280</td><td>16</td><td>90</td><td>31</td><td>28</td><td>3</td><td>Ice Cream</td><td>0.5</td></tr><tr><td>Everything But the . . .</td><td>290</td><td>17</td><td>45</td><td>31</td><td>28</td><td>5</td><td>Ice Cream</td><td>0.5</td></tr><tr><td>Half Baked</td><td>270</td><td>13</td><td>55</td><td>35</td><td>27</td><td>4</td><td>Ice Cream</td><td>0.5</td></tr><tr><td>Imagine Whirled Peace</td><td>270</td><td>16</td><td>75</td><td>27</td><td>23</td><td>3</td><td>Ice Cream</td><td>0.5</td></tr><tr><td>Karamel Sutra</td><td>260</td><td>14</td><td>55</td><td>31</td><td>26</td><td>3</td><td>Ice Cream</td><td>0.5</td></tr><tr><td>Late Night Snack</td><td>270</td><td>15</td><td>60</td><td>31</td><td>21</td><td>4</td><td>Ice Cream</td><td>0.5</td></tr><tr><td>Milk &amp; Cookies</td><td>270</td><td>15</td><td>60</td><td>30</td><td>23</td><td>4</td><td>Ice Cream</td><td>0.5</td></tr><tr><td>Mint Chocolate Cookie</td><td>260</td><td>14</td><td>65</td><td>28</td><td>22</td><td>4</td><td>Ice Cream</td><td>0.5</td></tr><tr><td>Mud Pie</td><td>270</td><td>16</td><td>55</td><td>28</td><td>23</td><td>4</td><td>Ice Cream</td><td>0.5</td></tr><tr><td>New York Super Fudge Chunk</td><td>300</td><td>20</td><td>50</td><td>29</td><td>25</td><td>4</td><td>Ice Cream</td><td>0.5</td></tr><tr><td>Oatmeal Cookie Chunk</td><td>260</td><td>14</td><td>55</td><td>30</td><td>23</td><td>4</td><td>Ice Cream</td><td>0.5</td></tr><tr><td>Peach Cobbler</td><td>220</td><td>11</td><td>50</td><td>28</td><td>26</td><td>3</td><td>Ice Cream</td><td>0.5</td></tr><tr><td>Peanut Brittle</td><td>260</td><td>15</td><td>60</td><td>29</td><td>23</td><td>4</td><td>Ice Cream</td><td>0.5</td></tr><tr><td>Peanut Butter Cup</td><td>360</td><td>26</td><td>70</td><td>27</td><td>24</td><td>6</td><td>Ice Cream</td><td>0.5</td></tr><tr><td>Phish Food</td><td>280</td><td>13</td><td>35</td><td>39</td><td>28</td><td>4</td><td>Ice Cream</td><td>0.5</td></tr><tr><td>Pistachio Pistachio</td><td>280</td><td>17</td><td>70</td><td>24</td><td>19</td><td>6</td><td>Ice Cream</td><td>0.5</td></tr><tr><td>Red Velvet Cake</td><td>250</td><td>13</td><td>60</td><td>23</td><td>23</td><td>4</td><td>Ice Cream</td><td>0.5</td></tr><tr><td>S'mores</td><td>280</td><td>16</td><td>35</td><td>35</td><td>26</td><td>3</td><td>Ice Cream</td><td>0.5</td></tr><tr><td>Strawberry Cheesecake</td><td>250</td><td>15</td><td>60</td><td>26</td><td>22</td><td>3</td><td>Ice Cream</td><td>0.5</td></tr><tr><td>Triple Caramel Chunk</td><td>280</td><td>16</td><td>65</td><td>32</td><td>25</td><td>3</td><td>Ice Cream</td><td>0.5</td></tr><tr><td>Vanilla</td><td>230</td><td>14</td><td>75</td><td>23</td><td>20</td><td>4</td><td>Ice Cream</td><td>0.5</td></tr><tr><td>Vanilla Caramel Fudge</td><td>280</td><td>14</td><td>70</td><td>34</td><td>27</td><td>4</td><td>Ice Cream</td><td>0.5</td></tr><tr><td>Vanilla Heath Bar Crunch</td><td>280</td><td>17</td><td>65</td><td>30</td><td>27</td><td>4</td><td>Ice Cream</td><td>0.5</td></tr><tr><td>What a Cluster</td><td>320</td><td>19</td><td>45</td><td>31</td><td>23</td><td>7</td><td>Ice Cream</td><td>0.5</td></tr><tr><td>Cherry Garcia Fro Yo</td><td>200</td><td>3</td><td>20</td><td>37</td><td>27</td><td>8</td><td>Ice Cream</td><td>0.5</td></tr><tr><td>Chocolate Fudge Brownie Fro Yo</td><td>180</td><td>2</td><td>15</td><td>35</td><td>25</td><td>5</td><td>Ice Cream</td><td>0.5</td></tr><tr><td>Half Baked Fro Yo</td><td>180</td><td>3</td><td>20</td><td>35</td><td>23</td><td>4</td><td>Ice Cream</td><td>0.5</td></tr><tr><td>Phish Food Fro Yo</td><td>240</td><td>6</td><td>20</td><td>41</td><td>27</td><td>4</td><td>Ice Cream</td><td>0.5</td></tr><tr><td>Blueberry Vanilla Graham Greek Frozen Yogurt</td><td>200</td><td>7</td><td>25</td><td>29</td><td>23</td><td>6</td><td>Ice Cream</td><td>0.5</td></tr><tr><td>Liz Lemon Greek Frozen Yogurt</td><td>180</td><td>4</td><td>30</td><td>29</td><td>21</td><td>6</td><td>Ice Cream</td><td>0.5</td></tr><tr><td>Pineapple Passionfruit Greek Frozen Yogurt</td><td>180</td><td>4</td><td>65</td><td>30</td><td>26</td><td>5</td><td>Ice Cream</td><td>0.5</td></tr><tr><td>Raspberry Fudge Chunk Greek Frozen Yogurt</td><td>200</td><td>7</td><td>25</td><td>29</td><td>25</td><td>6</td><td>Ice Cream</td><td>0.5</td></tr><tr><td>Strawberry Shortcake Greek Frozen Yogurt</td><td>180</td><td>6</td><td>35</td><td>28</td><td>21</td><td>6</td><td>Ice Cream</td><td>0.5</td></tr><tr><td>Vanilla Honey Caramel Greek Frozen Yogurt</td><td>190</td><td>5</td><td>35</td><td>30</td><td>22</td><td>6</td><td>Ice Cream</td><td>0.5</td></tr><tr><td>Americone Dream</td><td>270</td><td>15</td><td>65</td><td>30</td><td>24</td><td>3</td><td>Ice Cream</td><td>0.5</td></tr><tr><td>Boston Cream Pie</td><td>250</td><td>13</td><td>90</td><td>29</td><td>26</td><td>3</td><td>Ice Cream</td><td>0.5</td></tr><tr><td>Cake Batter</td><td>260</td><td>16</td><td>65</td><td>27</td><td>23</td><td>4</td><td>Ice Cream</td><td>0.5</td></tr><tr><td>Cannoli</td><td>280</td><td>16</td><td>65</td><td>28</td><td>23</td><td>4</td><td>Ice Cream</td><td>0.5</td></tr><tr><td>Cheesecake Brownie</td><td>250</td><td>14</td><td>70</td><td>27</td><td>24</td><td>3</td><td>Ice Cream</td><td>0.5</td></tr><tr><td>Cherry Garcia</td><td>240</td><td>13</td><td>60</td><td>28</td><td>23</td><td>4</td><td>Ice Cream</td><td>0.5</td></tr><tr><td>Chocolate</td><td>250</td><td>14</td><td>40</td><td>25</td><td>21</td><td>4</td><td>Ice Cream</td><td>0.5</td></tr><tr><td>Chocolate Chip Cookie Dough</td><td>270</td><td>14</td><td>65</td><td>33</td><td>25</td><td>4</td><td>Ice Cream</td><td>0.5</td></tr><tr><td>Chocolate Fudge Brownie</td><td>260</td><td>12</td><td>40</td><td>34</td><td>27</td><td>4</td><td>Ice Cream</td><td>0.5</td></tr><tr><td>Chocolate Nougat Crunch</td><td>260</td><td>14</td><td>60</td><td>30</td><td>30</td><td>4</td><td>Ice Cream</td><td>0.5</td></tr><tr><td>Chocolate Peppermint Crunch</td><td>290</td><td>16</td><td>45</td><td>33</td><td>28</td><td>4</td><td>Ice Cream</td><td>0.5</td></tr><tr><td>Chocolate Therapy</td><td>240</td><td>13</td><td>45</td><td>27</td><td>21</td><td>4</td><td>Ice Cream</td><td>0.5</td></tr><tr><td>Chubby Hubby</td><td>340</td><td>20</td><td>55</td><td>33</td><td>25</td><td>7</td><td>Ice Cream</td><td>0.5</td></tr><tr><td>Chunky Monkey</td><td>290</td><td>18</td><td>65</td><td>29</td><td>27</td><td>4</td><td>Ice Cream</td><td>0.5</td></tr><tr><td>Cinnamon Buns</td><td>290</td><td>15</td><td>60</td><td>36</td><td>28</td><td>4</td><td>Ice Cream</td><td>0.5</td></tr><tr><td>Coffee Caramel Buzz</td><td>280</td><td>14</td><td>60</td><td>33</td><td>25</td><td>4</td><td>Ice Cream</td><td>0.5</td></tr><tr><td>Coffee Coffee Buzz Buzz Buzz</td><td>260</td><td>16</td><td>65</td><td>27</td><td>24</td><td>4</td><td>Ice Cream</td><td>0.5</td></tr><tr><td>Coffee Heath Bar Crunch</td><td>280</td><td>16</td><td>60</td><td>30</td><td>27</td><td>4</td><td>Ice Cream</td><td>0.5</td></tr><tr><td>Crème Brulée</td><td>280</td><td>16</td><td>90</td><td>31</td><td>28</td><td>3</td><td>Ice Cream</td><td>0.5</td></tr><tr><td>Everything But the . . .</td><td>290</td><td>17</td><td>45</td><td>31</td><td>28</td><td>5</td><td>Ice Cream</td><td>0.5</td></tr><tr><td>Half Baked</td><td>270</td><td>13</td><td>55</td><td>35</td><td>27</td><td>4</td><td>Ice Cream</td><td>0.5</td></tr><tr><td>Imagine Whirled Peace</td><td>270</td><td>16</td><td>75</td><td>27</td><td>23</td><td>3</td><td>Ice Cream</td><td>0.5</td></tr><tr><td>Karamel Sutra</td><td>260</td><td>14</td><td>55</td><td>31</td><td>26</td><td>3</td><td>Ice Cream</td><td>0.5</td></tr><tr><td>Late Night Snack</td><td>270</td><td>15</td><td>60</td><td>31</td><td>21</td><td>4</td><td>Ice Cream</td><td>0.5</td></tr><tr><td>Milk &amp; Cookies</td><td>270</td><td>15</td><td>60</td><td>30</td><td>23</td><td>4</td><td>Ice Cream</td><td>0.5</td></tr><tr><td>Mint Chocolate Cookie</td><td>260</td><td>14</td><td>65</td><td>28</td><td>22</td><td>4</td><td>Ice Cream</td><td>0.5</td></tr><tr><td>Mud Pie</td><td>270</td><td>16</td><td>55</td><td>28</td><td>23</td><td>4</td><td>Ice Cream</td><td>0.5</td></tr><tr><td>New York Super Fudge Chunk</td><td>300</td><td>20</td><td>50</td><td>29</td><td>25</td><td>4</td><td>Ice Cream</td><td>0.5</td></tr><tr><td>Oatmeal Cookie Chunk</td><td>260</td><td>14</td><td>55</td><td>30</td><td>23</td><td>4</td><td>Ice Cream</td><td>0.5</td></tr><tr><td>Peach Cobbler</td><td>220</td><td>11</td><td>50</td><td>28</td><td>26</td><td>3</td><td>Ice Cream</td><td>0.5</td></tr><tr><td>Peanut Brittle</td><td>260</td><td>15</td><td>60</td><td>29</td><td>23</td><td>4</td><td>Ice Cream</td><td>0.5</td></tr><tr><td>Peanut Butter Cup</td><td>360</td><td>26</td><td>70</td><td>27</td><td>24</td><td>6</td><td>Ice Cream</td><td>0.5</td></tr><tr><td>Phish Food</td><td>280</td><td>13</td><td>35</td><td>39</td><td>28</td><td>4</td><td>Ice Cream</td><td>0.5</td></tr><tr><td>Pistachio Pistachio</td><td>280</td><td>17</td><td>70</td><td>24</td><td>19</td><td>6</td><td>Ice Cream</td><td>0.5</td></tr><tr><td>Red Velvet Cake</td><td>250</td><td>13</td><td>60</td><td>23</td><td>23</td><td>4</td><td>Ice Cream</td><td>0.5</td></tr><tr><td>S'mores</td><td>280</td><td>16</td><td>35</td><td>35</td><td>26</td><td>3</td><td>Ice Cream</td><td>0.5</td></tr><tr><td>Strawberry Cheesecake</td><td>250</td><td>15</td><td>60</td><td>26</td><td>22</td><td>3</td><td>Ice Cream</td><td>0.5</td></tr><tr><td>Triple Caramel Chunk</td><td>280</td><td>16</td><td>65</td><td>32</td><td>25</td><td>3</td><td>Ice Cream</td><td>0.5</td></tr><tr><td>Vanilla</td><td>230</td><td>14</td><td>75</td><td>23</td><td>20</td><td>4</td><td>Ice Cream</td><td>0.5</td></tr><tr><td>Vanilla Caramel Fudge</td><td>280</td><td>14</td><td>70</td><td>34</td><td>27</td><td>4</td><td>Ice Cream</td><td>0.5</td></tr><tr><td>Vanilla Heath Bar Crunch</td><td>280</td><td>17</td><td>65</td><td>30</td><td>27</td><td>4</td><td>Ice Cream</td><td>0.5</td></tr><tr><td>What a Cluster</td><td>320</td><td>19</td><td>45</td><td>31</td><td>23</td><td>7</td><td>Ice Cream</td><td>0.5</td></tr><tr><td>Cherry Garcia Fro Yo</td><td>200</td><td>3</td><td>20</td><td>37</td><td>27</td><td>8</td><td>Ice Cream</td><td>0.5</td></tr><tr><td>Chocolate Fudge Brownie Fro Yo</td><td>180</td><td>2</td><td>15</td><td>35</td><td>25</td><td>5</td><td>Ice Cream</td><td>0.5</td></tr><tr><td>Half Baked Fro Yo</td><td>180</td><td>3</td><td>20</td><td>35</td><td>23</td><td>4</td><td>Ice Cream</td><td>0.5</td></tr><tr><td>Phish Food Fro Yo</td><td>240</td><td>6</td><td>20</td><td>41</td><td>27</td><td>4</td><td>Ice Cream</td><td>0.5</td></tr><tr><td>Blueberry Vanilla Graham Greek Frozen Yogurt</td><td>200</td><td>7</td><td>25</td><td>29</td><td>23</td><td>6</td><td>Ice Cream</td><td>0.5</td></tr><tr><td>Liz Lemon Greek Frozen Yogurt</td><td>180</td><td>4</td><td>30</td><td>29</td><td>21</td><td>6</td><td>Ice Cream</td><td>0.5</td></tr><tr><td>Pineapple Passionfruit Greek Frozen Yogurt</td><td>180</td><td>4</td><td>65</td><td>30</td><td>26</td><td>5</td><td>Ice Cream</td><td>0.5</td></tr><tr><td>Raspberry Fudge Chunk Greek Frozen Yogurt</td><td>200</td><td>7</td><td>25</td><td>29</td><td>25</td><td>6</td><td>Ice Cream</td><td>0.5</td></tr><tr><td>Strawberry Shortcake Greek Frozen Yogurt</td><td>180</td><td>6</td><td>35</td><td>28</td><td>21</td><td>6</td><td>Ice Cream</td><td>0.5</td></tr><tr><td>Vanilla Honey Caramel Greek Frozen Yogurt</td><td>190</td><td>5</td><td>35</td><td>30</td><td>22</td><td>6</td><td>Ice Cream</td><td>0.5</td></tr><tr><td>Americone Dream</td><td>270</td><td>15</td><td>65</td><td>30</td><td>24</td><td>3</td><td>Ice Cream</td><td>0.5</td></tr><tr><td>Boston Cream Pie</td><td>250</td><td>13</td><td>90</td><td>29</td><td>26</td><td>3</td><td>Ice Cream</td><td>0.5</td></tr><tr><td>Cake Batter</td><td>260</td><td>16</td><td>65</td><td>27</td><td>23</td><td>4</td><td>Ice Cream</td><td>0.5</td></tr><tr><td>Cannoli</td><td>280</td><td>16</td><td>65</td><td>28</td><td>23</td><td>4</td><td>Ice Cream</td><td>0.5</td></tr><tr><td>Cheesecake Brownie</td><td>250</td><td>14</td><td>70</td><td>27</td><td>24</td><td>3</td><td>Ice Cream</td><td>0.5</td></tr><tr><td>Cherry Garcia</td><td>240</td><td>13</td><td>60</td><td>28</td><td>23</td><td>4</td><td>Ice Cream</td><td>0.5</td></tr><tr><td>Chocolate</td><td>250</td><td>14</td><td>40</td><td>25</td><td>21</td><td>4</td><td>Ice Cream</td><td>0.5</td></tr><tr><td>Chocolate Chip Cookie Dough</td><td>270</td><td>14</td><td>65</td><td>33</td><td>25</td><td>4</td><td>Ice Cream</td><td>0.5</td></tr><tr><td>Chocolate Fudge Brownie</td><td>260</td><td>12</td><td>40</td><td>34</td><td>27</td><td>4</td><td>Ice Cream</td><td>0.5</td></tr><tr><td>Chocolate Nougat Crunch</td><td>260</td><td>14</td><td>60</td><td>30</td><td>30</td><td>4</td><td>Ice Cream</td><td>0.5</td></tr><tr><td>Chocolate Peppermint Crunch</td><td>290</td><td>16</td><td>45</td><td>33</td><td>28</td><td>4</td><td>Ice Cream</td><td>0.5</td></tr><tr><td>Chocolate Therapy</td><td>240</td><td>13</td><td>45</td><td>27</td><td>21</td><td>4</td><td>Ice Cream</td><td>0.5</td></tr><tr><td>Chubby Hubby</td><td>340</td><td>20</td><td>55</td><td>33</td><td>25</td><td>7</td><td>Ice Cream</td><td>0.5</td></tr><tr><td>Chunky Monkey</td><td>290</td><td>18</td><td>65</td><td>29</td><td>27</td><td>4</td><td>Ice Cream</td><td>0.5</td></tr><tr><td>Cinnamon Buns</td><td>290</td><td>15</td><td>60</td><td>36</td><td>28</td><td>4</td><td>Ice Cream</td><td>0.5</td></tr><tr><td>Coffee Caramel Buzz</td><td>280</td><td>14</td><td>60</td><td>33</td><td>25</td><td>4</td><td>Ice Cream</td><td>0.5</td></tr><tr><td>Coffee Coffee Buzz Buzz Buzz</td><td>260</td><td>16</td><td>65</td><td>27</td><td>24</td><td>4</td><td>Ice Cream</td><td>0.5</td></tr><tr><td>Coffee Heath Bar Crunch</td><td>280</td><td>16</td><td>60</td><td>30</td><td>27</td><td>4</td><td>Ice Cream</td><td>0.5</td></tr><tr><td>Crème Brulée</td><td>280</td><td>16</td><td>90</td><td>31</td><td>28</td><td>3</td><td>Ice Cream</td><td>0.5</td></tr><tr><td>Everything But the . . .</td><td>290</td><td>17</td><td>45</td><td>31</td><td>28</td><td>5</td><td>Ice Cream</td><td>0.5</td></tr><tr><td>Half Baked</td><td>270</td><td>13</td><td>55</td><td>35</td><td>27</td><td>4</td><td>Ice Cream</td><td>0.5</td></tr><tr><td>Imagine Whirled Peace</td><td>270</td><td>16</td><td>75</td><td>27</td><td>23</td><td>3</td><td>Ice Cream</td><td>0.5</td></tr><tr><td>Karamel Sutra</td><td>260</td><td>14</td><td>55</td><td>31</td><td>26</td><td>3</td><td>Ice Cream</td><td>0.5</td></tr><tr><td>Late Night Snack</td><td>270</td><td>15</td><td>60</td><td>31</td><td>21</td><td>4</td><td>Ice Cream</td><td>0.5</td></tr><tr><td>Milk &amp; Cookies</td><td>270</td><td>15</td><td>60</td><td>30</td><td>23</td><td>4</td><td>Ice Cream</td><td>0.5</td></tr><tr><td>Mint Chocolate Cookie</td><td>260</td><td>14</td><td>65</td><td>28</td><td>22</td><td>4</td><td>Ice Cream</td><td>0.5</td></tr><tr><td>Mud Pie</td><td>270</td><td>16</td><td>55</td><td>28</td><td>23</td><td>4</td><td>Ice Cream</td><td>0.5</td></tr><tr><td>New York Super Fudge Chunk</td><td>300</td><td>20</td><td>50</td><td>29</td><td>25</td><td>4</td><td>Ice Cream</td><td>0.5</td></tr><tr><td>Oatmeal Cookie Chunk</td><td>260</td><td>14</td><td>55</td><td>30</td><td>23</td><td>4</td><td>Ice Cream</td><td>0.5</td></tr><tr><td>Peach Cobbler</td><td>220</td><td>11</td><td>50</td><td>28</td><td>26</td><td>3</td><td>Ice Cream</td><td>0.5</td></tr><tr><td>Peanut Brittle</td><td>260</td><td>15</td><td>60</td><td>29</td><td>23</td><td>4</td><td>Ice Cream</td><td>0.5</td></tr><tr><td>Peanut Butter Cup</td><td>360</td><td>26</td><td>70</td><td>27</td><td>24</td><td>6</td><td>Ice Cream</td><td>0.5</td></tr><tr><td>Phish Food</td><td>280</td><td>13</td><td>35</td><td>39</td><td>28</td><td>4</td><td>Ice Cream</td><td>0.5</td></tr><tr><td>Pistachio Pistachio</td><td>280</td><td>17</td><td>70</td><td>24</td><td>19</td><td>6</td><td>Ice Cream</td><td>0.5</td></tr><tr><td>Red Velvet Cake</td><td>250</td><td>13</td><td>60</td><td>23</td><td>23</td><td>4</td><td>Ice Cream</td><td>0.5</td></tr><tr><td>S'mores</td><td>280</td><td>16</td><td>35</td><td>35</td><td>26</td><td>3</td><td>Ice Cream</td><td>0.5</td></tr><tr><td>Strawberry Cheesecake</td><td>250</td><td>15</td><td>60</td><td>26</td><td>22</td><td>3</td><td>Ice Cream</td><td>0.5</td></tr><tr><td>Triple Caramel Chunk</td><td>280</td><td>16</td><td>65</td><td>32</td><td>25</td><td>3</td><td>Ice Cream</td><td>0.5</td></tr><tr><td>Vanilla</td><td>230</td><td>14</td><td>75</td><td>23</td><td>20</td><td>4</td><td>Ice Cream</td><td>0.5</td></tr><tr><td>Vanilla Caramel Fudge</td><td>280</td><td>14</td><td>70</td><td>34</td><td>27</td><td>4</td><td>Ice Cream</td><td>0.5</td></tr><tr><td>Vanilla Heath Bar Crunch</td><td>280</td><td>17</td><td>65</td><td>30</td><td>27</td><td>4</td><td>Ice Cream</td><td>0.5</td></tr><tr><td>What a Cluster</td><td>320</td><td>19</td><td>45</td><td>31</td><td>23</td><td>7</td><td>Ice Cream</td><td>0.5</td></tr><tr><td>Cherry Garcia Fro Yo</td><td>200</td><td>3</td><td>20</td><td>37</td><td>27</td><td>8</td><td>Ice Cream</td><td>0.5</td></tr><tr><td>Chocolate Fudge Brownie Fro Yo</td><td>180</td><td>2</td><td>15</td><td>35</td><td>25</td><td>5</td><td>Ice Cream</td><td>0.5</td></tr><tr><td>Half Baked Fro Yo</td><td>180</td><td>3</td><td>20</td><td>35</td><td>23</td><td>4</td><td>Ice Cream</td><td>0.5</td></tr><tr><td>Phish Food Fro Yo</td><td>240</td><td>6</td><td>20</td><td>41</td><td>27</td><td>4</td><td>Ice Cream</td><td>0.5</td></tr><tr><td>Blueberry Vanilla Graham Greek Frozen Yogurt</td><td>200</td><td>7</td><td>25</td><td>29</td><td>23</td><td>6</td><td>Ice Cream</td><td>0.5</td></tr><tr><td>Liz Lemon Greek Frozen Yogurt</td><td>180</td><td>4</td><td>30</td><td>29</td><td>21</td><td>6</td><td>Ice Cream</td><td>0.5</td></tr><tr><td>Pineapple Passionfruit Greek Frozen Yogurt</td><td>180</td><td>4</td><td>65</td><td>30</td><td>26</td><td>5</td><td>Ice Cream</td><td>0.5</td></tr><tr><td>Raspberry Fudge Chunk Greek Frozen Yogurt</td><td>200</td><td>7</td><td>25</td><td>29</td><td>25</td><td>6</td><td>Ice Cream</td><td>0.5</td></tr><tr><td>Strawberry Shortcake Greek Frozen Yogurt</td><td>180</td><td>6</td><td>35</td><td>28</td><td>21</td><td>6</td><td>Ice Cream</td><td>0.5</td></tr><tr><td>Vanilla Honey Caramel Greek Frozen Yogurt</td><td>190</td><td>5</td><td>35</td><td>30</td><td>22</td><td>6</td><td>Ice Cream</td><td>0.5</td></tr><tr><td>Americone Dream</td><td>270</td><td>15</td><td>65</td><td>30</td><td>24</td><td>3</td><td>Ice Cream</td><td>0.5</td></tr><tr><td>Boston Cream Pie</td><td>250</td><td>13</td><td>90</td><td>29</td><td>26</td><td>3</td><td>Ice Cream</td><td>0.5</td></tr><tr><td>Cake Batter</td><td>260</td><td>16</td><td>65</td><td>27</td><td>23</td><td>4</td><td>Ice Cream</td><td>0.5</td></tr><tr><td>Cannoli</td><td>280</td><td>16</td><td>65</td><td>28</td><td>23</td><td>4</td><td>Ice Cream</td><td>0.5</td></tr><tr><td>Cheesecake Brownie</td><td>250</td><td>14</td><td>70</td><td>27</td><td>24</td><td>3</td><td>Ice Cream</td><td>0.5</td></tr><tr><td>Cherry Garcia</td><td>240</td><td>13</td><td>60</td><td>28</td><td>23</td><td>4</td><td>Ice Cream</td><td>0.5</td></tr><tr><td>Chocolate</td><td>250</td><td>14</td><td>40</td><td>25</td><td>21</td><td>4</td><td>Ice Cream</td><td>0.5</td></tr><tr><td>Chocolate Chip Cookie Dough</td><td>270</td><td>14</td><td>65</td><td>33</td><td>25</td><td>4</td><td>Ice Cream</td><td>0.5</td></tr><tr><td>Chocolate Fudge Brownie</td><td>260</td><td>12</td><td>40</td><td>34</td><td>27</td><td>4</td><td>Ice Cream</td><td>0.5</td></tr><tr><td>Chocolate Nougat Crunch</td><td>260</td><td>14</td><td>60</td><td>30</td><td>30</td><td>4</td><td>Ice Cream</td><td>0.5</td></tr><tr><td>Chocolate Peppermint Crunch</td><td>290</td><td>16</td><td>45</td><td>33</td><td>28</td><td>4</td><td>Ice Cream</td><td>0.5</td></tr><tr><td>Chocolate Therapy</td><td>240</td><td>13</td><td>45</td><td>27</td><td>21</td><td>4</td><td>Ice Cream</td><td>0.5</td></tr><tr><td>Chubby Hubby</td><td>340</td><td>20</td><td>55</td><td>33</td><td>25</td><td>7</td><td>Ice Cream</td><td>0.5</td></tr><tr><td>Chunky Monkey</td><td>290</td><td>18</td><td>65</td><td>29</td><td>27</td><td>4</td><td>Ice Cream</td><td>0.5</td></tr><tr><td>Cinnamon Buns</td><td>290</td><td>15</td><td>60</td><td>36</td><td>28</td><td>4</td><td>Ice Cream</td><td>0.5</td></tr><tr><td>Coffee Caramel Buzz</td><td>280</td><td>14</td><td>60</td><td>33</td><td>25</td><td>4</td><td>Ice Cream</td><td>0.5</td></tr><tr><td>Coffee Coffee Buzz Buzz Buzz</td><td>260</td><td>16</td><td>65</td><td>27</td><td>24</td><td>4</td><td>Ice Cream</td><td>0.5</td></tr><tr><td>Coffee Heath Bar Crunch</td><td>280</td><td>16</td><td>60</td><td>30</td><td>27</td><td>4</td><td>Ice Cream</td><td>0.5</td></tr><tr><td>Crème Brulée</td><td>280</td><td>16</td><td>90</td><td>31</td><td>28</td><td>3</td><td>Ice Cream</td><td>0.5</td></tr><tr><td>Everything But the . . .</td><td>290</td><td>17</td><td>45</td><td>31</td><td>28</td><td>5</td><td>Ice Cream</td><td>0.5</td></tr><tr><td>Half Baked</td><td>270</td><td>13</td><td>55</td><td>35</td><td>27</td><td>4</td><td>Ice Cream</td><td>0.5</td></tr><tr><td>Imagine Whirled Peace</td><td>270</td><td>16</td><td>75</td><td>27</td><td>23</td><td>3</td><td>Ice Cream</td><td>0.5</td></tr><tr><td>Karamel Sutra</td><td>260</td><td>14</td><td>55</td><td>31</td><td>26</td><td>3</td><td>Ice Cream</td><td>0.5</td></tr><tr><td>Late Night Snack</td><td>270</td><td>15</td><td>60</td><td>31</td><td>21</td><td>4</td><td>Ice Cream</td><td>0.5</td></tr><tr><td>Milk &amp; Cookies</td><td>270</td><td>15</td><td>60</td><td>30</td><td>23</td><td>4</td><td>Ice Cream</td><td>0.5</td></tr><tr><td>Mint Chocolate Cookie</td><td>260</td><td>14</td><td>65</td><td>28</td><td>22</td><td>4</td><td>Ice Cream</td><td>0.5</td></tr><tr><td>Mud Pie</td><td>270</td><td>16</td><td>55</td><td>28</td><td>23</td><td>4</td><td>Ice Cream</td><td>0.5</td></tr><tr><td>New York Super Fudge Chunk</td><td>300</td><td>20</td><td>50</td><td>29</td><td>25</td><td>4</td><td>Ice Cream</td><td>0.5</td></tr><tr><td>Oatmeal Cookie Chunk</td><td>260</td><td>14</td><td>55</td><td>30</td><td>23</td><td>4</td><td>Ice Cream</td><td>0.5</td></tr><tr><td>Peach Cobbler</td><td>220</td><td>11</td><td>50</td><td>28</td><td>26</td><td>3</td><td>Ice Cream</td><td>0.5</td></tr><tr><td>Peanut Brittle</td><td>260</td><td>15</td><td>60</td><td>29</td><td>23</td><td>4</td><td>Ice Cream</td><td>0.5</td></tr><tr><td>Peanut Butter Cup</td><td>360</td><td>26</td><td>70</td><td>27</td><td>24</td><td>6</td><td>Ice Cream</td><td>0.5</td></tr><tr><td>Phish Food</td><td>280</td><td>13</td><td>35</td><td>39</td><td>28</td><td>4</td><td>Ice Cream</td><td>0.5</td></tr><tr><td>Pistachio Pistachio</td><td>280</td><td>17</td><td>70</td><td>24</td><td>19</td><td>6</td><td>Ice Cream</td><td>0.5</td></tr><tr><td>Red Velvet Cake</td><td>250</td><td>13</td><td>60</td><td>23</td><td>23</td><td>4</td><td>Ice Cream</td><td>0.5</td></tr><tr><td>S'mores</td><td>280</td><td>16</td><td>35</td><td>35</td><td>26</td><td>3</td><td>Ice Cream</td><td>0.5</td></tr><tr><td>Strawberry Cheesecake</td><td>250</td><td>15</td><td>60</td><td>26</td><td>22</td><td>3</td><td>Ice Cream</td><td>0.5</td></tr><tr><td>Triple Caramel Chunk</td><td>280</td><td>16</td><td>65</td><td>32</td><td>25</td><td>3</td><td>Ice Cream</td><td>0.5</td></tr><tr><td>Vanilla</td><td>230</td><td>14</td><td>75</td><td>23</td><td>20</td><td>4</td><td>Ice Cream</td><td>0.5</td></tr><tr><td>Vanilla Caramel Fudge</td><td>280</td><td>14</td><td>70</td><td>34</td><td>27</td><td>4</td><td>Ice Cream</td><td>0.5</td></tr><tr><td>Vanilla Heath Bar Crunch</td><td>280</td><td>17</td><td>65</td><td>30</td><td>27</td><td>4</td><td>Ice Cream</td><td>0.5</td></tr><tr><td>What a Cluster</td><td>320</td><td>19</td><td>45</td><td>31</td><td>23</td><td>7</td><td>Ice Cream</td><td>0.5</td></tr><tr><td>Cherry Garcia Fro Yo</td><td>200</td><td>3</td><td>20</td><td>37</td><td>27</td><td>8</td><td>Ice Cream</td><td>0.5</td></tr><tr><td>Chocolate Fudge Brownie Fro Yo</td><td>180</td><td>2</td><td>15</td><td>35</td><td>25</td><td>5</td><td>Ice Cream</td><td>0.5</td></tr><tr><td>Half Baked Fro Yo</td><td>180</td><td>3</td><td>20</td><td>35</td><td>23</td><td>4</td><td>Ice Cream</td><td>0.5</td></tr><tr><td>Phish Food Fro Yo</td><td>240</td><td>6</td><td>20</td><td>41</td><td>27</td><td>4</td><td>Ice Cream</td><td>0.5</td></tr><tr><td>Blueberry Vanilla Graham Greek Frozen Yogurt</td><td>200</td><td>7</td><td>25</td><td>29</td><td>23</td><td>6</td><td>Ice Cream</td><td>0.5</td></tr><tr><td>Liz Lemon Greek Frozen Yogurt</td><td>180</td><td>4</td><td>30</td><td>29</td><td>21</td><td>6</td><td>Ice Cream</td><td>0.5</td></tr><tr><td>Pineapple Passionfruit Greek Frozen Yogurt</td><td>180</td><td>4</td><td>65</td><td>30</td><td>26</td><td>5</td><td>Ice Cream</td><td>0.5</td></tr><tr><td>Raspberry Fudge Chunk Greek Frozen Yogurt</td><td>200</td><td>7</td><td>25</td><td>29</td><td>25</td><td>6</td><td>Ice Cream</td><td>0.5</td></tr><tr><td>Strawberry Shortcake Greek Frozen Yogurt</td><td>180</td><td>6</td><td>35</td><td>28</td><td>21</td><td>6</td><td>Ice Cream</td><td>0.5</td></tr><tr><td>Vanilla Honey Caramel Greek Frozen Yogurt</td><td>190</td><td>5</td><td>35</td><td>30</td><td>22</td><td>6</td><td>Ice Cream</td><td>0.5</td></tr></table>"
                    },
                    "metadata": {}
                }
            ],
            "execution_count": 10
        }
    ]
}